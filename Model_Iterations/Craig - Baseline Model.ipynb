{
 "cells": [
  {
   "cell_type": "markdown",
   "id": "b07d3214",
   "metadata": {},
   "source": [
    "# Baseline Model"
   ]
  },
  {
   "cell_type": "code",
   "execution_count": 2,
   "id": "9ffa1d4b",
   "metadata": {},
   "outputs": [],
   "source": [
    "import pandas as pd\n",
    "import numpy as np\n",
    "import psycopg2\n",
    "import matplotlib.pyplot as plt\n",
    "import seaborn as sns\n",
    "%matplotlib inline\n",
    "import datetime\n",
    "from scipy import stats\n",
    "from sklearn.model_selection import train_test_split"
   ]
  },
  {
   "cell_type": "code",
   "execution_count": 3,
   "id": "9b698746",
   "metadata": {},
   "outputs": [],
   "source": [
    "data_flight_info = pd.read_csv('/Users/craiglynch/Desktop/Lighthouse_Labs/Mid-term_Project/mid-term-project-I-master/Regression_no_outliers_cleaned_data_01.csv', sep = ',')"
   ]
  },
  {
   "cell_type": "code",
   "execution_count": 4,
   "id": "4ef9edb1",
   "metadata": {},
   "outputs": [
    {
     "data": {
      "text/plain": [
       "fl_date                0\n",
       "mkt_unique_carrier     0\n",
       "op_unique_carrier      0\n",
       "op_carrier_fl_num      0\n",
       "origin                 0\n",
       "crs_dep_time           0\n",
       "dep_time               0\n",
       "dep_delay              0\n",
       "dest                   0\n",
       "arr_time               0\n",
       "arr_delay              0\n",
       "crs_arr_time           0\n",
       "crs_elapsed_time       0\n",
       "actual_elapsed_time    0\n",
       "distance               0\n",
       "carrier_delay          0\n",
       "weather_delay          0\n",
       "nas_delay              0\n",
       "security_delay         0\n",
       "late_aircraft_delay    0\n",
       "year                   0\n",
       "month                  0\n",
       "day                    0\n",
       "weekday                0\n",
       "dtype: int64"
      ]
     },
     "execution_count": 4,
     "metadata": {},
     "output_type": "execute_result"
    }
   ],
   "source": [
    "df_flight_info = data_flight_info.copy()\n",
    "df_flight_info.isnull().sum()"
   ]
  },
  {
   "cell_type": "code",
   "execution_count": 5,
   "id": "804ee23c",
   "metadata": {},
   "outputs": [],
   "source": [
    "# Getting Average Carrier Delay - Grouped by Carrier\n",
    "carrier_grouped = df_flight_info.groupby(by='op_unique_carrier').mean()\n",
    "carrier_grouped.reset_index(inplace=True)\n",
    "carrier_grouped['total_carrier_delay'] = carrier_grouped['carrier_delay'] + carrier_grouped['late_aircraft_delay']\n",
    "carrier_grouped = carrier_grouped[['op_unique_carrier', 'total_carrier_delay']]\n",
    "df_flight_info = df_flight_info.drop(['carrier_delay','late_aircraft_delay'],axis=1) "
   ]
  },
  {
   "cell_type": "markdown",
   "id": "f0b264c3",
   "metadata": {},
   "source": [
    "# Model Training"
   ]
  },
  {
   "cell_type": "code",
   "execution_count": 6,
   "id": "c47ecb8e",
   "metadata": {},
   "outputs": [],
   "source": [
    "from sklearn.ensemble import RandomForestRegressor\n",
    "from sklearn.metrics import roc_auc_score\n",
    "from sklearn.metrics import confusion_matrix\n",
    "from sklearn.metrics import mean_squared_error\n",
    "from sklearn.linear_model import LinearRegression\n",
    "from sklearn.preprocessing import StandardScaler\n",
    "from sklearn.naive_bayes import GaussianNB\n",
    "from sklearn.metrics import accuracy_score, recall_score, precision_score, r2_score, f1_score\n",
    "import xgboost as xgb\n",
    "from sklearn.linear_model import LogisticRegression\n",
    "from sklearn.dummy import DummyRegressor\n",
    "from sklearn.cluster import KMeans\n",
    "from sklearn.model_selection import GridSearchCV\n",
    "from sklearn.preprocessing import OneHotEncoder, LabelEncoder\n",
    "from sklearn.linear_model import Ridge, LinearRegression, Lasso\n",
    "from sklearn.preprocessing import PolynomialFeatures\n",
    "from sklearn.utils import shuffle"
   ]
  },
  {
   "cell_type": "markdown",
   "id": "fcd8a6c9",
   "metadata": {},
   "source": [
    "## Feature Engineered Dataset"
   ]
  },
  {
   "cell_type": "markdown",
   "id": "f3bab044",
   "metadata": {},
   "source": [
    "####  with Flight Number (onehot), average_route_time, total_security_delay, total_nas_delay"
   ]
  },
  {
   "cell_type": "code",
   "execution_count": 7,
   "id": "ad2c99e2",
   "metadata": {},
   "outputs": [],
   "source": [
    "#### Shuffling dataset so model doesn't train on pattern"
   ]
  },
  {
   "cell_type": "code",
   "execution_count": 8,
   "id": "b14df273",
   "metadata": {},
   "outputs": [],
   "source": [
    "df_flight_info = shuffle(df_flight_info)\n",
    "X = df_flight_info[['crs_dep_time','crs_elapsed_time','crs_arr_time','distance','year','month','day','weekday']]\n",
    "y = df_flight_info['arr_delay']"
   ]
  },
  {
   "cell_type": "code",
   "execution_count": 9,
   "id": "d1521ac8",
   "metadata": {},
   "outputs": [
    {
     "data": {
      "text/plain": [
       "(578888, 8)"
      ]
     },
     "execution_count": 9,
     "metadata": {},
     "output_type": "execute_result"
    }
   ],
   "source": [
    "X.shape"
   ]
  },
  {
   "cell_type": "code",
   "execution_count": 10,
   "id": "55bb3e28",
   "metadata": {},
   "outputs": [],
   "source": [
    "# Split dataset into training set and test set\n",
    "X_train, X_test, y_train, y_test = train_test_split(X, y, test_size=0.3) # 70% training and 30% test"
   ]
  },
  {
   "cell_type": "markdown",
   "id": "1f8b9d5d",
   "metadata": {},
   "source": [
    "##### LightGBM"
   ]
  },
  {
   "cell_type": "code",
   "execution_count": 44,
   "id": "1290f71a",
   "metadata": {},
   "outputs": [
    {
     "name": "stdout",
     "output_type": "stream",
     "text": [
      "[LightGBM] [Warning] Auto-choosing row-wise multi-threading, the overhead of testing was 0.003067 seconds.\n",
      "You can set `force_row_wise=true` to remove the overhead.\n",
      "And if memory is not enough, you can set `force_col_wise=true`.\n",
      "[LightGBM] [Info] Total Bins 1067\n",
      "[LightGBM] [Info] Number of data points in the train set: 405221, number of used features: 8\n",
      "[LightGBM] [Info] Start training from score 5.764284\n",
      "Model RMSE is:  41.958851494727206\n",
      "Model R2 Score is:  0.04061579104314583\n"
     ]
    },
    {
     "data": {
      "image/png": "[encoded data removed]",
      "text/plain": [
       "<Figure size 432x288 with 1 Axes>"
      ]
     },
     "metadata": {
      "needs_background": "light"
     },
     "output_type": "display_data"
    }
   ],
   "source": [
    "import lightgbm as lgb\n",
    "d_train = lgb.Dataset(X_train, label=y_train)\n",
    "params = {}\n",
    "params['learning_rate'] = 0.08\n",
    "params['boosting_type'] = 'gbdt'\n",
    "#params['boosting_type'] = 'dart'\n",
    "params['objective'] = 'regression'\n",
    "params['metric'] = 'mse'\n",
    "params['sub_feature'] = 0.5\n",
    "params['num_leaves'] = 100\n",
    "params['min_data'] = 5\n",
    "params['max_depth'] = 100\n",
    "y_train=y_train.ravel()\n",
    "reg= lgb.train(params, d_train, 100)\n",
    "results=reg.predict(X_test)\n",
    "print('Model RMSE is: ',np.sqrt(mean_squared_error(y_test, results)))\n",
    "print('Model R2 Score is: ',r2_score(y_test,results))\n",
    "\n",
    "plot_importance(reg)\n",
    "plt.show()"
   ]
  },
  {
   "cell_type": "markdown",
   "id": "7ad6e4ec",
   "metadata": {},
   "source": [
    "##### XGBoost"
   ]
  },
  {
   "cell_type": "code",
   "execution_count": 45,
   "id": "c6515e9e",
   "metadata": {},
   "outputs": [
    {
     "name": "stdout",
     "output_type": "stream",
     "text": [
      "Model RMSE is:  42.57336685577219\n",
      "Model R2 Score is:  0.012308364351432899\n"
     ]
    }
   ],
   "source": [
    "data_dmatrix = xgb.DMatrix(data=X,label=y)\n",
    "xg_reg = xgb.XGBRegressor(objective ='reg:squarederror', colsample_bytree = 0.3, learning_rate = 0.1,\n",
    "                max_depth = 5, alpha = 10, n_estimators = 10)\n",
    "xg_reg.fit(X_test,y_test)\n",
    "\n",
    "y_pred_xgb = xg_reg.predict(X_test)\n",
    "\n",
    "print('Model RMSE is: ',np.sqrt(mean_squared_error(y_test, y_pred_xgb)))\n",
    "print('Model R2 Score is: ',r2_score(y_test,y_pred_xgb))"
   ]
  },
  {
   "cell_type": "code",
   "execution_count": 46,
   "id": "d40e0d38",
   "metadata": {},
   "outputs": [
    {
     "data": {
      "image/png": "[encoded data removed]",
      "text/plain": [
       "<Figure size 432x288 with 1 Axes>"
      ]
     },
     "metadata": {
      "needs_background": "light"
     },
     "output_type": "display_data"
    }
   ],
   "source": [
    "#Examine the importance of each feature column in the original data set with the model\n",
    "xgb.plot_importance(xg_reg)\n",
    "plt.rcParams['figure.figsize'] = [50, 50]\n",
    "plt.show()"
   ]
  },
  {
   "cell_type": "markdown",
   "id": "c5b664b6",
   "metadata": {},
   "source": [
    "##### Linear Regression"
   ]
  },
  {
   "cell_type": "code",
   "execution_count": 11,
   "id": "6b2c6266",
   "metadata": {},
   "outputs": [
    {
     "name": "stdout",
     "output_type": "stream",
     "text": [
      "Model RMSE is:  42.95885333539575\n",
      "Model R2 Score is:  0.012317816661276626\n"
     ]
    }
   ],
   "source": [
    "from sklearn.preprocessing import StandardScaler\n",
    "scaler = StandardScaler()\n",
    "X=scaler.fit_transform(X)\n",
    "\n",
    "# Split dataset into training set and test set\n",
    "X_train, X_test, y_train, y_test = train_test_split(X, y, test_size=0.3) # 70% training and 30% test\n",
    "\n",
    "# creating linear regression\n",
    "lr = LinearRegression()\n",
    "lr.fit(X_train,y_train)\n",
    "y_lr = lr.predict(X_test)\n",
    "\n",
    "print('Model RMSE is: ',np.sqrt(mean_squared_error(y_test, y_lr)))\n",
    "print('Model R2 Score is: ',r2_score(y_test,y_lr))"
   ]
  },
  {
   "cell_type": "markdown",
   "id": "79f1d56c",
   "metadata": {},
   "source": [
    "##### Ridge/Lasso Regression"
   ]
  },
  {
   "cell_type": "code",
   "execution_count": 16,
   "id": "6daef295",
   "metadata": {},
   "outputs": [
    {
     "name": "stdout",
     "output_type": "stream",
     "text": [
      "Model RMSE is:  42.95886730894122\n",
      "Model R2 Score is:  0.012317174119724439\n",
      "Model RMSE is:  42.97763976657027\n",
      "Model R2 Score is:  0.011453776814409844\n"
     ]
    }
   ],
   "source": [
    "ridgereg = Ridge(alpha=0.001,normalize=True)\n",
    "ridge = ridgereg.fit(X_train,y_train)\n",
    "y_pred_ridge = ridge.predict(X_test)\n",
    "print('Model RMSE is: ',np.sqrt(mean_squared_error(y_test, y_pred_ridge)))\n",
    "print('Model R2 Score is: ',r2_score(y_test,y_pred_ridge))\n",
    "\n",
    "lassoreg = Lasso(alpha=0.001,normalize=True)\n",
    "lasso = lassoreg.fit(X_train,y_train)\n",
    "y_pred_lasso = lasso.predict(X_test)\n",
    "print('Model RMSE is: ',np.sqrt(mean_squared_error(y_test, y_pred_lasso)))\n",
    "print('Model R2 Score is: ',r2_score(y_test,y_pred_lasso))"
   ]
  },
  {
   "cell_type": "code",
   "execution_count": 18,
   "id": "242b737c",
   "metadata": {},
   "outputs": [],
   "source": []
  },
  {
   "cell_type": "markdown",
   "id": "f594e4f1",
   "metadata": {},
   "source": [
    "##### Random Forest"
   ]
  },
  {
   "cell_type": "code",
   "execution_count": 19,
   "id": "516d646a",
   "metadata": {},
   "outputs": [],
   "source": [
    "#Create a Gaussian Regressor\n",
    "clf=RandomForestRegressor(n_estimators=100)"
   ]
  },
  {
   "cell_type": "code",
   "execution_count": 20,
   "id": "59d693c2",
   "metadata": {},
   "outputs": [
    {
     "data": {
      "text/plain": [
       "RandomForestRegressor()"
      ]
     },
     "execution_count": 20,
     "metadata": {},
     "output_type": "execute_result"
    }
   ],
   "source": [
    "#Train the model using the training sets \n",
    "clf.fit(X_train,y_train)"
   ]
  },
  {
   "cell_type": "code",
   "execution_count": 21,
   "id": "ec75cf79",
   "metadata": {},
   "outputs": [],
   "source": [
    "y_pred=clf.predict(X_test)"
   ]
  },
  {
   "cell_type": "code",
   "execution_count": 22,
   "id": "d67c3055",
   "metadata": {},
   "outputs": [
    {
     "name": "stdout",
     "output_type": "stream",
     "text": [
      "Model RMSE is:  44.296988970266796\n",
      "Model R2 Score is:  -0.020367116177496092\n"
     ]
    }
   ],
   "source": [
    "print('Model RMSE is: ',np.sqrt(mean_squared_error(y_test, y_pred)))\n",
    "print('Model R2 Score is: ',r2_score(y_test,y_pred))"
   ]
  }
 ],
 "metadata": {
  "kernelspec": {
   "display_name": "LighthouseLabs",
   "language": "python",
   "name": "lighthouselabs"
  },
  "language_info": {
   "codemirror_mode": {
    "name": "ipython",
    "version": 3
   },
   "file_extension": ".py",
   "mimetype": "text/x-python",
   "name": "python",
   "nbconvert_exporter": "python",
   "pygments_lexer": "ipython3",
   "version": "3.8.2"
  }
 },
 "nbformat": 4,
 "nbformat_minor": 5
}
