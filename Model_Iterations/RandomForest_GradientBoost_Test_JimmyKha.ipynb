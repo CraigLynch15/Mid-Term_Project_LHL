{
  "nbformat": 4,
  "nbformat_minor": 0,
  "metadata": {
    "colab": {
      "name": "testData.ipynb",
      "provenance": [],
      "collapsed_sections": []
    },
    "kernelspec": {
      "name": "python3",
      "display_name": "Python 3"
    },
    "language_info": {
      "name": "python"
    }
  },
  "cells": [
    {
      "cell_type": "code",
      "metadata": {
        "id": "-3za-mt33Gvi"
      },
      "source": [
        "from google.colab import drive\n",
        "drive.mount('/gdrive')\n",
        "%cd /gdrive"
      ],
      "execution_count": null,
      "outputs": []
    },
    {
      "cell_type": "code",
      "metadata": {
        "id": "GuF1tu_43Xjy",
        "colab": {
          "base_uri": "https://localhost:8080/"
        },
        "outputId": "58d0e729-f21a-49f9-9c93-6dbf41a4c799"
      },
      "source": [
        "import pandas as pd \n",
        "from sklearn.ensemble import RandomForestRegressor\n",
        "from sklearn.metrics import mean_squared_error\n",
        "import numpy as np\n",
        "from sklearn.model_selection import train_test_split\n",
        "df = pd.read_csv('/gdrive/MyDrive/training_data_outliers_removed.csv')\n",
        "df['average_delay'] = df['carrier_delay'] + df['nas_delay'] + df['late_aircraft_delay']\n",
        "X = df[['crs_arr_time','actual_elapsed_time','distance','year','month','day','weekday','average_delay']]\n",
        "y = df['arr_delay']\n",
        "reg = RandomForestRegressor(n_estimators=100)\n",
        "X_train, X_test, y_train, y_test = train_test_split(X, y, test_size=0.3)\n",
        "reg.fit(X_train,y_train)\n",
        "\n",
        "y_pred=reg.predict(X_test)\n",
        "rmse = np.sqrt(mean_squared_error(y_test, y_pred))\n",
        "rmse"
      ],
      "execution_count": 2,
      "outputs": [
        {
          "output_type": "execute_result",
          "data": {
            "text/plain": [
              "14.288903426102456"
            ]
          },
          "metadata": {
            "tags": []
          },
          "execution_count": 2
        }
      ]
    },
    {
      "cell_type": "code",
      "metadata": {
        "id": "noDBT0PeHatl"
      },
      "source": [
        "df = pd.read_csv('/gdrive/MyDrive/training_data_outliers_removed.csv')"
      ],
      "execution_count": 43,
      "outputs": []
    },
    {
      "cell_type": "code",
      "metadata": {
        "id": "DMyGb1Gi3dYA"
      },
      "source": [
        "import sklearn.preprocessing\n",
        "from sklearn.linear_model import LogisticRegression\n",
        "import matplotlib.pyplot as plt"
      ],
      "execution_count": 39,
      "outputs": []
    },
    {
      "cell_type": "code",
      "metadata": {
        "id": "QR-k91aAD8V0"
      },
      "source": [
        "df['sumDelays'] = df['carrier_delay'] + df['weather_delay'] + df['nas_delay']+ df['security_delay']+ df['late_aircraft_delay']"
      ],
      "execution_count": 45,
      "outputs": []
    },
    {
      "cell_type": "code",
      "metadata": {
        "id": "0LPuP5s_M7qH"
      },
      "source": [
        "df['dep_time'] = df['dep_time'].astype(float).astype(int).apply(lambda x: '{0:0>4}'.format(x)).astype(str)"
      ],
      "execution_count": 46,
      "outputs": []
    },
    {
      "cell_type": "code",
      "metadata": {
        "colab": {
          "base_uri": "https://localhost:8080/",
          "height": 444
        },
        "id": "eMLLOP58OnTu",
        "outputId": "95f6bb7c-a031-46f5-97f3-8e6f6af22881"
      },
      "source": [
        "df"
      ],
      "execution_count": 47,
      "outputs": [
        {
          "output_type": "execute_result",
          "data": {
            "text/html": [
              "<div>\n",
              "<style scoped>\n",
              "    .dataframe tbody tr th:only-of-type {\n",
              "        vertical-align: middle;\n",
              "    }\n",
              "\n",
              "    .dataframe tbody tr th {\n",
              "        vertical-align: top;\n",
              "    }\n",
              "\n",
              "    .dataframe thead th {\n",
              "        text-align: right;\n",
              "    }\n",
              "</style>\n",
              "<table border=\"1\" class=\"dataframe\">\n",
              "  <thead>\n",
              "    <tr style=\"text-align: right;\">\n",
              "      <th></th>\n",
              "      <th>fl_date</th>\n",
              "      <th>mkt_unique_carrier</th>\n",
              "      <th>op_unique_carrier</th>\n",
              "      <th>origin</th>\n",
              "      <th>dep_time</th>\n",
              "      <th>dep_delay</th>\n",
              "      <th>dest</th>\n",
              "      <th>arr_time</th>\n",
              "      <th>arr_delay</th>\n",
              "      <th>crs_arr_time</th>\n",
              "      <th>actual_elapsed_time</th>\n",
              "      <th>distance</th>\n",
              "      <th>carrier_delay</th>\n",
              "      <th>weather_delay</th>\n",
              "      <th>nas_delay</th>\n",
              "      <th>security_delay</th>\n",
              "      <th>late_aircraft_delay</th>\n",
              "      <th>year</th>\n",
              "      <th>month</th>\n",
              "      <th>day</th>\n",
              "      <th>weekday</th>\n",
              "      <th>sumDelays</th>\n",
              "    </tr>\n",
              "  </thead>\n",
              "  <tbody>\n",
              "    <tr>\n",
              "      <th>0</th>\n",
              "      <td>2018-08-26</td>\n",
              "      <td>AS</td>\n",
              "      <td>AS</td>\n",
              "      <td>PDX</td>\n",
              "      <td>1717</td>\n",
              "      <td>-3.0</td>\n",
              "      <td>LAX</td>\n",
              "      <td>1936.0</td>\n",
              "      <td>-5.0</td>\n",
              "      <td>1941</td>\n",
              "      <td>139.0</td>\n",
              "      <td>834.0</td>\n",
              "      <td>0.0</td>\n",
              "      <td>0.0</td>\n",
              "      <td>0.0</td>\n",
              "      <td>0.0</td>\n",
              "      <td>0.0</td>\n",
              "      <td>2018</td>\n",
              "      <td>8</td>\n",
              "      <td>26</td>\n",
              "      <td>1.0</td>\n",
              "      <td>0.0</td>\n",
              "    </tr>\n",
              "    <tr>\n",
              "      <th>1</th>\n",
              "      <td>2018-05-24</td>\n",
              "      <td>UA</td>\n",
              "      <td>OO</td>\n",
              "      <td>DEN</td>\n",
              "      <td>1750</td>\n",
              "      <td>0.0</td>\n",
              "      <td>PSP</td>\n",
              "      <td>1913.0</td>\n",
              "      <td>3.0</td>\n",
              "      <td>1910</td>\n",
              "      <td>143.0</td>\n",
              "      <td>776.0</td>\n",
              "      <td>0.0</td>\n",
              "      <td>0.0</td>\n",
              "      <td>0.0</td>\n",
              "      <td>0.0</td>\n",
              "      <td>0.0</td>\n",
              "      <td>2018</td>\n",
              "      <td>5</td>\n",
              "      <td>24</td>\n",
              "      <td>0.0</td>\n",
              "      <td>0.0</td>\n",
              "    </tr>\n",
              "    <tr>\n",
              "      <th>2</th>\n",
              "      <td>2019-01-10</td>\n",
              "      <td>AA</td>\n",
              "      <td>PT</td>\n",
              "      <td>CLT</td>\n",
              "      <td>1105</td>\n",
              "      <td>-4.0</td>\n",
              "      <td>ROA</td>\n",
              "      <td>1200.0</td>\n",
              "      <td>-16.0</td>\n",
              "      <td>1216</td>\n",
              "      <td>55.0</td>\n",
              "      <td>155.0</td>\n",
              "      <td>0.0</td>\n",
              "      <td>0.0</td>\n",
              "      <td>0.0</td>\n",
              "      <td>0.0</td>\n",
              "      <td>0.0</td>\n",
              "      <td>2019</td>\n",
              "      <td>1</td>\n",
              "      <td>10</td>\n",
              "      <td>0.0</td>\n",
              "      <td>0.0</td>\n",
              "    </tr>\n",
              "    <tr>\n",
              "      <th>3</th>\n",
              "      <td>2018-07-09</td>\n",
              "      <td>WN</td>\n",
              "      <td>WN</td>\n",
              "      <td>ELP</td>\n",
              "      <td>0554</td>\n",
              "      <td>-1.0</td>\n",
              "      <td>LAS</td>\n",
              "      <td>623.0</td>\n",
              "      <td>-12.0</td>\n",
              "      <td>635</td>\n",
              "      <td>89.0</td>\n",
              "      <td>583.0</td>\n",
              "      <td>0.0</td>\n",
              "      <td>0.0</td>\n",
              "      <td>0.0</td>\n",
              "      <td>0.0</td>\n",
              "      <td>0.0</td>\n",
              "      <td>2018</td>\n",
              "      <td>7</td>\n",
              "      <td>9</td>\n",
              "      <td>0.0</td>\n",
              "      <td>0.0</td>\n",
              "    </tr>\n",
              "    <tr>\n",
              "      <th>4</th>\n",
              "      <td>2019-07-09</td>\n",
              "      <td>DL</td>\n",
              "      <td>9E</td>\n",
              "      <td>LGA</td>\n",
              "      <td>1629</td>\n",
              "      <td>0.0</td>\n",
              "      <td>BNA</td>\n",
              "      <td>1759.0</td>\n",
              "      <td>-12.0</td>\n",
              "      <td>1811</td>\n",
              "      <td>150.0</td>\n",
              "      <td>764.0</td>\n",
              "      <td>0.0</td>\n",
              "      <td>0.0</td>\n",
              "      <td>0.0</td>\n",
              "      <td>0.0</td>\n",
              "      <td>0.0</td>\n",
              "      <td>2019</td>\n",
              "      <td>7</td>\n",
              "      <td>9</td>\n",
              "      <td>0.0</td>\n",
              "      <td>0.0</td>\n",
              "    </tr>\n",
              "    <tr>\n",
              "      <th>...</th>\n",
              "      <td>...</td>\n",
              "      <td>...</td>\n",
              "      <td>...</td>\n",
              "      <td>...</td>\n",
              "      <td>...</td>\n",
              "      <td>...</td>\n",
              "      <td>...</td>\n",
              "      <td>...</td>\n",
              "      <td>...</td>\n",
              "      <td>...</td>\n",
              "      <td>...</td>\n",
              "      <td>...</td>\n",
              "      <td>...</td>\n",
              "      <td>...</td>\n",
              "      <td>...</td>\n",
              "      <td>...</td>\n",
              "      <td>...</td>\n",
              "      <td>...</td>\n",
              "      <td>...</td>\n",
              "      <td>...</td>\n",
              "      <td>...</td>\n",
              "      <td>...</td>\n",
              "    </tr>\n",
              "    <tr>\n",
              "      <th>978871</th>\n",
              "      <td>2018-08-29</td>\n",
              "      <td>AA</td>\n",
              "      <td>AA</td>\n",
              "      <td>DCA</td>\n",
              "      <td>1223</td>\n",
              "      <td>-7.0</td>\n",
              "      <td>BOS</td>\n",
              "      <td>1343.0</td>\n",
              "      <td>-17.0</td>\n",
              "      <td>1400</td>\n",
              "      <td>80.0</td>\n",
              "      <td>399.0</td>\n",
              "      <td>0.0</td>\n",
              "      <td>0.0</td>\n",
              "      <td>0.0</td>\n",
              "      <td>0.0</td>\n",
              "      <td>0.0</td>\n",
              "      <td>2018</td>\n",
              "      <td>8</td>\n",
              "      <td>29</td>\n",
              "      <td>0.0</td>\n",
              "      <td>0.0</td>\n",
              "    </tr>\n",
              "    <tr>\n",
              "      <th>978872</th>\n",
              "      <td>2018-02-11</td>\n",
              "      <td>UA</td>\n",
              "      <td>OO</td>\n",
              "      <td>DCA</td>\n",
              "      <td>2043</td>\n",
              "      <td>3.0</td>\n",
              "      <td>ORD</td>\n",
              "      <td>2144.0</td>\n",
              "      <td>-15.0</td>\n",
              "      <td>2159</td>\n",
              "      <td>121.0</td>\n",
              "      <td>612.0</td>\n",
              "      <td>0.0</td>\n",
              "      <td>0.0</td>\n",
              "      <td>0.0</td>\n",
              "      <td>0.0</td>\n",
              "      <td>0.0</td>\n",
              "      <td>2018</td>\n",
              "      <td>2</td>\n",
              "      <td>11</td>\n",
              "      <td>1.0</td>\n",
              "      <td>0.0</td>\n",
              "    </tr>\n",
              "    <tr>\n",
              "      <th>978873</th>\n",
              "      <td>2018-10-29</td>\n",
              "      <td>WN</td>\n",
              "      <td>WN</td>\n",
              "      <td>SFO</td>\n",
              "      <td>1926</td>\n",
              "      <td>-9.0</td>\n",
              "      <td>SAN</td>\n",
              "      <td>2054.0</td>\n",
              "      <td>-16.0</td>\n",
              "      <td>2110</td>\n",
              "      <td>88.0</td>\n",
              "      <td>447.0</td>\n",
              "      <td>0.0</td>\n",
              "      <td>0.0</td>\n",
              "      <td>0.0</td>\n",
              "      <td>0.0</td>\n",
              "      <td>0.0</td>\n",
              "      <td>2018</td>\n",
              "      <td>10</td>\n",
              "      <td>29</td>\n",
              "      <td>0.0</td>\n",
              "      <td>0.0</td>\n",
              "    </tr>\n",
              "    <tr>\n",
              "      <th>978874</th>\n",
              "      <td>2019-03-28</td>\n",
              "      <td>UA</td>\n",
              "      <td>UA</td>\n",
              "      <td>EWR</td>\n",
              "      <td>1658</td>\n",
              "      <td>-5.0</td>\n",
              "      <td>MCO</td>\n",
              "      <td>1945.0</td>\n",
              "      <td>-8.0</td>\n",
              "      <td>1953</td>\n",
              "      <td>167.0</td>\n",
              "      <td>937.0</td>\n",
              "      <td>0.0</td>\n",
              "      <td>0.0</td>\n",
              "      <td>0.0</td>\n",
              "      <td>0.0</td>\n",
              "      <td>0.0</td>\n",
              "      <td>2019</td>\n",
              "      <td>3</td>\n",
              "      <td>28</td>\n",
              "      <td>0.0</td>\n",
              "      <td>0.0</td>\n",
              "    </tr>\n",
              "    <tr>\n",
              "      <th>978875</th>\n",
              "      <td>2018-05-03</td>\n",
              "      <td>AA</td>\n",
              "      <td>OH</td>\n",
              "      <td>GNV</td>\n",
              "      <td>1950</td>\n",
              "      <td>1.0</td>\n",
              "      <td>CLT</td>\n",
              "      <td>2123.0</td>\n",
              "      <td>4.0</td>\n",
              "      <td>2119</td>\n",
              "      <td>93.0</td>\n",
              "      <td>388.0</td>\n",
              "      <td>0.0</td>\n",
              "      <td>0.0</td>\n",
              "      <td>0.0</td>\n",
              "      <td>0.0</td>\n",
              "      <td>0.0</td>\n",
              "      <td>2018</td>\n",
              "      <td>5</td>\n",
              "      <td>3</td>\n",
              "      <td>0.0</td>\n",
              "      <td>0.0</td>\n",
              "    </tr>\n",
              "  </tbody>\n",
              "</table>\n",
              "<p>978876 rows × 22 columns</p>\n",
              "</div>"
            ],
            "text/plain": [
              "           fl_date mkt_unique_carrier  ... weekday sumDelays\n",
              "0       2018-08-26                 AS  ...     1.0       0.0\n",
              "1       2018-05-24                 UA  ...     0.0       0.0\n",
              "2       2019-01-10                 AA  ...     0.0       0.0\n",
              "3       2018-07-09                 WN  ...     0.0       0.0\n",
              "4       2019-07-09                 DL  ...     0.0       0.0\n",
              "...            ...                ...  ...     ...       ...\n",
              "978871  2018-08-29                 AA  ...     0.0       0.0\n",
              "978872  2018-02-11                 UA  ...     1.0       0.0\n",
              "978873  2018-10-29                 WN  ...     0.0       0.0\n",
              "978874  2019-03-28                 UA  ...     0.0       0.0\n",
              "978875  2018-05-03                 AA  ...     0.0       0.0\n",
              "\n",
              "[978876 rows x 22 columns]"
            ]
          },
          "metadata": {
            "tags": []
          },
          "execution_count": 47
        }
      ]
    },
    {
      "cell_type": "code",
      "metadata": {
        "id": "qE8X2Nmq7ZJ7"
      },
      "source": [
        "df['dep_hour'] = df['dep_time'].astype(str).str[:2].astype(int)"
      ],
      "execution_count": 48,
      "outputs": []
    },
    {
      "cell_type": "code",
      "metadata": {
        "id": "x9sON7su2e1_"
      },
      "source": [
        "df['Weekday'] = pd.to_datetime(df['fl_date']).dt.dayofweek"
      ],
      "execution_count": 49,
      "outputs": []
    },
    {
      "cell_type": "code",
      "metadata": {
        "id": "WwiWnQ6K5R-v"
      },
      "source": [
        "df['Season']= (pd.to_datetime(df['fl_date']).dt.month - 1) // 3"
      ],
      "execution_count": 50,
      "outputs": []
    },
    {
      "cell_type": "code",
      "metadata": {
        "colab": {
          "base_uri": "https://localhost:8080/",
          "height": 444
        },
        "id": "T_E_Cnv8ANah",
        "outputId": "06038c56-0eb2-4ac9-a8eb-e036216e278b"
      },
      "source": [
        "df"
      ],
      "execution_count": 51,
      "outputs": [
        {
          "output_type": "execute_result",
          "data": {
            "text/html": [
              "<div>\n",
              "<style scoped>\n",
              "    .dataframe tbody tr th:only-of-type {\n",
              "        vertical-align: middle;\n",
              "    }\n",
              "\n",
              "    .dataframe tbody tr th {\n",
              "        vertical-align: top;\n",
              "    }\n",
              "\n",
              "    .dataframe thead th {\n",
              "        text-align: right;\n",
              "    }\n",
              "</style>\n",
              "<table border=\"1\" class=\"dataframe\">\n",
              "  <thead>\n",
              "    <tr style=\"text-align: right;\">\n",
              "      <th></th>\n",
              "      <th>fl_date</th>\n",
              "      <th>mkt_unique_carrier</th>\n",
              "      <th>op_unique_carrier</th>\n",
              "      <th>origin</th>\n",
              "      <th>dep_time</th>\n",
              "      <th>dep_delay</th>\n",
              "      <th>dest</th>\n",
              "      <th>arr_time</th>\n",
              "      <th>arr_delay</th>\n",
              "      <th>crs_arr_time</th>\n",
              "      <th>actual_elapsed_time</th>\n",
              "      <th>distance</th>\n",
              "      <th>carrier_delay</th>\n",
              "      <th>weather_delay</th>\n",
              "      <th>nas_delay</th>\n",
              "      <th>security_delay</th>\n",
              "      <th>late_aircraft_delay</th>\n",
              "      <th>year</th>\n",
              "      <th>month</th>\n",
              "      <th>day</th>\n",
              "      <th>weekday</th>\n",
              "      <th>sumDelays</th>\n",
              "      <th>dep_hour</th>\n",
              "      <th>Weekday</th>\n",
              "      <th>Season</th>\n",
              "    </tr>\n",
              "  </thead>\n",
              "  <tbody>\n",
              "    <tr>\n",
              "      <th>0</th>\n",
              "      <td>2018-08-26</td>\n",
              "      <td>AS</td>\n",
              "      <td>AS</td>\n",
              "      <td>PDX</td>\n",
              "      <td>1717</td>\n",
              "      <td>-3.0</td>\n",
              "      <td>LAX</td>\n",
              "      <td>1936.0</td>\n",
              "      <td>-5.0</td>\n",
              "      <td>1941</td>\n",
              "      <td>139.0</td>\n",
              "      <td>834.0</td>\n",
              "      <td>0.0</td>\n",
              "      <td>0.0</td>\n",
              "      <td>0.0</td>\n",
              "      <td>0.0</td>\n",
              "      <td>0.0</td>\n",
              "      <td>2018</td>\n",
              "      <td>8</td>\n",
              "      <td>26</td>\n",
              "      <td>1.0</td>\n",
              "      <td>0.0</td>\n",
              "      <td>17</td>\n",
              "      <td>6</td>\n",
              "      <td>2</td>\n",
              "    </tr>\n",
              "    <tr>\n",
              "      <th>1</th>\n",
              "      <td>2018-05-24</td>\n",
              "      <td>UA</td>\n",
              "      <td>OO</td>\n",
              "      <td>DEN</td>\n",
              "      <td>1750</td>\n",
              "      <td>0.0</td>\n",
              "      <td>PSP</td>\n",
              "      <td>1913.0</td>\n",
              "      <td>3.0</td>\n",
              "      <td>1910</td>\n",
              "      <td>143.0</td>\n",
              "      <td>776.0</td>\n",
              "      <td>0.0</td>\n",
              "      <td>0.0</td>\n",
              "      <td>0.0</td>\n",
              "      <td>0.0</td>\n",
              "      <td>0.0</td>\n",
              "      <td>2018</td>\n",
              "      <td>5</td>\n",
              "      <td>24</td>\n",
              "      <td>0.0</td>\n",
              "      <td>0.0</td>\n",
              "      <td>17</td>\n",
              "      <td>3</td>\n",
              "      <td>1</td>\n",
              "    </tr>\n",
              "    <tr>\n",
              "      <th>2</th>\n",
              "      <td>2019-01-10</td>\n",
              "      <td>AA</td>\n",
              "      <td>PT</td>\n",
              "      <td>CLT</td>\n",
              "      <td>1105</td>\n",
              "      <td>-4.0</td>\n",
              "      <td>ROA</td>\n",
              "      <td>1200.0</td>\n",
              "      <td>-16.0</td>\n",
              "      <td>1216</td>\n",
              "      <td>55.0</td>\n",
              "      <td>155.0</td>\n",
              "      <td>0.0</td>\n",
              "      <td>0.0</td>\n",
              "      <td>0.0</td>\n",
              "      <td>0.0</td>\n",
              "      <td>0.0</td>\n",
              "      <td>2019</td>\n",
              "      <td>1</td>\n",
              "      <td>10</td>\n",
              "      <td>0.0</td>\n",
              "      <td>0.0</td>\n",
              "      <td>11</td>\n",
              "      <td>3</td>\n",
              "      <td>0</td>\n",
              "    </tr>\n",
              "    <tr>\n",
              "      <th>3</th>\n",
              "      <td>2018-07-09</td>\n",
              "      <td>WN</td>\n",
              "      <td>WN</td>\n",
              "      <td>ELP</td>\n",
              "      <td>0554</td>\n",
              "      <td>-1.0</td>\n",
              "      <td>LAS</td>\n",
              "      <td>623.0</td>\n",
              "      <td>-12.0</td>\n",
              "      <td>635</td>\n",
              "      <td>89.0</td>\n",
              "      <td>583.0</td>\n",
              "      <td>0.0</td>\n",
              "      <td>0.0</td>\n",
              "      <td>0.0</td>\n",
              "      <td>0.0</td>\n",
              "      <td>0.0</td>\n",
              "      <td>2018</td>\n",
              "      <td>7</td>\n",
              "      <td>9</td>\n",
              "      <td>0.0</td>\n",
              "      <td>0.0</td>\n",
              "      <td>5</td>\n",
              "      <td>0</td>\n",
              "      <td>2</td>\n",
              "    </tr>\n",
              "    <tr>\n",
              "      <th>4</th>\n",
              "      <td>2019-07-09</td>\n",
              "      <td>DL</td>\n",
              "      <td>9E</td>\n",
              "      <td>LGA</td>\n",
              "      <td>1629</td>\n",
              "      <td>0.0</td>\n",
              "      <td>BNA</td>\n",
              "      <td>1759.0</td>\n",
              "      <td>-12.0</td>\n",
              "      <td>1811</td>\n",
              "      <td>150.0</td>\n",
              "      <td>764.0</td>\n",
              "      <td>0.0</td>\n",
              "      <td>0.0</td>\n",
              "      <td>0.0</td>\n",
              "      <td>0.0</td>\n",
              "      <td>0.0</td>\n",
              "      <td>2019</td>\n",
              "      <td>7</td>\n",
              "      <td>9</td>\n",
              "      <td>0.0</td>\n",
              "      <td>0.0</td>\n",
              "      <td>16</td>\n",
              "      <td>1</td>\n",
              "      <td>2</td>\n",
              "    </tr>\n",
              "    <tr>\n",
              "      <th>...</th>\n",
              "      <td>...</td>\n",
              "      <td>...</td>\n",
              "      <td>...</td>\n",
              "      <td>...</td>\n",
              "      <td>...</td>\n",
              "      <td>...</td>\n",
              "      <td>...</td>\n",
              "      <td>...</td>\n",
              "      <td>...</td>\n",
              "      <td>...</td>\n",
              "      <td>...</td>\n",
              "      <td>...</td>\n",
              "      <td>...</td>\n",
              "      <td>...</td>\n",
              "      <td>...</td>\n",
              "      <td>...</td>\n",
              "      <td>...</td>\n",
              "      <td>...</td>\n",
              "      <td>...</td>\n",
              "      <td>...</td>\n",
              "      <td>...</td>\n",
              "      <td>...</td>\n",
              "      <td>...</td>\n",
              "      <td>...</td>\n",
              "      <td>...</td>\n",
              "    </tr>\n",
              "    <tr>\n",
              "      <th>978871</th>\n",
              "      <td>2018-08-29</td>\n",
              "      <td>AA</td>\n",
              "      <td>AA</td>\n",
              "      <td>DCA</td>\n",
              "      <td>1223</td>\n",
              "      <td>-7.0</td>\n",
              "      <td>BOS</td>\n",
              "      <td>1343.0</td>\n",
              "      <td>-17.0</td>\n",
              "      <td>1400</td>\n",
              "      <td>80.0</td>\n",
              "      <td>399.0</td>\n",
              "      <td>0.0</td>\n",
              "      <td>0.0</td>\n",
              "      <td>0.0</td>\n",
              "      <td>0.0</td>\n",
              "      <td>0.0</td>\n",
              "      <td>2018</td>\n",
              "      <td>8</td>\n",
              "      <td>29</td>\n",
              "      <td>0.0</td>\n",
              "      <td>0.0</td>\n",
              "      <td>12</td>\n",
              "      <td>2</td>\n",
              "      <td>2</td>\n",
              "    </tr>\n",
              "    <tr>\n",
              "      <th>978872</th>\n",
              "      <td>2018-02-11</td>\n",
              "      <td>UA</td>\n",
              "      <td>OO</td>\n",
              "      <td>DCA</td>\n",
              "      <td>2043</td>\n",
              "      <td>3.0</td>\n",
              "      <td>ORD</td>\n",
              "      <td>2144.0</td>\n",
              "      <td>-15.0</td>\n",
              "      <td>2159</td>\n",
              "      <td>121.0</td>\n",
              "      <td>612.0</td>\n",
              "      <td>0.0</td>\n",
              "      <td>0.0</td>\n",
              "      <td>0.0</td>\n",
              "      <td>0.0</td>\n",
              "      <td>0.0</td>\n",
              "      <td>2018</td>\n",
              "      <td>2</td>\n",
              "      <td>11</td>\n",
              "      <td>1.0</td>\n",
              "      <td>0.0</td>\n",
              "      <td>20</td>\n",
              "      <td>6</td>\n",
              "      <td>0</td>\n",
              "    </tr>\n",
              "    <tr>\n",
              "      <th>978873</th>\n",
              "      <td>2018-10-29</td>\n",
              "      <td>WN</td>\n",
              "      <td>WN</td>\n",
              "      <td>SFO</td>\n",
              "      <td>1926</td>\n",
              "      <td>-9.0</td>\n",
              "      <td>SAN</td>\n",
              "      <td>2054.0</td>\n",
              "      <td>-16.0</td>\n",
              "      <td>2110</td>\n",
              "      <td>88.0</td>\n",
              "      <td>447.0</td>\n",
              "      <td>0.0</td>\n",
              "      <td>0.0</td>\n",
              "      <td>0.0</td>\n",
              "      <td>0.0</td>\n",
              "      <td>0.0</td>\n",
              "      <td>2018</td>\n",
              "      <td>10</td>\n",
              "      <td>29</td>\n",
              "      <td>0.0</td>\n",
              "      <td>0.0</td>\n",
              "      <td>19</td>\n",
              "      <td>0</td>\n",
              "      <td>3</td>\n",
              "    </tr>\n",
              "    <tr>\n",
              "      <th>978874</th>\n",
              "      <td>2019-03-28</td>\n",
              "      <td>UA</td>\n",
              "      <td>UA</td>\n",
              "      <td>EWR</td>\n",
              "      <td>1658</td>\n",
              "      <td>-5.0</td>\n",
              "      <td>MCO</td>\n",
              "      <td>1945.0</td>\n",
              "      <td>-8.0</td>\n",
              "      <td>1953</td>\n",
              "      <td>167.0</td>\n",
              "      <td>937.0</td>\n",
              "      <td>0.0</td>\n",
              "      <td>0.0</td>\n",
              "      <td>0.0</td>\n",
              "      <td>0.0</td>\n",
              "      <td>0.0</td>\n",
              "      <td>2019</td>\n",
              "      <td>3</td>\n",
              "      <td>28</td>\n",
              "      <td>0.0</td>\n",
              "      <td>0.0</td>\n",
              "      <td>16</td>\n",
              "      <td>3</td>\n",
              "      <td>0</td>\n",
              "    </tr>\n",
              "    <tr>\n",
              "      <th>978875</th>\n",
              "      <td>2018-05-03</td>\n",
              "      <td>AA</td>\n",
              "      <td>OH</td>\n",
              "      <td>GNV</td>\n",
              "      <td>1950</td>\n",
              "      <td>1.0</td>\n",
              "      <td>CLT</td>\n",
              "      <td>2123.0</td>\n",
              "      <td>4.0</td>\n",
              "      <td>2119</td>\n",
              "      <td>93.0</td>\n",
              "      <td>388.0</td>\n",
              "      <td>0.0</td>\n",
              "      <td>0.0</td>\n",
              "      <td>0.0</td>\n",
              "      <td>0.0</td>\n",
              "      <td>0.0</td>\n",
              "      <td>2018</td>\n",
              "      <td>5</td>\n",
              "      <td>3</td>\n",
              "      <td>0.0</td>\n",
              "      <td>0.0</td>\n",
              "      <td>19</td>\n",
              "      <td>3</td>\n",
              "      <td>1</td>\n",
              "    </tr>\n",
              "  </tbody>\n",
              "</table>\n",
              "<p>978876 rows × 25 columns</p>\n",
              "</div>"
            ],
            "text/plain": [
              "           fl_date mkt_unique_carrier  ... Weekday Season\n",
              "0       2018-08-26                 AS  ...       6      2\n",
              "1       2018-05-24                 UA  ...       3      1\n",
              "2       2019-01-10                 AA  ...       3      0\n",
              "3       2018-07-09                 WN  ...       0      2\n",
              "4       2019-07-09                 DL  ...       1      2\n",
              "...            ...                ...  ...     ...    ...\n",
              "978871  2018-08-29                 AA  ...       2      2\n",
              "978872  2018-02-11                 UA  ...       6      0\n",
              "978873  2018-10-29                 WN  ...       0      3\n",
              "978874  2019-03-28                 UA  ...       3      0\n",
              "978875  2018-05-03                 AA  ...       3      1\n",
              "\n",
              "[978876 rows x 25 columns]"
            ]
          },
          "metadata": {
            "tags": []
          },
          "execution_count": 51
        }
      ]
    },
    {
      "cell_type": "code",
      "metadata": {
        "id": "s9MTqAxNyxoS"
      },
      "source": [
        "df['mean_origin_weekday'] = df.groupby(['origin','dest','year','Season','Weekday','op_unique_carrier','dep_hour'])['sumDelays'].transform('mean')"
      ],
      "execution_count": 52,
      "outputs": []
    },
    {
      "cell_type": "code",
      "metadata": {
        "id": "9510dRJZ6AIS"
      },
      "source": [
        "df = df.drop(['fl_date','mkt_unique_carrier','carrier_delay','dep_delay',\t'weather_delay', \t'nas_delay', \t'security_delay', 'late_aircraft_delay'],axis=1)"
      ],
      "execution_count": 53,
      "outputs": []
    },
    {
      "cell_type": "markdown",
      "metadata": {
        "id": "0s7jr47XAS37"
      },
      "source": [
        ""
      ]
    },
    {
      "cell_type": "code",
      "metadata": {
        "id": "IS0wyyyW4Zft"
      },
      "source": [
        "df = df.drop('day',axis=1)"
      ],
      "execution_count": 54,
      "outputs": []
    },
    {
      "cell_type": "code",
      "metadata": {
        "id": "lq_BjD31Y33q"
      },
      "source": [
        "df = df.drop(['dep_time','arr_time','crs_arr_time','weekday'],axis=1)"
      ],
      "execution_count": 55,
      "outputs": []
    },
    {
      "cell_type": "code",
      "metadata": {
        "id": "wfb0jx7lZMIn"
      },
      "source": [
        "testDF = df.drop('distance',axis=1)"
      ],
      "execution_count": 56,
      "outputs": []
    },
    {
      "cell_type": "code",
      "metadata": {
        "id": "oZP80jcx6kbV"
      },
      "source": [
        "from sklearn import preprocessing\n",
        "le = preprocessing.LabelEncoder()\n",
        "testDF['op_unique_carrier']= le.fit_transform(testDF['op_unique_carrier'])"
      ],
      "execution_count": 57,
      "outputs": []
    },
    {
      "cell_type": "code",
      "metadata": {
        "id": "nsb2qsp67wf0"
      },
      "source": [
        "testDF['origin']= le.fit_transform(testDF['origin'])"
      ],
      "execution_count": 58,
      "outputs": []
    },
    {
      "cell_type": "code",
      "metadata": {
        "id": "hxG5lcYzU2Ce"
      },
      "source": [
        "testDF['dest']= le.fit_transform(testDF['dest'])"
      ],
      "execution_count": 59,
      "outputs": []
    },
    {
      "cell_type": "code",
      "metadata": {
        "colab": {
          "base_uri": "https://localhost:8080/",
          "height": 444
        },
        "id": "ngSe0SQ94ewR",
        "outputId": "74a9d877-8937-4096-c10a-983d8672667f"
      },
      "source": [
        "testDF"
      ],
      "execution_count": 60,
      "outputs": [
        {
          "output_type": "execute_result",
          "data": {
            "text/html": [
              "<div>\n",
              "<style scoped>\n",
              "    .dataframe tbody tr th:only-of-type {\n",
              "        vertical-align: middle;\n",
              "    }\n",
              "\n",
              "    .dataframe tbody tr th {\n",
              "        vertical-align: top;\n",
              "    }\n",
              "\n",
              "    .dataframe thead th {\n",
              "        text-align: right;\n",
              "    }\n",
              "</style>\n",
              "<table border=\"1\" class=\"dataframe\">\n",
              "  <thead>\n",
              "    <tr style=\"text-align: right;\">\n",
              "      <th></th>\n",
              "      <th>op_unique_carrier</th>\n",
              "      <th>origin</th>\n",
              "      <th>dest</th>\n",
              "      <th>arr_delay</th>\n",
              "      <th>actual_elapsed_time</th>\n",
              "      <th>year</th>\n",
              "      <th>month</th>\n",
              "      <th>sumDelays</th>\n",
              "      <th>dep_hour</th>\n",
              "      <th>Weekday</th>\n",
              "      <th>Season</th>\n",
              "      <th>mean_origin_weekday</th>\n",
              "    </tr>\n",
              "  </thead>\n",
              "  <tbody>\n",
              "    <tr>\n",
              "      <th>0</th>\n",
              "      <td>2</td>\n",
              "      <td>242</td>\n",
              "      <td>178</td>\n",
              "      <td>-5.0</td>\n",
              "      <td>139.0</td>\n",
              "      <td>2018</td>\n",
              "      <td>8</td>\n",
              "      <td>0.0</td>\n",
              "      <td>17</td>\n",
              "      <td>6</td>\n",
              "      <td>2</td>\n",
              "      <td>0.0</td>\n",
              "    </tr>\n",
              "    <tr>\n",
              "      <th>1</th>\n",
              "      <td>16</td>\n",
              "      <td>86</td>\n",
              "      <td>257</td>\n",
              "      <td>3.0</td>\n",
              "      <td>143.0</td>\n",
              "      <td>2018</td>\n",
              "      <td>5</td>\n",
              "      <td>0.0</td>\n",
              "      <td>17</td>\n",
              "      <td>3</td>\n",
              "      <td>1</td>\n",
              "      <td>0.0</td>\n",
              "    </tr>\n",
              "    <tr>\n",
              "      <th>2</th>\n",
              "      <td>17</td>\n",
              "      <td>66</td>\n",
              "      <td>272</td>\n",
              "      <td>-16.0</td>\n",
              "      <td>55.0</td>\n",
              "      <td>2019</td>\n",
              "      <td>1</td>\n",
              "      <td>0.0</td>\n",
              "      <td>11</td>\n",
              "      <td>3</td>\n",
              "      <td>0</td>\n",
              "      <td>0.0</td>\n",
              "    </tr>\n",
              "    <tr>\n",
              "      <th>3</th>\n",
              "      <td>21</td>\n",
              "      <td>102</td>\n",
              "      <td>176</td>\n",
              "      <td>-12.0</td>\n",
              "      <td>89.0</td>\n",
              "      <td>2018</td>\n",
              "      <td>7</td>\n",
              "      <td>0.0</td>\n",
              "      <td>5</td>\n",
              "      <td>0</td>\n",
              "      <td>2</td>\n",
              "      <td>0.0</td>\n",
              "    </tr>\n",
              "    <tr>\n",
              "      <th>4</th>\n",
              "      <td>0</td>\n",
              "      <td>187</td>\n",
              "      <td>41</td>\n",
              "      <td>-12.0</td>\n",
              "      <td>150.0</td>\n",
              "      <td>2019</td>\n",
              "      <td>7</td>\n",
              "      <td>0.0</td>\n",
              "      <td>16</td>\n",
              "      <td>1</td>\n",
              "      <td>2</td>\n",
              "      <td>0.0</td>\n",
              "    </tr>\n",
              "    <tr>\n",
              "      <th>...</th>\n",
              "      <td>...</td>\n",
              "      <td>...</td>\n",
              "      <td>...</td>\n",
              "      <td>...</td>\n",
              "      <td>...</td>\n",
              "      <td>...</td>\n",
              "      <td>...</td>\n",
              "      <td>...</td>\n",
              "      <td>...</td>\n",
              "      <td>...</td>\n",
              "      <td>...</td>\n",
              "      <td>...</td>\n",
              "    </tr>\n",
              "    <tr>\n",
              "      <th>978871</th>\n",
              "      <td>1</td>\n",
              "      <td>85</td>\n",
              "      <td>43</td>\n",
              "      <td>-17.0</td>\n",
              "      <td>80.0</td>\n",
              "      <td>2018</td>\n",
              "      <td>8</td>\n",
              "      <td>0.0</td>\n",
              "      <td>12</td>\n",
              "      <td>2</td>\n",
              "      <td>2</td>\n",
              "      <td>0.0</td>\n",
              "    </tr>\n",
              "    <tr>\n",
              "      <th>978872</th>\n",
              "      <td>16</td>\n",
              "      <td>85</td>\n",
              "      <td>234</td>\n",
              "      <td>-15.0</td>\n",
              "      <td>121.0</td>\n",
              "      <td>2018</td>\n",
              "      <td>2</td>\n",
              "      <td>0.0</td>\n",
              "      <td>20</td>\n",
              "      <td>6</td>\n",
              "      <td>0</td>\n",
              "      <td>0.0</td>\n",
              "    </tr>\n",
              "    <tr>\n",
              "      <th>978873</th>\n",
              "      <td>21</td>\n",
              "      <td>290</td>\n",
              "      <td>278</td>\n",
              "      <td>-16.0</td>\n",
              "      <td>88.0</td>\n",
              "      <td>2018</td>\n",
              "      <td>10</td>\n",
              "      <td>0.0</td>\n",
              "      <td>19</td>\n",
              "      <td>0</td>\n",
              "      <td>3</td>\n",
              "      <td>0.0</td>\n",
              "    </tr>\n",
              "    <tr>\n",
              "      <th>978874</th>\n",
              "      <td>19</td>\n",
              "      <td>108</td>\n",
              "      <td>199</td>\n",
              "      <td>-8.0</td>\n",
              "      <td>167.0</td>\n",
              "      <td>2019</td>\n",
              "      <td>3</td>\n",
              "      <td>0.0</td>\n",
              "      <td>16</td>\n",
              "      <td>3</td>\n",
              "      <td>0</td>\n",
              "      <td>0.0</td>\n",
              "    </tr>\n",
              "    <tr>\n",
              "      <th>978875</th>\n",
              "      <td>15</td>\n",
              "      <td>128</td>\n",
              "      <td>66</td>\n",
              "      <td>4.0</td>\n",
              "      <td>93.0</td>\n",
              "      <td>2018</td>\n",
              "      <td>5</td>\n",
              "      <td>0.0</td>\n",
              "      <td>19</td>\n",
              "      <td>3</td>\n",
              "      <td>1</td>\n",
              "      <td>0.0</td>\n",
              "    </tr>\n",
              "  </tbody>\n",
              "</table>\n",
              "<p>978876 rows × 12 columns</p>\n",
              "</div>"
            ],
            "text/plain": [
              "        op_unique_carrier  origin  dest  ...  Weekday  Season  mean_origin_weekday\n",
              "0                       2     242   178  ...        6       2                  0.0\n",
              "1                      16      86   257  ...        3       1                  0.0\n",
              "2                      17      66   272  ...        3       0                  0.0\n",
              "3                      21     102   176  ...        0       2                  0.0\n",
              "4                       0     187    41  ...        1       2                  0.0\n",
              "...                   ...     ...   ...  ...      ...     ...                  ...\n",
              "978871                  1      85    43  ...        2       2                  0.0\n",
              "978872                 16      85   234  ...        6       0                  0.0\n",
              "978873                 21     290   278  ...        0       3                  0.0\n",
              "978874                 19     108   199  ...        3       0                  0.0\n",
              "978875                 15     128    66  ...        3       1                  0.0\n",
              "\n",
              "[978876 rows x 12 columns]"
            ]
          },
          "metadata": {
            "tags": []
          },
          "execution_count": 60
        }
      ]
    },
    {
      "cell_type": "code",
      "metadata": {
        "id": "qpXvfPOI74Ec"
      },
      "source": [
        "X,y = testDF.drop('arr_delay',axis=1),testDF['arr_delay']"
      ],
      "execution_count": 61,
      "outputs": []
    },
    {
      "cell_type": "code",
      "metadata": {
        "id": "q-eqnl228sKq"
      },
      "source": [
        "from sklearn.model_selection import train_test_split"
      ],
      "execution_count": 62,
      "outputs": []
    },
    {
      "cell_type": "code",
      "metadata": {
        "id": "vRunw2ip8n08"
      },
      "source": [
        "X_train, X_test, y_train, y_test = train_test_split(X, y, test_size=0.7, random_state=12)"
      ],
      "execution_count": 63,
      "outputs": []
    },
    {
      "cell_type": "code",
      "metadata": {
        "id": "Fi0EvR1SzpiE"
      },
      "source": [
        "from sklearn.decomposition import PCA\n",
        "from sklearn.preprocessing import StandardScaler"
      ],
      "execution_count": 64,
      "outputs": []
    },
    {
      "cell_type": "code",
      "metadata": {
        "colab": {
          "base_uri": "https://localhost:8080/"
        },
        "id": "j3e9QGFf2hfJ",
        "outputId": "4d0bd84f-773a-4acd-a060-72a761dfdc2e"
      },
      "source": [
        "pca = PCA()\n",
        "scaler = StandardScaler()\n",
        "X=scaler.fit_transform(X)\n",
        "pca.fit_transform(X)"
      ],
      "execution_count": 65,
      "outputs": [
        {
          "output_type": "execute_result",
          "data": {
            "text/plain": [
              "array([[-0.53077513,  0.42171853, -0.92006668, ...,  0.94761313,\n",
              "         0.01254367, -0.01918388],\n",
              "       [ 0.01517888, -0.73232432,  0.14920951, ..., -0.24744992,\n",
              "         0.01072173,  0.00844161],\n",
              "       [ 0.37372621, -2.16492361,  1.00141022, ...,  0.59626494,\n",
              "         0.01373925, -0.18470888],\n",
              "       ...,\n",
              "       [-0.89524158,  1.38359036,  0.55200386, ...,  0.59839735,\n",
              "         0.01819908, -0.21879062],\n",
              "       [ 0.44210427, -1.69363439,  0.23611917, ..., -0.84355209,\n",
              "         0.00681995,  0.23130827],\n",
              "       [ 0.01373003, -0.72008782,  1.23039568, ..., -0.51861804,\n",
              "         0.01443855,  0.00844501]])"
            ]
          },
          "metadata": {
            "tags": []
          },
          "execution_count": 65
        }
      ]
    },
    {
      "cell_type": "code",
      "metadata": {
        "colab": {
          "base_uri": "https://localhost:8080/",
          "height": 279
        },
        "id": "ilet8gcw2Ei9",
        "outputId": "6def37ad-021a-44fc-b7b8-f55be0695835"
      },
      "source": [
        "features = range(pca.n_components_)\n",
        "plt.bar(features, pca.explained_variance_ratio_)\n",
        "plt.xticks(features)\n",
        "plt.xlabel(\"PCA features\")\n",
        "plt.ylabel(\"variance\")\n",
        "plt.show()"
      ],
      "execution_count": 66,
      "outputs": [
        {
          "output_type": "display_data",
          "data": {
            "image/png": "[encoded data removed]",
            "text/plain": [
              "<Figure size 432x288 with 1 Axes>"
            ]
          },
          "metadata": {
            "tags": [],
            "needs_background": "light"
          }
        }
      ]
    },
    {
      "cell_type": "code",
      "metadata": {
        "id": "oZhu56Do3OVI"
      },
      "source": [
        "pca = PCA(n_components=8)\n",
        "pca.fit(X_train)\n",
        "X_train = pca.transform(X_train)\n",
        "X_test = pca.transform(X_test)"
      ],
      "execution_count": 67,
      "outputs": []
    },
    {
      "cell_type": "code",
      "metadata": {
        "id": "1op7hwgJ807E"
      },
      "source": [
        "from sklearn.tree import DecisionTreeRegressor\n",
        "from sklearn.ensemble import RandomForestRegressor,GradientBoostingRegressor\n",
        "from sklearn.metrics import r2_score \n",
        "from sklearn.model_selection import GridSearchCV\n",
        "import xgboost as xg"
      ],
      "execution_count": 68,
      "outputs": []
    },
    {
      "cell_type": "code",
      "metadata": {
        "colab": {
          "base_uri": "https://localhost:8080/"
        },
        "id": "LYIX_4gsI79X",
        "outputId": "fa91f5e6-56c2-4ac2-fee5-a377fd25f0d1"
      },
      "source": [
        "model = RandomForestRegressor(n_estimators=100,random_state=1)\n",
        "model.fit(X_train,y_train)"
      ],
      "execution_count": 69,
      "outputs": [
        {
          "output_type": "execute_result",
          "data": {
            "text/plain": [
              "RandomForestRegressor(bootstrap=True, ccp_alpha=0.0, criterion='mse',\n",
              "                      max_depth=None, max_features='auto', max_leaf_nodes=None,\n",
              "                      max_samples=None, min_impurity_decrease=0.0,\n",
              "                      min_impurity_split=None, min_samples_leaf=1,\n",
              "                      min_samples_split=2, min_weight_fraction_leaf=0.0,\n",
              "                      n_estimators=100, n_jobs=None, oob_score=False,\n",
              "                      random_state=1, verbose=0, warm_start=False)"
            ]
          },
          "metadata": {
            "tags": []
          },
          "execution_count": 69
        }
      ]
    },
    {
      "cell_type": "code",
      "metadata": {
        "id": "SV6e6gVg9b4z"
      },
      "source": [
        "y_pred = model.predict(X_test)"
      ],
      "execution_count": 70,
      "outputs": []
    },
    {
      "cell_type": "code",
      "metadata": {
        "colab": {
          "base_uri": "https://localhost:8080/"
        },
        "id": "bymbfX-K_kS5",
        "outputId": "e0118642-2ea6-4cc9-c107-07dd3c69e7d3"
      },
      "source": [
        "model.score(X_test,y_test)"
      ],
      "execution_count": 71,
      "outputs": [
        {
          "output_type": "execute_result",
          "data": {
            "text/plain": [
              "0.958884690405363"
            ]
          },
          "metadata": {
            "tags": []
          },
          "execution_count": 71
        }
      ]
    },
    {
      "cell_type": "code",
      "metadata": {
        "id": "WxyEBYXU9i9j"
      },
      "source": [
        "from sklearn.metrics import mean_squared_error"
      ],
      "execution_count": 72,
      "outputs": []
    },
    {
      "cell_type": "code",
      "metadata": {
        "colab": {
          "base_uri": "https://localhost:8080/"
        },
        "id": "aYKgZMcO9udt",
        "outputId": "a2626995-665f-4573-f525-f7affc965f30"
      },
      "source": [
        "print('mean_squared_error:', mean_squared_error(y_test,y_pred))\n",
        "print('RSME:',np.sqrt(mean_squared_error(y_test, y_pred)))\n",
        "print('r2 score:', r2_score(y_test,y_pred))\n",
        "print('Adjusted R2 value:', 1 - (1-model.score(X_test,y_test))*(len(y_test)-1)/(len(y_test)-X_test.shape[1]-1))"
      ],
      "execution_count": 73,
      "outputs": [
        {
          "output_type": "stream",
          "text": [
            "mean_squared_error: 82.18962016559652\n",
            "RSME: 9.06584911442919\n",
            "r2 score: 0.9588846904053628\n",
            "Adjusted R2 value: 0.9588842103702249\n"
          ],
          "name": "stdout"
        }
      ]
    },
    {
      "cell_type": "code",
      "metadata": {
        "id": "QuNK4OTZ9Uy4",
        "colab": {
          "base_uri": "https://localhost:8080/"
        },
        "outputId": "5ee72c82-af49-4745-c7e5-9362da75564f"
      },
      "source": [
        "model = GradientBoostingRegressor(n_estimators=150,learning_rate=1,random_state=1)\n",
        "model.fit(X_train,y_train)\n",
        "y_pred = model.predict(X_test)\n",
        "print('mean_squared_error:', mean_squared_error(y_test,y_pred))\n",
        "print('r2 score:', r2_score(y_test,y_pred))\n",
        "print('Adjusted R2 value:', 1 - (1-model.score(X_test,y_test))*(len(y_test)-1)/(len(y_test)-X_test.shape[1]-1))"
      ],
      "execution_count": 74,
      "outputs": [
        {
          "output_type": "stream",
          "text": [
            "mean_squared_error: 100.32477085099485\n",
            "r2 score: 0.9498125918426339\n",
            "Adjusted R2 value: 0.9498120058876784\n"
          ],
          "name": "stdout"
        }
      ]
    }
  ]
}