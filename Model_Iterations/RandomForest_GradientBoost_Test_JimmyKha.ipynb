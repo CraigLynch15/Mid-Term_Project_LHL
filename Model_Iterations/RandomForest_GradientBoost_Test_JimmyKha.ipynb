{
  "nbformat": 4,
  "nbformat_minor": 0,
  "metadata": {
    "colab": {
      "name": "testData.ipynb",
      "provenance": [],
      "collapsed_sections": []
    },
    "kernelspec": {
      "name": "python3",
      "display_name": "Python 3"
    },
    "language_info": {
      "name": "python"
    }
  },
  "cells": [
    {
      "cell_type": "code",
      "metadata": {
        "id": "J_mfCO6irwS9"
      },
      "source": [
        "import pandas as pd \n",
        "from sklearn.ensemble import RandomForestRegressor\n",
        "from sklearn.metrics import mean_squared_error\n",
        "import numpy as np\n",
        "from sklearn.model_selection import train_test_split\n",
        "df = pd.read_csv('/gdrive/MyDrive/cleaned_training_data_01.csv')\n",
        "df['average_delay'] = df['carrier_delay'] + df['nas_delay'] + df['late_aircraft_delay']\n",
        "X = df[['crs_arr_time','actual_elapsed_time','distance','year','month','day','weekday','average_delay']]\n",
        "y = df['arr_delay']\n",
        "reg = RandomForestRegressor(n_estimators=100)\n",
        "X_train, X_test, y_train, y_test = train_test_split(X, y, test_size=0.3)\n",
        "reg.fit(X_train,y_train)\n",
        "\n",
        "y_pred=reg.predict(X_test)\n",
        "rmse = np.sqrt(mean_squared_error(y_test, y_pred))\n",
        "rmse"
      ],
      "execution_count": null,
      "outputs": []
    },
    {
      "cell_type": "code",
      "metadata": {
        "id": "-3za-mt33Gvi",
        "colab": {
          "base_uri": "https://localhost:8080/"
        },
        "outputId": "86f19040-ba26-4409-d3fe-79278e86e560"
      },
      "source": [
        "from google.colab import drive\n",
        "drive.mount('/gdrive')\n",
        "%cd /gdrive"
      ],
      "execution_count": 1,
      "outputs": [
        {
          "output_type": "stream",
          "text": [
            "Drive already mounted at /gdrive; to attempt to forcibly remount, call drive.mount(\"/gdrive\", force_remount=True).\n",
            "/gdrive\n"
          ],
          "name": "stdout"
        }
      ]
    },
    {
      "cell_type": "code",
      "metadata": {
        "id": "jYqzjJ1DcdDS"
      },
      "source": [
        "import pandas as pd \n",
        "import numpy as np"
      ],
      "execution_count": 2,
      "outputs": []
    },
    {
      "cell_type": "code",
      "metadata": {
        "id": "noDBT0PeHatl"
      },
      "source": [
        "df = pd.read_csv('/gdrive/MyDrive/cleaned_training_data_01.csv')"
      ],
      "execution_count": 3,
      "outputs": []
    },
    {
      "cell_type": "code",
      "metadata": {
        "id": "DMyGb1Gi3dYA"
      },
      "source": [
        "import sklearn.preprocessing\n",
        "from sklearn.linear_model import LogisticRegression\n",
        "import matplotlib.pyplot as plt"
      ],
      "execution_count": 4,
      "outputs": []
    },
    {
      "cell_type": "code",
      "metadata": {
        "id": "QR-k91aAD8V0"
      },
      "source": [
        "df['sumDelays'] = df['carrier_delay'] + df['weather_delay'] + df['nas_delay']+ df['security_delay']+ df['late_aircraft_delay']"
      ],
      "execution_count": 5,
      "outputs": []
    },
    {
      "cell_type": "code",
      "metadata": {
        "id": "dFQBUBJUhpGP"
      },
      "source": [
        "df['crs_dep_time'] = df['crs_arr_time'] - df['crs_elapsed_time']"
      ],
      "execution_count": 6,
      "outputs": []
    },
    {
      "cell_type": "code",
      "metadata": {
        "id": "eMLLOP58OnTu"
      },
      "source": [
        "def crs_dep(row):\n",
        "  if row['crs_dep_time'] < 0:\n",
        "    return 2400 + row['crs_dep_time']\n",
        "  else:\n",
        "    return row['crs_dep_time']"
      ],
      "execution_count": 7,
      "outputs": []
    },
    {
      "cell_type": "code",
      "metadata": {
        "id": "yCrDIVkYov5s"
      },
      "source": [
        "df['crs_dep_time'] = df.apply(crs_dep,axis=1)"
      ],
      "execution_count": 8,
      "outputs": []
    },
    {
      "cell_type": "code",
      "metadata": {
        "id": "0LPuP5s_M7qH"
      },
      "source": [
        "df['crs_dep_time'] = df['crs_dep_time'].astype(float).astype(int).apply(lambda x: '{0:0>4}'.format(x)).astype(str)"
      ],
      "execution_count": 9,
      "outputs": []
    },
    {
      "cell_type": "code",
      "metadata": {
        "id": "x9sON7su2e1_"
      },
      "source": [
        "df['Weekday'] = pd.to_datetime(df['fl_date']).dt.dayofweek"
      ],
      "execution_count": 10,
      "outputs": []
    },
    {
      "cell_type": "code",
      "metadata": {
        "id": "WwiWnQ6K5R-v"
      },
      "source": [
        "df['Season']= (pd.to_datetime(df['fl_date']).dt.month - 1) // 3"
      ],
      "execution_count": 11,
      "outputs": []
    },
    {
      "cell_type": "code",
      "metadata": {
        "colab": {
          "base_uri": "https://localhost:8080/",
          "height": 444
        },
        "id": "T_E_Cnv8ANah",
        "outputId": "861fc2c2-4f23-4a5a-9a21-ffe6180d1bdc"
      },
      "source": [
        "df"
      ],
      "execution_count": 12,
      "outputs": [
        {
          "output_type": "execute_result",
          "data": {
            "text/html": [
              "<div>\n",
              "<style scoped>\n",
              "    .dataframe tbody tr th:only-of-type {\n",
              "        vertical-align: middle;\n",
              "    }\n",
              "\n",
              "    .dataframe tbody tr th {\n",
              "        vertical-align: top;\n",
              "    }\n",
              "\n",
              "    .dataframe thead th {\n",
              "        text-align: right;\n",
              "    }\n",
              "</style>\n",
              "<table border=\"1\" class=\"dataframe\">\n",
              "  <thead>\n",
              "    <tr style=\"text-align: right;\">\n",
              "      <th></th>\n",
              "      <th>fl_date</th>\n",
              "      <th>mkt_unique_carrier</th>\n",
              "      <th>op_unique_carrier</th>\n",
              "      <th>origin</th>\n",
              "      <th>dep_time</th>\n",
              "      <th>dep_delay</th>\n",
              "      <th>dest</th>\n",
              "      <th>arr_time</th>\n",
              "      <th>arr_delay</th>\n",
              "      <th>crs_arr_time</th>\n",
              "      <th>actual_elapsed_time</th>\n",
              "      <th>crs_elapsed_time</th>\n",
              "      <th>distance</th>\n",
              "      <th>carrier_delay</th>\n",
              "      <th>weather_delay</th>\n",
              "      <th>nas_delay</th>\n",
              "      <th>security_delay</th>\n",
              "      <th>late_aircraft_delay</th>\n",
              "      <th>year</th>\n",
              "      <th>month</th>\n",
              "      <th>day</th>\n",
              "      <th>weekday</th>\n",
              "      <th>sumDelays</th>\n",
              "      <th>crs_dep_time</th>\n",
              "      <th>Weekday</th>\n",
              "      <th>Season</th>\n",
              "    </tr>\n",
              "  </thead>\n",
              "  <tbody>\n",
              "    <tr>\n",
              "      <th>0</th>\n",
              "      <td>2018-10-02</td>\n",
              "      <td>WN</td>\n",
              "      <td>WN</td>\n",
              "      <td>ABQ</td>\n",
              "      <td>1117.0</td>\n",
              "      <td>-3.0</td>\n",
              "      <td>PHX</td>\n",
              "      <td>1135.0</td>\n",
              "      <td>-5.0</td>\n",
              "      <td>1140</td>\n",
              "      <td>78.0</td>\n",
              "      <td>80.0</td>\n",
              "      <td>328.0</td>\n",
              "      <td>0.0</td>\n",
              "      <td>0.0</td>\n",
              "      <td>0.0</td>\n",
              "      <td>0.0</td>\n",
              "      <td>0.0</td>\n",
              "      <td>2018</td>\n",
              "      <td>10</td>\n",
              "      <td>2</td>\n",
              "      <td>0.0</td>\n",
              "      <td>0.0</td>\n",
              "      <td>1060</td>\n",
              "      <td>1</td>\n",
              "      <td>3</td>\n",
              "    </tr>\n",
              "    <tr>\n",
              "      <th>1</th>\n",
              "      <td>2019-03-13</td>\n",
              "      <td>AA</td>\n",
              "      <td>YX</td>\n",
              "      <td>LGA</td>\n",
              "      <td>911.0</td>\n",
              "      <td>-9.0</td>\n",
              "      <td>BNA</td>\n",
              "      <td>1047.0</td>\n",
              "      <td>-18.0</td>\n",
              "      <td>1105</td>\n",
              "      <td>156.0</td>\n",
              "      <td>165.0</td>\n",
              "      <td>764.0</td>\n",
              "      <td>0.0</td>\n",
              "      <td>0.0</td>\n",
              "      <td>0.0</td>\n",
              "      <td>0.0</td>\n",
              "      <td>0.0</td>\n",
              "      <td>2019</td>\n",
              "      <td>3</td>\n",
              "      <td>13</td>\n",
              "      <td>0.0</td>\n",
              "      <td>0.0</td>\n",
              "      <td>0940</td>\n",
              "      <td>2</td>\n",
              "      <td>0</td>\n",
              "    </tr>\n",
              "    <tr>\n",
              "      <th>2</th>\n",
              "      <td>2019-03-19</td>\n",
              "      <td>AA</td>\n",
              "      <td>AA</td>\n",
              "      <td>HDN</td>\n",
              "      <td>1338.0</td>\n",
              "      <td>-5.0</td>\n",
              "      <td>DFW</td>\n",
              "      <td>1645.0</td>\n",
              "      <td>-10.0</td>\n",
              "      <td>1655</td>\n",
              "      <td>127.0</td>\n",
              "      <td>132.0</td>\n",
              "      <td>769.0</td>\n",
              "      <td>0.0</td>\n",
              "      <td>0.0</td>\n",
              "      <td>0.0</td>\n",
              "      <td>0.0</td>\n",
              "      <td>0.0</td>\n",
              "      <td>2019</td>\n",
              "      <td>3</td>\n",
              "      <td>19</td>\n",
              "      <td>0.0</td>\n",
              "      <td>0.0</td>\n",
              "      <td>1523</td>\n",
              "      <td>1</td>\n",
              "      <td>0</td>\n",
              "    </tr>\n",
              "    <tr>\n",
              "      <th>3</th>\n",
              "      <td>2018-04-18</td>\n",
              "      <td>DL</td>\n",
              "      <td>OO</td>\n",
              "      <td>IAH</td>\n",
              "      <td>610.0</td>\n",
              "      <td>-5.0</td>\n",
              "      <td>MSP</td>\n",
              "      <td>859.0</td>\n",
              "      <td>-11.0</td>\n",
              "      <td>910</td>\n",
              "      <td>169.0</td>\n",
              "      <td>175.0</td>\n",
              "      <td>1034.0</td>\n",
              "      <td>0.0</td>\n",
              "      <td>0.0</td>\n",
              "      <td>0.0</td>\n",
              "      <td>0.0</td>\n",
              "      <td>0.0</td>\n",
              "      <td>2018</td>\n",
              "      <td>4</td>\n",
              "      <td>18</td>\n",
              "      <td>0.0</td>\n",
              "      <td>0.0</td>\n",
              "      <td>0735</td>\n",
              "      <td>2</td>\n",
              "      <td>1</td>\n",
              "    </tr>\n",
              "    <tr>\n",
              "      <th>4</th>\n",
              "      <td>2018-04-06</td>\n",
              "      <td>DL</td>\n",
              "      <td>9E</td>\n",
              "      <td>SYR</td>\n",
              "      <td>1444.0</td>\n",
              "      <td>44.0</td>\n",
              "      <td>LGA</td>\n",
              "      <td>1625.0</td>\n",
              "      <td>73.0</td>\n",
              "      <td>1512</td>\n",
              "      <td>101.0</td>\n",
              "      <td>72.0</td>\n",
              "      <td>198.0</td>\n",
              "      <td>36.0</td>\n",
              "      <td>0.0</td>\n",
              "      <td>29.0</td>\n",
              "      <td>0.0</td>\n",
              "      <td>8.0</td>\n",
              "      <td>2018</td>\n",
              "      <td>4</td>\n",
              "      <td>6</td>\n",
              "      <td>0.0</td>\n",
              "      <td>73.0</td>\n",
              "      <td>1440</td>\n",
              "      <td>4</td>\n",
              "      <td>1</td>\n",
              "    </tr>\n",
              "    <tr>\n",
              "      <th>...</th>\n",
              "      <td>...</td>\n",
              "      <td>...</td>\n",
              "      <td>...</td>\n",
              "      <td>...</td>\n",
              "      <td>...</td>\n",
              "      <td>...</td>\n",
              "      <td>...</td>\n",
              "      <td>...</td>\n",
              "      <td>...</td>\n",
              "      <td>...</td>\n",
              "      <td>...</td>\n",
              "      <td>...</td>\n",
              "      <td>...</td>\n",
              "      <td>...</td>\n",
              "      <td>...</td>\n",
              "      <td>...</td>\n",
              "      <td>...</td>\n",
              "      <td>...</td>\n",
              "      <td>...</td>\n",
              "      <td>...</td>\n",
              "      <td>...</td>\n",
              "      <td>...</td>\n",
              "      <td>...</td>\n",
              "      <td>...</td>\n",
              "      <td>...</td>\n",
              "      <td>...</td>\n",
              "    </tr>\n",
              "    <tr>\n",
              "      <th>979151</th>\n",
              "      <td>2018-11-16</td>\n",
              "      <td>AA</td>\n",
              "      <td>OO</td>\n",
              "      <td>PHX</td>\n",
              "      <td>1454.0</td>\n",
              "      <td>24.0</td>\n",
              "      <td>PSP</td>\n",
              "      <td>1458.0</td>\n",
              "      <td>18.0</td>\n",
              "      <td>1440</td>\n",
              "      <td>64.0</td>\n",
              "      <td>70.0</td>\n",
              "      <td>261.0</td>\n",
              "      <td>18.0</td>\n",
              "      <td>0.0</td>\n",
              "      <td>0.0</td>\n",
              "      <td>0.0</td>\n",
              "      <td>0.0</td>\n",
              "      <td>2018</td>\n",
              "      <td>11</td>\n",
              "      <td>16</td>\n",
              "      <td>0.0</td>\n",
              "      <td>18.0</td>\n",
              "      <td>1370</td>\n",
              "      <td>4</td>\n",
              "      <td>3</td>\n",
              "    </tr>\n",
              "    <tr>\n",
              "      <th>979152</th>\n",
              "      <td>2018-07-12</td>\n",
              "      <td>F9</td>\n",
              "      <td>F9</td>\n",
              "      <td>DEN</td>\n",
              "      <td>1625.0</td>\n",
              "      <td>50.0</td>\n",
              "      <td>TUL</td>\n",
              "      <td>1904.0</td>\n",
              "      <td>51.0</td>\n",
              "      <td>1813</td>\n",
              "      <td>99.0</td>\n",
              "      <td>98.0</td>\n",
              "      <td>541.0</td>\n",
              "      <td>0.0</td>\n",
              "      <td>0.0</td>\n",
              "      <td>1.0</td>\n",
              "      <td>0.0</td>\n",
              "      <td>50.0</td>\n",
              "      <td>2018</td>\n",
              "      <td>7</td>\n",
              "      <td>12</td>\n",
              "      <td>0.0</td>\n",
              "      <td>51.0</td>\n",
              "      <td>1715</td>\n",
              "      <td>3</td>\n",
              "      <td>2</td>\n",
              "    </tr>\n",
              "    <tr>\n",
              "      <th>979153</th>\n",
              "      <td>2018-01-11</td>\n",
              "      <td>AA</td>\n",
              "      <td>OO</td>\n",
              "      <td>DTW</td>\n",
              "      <td>1812.0</td>\n",
              "      <td>-4.0</td>\n",
              "      <td>ORD</td>\n",
              "      <td>1846.0</td>\n",
              "      <td>1.0</td>\n",
              "      <td>1845</td>\n",
              "      <td>94.0</td>\n",
              "      <td>89.0</td>\n",
              "      <td>235.0</td>\n",
              "      <td>0.0</td>\n",
              "      <td>0.0</td>\n",
              "      <td>0.0</td>\n",
              "      <td>0.0</td>\n",
              "      <td>0.0</td>\n",
              "      <td>2018</td>\n",
              "      <td>1</td>\n",
              "      <td>11</td>\n",
              "      <td>0.0</td>\n",
              "      <td>0.0</td>\n",
              "      <td>1756</td>\n",
              "      <td>3</td>\n",
              "      <td>0</td>\n",
              "    </tr>\n",
              "    <tr>\n",
              "      <th>979154</th>\n",
              "      <td>2019-02-09</td>\n",
              "      <td>AA</td>\n",
              "      <td>AA</td>\n",
              "      <td>ORD</td>\n",
              "      <td>1719.0</td>\n",
              "      <td>44.0</td>\n",
              "      <td>LAX</td>\n",
              "      <td>1946.0</td>\n",
              "      <td>40.0</td>\n",
              "      <td>1906</td>\n",
              "      <td>267.0</td>\n",
              "      <td>271.0</td>\n",
              "      <td>1744.0</td>\n",
              "      <td>40.0</td>\n",
              "      <td>0.0</td>\n",
              "      <td>0.0</td>\n",
              "      <td>0.0</td>\n",
              "      <td>0.0</td>\n",
              "      <td>2019</td>\n",
              "      <td>2</td>\n",
              "      <td>9</td>\n",
              "      <td>1.0</td>\n",
              "      <td>40.0</td>\n",
              "      <td>1635</td>\n",
              "      <td>5</td>\n",
              "      <td>0</td>\n",
              "    </tr>\n",
              "    <tr>\n",
              "      <th>979155</th>\n",
              "      <td>2018-01-23</td>\n",
              "      <td>UA</td>\n",
              "      <td>UA</td>\n",
              "      <td>PDX</td>\n",
              "      <td>1314.0</td>\n",
              "      <td>-1.0</td>\n",
              "      <td>DEN</td>\n",
              "      <td>1628.0</td>\n",
              "      <td>-14.0</td>\n",
              "      <td>1642</td>\n",
              "      <td>134.0</td>\n",
              "      <td>147.0</td>\n",
              "      <td>991.0</td>\n",
              "      <td>0.0</td>\n",
              "      <td>0.0</td>\n",
              "      <td>0.0</td>\n",
              "      <td>0.0</td>\n",
              "      <td>0.0</td>\n",
              "      <td>2018</td>\n",
              "      <td>1</td>\n",
              "      <td>23</td>\n",
              "      <td>0.0</td>\n",
              "      <td>0.0</td>\n",
              "      <td>1495</td>\n",
              "      <td>1</td>\n",
              "      <td>0</td>\n",
              "    </tr>\n",
              "  </tbody>\n",
              "</table>\n",
              "<p>979156 rows × 26 columns</p>\n",
              "</div>"
            ],
            "text/plain": [
              "           fl_date mkt_unique_carrier  ... Weekday Season\n",
              "0       2018-10-02                 WN  ...       1      3\n",
              "1       2019-03-13                 AA  ...       2      0\n",
              "2       2019-03-19                 AA  ...       1      0\n",
              "3       2018-04-18                 DL  ...       2      1\n",
              "4       2018-04-06                 DL  ...       4      1\n",
              "...            ...                ...  ...     ...    ...\n",
              "979151  2018-11-16                 AA  ...       4      3\n",
              "979152  2018-07-12                 F9  ...       3      2\n",
              "979153  2018-01-11                 AA  ...       3      0\n",
              "979154  2019-02-09                 AA  ...       5      0\n",
              "979155  2018-01-23                 UA  ...       1      0\n",
              "\n",
              "[979156 rows x 26 columns]"
            ]
          },
          "metadata": {
            "tags": []
          },
          "execution_count": 12
        }
      ]
    },
    {
      "cell_type": "code",
      "metadata": {
        "id": "6RAzm1xBpuWN"
      },
      "source": [
        "df['dep_hour'] = df['crs_dep_time'].astype(str).str[:2].astype(int)"
      ],
      "execution_count": 13,
      "outputs": []
    },
    {
      "cell_type": "code",
      "metadata": {
        "id": "s9MTqAxNyxoS"
      },
      "source": [
        "df['mean_origin_weekday'] = df.groupby(['origin','dest','Season','Weekday','op_unique_carrier','dep_hour'])['sumDelays'].transform('mean')"
      ],
      "execution_count": 14,
      "outputs": []
    },
    {
      "cell_type": "code",
      "metadata": {
        "id": "9510dRJZ6AIS"
      },
      "source": [
        "df = df.drop(['fl_date','mkt_unique_carrier','carrier_delay','dep_delay',\t'actual_elapsed_time','weather_delay', \t'nas_delay', \t'security_delay', 'late_aircraft_delay'],axis=1)"
      ],
      "execution_count": 15,
      "outputs": []
    },
    {
      "cell_type": "code",
      "metadata": {
        "id": "lq_BjD31Y33q"
      },
      "source": [
        "testDF = df.drop(['crs_dep_time','distance','day','year','dep_time','arr_time','crs_arr_time','weekday'],axis=1)"
      ],
      "execution_count": 16,
      "outputs": []
    },
    {
      "cell_type": "code",
      "metadata": {
        "colab": {
          "base_uri": "https://localhost:8080/",
          "height": 424
        },
        "id": "OKiweDQnqWF2",
        "outputId": "01599108-8e68-47cf-8c33-005bd1341e63"
      },
      "source": [
        "testDF"
      ],
      "execution_count": 17,
      "outputs": [
        {
          "output_type": "execute_result",
          "data": {
            "text/html": [
              "<div>\n",
              "<style scoped>\n",
              "    .dataframe tbody tr th:only-of-type {\n",
              "        vertical-align: middle;\n",
              "    }\n",
              "\n",
              "    .dataframe tbody tr th {\n",
              "        vertical-align: top;\n",
              "    }\n",
              "\n",
              "    .dataframe thead th {\n",
              "        text-align: right;\n",
              "    }\n",
              "</style>\n",
              "<table border=\"1\" class=\"dataframe\">\n",
              "  <thead>\n",
              "    <tr style=\"text-align: right;\">\n",
              "      <th></th>\n",
              "      <th>op_unique_carrier</th>\n",
              "      <th>origin</th>\n",
              "      <th>dest</th>\n",
              "      <th>arr_delay</th>\n",
              "      <th>crs_elapsed_time</th>\n",
              "      <th>month</th>\n",
              "      <th>sumDelays</th>\n",
              "      <th>Weekday</th>\n",
              "      <th>Season</th>\n",
              "      <th>dep_hour</th>\n",
              "      <th>mean_origin_weekday</th>\n",
              "    </tr>\n",
              "  </thead>\n",
              "  <tbody>\n",
              "    <tr>\n",
              "      <th>0</th>\n",
              "      <td>WN</td>\n",
              "      <td>ABQ</td>\n",
              "      <td>PHX</td>\n",
              "      <td>-5.0</td>\n",
              "      <td>80.0</td>\n",
              "      <td>10</td>\n",
              "      <td>0.0</td>\n",
              "      <td>1</td>\n",
              "      <td>3</td>\n",
              "      <td>10</td>\n",
              "      <td>0.000000</td>\n",
              "    </tr>\n",
              "    <tr>\n",
              "      <th>1</th>\n",
              "      <td>YX</td>\n",
              "      <td>LGA</td>\n",
              "      <td>BNA</td>\n",
              "      <td>-18.0</td>\n",
              "      <td>165.0</td>\n",
              "      <td>3</td>\n",
              "      <td>0.0</td>\n",
              "      <td>2</td>\n",
              "      <td>0</td>\n",
              "      <td>9</td>\n",
              "      <td>0.000000</td>\n",
              "    </tr>\n",
              "    <tr>\n",
              "      <th>2</th>\n",
              "      <td>AA</td>\n",
              "      <td>HDN</td>\n",
              "      <td>DFW</td>\n",
              "      <td>-10.0</td>\n",
              "      <td>132.0</td>\n",
              "      <td>3</td>\n",
              "      <td>0.0</td>\n",
              "      <td>1</td>\n",
              "      <td>0</td>\n",
              "      <td>15</td>\n",
              "      <td>0.000000</td>\n",
              "    </tr>\n",
              "    <tr>\n",
              "      <th>3</th>\n",
              "      <td>OO</td>\n",
              "      <td>IAH</td>\n",
              "      <td>MSP</td>\n",
              "      <td>-11.0</td>\n",
              "      <td>175.0</td>\n",
              "      <td>4</td>\n",
              "      <td>0.0</td>\n",
              "      <td>2</td>\n",
              "      <td>1</td>\n",
              "      <td>7</td>\n",
              "      <td>0.000000</td>\n",
              "    </tr>\n",
              "    <tr>\n",
              "      <th>4</th>\n",
              "      <td>9E</td>\n",
              "      <td>SYR</td>\n",
              "      <td>LGA</td>\n",
              "      <td>73.0</td>\n",
              "      <td>72.0</td>\n",
              "      <td>4</td>\n",
              "      <td>73.0</td>\n",
              "      <td>4</td>\n",
              "      <td>1</td>\n",
              "      <td>14</td>\n",
              "      <td>73.000000</td>\n",
              "    </tr>\n",
              "    <tr>\n",
              "      <th>...</th>\n",
              "      <td>...</td>\n",
              "      <td>...</td>\n",
              "      <td>...</td>\n",
              "      <td>...</td>\n",
              "      <td>...</td>\n",
              "      <td>...</td>\n",
              "      <td>...</td>\n",
              "      <td>...</td>\n",
              "      <td>...</td>\n",
              "      <td>...</td>\n",
              "      <td>...</td>\n",
              "    </tr>\n",
              "    <tr>\n",
              "      <th>979151</th>\n",
              "      <td>OO</td>\n",
              "      <td>PHX</td>\n",
              "      <td>PSP</td>\n",
              "      <td>18.0</td>\n",
              "      <td>70.0</td>\n",
              "      <td>11</td>\n",
              "      <td>18.0</td>\n",
              "      <td>4</td>\n",
              "      <td>3</td>\n",
              "      <td>13</td>\n",
              "      <td>67.500000</td>\n",
              "    </tr>\n",
              "    <tr>\n",
              "      <th>979152</th>\n",
              "      <td>F9</td>\n",
              "      <td>DEN</td>\n",
              "      <td>TUL</td>\n",
              "      <td>51.0</td>\n",
              "      <td>98.0</td>\n",
              "      <td>7</td>\n",
              "      <td>51.0</td>\n",
              "      <td>3</td>\n",
              "      <td>2</td>\n",
              "      <td>17</td>\n",
              "      <td>45.500000</td>\n",
              "    </tr>\n",
              "    <tr>\n",
              "      <th>979153</th>\n",
              "      <td>OO</td>\n",
              "      <td>DTW</td>\n",
              "      <td>ORD</td>\n",
              "      <td>1.0</td>\n",
              "      <td>89.0</td>\n",
              "      <td>1</td>\n",
              "      <td>0.0</td>\n",
              "      <td>3</td>\n",
              "      <td>0</td>\n",
              "      <td>17</td>\n",
              "      <td>0.000000</td>\n",
              "    </tr>\n",
              "    <tr>\n",
              "      <th>979154</th>\n",
              "      <td>AA</td>\n",
              "      <td>ORD</td>\n",
              "      <td>LAX</td>\n",
              "      <td>40.0</td>\n",
              "      <td>271.0</td>\n",
              "      <td>2</td>\n",
              "      <td>40.0</td>\n",
              "      <td>5</td>\n",
              "      <td>0</td>\n",
              "      <td>16</td>\n",
              "      <td>13.333333</td>\n",
              "    </tr>\n",
              "    <tr>\n",
              "      <th>979155</th>\n",
              "      <td>UA</td>\n",
              "      <td>PDX</td>\n",
              "      <td>DEN</td>\n",
              "      <td>-14.0</td>\n",
              "      <td>147.0</td>\n",
              "      <td>1</td>\n",
              "      <td>0.0</td>\n",
              "      <td>1</td>\n",
              "      <td>0</td>\n",
              "      <td>14</td>\n",
              "      <td>0.000000</td>\n",
              "    </tr>\n",
              "  </tbody>\n",
              "</table>\n",
              "<p>979156 rows × 11 columns</p>\n",
              "</div>"
            ],
            "text/plain": [
              "       op_unique_carrier origin dest  ...  Season  dep_hour  mean_origin_weekday\n",
              "0                     WN    ABQ  PHX  ...       3        10             0.000000\n",
              "1                     YX    LGA  BNA  ...       0         9             0.000000\n",
              "2                     AA    HDN  DFW  ...       0        15             0.000000\n",
              "3                     OO    IAH  MSP  ...       1         7             0.000000\n",
              "4                     9E    SYR  LGA  ...       1        14            73.000000\n",
              "...                  ...    ...  ...  ...     ...       ...                  ...\n",
              "979151                OO    PHX  PSP  ...       3        13            67.500000\n",
              "979152                F9    DEN  TUL  ...       2        17            45.500000\n",
              "979153                OO    DTW  ORD  ...       0        17             0.000000\n",
              "979154                AA    ORD  LAX  ...       0        16            13.333333\n",
              "979155                UA    PDX  DEN  ...       0        14             0.000000\n",
              "\n",
              "[979156 rows x 11 columns]"
            ]
          },
          "metadata": {
            "tags": []
          },
          "execution_count": 17
        }
      ]
    },
    {
      "cell_type": "code",
      "metadata": {
        "id": "oZP80jcx6kbV"
      },
      "source": [
        "from sklearn import preprocessing\n",
        "le = preprocessing.LabelEncoder()\n",
        "testDF['op_unique_carrier']= le.fit_transform(testDF['op_unique_carrier'])"
      ],
      "execution_count": 18,
      "outputs": []
    },
    {
      "cell_type": "code",
      "metadata": {
        "id": "nsb2qsp67wf0"
      },
      "source": [
        "testDF['origin']= le.fit_transform(testDF['origin'])"
      ],
      "execution_count": 19,
      "outputs": []
    },
    {
      "cell_type": "code",
      "metadata": {
        "id": "hxG5lcYzU2Ce"
      },
      "source": [
        "testDF['dest']= le.fit_transform(testDF['dest'])"
      ],
      "execution_count": 20,
      "outputs": []
    },
    {
      "cell_type": "code",
      "metadata": {
        "colab": {
          "base_uri": "https://localhost:8080/",
          "height": 424
        },
        "id": "ngSe0SQ94ewR",
        "outputId": "54484963-97ec-46c7-e0ab-b5806d36442f"
      },
      "source": [
        "testDF"
      ],
      "execution_count": 21,
      "outputs": [
        {
          "output_type": "execute_result",
          "data": {
            "text/html": [
              "<div>\n",
              "<style scoped>\n",
              "    .dataframe tbody tr th:only-of-type {\n",
              "        vertical-align: middle;\n",
              "    }\n",
              "\n",
              "    .dataframe tbody tr th {\n",
              "        vertical-align: top;\n",
              "    }\n",
              "\n",
              "    .dataframe thead th {\n",
              "        text-align: right;\n",
              "    }\n",
              "</style>\n",
              "<table border=\"1\" class=\"dataframe\">\n",
              "  <thead>\n",
              "    <tr style=\"text-align: right;\">\n",
              "      <th></th>\n",
              "      <th>op_unique_carrier</th>\n",
              "      <th>origin</th>\n",
              "      <th>dest</th>\n",
              "      <th>arr_delay</th>\n",
              "      <th>crs_elapsed_time</th>\n",
              "      <th>month</th>\n",
              "      <th>sumDelays</th>\n",
              "      <th>Weekday</th>\n",
              "      <th>Season</th>\n",
              "      <th>dep_hour</th>\n",
              "      <th>mean_origin_weekday</th>\n",
              "    </tr>\n",
              "  </thead>\n",
              "  <tbody>\n",
              "    <tr>\n",
              "      <th>0</th>\n",
              "      <td>21</td>\n",
              "      <td>2</td>\n",
              "      <td>246</td>\n",
              "      <td>-5.0</td>\n",
              "      <td>80.0</td>\n",
              "      <td>10</td>\n",
              "      <td>0.0</td>\n",
              "      <td>1</td>\n",
              "      <td>3</td>\n",
              "      <td>10</td>\n",
              "      <td>0.000000</td>\n",
              "    </tr>\n",
              "    <tr>\n",
              "      <th>1</th>\n",
              "      <td>23</td>\n",
              "      <td>187</td>\n",
              "      <td>41</td>\n",
              "      <td>-18.0</td>\n",
              "      <td>165.0</td>\n",
              "      <td>3</td>\n",
              "      <td>0.0</td>\n",
              "      <td>2</td>\n",
              "      <td>0</td>\n",
              "      <td>9</td>\n",
              "      <td>0.000000</td>\n",
              "    </tr>\n",
              "    <tr>\n",
              "      <th>2</th>\n",
              "      <td>1</td>\n",
              "      <td>139</td>\n",
              "      <td>87</td>\n",
              "      <td>-10.0</td>\n",
              "      <td>132.0</td>\n",
              "      <td>3</td>\n",
              "      <td>0.0</td>\n",
              "      <td>1</td>\n",
              "      <td>0</td>\n",
              "      <td>15</td>\n",
              "      <td>0.000000</td>\n",
              "    </tr>\n",
              "    <tr>\n",
              "      <th>3</th>\n",
              "      <td>16</td>\n",
              "      <td>153</td>\n",
              "      <td>222</td>\n",
              "      <td>-11.0</td>\n",
              "      <td>175.0</td>\n",
              "      <td>4</td>\n",
              "      <td>0.0</td>\n",
              "      <td>2</td>\n",
              "      <td>1</td>\n",
              "      <td>7</td>\n",
              "      <td>0.000000</td>\n",
              "    </tr>\n",
              "    <tr>\n",
              "      <th>4</th>\n",
              "      <td>0</td>\n",
              "      <td>316</td>\n",
              "      <td>186</td>\n",
              "      <td>73.0</td>\n",
              "      <td>72.0</td>\n",
              "      <td>4</td>\n",
              "      <td>73.0</td>\n",
              "      <td>4</td>\n",
              "      <td>1</td>\n",
              "      <td>14</td>\n",
              "      <td>73.000000</td>\n",
              "    </tr>\n",
              "    <tr>\n",
              "      <th>...</th>\n",
              "      <td>...</td>\n",
              "      <td>...</td>\n",
              "      <td>...</td>\n",
              "      <td>...</td>\n",
              "      <td>...</td>\n",
              "      <td>...</td>\n",
              "      <td>...</td>\n",
              "      <td>...</td>\n",
              "      <td>...</td>\n",
              "      <td>...</td>\n",
              "      <td>...</td>\n",
              "    </tr>\n",
              "    <tr>\n",
              "      <th>979151</th>\n",
              "      <td>16</td>\n",
              "      <td>247</td>\n",
              "      <td>258</td>\n",
              "      <td>18.0</td>\n",
              "      <td>70.0</td>\n",
              "      <td>11</td>\n",
              "      <td>18.0</td>\n",
              "      <td>4</td>\n",
              "      <td>3</td>\n",
              "      <td>13</td>\n",
              "      <td>67.500000</td>\n",
              "    </tr>\n",
              "    <tr>\n",
              "      <th>979152</th>\n",
              "      <td>9</td>\n",
              "      <td>86</td>\n",
              "      <td>321</td>\n",
              "      <td>51.0</td>\n",
              "      <td>98.0</td>\n",
              "      <td>7</td>\n",
              "      <td>51.0</td>\n",
              "      <td>3</td>\n",
              "      <td>2</td>\n",
              "      <td>17</td>\n",
              "      <td>45.500000</td>\n",
              "    </tr>\n",
              "    <tr>\n",
              "      <th>979153</th>\n",
              "      <td>16</td>\n",
              "      <td>94</td>\n",
              "      <td>235</td>\n",
              "      <td>1.0</td>\n",
              "      <td>89.0</td>\n",
              "      <td>1</td>\n",
              "      <td>0.0</td>\n",
              "      <td>3</td>\n",
              "      <td>0</td>\n",
              "      <td>17</td>\n",
              "      <td>0.000000</td>\n",
              "    </tr>\n",
              "    <tr>\n",
              "      <th>979154</th>\n",
              "      <td>1</td>\n",
              "      <td>236</td>\n",
              "      <td>178</td>\n",
              "      <td>40.0</td>\n",
              "      <td>271.0</td>\n",
              "      <td>2</td>\n",
              "      <td>40.0</td>\n",
              "      <td>5</td>\n",
              "      <td>0</td>\n",
              "      <td>16</td>\n",
              "      <td>13.333333</td>\n",
              "    </tr>\n",
              "    <tr>\n",
              "      <th>979155</th>\n",
              "      <td>19</td>\n",
              "      <td>243</td>\n",
              "      <td>86</td>\n",
              "      <td>-14.0</td>\n",
              "      <td>147.0</td>\n",
              "      <td>1</td>\n",
              "      <td>0.0</td>\n",
              "      <td>1</td>\n",
              "      <td>0</td>\n",
              "      <td>14</td>\n",
              "      <td>0.000000</td>\n",
              "    </tr>\n",
              "  </tbody>\n",
              "</table>\n",
              "<p>979156 rows × 11 columns</p>\n",
              "</div>"
            ],
            "text/plain": [
              "        op_unique_carrier  origin  dest  ...  Season  dep_hour  mean_origin_weekday\n",
              "0                      21       2   246  ...       3        10             0.000000\n",
              "1                      23     187    41  ...       0         9             0.000000\n",
              "2                       1     139    87  ...       0        15             0.000000\n",
              "3                      16     153   222  ...       1         7             0.000000\n",
              "4                       0     316   186  ...       1        14            73.000000\n",
              "...                   ...     ...   ...  ...     ...       ...                  ...\n",
              "979151                 16     247   258  ...       3        13            67.500000\n",
              "979152                  9      86   321  ...       2        17            45.500000\n",
              "979153                 16      94   235  ...       0        17             0.000000\n",
              "979154                  1     236   178  ...       0        16            13.333333\n",
              "979155                 19     243    86  ...       0        14             0.000000\n",
              "\n",
              "[979156 rows x 11 columns]"
            ]
          },
          "metadata": {
            "tags": []
          },
          "execution_count": 21
        }
      ]
    },
    {
      "cell_type": "code",
      "metadata": {
        "id": "qpXvfPOI74Ec"
      },
      "source": [
        "X,y = testDF.drop('arr_delay',axis=1),testDF['arr_delay']"
      ],
      "execution_count": 22,
      "outputs": []
    },
    {
      "cell_type": "code",
      "metadata": {
        "id": "q-eqnl228sKq"
      },
      "source": [
        "from sklearn.model_selection import train_test_split"
      ],
      "execution_count": 23,
      "outputs": []
    },
    {
      "cell_type": "code",
      "metadata": {
        "id": "vRunw2ip8n08"
      },
      "source": [
        "X_train, X_test, y_train, y_test = train_test_split(X, y, test_size=0.3, random_state=12)"
      ],
      "execution_count": 24,
      "outputs": []
    },
    {
      "cell_type": "code",
      "metadata": {
        "id": "Fi0EvR1SzpiE"
      },
      "source": [
        "from sklearn.decomposition import PCA\n",
        "from sklearn.preprocessing import StandardScaler"
      ],
      "execution_count": 25,
      "outputs": []
    },
    {
      "cell_type": "code",
      "metadata": {
        "colab": {
          "base_uri": "https://localhost:8080/"
        },
        "id": "j3e9QGFf2hfJ",
        "outputId": "4a184744-b471-4f82-f2a3-45f0e972b441"
      },
      "source": [
        "pca = PCA()\n",
        "scaler = StandardScaler()\n",
        "X=scaler.fit_transform(X)\n",
        "pca.fit_transform(X)"
      ],
      "execution_count": 26,
      "outputs": [
        {
          "output_type": "execute_result",
          "data": {
            "text/plain": [
              "array([[-1.72745701, -0.28765528, -1.12923279, ...,  0.07893969,\n",
              "        -0.04177758, -0.22311721],\n",
              "       [ 1.61006312, -0.91132771, -0.52460052, ...,  1.25469081,\n",
              "        -0.04233047,  0.23541781],\n",
              "       [ 1.64631204, -0.69492895,  0.08066412, ..., -0.32823261,\n",
              "        -0.0673252 ,  0.2400073 ],\n",
              "       ...,\n",
              "       [ 2.05066281, -0.6763895 , -1.03465406, ..., -0.15344218,\n",
              "        -0.07197634, -0.18409721],\n",
              "       [ 2.0066795 ,  0.1789559 ,  2.07699472, ...,  0.21427285,\n",
              "        -0.47956068,  0.01631816],\n",
              "       [ 2.05331009, -0.79643812, -0.56635179, ...,  0.6844292 ,\n",
              "        -0.06449714, -0.1768361 ]])"
            ]
          },
          "metadata": {
            "tags": []
          },
          "execution_count": 26
        }
      ]
    },
    {
      "cell_type": "code",
      "metadata": {
        "colab": {
          "base_uri": "https://localhost:8080/",
          "height": 279
        },
        "id": "ilet8gcw2Ei9",
        "outputId": "7e903704-7765-457e-aed6-40d8812ca5ad"
      },
      "source": [
        "features = range(pca.n_components_)\n",
        "plt.bar(features, pca.explained_variance_ratio_)\n",
        "plt.xticks(features)\n",
        "plt.xlabel(\"PCA features\")\n",
        "plt.ylabel(\"variance\")\n",
        "plt.show()"
      ],
      "execution_count": 27,
      "outputs": [
        {
          "output_type": "display_data",
          "data": {
            "image/png": "[encoded data removed]",
            "text/plain": [
              "<Figure size 432x288 with 1 Axes>"
            ]
          },
          "metadata": {
            "tags": [],
            "needs_background": "light"
          }
        }
      ]
    },
    {
      "cell_type": "code",
      "metadata": {
        "id": "oZhu56Do3OVI"
      },
      "source": [
        "pca = PCA(n_components=8)\n",
        "pca.fit(X)\n",
        "X_train = pca.transform(X_train)\n",
        "X_test = pca.transform(X_test)"
      ],
      "execution_count": 28,
      "outputs": []
    },
    {
      "cell_type": "code",
      "metadata": {
        "id": "1op7hwgJ807E"
      },
      "source": [
        "from sklearn.tree import DecisionTreeRegressor\n",
        "from sklearn.ensemble import RandomForestRegressor,GradientBoostingRegressor\n",
        "from sklearn.metrics import r2_score \n",
        "from sklearn.model_selection import GridSearchCV\n",
        "import xgboost as xg"
      ],
      "execution_count": 29,
      "outputs": []
    },
    {
      "cell_type": "code",
      "metadata": {
        "id": "WxyEBYXU9i9j"
      },
      "source": [
        "from sklearn.metrics import mean_squared_error"
      ],
      "execution_count": 30,
      "outputs": []
    },
    {
      "cell_type": "code",
      "metadata": {
        "id": "LYIX_4gsI79X",
        "colab": {
          "base_uri": "https://localhost:8080/"
        },
        "outputId": "bae89c77-f6f2-4765-f361-e5b1a8117fb4"
      },
      "source": [
        "model = RandomForestRegressor(n_estimators=100,max_depth=4,random_state=1)\n",
        "model.fit(X_train,y_train)\n",
        "y_pred = model.predict(X_test)\n",
        "model.score(X_test,y_test)"
      ],
      "execution_count": 43,
      "outputs": [
        {
          "output_type": "execute_result",
          "data": {
            "text/plain": [
              "0.870115019380406"
            ]
          },
          "metadata": {
            "tags": []
          },
          "execution_count": 43
        }
      ]
    },
    {
      "cell_type": "code",
      "metadata": {
        "colab": {
          "base_uri": "https://localhost:8080/"
        },
        "id": "Z0eUHZSMy5V3",
        "outputId": "7176f522-3b8f-44d5-9132-14c24cc81eea"
      },
      "source": [
        "print('mean_squared_error:', mean_squared_error(y_test,y_pred))\n",
        "print('RSME:',np.sqrt(mean_squared_error(y_test, y_pred)))\n",
        "print('r2 score:', r2_score(y_test,y_pred))\n",
        "print('Adjusted R2 value:', 1 - (1-model.score(X_test,y_test))*(len(y_test)-1)/(len(y_test)-X_test.shape[1]-1))"
      ],
      "execution_count": 44,
      "outputs": [
        {
          "output_type": "stream",
          "text": [
            "mean_squared_error: 252.94779011144283\n",
            "RSME: 15.904332432121848\n",
            "r2 score: 0.870115019380406\n",
            "Adjusted R2 value: 0.8701114819428087\n"
          ],
          "name": "stdout"
        }
      ]
    },
    {
      "cell_type": "code",
      "metadata": {
        "id": "QuNK4OTZ9Uy4"
      },
      "source": [
        "model = GradientBoostingRegressor(n_estimators=150,learning_rate=1.5,random_state=1)\n",
        "model.fit(X_train,y_train)\n",
        "y_pred = model.predict(X_test)"
      ],
      "execution_count": 45,
      "outputs": []
    },
    {
      "cell_type": "code",
      "metadata": {
        "colab": {
          "base_uri": "https://localhost:8080/"
        },
        "id": "59342UMXzAFz",
        "outputId": "faab1fab-33c8-4073-ed46-b0e651266935"
      },
      "source": [
        "print('mean_squared_error:', mean_squared_error(y_test,y_pred))\n",
        "print('RSME:',np.sqrt(mean_squared_error(y_test, y_pred)))\n",
        "print('r2 score:', r2_score(y_test,y_pred))\n",
        "print('Adjusted R2 value:', 1 - (1-model.score(X_test,y_test))*(len(y_test)-1)/(len(y_test)-X_test.shape[1]-1))"
      ],
      "execution_count": 46,
      "outputs": [
        {
          "output_type": "stream",
          "text": [
            "mean_squared_error: 259.990780264155\n",
            "RSME: 16.124229602190457\n",
            "r2 score: 0.8664985472258718\n",
            "Adjusted R2 value: 0.8664949112930944\n"
          ],
          "name": "stdout"
        }
      ]
    },
    {
      "cell_type": "code",
      "metadata": {
        "id": "ISa2NORI7JzS"
      },
      "source": [
        "import xgboost as xgb"
      ],
      "execution_count": 35,
      "outputs": []
    },
    {
      "cell_type": "code",
      "metadata": {
        "colab": {
          "base_uri": "https://localhost:8080/"
        },
        "id": "xcfnPUP-7NKF",
        "outputId": "3892c804-8796-43b0-e5fe-593dd53ace1c"
      },
      "source": [
        "xgbr = xgb.XGBRegressor(verbosity=0) \n",
        "xgbr.fit(X_train,y_train)\n",
        "y_pred = xgbr.predict(X_test)\n",
        "xgbr.score(X_test,y_test)"
      ],
      "execution_count": 48,
      "outputs": [
        {
          "output_type": "execute_result",
          "data": {
            "text/plain": [
              "0.8740873336592033"
            ]
          },
          "metadata": {
            "tags": []
          },
          "execution_count": 48
        }
      ]
    },
    {
      "cell_type": "code",
      "metadata": {
        "colab": {
          "base_uri": "https://localhost:8080/"
        },
        "id": "lCQ1VrOPJ6Yc",
        "outputId": "48f7314a-38b5-4867-ce32-13a1cd5990d5"
      },
      "source": [
        "print('mean_squared_error:', mean_squared_error(y_test,y_pred))\n",
        "print('RSME:',np.sqrt(mean_squared_error(y_test, y_pred)))\n",
        "print('r2 score:', r2_score(y_test,y_pred))\n",
        "print('Adjusted R2 value:', 1 - (1-model.score(X_test,y_test))*(len(y_test)-1)/(len(y_test)-X_test.shape[1]-1))"
      ],
      "execution_count": 40,
      "outputs": [
        {
          "output_type": "stream",
          "text": [
            "mean_squared_error: 245.21180621510055\n",
            "RSME: 15.659240282181653\n",
            "r2 score: 0.8740873336592033\n",
            "Adjusted R2 value: 0.8697878129286141\n"
          ],
          "name": "stdout"
        }
      ]
    }
  ]
}