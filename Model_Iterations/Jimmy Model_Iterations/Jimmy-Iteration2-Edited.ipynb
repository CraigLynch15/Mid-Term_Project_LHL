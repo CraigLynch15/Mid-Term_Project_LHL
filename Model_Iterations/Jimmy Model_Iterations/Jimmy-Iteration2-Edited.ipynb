{
  "nbformat": 4,
  "nbformat_minor": 0,
  "metadata": {
    "colab": {
      "name": "testData.ipynb",
      "provenance": [],
      "collapsed_sections": []
    },
    "kernelspec": {
      "name": "python3",
      "display_name": "Python 3"
    },
    "language_info": {
      "name": "python"
    }
  },
  "cells": [
    {
      "cell_type": "code",
      "metadata": {
        "id": "J_mfCO6irwS9"
      },
      "source": [
        "# import pandas as pd \n",
        "# from sklearn.ensemble import RandomForestRegressor\n",
        "# from sklearn.metrics import mean_squared_error\n",
        "# import numpy as np\n",
        "# from sklearn.model_selection import train_test_split\n",
        "# X = pd.read_csv('/gdrive/MyDrive/cleaned_training_data_01.csv')\n",
        "# X['average_delay'] = X['carrier_delay'] + X['nas_delay'] + X['late_aircraft_delay']\n",
        "# X = X[['crs_arr_time','actual_elapsed_time','distance','year','month','day','weekday','average_delay']]\n",
        "# y = X['arr_delay']\n",
        "# reg = RandomForestRegressor(n_estimators=100)\n",
        "# X_train, X_test, y_train, y_test = train_test_split(X, y, test_size=0.3)\n",
        "# reg.fit(X_train,y_train)\n",
        "\n",
        "# y_pred=reg.predict(X_test)\n",
        "# rmse = np.sqrt(mean_squared_error(y_test, y_pred))\n",
        "# rmse"
      ],
      "execution_count": 1,
      "outputs": []
    },
    {
      "cell_type": "code",
      "metadata": {
        "id": "q-eqnl228sKq"
      },
      "source": [
        "from sklearn.model_selection import train_test_split"
      ],
      "execution_count": 2,
      "outputs": []
    },
    {
      "cell_type": "code",
      "metadata": {
        "id": "-3za-mt33Gvi",
        "colab": {
          "base_uri": "https://localhost:8080/"
        },
        "outputId": "378c8b0c-e322-43d9-d3b7-21a313e672c8"
      },
      "source": [
        "from google.colab import drive\n",
        "drive.mount('/gdrive')\n",
        "%cd /gdrive"
      ],
      "execution_count": 3,
      "outputs": [
        {
          "output_type": "stream",
          "text": [
            "Drive already mounted at /gdrive; to attempt to forcibly remount, call drive.mount(\"/gdrive\", force_remount=True).\n",
            "/gdrive\n"
          ],
          "name": "stdout"
        }
      ]
    },
    {
      "cell_type": "code",
      "metadata": {
        "id": "jYqzjJ1DcdDS"
      },
      "source": [
        "import pandas as pd \n",
        "import numpy as np\n",
        "from sklearn.utils import shuffle"
      ],
      "execution_count": 4,
      "outputs": []
    },
    {
      "cell_type": "code",
      "metadata": {
        "id": "noDBT0PeHatl"
      },
      "source": [
        "df = pd.read_csv('/gdrive/MyDrive/data_for_model_iterations_03.csv')"
      ],
      "execution_count": 44,
      "outputs": []
    },
    {
      "cell_type": "code",
      "metadata": {
        "colab": {
          "base_uri": "https://localhost:8080/"
        },
        "id": "qhtKncwdhxmI",
        "outputId": "149c6c05-d55e-47b0-c752-9c690e98b635"
      },
      "source": [
        "row_has_NaN = df.isnull().any(axis=1)\n",
        "rows_with_NaN = df[row_has_NaN]\n",
        "print(rows_with_NaN)\n",
        "df.loc[189984]"
      ],
      "execution_count": 49,
      "outputs": [
        {
          "output_type": "stream",
          "text": [
            "           fl_date mkt_unique_carrier  ... weekday  total_carrier_delay\n",
            "189984  2018-09-23                 DL  ...     1.0                  NaN\n",
            "\n",
            "[1 rows x 25 columns]\n"
          ],
          "name": "stdout"
        },
        {
          "output_type": "execute_result",
          "data": {
            "text/plain": [
              "fl_date                2018-09-23\n",
              "mkt_unique_carrier             DL\n",
              "op_unique_carrier              DL\n",
              "op_carrier_fl_num             890\n",
              "origin                        DTW\n",
              "dep_time                      655\n",
              "crs_dep_time                  700\n",
              "dep_delay                      -5\n",
              "dest                          RDU\n",
              "arr_time                      824\n",
              "arr_delay                     -24\n",
              "crs_arr_time                  848\n",
              "actual_elapsed_time            89\n",
              "crs_elapsed_time              108\n",
              "distance                      501\n",
              "carrier_delay                   0\n",
              "weather_delay                   0\n",
              "nas_delay                       0\n",
              "security_delay                  0\n",
              "late_aircraft_delay             0\n",
              "year                         2018\n",
              "month                           9\n",
              "day                            23\n",
              "weekday                         1\n",
              "total_carrier_delay           NaN\n",
              "Name: 189984, dtype: object"
            ]
          },
          "metadata": {
            "tags": []
          },
          "execution_count": 49
        }
      ]
    },
    {
      "cell_type": "code",
      "metadata": {
        "id": "AivV4zvcVUBN"
      },
      "source": [
        "weatherdf = pd.read_csv('/gdrive/MyDrive/weather.csv')"
      ],
      "execution_count": 6,
      "outputs": []
    },
    {
      "cell_type": "code",
      "metadata": {
        "id": "lV0xYaoyV6tC"
      },
      "source": [
        "weatherdf = weatherdf[['date','airport_code','visibility','value']]\n"
      ],
      "execution_count": 7,
      "outputs": []
    },
    {
      "cell_type": "code",
      "metadata": {
        "id": "wsqJBXmmWsLr"
      },
      "source": [
        "weatherdf = weatherdf.rename({'date':'fl_date','airport_code':'origin'},axis=1)\n"
      ],
      "execution_count": 8,
      "outputs": []
    },
    {
      "cell_type": "code",
      "metadata": {
        "id": "oVXb_QasWjU3"
      },
      "source": [
        "df = df.merge(weatherdf, on=['fl_date','origin'])\n"
      ],
      "execution_count": 9,
      "outputs": []
    },
    {
      "cell_type": "code",
      "metadata": {
        "id": "DMyGb1Gi3dYA"
      },
      "source": [
        "import sklearn.preprocessing\n",
        "from sklearn.linear_model import LogisticRegression\n",
        "import matplotlib.pyplot as plt"
      ],
      "execution_count": 10,
      "outputs": []
    },
    {
      "cell_type": "code",
      "metadata": {
        "id": "RyADWYQAYOtw"
      },
      "source": [
        "df['op_unique_carrier'] = df.op_unique_carrier.astype('category').cat.codes.astype('category')\n",
        "df['origin'] = df.origin.astype('category').cat.codes.astype('category')\n",
        "df['dest'] = df.dest.astype('category').cat.codes.astype('category')\n",
        "df['visibility'] = df.visibility.astype('category').cat.codes.astype('category')"
      ],
      "execution_count": 11,
      "outputs": []
    },
    {
      "cell_type": "code",
      "metadata": {
        "id": "eMLLOP58OnTu"
      },
      "source": [
        "def crs_dep(row):\n",
        "  if row['crs_dep_time'] < 0:\n",
        "    return 2400 + row['crs_dep_time']\n",
        "  else:\n",
        "    return row['crs_dep_time']"
      ],
      "execution_count": 12,
      "outputs": []
    },
    {
      "cell_type": "code",
      "metadata": {
        "id": "SrWpm1-dr1PC"
      },
      "source": [
        "def value(row):\n",
        "  if 'snow' in row['value']:\n",
        "    return 'Snow'\n",
        "  elif 'rain' in row['value']:\n",
        "    return 'Rain'\n",
        "  elif 'showers' in row['value']:\n",
        "    return 'Rain'\n",
        "  elif 'possible' in row['value']:\n",
        "    return 'Rain'\n",
        "  elif 'drizzle' in row['value']:\n",
        "    return 'Rain'\n",
        "  elif 'sleet' in row['value']:\n",
        "    return 'Rain/Snow'\n",
        "  elif 'blizzard' in row['value']:\n",
        "    return 'Snow'\n",
        "  else:\n",
        "    return row['value']"
      ],
      "execution_count": 13,
      "outputs": []
    },
    {
      "cell_type": "code",
      "metadata": {
        "id": "qpXvfPOI74Ec"
      },
      "source": [
        "X,y = df.drop('arr_delay',axis=1),df['arr_delay']"
      ],
      "execution_count": 14,
      "outputs": []
    },
    {
      "cell_type": "code",
      "metadata": {
        "id": "dFQBUBJUhpGP"
      },
      "source": [
        "X['crs_dep_time'] = X['crs_arr_time'] - X['crs_elapsed_time']\n"
      ],
      "execution_count": 15,
      "outputs": []
    },
    {
      "cell_type": "code",
      "metadata": {
        "id": "yCrDIVkYov5s"
      },
      "source": [
        "X['crs_dep_time'] = X.apply(crs_dep,axis=1)\n"
      ],
      "execution_count": 16,
      "outputs": []
    },
    {
      "cell_type": "code",
      "metadata": {
        "id": "SarN94dotR9W"
      },
      "source": [
        "X['value'] = X.apply(value,axis=1)\n",
        "X['value'] = X.value.astype('category').cat.codes.astype('category')\n",
        "\n"
      ],
      "execution_count": 17,
      "outputs": []
    },
    {
      "cell_type": "code",
      "metadata": {
        "id": "0LPuP5s_M7qH"
      },
      "source": [
        "X['crs_dep_time'] = X['crs_dep_time'].astype(float).astype(int).apply(lambda x: '{0:0>4}'.format(x)).astype(str)"
      ],
      "execution_count": 18,
      "outputs": []
    },
    {
      "cell_type": "code",
      "metadata": {
        "id": "Hs0Ds4f82U2R"
      },
      "source": [
        "X['crs_arr_hour'] = X['crs_arr_time'].astype(str).str[:2].astype(int)\n",
        "\n",
        "X['crs_dep_hour'] = X['crs_dep_time'].astype(str).str[:2].astype(int)\n"
      ],
      "execution_count": 19,
      "outputs": []
    },
    {
      "cell_type": "code",
      "metadata": {
        "id": "T_E_Cnv8ANah",
        "colab": {
          "base_uri": "https://localhost:8080/"
        },
        "outputId": "40f49cd6-26b1-4e53-bdb5-c21184c78d4d"
      },
      "source": [
        "X['Numerical_Week']= (pd.to_datetime(X['fl_date']).dt.weekofyear)\n",
        "X['Season']= (pd.to_datetime(X['fl_date']).dt.month - 1) // 3/ 3"
      ],
      "execution_count": 20,
      "outputs": [
        {
          "output_type": "stream",
          "text": [
            "/usr/local/lib/python3.7/dist-packages/ipykernel_launcher.py:1: FutureWarning: Series.dt.weekofyear and Series.dt.week have been deprecated.  Please use Series.dt.isocalendar().week instead.\n",
            "  \"\"\"Entry point for launching an IPython kernel.\n"
          ],
          "name": "stderr"
        }
      ]
    },
    {
      "cell_type": "code",
      "metadata": {
        "id": "x9sON7su2e1_"
      },
      "source": [
        "X['Weekday'] = pd.to_datetime(X['fl_date']).dt.dayofweek"
      ],
      "execution_count": 21,
      "outputs": []
    },
    {
      "cell_type": "code",
      "metadata": {
        "id": "QR-k91aAD8V0"
      },
      "source": [
        "X['sumDelays'] = X['carrier_delay']+\tX['weather_delay'] + \tX['nas_delay']+ X['security_delay']+ \tX['late_aircraft_delay']\n",
        "X['meanOfGrouping'] = X.groupby(['dest','Numerical_Week','crs_arr_hour'])['sumDelays'].transform('mean')\n",
        "X= X.drop(['sumDelays'], axis=1)\n"
      ],
      "execution_count": 22,
      "outputs": []
    },
    {
      "cell_type": "code",
      "metadata": {
        "id": "9510dRJZ6AIS"
      },
      "source": [
        "X= X.drop(['fl_date','mkt_unique_carrier','carrier_delay','day','dep_delay','dep_time','Season',\t'actual_elapsed_time','weather_delay', \t'nas_delay', \t'security_delay', 'late_aircraft_delay'],axis=1)\n",
        "X = X.drop(['year','crs_arr_time'],axis=1)\n",
        "X = X.drop(['weekday','visibility','crs_dep_time','arr_time'],axis=1)"
      ],
      "execution_count": 23,
      "outputs": []
    },
    {
      "cell_type": "code",
      "metadata": {
        "colab": {
          "base_uri": "https://localhost:8080/"
        },
        "id": "MTrIokD1bddf",
        "outputId": "15cda67d-b11c-488d-ef95-00f117192f45"
      },
      "source": [
        "X.dtypes"
      ],
      "execution_count": 24,
      "outputs": [
        {
          "output_type": "execute_result",
          "data": {
            "text/plain": [
              "op_unique_carrier      category\n",
              "op_carrier_fl_num         int64\n",
              "origin                 category\n",
              "dest                   category\n",
              "crs_elapsed_time        float64\n",
              "distance                float64\n",
              "month                     int64\n",
              "total_carrier_delay     float64\n",
              "value                  category\n",
              "crs_arr_hour              int64\n",
              "crs_dep_hour              int64\n",
              "Numerical_Week            int64\n",
              "Weekday                   int64\n",
              "meanOfGrouping          float64\n",
              "dtype: object"
            ]
          },
          "metadata": {
            "tags": []
          },
          "execution_count": 24
        }
      ]
    },
    {
      "cell_type": "code",
      "metadata": {
        "id": "9rOCMYRapAiW"
      },
      "source": [
        "# X = X.drop(['crs_dep_time','origin','dest','op_unique_carrier','day','year','dep_time','arr_time','sumDelays','crs_arr_time','weekday'],axis=1)"
      ],
      "execution_count": 25,
      "outputs": []
    },
    {
      "cell_type": "code",
      "metadata": {
        "id": "1op7hwgJ807E"
      },
      "source": [
        "from sklearn.tree import DecisionTreeRegressor\n",
        "from sklearn.ensemble import RandomForestRegressor,GradientBoostingRegressor\n",
        "from sklearn.metrics import r2_score \n",
        "from sklearn.model_selection import GridSearchCV\n",
        "import xgboost as xg"
      ],
      "execution_count": 26,
      "outputs": []
    },
    {
      "cell_type": "code",
      "metadata": {
        "id": "oKR_I6LJZg9Y"
      },
      "source": [
        "from sklearn.model_selection import GridSearchCV"
      ],
      "execution_count": 27,
      "outputs": []
    },
    {
      "cell_type": "code",
      "metadata": {
        "id": "vRunw2ip8n08"
      },
      "source": [
        "X_train, X_test, y_train, y_test = train_test_split(X, y, test_size=0.3, random_state=12)"
      ],
      "execution_count": 28,
      "outputs": []
    },
    {
      "cell_type": "code",
      "metadata": {
        "colab": {
          "base_uri": "https://localhost:8080/"
        },
        "id": "E8V-DPnvYFuf",
        "outputId": "5b054c18-9c1a-4d92-d1e0-2e741ca78668"
      },
      "source": [
        "row_has_NaN = X.isnull().any(axis=1)\n",
        "rows_with_NaN = X[row_has_NaN]\n",
        "X.loc[50674]"
      ],
      "execution_count": 48,
      "outputs": [
        {
          "output_type": "execute_result",
          "data": {
            "text/plain": [
              "op_unique_carrier        0.0\n",
              "op_carrier_fl_num      890.0\n",
              "origin                   6.0\n",
              "dest                   171.0\n",
              "crs_elapsed_time       108.0\n",
              "distance               501.0\n",
              "month                    9.0\n",
              "total_carrier_delay      NaN\n",
              "value                    9.0\n",
              "crs_arr_hour            84.0\n",
              "crs_dep_hour             7.0\n",
              "Numerical_Week          38.0\n",
              "Weekday                  6.0\n",
              "meanOfGrouping           0.0\n",
              "Name: 50674, dtype: float64"
            ]
          },
          "metadata": {
            "tags": []
          },
          "execution_count": 48
        }
      ]
    },
    {
      "cell_type": "code",
      "metadata": {
        "id": "WxyEBYXU9i9j"
      },
      "source": [
        "from sklearn.metrics import mean_squared_error"
      ],
      "execution_count": 30,
      "outputs": []
    },
    {
      "cell_type": "code",
      "metadata": {
        "id": "TRruNIqPZsuY"
      },
      "source": [
        "model = RandomForestRegressor()"
      ],
      "execution_count": 31,
      "outputs": []
    },
    {
      "cell_type": "code",
      "metadata": {
        "id": "OjqlSDz-8SdJ"
      },
      "source": [
        "# model.fit(X_train,y_train)\n",
        "# y_pred = model.predict(X_test)\n",
        "# model.score(X_test,y_test)"
      ],
      "execution_count": 32,
      "outputs": []
    },
    {
      "cell_type": "code",
      "metadata": {
        "id": "Z0eUHZSMy5V3"
      },
      "source": [
        "#print('mean_squared_error:', mean_squared_error(y_test,y_pred))\n",
        "#print('RSME:',np.sqrt(mean_squared_error(y_test, y_pred)))\n",
        "#print('r2 score:', r2_score(y_test,y_pred))\n",
        "#print('Adjusted R2 value:', 1 - (1-model.score(X_test,y_test))*(len(y_test)-1)/(len(y_test)-X_test.shape[1]-1))"
      ],
      "execution_count": 33,
      "outputs": []
    },
    {
      "cell_type": "code",
      "metadata": {
        "id": "QuNK4OTZ9Uy4",
        "colab": {
          "base_uri": "https://localhost:8080/",
          "height": 831
        },
        "outputId": "1ea8cb13-656f-4fd1-f02b-a816c7beca0e"
      },
      "source": [
        "# model = GradientBoostingRegressor(n_estimators=150,learning_rate=1.5,random_state=1)\n",
        "# model.fit(X_train,y_train)\n",
        "# y_pred = model.predict(X_test)"
      ],
      "execution_count": 35,
      "outputs": [
        {
          "output_type": "error",
          "ename": "ValueError",
          "evalue": "ignored",
          "traceback": [
            "\u001b[0;31m---------------------------------------------------------------------------\u001b[0m",
            "\u001b[0;31mValueError\u001b[0m                                Traceback (most recent call last)",
            "\u001b[0;32m<ipython-input-35-8e524036bdad>\u001b[0m in \u001b[0;36m<module>\u001b[0;34m()\u001b[0m\n\u001b[1;32m      1\u001b[0m \u001b[0mmodel\u001b[0m \u001b[0;34m=\u001b[0m \u001b[0mGradientBoostingRegressor\u001b[0m\u001b[0;34m(\u001b[0m\u001b[0mn_estimators\u001b[0m\u001b[0;34m=\u001b[0m\u001b[0;36m150\u001b[0m\u001b[0;34m,\u001b[0m\u001b[0mlearning_rate\u001b[0m\u001b[0;34m=\u001b[0m\u001b[0;36m1.5\u001b[0m\u001b[0;34m,\u001b[0m\u001b[0mrandom_state\u001b[0m\u001b[0;34m=\u001b[0m\u001b[0;36m1\u001b[0m\u001b[0;34m)\u001b[0m\u001b[0;34m\u001b[0m\u001b[0;34m\u001b[0m\u001b[0m\n\u001b[0;32m----> 2\u001b[0;31m \u001b[0mmodel\u001b[0m\u001b[0;34m.\u001b[0m\u001b[0mfit\u001b[0m\u001b[0;34m(\u001b[0m\u001b[0mX_train\u001b[0m\u001b[0;34m,\u001b[0m\u001b[0my_train\u001b[0m\u001b[0;34m)\u001b[0m\u001b[0;34m\u001b[0m\u001b[0;34m\u001b[0m\u001b[0m\n\u001b[0m\u001b[1;32m      3\u001b[0m \u001b[0my_pred\u001b[0m \u001b[0;34m=\u001b[0m \u001b[0mmodel\u001b[0m\u001b[0;34m.\u001b[0m\u001b[0mpredict\u001b[0m\u001b[0;34m(\u001b[0m\u001b[0mX_test\u001b[0m\u001b[0;34m)\u001b[0m\u001b[0;34m\u001b[0m\u001b[0;34m\u001b[0m\u001b[0m\n",
            "\u001b[0;32m/usr/local/lib/python3.7/dist-packages/sklearn/ensemble/_gb.py\u001b[0m in \u001b[0;36mfit\u001b[0;34m(self, X, y, sample_weight, monitor)\u001b[0m\n\u001b[1;32m   1439\u001b[0m         \u001b[0;31m# Since check_array converts both X and y to the same dtype, but the\u001b[0m\u001b[0;34m\u001b[0m\u001b[0;34m\u001b[0m\u001b[0;34m\u001b[0m\u001b[0m\n\u001b[1;32m   1440\u001b[0m         \u001b[0;31m# trees use different types for X and y, checking them separately.\u001b[0m\u001b[0;34m\u001b[0m\u001b[0;34m\u001b[0m\u001b[0;34m\u001b[0m\u001b[0m\n\u001b[0;32m-> 1441\u001b[0;31m         \u001b[0mX\u001b[0m \u001b[0;34m=\u001b[0m \u001b[0mcheck_array\u001b[0m\u001b[0;34m(\u001b[0m\u001b[0mX\u001b[0m\u001b[0;34m,\u001b[0m \u001b[0maccept_sparse\u001b[0m\u001b[0;34m=\u001b[0m\u001b[0;34m[\u001b[0m\u001b[0;34m'csr'\u001b[0m\u001b[0;34m,\u001b[0m \u001b[0;34m'csc'\u001b[0m\u001b[0;34m,\u001b[0m \u001b[0;34m'coo'\u001b[0m\u001b[0;34m]\u001b[0m\u001b[0;34m,\u001b[0m \u001b[0mdtype\u001b[0m\u001b[0;34m=\u001b[0m\u001b[0mDTYPE\u001b[0m\u001b[0;34m)\u001b[0m\u001b[0;34m\u001b[0m\u001b[0;34m\u001b[0m\u001b[0m\n\u001b[0m\u001b[1;32m   1442\u001b[0m         \u001b[0mn_samples\u001b[0m\u001b[0;34m,\u001b[0m \u001b[0mself\u001b[0m\u001b[0;34m.\u001b[0m\u001b[0mn_features_\u001b[0m \u001b[0;34m=\u001b[0m \u001b[0mX\u001b[0m\u001b[0;34m.\u001b[0m\u001b[0mshape\u001b[0m\u001b[0;34m\u001b[0m\u001b[0;34m\u001b[0m\u001b[0m\n\u001b[1;32m   1443\u001b[0m \u001b[0;34m\u001b[0m\u001b[0m\n",
            "\u001b[0;32m/usr/local/lib/python3.7/dist-packages/sklearn/utils/validation.py\u001b[0m in \u001b[0;36mcheck_array\u001b[0;34m(array, accept_sparse, accept_large_sparse, dtype, order, copy, force_all_finite, ensure_2d, allow_nd, ensure_min_samples, ensure_min_features, warn_on_dtype, estimator)\u001b[0m\n\u001b[1;32m    576\u001b[0m         \u001b[0;32mif\u001b[0m \u001b[0mforce_all_finite\u001b[0m\u001b[0;34m:\u001b[0m\u001b[0;34m\u001b[0m\u001b[0;34m\u001b[0m\u001b[0m\n\u001b[1;32m    577\u001b[0m             _assert_all_finite(array,\n\u001b[0;32m--> 578\u001b[0;31m                                allow_nan=force_all_finite == 'allow-nan')\n\u001b[0m\u001b[1;32m    579\u001b[0m \u001b[0;34m\u001b[0m\u001b[0m\n\u001b[1;32m    580\u001b[0m     \u001b[0;32mif\u001b[0m \u001b[0mensure_min_samples\u001b[0m \u001b[0;34m>\u001b[0m \u001b[0;36m0\u001b[0m\u001b[0;34m:\u001b[0m\u001b[0;34m\u001b[0m\u001b[0;34m\u001b[0m\u001b[0m\n",
            "\u001b[0;32m/usr/local/lib/python3.7/dist-packages/sklearn/utils/validation.py\u001b[0m in \u001b[0;36m_assert_all_finite\u001b[0;34m(X, allow_nan, msg_dtype)\u001b[0m\n\u001b[1;32m     58\u001b[0m                     \u001b[0mmsg_err\u001b[0m\u001b[0;34m.\u001b[0m\u001b[0mformat\u001b[0m\u001b[0;34m\u001b[0m\u001b[0;34m\u001b[0m\u001b[0m\n\u001b[1;32m     59\u001b[0m                     (type_err,\n\u001b[0;32m---> 60\u001b[0;31m                      msg_dtype if msg_dtype is not None else X.dtype)\n\u001b[0m\u001b[1;32m     61\u001b[0m             )\n\u001b[1;32m     62\u001b[0m     \u001b[0;31m# for object dtype data, we only check for NaNs (GH-13254)\u001b[0m\u001b[0;34m\u001b[0m\u001b[0;34m\u001b[0m\u001b[0;34m\u001b[0m\u001b[0m\n",
            "\u001b[0;31mValueError\u001b[0m: Input contains NaN, infinity or a value too large for dtype('float32')."
          ]
        }
      ]
    },
    {
      "cell_type": "code",
      "metadata": {
        "id": "59342UMXzAFz"
      },
      "source": [
        "# print('mean_squared_error:', mean_squared_error(y_test,y_pred))\n",
        "# print('RSME:',np.sqrt(mean_squared_error(y_test, y_pred)))\n",
        "# print('r2 score:', r2_score(y_test,y_pred))\n",
        "# print('Adjusted R2 value:', 1 - (1-model.score(X_test,y_test))*(len(y_test)-1)/(len(y_test)-X_test.shape[1]-1))"
      ],
      "execution_count": null,
      "outputs": []
    },
    {
      "cell_type": "code",
      "metadata": {
        "id": "ISa2NORI7JzS"
      },
      "source": [
        "import xgboost as xgb"
      ],
      "execution_count": null,
      "outputs": []
    },
    {
      "cell_type": "code",
      "metadata": {
        "id": "6QwtkYo6bFnx"
      },
      "source": [
        "X.columns"
      ],
      "execution_count": null,
      "outputs": []
    },
    {
      "cell_type": "code",
      "metadata": {
        "id": "xcfnPUP-7NKF"
      },
      "source": [
        "# xgbr = xgb.XGBRegressor(n_estimators =200,random_state=12) \n",
        "# xgbr.fit(X_train,y_train)\n",
        "# y_pred = xgbr.predict(X_test)\n",
        "# xgbr.score(X_test,y_test)"
      ],
      "execution_count": null,
      "outputs": []
    },
    {
      "cell_type": "code",
      "metadata": {
        "id": "lCQ1VrOPJ6Yc"
      },
      "source": [
        "# print('mean_squared_error:', mean_squared_error(y_test,y_pred))\n",
        "# print('RSME:',np.sqrt(mean_squared_error(y_test, y_pred)))\n",
        "# print('r2 score:', r2_score(y_test,y_pred))\n",
        "# print('Adjusted R2 value:', 1 - (1-xgbr.score(X_test,y_test))*(len(y_test)-1)/(len(y_test)-X_test.shape[1]-1))"
      ],
      "execution_count": null,
      "outputs": []
    },
    {
      "cell_type": "code",
      "metadata": {
        "id": "g8npxmL8THGN"
      },
      "source": [
        "import lightgbm"
      ],
      "execution_count": 50,
      "outputs": []
    },
    {
      "cell_type": "code",
      "metadata": {
        "id": "zRNATjZjTdjb"
      },
      "source": [
        "model = lightgbm.LGBMRegressor(n_estimators=100,random_state=12)"
      ],
      "execution_count": 51,
      "outputs": []
    },
    {
      "cell_type": "code",
      "metadata": {
        "id": "tK7MSLGhVono",
        "colab": {
          "base_uri": "https://localhost:8080/"
        },
        "outputId": "1260ff06-ad42-4a85-f9b4-a517dcc42557"
      },
      "source": [
        "model.fit(X_train,y_train)"
      ],
      "execution_count": 52,
      "outputs": [
        {
          "output_type": "execute_result",
          "data": {
            "text/plain": [
              "LGBMRegressor(boosting_type='gbdt', class_weight=None, colsample_bytree=1.0,\n",
              "              importance_type='split', learning_rate=0.1, max_depth=-1,\n",
              "              min_child_samples=20, min_child_weight=0.001, min_split_gain=0.0,\n",
              "              n_estimators=100, n_jobs=-1, num_leaves=31, objective=None,\n",
              "              random_state=12, reg_alpha=0.0, reg_lambda=0.0, silent=True,\n",
              "              subsample=1.0, subsample_for_bin=200000, subsample_freq=0)"
            ]
          },
          "metadata": {
            "tags": []
          },
          "execution_count": 52
        }
      ]
    },
    {
      "cell_type": "code",
      "metadata": {
        "id": "RERePPr-VMn4"
      },
      "source": [
        "y_pred = model.predict(X_test)"
      ],
      "execution_count": 53,
      "outputs": []
    },
    {
      "cell_type": "code",
      "metadata": {
        "colab": {
          "base_uri": "https://localhost:8080/",
          "height": 444
        },
        "id": "n1GzIalMWCO4",
        "outputId": "cba5ccf2-7206-47e8-98cf-fd3ef407dcdf"
      },
      "source": [
        "X_test"
      ],
      "execution_count": 54,
      "outputs": [
        {
          "output_type": "execute_result",
          "data": {
            "text/html": [
              "<div>\n",
              "<style scoped>\n",
              "    .dataframe tbody tr th:only-of-type {\n",
              "        vertical-align: middle;\n",
              "    }\n",
              "\n",
              "    .dataframe tbody tr th {\n",
              "        vertical-align: top;\n",
              "    }\n",
              "\n",
              "    .dataframe thead th {\n",
              "        text-align: right;\n",
              "    }\n",
              "</style>\n",
              "<table border=\"1\" class=\"dataframe\">\n",
              "  <thead>\n",
              "    <tr style=\"text-align: right;\">\n",
              "      <th></th>\n",
              "      <th>op_unique_carrier</th>\n",
              "      <th>op_carrier_fl_num</th>\n",
              "      <th>origin</th>\n",
              "      <th>dest</th>\n",
              "      <th>crs_elapsed_time</th>\n",
              "      <th>distance</th>\n",
              "      <th>month</th>\n",
              "      <th>total_carrier_delay</th>\n",
              "      <th>value</th>\n",
              "      <th>crs_arr_hour</th>\n",
              "      <th>crs_dep_hour</th>\n",
              "      <th>Numerical_Week</th>\n",
              "      <th>Weekday</th>\n",
              "      <th>meanOfGrouping</th>\n",
              "    </tr>\n",
              "  </thead>\n",
              "  <tbody>\n",
              "    <tr>\n",
              "      <th>37116</th>\n",
              "      <td>2</td>\n",
              "      <td>446</td>\n",
              "      <td>9</td>\n",
              "      <td>156</td>\n",
              "      <td>216.0</td>\n",
              "      <td>1514.0</td>\n",
              "      <td>11</td>\n",
              "      <td>5.841662</td>\n",
              "      <td>5</td>\n",
              "      <td>14</td>\n",
              "      <td>11</td>\n",
              "      <td>48</td>\n",
              "      <td>2</td>\n",
              "      <td>9.000000</td>\n",
              "    </tr>\n",
              "    <tr>\n",
              "      <th>63766</th>\n",
              "      <td>0</td>\n",
              "      <td>1005</td>\n",
              "      <td>10</td>\n",
              "      <td>147</td>\n",
              "      <td>222.0</td>\n",
              "      <td>1535.0</td>\n",
              "      <td>6</td>\n",
              "      <td>5.691203</td>\n",
              "      <td>6</td>\n",
              "      <td>21</td>\n",
              "      <td>19</td>\n",
              "      <td>22</td>\n",
              "      <td>6</td>\n",
              "      <td>4.750000</td>\n",
              "    </tr>\n",
              "    <tr>\n",
              "      <th>114696</th>\n",
              "      <td>0</td>\n",
              "      <td>1779</td>\n",
              "      <td>13</td>\n",
              "      <td>57</td>\n",
              "      <td>133.0</td>\n",
              "      <td>680.0</td>\n",
              "      <td>8</td>\n",
              "      <td>5.691203</td>\n",
              "      <td>9</td>\n",
              "      <td>13</td>\n",
              "      <td>11</td>\n",
              "      <td>34</td>\n",
              "      <td>2</td>\n",
              "      <td>0.000000</td>\n",
              "    </tr>\n",
              "    <tr>\n",
              "      <th>97835</th>\n",
              "      <td>1</td>\n",
              "      <td>3528</td>\n",
              "      <td>5</td>\n",
              "      <td>50</td>\n",
              "      <td>137.0</td>\n",
              "      <td>812.0</td>\n",
              "      <td>2</td>\n",
              "      <td>7.885406</td>\n",
              "      <td>5</td>\n",
              "      <td>21</td>\n",
              "      <td>20</td>\n",
              "      <td>9</td>\n",
              "      <td>0</td>\n",
              "      <td>0.000000</td>\n",
              "    </tr>\n",
              "    <tr>\n",
              "      <th>15607</th>\n",
              "      <td>1</td>\n",
              "      <td>4036</td>\n",
              "      <td>1</td>\n",
              "      <td>165</td>\n",
              "      <td>106.0</td>\n",
              "      <td>496.0</td>\n",
              "      <td>5</td>\n",
              "      <td>7.885406</td>\n",
              "      <td>9</td>\n",
              "      <td>12</td>\n",
              "      <td>11</td>\n",
              "      <td>22</td>\n",
              "      <td>3</td>\n",
              "      <td>0.000000</td>\n",
              "    </tr>\n",
              "    <tr>\n",
              "      <th>...</th>\n",
              "      <td>...</td>\n",
              "      <td>...</td>\n",
              "      <td>...</td>\n",
              "      <td>...</td>\n",
              "      <td>...</td>\n",
              "      <td>...</td>\n",
              "      <td>...</td>\n",
              "      <td>...</td>\n",
              "      <td>...</td>\n",
              "      <td>...</td>\n",
              "      <td>...</td>\n",
              "      <td>...</td>\n",
              "      <td>...</td>\n",
              "      <td>...</td>\n",
              "    </tr>\n",
              "    <tr>\n",
              "      <th>35457</th>\n",
              "      <td>0</td>\n",
              "      <td>2781</td>\n",
              "      <td>10</td>\n",
              "      <td>62</td>\n",
              "      <td>265.0</td>\n",
              "      <td>1979.0</td>\n",
              "      <td>11</td>\n",
              "      <td>5.691203</td>\n",
              "      <td>6</td>\n",
              "      <td>54</td>\n",
              "      <td>2</td>\n",
              "      <td>48</td>\n",
              "      <td>2</td>\n",
              "      <td>0.000000</td>\n",
              "    </tr>\n",
              "    <tr>\n",
              "      <th>52641</th>\n",
              "      <td>2</td>\n",
              "      <td>808</td>\n",
              "      <td>9</td>\n",
              "      <td>11</td>\n",
              "      <td>246.0</td>\n",
              "      <td>1747.0</td>\n",
              "      <td>8</td>\n",
              "      <td>5.841662</td>\n",
              "      <td>9</td>\n",
              "      <td>15</td>\n",
              "      <td>12</td>\n",
              "      <td>35</td>\n",
              "      <td>2</td>\n",
              "      <td>6.000000</td>\n",
              "    </tr>\n",
              "    <tr>\n",
              "      <th>48388</th>\n",
              "      <td>1</td>\n",
              "      <td>3797</td>\n",
              "      <td>14</td>\n",
              "      <td>65</td>\n",
              "      <td>208.0</td>\n",
              "      <td>1236.0</td>\n",
              "      <td>11</td>\n",
              "      <td>7.885406</td>\n",
              "      <td>9</td>\n",
              "      <td>22</td>\n",
              "      <td>20</td>\n",
              "      <td>46</td>\n",
              "      <td>3</td>\n",
              "      <td>0.000000</td>\n",
              "    </tr>\n",
              "    <tr>\n",
              "      <th>96681</th>\n",
              "      <td>0</td>\n",
              "      <td>972</td>\n",
              "      <td>14</td>\n",
              "      <td>11</td>\n",
              "      <td>121.0</td>\n",
              "      <td>606.0</td>\n",
              "      <td>8</td>\n",
              "      <td>5.691203</td>\n",
              "      <td>5</td>\n",
              "      <td>15</td>\n",
              "      <td>13</td>\n",
              "      <td>32</td>\n",
              "      <td>5</td>\n",
              "      <td>6.888889</td>\n",
              "    </tr>\n",
              "    <tr>\n",
              "      <th>43289</th>\n",
              "      <td>0</td>\n",
              "      <td>2806</td>\n",
              "      <td>10</td>\n",
              "      <td>58</td>\n",
              "      <td>186.0</td>\n",
              "      <td>1235.0</td>\n",
              "      <td>5</td>\n",
              "      <td>5.691203</td>\n",
              "      <td>1</td>\n",
              "      <td>14</td>\n",
              "      <td>12</td>\n",
              "      <td>18</td>\n",
              "      <td>3</td>\n",
              "      <td>0.000000</td>\n",
              "    </tr>\n",
              "  </tbody>\n",
              "</table>\n",
              "<p>36352 rows × 14 columns</p>\n",
              "</div>"
            ],
            "text/plain": [
              "       op_unique_carrier  op_carrier_fl_num  ... Weekday meanOfGrouping\n",
              "37116                  2                446  ...       2       9.000000\n",
              "63766                  0               1005  ...       6       4.750000\n",
              "114696                 0               1779  ...       2       0.000000\n",
              "97835                  1               3528  ...       0       0.000000\n",
              "15607                  1               4036  ...       3       0.000000\n",
              "...                  ...                ...  ...     ...            ...\n",
              "35457                  0               2781  ...       2       0.000000\n",
              "52641                  2                808  ...       2       6.000000\n",
              "48388                  1               3797  ...       3       0.000000\n",
              "96681                  0                972  ...       5       6.888889\n",
              "43289                  0               2806  ...       3       0.000000\n",
              "\n",
              "[36352 rows x 14 columns]"
            ]
          },
          "metadata": {
            "tags": []
          },
          "execution_count": 54
        }
      ]
    },
    {
      "cell_type": "code",
      "metadata": {
        "id": "zNdYwFlyVYFq",
        "colab": {
          "base_uri": "https://localhost:8080/"
        },
        "outputId": "ef596688-dcc4-48de-b4ed-b4c52f8af3c1"
      },
      "source": [
        "print('mean_squared_error:', mean_squared_error(y_test,y_pred))\n",
        "print('RSME:',np.sqrt(mean_squared_error(y_test, y_pred)))\n",
        "print('r2 score:', r2_score(y_test,y_pred))\n",
        "print('Adjusted R2 value:', 1 - (1-model.score(X_test,y_test))*(len(y_test)-1)/(len(y_test)-X_test.shape[1]-1))"
      ],
      "execution_count": 55,
      "outputs": [
        {
          "output_type": "stream",
          "text": [
            "mean_squared_error: 809.3844913751335\n",
            "RSME: 28.44968350219618\n",
            "r2 score: 0.4405298665128087\n",
            "Adjusted R2 value: 0.4403143126181882\n"
          ],
          "name": "stdout"
        }
      ]
    },
    {
      "cell_type": "code",
      "metadata": {
        "id": "D1bS7VRYqyqh",
        "colab": {
          "base_uri": "https://localhost:8080/",
          "height": 313
        },
        "outputId": "c4894ccc-0b7a-4bdd-f11c-a33024f3b2d1"
      },
      "source": [
        "lightgbm.plot_importance(model)"
      ],
      "execution_count": 56,
      "outputs": [
        {
          "output_type": "execute_result",
          "data": {
            "text/plain": [
              "<matplotlib.axes._subplots.AxesSubplot at 0x7fabd880aed0>"
            ]
          },
          "metadata": {
            "tags": []
          },
          "execution_count": 56
        },
        {
          "output_type": "display_data",
          "data": {
            "image/png": "[encoded data removed]",
            "text/plain": [
              "<Figure size 432x288 with 1 Axes>"
            ]
          },
          "metadata": {
            "tags": [],
            "needs_background": "light"
          }
        }
      ]
    }
  ]
}