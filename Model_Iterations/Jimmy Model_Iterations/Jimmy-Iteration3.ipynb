{
  "nbformat": 4,
  "nbformat_minor": 0,
  "metadata": {
    "colab": {
      "name": "testData.ipynb",
      "provenance": [],
      "collapsed_sections": []
    },
    "kernelspec": {
      "name": "python3",
      "display_name": "Python 3"
    },
    "language_info": {
      "name": "python"
    }
  },
  "cells": [
    {
      "cell_type": "code",
      "metadata": {
        "id": "J_mfCO6irwS9"
      },
      "source": [
        "# import pandas as pd \n",
        "# from sklearn.ensemble import RandomForestRegressor\n",
        "# from sklearn.metrics import mean_squared_error\n",
        "# import numpy as np\n",
        "# from sklearn.model_selection import train_test_split\n",
        "# X = pd.read_csv('/gdrive/MyDrive/cleaned_training_data_01.csv')\n",
        "# X['average_delay'] = X['carrier_delay'] + X['nas_delay'] + X['late_aircraft_delay']\n",
        "# X = X[['crs_arr_time','actual_elapsed_time','distance','year','month','day','weekday','average_delay']]\n",
        "# y = X['arr_delay']\n",
        "# reg = RandomForestRegressor(n_estimators=100)\n",
        "# X_train, X_test, y_train, y_test = train_test_split(X, y, test_size=0.3)\n",
        "# reg.fit(X_train,y_train)\n",
        "\n",
        "# y_pred=reg.predict(X_test)\n",
        "# rmse = np.sqrt(mean_squared_error(y_test, y_pred))\n",
        "# rmse"
      ],
      "execution_count": null,
      "outputs": []
    },
    {
      "cell_type": "code",
      "metadata": {
        "colab": {
          "base_uri": "https://localhost:8080/"
        },
        "id": "rx6yV68q5RaN",
        "outputId": "af4adff9-8276-47ac-cab7-1e9eb91f35da"
      },
      "source": [
        "from google.colab import drive\n",
        "drive.mount('/content/drive')"
      ],
      "execution_count": null,
      "outputs": [
        {
          "output_type": "stream",
          "text": [
            "Mounted at /content/drive\n"
          ],
          "name": "stdout"
        }
      ]
    },
    {
      "cell_type": "code",
      "metadata": {
        "id": "q-eqnl228sKq"
      },
      "source": [
        "from sklearn.model_selection import train_test_split"
      ],
      "execution_count": null,
      "outputs": []
    },
    {
      "cell_type": "code",
      "metadata": {
        "id": "-3za-mt33Gvi",
        "colab": {
          "base_uri": "https://localhost:8080/"
        },
        "outputId": "cbceeb6f-e3db-47ff-bbcb-5063e802283d"
      },
      "source": [
        "from google.colab import drive\n",
        "drive.mount('/gdrive')\n",
        "%cd /gdrive"
      ],
      "execution_count": null,
      "outputs": [
        {
          "output_type": "stream",
          "text": [
            "Mounted at /gdrive\n",
            "/gdrive\n"
          ],
          "name": "stdout"
        }
      ]
    },
    {
      "cell_type": "code",
      "metadata": {
        "id": "jYqzjJ1DcdDS"
      },
      "source": [
        "import pandas as pd \n",
        "import numpy as np\n",
        "from sklearn.utils import shuffle"
      ],
      "execution_count": null,
      "outputs": []
    },
    {
      "cell_type": "code",
      "metadata": {
        "id": "noDBT0PeHatl"
      },
      "source": [
        "df = pd.read_csv('/gdrive/MyDrive/Regression_no_outliers_cleaned_data_01.csv')"
      ],
      "execution_count": null,
      "outputs": []
    },
    {
      "cell_type": "code",
      "metadata": {
        "colab": {
          "base_uri": "https://localhost:8080/",
          "height": 444
        },
        "id": "EI4zIeAeiI7C",
        "outputId": "570be542-33da-4839-d2bb-2a6061290351"
      },
      "source": [
        "df"
      ],
      "execution_count": null,
      "outputs": [
        {
          "output_type": "execute_result",
          "data": {
            "text/html": [
              "<div>\n",
              "<style scoped>\n",
              "    .dataframe tbody tr th:only-of-type {\n",
              "        vertical-align: middle;\n",
              "    }\n",
              "\n",
              "    .dataframe tbody tr th {\n",
              "        vertical-align: top;\n",
              "    }\n",
              "\n",
              "    .dataframe thead th {\n",
              "        text-align: right;\n",
              "    }\n",
              "</style>\n",
              "<table border=\"1\" class=\"dataframe\">\n",
              "  <thead>\n",
              "    <tr style=\"text-align: right;\">\n",
              "      <th></th>\n",
              "      <th>fl_date</th>\n",
              "      <th>mkt_unique_carrier</th>\n",
              "      <th>op_unique_carrier</th>\n",
              "      <th>origin</th>\n",
              "      <th>dep_time</th>\n",
              "      <th>dep_delay</th>\n",
              "      <th>dest</th>\n",
              "      <th>arr_time</th>\n",
              "      <th>arr_delay</th>\n",
              "      <th>crs_arr_time</th>\n",
              "      <th>actual_elapsed_time</th>\n",
              "      <th>distance</th>\n",
              "      <th>carrier_delay</th>\n",
              "      <th>weather_delay</th>\n",
              "      <th>nas_delay</th>\n",
              "      <th>security_delay</th>\n",
              "      <th>late_aircraft_delay</th>\n",
              "      <th>year</th>\n",
              "      <th>month</th>\n",
              "      <th>day</th>\n",
              "      <th>weekday</th>\n",
              "    </tr>\n",
              "  </thead>\n",
              "  <tbody>\n",
              "    <tr>\n",
              "      <th>0</th>\n",
              "      <td>2018-08-26</td>\n",
              "      <td>AS</td>\n",
              "      <td>AS</td>\n",
              "      <td>PDX</td>\n",
              "      <td>1717.0</td>\n",
              "      <td>-3.0</td>\n",
              "      <td>LAX</td>\n",
              "      <td>1936.0</td>\n",
              "      <td>-5.0</td>\n",
              "      <td>1941</td>\n",
              "      <td>139.0</td>\n",
              "      <td>834.0</td>\n",
              "      <td>0.0</td>\n",
              "      <td>0.0</td>\n",
              "      <td>0.0</td>\n",
              "      <td>0.0</td>\n",
              "      <td>0.0</td>\n",
              "      <td>2018</td>\n",
              "      <td>8</td>\n",
              "      <td>26</td>\n",
              "      <td>1.0</td>\n",
              "    </tr>\n",
              "    <tr>\n",
              "      <th>1</th>\n",
              "      <td>2018-05-24</td>\n",
              "      <td>UA</td>\n",
              "      <td>OO</td>\n",
              "      <td>DEN</td>\n",
              "      <td>1750.0</td>\n",
              "      <td>0.0</td>\n",
              "      <td>PSP</td>\n",
              "      <td>1913.0</td>\n",
              "      <td>3.0</td>\n",
              "      <td>1910</td>\n",
              "      <td>143.0</td>\n",
              "      <td>776.0</td>\n",
              "      <td>0.0</td>\n",
              "      <td>0.0</td>\n",
              "      <td>0.0</td>\n",
              "      <td>0.0</td>\n",
              "      <td>0.0</td>\n",
              "      <td>2018</td>\n",
              "      <td>5</td>\n",
              "      <td>24</td>\n",
              "      <td>0.0</td>\n",
              "    </tr>\n",
              "    <tr>\n",
              "      <th>2</th>\n",
              "      <td>2019-01-10</td>\n",
              "      <td>AA</td>\n",
              "      <td>PT</td>\n",
              "      <td>CLT</td>\n",
              "      <td>1105.0</td>\n",
              "      <td>-4.0</td>\n",
              "      <td>ROA</td>\n",
              "      <td>1200.0</td>\n",
              "      <td>-16.0</td>\n",
              "      <td>1216</td>\n",
              "      <td>55.0</td>\n",
              "      <td>155.0</td>\n",
              "      <td>0.0</td>\n",
              "      <td>0.0</td>\n",
              "      <td>0.0</td>\n",
              "      <td>0.0</td>\n",
              "      <td>0.0</td>\n",
              "      <td>2019</td>\n",
              "      <td>1</td>\n",
              "      <td>10</td>\n",
              "      <td>0.0</td>\n",
              "    </tr>\n",
              "    <tr>\n",
              "      <th>3</th>\n",
              "      <td>2018-07-09</td>\n",
              "      <td>WN</td>\n",
              "      <td>WN</td>\n",
              "      <td>ELP</td>\n",
              "      <td>554.0</td>\n",
              "      <td>-1.0</td>\n",
              "      <td>LAS</td>\n",
              "      <td>623.0</td>\n",
              "      <td>-12.0</td>\n",
              "      <td>635</td>\n",
              "      <td>89.0</td>\n",
              "      <td>583.0</td>\n",
              "      <td>0.0</td>\n",
              "      <td>0.0</td>\n",
              "      <td>0.0</td>\n",
              "      <td>0.0</td>\n",
              "      <td>0.0</td>\n",
              "      <td>2018</td>\n",
              "      <td>7</td>\n",
              "      <td>9</td>\n",
              "      <td>0.0</td>\n",
              "    </tr>\n",
              "    <tr>\n",
              "      <th>4</th>\n",
              "      <td>2019-07-09</td>\n",
              "      <td>DL</td>\n",
              "      <td>9E</td>\n",
              "      <td>LGA</td>\n",
              "      <td>1629.0</td>\n",
              "      <td>0.0</td>\n",
              "      <td>BNA</td>\n",
              "      <td>1759.0</td>\n",
              "      <td>-12.0</td>\n",
              "      <td>1811</td>\n",
              "      <td>150.0</td>\n",
              "      <td>764.0</td>\n",
              "      <td>0.0</td>\n",
              "      <td>0.0</td>\n",
              "      <td>0.0</td>\n",
              "      <td>0.0</td>\n",
              "      <td>0.0</td>\n",
              "      <td>2019</td>\n",
              "      <td>7</td>\n",
              "      <td>9</td>\n",
              "      <td>0.0</td>\n",
              "    </tr>\n",
              "    <tr>\n",
              "      <th>...</th>\n",
              "      <td>...</td>\n",
              "      <td>...</td>\n",
              "      <td>...</td>\n",
              "      <td>...</td>\n",
              "      <td>...</td>\n",
              "      <td>...</td>\n",
              "      <td>...</td>\n",
              "      <td>...</td>\n",
              "      <td>...</td>\n",
              "      <td>...</td>\n",
              "      <td>...</td>\n",
              "      <td>...</td>\n",
              "      <td>...</td>\n",
              "      <td>...</td>\n",
              "      <td>...</td>\n",
              "      <td>...</td>\n",
              "      <td>...</td>\n",
              "      <td>...</td>\n",
              "      <td>...</td>\n",
              "      <td>...</td>\n",
              "      <td>...</td>\n",
              "    </tr>\n",
              "    <tr>\n",
              "      <th>978871</th>\n",
              "      <td>2018-08-29</td>\n",
              "      <td>AA</td>\n",
              "      <td>AA</td>\n",
              "      <td>DCA</td>\n",
              "      <td>1223.0</td>\n",
              "      <td>-7.0</td>\n",
              "      <td>BOS</td>\n",
              "      <td>1343.0</td>\n",
              "      <td>-17.0</td>\n",
              "      <td>1400</td>\n",
              "      <td>80.0</td>\n",
              "      <td>399.0</td>\n",
              "      <td>0.0</td>\n",
              "      <td>0.0</td>\n",
              "      <td>0.0</td>\n",
              "      <td>0.0</td>\n",
              "      <td>0.0</td>\n",
              "      <td>2018</td>\n",
              "      <td>8</td>\n",
              "      <td>29</td>\n",
              "      <td>0.0</td>\n",
              "    </tr>\n",
              "    <tr>\n",
              "      <th>978872</th>\n",
              "      <td>2018-02-11</td>\n",
              "      <td>UA</td>\n",
              "      <td>OO</td>\n",
              "      <td>DCA</td>\n",
              "      <td>2043.0</td>\n",
              "      <td>3.0</td>\n",
              "      <td>ORD</td>\n",
              "      <td>2144.0</td>\n",
              "      <td>-15.0</td>\n",
              "      <td>2159</td>\n",
              "      <td>121.0</td>\n",
              "      <td>612.0</td>\n",
              "      <td>0.0</td>\n",
              "      <td>0.0</td>\n",
              "      <td>0.0</td>\n",
              "      <td>0.0</td>\n",
              "      <td>0.0</td>\n",
              "      <td>2018</td>\n",
              "      <td>2</td>\n",
              "      <td>11</td>\n",
              "      <td>1.0</td>\n",
              "    </tr>\n",
              "    <tr>\n",
              "      <th>978873</th>\n",
              "      <td>2018-10-29</td>\n",
              "      <td>WN</td>\n",
              "      <td>WN</td>\n",
              "      <td>SFO</td>\n",
              "      <td>1926.0</td>\n",
              "      <td>-9.0</td>\n",
              "      <td>SAN</td>\n",
              "      <td>2054.0</td>\n",
              "      <td>-16.0</td>\n",
              "      <td>2110</td>\n",
              "      <td>88.0</td>\n",
              "      <td>447.0</td>\n",
              "      <td>0.0</td>\n",
              "      <td>0.0</td>\n",
              "      <td>0.0</td>\n",
              "      <td>0.0</td>\n",
              "      <td>0.0</td>\n",
              "      <td>2018</td>\n",
              "      <td>10</td>\n",
              "      <td>29</td>\n",
              "      <td>0.0</td>\n",
              "    </tr>\n",
              "    <tr>\n",
              "      <th>978874</th>\n",
              "      <td>2019-03-28</td>\n",
              "      <td>UA</td>\n",
              "      <td>UA</td>\n",
              "      <td>EWR</td>\n",
              "      <td>1658.0</td>\n",
              "      <td>-5.0</td>\n",
              "      <td>MCO</td>\n",
              "      <td>1945.0</td>\n",
              "      <td>-8.0</td>\n",
              "      <td>1953</td>\n",
              "      <td>167.0</td>\n",
              "      <td>937.0</td>\n",
              "      <td>0.0</td>\n",
              "      <td>0.0</td>\n",
              "      <td>0.0</td>\n",
              "      <td>0.0</td>\n",
              "      <td>0.0</td>\n",
              "      <td>2019</td>\n",
              "      <td>3</td>\n",
              "      <td>28</td>\n",
              "      <td>0.0</td>\n",
              "    </tr>\n",
              "    <tr>\n",
              "      <th>978875</th>\n",
              "      <td>2018-05-03</td>\n",
              "      <td>AA</td>\n",
              "      <td>OH</td>\n",
              "      <td>GNV</td>\n",
              "      <td>1950.0</td>\n",
              "      <td>1.0</td>\n",
              "      <td>CLT</td>\n",
              "      <td>2123.0</td>\n",
              "      <td>4.0</td>\n",
              "      <td>2119</td>\n",
              "      <td>93.0</td>\n",
              "      <td>388.0</td>\n",
              "      <td>0.0</td>\n",
              "      <td>0.0</td>\n",
              "      <td>0.0</td>\n",
              "      <td>0.0</td>\n",
              "      <td>0.0</td>\n",
              "      <td>2018</td>\n",
              "      <td>5</td>\n",
              "      <td>3</td>\n",
              "      <td>0.0</td>\n",
              "    </tr>\n",
              "  </tbody>\n",
              "</table>\n",
              "<p>978876 rows × 21 columns</p>\n",
              "</div>"
            ],
            "text/plain": [
              "           fl_date mkt_unique_carrier op_unique_carrier  ... month  day  weekday\n",
              "0       2018-08-26                 AS                AS  ...     8   26      1.0\n",
              "1       2018-05-24                 UA                OO  ...     5   24      0.0\n",
              "2       2019-01-10                 AA                PT  ...     1   10      0.0\n",
              "3       2018-07-09                 WN                WN  ...     7    9      0.0\n",
              "4       2019-07-09                 DL                9E  ...     7    9      0.0\n",
              "...            ...                ...               ...  ...   ...  ...      ...\n",
              "978871  2018-08-29                 AA                AA  ...     8   29      0.0\n",
              "978872  2018-02-11                 UA                OO  ...     2   11      1.0\n",
              "978873  2018-10-29                 WN                WN  ...    10   29      0.0\n",
              "978874  2019-03-28                 UA                UA  ...     3   28      0.0\n",
              "978875  2018-05-03                 AA                OH  ...     5    3      0.0\n",
              "\n",
              "[978876 rows x 21 columns]"
            ]
          },
          "metadata": {
            "tags": []
          },
          "execution_count": 7
        }
      ]
    },
    {
      "cell_type": "code",
      "metadata": {
        "id": "AivV4zvcVUBN"
      },
      "source": [
        "weatherdf = pd.read_csv('/gdrive/MyDrive/weather.csv')\n",
        "weatherdf2 = pd.read_csv('/gdrive/MyDrive/weather_jan_2020.csv')"
      ],
      "execution_count": null,
      "outputs": []
    },
    {
      "cell_type": "code",
      "metadata": {
        "id": "lV0xYaoyV6tC"
      },
      "source": [
        "weatherdf = weatherdf[['date','airport_code','visibility','value']]\n",
        "weatherdf2 = weatherdf2[['date','airport_code','visibility','value']]\n"
      ],
      "execution_count": null,
      "outputs": []
    },
    {
      "cell_type": "code",
      "metadata": {
        "id": "wsqJBXmmWsLr"
      },
      "source": [
        "weatherdf = weatherdf.rename({'date':'fl_date','airport_code':'origin'},axis=1)\n",
        "weatherdf2 = weatherdf2.rename({'date':'fl_date','airport_code':'origin'},axis=1)"
      ],
      "execution_count": null,
      "outputs": []
    },
    {
      "cell_type": "code",
      "metadata": {
        "id": "oVXb_QasWjU3"
      },
      "source": [
        "df = df.merge(weatherdf, on=['fl_date','origin'])"
      ],
      "execution_count": null,
      "outputs": []
    },
    {
      "cell_type": "code",
      "metadata": {
        "id": "DMyGb1Gi3dYA"
      },
      "source": [
        "import sklearn.preprocessing\n",
        "from sklearn.linear_model import LogisticRegression\n",
        "import matplotlib.pyplot as plt"
      ],
      "execution_count": null,
      "outputs": []
    },
    {
      "cell_type": "code",
      "metadata": {
        "id": "RyADWYQAYOtw"
      },
      "source": [
        "df['op_unique_carrier'] = df.op_unique_carrier.astype('category')\n",
        "df['origin'] = df.origin.astype('category')\n",
        "df['dest'] = df.dest.astype('category')\n",
        "df['visibility'] = df.visibility.astype('category').cat.codes.astype('category')"
      ],
      "execution_count": null,
      "outputs": []
    },
    {
      "cell_type": "code",
      "metadata": {
        "id": "eMLLOP58OnTu"
      },
      "source": [
        "def crs_dep(row):\n",
        "  if row['crs_dep_time'] < 0:\n",
        "    return 2400 + row['crs_dep_time']\n",
        "  else:\n",
        "    return row['crs_dep_time']"
      ],
      "execution_count": null,
      "outputs": []
    },
    {
      "cell_type": "code",
      "metadata": {
        "id": "SrWpm1-dr1PC"
      },
      "source": [
        "def value(row):\n",
        "  if 'snow' in row['value']:\n",
        "    return 'Snow'\n",
        "  elif 'rain' in row['value']:\n",
        "    return 'Rain'\n",
        "  elif 'showers' in row['value']:\n",
        "    return 'Rain'\n",
        "  elif 'possible' in row['value']:\n",
        "    return 'Rain'\n",
        "  elif 'drizzle' in row['value']:\n",
        "    return 'Rain'\n",
        "  elif 'sleet' in row['value']:\n",
        "    return 'Rain/Snow'\n",
        "  elif 'blizzard' in row['value']:\n",
        "    return 'Snow'\n",
        "  else:\n",
        "    return row['value']"
      ],
      "execution_count": null,
      "outputs": []
    },
    {
      "cell_type": "code",
      "metadata": {
        "colab": {
          "base_uri": "https://localhost:8080/",
          "height": 548
        },
        "id": "xBxHxMgFiD20",
        "outputId": "c4c7ed26-0ca3-4c29-abf8-6f587607123a"
      },
      "source": [
        "df"
      ],
      "execution_count": null,
      "outputs": [
        {
          "output_type": "execute_result",
          "data": {
            "text/html": [
              "<div>\n",
              "<style scoped>\n",
              "    .dataframe tbody tr th:only-of-type {\n",
              "        vertical-align: middle;\n",
              "    }\n",
              "\n",
              "    .dataframe tbody tr th {\n",
              "        vertical-align: top;\n",
              "    }\n",
              "\n",
              "    .dataframe thead th {\n",
              "        text-align: right;\n",
              "    }\n",
              "</style>\n",
              "<table border=\"1\" class=\"dataframe\">\n",
              "  <thead>\n",
              "    <tr style=\"text-align: right;\">\n",
              "      <th></th>\n",
              "      <th>fl_date</th>\n",
              "      <th>mkt_unique_carrier</th>\n",
              "      <th>op_unique_carrier</th>\n",
              "      <th>origin</th>\n",
              "      <th>dep_time</th>\n",
              "      <th>dep_delay</th>\n",
              "      <th>dest</th>\n",
              "      <th>arr_time</th>\n",
              "      <th>arr_delay</th>\n",
              "      <th>crs_arr_time</th>\n",
              "      <th>actual_elapsed_time</th>\n",
              "      <th>distance</th>\n",
              "      <th>carrier_delay</th>\n",
              "      <th>weather_delay</th>\n",
              "      <th>nas_delay</th>\n",
              "      <th>security_delay</th>\n",
              "      <th>late_aircraft_delay</th>\n",
              "      <th>year</th>\n",
              "      <th>month</th>\n",
              "      <th>day</th>\n",
              "      <th>weekday</th>\n",
              "      <th>visibility</th>\n",
              "      <th>value</th>\n",
              "    </tr>\n",
              "  </thead>\n",
              "  <tbody>\n",
              "    <tr>\n",
              "      <th>0</th>\n",
              "      <td>2018-05-24</td>\n",
              "      <td>UA</td>\n",
              "      <td>OO</td>\n",
              "      <td>DEN</td>\n",
              "      <td>1750.0</td>\n",
              "      <td>0.0</td>\n",
              "      <td>PSP</td>\n",
              "      <td>1913.0</td>\n",
              "      <td>3.0</td>\n",
              "      <td>1910</td>\n",
              "      <td>143.0</td>\n",
              "      <td>776.0</td>\n",
              "      <td>0.0</td>\n",
              "      <td>0.0</td>\n",
              "      <td>0.0</td>\n",
              "      <td>0.0</td>\n",
              "      <td>0.0</td>\n",
              "      <td>2018</td>\n",
              "      <td>5</td>\n",
              "      <td>24</td>\n",
              "      <td>0.0</td>\n",
              "      <td>10</td>\n",
              "      <td>Sunny</td>\n",
              "    </tr>\n",
              "    <tr>\n",
              "      <th>1</th>\n",
              "      <td>2018-05-24</td>\n",
              "      <td>DL</td>\n",
              "      <td>DL</td>\n",
              "      <td>DEN</td>\n",
              "      <td>1009.0</td>\n",
              "      <td>-6.0</td>\n",
              "      <td>LGA</td>\n",
              "      <td>1548.0</td>\n",
              "      <td>-28.0</td>\n",
              "      <td>1616</td>\n",
              "      <td>219.0</td>\n",
              "      <td>1620.0</td>\n",
              "      <td>0.0</td>\n",
              "      <td>0.0</td>\n",
              "      <td>0.0</td>\n",
              "      <td>0.0</td>\n",
              "      <td>0.0</td>\n",
              "      <td>2018</td>\n",
              "      <td>5</td>\n",
              "      <td>24</td>\n",
              "      <td>0.0</td>\n",
              "      <td>10</td>\n",
              "      <td>Sunny</td>\n",
              "    </tr>\n",
              "    <tr>\n",
              "      <th>2</th>\n",
              "      <td>2018-05-24</td>\n",
              "      <td>UA</td>\n",
              "      <td>UA</td>\n",
              "      <td>DEN</td>\n",
              "      <td>744.0</td>\n",
              "      <td>-7.0</td>\n",
              "      <td>OMA</td>\n",
              "      <td>1006.0</td>\n",
              "      <td>-9.0</td>\n",
              "      <td>1015</td>\n",
              "      <td>82.0</td>\n",
              "      <td>472.0</td>\n",
              "      <td>0.0</td>\n",
              "      <td>0.0</td>\n",
              "      <td>0.0</td>\n",
              "      <td>0.0</td>\n",
              "      <td>0.0</td>\n",
              "      <td>2018</td>\n",
              "      <td>5</td>\n",
              "      <td>24</td>\n",
              "      <td>0.0</td>\n",
              "      <td>10</td>\n",
              "      <td>Sunny</td>\n",
              "    </tr>\n",
              "    <tr>\n",
              "      <th>3</th>\n",
              "      <td>2018-05-24</td>\n",
              "      <td>UA</td>\n",
              "      <td>G7</td>\n",
              "      <td>DEN</td>\n",
              "      <td>1045.0</td>\n",
              "      <td>6.0</td>\n",
              "      <td>MEM</td>\n",
              "      <td>1406.0</td>\n",
              "      <td>8.0</td>\n",
              "      <td>1358</td>\n",
              "      <td>141.0</td>\n",
              "      <td>872.0</td>\n",
              "      <td>0.0</td>\n",
              "      <td>0.0</td>\n",
              "      <td>0.0</td>\n",
              "      <td>0.0</td>\n",
              "      <td>0.0</td>\n",
              "      <td>2018</td>\n",
              "      <td>5</td>\n",
              "      <td>24</td>\n",
              "      <td>0.0</td>\n",
              "      <td>10</td>\n",
              "      <td>Sunny</td>\n",
              "    </tr>\n",
              "    <tr>\n",
              "      <th>4</th>\n",
              "      <td>2018-05-24</td>\n",
              "      <td>WN</td>\n",
              "      <td>WN</td>\n",
              "      <td>DEN</td>\n",
              "      <td>2119.0</td>\n",
              "      <td>79.0</td>\n",
              "      <td>OKC</td>\n",
              "      <td>2344.0</td>\n",
              "      <td>74.0</td>\n",
              "      <td>2230</td>\n",
              "      <td>85.0</td>\n",
              "      <td>495.0</td>\n",
              "      <td>0.0</td>\n",
              "      <td>0.0</td>\n",
              "      <td>0.0</td>\n",
              "      <td>0.0</td>\n",
              "      <td>74.0</td>\n",
              "      <td>2018</td>\n",
              "      <td>5</td>\n",
              "      <td>24</td>\n",
              "      <td>0.0</td>\n",
              "      <td>10</td>\n",
              "      <td>Sunny</td>\n",
              "    </tr>\n",
              "    <tr>\n",
              "      <th>...</th>\n",
              "      <td>...</td>\n",
              "      <td>...</td>\n",
              "      <td>...</td>\n",
              "      <td>...</td>\n",
              "      <td>...</td>\n",
              "      <td>...</td>\n",
              "      <td>...</td>\n",
              "      <td>...</td>\n",
              "      <td>...</td>\n",
              "      <td>...</td>\n",
              "      <td>...</td>\n",
              "      <td>...</td>\n",
              "      <td>...</td>\n",
              "      <td>...</td>\n",
              "      <td>...</td>\n",
              "      <td>...</td>\n",
              "      <td>...</td>\n",
              "      <td>...</td>\n",
              "      <td>...</td>\n",
              "      <td>...</td>\n",
              "      <td>...</td>\n",
              "      <td>...</td>\n",
              "      <td>...</td>\n",
              "    </tr>\n",
              "    <tr>\n",
              "      <th>588477</th>\n",
              "      <td>2018-01-04</td>\n",
              "      <td>AA</td>\n",
              "      <td>AA</td>\n",
              "      <td>EWR</td>\n",
              "      <td>457.0</td>\n",
              "      <td>-3.0</td>\n",
              "      <td>CLT</td>\n",
              "      <td>640.0</td>\n",
              "      <td>-18.0</td>\n",
              "      <td>658</td>\n",
              "      <td>103.0</td>\n",
              "      <td>529.0</td>\n",
              "      <td>0.0</td>\n",
              "      <td>0.0</td>\n",
              "      <td>0.0</td>\n",
              "      <td>0.0</td>\n",
              "      <td>0.0</td>\n",
              "      <td>2018</td>\n",
              "      <td>1</td>\n",
              "      <td>4</td>\n",
              "      <td>0.0</td>\n",
              "      <td>10</td>\n",
              "      <td>Patchy light snow</td>\n",
              "    </tr>\n",
              "    <tr>\n",
              "      <th>588478</th>\n",
              "      <td>2018-03-02</td>\n",
              "      <td>B6</td>\n",
              "      <td>B6</td>\n",
              "      <td>LGA</td>\n",
              "      <td>556.0</td>\n",
              "      <td>-4.0</td>\n",
              "      <td>FLL</td>\n",
              "      <td>840.0</td>\n",
              "      <td>-19.0</td>\n",
              "      <td>859</td>\n",
              "      <td>164.0</td>\n",
              "      <td>1076.0</td>\n",
              "      <td>0.0</td>\n",
              "      <td>0.0</td>\n",
              "      <td>0.0</td>\n",
              "      <td>0.0</td>\n",
              "      <td>0.0</td>\n",
              "      <td>2018</td>\n",
              "      <td>3</td>\n",
              "      <td>2</td>\n",
              "      <td>0.0</td>\n",
              "      <td>9</td>\n",
              "      <td>Moderate rain</td>\n",
              "    </tr>\n",
              "    <tr>\n",
              "      <th>588479</th>\n",
              "      <td>2018-03-02</td>\n",
              "      <td>DL</td>\n",
              "      <td>YX</td>\n",
              "      <td>LGA</td>\n",
              "      <td>919.0</td>\n",
              "      <td>-1.0</td>\n",
              "      <td>DFW</td>\n",
              "      <td>1355.0</td>\n",
              "      <td>65.0</td>\n",
              "      <td>1250</td>\n",
              "      <td>336.0</td>\n",
              "      <td>1389.0</td>\n",
              "      <td>0.0</td>\n",
              "      <td>0.0</td>\n",
              "      <td>65.0</td>\n",
              "      <td>0.0</td>\n",
              "      <td>0.0</td>\n",
              "      <td>2018</td>\n",
              "      <td>3</td>\n",
              "      <td>2</td>\n",
              "      <td>0.0</td>\n",
              "      <td>9</td>\n",
              "      <td>Moderate rain</td>\n",
              "    </tr>\n",
              "    <tr>\n",
              "      <th>588480</th>\n",
              "      <td>2018-03-02</td>\n",
              "      <td>UA</td>\n",
              "      <td>UA</td>\n",
              "      <td>LGA</td>\n",
              "      <td>747.0</td>\n",
              "      <td>-3.0</td>\n",
              "      <td>IAH</td>\n",
              "      <td>1052.0</td>\n",
              "      <td>-5.0</td>\n",
              "      <td>1057</td>\n",
              "      <td>245.0</td>\n",
              "      <td>1416.0</td>\n",
              "      <td>0.0</td>\n",
              "      <td>0.0</td>\n",
              "      <td>0.0</td>\n",
              "      <td>0.0</td>\n",
              "      <td>0.0</td>\n",
              "      <td>2018</td>\n",
              "      <td>3</td>\n",
              "      <td>2</td>\n",
              "      <td>0.0</td>\n",
              "      <td>9</td>\n",
              "      <td>Moderate rain</td>\n",
              "    </tr>\n",
              "    <tr>\n",
              "      <th>588481</th>\n",
              "      <td>2018-01-04</td>\n",
              "      <td>DL</td>\n",
              "      <td>DL</td>\n",
              "      <td>LGA</td>\n",
              "      <td>908.0</td>\n",
              "      <td>8.0</td>\n",
              "      <td>DTW</td>\n",
              "      <td>1136.0</td>\n",
              "      <td>21.0</td>\n",
              "      <td>1115</td>\n",
              "      <td>148.0</td>\n",
              "      <td>502.0</td>\n",
              "      <td>8.0</td>\n",
              "      <td>0.0</td>\n",
              "      <td>13.0</td>\n",
              "      <td>0.0</td>\n",
              "      <td>0.0</td>\n",
              "      <td>2018</td>\n",
              "      <td>1</td>\n",
              "      <td>4</td>\n",
              "      <td>0.0</td>\n",
              "      <td>8</td>\n",
              "      <td>Light snow</td>\n",
              "    </tr>\n",
              "  </tbody>\n",
              "</table>\n",
              "<p>588482 rows × 23 columns</p>\n",
              "</div>"
            ],
            "text/plain": [
              "           fl_date mkt_unique_carrier  ... visibility              value\n",
              "0       2018-05-24                 UA  ...         10              Sunny\n",
              "1       2018-05-24                 DL  ...         10              Sunny\n",
              "2       2018-05-24                 UA  ...         10              Sunny\n",
              "3       2018-05-24                 UA  ...         10              Sunny\n",
              "4       2018-05-24                 WN  ...         10              Sunny\n",
              "...            ...                ...  ...        ...                ...\n",
              "588477  2018-01-04                 AA  ...         10  Patchy light snow\n",
              "588478  2018-03-02                 B6  ...          9      Moderate rain\n",
              "588479  2018-03-02                 DL  ...          9      Moderate rain\n",
              "588480  2018-03-02                 UA  ...          9      Moderate rain\n",
              "588481  2018-01-04                 DL  ...          8         Light snow\n",
              "\n",
              "[588482 rows x 23 columns]"
            ]
          },
          "metadata": {
            "tags": []
          },
          "execution_count": 16
        }
      ]
    },
    {
      "cell_type": "code",
      "metadata": {
        "id": "qpXvfPOI74Ec"
      },
      "source": [
        "X,y = df.drop('arr_delay',axis=1),df['arr_delay']"
      ],
      "execution_count": null,
      "outputs": []
    },
    {
      "cell_type": "code",
      "metadata": {
        "id": "dFQBUBJUhpGP"
      },
      "source": [
        "# X['crs_dep_time'] = X['crs_arr_time'] - X['crs_elapsed_time']\n"
      ],
      "execution_count": null,
      "outputs": []
    },
    {
      "cell_type": "code",
      "metadata": {
        "id": "yCrDIVkYov5s"
      },
      "source": [
        " "
      ],
      "execution_count": null,
      "outputs": []
    },
    {
      "cell_type": "code",
      "metadata": {
        "id": "SarN94dotR9W"
      },
      "source": [
        "X['value'] = X.apply(value,axis=1)\n",
        "X['value'] = X.value.astype('category')\n",
        "\n"
      ],
      "execution_count": null,
      "outputs": []
    },
    {
      "cell_type": "code",
      "metadata": {
        "id": "0LPuP5s_M7qH"
      },
      "source": [
        "X['crs_arr_time'] = X['crs_arr_time'].astype(float).astype(int).apply(lambda x: '{0:0>4}'.format(x)).astype(str)"
      ],
      "execution_count": null,
      "outputs": []
    },
    {
      "cell_type": "code",
      "metadata": {
        "id": "Hs0Ds4f82U2R"
      },
      "source": [
        "X['crs_arr_hour'] = X['crs_arr_time'].astype(str).str[:2].astype(int)\n",
        "\n",
        "# X['crs_dep_hour'] = X['crs_dep_time'].astype(str).str[:2].astype(int)\n"
      ],
      "execution_count": null,
      "outputs": []
    },
    {
      "cell_type": "code",
      "metadata": {
        "id": "T_E_Cnv8ANah",
        "colab": {
          "base_uri": "https://localhost:8080/"
        },
        "outputId": "c3987b8e-ceba-4ec1-8260-9050404d5a7d"
      },
      "source": [
        "X['Numerical_Week']= (pd.to_datetime(X['fl_date']).dt.weekofyear)\n",
        "X['Season']= (pd.to_datetime(X['fl_date']).dt.month - 1) // 3"
      ],
      "execution_count": null,
      "outputs": [
        {
          "output_type": "stream",
          "text": [
            "/usr/local/lib/python3.7/dist-packages/ipykernel_launcher.py:1: FutureWarning: Series.dt.weekofyear and Series.dt.week have been deprecated.  Please use Series.dt.isocalendar().week instead.\n",
            "  \"\"\"Entry point for launching an IPython kernel.\n"
          ],
          "name": "stderr"
        }
      ]
    },
    {
      "cell_type": "code",
      "metadata": {
        "id": "x9sON7su2e1_"
      },
      "source": [
        "X['Weekday'] = pd.to_datetime(X['fl_date']).dt.dayofweek"
      ],
      "execution_count": null,
      "outputs": []
    },
    {
      "cell_type": "code",
      "metadata": {
        "id": "QR-k91aAD8V0"
      },
      "source": [
        "X['sumDelays'] = X['carrier_delay']+\tX['weather_delay'] + \tX['nas_delay']+ X['security_delay']+ \tX['late_aircraft_delay']\n",
        "X['meanOfGrouping'] = X.groupby(['origin','dest','Numerical_Week','crs_arr_hour'])['sumDelays'].transform('mean')\n",
        "X= X.drop(['sumDelays'], axis=1)\n"
      ],
      "execution_count": null,
      "outputs": []
    },
    {
      "cell_type": "code",
      "metadata": {
        "id": "GFIdxOktrmv6"
      },
      "source": [
        "mergeToTest = X[['origin','dest','Numerical_Week','crs_arr_hour','meanOfGrouping']]"
      ],
      "execution_count": null,
      "outputs": []
    },
    {
      "cell_type": "code",
      "metadata": {
        "colab": {
          "base_uri": "https://localhost:8080/",
          "height": 424
        },
        "id": "dG4nzhk99WTk",
        "outputId": "bc08a813-9a60-4ca0-a1d0-b9d12a8b94ab"
      },
      "source": [
        "mergeToTest"
      ],
      "execution_count": null,
      "outputs": [
        {
          "output_type": "execute_result",
          "data": {
            "text/html": [
              "<div>\n",
              "<style scoped>\n",
              "    .dataframe tbody tr th:only-of-type {\n",
              "        vertical-align: middle;\n",
              "    }\n",
              "\n",
              "    .dataframe tbody tr th {\n",
              "        vertical-align: top;\n",
              "    }\n",
              "\n",
              "    .dataframe thead th {\n",
              "        text-align: right;\n",
              "    }\n",
              "</style>\n",
              "<table border=\"1\" class=\"dataframe\">\n",
              "  <thead>\n",
              "    <tr style=\"text-align: right;\">\n",
              "      <th></th>\n",
              "      <th>origin</th>\n",
              "      <th>dest</th>\n",
              "      <th>Numerical_Week</th>\n",
              "      <th>crs_arr_hour</th>\n",
              "      <th>meanOfGrouping</th>\n",
              "    </tr>\n",
              "  </thead>\n",
              "  <tbody>\n",
              "    <tr>\n",
              "      <th>0</th>\n",
              "      <td>DEN</td>\n",
              "      <td>PSP</td>\n",
              "      <td>21</td>\n",
              "      <td>19</td>\n",
              "      <td>0.00</td>\n",
              "    </tr>\n",
              "    <tr>\n",
              "      <th>1</th>\n",
              "      <td>DEN</td>\n",
              "      <td>LGA</td>\n",
              "      <td>21</td>\n",
              "      <td>16</td>\n",
              "      <td>0.00</td>\n",
              "    </tr>\n",
              "    <tr>\n",
              "      <th>2</th>\n",
              "      <td>DEN</td>\n",
              "      <td>OMA</td>\n",
              "      <td>21</td>\n",
              "      <td>10</td>\n",
              "      <td>0.00</td>\n",
              "    </tr>\n",
              "    <tr>\n",
              "      <th>3</th>\n",
              "      <td>DEN</td>\n",
              "      <td>MEM</td>\n",
              "      <td>21</td>\n",
              "      <td>13</td>\n",
              "      <td>0.00</td>\n",
              "    </tr>\n",
              "    <tr>\n",
              "      <th>4</th>\n",
              "      <td>DEN</td>\n",
              "      <td>OKC</td>\n",
              "      <td>21</td>\n",
              "      <td>22</td>\n",
              "      <td>74.00</td>\n",
              "    </tr>\n",
              "    <tr>\n",
              "      <th>...</th>\n",
              "      <td>...</td>\n",
              "      <td>...</td>\n",
              "      <td>...</td>\n",
              "      <td>...</td>\n",
              "      <td>...</td>\n",
              "    </tr>\n",
              "    <tr>\n",
              "      <th>588477</th>\n",
              "      <td>EWR</td>\n",
              "      <td>CLT</td>\n",
              "      <td>1</td>\n",
              "      <td>6</td>\n",
              "      <td>0.00</td>\n",
              "    </tr>\n",
              "    <tr>\n",
              "      <th>588478</th>\n",
              "      <td>LGA</td>\n",
              "      <td>FLL</td>\n",
              "      <td>9</td>\n",
              "      <td>8</td>\n",
              "      <td>0.00</td>\n",
              "    </tr>\n",
              "    <tr>\n",
              "      <th>588479</th>\n",
              "      <td>LGA</td>\n",
              "      <td>DFW</td>\n",
              "      <td>9</td>\n",
              "      <td>12</td>\n",
              "      <td>65.00</td>\n",
              "    </tr>\n",
              "    <tr>\n",
              "      <th>588480</th>\n",
              "      <td>LGA</td>\n",
              "      <td>IAH</td>\n",
              "      <td>9</td>\n",
              "      <td>10</td>\n",
              "      <td>0.00</td>\n",
              "    </tr>\n",
              "    <tr>\n",
              "      <th>588481</th>\n",
              "      <td>LGA</td>\n",
              "      <td>DTW</td>\n",
              "      <td>1</td>\n",
              "      <td>11</td>\n",
              "      <td>5.25</td>\n",
              "    </tr>\n",
              "  </tbody>\n",
              "</table>\n",
              "<p>588482 rows × 5 columns</p>\n",
              "</div>"
            ],
            "text/plain": [
              "       origin dest  Numerical_Week  crs_arr_hour  meanOfGrouping\n",
              "0         DEN  PSP              21            19            0.00\n",
              "1         DEN  LGA              21            16            0.00\n",
              "2         DEN  OMA              21            10            0.00\n",
              "3         DEN  MEM              21            13            0.00\n",
              "4         DEN  OKC              21            22           74.00\n",
              "...       ...  ...             ...           ...             ...\n",
              "588477    EWR  CLT               1             6            0.00\n",
              "588478    LGA  FLL               9             8            0.00\n",
              "588479    LGA  DFW               9            12           65.00\n",
              "588480    LGA  IAH               9            10            0.00\n",
              "588481    LGA  DTW               1            11            5.25\n",
              "\n",
              "[588482 rows x 5 columns]"
            ]
          },
          "metadata": {
            "tags": []
          },
          "execution_count": 26
        }
      ]
    },
    {
      "cell_type": "code",
      "metadata": {
        "id": "9510dRJZ6AIS"
      },
      "source": [
        "X= X.drop(['fl_date','mkt_unique_carrier','carrier_delay','day','dep_delay','dep_time','Season',\t'actual_elapsed_time','weather_delay', \t'nas_delay', \t'security_delay', 'late_aircraft_delay'],axis=1)\n",
        "X = X.drop(['year','crs_arr_time'],axis=1)\n",
        "# X = X.drop(['weekday','visibility','crs_dep_time','op_carrier_fl_num','arr_time'],axis=1)\n",
        "X = X.drop(['weekday','visibility','arr_time'],axis=1)"
      ],
      "execution_count": null,
      "outputs": []
    },
    {
      "cell_type": "code",
      "metadata": {
        "id": "9rOCMYRapAiW"
      },
      "source": [
        "# X = X.drop(['crs_dep_time','origin','dest','op_unique_carrier','day','year','dep_time','arr_time','sumDelays','crs_arr_time','weekday'],axis=1)"
      ],
      "execution_count": null,
      "outputs": []
    },
    {
      "cell_type": "code",
      "metadata": {
        "id": "1op7hwgJ807E"
      },
      "source": [
        "from sklearn.tree import DecisionTreeRegressor\n",
        "from sklearn.ensemble import RandomForestRegressor,GradientBoostingRegressor\n",
        "from sklearn.metrics import r2_score \n",
        "from sklearn.model_selection import GridSearchCV\n",
        "import xgboost as xg"
      ],
      "execution_count": null,
      "outputs": []
    },
    {
      "cell_type": "code",
      "metadata": {
        "id": "oKR_I6LJZg9Y"
      },
      "source": [
        "from sklearn.model_selection import GridSearchCV"
      ],
      "execution_count": null,
      "outputs": []
    },
    {
      "cell_type": "code",
      "metadata": {
        "id": "vRunw2ip8n08"
      },
      "source": [
        "X_train, X_test, y_train, y_test = train_test_split(X, y, test_size=0.3, random_state=12)"
      ],
      "execution_count": null,
      "outputs": []
    },
    {
      "cell_type": "code",
      "metadata": {
        "id": "WxyEBYXU9i9j"
      },
      "source": [
        "from sklearn.metrics import mean_squared_error"
      ],
      "execution_count": null,
      "outputs": []
    },
    {
      "cell_type": "code",
      "metadata": {
        "id": "TRruNIqPZsuY"
      },
      "source": [
        "model = RandomForestRegressor()"
      ],
      "execution_count": null,
      "outputs": []
    },
    {
      "cell_type": "code",
      "metadata": {
        "colab": {
          "base_uri": "https://localhost:8080/"
        },
        "id": "iugvz3O42xEZ",
        "outputId": "f8773516-1ec9-4f40-c7ee-4c59f9df6d37"
      },
      "source": [
        "X.origin.unique()"
      ],
      "execution_count": null,
      "outputs": [
        {
          "output_type": "execute_result",
          "data": {
            "text/plain": [
              "['DEN', 'CLT', 'LGA', 'IAH', 'ORD', ..., 'MSP', 'ATL', 'BOS', 'DTW', 'DCA']\n",
              "Length: 18\n",
              "Categories (18, object): ['DEN', 'CLT', 'LGA', 'IAH', ..., 'ATL', 'BOS', 'DTW', 'DCA']"
            ]
          },
          "metadata": {
            "tags": []
          },
          "execution_count": 34
        }
      ]
    },
    {
      "cell_type": "code",
      "metadata": {
        "colab": {
          "base_uri": "https://localhost:8080/"
        },
        "id": "8LBzlqQf3PUr",
        "outputId": "2c37dbe3-6fdc-4ad7-f818-36c7fa916039"
      },
      "source": [
        "[x for x in X.origin.unique()]"
      ],
      "execution_count": null,
      "outputs": [
        {
          "output_type": "execute_result",
          "data": {
            "text/plain": [
              "['DEN',\n",
              " 'CLT',\n",
              " 'LGA',\n",
              " 'IAH',\n",
              " 'ORD',\n",
              " 'PHX',\n",
              " 'LAX',\n",
              " 'EWR',\n",
              " 'SEA',\n",
              " 'SFO',\n",
              " 'MCO',\n",
              " 'LAS',\n",
              " 'DFW',\n",
              " 'MSP',\n",
              " 'ATL',\n",
              " 'BOS',\n",
              " 'DTW',\n",
              " 'DCA']"
            ]
          },
          "metadata": {
            "tags": []
          },
          "execution_count": 35
        }
      ]
    },
    {
      "cell_type": "code",
      "metadata": {
        "id": "OjqlSDz-8SdJ"
      },
      "source": [
        "# model.fit(X_train,y_train)\n",
        "# y_pred = model.predict(X_test)\n",
        "# model.score(X_test,y_test)"
      ],
      "execution_count": null,
      "outputs": []
    },
    {
      "cell_type": "code",
      "metadata": {
        "id": "Z0eUHZSMy5V3"
      },
      "source": [
        "#print('mean_squared_error:', mean_squared_error(y_test,y_pred))\n",
        "#print('RSME:',np.sqrt(mean_squared_error(y_test, y_pred)))\n",
        "#print('r2 score:', r2_score(y_test,y_pred))\n",
        "#print('Adjusted R2 value:', 1 - (1-model.score(X_test,y_test))*(len(y_test)-1)/(len(y_test)-X_test.shape[1]-1))"
      ],
      "execution_count": null,
      "outputs": []
    },
    {
      "cell_type": "code",
      "metadata": {
        "id": "QuNK4OTZ9Uy4"
      },
      "source": [
        "# model = GradientBoostingRegressor(n_estimators=150,learning_rate=1.5,random_state=1)\n",
        "# model.fit(X_train,y_train)\n",
        "# y_pred = model.predict(X_test)"
      ],
      "execution_count": null,
      "outputs": []
    },
    {
      "cell_type": "code",
      "metadata": {
        "id": "59342UMXzAFz"
      },
      "source": [
        "# print('mean_squared_error:', mean_squared_error(y_test,y_pred))\n",
        "# print('RSME:',np.sqrt(mean_squared_error(y_test, y_pred)))\n",
        "# print('r2 score:', r2_score(y_test,y_pred))\n",
        "# print('Adjusted R2 value:', 1 - (1-model.score(X_test,y_test))*(len(y_test)-1)/(len(y_test)-X_test.shape[1]-1))"
      ],
      "execution_count": null,
      "outputs": []
    },
    {
      "cell_type": "code",
      "metadata": {
        "id": "ISa2NORI7JzS"
      },
      "source": [
        "import xgboost as xgb"
      ],
      "execution_count": null,
      "outputs": []
    },
    {
      "cell_type": "code",
      "metadata": {
        "id": "6QwtkYo6bFnx",
        "colab": {
          "base_uri": "https://localhost:8080/"
        },
        "outputId": "f7af68d3-e217-46ce-ba3b-65535a57a8ec"
      },
      "source": [
        "X.columns"
      ],
      "execution_count": null,
      "outputs": [
        {
          "output_type": "execute_result",
          "data": {
            "text/plain": [
              "Index(['op_unique_carrier', 'origin', 'dest', 'distance', 'month', 'value',\n",
              "       'crs_arr_hour', 'Numerical_Week', 'Weekday', 'meanOfGrouping'],\n",
              "      dtype='object')"
            ]
          },
          "metadata": {
            "tags": []
          },
          "execution_count": 41
        }
      ]
    },
    {
      "cell_type": "code",
      "metadata": {
        "id": "xcfnPUP-7NKF"
      },
      "source": [
        "# xgbr = xgb.XGBRegressor(n_estimators =200,random_state=12) \n",
        "# xgbr.fit(X_train,y_train)\n",
        "# y_pred = xgbr.predict(X_test)\n",
        "# xgbr.score(X_test,y_test)"
      ],
      "execution_count": null,
      "outputs": []
    },
    {
      "cell_type": "code",
      "metadata": {
        "id": "lCQ1VrOPJ6Yc"
      },
      "source": [
        "# print('mean_squared_error:', mean_squared_error(y_test,y_pred))\n",
        "# print('RSME:',np.sqrt(mean_squared_error(y_test, y_pred)))\n",
        "# print('r2 score:', r2_score(y_test,y_pred))\n",
        "# print('Adjusted R2 value:', 1 - (1-xgbr.score(X_test,y_test))*(len(y_test)-1)/(len(y_test)-X_test.shape[1]-1))"
      ],
      "execution_count": null,
      "outputs": []
    },
    {
      "cell_type": "code",
      "metadata": {
        "id": "g8npxmL8THGN"
      },
      "source": [
        "import lightgbm"
      ],
      "execution_count": null,
      "outputs": []
    },
    {
      "cell_type": "code",
      "metadata": {
        "id": "qXvbcAoT7y0r"
      },
      "source": [
        "params = {'learning_rate': 0.8277896457253541, 'boosting_type': 'gbdt', 'objective': 'regression', 'metric': 'rmse', 'sub_feature': 0.5, 'num_leaves': 62, 'min_data': 55, 'max_depth': 27}"
      ],
      "execution_count": null,
      "outputs": []
    },
    {
      "cell_type": "code",
      "metadata": {
        "id": "zRNATjZjTdjb"
      },
      "source": [
        "model = lightgbm.LGBMRegressor(learning_rate= 0.8277896457253541, boosting_type= 'gbdt', metric= 'rmse', sub_feature= 0.5, num_leaves= 62, min_data= 55, max_depth= 27,random_state=12)"
      ],
      "execution_count": null,
      "outputs": []
    },
    {
      "cell_type": "code",
      "metadata": {
        "id": "tK7MSLGhVono",
        "colab": {
          "base_uri": "https://localhost:8080/"
        },
        "outputId": "c8c5d9f7-ae74-44ec-abe8-9e42287f6aeb"
      },
      "source": [
        "model.fit(X_train,y_train)"
      ],
      "execution_count": null,
      "outputs": [
        {
          "output_type": "execute_result",
          "data": {
            "text/plain": [
              "LGBMRegressor(boosting_type='gbdt', class_weight=None, colsample_bytree=1.0,\n",
              "              importance_type='split', learning_rate=0.8277896457253541,\n",
              "              max_depth=27, metric='rmse', min_child_samples=20,\n",
              "              min_child_weight=0.001, min_data=55, min_split_gain=0.0,\n",
              "              n_estimators=100, n_jobs=-1, num_leaves=62, objective=None,\n",
              "              random_state=12, reg_alpha=0.0, reg_lambda=0.0, silent=True,\n",
              "              sub_feature=0.5, subsample=1.0, subsample_for_bin=200000,\n",
              "              subsample_freq=0)"
            ]
          },
          "metadata": {
            "tags": []
          },
          "execution_count": 47
        }
      ]
    },
    {
      "cell_type": "code",
      "metadata": {
        "id": "RERePPr-VMn4"
      },
      "source": [
        "y_pred = model.predict(X_test)"
      ],
      "execution_count": null,
      "outputs": []
    },
    {
      "cell_type": "code",
      "metadata": {
        "colab": {
          "base_uri": "https://localhost:8080/",
          "height": 478
        },
        "id": "n1GzIalMWCO4",
        "outputId": "f3416fca-a1de-4492-d7e5-4abd8e5d10c0"
      },
      "source": [
        "X_test"
      ],
      "execution_count": null,
      "outputs": [
        {
          "output_type": "execute_result",
          "data": {
            "text/html": [
              "<div>\n",
              "<style scoped>\n",
              "    .dataframe tbody tr th:only-of-type {\n",
              "        vertical-align: middle;\n",
              "    }\n",
              "\n",
              "    .dataframe tbody tr th {\n",
              "        vertical-align: top;\n",
              "    }\n",
              "\n",
              "    .dataframe thead th {\n",
              "        text-align: right;\n",
              "    }\n",
              "</style>\n",
              "<table border=\"1\" class=\"dataframe\">\n",
              "  <thead>\n",
              "    <tr style=\"text-align: right;\">\n",
              "      <th></th>\n",
              "      <th>op_unique_carrier</th>\n",
              "      <th>origin</th>\n",
              "      <th>dest</th>\n",
              "      <th>distance</th>\n",
              "      <th>month</th>\n",
              "      <th>value</th>\n",
              "      <th>crs_arr_hour</th>\n",
              "      <th>Numerical_Week</th>\n",
              "      <th>Weekday</th>\n",
              "      <th>meanOfGrouping</th>\n",
              "    </tr>\n",
              "  </thead>\n",
              "  <tbody>\n",
              "    <tr>\n",
              "      <th>24512</th>\n",
              "      <td>PT</td>\n",
              "      <td>CLT</td>\n",
              "      <td>TRI</td>\n",
              "      <td>119.0</td>\n",
              "      <td>8</td>\n",
              "      <td>Partly cloudy</td>\n",
              "      <td>15</td>\n",
              "      <td>34</td>\n",
              "      <td>6</td>\n",
              "      <td>0.000000</td>\n",
              "    </tr>\n",
              "    <tr>\n",
              "      <th>269655</th>\n",
              "      <td>UA</td>\n",
              "      <td>LAX</td>\n",
              "      <td>EWR</td>\n",
              "      <td>2454.0</td>\n",
              "      <td>8</td>\n",
              "      <td>Cloudy</td>\n",
              "      <td>6</td>\n",
              "      <td>33</td>\n",
              "      <td>5</td>\n",
              "      <td>10.333333</td>\n",
              "    </tr>\n",
              "    <tr>\n",
              "      <th>265179</th>\n",
              "      <td>DL</td>\n",
              "      <td>ATL</td>\n",
              "      <td>PIT</td>\n",
              "      <td>526.0</td>\n",
              "      <td>2</td>\n",
              "      <td>Cloudy</td>\n",
              "      <td>0</td>\n",
              "      <td>7</td>\n",
              "      <td>6</td>\n",
              "      <td>0.000000</td>\n",
              "    </tr>\n",
              "    <tr>\n",
              "      <th>421498</th>\n",
              "      <td>DL</td>\n",
              "      <td>MCO</td>\n",
              "      <td>RDU</td>\n",
              "      <td>534.0</td>\n",
              "      <td>4</td>\n",
              "      <td>Sunny</td>\n",
              "      <td>18</td>\n",
              "      <td>14</td>\n",
              "      <td>5</td>\n",
              "      <td>107.500000</td>\n",
              "    </tr>\n",
              "    <tr>\n",
              "      <th>458679</th>\n",
              "      <td>AA</td>\n",
              "      <td>DCA</td>\n",
              "      <td>LGA</td>\n",
              "      <td>214.0</td>\n",
              "      <td>10</td>\n",
              "      <td>Sunny</td>\n",
              "      <td>7</td>\n",
              "      <td>42</td>\n",
              "      <td>1</td>\n",
              "      <td>0.000000</td>\n",
              "    </tr>\n",
              "    <tr>\n",
              "      <th>...</th>\n",
              "      <td>...</td>\n",
              "      <td>...</td>\n",
              "      <td>...</td>\n",
              "      <td>...</td>\n",
              "      <td>...</td>\n",
              "      <td>...</td>\n",
              "      <td>...</td>\n",
              "      <td>...</td>\n",
              "      <td>...</td>\n",
              "      <td>...</td>\n",
              "    </tr>\n",
              "    <tr>\n",
              "      <th>165516</th>\n",
              "      <td>9E</td>\n",
              "      <td>LGA</td>\n",
              "      <td>ORF</td>\n",
              "      <td>296.0</td>\n",
              "      <td>4</td>\n",
              "      <td>Rain</td>\n",
              "      <td>19</td>\n",
              "      <td>14</td>\n",
              "      <td>1</td>\n",
              "      <td>0.000000</td>\n",
              "    </tr>\n",
              "    <tr>\n",
              "      <th>397097</th>\n",
              "      <td>WN</td>\n",
              "      <td>LAS</td>\n",
              "      <td>HOU</td>\n",
              "      <td>1235.0</td>\n",
              "      <td>3</td>\n",
              "      <td>Rain</td>\n",
              "      <td>17</td>\n",
              "      <td>9</td>\n",
              "      <td>5</td>\n",
              "      <td>52.500000</td>\n",
              "    </tr>\n",
              "    <tr>\n",
              "      <th>33128</th>\n",
              "      <td>AA</td>\n",
              "      <td>MSP</td>\n",
              "      <td>CLT</td>\n",
              "      <td>930.0</td>\n",
              "      <td>8</td>\n",
              "      <td>Partly cloudy</td>\n",
              "      <td>19</td>\n",
              "      <td>35</td>\n",
              "      <td>1</td>\n",
              "      <td>90.000000</td>\n",
              "    </tr>\n",
              "    <tr>\n",
              "      <th>154571</th>\n",
              "      <td>B6</td>\n",
              "      <td>BOS</td>\n",
              "      <td>DTW</td>\n",
              "      <td>632.0</td>\n",
              "      <td>3</td>\n",
              "      <td>Rain/Snow</td>\n",
              "      <td>22</td>\n",
              "      <td>12</td>\n",
              "      <td>3</td>\n",
              "      <td>97.000000</td>\n",
              "    </tr>\n",
              "    <tr>\n",
              "      <th>360711</th>\n",
              "      <td>DL</td>\n",
              "      <td>ATL</td>\n",
              "      <td>LIT</td>\n",
              "      <td>453.0</td>\n",
              "      <td>9</td>\n",
              "      <td>Cloudy</td>\n",
              "      <td>11</td>\n",
              "      <td>35</td>\n",
              "      <td>6</td>\n",
              "      <td>0.000000</td>\n",
              "    </tr>\n",
              "  </tbody>\n",
              "</table>\n",
              "<p>176545 rows × 10 columns</p>\n",
              "</div>"
            ],
            "text/plain": [
              "       op_unique_carrier origin dest  ...  Numerical_Week  Weekday meanOfGrouping\n",
              "24512                 PT    CLT  TRI  ...              34        6       0.000000\n",
              "269655                UA    LAX  EWR  ...              33        5      10.333333\n",
              "265179                DL    ATL  PIT  ...               7        6       0.000000\n",
              "421498                DL    MCO  RDU  ...              14        5     107.500000\n",
              "458679                AA    DCA  LGA  ...              42        1       0.000000\n",
              "...                  ...    ...  ...  ...             ...      ...            ...\n",
              "165516                9E    LGA  ORF  ...              14        1       0.000000\n",
              "397097                WN    LAS  HOU  ...               9        5      52.500000\n",
              "33128                 AA    MSP  CLT  ...              35        1      90.000000\n",
              "154571                B6    BOS  DTW  ...              12        3      97.000000\n",
              "360711                DL    ATL  LIT  ...              35        6       0.000000\n",
              "\n",
              "[176545 rows x 10 columns]"
            ]
          },
          "metadata": {
            "tags": []
          },
          "execution_count": 49
        }
      ]
    },
    {
      "cell_type": "code",
      "metadata": {
        "id": "zNdYwFlyVYFq",
        "colab": {
          "base_uri": "https://localhost:8080/"
        },
        "outputId": "524e81d6-2e98-4c3a-8245-ae63fdcb38c8"
      },
      "source": [
        "print('mean_squared_error:', mean_squared_error(y_test,y_pred))\n",
        "print('RSME:',np.sqrt(mean_squared_error(y_test, y_pred)))\n",
        "print('r2 score:', r2_score(y_test,y_pred))\n",
        "print('Adjusted R2 value:', 1 - (1-model.score(X_test,y_test))*(len(y_test)-1)/(len(y_test)-X_test.shape[1]-1))"
      ],
      "execution_count": null,
      "outputs": [
        {
          "output_type": "stream",
          "text": [
            "mean_squared_error: 849.5861644070835\n",
            "RSME: 29.147661388301525\n",
            "r2 score: 0.5507735525892539\n",
            "Adjusted R2 value: 0.5507481055678636\n"
          ],
          "name": "stdout"
        }
      ]
    },
    {
      "cell_type": "code",
      "metadata": {
        "id": "D1bS7VRYqyqh",
        "colab": {
          "base_uri": "https://localhost:8080/",
          "height": 314
        },
        "outputId": "64a259e7-a798-4f54-8620-92cf9658970c"
      },
      "source": [
        "lightgbm.plot_importance(model)"
      ],
      "execution_count": null,
      "outputs": [
        {
          "output_type": "execute_result",
          "data": {
            "text/plain": [
              "<matplotlib.axes._subplots.AxesSubplot at 0x7f128b7c70d0>"
            ]
          },
          "metadata": {
            "tags": []
          },
          "execution_count": 51
        },
        {
          "output_type": "display_data",
          "data": {
            "image/png": "[encoded data removed]",
            "text/plain": [
              "<Figure size 432x288 with 1 Axes>"
            ]
          },
          "metadata": {
            "tags": [],
            "needs_background": "light"
          }
        }
      ]
    },
    {
      "cell_type": "code",
      "metadata": {
        "colab": {
          "base_uri": "https://localhost:8080/"
        },
        "id": "nKFQ7rfgr_JG",
        "outputId": "487aad57-7056-4b40-8740-297f29b56688"
      },
      "source": [
        "import pandas as pd\n",
        "import psycopg2\n",
        "%matplotlib inline\n",
        "import matplotlib.pyplot as plt\n",
        "plt.style.use('seaborn-whitegrid')\n",
        "import numpy as np"
      ],
      "execution_count": null,
      "outputs": [
        {
          "output_type": "stream",
          "text": [
            "/usr/local/lib/python3.7/dist-packages/psycopg2/__init__.py:144: UserWarning: The psycopg2 wheel package will be renamed from release 2.8; in order to keep installing from binary please use \"pip install psycopg2-binary\" instead. For details see: <http://initd.org/psycopg/docs/install.html#binary-install-from-pypi>.\n",
            "  \"\"\")\n"
          ],
          "name": "stderr"
        }
      ]
    },
    {
      "cell_type": "code",
      "metadata": {
        "id": "JUo_vbj-sEBY"
      },
      "source": [
        "con = psycopg2.connect(\n",
        "    host = 'mid-term-project.ca2jkepgjpne.us-east-2.rds.amazonaws.com',\n",
        "    database='mid_term_project',\n",
        "    user = 'lhl_student',\n",
        "    password = 'lhl_student',\n",
        "    port = 5432\n",
        ")"
      ],
      "execution_count": null,
      "outputs": []
    },
    {
      "cell_type": "code",
      "metadata": {
        "id": "xyZInOsusEpa"
      },
      "source": [
        "cur = con.cursor()"
      ],
      "execution_count": null,
      "outputs": []
    },
    {
      "cell_type": "code",
      "metadata": {
        "id": "WCV3-fFxsF0e"
      },
      "source": [
        "sql = \"select * from flights_test;\"\n",
        "dat = pd.read_sql_query(sql, con)"
      ],
      "execution_count": null,
      "outputs": []
    },
    {
      "cell_type": "code",
      "metadata": {
        "id": "7OOPddtVwV73"
      },
      "source": [
        "dat['crs_arr_hour'] =dat['crs_arr_time'].astype(str).str[:2].astype(int)"
      ],
      "execution_count": null,
      "outputs": []
    },
    {
      "cell_type": "code",
      "metadata": {
        "colab": {
          "base_uri": "https://localhost:8080/"
        },
        "id": "h7CIgpY-wbaa",
        "outputId": "7ad24f32-4b12-4c5a-e43b-5150af054c30"
      },
      "source": [
        "dat['Numerical_Week']= (pd.to_datetime(dat['fl_date']).dt.weekofyear)"
      ],
      "execution_count": null,
      "outputs": [
        {
          "output_type": "stream",
          "text": [
            "/usr/local/lib/python3.7/dist-packages/ipykernel_launcher.py:1: FutureWarning: Series.dt.weekofyear and Series.dt.week have been deprecated.  Please use Series.dt.isocalendar().week instead.\n",
            "  \"\"\"Entry point for launching an IPython kernel.\n"
          ],
          "name": "stderr"
        }
      ]
    },
    {
      "cell_type": "code",
      "metadata": {
        "id": "NDThl4440fXd"
      },
      "source": [
        "dat['crs_dep_time'] = dat['crs_dep_time'].astype(float).astype(int).apply(lambda x: '{0:0>4}'.format(x)).astype(str)\n",
        "dat['crs_dep_hour'] = dat['crs_dep_time'].astype(str).str[:2].astype(int)"
      ],
      "execution_count": null,
      "outputs": []
    },
    {
      "cell_type": "code",
      "metadata": {
        "id": "vR6RMaoJ2Cot"
      },
      "source": [
        "weatherdf['fl_date'] = pd.to_datetime(weatherdf['fl_date'])"
      ],
      "execution_count": null,
      "outputs": []
    },
    {
      "cell_type": "code",
      "metadata": {
        "colab": {
          "base_uri": "https://localhost:8080/"
        },
        "id": "0Ej5ef1I10Dl",
        "outputId": "174ec5d1-ccdf-4579-f3fd-13cea86e9316"
      },
      "source": [
        "dat.isna().sum()"
      ],
      "execution_count": null,
      "outputs": [
        {
          "output_type": "execute_result",
          "data": {
            "text/plain": [
              "fl_date                  0\n",
              "mkt_unique_carrier       0\n",
              "branded_code_share       0\n",
              "mkt_carrier              0\n",
              "mkt_carrier_fl_num       0\n",
              "op_unique_carrier        0\n",
              "tail_num              1499\n",
              "op_carrier_fl_num        0\n",
              "origin_airport_id        0\n",
              "origin                   0\n",
              "origin_city_name         0\n",
              "dest_airport_id          0\n",
              "dest                     0\n",
              "dest_city_name           0\n",
              "crs_dep_time             0\n",
              "crs_arr_time             0\n",
              "dup                      0\n",
              "crs_elapsed_time         0\n",
              "flights                  0\n",
              "distance                 0\n",
              "crs_arr_hour             0\n",
              "Numerical_Week           0\n",
              "crs_dep_hour             0\n",
              "dtype: int64"
            ]
          },
          "metadata": {
            "tags": []
          },
          "execution_count": 60
        }
      ]
    },
    {
      "cell_type": "code",
      "metadata": {
        "id": "xmFf1jQN09cn"
      },
      "source": [
        "dat['month'] = (pd.to_datetime(dat['fl_date']).dt.month)"
      ],
      "execution_count": null,
      "outputs": []
    },
    {
      "cell_type": "code",
      "metadata": {
        "id": "9-xSiHoF1TlA"
      },
      "source": [
        "dat['Weekday'] = pd.to_datetime(dat['fl_date']).dt.dayofweek"
      ],
      "execution_count": null,
      "outputs": []
    },
    {
      "cell_type": "code",
      "metadata": {
        "id": "8DXrorCn-zyM"
      },
      "source": [
        "weatherdf2['fl_date'] = pd.to_datetime(weatherdf2['fl_date'])"
      ],
      "execution_count": null,
      "outputs": []
    },
    {
      "cell_type": "code",
      "metadata": {
        "id": "2QIdBPSx_X7L"
      },
      "source": [
        "dat = dat.merge(weatherdf2, on=['fl_date','origin'])"
      ],
      "execution_count": null,
      "outputs": []
    },
    {
      "cell_type": "code",
      "metadata": {
        "colab": {
          "base_uri": "https://localhost:8080/",
          "height": 424
        },
        "id": "lK50muoz1GId",
        "outputId": "51d9f8d6-9aa5-42e6-c0ec-8417c734a897"
      },
      "source": [
        "weatherdf2"
      ],
      "execution_count": null,
      "outputs": [
        {
          "output_type": "execute_result",
          "data": {
            "text/html": [
              "<div>\n",
              "<style scoped>\n",
              "    .dataframe tbody tr th:only-of-type {\n",
              "        vertical-align: middle;\n",
              "    }\n",
              "\n",
              "    .dataframe tbody tr th {\n",
              "        vertical-align: top;\n",
              "    }\n",
              "\n",
              "    .dataframe thead th {\n",
              "        text-align: right;\n",
              "    }\n",
              "</style>\n",
              "<table border=\"1\" class=\"dataframe\">\n",
              "  <thead>\n",
              "    <tr style=\"text-align: right;\">\n",
              "      <th></th>\n",
              "      <th>fl_date</th>\n",
              "      <th>origin</th>\n",
              "      <th>visibility</th>\n",
              "      <th>value</th>\n",
              "    </tr>\n",
              "  </thead>\n",
              "  <tbody>\n",
              "    <tr>\n",
              "      <th>0</th>\n",
              "      <td>2020-01-01</td>\n",
              "      <td>ORD</td>\n",
              "      <td>10</td>\n",
              "      <td>Overcast</td>\n",
              "    </tr>\n",
              "    <tr>\n",
              "      <th>1</th>\n",
              "      <td>2020-01-02</td>\n",
              "      <td>ORD</td>\n",
              "      <td>10</td>\n",
              "      <td>Partly cloudy</td>\n",
              "    </tr>\n",
              "    <tr>\n",
              "      <th>2</th>\n",
              "      <td>2020-01-03</td>\n",
              "      <td>ORD</td>\n",
              "      <td>10</td>\n",
              "      <td>Partly cloudy</td>\n",
              "    </tr>\n",
              "    <tr>\n",
              "      <th>3</th>\n",
              "      <td>2020-01-04</td>\n",
              "      <td>ORD</td>\n",
              "      <td>10</td>\n",
              "      <td>Partly cloudy</td>\n",
              "    </tr>\n",
              "    <tr>\n",
              "      <th>4</th>\n",
              "      <td>2020-01-05</td>\n",
              "      <td>ORD</td>\n",
              "      <td>10</td>\n",
              "      <td>Partly cloudy</td>\n",
              "    </tr>\n",
              "    <tr>\n",
              "      <th>...</th>\n",
              "      <td>...</td>\n",
              "      <td>...</td>\n",
              "      <td>...</td>\n",
              "      <td>...</td>\n",
              "    </tr>\n",
              "    <tr>\n",
              "      <th>585</th>\n",
              "      <td>2020-01-10</td>\n",
              "      <td>MSP</td>\n",
              "      <td>10</td>\n",
              "      <td>Partly cloudy</td>\n",
              "    </tr>\n",
              "    <tr>\n",
              "      <th>586</th>\n",
              "      <td>2020-01-11</td>\n",
              "      <td>MSP</td>\n",
              "      <td>10</td>\n",
              "      <td>Partly cloudy</td>\n",
              "    </tr>\n",
              "    <tr>\n",
              "      <th>587</th>\n",
              "      <td>2020-01-12</td>\n",
              "      <td>MSP</td>\n",
              "      <td>10</td>\n",
              "      <td>Partly cloudy</td>\n",
              "    </tr>\n",
              "    <tr>\n",
              "      <th>588</th>\n",
              "      <td>2020-01-13</td>\n",
              "      <td>MSP</td>\n",
              "      <td>10</td>\n",
              "      <td>Partly cloudy</td>\n",
              "    </tr>\n",
              "    <tr>\n",
              "      <th>589</th>\n",
              "      <td>2020-01-14</td>\n",
              "      <td>MSP</td>\n",
              "      <td>10</td>\n",
              "      <td>Partly cloudy</td>\n",
              "    </tr>\n",
              "  </tbody>\n",
              "</table>\n",
              "<p>590 rows × 4 columns</p>\n",
              "</div>"
            ],
            "text/plain": [
              "       fl_date origin  visibility          value\n",
              "0   2020-01-01    ORD          10       Overcast\n",
              "1   2020-01-02    ORD          10  Partly cloudy\n",
              "2   2020-01-03    ORD          10  Partly cloudy\n",
              "3   2020-01-04    ORD          10  Partly cloudy\n",
              "4   2020-01-05    ORD          10  Partly cloudy\n",
              "..         ...    ...         ...            ...\n",
              "585 2020-01-10    MSP          10  Partly cloudy\n",
              "586 2020-01-11    MSP          10  Partly cloudy\n",
              "587 2020-01-12    MSP          10  Partly cloudy\n",
              "588 2020-01-13    MSP          10  Partly cloudy\n",
              "589 2020-01-14    MSP          10  Partly cloudy\n",
              "\n",
              "[590 rows x 4 columns]"
            ]
          },
          "metadata": {
            "tags": []
          },
          "execution_count": 65
        }
      ]
    },
    {
      "cell_type": "code",
      "metadata": {
        "colab": {
          "base_uri": "https://localhost:8080/",
          "height": 617
        },
        "id": "SNWJ__hX6f-4",
        "outputId": "7ea1348e-3d98-49b9-cf0d-e977c9b6aec0"
      },
      "source": [
        "dat"
      ],
      "execution_count": null,
      "outputs": [
        {
          "output_type": "execute_result",
          "data": {
            "text/html": [
              "<div>\n",
              "<style scoped>\n",
              "    .dataframe tbody tr th:only-of-type {\n",
              "        vertical-align: middle;\n",
              "    }\n",
              "\n",
              "    .dataframe tbody tr th {\n",
              "        vertical-align: top;\n",
              "    }\n",
              "\n",
              "    .dataframe thead th {\n",
              "        text-align: right;\n",
              "    }\n",
              "</style>\n",
              "<table border=\"1\" class=\"dataframe\">\n",
              "  <thead>\n",
              "    <tr style=\"text-align: right;\">\n",
              "      <th></th>\n",
              "      <th>fl_date</th>\n",
              "      <th>mkt_unique_carrier</th>\n",
              "      <th>branded_code_share</th>\n",
              "      <th>mkt_carrier</th>\n",
              "      <th>mkt_carrier_fl_num</th>\n",
              "      <th>op_unique_carrier</th>\n",
              "      <th>tail_num</th>\n",
              "      <th>op_carrier_fl_num</th>\n",
              "      <th>origin_airport_id</th>\n",
              "      <th>origin</th>\n",
              "      <th>origin_city_name</th>\n",
              "      <th>dest_airport_id</th>\n",
              "      <th>dest</th>\n",
              "      <th>dest_city_name</th>\n",
              "      <th>crs_dep_time</th>\n",
              "      <th>crs_arr_time</th>\n",
              "      <th>dup</th>\n",
              "      <th>crs_elapsed_time</th>\n",
              "      <th>flights</th>\n",
              "      <th>distance</th>\n",
              "      <th>crs_arr_hour</th>\n",
              "      <th>Numerical_Week</th>\n",
              "      <th>crs_dep_hour</th>\n",
              "      <th>month</th>\n",
              "      <th>Weekday</th>\n",
              "      <th>visibility</th>\n",
              "      <th>value</th>\n",
              "    </tr>\n",
              "  </thead>\n",
              "  <tbody>\n",
              "    <tr>\n",
              "      <th>0</th>\n",
              "      <td>2020-01-01</td>\n",
              "      <td>WN</td>\n",
              "      <td>WN</td>\n",
              "      <td>WN</td>\n",
              "      <td>2029</td>\n",
              "      <td>WN</td>\n",
              "      <td>N456WN</td>\n",
              "      <td>2029</td>\n",
              "      <td>14107</td>\n",
              "      <td>PHX</td>\n",
              "      <td>Phoenix, AZ</td>\n",
              "      <td>10140</td>\n",
              "      <td>ABQ</td>\n",
              "      <td>Albuquerque, NM</td>\n",
              "      <td>1815</td>\n",
              "      <td>1920</td>\n",
              "      <td>N</td>\n",
              "      <td>65</td>\n",
              "      <td>1</td>\n",
              "      <td>328</td>\n",
              "      <td>19</td>\n",
              "      <td>1</td>\n",
              "      <td>18</td>\n",
              "      <td>1</td>\n",
              "      <td>2</td>\n",
              "      <td>10</td>\n",
              "      <td>Patchy rain possible</td>\n",
              "    </tr>\n",
              "    <tr>\n",
              "      <th>1</th>\n",
              "      <td>2020-01-01</td>\n",
              "      <td>WN</td>\n",
              "      <td>WN</td>\n",
              "      <td>WN</td>\n",
              "      <td>4692</td>\n",
              "      <td>WN</td>\n",
              "      <td>N215WN</td>\n",
              "      <td>4692</td>\n",
              "      <td>14107</td>\n",
              "      <td>PHX</td>\n",
              "      <td>Phoenix, AZ</td>\n",
              "      <td>10140</td>\n",
              "      <td>ABQ</td>\n",
              "      <td>Albuquerque, NM</td>\n",
              "      <td>2110</td>\n",
              "      <td>2220</td>\n",
              "      <td>N</td>\n",
              "      <td>70</td>\n",
              "      <td>1</td>\n",
              "      <td>328</td>\n",
              "      <td>22</td>\n",
              "      <td>1</td>\n",
              "      <td>21</td>\n",
              "      <td>1</td>\n",
              "      <td>2</td>\n",
              "      <td>10</td>\n",
              "      <td>Patchy rain possible</td>\n",
              "    </tr>\n",
              "    <tr>\n",
              "      <th>2</th>\n",
              "      <td>2020-01-01</td>\n",
              "      <td>WN</td>\n",
              "      <td>WN</td>\n",
              "      <td>WN</td>\n",
              "      <td>4738</td>\n",
              "      <td>WN</td>\n",
              "      <td>N737JW</td>\n",
              "      <td>4738</td>\n",
              "      <td>14107</td>\n",
              "      <td>PHX</td>\n",
              "      <td>Phoenix, AZ</td>\n",
              "      <td>10140</td>\n",
              "      <td>ABQ</td>\n",
              "      <td>Albuquerque, NM</td>\n",
              "      <td>1615</td>\n",
              "      <td>1720</td>\n",
              "      <td>N</td>\n",
              "      <td>65</td>\n",
              "      <td>1</td>\n",
              "      <td>328</td>\n",
              "      <td>17</td>\n",
              "      <td>1</td>\n",
              "      <td>16</td>\n",
              "      <td>1</td>\n",
              "      <td>2</td>\n",
              "      <td>10</td>\n",
              "      <td>Patchy rain possible</td>\n",
              "    </tr>\n",
              "    <tr>\n",
              "      <th>3</th>\n",
              "      <td>2020-01-01</td>\n",
              "      <td>WN</td>\n",
              "      <td>WN</td>\n",
              "      <td>WN</td>\n",
              "      <td>5099</td>\n",
              "      <td>WN</td>\n",
              "      <td>N732SW</td>\n",
              "      <td>5099</td>\n",
              "      <td>14107</td>\n",
              "      <td>PHX</td>\n",
              "      <td>Phoenix, AZ</td>\n",
              "      <td>10140</td>\n",
              "      <td>ABQ</td>\n",
              "      <td>Albuquerque, NM</td>\n",
              "      <td>1415</td>\n",
              "      <td>1520</td>\n",
              "      <td>N</td>\n",
              "      <td>65</td>\n",
              "      <td>1</td>\n",
              "      <td>328</td>\n",
              "      <td>15</td>\n",
              "      <td>1</td>\n",
              "      <td>14</td>\n",
              "      <td>1</td>\n",
              "      <td>2</td>\n",
              "      <td>10</td>\n",
              "      <td>Patchy rain possible</td>\n",
              "    </tr>\n",
              "    <tr>\n",
              "      <th>4</th>\n",
              "      <td>2020-01-01</td>\n",
              "      <td>WN</td>\n",
              "      <td>WN</td>\n",
              "      <td>WN</td>\n",
              "      <td>6658</td>\n",
              "      <td>WN</td>\n",
              "      <td>N794SW</td>\n",
              "      <td>6658</td>\n",
              "      <td>14107</td>\n",
              "      <td>PHX</td>\n",
              "      <td>Phoenix, AZ</td>\n",
              "      <td>10140</td>\n",
              "      <td>ABQ</td>\n",
              "      <td>Albuquerque, NM</td>\n",
              "      <td>0945</td>\n",
              "      <td>1100</td>\n",
              "      <td>N</td>\n",
              "      <td>75</td>\n",
              "      <td>1</td>\n",
              "      <td>328</td>\n",
              "      <td>11</td>\n",
              "      <td>1</td>\n",
              "      <td>9</td>\n",
              "      <td>1</td>\n",
              "      <td>2</td>\n",
              "      <td>10</td>\n",
              "      <td>Patchy rain possible</td>\n",
              "    </tr>\n",
              "    <tr>\n",
              "      <th>...</th>\n",
              "      <td>...</td>\n",
              "      <td>...</td>\n",
              "      <td>...</td>\n",
              "      <td>...</td>\n",
              "      <td>...</td>\n",
              "      <td>...</td>\n",
              "      <td>...</td>\n",
              "      <td>...</td>\n",
              "      <td>...</td>\n",
              "      <td>...</td>\n",
              "      <td>...</td>\n",
              "      <td>...</td>\n",
              "      <td>...</td>\n",
              "      <td>...</td>\n",
              "      <td>...</td>\n",
              "      <td>...</td>\n",
              "      <td>...</td>\n",
              "      <td>...</td>\n",
              "      <td>...</td>\n",
              "      <td>...</td>\n",
              "      <td>...</td>\n",
              "      <td>...</td>\n",
              "      <td>...</td>\n",
              "      <td>...</td>\n",
              "      <td>...</td>\n",
              "      <td>...</td>\n",
              "      <td>...</td>\n",
              "    </tr>\n",
              "    <tr>\n",
              "      <th>310806</th>\n",
              "      <td>2020-01-31</td>\n",
              "      <td>UA</td>\n",
              "      <td>UA_CODESHARE</td>\n",
              "      <td>UA</td>\n",
              "      <td>5970</td>\n",
              "      <td>OO</td>\n",
              "      <td>N679SA</td>\n",
              "      <td>5970</td>\n",
              "      <td>12266</td>\n",
              "      <td>IAH</td>\n",
              "      <td>Houston, TX</td>\n",
              "      <td>12217</td>\n",
              "      <td>HSV</td>\n",
              "      <td>Huntsville, AL</td>\n",
              "      <td>1455</td>\n",
              "      <td>1642</td>\n",
              "      <td>N</td>\n",
              "      <td>107</td>\n",
              "      <td>1</td>\n",
              "      <td>595</td>\n",
              "      <td>16</td>\n",
              "      <td>5</td>\n",
              "      <td>14</td>\n",
              "      <td>1</td>\n",
              "      <td>4</td>\n",
              "      <td>10</td>\n",
              "      <td>Cloudy</td>\n",
              "    </tr>\n",
              "    <tr>\n",
              "      <th>310807</th>\n",
              "      <td>2020-01-31</td>\n",
              "      <td>UA</td>\n",
              "      <td>UA_CODESHARE</td>\n",
              "      <td>UA</td>\n",
              "      <td>5971</td>\n",
              "      <td>OO</td>\n",
              "      <td>N792SK</td>\n",
              "      <td>5971</td>\n",
              "      <td>12266</td>\n",
              "      <td>IAH</td>\n",
              "      <td>Houston, TX</td>\n",
              "      <td>10372</td>\n",
              "      <td>ASE</td>\n",
              "      <td>Aspen, CO</td>\n",
              "      <td>1420</td>\n",
              "      <td>1620</td>\n",
              "      <td>N</td>\n",
              "      <td>180</td>\n",
              "      <td>1</td>\n",
              "      <td>913</td>\n",
              "      <td>16</td>\n",
              "      <td>5</td>\n",
              "      <td>14</td>\n",
              "      <td>1</td>\n",
              "      <td>4</td>\n",
              "      <td>10</td>\n",
              "      <td>Cloudy</td>\n",
              "    </tr>\n",
              "    <tr>\n",
              "      <th>310808</th>\n",
              "      <td>2020-01-31</td>\n",
              "      <td>UA</td>\n",
              "      <td>UA_CODESHARE</td>\n",
              "      <td>UA</td>\n",
              "      <td>5702</td>\n",
              "      <td>EV</td>\n",
              "      <td>N16559</td>\n",
              "      <td>3205</td>\n",
              "      <td>12266</td>\n",
              "      <td>IAH</td>\n",
              "      <td>Houston, TX</td>\n",
              "      <td>14814</td>\n",
              "      <td>SHV</td>\n",
              "      <td>Shreveport, LA</td>\n",
              "      <td>1620</td>\n",
              "      <td>1722</td>\n",
              "      <td>N</td>\n",
              "      <td>62</td>\n",
              "      <td>1</td>\n",
              "      <td>192</td>\n",
              "      <td>17</td>\n",
              "      <td>5</td>\n",
              "      <td>16</td>\n",
              "      <td>1</td>\n",
              "      <td>4</td>\n",
              "      <td>10</td>\n",
              "      <td>Cloudy</td>\n",
              "    </tr>\n",
              "    <tr>\n",
              "      <th>310809</th>\n",
              "      <td>2020-01-31</td>\n",
              "      <td>AA</td>\n",
              "      <td>AA_CODESHARE</td>\n",
              "      <td>AA</td>\n",
              "      <td>4476</td>\n",
              "      <td>YX</td>\n",
              "      <td>N408YX</td>\n",
              "      <td>4476</td>\n",
              "      <td>12266</td>\n",
              "      <td>IAH</td>\n",
              "      <td>Houston, TX</td>\n",
              "      <td>13303</td>\n",
              "      <td>MIA</td>\n",
              "      <td>Miami, FL</td>\n",
              "      <td>1715</td>\n",
              "      <td>2049</td>\n",
              "      <td>N</td>\n",
              "      <td>154</td>\n",
              "      <td>1</td>\n",
              "      <td>964</td>\n",
              "      <td>20</td>\n",
              "      <td>5</td>\n",
              "      <td>17</td>\n",
              "      <td>1</td>\n",
              "      <td>4</td>\n",
              "      <td>10</td>\n",
              "      <td>Cloudy</td>\n",
              "    </tr>\n",
              "    <tr>\n",
              "      <th>310810</th>\n",
              "      <td>2020-01-31</td>\n",
              "      <td>AA</td>\n",
              "      <td>AA_CODESHARE</td>\n",
              "      <td>AA</td>\n",
              "      <td>4487</td>\n",
              "      <td>YX</td>\n",
              "      <td>N102HQ</td>\n",
              "      <td>4487</td>\n",
              "      <td>12266</td>\n",
              "      <td>IAH</td>\n",
              "      <td>Houston, TX</td>\n",
              "      <td>14100</td>\n",
              "      <td>PHL</td>\n",
              "      <td>Philadelphia, PA</td>\n",
              "      <td>0528</td>\n",
              "      <td>949</td>\n",
              "      <td>N</td>\n",
              "      <td>201</td>\n",
              "      <td>1</td>\n",
              "      <td>1325</td>\n",
              "      <td>94</td>\n",
              "      <td>5</td>\n",
              "      <td>5</td>\n",
              "      <td>1</td>\n",
              "      <td>4</td>\n",
              "      <td>10</td>\n",
              "      <td>Cloudy</td>\n",
              "    </tr>\n",
              "  </tbody>\n",
              "</table>\n",
              "<p>310811 rows × 27 columns</p>\n",
              "</div>"
            ],
            "text/plain": [
              "          fl_date mkt_unique_carrier  ... visibility                 value\n",
              "0      2020-01-01                 WN  ...         10  Patchy rain possible\n",
              "1      2020-01-01                 WN  ...         10  Patchy rain possible\n",
              "2      2020-01-01                 WN  ...         10  Patchy rain possible\n",
              "3      2020-01-01                 WN  ...         10  Patchy rain possible\n",
              "4      2020-01-01                 WN  ...         10  Patchy rain possible\n",
              "...           ...                ...  ...        ...                   ...\n",
              "310806 2020-01-31                 UA  ...         10                Cloudy\n",
              "310807 2020-01-31                 UA  ...         10                Cloudy\n",
              "310808 2020-01-31                 UA  ...         10                Cloudy\n",
              "310809 2020-01-31                 AA  ...         10                Cloudy\n",
              "310810 2020-01-31                 AA  ...         10                Cloudy\n",
              "\n",
              "[310811 rows x 27 columns]"
            ]
          },
          "metadata": {
            "tags": []
          },
          "execution_count": 66
        }
      ]
    },
    {
      "cell_type": "code",
      "metadata": {
        "id": "Cv3U8zlz0J6d"
      },
      "source": [
        "datTest = dat[['op_unique_carrier','origin','dest','distance','month','value','crs_arr_hour','Numerical_Week','Weekday']].merge(mergeToTest,on=['origin','dest','Numerical_Week','crs_arr_hour'])"
      ],
      "execution_count": null,
      "outputs": []
    },
    {
      "cell_type": "code",
      "metadata": {
        "id": "wjkPCrMm9SgM"
      },
      "source": [
        "datTest['distance']  = datTest['distance'].astype(float)"
      ],
      "execution_count": null,
      "outputs": []
    },
    {
      "cell_type": "code",
      "metadata": {
        "colab": {
          "base_uri": "https://localhost:8080/"
        },
        "id": "hbrowd3F9UfD",
        "outputId": "a81a5cc4-9d5d-45ce-e824-60f53a86e878"
      },
      "source": [
        "X_test.dtypes"
      ],
      "execution_count": null,
      "outputs": [
        {
          "output_type": "execute_result",
          "data": {
            "text/plain": [
              "op_unique_carrier    category\n",
              "origin               category\n",
              "dest                 category\n",
              "distance              float64\n",
              "month                   int64\n",
              "value                category\n",
              "crs_arr_hour            int64\n",
              "Numerical_Week          int64\n",
              "Weekday                 int64\n",
              "meanOfGrouping        float64\n",
              "dtype: object"
            ]
          },
          "metadata": {
            "tags": []
          },
          "execution_count": 69
        }
      ]
    },
    {
      "cell_type": "code",
      "metadata": {
        "colab": {
          "base_uri": "https://localhost:8080/"
        },
        "id": "Cm0cjTgc974c",
        "outputId": "cfc018c3-e177-47b6-e5dc-a753144e782f"
      },
      "source": [
        "datTest.dtypes"
      ],
      "execution_count": null,
      "outputs": [
        {
          "output_type": "execute_result",
          "data": {
            "text/plain": [
              "op_unique_carrier     object\n",
              "origin                object\n",
              "dest                  object\n",
              "distance             float64\n",
              "month                  int64\n",
              "value                 object\n",
              "crs_arr_hour           int64\n",
              "Numerical_Week         int64\n",
              "Weekday                int64\n",
              "meanOfGrouping       float64\n",
              "dtype: object"
            ]
          },
          "metadata": {
            "tags": []
          },
          "execution_count": 70
        }
      ]
    },
    {
      "cell_type": "code",
      "metadata": {
        "id": "cO2QrIhU_OSj"
      },
      "source": [
        "datTest['op_unique_carrier'] = datTest.op_unique_carrier.astype('category')\n",
        "datTest['origin'] = datTest.origin.astype('category')\n",
        "datTest['dest'] = datTest.dest.astype('category')"
      ],
      "execution_count": null,
      "outputs": []
    },
    {
      "cell_type": "code",
      "metadata": {
        "id": "d_MW_62p_YY5"
      },
      "source": [
        "datTest['value'] = datTest.value.astype('category')"
      ],
      "execution_count": null,
      "outputs": []
    },
    {
      "cell_type": "code",
      "metadata": {
        "id": "duj60VE884Sj"
      },
      "source": [
        "ab= model.predict(datTest)"
      ],
      "execution_count": null,
      "outputs": []
    },
    {
      "cell_type": "code",
      "metadata": {
        "colab": {
          "base_uri": "https://localhost:8080/"
        },
        "id": "owsmkl2Y_u6K",
        "outputId": "3552c43b-738b-415d-dcaf-0b051107ce6a"
      },
      "source": [
        "310811  - len(ab)"
      ],
      "execution_count": null,
      "outputs": [
        {
          "output_type": "execute_result",
          "data": {
            "text/plain": [
              "69823"
            ]
          },
          "metadata": {
            "tags": []
          },
          "execution_count": 74
        }
      ]
    },
    {
      "cell_type": "code",
      "metadata": {
        "colab": {
          "base_uri": "https://localhost:8080/"
        },
        "id": "p3VtdGcZAHDE",
        "outputId": "73cd9549-14b9-4554-c5fc-d281fe191743"
      },
      "source": [
        "len(ab)"
      ],
      "execution_count": null,
      "outputs": [
        {
          "output_type": "execute_result",
          "data": {
            "text/plain": [
              "240988"
            ]
          },
          "metadata": {
            "tags": []
          },
          "execution_count": 75
        }
      ]
    },
    {
      "cell_type": "code",
      "metadata": {
        "colab": {
          "base_uri": "https://localhost:8080/",
          "height": 300
        },
        "id": "3Jm9S6XU_35i",
        "outputId": "c19a9101-dcd6-4adc-e01d-6d0035d4cc2a"
      },
      "source": [
        "pd.DataFrame(ab).describe()"
      ],
      "execution_count": null,
      "outputs": [
        {
          "output_type": "execute_result",
          "data": {
            "text/html": [
              "<div>\n",
              "<style scoped>\n",
              "    .dataframe tbody tr th:only-of-type {\n",
              "        vertical-align: middle;\n",
              "    }\n",
              "\n",
              "    .dataframe tbody tr th {\n",
              "        vertical-align: top;\n",
              "    }\n",
              "\n",
              "    .dataframe thead th {\n",
              "        text-align: right;\n",
              "    }\n",
              "</style>\n",
              "<table border=\"1\" class=\"dataframe\">\n",
              "  <thead>\n",
              "    <tr style=\"text-align: right;\">\n",
              "      <th></th>\n",
              "      <th>0</th>\n",
              "    </tr>\n",
              "  </thead>\n",
              "  <tbody>\n",
              "    <tr>\n",
              "      <th>count</th>\n",
              "      <td>240988.000000</td>\n",
              "    </tr>\n",
              "    <tr>\n",
              "      <th>mean</th>\n",
              "      <td>4.528771</td>\n",
              "    </tr>\n",
              "    <tr>\n",
              "      <th>std</th>\n",
              "      <td>33.886972</td>\n",
              "    </tr>\n",
              "    <tr>\n",
              "      <th>min</th>\n",
              "      <td>-216.584530</td>\n",
              "    </tr>\n",
              "    <tr>\n",
              "      <th>25%</th>\n",
              "      <td>-11.890827</td>\n",
              "    </tr>\n",
              "    <tr>\n",
              "      <th>50%</th>\n",
              "      <td>-5.753062</td>\n",
              "    </tr>\n",
              "    <tr>\n",
              "      <th>75%</th>\n",
              "      <td>9.674330</td>\n",
              "    </tr>\n",
              "    <tr>\n",
              "      <th>max</th>\n",
              "      <td>869.656100</td>\n",
              "    </tr>\n",
              "  </tbody>\n",
              "</table>\n",
              "</div>"
            ],
            "text/plain": [
              "                   0\n",
              "count  240988.000000\n",
              "mean        4.528771\n",
              "std        33.886972\n",
              "min      -216.584530\n",
              "25%       -11.890827\n",
              "50%        -5.753062\n",
              "75%         9.674330\n",
              "max       869.656100"
            ]
          },
          "metadata": {
            "tags": []
          },
          "execution_count": 76
        }
      ]
    },
    {
      "cell_type": "code",
      "metadata": {
        "colab": {
          "base_uri": "https://localhost:8080/"
        },
        "id": "EHhydxge_5sl",
        "outputId": "28479b41-e86f-40b9-a4c6-6c2c5a50d0f0"
      },
      "source": [
        "df.arr_delay.describe()"
      ],
      "execution_count": null,
      "outputs": [
        {
          "output_type": "execute_result",
          "data": {
            "text/plain": [
              "count    588482.000000\n",
              "mean          5.374638\n",
              "std          43.474841\n",
              "min       -1290.000000\n",
              "25%         -15.000000\n",
              "50%          -6.000000\n",
              "75%           9.000000\n",
              "max        1248.000000\n",
              "Name: arr_delay, dtype: float64"
            ]
          },
          "metadata": {
            "tags": []
          },
          "execution_count": 77
        }
      ]
    },
    {
      "cell_type": "code",
      "metadata": {
        "id": "ENSNOTrcAgxb"
      },
      "source": [
        ""
      ],
      "execution_count": null,
      "outputs": []
    }
  ]
}