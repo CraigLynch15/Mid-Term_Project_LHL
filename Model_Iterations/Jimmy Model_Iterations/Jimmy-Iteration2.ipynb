{
  "nbformat": 4,
  "nbformat_minor": 0,
  "metadata": {
    "colab": {
      "name": "testData.ipynb",
      "provenance": [],
      "collapsed_sections": []
    },
    "kernelspec": {
      "name": "python3",
      "display_name": "Python 3"
    },
    "language_info": {
      "name": "python"
    }
  },
  "cells": [
    {
      "cell_type": "code",
      "metadata": {
        "id": "J_mfCO6irwS9"
      },
      "source": [
        "# import pandas as pd \n",
        "# from sklearn.ensemble import RandomForestRegressor\n",
        "# from sklearn.metrics import mean_squared_error\n",
        "# import numpy as np\n",
        "# from sklearn.model_selection import train_test_split\n",
        "# X = pd.read_csv('/gdrive/MyDrive/cleaned_training_data_01.csv')\n",
        "# X['average_delay'] = X['carrier_delay'] + X['nas_delay'] + X['late_aircraft_delay']\n",
        "# X = X[['crs_arr_time','actual_elapsed_time','distance','year','month','day','weekday','average_delay']]\n",
        "# y = X['arr_delay']\n",
        "# reg = RandomForestRegressor(n_estimators=100)\n",
        "# X_train, X_test, y_train, y_test = train_test_split(X, y, test_size=0.3)\n",
        "# reg.fit(X_train,y_train)\n",
        "\n",
        "# y_pred=reg.predict(X_test)\n",
        "# rmse = np.sqrt(mean_squared_error(y_test, y_pred))\n",
        "# rmse"
      ],
      "execution_count": null,
      "outputs": []
    },
    {
      "cell_type": "code",
      "metadata": {
        "id": "q-eqnl228sKq"
      },
      "source": [
        "from sklearn.model_selection import train_test_split"
      ],
      "execution_count": null,
      "outputs": []
    },
    {
      "cell_type": "code",
      "metadata": {
        "id": "-3za-mt33Gvi",
        "colab": {
          "base_uri": "https://localhost:8080/"
        },
        "outputId": "352ff72d-7981-403c-c447-525c53f2e469"
      },
      "source": [
        "from google.colab import drive\n",
        "drive.mount('/gdrive')\n",
        "%cd /gdrive"
      ],
      "execution_count": null,
      "outputs": [
        {
          "output_type": "stream",
          "text": [
            "Drive already mounted at /gdrive; to attempt to forcibly remount, call drive.mount(\"/gdrive\", force_remount=True).\n",
            "/gdrive\n"
          ],
          "name": "stdout"
        }
      ]
    },
    {
      "cell_type": "code",
      "metadata": {
        "id": "jYqzjJ1DcdDS"
      },
      "source": [
        "import pandas as pd \n",
        "import numpy as np\n",
        "from sklearn.utils import shuffle"
      ],
      "execution_count": null,
      "outputs": []
    },
    {
      "cell_type": "code",
      "metadata": {
        "id": "noDBT0PeHatl"
      },
      "source": [
        "df = pd.read_csv('/gdrive/MyDrive/cleaned_training_data_01.csv')"
      ],
      "execution_count": null,
      "outputs": []
    },
    {
      "cell_type": "code",
      "metadata": {
        "id": "AivV4zvcVUBN"
      },
      "source": [
        "weatherdf = pd.read_csv('/gdrive/MyDrive/weather.csv')"
      ],
      "execution_count": null,
      "outputs": []
    },
    {
      "cell_type": "code",
      "metadata": {
        "id": "lV0xYaoyV6tC"
      },
      "source": [
        "weatherdf = weatherdf[['date','airport_code','visibility','value']]\n"
      ],
      "execution_count": null,
      "outputs": []
    },
    {
      "cell_type": "code",
      "metadata": {
        "id": "wsqJBXmmWsLr"
      },
      "source": [
        "weatherdf = weatherdf.rename({'date':'fl_date','airport_code':'origin'},axis=1)\n"
      ],
      "execution_count": null,
      "outputs": []
    },
    {
      "cell_type": "code",
      "metadata": {
        "id": "oVXb_QasWjU3"
      },
      "source": [
        "df = df.merge(weatherdf, on=['fl_date','origin'])\n"
      ],
      "execution_count": null,
      "outputs": []
    },
    {
      "cell_type": "code",
      "metadata": {
        "id": "DMyGb1Gi3dYA"
      },
      "source": [
        "import sklearn.preprocessing\n",
        "from sklearn.linear_model import LogisticRegression\n",
        "import matplotlib.pyplot as plt"
      ],
      "execution_count": null,
      "outputs": []
    },
    {
      "cell_type": "code",
      "metadata": {
        "id": "RyADWYQAYOtw"
      },
      "source": [
        "df['op_unique_carrier'] = df.op_unique_carrier.astype('category')\n",
        "df['origin'] = df.origin.astype('category')\n",
        "df['dest'] = df.dest.astype('category')\n",
        "df['visibility'] = df.visibility.astype('category')"
      ],
      "execution_count": null,
      "outputs": []
    },
    {
      "cell_type": "code",
      "metadata": {
        "id": "eMLLOP58OnTu"
      },
      "source": [
        "def crs_dep(row):\n",
        "  if row['crs_dep_time'] < 0:\n",
        "    return 2400 + row['crs_dep_time']\n",
        "  else:\n",
        "    return row['crs_dep_time']"
      ],
      "execution_count": null,
      "outputs": []
    },
    {
      "cell_type": "code",
      "metadata": {
        "id": "SrWpm1-dr1PC"
      },
      "source": [
        "def value(row):\n",
        "  if 'snow' in row['value']:\n",
        "    return 'Snow'\n",
        "  elif 'rain' in row['value']:\n",
        "    return 'Rain'\n",
        "  elif 'showers' in row['value']:\n",
        "    return 'Rain'\n",
        "  elif 'possible' in row['value']:\n",
        "    return 'Rain'\n",
        "  elif 'drizzle' in row['value']:\n",
        "    return 'Rain'\n",
        "  elif 'sleet' in row['value']:\n",
        "    return 'Rain/Snow'\n",
        "  elif 'blizzard' in row['value']:\n",
        "    return 'Snow'\n",
        "  else:\n",
        "    return row['value']"
      ],
      "execution_count": null,
      "outputs": []
    },
    {
      "cell_type": "code",
      "metadata": {
        "id": "qpXvfPOI74Ec"
      },
      "source": [
        "X,y = df.drop('arr_delay',axis=1),df['arr_delay']"
      ],
      "execution_count": null,
      "outputs": []
    },
    {
      "cell_type": "code",
      "metadata": {
        "id": "vRunw2ip8n08"
      },
      "source": [
        "X_train, X_test, y_train, y_test = train_test_split(X, y, test_size=0.3, random_state=12)"
      ],
      "execution_count": null,
      "outputs": []
    },
    {
      "cell_type": "code",
      "metadata": {
        "id": "dFQBUBJUhpGP",
        "colab": {
          "base_uri": "https://localhost:8080/"
        },
        "outputId": "f5ef136c-dacf-487c-e205-634b9ea5d530"
      },
      "source": [
        "X_train['crs_dep_time'] = X_train['crs_arr_time'] - X_train['crs_elapsed_time']\n",
        "X_test['crs_dep_time'] = X_test['crs_arr_time'] - X_test['crs_elapsed_time']"
      ],
      "execution_count": null,
      "outputs": [
        {
          "output_type": "stream",
          "text": [
            "/usr/local/lib/python3.7/dist-packages/ipykernel_launcher.py:1: SettingWithCopyWarning: \n",
            "A value is trying to be set on a copy of a slice from a DataFrame.\n",
            "Try using .loc[row_indexer,col_indexer] = value instead\n",
            "\n",
            "See the caveats in the documentation: https://pandas.pydata.org/pandas-docs/stable/user_guide/indexing.html#returning-a-view-versus-a-copy\n",
            "  \"\"\"Entry point for launching an IPython kernel.\n",
            "/usr/local/lib/python3.7/dist-packages/ipykernel_launcher.py:2: SettingWithCopyWarning: \n",
            "A value is trying to be set on a copy of a slice from a DataFrame.\n",
            "Try using .loc[row_indexer,col_indexer] = value instead\n",
            "\n",
            "See the caveats in the documentation: https://pandas.pydata.org/pandas-docs/stable/user_guide/indexing.html#returning-a-view-versus-a-copy\n",
            "  \n"
          ],
          "name": "stderr"
        }
      ]
    },
    {
      "cell_type": "code",
      "metadata": {
        "id": "yCrDIVkYov5s",
        "colab": {
          "base_uri": "https://localhost:8080/"
        },
        "outputId": "c17410b1-c160-4cca-a16e-ce926eed7ea8"
      },
      "source": [
        "X_train['crs_dep_time'] = X_train.apply(crs_dep,axis=1)\n",
        "X_test['crs_dep_time'] = X_test.apply(crs_dep,axis=1)"
      ],
      "execution_count": null,
      "outputs": [
        {
          "output_type": "stream",
          "text": [
            "/usr/local/lib/python3.7/dist-packages/ipykernel_launcher.py:1: SettingWithCopyWarning: \n",
            "A value is trying to be set on a copy of a slice from a DataFrame.\n",
            "Try using .loc[row_indexer,col_indexer] = value instead\n",
            "\n",
            "See the caveats in the documentation: https://pandas.pydata.org/pandas-docs/stable/user_guide/indexing.html#returning-a-view-versus-a-copy\n",
            "  \"\"\"Entry point for launching an IPython kernel.\n",
            "/usr/local/lib/python3.7/dist-packages/ipykernel_launcher.py:2: SettingWithCopyWarning: \n",
            "A value is trying to be set on a copy of a slice from a DataFrame.\n",
            "Try using .loc[row_indexer,col_indexer] = value instead\n",
            "\n",
            "See the caveats in the documentation: https://pandas.pydata.org/pandas-docs/stable/user_guide/indexing.html#returning-a-view-versus-a-copy\n",
            "  \n"
          ],
          "name": "stderr"
        }
      ]
    },
    {
      "cell_type": "code",
      "metadata": {
        "id": "SarN94dotR9W",
        "colab": {
          "base_uri": "https://localhost:8080/"
        },
        "outputId": "7bcb1d72-e10b-4d2b-f40f-5cee4fd40f9c"
      },
      "source": [
        "X_train['value'] = X_train.apply(value,axis=1)\n",
        "X_train['value'] = X_train.value.astype('category')\n",
        "X_test['value'] = X_test.apply(value,axis=1)\n",
        "X_test['value'] = X_test.value.astype('category')\n"
      ],
      "execution_count": null,
      "outputs": [
        {
          "output_type": "stream",
          "text": [
            "/usr/local/lib/python3.7/dist-packages/ipykernel_launcher.py:1: SettingWithCopyWarning: \n",
            "A value is trying to be set on a copy of a slice from a DataFrame.\n",
            "Try using .loc[row_indexer,col_indexer] = value instead\n",
            "\n",
            "See the caveats in the documentation: https://pandas.pydata.org/pandas-docs/stable/user_guide/indexing.html#returning-a-view-versus-a-copy\n",
            "  \"\"\"Entry point for launching an IPython kernel.\n",
            "/usr/local/lib/python3.7/dist-packages/ipykernel_launcher.py:2: SettingWithCopyWarning: \n",
            "A value is trying to be set on a copy of a slice from a DataFrame.\n",
            "Try using .loc[row_indexer,col_indexer] = value instead\n",
            "\n",
            "See the caveats in the documentation: https://pandas.pydata.org/pandas-docs/stable/user_guide/indexing.html#returning-a-view-versus-a-copy\n",
            "  \n",
            "/usr/local/lib/python3.7/dist-packages/ipykernel_launcher.py:3: SettingWithCopyWarning: \n",
            "A value is trying to be set on a copy of a slice from a DataFrame.\n",
            "Try using .loc[row_indexer,col_indexer] = value instead\n",
            "\n",
            "See the caveats in the documentation: https://pandas.pydata.org/pandas-docs/stable/user_guide/indexing.html#returning-a-view-versus-a-copy\n",
            "  This is separate from the ipykernel package so we can avoid doing imports until\n",
            "/usr/local/lib/python3.7/dist-packages/ipykernel_launcher.py:4: SettingWithCopyWarning: \n",
            "A value is trying to be set on a copy of a slice from a DataFrame.\n",
            "Try using .loc[row_indexer,col_indexer] = value instead\n",
            "\n",
            "See the caveats in the documentation: https://pandas.pydata.org/pandas-docs/stable/user_guide/indexing.html#returning-a-view-versus-a-copy\n",
            "  after removing the cwd from sys.path.\n"
          ],
          "name": "stderr"
        }
      ]
    },
    {
      "cell_type": "code",
      "metadata": {
        "id": "0LPuP5s_M7qH",
        "colab": {
          "base_uri": "https://localhost:8080/"
        },
        "outputId": "8e70d06f-4c34-4c35-fa87-ca86cfa3186e"
      },
      "source": [
        "X_train['crs_dep_time'] = X_train['crs_dep_time'].astype(float).astype(int).apply(lambda x: '{0:0>4}'.format(x)).astype(str)\n",
        "X_test['crs_dep_time'] = X_test['crs_dep_time'].astype(float).astype(int).apply(lambda x: '{0:0>4}'.format(x)).astype(str)\n"
      ],
      "execution_count": null,
      "outputs": [
        {
          "output_type": "stream",
          "text": [
            "/usr/local/lib/python3.7/dist-packages/ipykernel_launcher.py:1: SettingWithCopyWarning: \n",
            "A value is trying to be set on a copy of a slice from a DataFrame.\n",
            "Try using .loc[row_indexer,col_indexer] = value instead\n",
            "\n",
            "See the caveats in the documentation: https://pandas.pydata.org/pandas-docs/stable/user_guide/indexing.html#returning-a-view-versus-a-copy\n",
            "  \"\"\"Entry point for launching an IPython kernel.\n",
            "/usr/local/lib/python3.7/dist-packages/ipykernel_launcher.py:2: SettingWithCopyWarning: \n",
            "A value is trying to be set on a copy of a slice from a DataFrame.\n",
            "Try using .loc[row_indexer,col_indexer] = value instead\n",
            "\n",
            "See the caveats in the documentation: https://pandas.pydata.org/pandas-docs/stable/user_guide/indexing.html#returning-a-view-versus-a-copy\n",
            "  \n"
          ],
          "name": "stderr"
        }
      ]
    },
    {
      "cell_type": "code",
      "metadata": {
        "id": "Hs0Ds4f82U2R",
        "colab": {
          "base_uri": "https://localhost:8080/"
        },
        "outputId": "6a3cc009-d46d-4c75-ee0b-d62bae2d9b96"
      },
      "source": [
        "X_train['crs_arr_hour'] = X_train['crs_arr_time'].astype(str).str[:2].astype(int)\n",
        "X_test['crs_arr_hour'] = X_test['crs_arr_time'].astype(str).str[:2].astype(int)"
      ],
      "execution_count": null,
      "outputs": [
        {
          "output_type": "stream",
          "text": [
            "/usr/local/lib/python3.7/dist-packages/ipykernel_launcher.py:1: SettingWithCopyWarning: \n",
            "A value is trying to be set on a copy of a slice from a DataFrame.\n",
            "Try using .loc[row_indexer,col_indexer] = value instead\n",
            "\n",
            "See the caveats in the documentation: https://pandas.pydata.org/pandas-docs/stable/user_guide/indexing.html#returning-a-view-versus-a-copy\n",
            "  \"\"\"Entry point for launching an IPython kernel.\n",
            "/usr/local/lib/python3.7/dist-packages/ipykernel_launcher.py:2: SettingWithCopyWarning: \n",
            "A value is trying to be set on a copy of a slice from a DataFrame.\n",
            "Try using .loc[row_indexer,col_indexer] = value instead\n",
            "\n",
            "See the caveats in the documentation: https://pandas.pydata.org/pandas-docs/stable/user_guide/indexing.html#returning-a-view-versus-a-copy\n",
            "  \n"
          ],
          "name": "stderr"
        }
      ]
    },
    {
      "cell_type": "code",
      "metadata": {
        "id": "T_E_Cnv8ANah",
        "colab": {
          "base_uri": "https://localhost:8080/"
        },
        "outputId": "b6c1a8ec-7131-44de-fae8-4ec06dcdf83b"
      },
      "source": [
        "X_train['Numerical_Week']= (pd.to_datetime(X_train['fl_date']).dt.weekofyear)\n",
        "X_train['Season']= (pd.to_datetime(X_train['fl_date']).dt.month - 1) // 3\n",
        "X_test['Numerical_Week']= (pd.to_datetime(X_test['fl_date']).dt.weekofyear)\n",
        "X_test['Season']= (pd.to_datetime(X_test['fl_date']).dt.month - 1) // 3"
      ],
      "execution_count": null,
      "outputs": [
        {
          "output_type": "stream",
          "text": [
            "/usr/local/lib/python3.7/dist-packages/ipykernel_launcher.py:1: FutureWarning: Series.dt.weekofyear and Series.dt.week have been deprecated.  Please use Series.dt.isocalendar().week instead.\n",
            "  \"\"\"Entry point for launching an IPython kernel.\n",
            "/usr/local/lib/python3.7/dist-packages/ipykernel_launcher.py:1: SettingWithCopyWarning: \n",
            "A value is trying to be set on a copy of a slice from a DataFrame.\n",
            "Try using .loc[row_indexer,col_indexer] = value instead\n",
            "\n",
            "See the caveats in the documentation: https://pandas.pydata.org/pandas-docs/stable/user_guide/indexing.html#returning-a-view-versus-a-copy\n",
            "  \"\"\"Entry point for launching an IPython kernel.\n",
            "/usr/local/lib/python3.7/dist-packages/ipykernel_launcher.py:2: SettingWithCopyWarning: \n",
            "A value is trying to be set on a copy of a slice from a DataFrame.\n",
            "Try using .loc[row_indexer,col_indexer] = value instead\n",
            "\n",
            "See the caveats in the documentation: https://pandas.pydata.org/pandas-docs/stable/user_guide/indexing.html#returning-a-view-versus-a-copy\n",
            "  \n",
            "/usr/local/lib/python3.7/dist-packages/ipykernel_launcher.py:3: FutureWarning: Series.dt.weekofyear and Series.dt.week have been deprecated.  Please use Series.dt.isocalendar().week instead.\n",
            "  This is separate from the ipykernel package so we can avoid doing imports until\n",
            "/usr/local/lib/python3.7/dist-packages/ipykernel_launcher.py:3: SettingWithCopyWarning: \n",
            "A value is trying to be set on a copy of a slice from a DataFrame.\n",
            "Try using .loc[row_indexer,col_indexer] = value instead\n",
            "\n",
            "See the caveats in the documentation: https://pandas.pydata.org/pandas-docs/stable/user_guide/indexing.html#returning-a-view-versus-a-copy\n",
            "  This is separate from the ipykernel package so we can avoid doing imports until\n",
            "/usr/local/lib/python3.7/dist-packages/ipykernel_launcher.py:4: SettingWithCopyWarning: \n",
            "A value is trying to be set on a copy of a slice from a DataFrame.\n",
            "Try using .loc[row_indexer,col_indexer] = value instead\n",
            "\n",
            "See the caveats in the documentation: https://pandas.pydata.org/pandas-docs/stable/user_guide/indexing.html#returning-a-view-versus-a-copy\n",
            "  after removing the cwd from sys.path.\n"
          ],
          "name": "stderr"
        }
      ]
    },
    {
      "cell_type": "code",
      "metadata": {
        "id": "x9sON7su2e1_",
        "colab": {
          "base_uri": "https://localhost:8080/"
        },
        "outputId": "87ba067e-1f1c-4133-c0dc-c2beeae5bad2"
      },
      "source": [
        "X_train['Weekday'] = pd.to_datetime(X_train['fl_date']).dt.dayofweek\n",
        "X_test['Weekday'] = pd.to_datetime(X_test['fl_date']).dt.dayofweek"
      ],
      "execution_count": null,
      "outputs": [
        {
          "output_type": "stream",
          "text": [
            "/usr/local/lib/python3.7/dist-packages/ipykernel_launcher.py:1: SettingWithCopyWarning: \n",
            "A value is trying to be set on a copy of a slice from a DataFrame.\n",
            "Try using .loc[row_indexer,col_indexer] = value instead\n",
            "\n",
            "See the caveats in the documentation: https://pandas.pydata.org/pandas-docs/stable/user_guide/indexing.html#returning-a-view-versus-a-copy\n",
            "  \"\"\"Entry point for launching an IPython kernel.\n",
            "/usr/local/lib/python3.7/dist-packages/ipykernel_launcher.py:2: SettingWithCopyWarning: \n",
            "A value is trying to be set on a copy of a slice from a DataFrame.\n",
            "Try using .loc[row_indexer,col_indexer] = value instead\n",
            "\n",
            "See the caveats in the documentation: https://pandas.pydata.org/pandas-docs/stable/user_guide/indexing.html#returning-a-view-versus-a-copy\n",
            "  \n"
          ],
          "name": "stderr"
        }
      ]
    },
    {
      "cell_type": "code",
      "metadata": {
        "id": "QR-k91aAD8V0",
        "colab": {
          "base_uri": "https://localhost:8080/"
        },
        "outputId": "d4ca3835-48dd-47f8-d58f-c8c979a6ab34"
      },
      "source": [
        "X_train['sumDelays'] = X_train['carrier_delay']+\tX_train['weather_delay'] + \tX_train['nas_delay']+ X_train['security_delay']+ \tX_train['late_aircraft_delay']\n",
        "X_train['meanOfGrouping'] = X_train.groupby(['dest','Numerical_Week','Weekday','crs_arr_hour'])['sumDelays'].transform('mean')\n",
        "X_train= X_train.drop(['sumDelays'], axis=1)\n",
        "\n",
        "X_test['sumDelays'] = X_test['carrier_delay']+\tX_test['weather_delay'] + \tX_test['nas_delay']+ X_test['security_delay']+ \tX_test['late_aircraft_delay']\n",
        "X_test['meanOfGrouping'] = X_test.groupby(['dest','Numerical_Week','Weekday','crs_arr_hour'])['sumDelays'].transform('mean')\n",
        "X_test= X_test.drop(['sumDelays'], axis=1)"
      ],
      "execution_count": null,
      "outputs": [
        {
          "output_type": "stream",
          "text": [
            "/usr/local/lib/python3.7/dist-packages/ipykernel_launcher.py:1: SettingWithCopyWarning: \n",
            "A value is trying to be set on a copy of a slice from a DataFrame.\n",
            "Try using .loc[row_indexer,col_indexer] = value instead\n",
            "\n",
            "See the caveats in the documentation: https://pandas.pydata.org/pandas-docs/stable/user_guide/indexing.html#returning-a-view-versus-a-copy\n",
            "  \"\"\"Entry point for launching an IPython kernel.\n",
            "/usr/local/lib/python3.7/dist-packages/ipykernel_launcher.py:2: SettingWithCopyWarning: \n",
            "A value is trying to be set on a copy of a slice from a DataFrame.\n",
            "Try using .loc[row_indexer,col_indexer] = value instead\n",
            "\n",
            "See the caveats in the documentation: https://pandas.pydata.org/pandas-docs/stable/user_guide/indexing.html#returning-a-view-versus-a-copy\n",
            "  \n",
            "/usr/local/lib/python3.7/dist-packages/ipykernel_launcher.py:5: SettingWithCopyWarning: \n",
            "A value is trying to be set on a copy of a slice from a DataFrame.\n",
            "Try using .loc[row_indexer,col_indexer] = value instead\n",
            "\n",
            "See the caveats in the documentation: https://pandas.pydata.org/pandas-docs/stable/user_guide/indexing.html#returning-a-view-versus-a-copy\n",
            "  \"\"\"\n",
            "/usr/local/lib/python3.7/dist-packages/ipykernel_launcher.py:6: SettingWithCopyWarning: \n",
            "A value is trying to be set on a copy of a slice from a DataFrame.\n",
            "Try using .loc[row_indexer,col_indexer] = value instead\n",
            "\n",
            "See the caveats in the documentation: https://pandas.pydata.org/pandas-docs/stable/user_guide/indexing.html#returning-a-view-versus-a-copy\n",
            "  \n"
          ],
          "name": "stderr"
        }
      ]
    },
    {
      "cell_type": "code",
      "metadata": {
        "id": "9510dRJZ6AIS"
      },
      "source": [
        "X_train= X_train.drop(['fl_date','mkt_unique_carrier','carrier_delay','dep_delay','dep_time','Season',\t'actual_elapsed_time','weather_delay', \t'nas_delay', \t'security_delay', 'late_aircraft_delay'],axis=1)\n",
        "X_train = X_train.drop(['year','crs_arr_time'],axis=1)\n",
        "X_train = X_train.drop(['weekday','visibility','crs_dep_time','arr_time'],axis=1)\n",
        "\n",
        "X_test= X_test.drop(['fl_date','mkt_unique_carrier','carrier_delay','dep_delay','dep_time','Season',\t'actual_elapsed_time','weather_delay', \t'nas_delay', \t'security_delay', 'late_aircraft_delay'],axis=1)\n",
        "X_test = X_test.drop(['year','crs_arr_time'],axis=1)\n",
        "X_test = X_test.drop(['weekday','visibility','crs_dep_time','arr_time'],axis=1)"
      ],
      "execution_count": null,
      "outputs": []
    },
    {
      "cell_type": "code",
      "metadata": {
        "colab": {
          "base_uri": "https://localhost:8080/",
          "height": 513
        },
        "id": "MTrIokD1bddf",
        "outputId": "1dc635c1-17c9-4fe4-8c90-6ec671b9b7ff"
      },
      "source": [
        "X_test"
      ],
      "execution_count": null,
      "outputs": [
        {
          "output_type": "execute_result",
          "data": {
            "text/html": [
              "<div>\n",
              "<style scoped>\n",
              "    .dataframe tbody tr th:only-of-type {\n",
              "        vertical-align: middle;\n",
              "    }\n",
              "\n",
              "    .dataframe tbody tr th {\n",
              "        vertical-align: top;\n",
              "    }\n",
              "\n",
              "    .dataframe thead th {\n",
              "        text-align: right;\n",
              "    }\n",
              "</style>\n",
              "<table border=\"1\" class=\"dataframe\">\n",
              "  <thead>\n",
              "    <tr style=\"text-align: right;\">\n",
              "      <th></th>\n",
              "      <th>op_unique_carrier</th>\n",
              "      <th>origin</th>\n",
              "      <th>dest</th>\n",
              "      <th>crs_elapsed_time</th>\n",
              "      <th>distance</th>\n",
              "      <th>month</th>\n",
              "      <th>day</th>\n",
              "      <th>value</th>\n",
              "      <th>crs_arr_hour</th>\n",
              "      <th>Numerical_Week</th>\n",
              "      <th>Weekday</th>\n",
              "      <th>meanOfGrouping</th>\n",
              "    </tr>\n",
              "  </thead>\n",
              "  <tbody>\n",
              "    <tr>\n",
              "      <th>532611</th>\n",
              "      <td>AA</td>\n",
              "      <td>LAX</td>\n",
              "      <td>ORD</td>\n",
              "      <td>252.0</td>\n",
              "      <td>1744.0</td>\n",
              "      <td>5</td>\n",
              "      <td>15</td>\n",
              "      <td>Cloudy</td>\n",
              "      <td>71</td>\n",
              "      <td>20</td>\n",
              "      <td>2</td>\n",
              "      <td>0.0</td>\n",
              "    </tr>\n",
              "    <tr>\n",
              "      <th>457273</th>\n",
              "      <td>UA</td>\n",
              "      <td>EWR</td>\n",
              "      <td>JAX</td>\n",
              "      <td>163.0</td>\n",
              "      <td>820.0</td>\n",
              "      <td>2</td>\n",
              "      <td>21</td>\n",
              "      <td>Partly cloudy</td>\n",
              "      <td>16</td>\n",
              "      <td>8</td>\n",
              "      <td>2</td>\n",
              "      <td>0.0</td>\n",
              "    </tr>\n",
              "    <tr>\n",
              "      <th>101750</th>\n",
              "      <td>AA</td>\n",
              "      <td>ORD</td>\n",
              "      <td>SLC</td>\n",
              "      <td>204.0</td>\n",
              "      <td>1250.0</td>\n",
              "      <td>6</td>\n",
              "      <td>22</td>\n",
              "      <td>Partly cloudy</td>\n",
              "      <td>20</td>\n",
              "      <td>25</td>\n",
              "      <td>4</td>\n",
              "      <td>0.0</td>\n",
              "    </tr>\n",
              "    <tr>\n",
              "      <th>365335</th>\n",
              "      <td>UA</td>\n",
              "      <td>SEA</td>\n",
              "      <td>IAH</td>\n",
              "      <td>259.0</td>\n",
              "      <td>1874.0</td>\n",
              "      <td>3</td>\n",
              "      <td>20</td>\n",
              "      <td>Overcast</td>\n",
              "      <td>20</td>\n",
              "      <td>12</td>\n",
              "      <td>1</td>\n",
              "      <td>0.0</td>\n",
              "    </tr>\n",
              "    <tr>\n",
              "      <th>278537</th>\n",
              "      <td>B6</td>\n",
              "      <td>EWR</td>\n",
              "      <td>BOS</td>\n",
              "      <td>66.0</td>\n",
              "      <td>200.0</td>\n",
              "      <td>10</td>\n",
              "      <td>25</td>\n",
              "      <td>Rain</td>\n",
              "      <td>22</td>\n",
              "      <td>43</td>\n",
              "      <td>4</td>\n",
              "      <td>0.0</td>\n",
              "    </tr>\n",
              "    <tr>\n",
              "      <th>...</th>\n",
              "      <td>...</td>\n",
              "      <td>...</td>\n",
              "      <td>...</td>\n",
              "      <td>...</td>\n",
              "      <td>...</td>\n",
              "      <td>...</td>\n",
              "      <td>...</td>\n",
              "      <td>...</td>\n",
              "      <td>...</td>\n",
              "      <td>...</td>\n",
              "      <td>...</td>\n",
              "      <td>...</td>\n",
              "    </tr>\n",
              "    <tr>\n",
              "      <th>342860</th>\n",
              "      <td>WN</td>\n",
              "      <td>BOS</td>\n",
              "      <td>BWI</td>\n",
              "      <td>90.0</td>\n",
              "      <td>369.0</td>\n",
              "      <td>4</td>\n",
              "      <td>30</td>\n",
              "      <td>Rain</td>\n",
              "      <td>13</td>\n",
              "      <td>18</td>\n",
              "      <td>0</td>\n",
              "      <td>0.0</td>\n",
              "    </tr>\n",
              "    <tr>\n",
              "      <th>550450</th>\n",
              "      <td>WN</td>\n",
              "      <td>LAS</td>\n",
              "      <td>DAL</td>\n",
              "      <td>165.0</td>\n",
              "      <td>1067.0</td>\n",
              "      <td>9</td>\n",
              "      <td>5</td>\n",
              "      <td>Partly cloudy</td>\n",
              "      <td>12</td>\n",
              "      <td>36</td>\n",
              "      <td>2</td>\n",
              "      <td>0.0</td>\n",
              "    </tr>\n",
              "    <tr>\n",
              "      <th>345624</th>\n",
              "      <td>ZW</td>\n",
              "      <td>ORD</td>\n",
              "      <td>CAK</td>\n",
              "      <td>89.0</td>\n",
              "      <td>343.0</td>\n",
              "      <td>6</td>\n",
              "      <td>8</td>\n",
              "      <td>Sunny</td>\n",
              "      <td>16</td>\n",
              "      <td>23</td>\n",
              "      <td>4</td>\n",
              "      <td>162.0</td>\n",
              "    </tr>\n",
              "    <tr>\n",
              "      <th>245307</th>\n",
              "      <td>OH</td>\n",
              "      <td>CLT</td>\n",
              "      <td>OAJ</td>\n",
              "      <td>69.0</td>\n",
              "      <td>191.0</td>\n",
              "      <td>7</td>\n",
              "      <td>30</td>\n",
              "      <td>Rain</td>\n",
              "      <td>17</td>\n",
              "      <td>31</td>\n",
              "      <td>1</td>\n",
              "      <td>25.0</td>\n",
              "    </tr>\n",
              "    <tr>\n",
              "      <th>536178</th>\n",
              "      <td>OO</td>\n",
              "      <td>DTW</td>\n",
              "      <td>ITH</td>\n",
              "      <td>79.0</td>\n",
              "      <td>353.0</td>\n",
              "      <td>9</td>\n",
              "      <td>27</td>\n",
              "      <td>Partly cloudy</td>\n",
              "      <td>12</td>\n",
              "      <td>39</td>\n",
              "      <td>4</td>\n",
              "      <td>0.0</td>\n",
              "    </tr>\n",
              "  </tbody>\n",
              "</table>\n",
              "<p>176229 rows × 12 columns</p>\n",
              "</div>"
            ],
            "text/plain": [
              "       op_unique_carrier origin dest  ...  Numerical_Week  Weekday  meanOfGrouping\n",
              "532611                AA    LAX  ORD  ...              20        2             0.0\n",
              "457273                UA    EWR  JAX  ...               8        2             0.0\n",
              "101750                AA    ORD  SLC  ...              25        4             0.0\n",
              "365335                UA    SEA  IAH  ...              12        1             0.0\n",
              "278537                B6    EWR  BOS  ...              43        4             0.0\n",
              "...                  ...    ...  ...  ...             ...      ...             ...\n",
              "342860                WN    BOS  BWI  ...              18        0             0.0\n",
              "550450                WN    LAS  DAL  ...              36        2             0.0\n",
              "345624                ZW    ORD  CAK  ...              23        4           162.0\n",
              "245307                OH    CLT  OAJ  ...              31        1            25.0\n",
              "536178                OO    DTW  ITH  ...              39        4             0.0\n",
              "\n",
              "[176229 rows x 12 columns]"
            ]
          },
          "metadata": {
            "tags": []
          },
          "execution_count": 25
        }
      ]
    },
    {
      "cell_type": "code",
      "metadata": {
        "id": "9rOCMYRapAiW"
      },
      "source": [
        "# X = X.drop(['crs_dep_time','origin','dest','op_unique_carrier','day','year','dep_time','arr_time','sumDelays','crs_arr_time','weekday'],axis=1)"
      ],
      "execution_count": null,
      "outputs": []
    },
    {
      "cell_type": "code",
      "metadata": {
        "id": "hxG5lcYzU2Ce",
        "colab": {
          "base_uri": "https://localhost:8080/"
        },
        "outputId": "e0da58b0-001b-421d-9ac1-82425745cb6a"
      },
      "source": [
        "X_train.columns"
      ],
      "execution_count": null,
      "outputs": [
        {
          "output_type": "execute_result",
          "data": {
            "text/plain": [
              "Index(['op_unique_carrier', 'origin', 'dest', 'crs_elapsed_time', 'distance',\n",
              "       'month', 'day', 'value', 'crs_arr_hour', 'Numerical_Week', 'Weekday',\n",
              "       'meanOfGrouping'],\n",
              "      dtype='object')"
            ]
          },
          "metadata": {
            "tags": []
          },
          "execution_count": 27
        }
      ]
    },
    {
      "cell_type": "code",
      "metadata": {
        "id": "TzHrRSh5Cv-G"
      },
      "source": [
        "# X = pd.get_dummies(X)"
      ],
      "execution_count": null,
      "outputs": []
    },
    {
      "cell_type": "code",
      "metadata": {
        "id": "Fi0EvR1SzpiE"
      },
      "source": [
        "from sklearn.decomposition import PCA\n",
        "from sklearn.preprocessing import StandardScaler"
      ],
      "execution_count": null,
      "outputs": []
    },
    {
      "cell_type": "code",
      "metadata": {
        "id": "j3e9QGFf2hfJ"
      },
      "source": [
        "# pca = PCA()\n",
        "# scaler = StandardScaler()\n",
        "# X=scaler.fit_transform(X)\n",
        "# pca.fit_transform(X)"
      ],
      "execution_count": null,
      "outputs": []
    },
    {
      "cell_type": "code",
      "metadata": {
        "id": "ilet8gcw2Ei9"
      },
      "source": [
        "# features = range(pca.n_components_)\n",
        "# plt.bar(features, pca.explained_variance_ratio_)\n",
        "# plt.xticks(features)\n",
        "# plt.xlabel(\"PCA features\")\n",
        "# plt.ylabel(\"variance\")\n",
        "# plt.show()"
      ],
      "execution_count": null,
      "outputs": []
    },
    {
      "cell_type": "code",
      "metadata": {
        "id": "oZhu56Do3OVI"
      },
      "source": [
        "# pca = PCA(n_components=7)\n",
        "# pca.fit(X)\n",
        "# X_train = pca.transform(X_train)\n",
        "# X_test = pca.transform(X_test)"
      ],
      "execution_count": null,
      "outputs": []
    },
    {
      "cell_type": "code",
      "metadata": {
        "id": "1op7hwgJ807E"
      },
      "source": [
        "from sklearn.tree import DecisionTreeRegressor\n",
        "from sklearn.ensemble import RandomForestRegressor,GradientBoostingRegressor\n",
        "from sklearn.metrics import r2_score \n",
        "from sklearn.model_selection import GridSearchCV\n",
        "import xgboost as xg"
      ],
      "execution_count": null,
      "outputs": []
    },
    {
      "cell_type": "code",
      "metadata": {
        "id": "oKR_I6LJZg9Y"
      },
      "source": [
        "from sklearn.model_selection import GridSearchCV"
      ],
      "execution_count": null,
      "outputs": []
    },
    {
      "cell_type": "code",
      "metadata": {
        "id": "WxyEBYXU9i9j"
      },
      "source": [
        "from sklearn.metrics import mean_squared_error"
      ],
      "execution_count": null,
      "outputs": []
    },
    {
      "cell_type": "code",
      "metadata": {
        "id": "ocAVuvoO7NyZ"
      },
      "source": [
        "# params={\n",
        "#     'n_estimators':[100,150,200,250,300,350,400],\n",
        "#     'max_depth':[1,2,4,8,16,32,64],\n",
        "#     'min_samples_leaf':[1, 2, 4,8]\n",
        "# }"
      ],
      "execution_count": null,
      "outputs": []
    },
    {
      "cell_type": "code",
      "metadata": {
        "id": "LYIX_4gsI79X"
      },
      "source": [
        "# model = RandomForestRegressor()\n"
      ],
      "execution_count": null,
      "outputs": []
    },
    {
      "cell_type": "code",
      "metadata": {
        "id": "iwVB6xnY8M78"
      },
      "source": [
        "# grid_search = GridSearchCV(estimator = model, param_grid = params, \n",
        "#                           cv = 3, n_jobs = 1, verbose = 51)"
      ],
      "execution_count": null,
      "outputs": []
    },
    {
      "cell_type": "code",
      "metadata": {
        "id": "Bds27US48hLl"
      },
      "source": [
        "# grid_search.fit(X_train,y_train)"
      ],
      "execution_count": null,
      "outputs": []
    },
    {
      "cell_type": "code",
      "metadata": {
        "id": "OjqlSDz-8SdJ"
      },
      "source": [
        "# model.fit(X_train,y_train)\n",
        "# y_pred = model.predict(X_test)\n",
        "# model.score(X_test,y_test)"
      ],
      "execution_count": null,
      "outputs": []
    },
    {
      "cell_type": "code",
      "metadata": {
        "id": "Z0eUHZSMy5V3"
      },
      "source": [
        "#print('mean_squared_error:', mean_squared_error(y_test,y_pred))\n",
        "#print('RSME:',np.sqrt(mean_squared_error(y_test, y_pred)))\n",
        "#print('r2 score:', r2_score(y_test,y_pred))\n",
        "#print('Adjusted R2 value:', 1 - (1-model.score(X_test,y_test))*(len(y_test)-1)/(len(y_test)-X_test.shape[1]-1))"
      ],
      "execution_count": null,
      "outputs": []
    },
    {
      "cell_type": "code",
      "metadata": {
        "id": "QuNK4OTZ9Uy4"
      },
      "source": [
        "#model = GradientBoostingRegressor(n_estimators=150,learning_rate=1.5,random_state=1)\n",
        "#model.fit(X_train,y_train)\n",
        "#y_pred = model.predict(X_test)"
      ],
      "execution_count": null,
      "outputs": []
    },
    {
      "cell_type": "code",
      "metadata": {
        "id": "59342UMXzAFz"
      },
      "source": [
        "# print('mean_squared_error:', mean_squared_error(y_test,y_pred))\n",
        "# print('RSME:',np.sqrt(mean_squared_error(y_test, y_pred)))\n",
        "# print('r2 score:', r2_score(y_test,y_pred))\n",
        "# print('Adjusted R2 value:', 1 - (1-model.score(X_test,y_test))*(len(y_test)-1)/(len(y_test)-X_test.shape[1]-1))"
      ],
      "execution_count": null,
      "outputs": []
    },
    {
      "cell_type": "code",
      "metadata": {
        "id": "ISa2NORI7JzS"
      },
      "source": [
        "import xgboost as xgb"
      ],
      "execution_count": null,
      "outputs": []
    },
    {
      "cell_type": "code",
      "metadata": {
        "id": "6QwtkYo6bFnx",
        "colab": {
          "base_uri": "https://localhost:8080/"
        },
        "outputId": "2abaecbb-562a-4ef1-df9c-e5ca524bbda7"
      },
      "source": [
        "X.columns"
      ],
      "execution_count": null,
      "outputs": [
        {
          "output_type": "execute_result",
          "data": {
            "text/plain": [
              "Index(['fl_date', 'mkt_unique_carrier', 'op_unique_carrier', 'origin',\n",
              "       'dep_time', 'dep_delay', 'dest', 'arr_time', 'crs_arr_time',\n",
              "       'actual_elapsed_time', 'crs_elapsed_time', 'distance', 'carrier_delay',\n",
              "       'weather_delay', 'nas_delay', 'security_delay', 'late_aircraft_delay',\n",
              "       'year', 'month', 'day', 'weekday', 'visibility', 'value'],\n",
              "      dtype='object')"
            ]
          },
          "metadata": {
            "tags": []
          },
          "execution_count": 45
        }
      ]
    },
    {
      "cell_type": "code",
      "metadata": {
        "id": "xcfnPUP-7NKF"
      },
      "source": [
        "# xgbr = xgb.XGBRegressor(n_estimators =200,random_state=12) \n",
        "# xgbr.fit(X_train,y_train)\n",
        "# y_pred = xgbr.predict(X_test)\n",
        "# xgbr.score(X_test,y_test)"
      ],
      "execution_count": null,
      "outputs": []
    },
    {
      "cell_type": "code",
      "metadata": {
        "id": "lCQ1VrOPJ6Yc"
      },
      "source": [
        "# print('mean_squared_error:', mean_squared_error(y_test,y_pred))\n",
        "# print('RSME:',np.sqrt(mean_squared_error(y_test, y_pred)))\n",
        "# print('r2 score:', r2_score(y_test,y_pred))\n",
        "# print('Adjusted R2 value:', 1 - (1-xgbr.score(X_test,y_test))*(len(y_test)-1)/(len(y_test)-X_test.shape[1]-1))"
      ],
      "execution_count": null,
      "outputs": []
    },
    {
      "cell_type": "code",
      "metadata": {
        "id": "g8npxmL8THGN"
      },
      "source": [
        "import lightgbm"
      ],
      "execution_count": null,
      "outputs": []
    },
    {
      "cell_type": "code",
      "metadata": {
        "id": "zRNATjZjTdjb"
      },
      "source": [
        "model = lightgbm.LGBMRegressor(n_estimators=100,random_state=12)"
      ],
      "execution_count": null,
      "outputs": []
    },
    {
      "cell_type": "code",
      "metadata": {
        "id": "tK7MSLGhVono",
        "colab": {
          "base_uri": "https://localhost:8080/"
        },
        "outputId": "50e4754e-ad1f-434b-b0ec-32cf697c06d5"
      },
      "source": [
        "model.fit(X_train,y_train)"
      ],
      "execution_count": null,
      "outputs": [
        {
          "output_type": "execute_result",
          "data": {
            "text/plain": [
              "LGBMRegressor(boosting_type='gbdt', class_weight=None, colsample_bytree=1.0,\n",
              "              importance_type='split', learning_rate=0.1, max_depth=-1,\n",
              "              min_child_samples=20, min_child_weight=0.001, min_split_gain=0.0,\n",
              "              n_estimators=100, n_jobs=-1, num_leaves=31, objective=None,\n",
              "              random_state=12, reg_alpha=0.0, reg_lambda=0.0, silent=True,\n",
              "              subsample=1.0, subsample_for_bin=200000, subsample_freq=0)"
            ]
          },
          "metadata": {
            "tags": []
          },
          "execution_count": 50
        }
      ]
    },
    {
      "cell_type": "code",
      "metadata": {
        "id": "RERePPr-VMn4"
      },
      "source": [
        "y_pred = model.predict(X_test)"
      ],
      "execution_count": null,
      "outputs": []
    },
    {
      "cell_type": "code",
      "metadata": {
        "colab": {
          "base_uri": "https://localhost:8080/",
          "height": 513
        },
        "id": "n1GzIalMWCO4",
        "outputId": "f22af666-b523-4260-80f0-df8e9daba366"
      },
      "source": [
        "X_test"
      ],
      "execution_count": null,
      "outputs": [
        {
          "output_type": "execute_result",
          "data": {
            "text/html": [
              "<div>\n",
              "<style scoped>\n",
              "    .dataframe tbody tr th:only-of-type {\n",
              "        vertical-align: middle;\n",
              "    }\n",
              "\n",
              "    .dataframe tbody tr th {\n",
              "        vertical-align: top;\n",
              "    }\n",
              "\n",
              "    .dataframe thead th {\n",
              "        text-align: right;\n",
              "    }\n",
              "</style>\n",
              "<table border=\"1\" class=\"dataframe\">\n",
              "  <thead>\n",
              "    <tr style=\"text-align: right;\">\n",
              "      <th></th>\n",
              "      <th>op_unique_carrier</th>\n",
              "      <th>origin</th>\n",
              "      <th>dest</th>\n",
              "      <th>crs_elapsed_time</th>\n",
              "      <th>distance</th>\n",
              "      <th>month</th>\n",
              "      <th>day</th>\n",
              "      <th>value</th>\n",
              "      <th>crs_arr_hour</th>\n",
              "      <th>Numerical_Week</th>\n",
              "      <th>Weekday</th>\n",
              "      <th>meanOfGrouping</th>\n",
              "    </tr>\n",
              "  </thead>\n",
              "  <tbody>\n",
              "    <tr>\n",
              "      <th>532611</th>\n",
              "      <td>AA</td>\n",
              "      <td>LAX</td>\n",
              "      <td>ORD</td>\n",
              "      <td>252.0</td>\n",
              "      <td>1744.0</td>\n",
              "      <td>5</td>\n",
              "      <td>15</td>\n",
              "      <td>Cloudy</td>\n",
              "      <td>71</td>\n",
              "      <td>20</td>\n",
              "      <td>2</td>\n",
              "      <td>0.0</td>\n",
              "    </tr>\n",
              "    <tr>\n",
              "      <th>457273</th>\n",
              "      <td>UA</td>\n",
              "      <td>EWR</td>\n",
              "      <td>JAX</td>\n",
              "      <td>163.0</td>\n",
              "      <td>820.0</td>\n",
              "      <td>2</td>\n",
              "      <td>21</td>\n",
              "      <td>Partly cloudy</td>\n",
              "      <td>16</td>\n",
              "      <td>8</td>\n",
              "      <td>2</td>\n",
              "      <td>0.0</td>\n",
              "    </tr>\n",
              "    <tr>\n",
              "      <th>101750</th>\n",
              "      <td>AA</td>\n",
              "      <td>ORD</td>\n",
              "      <td>SLC</td>\n",
              "      <td>204.0</td>\n",
              "      <td>1250.0</td>\n",
              "      <td>6</td>\n",
              "      <td>22</td>\n",
              "      <td>Partly cloudy</td>\n",
              "      <td>20</td>\n",
              "      <td>25</td>\n",
              "      <td>4</td>\n",
              "      <td>0.0</td>\n",
              "    </tr>\n",
              "    <tr>\n",
              "      <th>365335</th>\n",
              "      <td>UA</td>\n",
              "      <td>SEA</td>\n",
              "      <td>IAH</td>\n",
              "      <td>259.0</td>\n",
              "      <td>1874.0</td>\n",
              "      <td>3</td>\n",
              "      <td>20</td>\n",
              "      <td>Overcast</td>\n",
              "      <td>20</td>\n",
              "      <td>12</td>\n",
              "      <td>1</td>\n",
              "      <td>0.0</td>\n",
              "    </tr>\n",
              "    <tr>\n",
              "      <th>278537</th>\n",
              "      <td>B6</td>\n",
              "      <td>EWR</td>\n",
              "      <td>BOS</td>\n",
              "      <td>66.0</td>\n",
              "      <td>200.0</td>\n",
              "      <td>10</td>\n",
              "      <td>25</td>\n",
              "      <td>Rain</td>\n",
              "      <td>22</td>\n",
              "      <td>43</td>\n",
              "      <td>4</td>\n",
              "      <td>0.0</td>\n",
              "    </tr>\n",
              "    <tr>\n",
              "      <th>...</th>\n",
              "      <td>...</td>\n",
              "      <td>...</td>\n",
              "      <td>...</td>\n",
              "      <td>...</td>\n",
              "      <td>...</td>\n",
              "      <td>...</td>\n",
              "      <td>...</td>\n",
              "      <td>...</td>\n",
              "      <td>...</td>\n",
              "      <td>...</td>\n",
              "      <td>...</td>\n",
              "      <td>...</td>\n",
              "    </tr>\n",
              "    <tr>\n",
              "      <th>342860</th>\n",
              "      <td>WN</td>\n",
              "      <td>BOS</td>\n",
              "      <td>BWI</td>\n",
              "      <td>90.0</td>\n",
              "      <td>369.0</td>\n",
              "      <td>4</td>\n",
              "      <td>30</td>\n",
              "      <td>Rain</td>\n",
              "      <td>13</td>\n",
              "      <td>18</td>\n",
              "      <td>0</td>\n",
              "      <td>0.0</td>\n",
              "    </tr>\n",
              "    <tr>\n",
              "      <th>550450</th>\n",
              "      <td>WN</td>\n",
              "      <td>LAS</td>\n",
              "      <td>DAL</td>\n",
              "      <td>165.0</td>\n",
              "      <td>1067.0</td>\n",
              "      <td>9</td>\n",
              "      <td>5</td>\n",
              "      <td>Partly cloudy</td>\n",
              "      <td>12</td>\n",
              "      <td>36</td>\n",
              "      <td>2</td>\n",
              "      <td>0.0</td>\n",
              "    </tr>\n",
              "    <tr>\n",
              "      <th>345624</th>\n",
              "      <td>ZW</td>\n",
              "      <td>ORD</td>\n",
              "      <td>CAK</td>\n",
              "      <td>89.0</td>\n",
              "      <td>343.0</td>\n",
              "      <td>6</td>\n",
              "      <td>8</td>\n",
              "      <td>Sunny</td>\n",
              "      <td>16</td>\n",
              "      <td>23</td>\n",
              "      <td>4</td>\n",
              "      <td>162.0</td>\n",
              "    </tr>\n",
              "    <tr>\n",
              "      <th>245307</th>\n",
              "      <td>OH</td>\n",
              "      <td>CLT</td>\n",
              "      <td>OAJ</td>\n",
              "      <td>69.0</td>\n",
              "      <td>191.0</td>\n",
              "      <td>7</td>\n",
              "      <td>30</td>\n",
              "      <td>Rain</td>\n",
              "      <td>17</td>\n",
              "      <td>31</td>\n",
              "      <td>1</td>\n",
              "      <td>25.0</td>\n",
              "    </tr>\n",
              "    <tr>\n",
              "      <th>536178</th>\n",
              "      <td>OO</td>\n",
              "      <td>DTW</td>\n",
              "      <td>ITH</td>\n",
              "      <td>79.0</td>\n",
              "      <td>353.0</td>\n",
              "      <td>9</td>\n",
              "      <td>27</td>\n",
              "      <td>Partly cloudy</td>\n",
              "      <td>12</td>\n",
              "      <td>39</td>\n",
              "      <td>4</td>\n",
              "      <td>0.0</td>\n",
              "    </tr>\n",
              "  </tbody>\n",
              "</table>\n",
              "<p>176229 rows × 12 columns</p>\n",
              "</div>"
            ],
            "text/plain": [
              "       op_unique_carrier origin dest  ...  Numerical_Week  Weekday  meanOfGrouping\n",
              "532611                AA    LAX  ORD  ...              20        2             0.0\n",
              "457273                UA    EWR  JAX  ...               8        2             0.0\n",
              "101750                AA    ORD  SLC  ...              25        4             0.0\n",
              "365335                UA    SEA  IAH  ...              12        1             0.0\n",
              "278537                B6    EWR  BOS  ...              43        4             0.0\n",
              "...                  ...    ...  ...  ...             ...      ...             ...\n",
              "342860                WN    BOS  BWI  ...              18        0             0.0\n",
              "550450                WN    LAS  DAL  ...              36        2             0.0\n",
              "345624                ZW    ORD  CAK  ...              23        4           162.0\n",
              "245307                OH    CLT  OAJ  ...              31        1            25.0\n",
              "536178                OO    DTW  ITH  ...              39        4             0.0\n",
              "\n",
              "[176229 rows x 12 columns]"
            ]
          },
          "metadata": {
            "tags": []
          },
          "execution_count": 52
        }
      ]
    },
    {
      "cell_type": "code",
      "metadata": {
        "id": "zNdYwFlyVYFq",
        "colab": {
          "base_uri": "https://localhost:8080/"
        },
        "outputId": "3cd3e6e0-fa22-46af-b86f-1899d7d8dbfa"
      },
      "source": [
        "print('mean_squared_error:', mean_squared_error(y_test,y_pred))\n",
        "print('RSME:',np.sqrt(mean_squared_error(y_test, y_pred)))\n",
        "print('r2 score:', r2_score(y_test,y_pred))\n",
        "print('Adjusted R2 value:', 1 - (1-model.score(X_test,y_test))*(len(y_test)-1)/(len(y_test)-X_test.shape[1]-1))"
      ],
      "execution_count": null,
      "outputs": [
        {
          "output_type": "stream",
          "text": [
            "mean_squared_error: 320.77829876328343\n",
            "RSME: 17.91028472032992\n",
            "r2 score: 0.8167320497485848\n",
            "Adjusted R2 value: 0.8167195695231625\n"
          ],
          "name": "stdout"
        }
      ]
    },
    {
      "cell_type": "code",
      "metadata": {
        "id": "D1bS7VRYqyqh",
        "colab": {
          "base_uri": "https://localhost:8080/",
          "height": 313
        },
        "outputId": "39a307e9-8668-4c8e-a63d-4a3a9b5d5b40"
      },
      "source": [
        "lightgbm.plot_importance(model)"
      ],
      "execution_count": null,
      "outputs": [
        {
          "output_type": "execute_result",
          "data": {
            "text/plain": [
              "<matplotlib.axes._subplots.AxesSubplot at 0x7fcfa1472290>"
            ]
          },
          "metadata": {
            "tags": []
          },
          "execution_count": 54
        },
        {
          "output_type": "display_data",
          "data": {
            "image/png": "[encoded data removed]",
            "text/plain": [
              "<Figure size 432x288 with 1 Axes>"
            ]
          },
          "metadata": {
            "tags": [],
            "needs_background": "light"
          }
        }
      ]
    },
    {
      "cell_type": "code",
      "metadata": {
        "id": "oAgo573Qpdd2"
      },
      "source": [
        ""
      ],
      "execution_count": null,
      "outputs": []
    }
  ]
}