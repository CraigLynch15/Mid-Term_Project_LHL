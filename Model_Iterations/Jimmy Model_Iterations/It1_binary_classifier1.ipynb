{
  "nbformat": 4,
  "nbformat_minor": 0,
  "metadata": {
    "colab": {
      "name": "testData2.ipynb",
      "provenance": [],
      "collapsed_sections": []
    },
    "kernelspec": {
      "name": "python3",
      "display_name": "Python 3"
    },
    "language_info": {
      "name": "python"
    }
  },
  "cells": [
    {
      "cell_type": "code",
      "metadata": {
        "id": "-3za-mt33Gvi",
        "colab": {
          "base_uri": "https://localhost:8080/"
        },
        "outputId": "40987ac8-ee58-4b00-fc0a-d63620c311ff"
      },
      "source": [
        "from google.colab import drive\n",
        "drive.mount('/gdrive')\n",
        "%cd /gdrive"
      ],
      "execution_count": 1,
      "outputs": [
        {
          "output_type": "stream",
          "text": [
            "Drive already mounted at /gdrive; to attempt to forcibly remount, call drive.mount(\"/gdrive\", force_remount=True).\n",
            "/gdrive\n"
          ],
          "name": "stdout"
        }
      ]
    },
    {
      "cell_type": "code",
      "metadata": {
        "id": "jYqzjJ1DcdDS"
      },
      "source": [
        "import pandas as pd \n",
        "import numpy as np\n",
        "from sklearn.utils import shuffle"
      ],
      "execution_count": 2,
      "outputs": []
    },
    {
      "cell_type": "code",
      "metadata": {
        "id": "lfvLsAjaVt0n"
      },
      "source": [
        "canDF = pd.read_csv('/gdrive/MyDrive/classCancelled.csv')"
      ],
      "execution_count": 3,
      "outputs": []
    },
    {
      "cell_type": "code",
      "metadata": {
        "id": "noDBT0PeHatl"
      },
      "source": [
        "df = pd.read_csv('/gdrive/MyDrive/Classification_cleaned_data_with_outliers_01.csv')"
      ],
      "execution_count": 4,
      "outputs": []
    },
    {
      "cell_type": "code",
      "metadata": {
        "id": "_Rg4o8qYrzJE"
      },
      "source": [
        "df = df.append(canDF)"
      ],
      "execution_count": 5,
      "outputs": []
    },
    {
      "cell_type": "code",
      "metadata": {
        "id": "AivV4zvcVUBN"
      },
      "source": [
        "weatherdf = pd.read_csv('/gdrive/MyDrive/weather.csv')"
      ],
      "execution_count": 6,
      "outputs": []
    },
    {
      "cell_type": "code",
      "metadata": {
        "id": "lV0xYaoyV6tC"
      },
      "source": [
        "weatherdf = weatherdf[['date','airport_code','visibility','value']]\n"
      ],
      "execution_count": 7,
      "outputs": []
    },
    {
      "cell_type": "code",
      "metadata": {
        "id": "wsqJBXmmWsLr"
      },
      "source": [
        "weatherdf = weatherdf.rename({'date':'fl_date','airport_code':'origin'},axis=1)\n"
      ],
      "execution_count": 8,
      "outputs": []
    },
    {
      "cell_type": "code",
      "metadata": {
        "id": "oVXb_QasWjU3"
      },
      "source": [
        "df = df.merge(weatherdf, on=['fl_date','origin'])\n"
      ],
      "execution_count": 9,
      "outputs": []
    },
    {
      "cell_type": "code",
      "metadata": {
        "id": "DMyGb1Gi3dYA"
      },
      "source": [
        "import sklearn.preprocessing\n",
        "from sklearn.linear_model import LogisticRegression\n",
        "import matplotlib.pyplot as plt"
      ],
      "execution_count": 10,
      "outputs": []
    },
    {
      "cell_type": "code",
      "metadata": {
        "id": "RyADWYQAYOtw"
      },
      "source": [
        "df['op_unique_carrier'] = df.op_unique_carrier.astype('category').cat.codes.astype('category')\n",
        "df['origin'] = df.origin.astype('category').cat.codes.astype('category')\n",
        "df['dest'] = df.dest.astype('category').cat.codes.astype('category')\n",
        "df['visibility'] = df.visibility.astype('category').cat.codes"
      ],
      "execution_count": 11,
      "outputs": []
    },
    {
      "cell_type": "code",
      "metadata": {
        "id": "3aDCFrz2095r"
      },
      "source": [
        "df['cancelled'] = df['cancelled'].fillna(0)"
      ],
      "execution_count": 12,
      "outputs": []
    },
    {
      "cell_type": "code",
      "metadata": {
        "id": "HXc1GTkd8kAN"
      },
      "source": [
        "cancelledDF = df.loc[df['cancelled'] == 1]\n",
        "notCancelledDF = df.loc[df['cancelled'] == 0].sample(n=126468,random_state=42)\n",
        "df = pd.concat([cancelledDF, notCancelledDF])"
      ],
      "execution_count": 13,
      "outputs": []
    },
    {
      "cell_type": "code",
      "metadata": {
        "colab": {
          "base_uri": "https://localhost:8080/"
        },
        "id": "2kzaUmHg9u8e",
        "outputId": "c426c307-6d2f-4d1d-dd25-c2a349c47d11"
      },
      "source": [
        "df.cancelled.value_counts()"
      ],
      "execution_count": 14,
      "outputs": [
        {
          "output_type": "execute_result",
          "data": {
            "text/plain": [
              "0.0    126468\n",
              "1.0    126468\n",
              "Name: cancelled, dtype: int64"
            ]
          },
          "metadata": {
            "tags": []
          },
          "execution_count": 14
        }
      ]
    },
    {
      "cell_type": "code",
      "metadata": {
        "id": "0AtRtkHw-4aL"
      },
      "source": [
        "df = df.sample(frac=1).reset_index(drop=True)"
      ],
      "execution_count": 15,
      "outputs": []
    },
    {
      "cell_type": "code",
      "metadata": {
        "id": "o8W_ZnMysQO5"
      },
      "source": [
        "df = df.dropna(axis=1)"
      ],
      "execution_count": 16,
      "outputs": []
    },
    {
      "cell_type": "code",
      "metadata": {
        "id": "HQRIq7uINJCa"
      },
      "source": [
        "df = df.sample(frac=1).reset_index(drop=True)"
      ],
      "execution_count": 17,
      "outputs": []
    },
    {
      "cell_type": "code",
      "metadata": {
        "id": "qpXvfPOI74Ec"
      },
      "source": [
        "X,y = df.drop('cancelled',axis=1),df['cancelled']"
      ],
      "execution_count": 18,
      "outputs": []
    },
    {
      "cell_type": "code",
      "metadata": {
        "id": "umv-JMzhumgq"
      },
      "source": [
        "def value(row):\n",
        "  if 'snow' in row['value']:\n",
        "    return 'Snow'\n",
        "  elif 'rain' in row['value']:\n",
        "    return 'Rain'\n",
        "  elif 'showers' in row['value']:\n",
        "    return 'Rain'\n",
        "  elif 'possible' in row['value']:\n",
        "    return 'Rain'\n",
        "  elif 'drizzle' in row['value']:\n",
        "    return 'Rain'\n",
        "  elif 'sleet' in row['value']:\n",
        "    return 'Rain/Snow'\n",
        "  elif 'blizzard' in row['value']:\n",
        "    return 'Snow'\n",
        "  else:\n",
        "    return row['value']"
      ],
      "execution_count": 19,
      "outputs": []
    },
    {
      "cell_type": "code",
      "metadata": {
        "id": "SarN94dotR9W"
      },
      "source": [
        "X['value'] = X.apply(value,axis=1)\n",
        "X['value'] = X.value.astype('category').cat.codes\n",
        "\n"
      ],
      "execution_count": 20,
      "outputs": []
    },
    {
      "cell_type": "code",
      "metadata": {
        "id": "T_E_Cnv8ANah",
        "colab": {
          "base_uri": "https://localhost:8080/"
        },
        "outputId": "265b71fa-cbfa-45f1-e3ce-2bade7764169"
      },
      "source": [
        "X['Numerical_Week']= (pd.to_datetime(X['fl_date']).dt.weekofyear)\n",
        "X['Season']= (pd.to_datetime(X['fl_date']).dt.month - 1) // 3"
      ],
      "execution_count": 22,
      "outputs": [
        {
          "output_type": "stream",
          "text": [
            "/usr/local/lib/python3.7/dist-packages/ipykernel_launcher.py:1: FutureWarning: Series.dt.weekofyear and Series.dt.week have been deprecated.  Please use Series.dt.isocalendar().week instead.\n",
            "  \"\"\"Entry point for launching an IPython kernel.\n"
          ],
          "name": "stderr"
        }
      ]
    },
    {
      "cell_type": "code",
      "metadata": {
        "id": "x9sON7su2e1_"
      },
      "source": [
        "X['Weekday'] = pd.to_datetime(X['fl_date']).dt.dayofweek"
      ],
      "execution_count": 23,
      "outputs": []
    },
    {
      "cell_type": "code",
      "metadata": {
        "id": "QR-k91aAD8V0"
      },
      "source": [
        ""
      ],
      "execution_count": 23,
      "outputs": []
    },
    {
      "cell_type": "code",
      "metadata": {
        "id": "148DBrPMvww8"
      },
      "source": [
        "X = X.drop(['fl_date','mkt_unique_carrier'],axis=1)"
      ],
      "execution_count": 24,
      "outputs": []
    },
    {
      "cell_type": "code",
      "metadata": {
        "id": "9rOCMYRapAiW"
      },
      "source": [
        "# X = X.drop(['crs_dep_time','origin','dest','op_unique_carrier','day','year','dep_time','arr_time','sumDelays','crs_arr_time','weekday'],axis=1)"
      ],
      "execution_count": 25,
      "outputs": []
    },
    {
      "cell_type": "code",
      "metadata": {
        "id": "1op7hwgJ807E"
      },
      "source": [
        "from sklearn.model_selection import  train_test_split\n",
        "from sklearn.ensemble import RandomForestClassifier,GradientBoostingClassifier\n",
        "from sklearn.metrics import r2_score,confusion_matrix\n",
        "from sklearn.model_selection import GridSearchCV\n",
        "import xgboost as xg"
      ],
      "execution_count": 26,
      "outputs": []
    },
    {
      "cell_type": "code",
      "metadata": {
        "id": "vRunw2ip8n08"
      },
      "source": [
        "X_train, X_test, y_train, y_test = train_test_split(X, y, test_size=0.3, random_state=12)"
      ],
      "execution_count": 27,
      "outputs": []
    },
    {
      "cell_type": "code",
      "metadata": {
        "id": "WxyEBYXU9i9j"
      },
      "source": [
        "from sklearn.metrics import mean_squared_error,accuracy_score"
      ],
      "execution_count": 28,
      "outputs": []
    },
    {
      "cell_type": "code",
      "metadata": {
        "id": "TRruNIqPZsuY"
      },
      "source": [
        "model = RandomForestClassifier()"
      ],
      "execution_count": 29,
      "outputs": []
    },
    {
      "cell_type": "code",
      "metadata": {
        "id": "OjqlSDz-8SdJ",
        "colab": {
          "base_uri": "https://localhost:8080/"
        },
        "outputId": "fb824d30-9cf2-4ac6-a188-286695948c9a"
      },
      "source": [
        "model.fit(X_train,y_train)\n",
        "y_pred = model.predict(X_test)\n",
        "model.score(X_test,y_test)"
      ],
      "execution_count": 30,
      "outputs": [
        {
          "output_type": "execute_result",
          "data": {
            "text/plain": [
              "0.7889194923630422"
            ]
          },
          "metadata": {
            "tags": []
          },
          "execution_count": 30
        }
      ]
    },
    {
      "cell_type": "code",
      "metadata": {
        "colab": {
          "base_uri": "https://localhost:8080/"
        },
        "id": "NBSe3Sj02vOR",
        "outputId": "fe76d80a-c0be-488b-deb8-e3b6ece8b4bd"
      },
      "source": [
        "print(\"Accuracy score:\", accuracy_score(y_true=y_test,y_pred=y_pred))"
      ],
      "execution_count": 31,
      "outputs": [
        {
          "output_type": "stream",
          "text": [
            "Accuracy score: 0.7889194923630422\n"
          ],
          "name": "stdout"
        }
      ]
    },
    {
      "cell_type": "code",
      "metadata": {
        "colab": {
          "base_uri": "https://localhost:8080/"
        },
        "id": "pruP3iZA208C",
        "outputId": "fb1db89b-b950-44be-b521-1a66f5044198"
      },
      "source": [
        "confusion_matrix(y_true=y_test,y_pred=y_pred)"
      ],
      "execution_count": 32,
      "outputs": [
        {
          "output_type": "execute_result",
          "data": {
            "text/plain": [
              "array([[29407,  8570],\n",
              "       [ 7447, 30457]])"
            ]
          },
          "metadata": {
            "tags": []
          },
          "execution_count": 32
        }
      ]
    },
    {
      "cell_type": "code",
      "metadata": {
        "id": "QuNK4OTZ9Uy4",
        "colab": {
          "base_uri": "https://localhost:8080/"
        },
        "outputId": "e3c1fce0-84d6-4e6c-93ce-b625ac21abd0"
      },
      "source": [
        "model = GradientBoostingClassifier(n_estimators=150,learning_rate=1.5,random_state=1)\n",
        "model.fit(X_train,y_train)\n",
        "y_pred = model.predict(X_test)\n",
        "model.score(X_test,y_test)"
      ],
      "execution_count": 33,
      "outputs": [
        {
          "output_type": "execute_result",
          "data": {
            "text/plain": [
              "0.745311738116261"
            ]
          },
          "metadata": {
            "tags": []
          },
          "execution_count": 33
        }
      ]
    },
    {
      "cell_type": "code",
      "metadata": {
        "colab": {
          "base_uri": "https://localhost:8080/"
        },
        "id": "hTWNNcOk2qr2",
        "outputId": "a6eb18fe-a53a-45e2-a64a-8fcd5820156f"
      },
      "source": [
        "print(\"Accuracy score:\", accuracy_score(y_true=y_test,y_pred=y_pred))"
      ],
      "execution_count": 34,
      "outputs": [
        {
          "output_type": "stream",
          "text": [
            "Accuracy score: 0.745311738116261\n"
          ],
          "name": "stdout"
        }
      ]
    },
    {
      "cell_type": "code",
      "metadata": {
        "colab": {
          "base_uri": "https://localhost:8080/"
        },
        "id": "osXeoGTJ2zfv",
        "outputId": "dc9e6dc8-a833-42dc-8089-6baff2c6b328"
      },
      "source": [
        "confusion_matrix(y_true=y_test,y_pred=y_pred)"
      ],
      "execution_count": 35,
      "outputs": [
        {
          "output_type": "execute_result",
          "data": {
            "text/plain": [
              "array([[27719, 10258],\n",
              "       [ 9068, 28836]])"
            ]
          },
          "metadata": {
            "tags": []
          },
          "execution_count": 35
        }
      ]
    },
    {
      "cell_type": "code",
      "metadata": {
        "id": "ISa2NORI7JzS"
      },
      "source": [
        "import xgboost as xgb"
      ],
      "execution_count": 36,
      "outputs": []
    },
    {
      "cell_type": "code",
      "metadata": {
        "id": "6QwtkYo6bFnx",
        "colab": {
          "base_uri": "https://localhost:8080/"
        },
        "outputId": "81a6e1c6-a98d-4b4c-aff5-ebff52a854a5"
      },
      "source": [
        "X.columns"
      ],
      "execution_count": 37,
      "outputs": [
        {
          "output_type": "execute_result",
          "data": {
            "text/plain": [
              "Index(['op_unique_carrier', 'op_carrier_fl_num', 'origin', 'crs_dep_time',\n",
              "       'dest', 'crs_arr_time', 'distance', 'visibility', 'value',\n",
              "       'Numerical_Week', 'Season', 'Weekday'],\n",
              "      dtype='object')"
            ]
          },
          "metadata": {
            "tags": []
          },
          "execution_count": 37
        }
      ]
    },
    {
      "cell_type": "code",
      "metadata": {
        "id": "g8npxmL8THGN"
      },
      "source": [
        "import lightgbm"
      ],
      "execution_count": 38,
      "outputs": []
    },
    {
      "cell_type": "code",
      "metadata": {
        "id": "zRNATjZjTdjb"
      },
      "source": [
        "model = lightgbm.LGBMClassifier(n_estimators=400,random_state=12)"
      ],
      "execution_count": 39,
      "outputs": []
    },
    {
      "cell_type": "code",
      "metadata": {
        "id": "tK7MSLGhVono",
        "colab": {
          "base_uri": "https://localhost:8080/"
        },
        "outputId": "8121dc57-32eb-466d-c1c7-b4766d1ae444"
      },
      "source": [
        "model.fit(X_train,y_train)"
      ],
      "execution_count": 40,
      "outputs": [
        {
          "output_type": "execute_result",
          "data": {
            "text/plain": [
              "LGBMClassifier(boosting_type='gbdt', class_weight=None, colsample_bytree=1.0,\n",
              "               importance_type='split', learning_rate=0.1, max_depth=-1,\n",
              "               min_child_samples=20, min_child_weight=0.001, min_split_gain=0.0,\n",
              "               n_estimators=400, n_jobs=-1, num_leaves=31, objective=None,\n",
              "               random_state=12, reg_alpha=0.0, reg_lambda=0.0, silent=True,\n",
              "               subsample=1.0, subsample_for_bin=200000, subsample_freq=0)"
            ]
          },
          "metadata": {
            "tags": []
          },
          "execution_count": 40
        }
      ]
    },
    {
      "cell_type": "code",
      "metadata": {
        "id": "RERePPr-VMn4",
        "colab": {
          "base_uri": "https://localhost:8080/"
        },
        "outputId": "e3a2e67d-dda2-4ac3-8909-771eb2b86a85"
      },
      "source": [
        "y_pred = model.predict(X_test)\n",
        "model.score(X_test,y_test)"
      ],
      "execution_count": 41,
      "outputs": [
        {
          "output_type": "execute_result",
          "data": {
            "text/plain": [
              "0.7895520617809465"
            ]
          },
          "metadata": {
            "tags": []
          },
          "execution_count": 41
        }
      ]
    },
    {
      "cell_type": "code",
      "metadata": {
        "colab": {
          "base_uri": "https://localhost:8080/"
        },
        "id": "DRuKdKmJzbOs",
        "outputId": "dd7e40dc-6cc8-41a7-8811-192524a17453"
      },
      "source": [
        "print(\"Accuracy score:\", accuracy_score(y_true=y_test,y_pred=y_pred))"
      ],
      "execution_count": 42,
      "outputs": [
        {
          "output_type": "stream",
          "text": [
            "Accuracy score: 0.7895520617809465\n"
          ],
          "name": "stdout"
        }
      ]
    },
    {
      "cell_type": "code",
      "metadata": {
        "id": "Nj9WknIN6J9I",
        "colab": {
          "base_uri": "https://localhost:8080/"
        },
        "outputId": "3af4f88b-ac75-4e04-927f-4495edf287e0"
      },
      "source": [
        "confusion_matrix(y_true=y_test,y_pred=y_pred)"
      ],
      "execution_count": 43,
      "outputs": [
        {
          "output_type": "execute_result",
          "data": {
            "text/plain": [
              "array([[28929,  9048],\n",
              "       [ 6921, 30983]])"
            ]
          },
          "metadata": {
            "tags": []
          },
          "execution_count": 43
        }
      ]
    },
    {
      "cell_type": "code",
      "metadata": {
        "colab": {
          "base_uri": "https://localhost:8080/",
          "height": 313
        },
        "id": "_o-bV0zGxSgT",
        "outputId": "93159ffb-707a-4713-fe4a-919b6ec5b04b"
      },
      "source": [
        "lightgbm.plot_importance(model)"
      ],
      "execution_count": 44,
      "outputs": [
        {
          "output_type": "execute_result",
          "data": {
            "text/plain": [
              "<matplotlib.axes._subplots.AxesSubplot at 0x7f639b02d150>"
            ]
          },
          "metadata": {
            "tags": []
          },
          "execution_count": 44
        },
        {
          "output_type": "display_data",
          "data": {
            "image/png": "[encoded data removed]",
            "text/plain": [
              "<Figure size 432x288 with 1 Axes>"
            ]
          },
          "metadata": {
            "tags": [],
            "needs_background": "light"
          }
        }
      ]
    },
    {
      "cell_type": "code",
      "metadata": {
        "id": "QdFtzAKExTMR"
      },
      "source": [
        ""
      ],
      "execution_count": 44,
      "outputs": []
    }
  ]
}