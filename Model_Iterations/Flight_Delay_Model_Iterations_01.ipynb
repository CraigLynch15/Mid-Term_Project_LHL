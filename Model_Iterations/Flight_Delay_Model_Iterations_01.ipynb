{
 "cells": [
  {
   "cell_type": "markdown",
   "id": "47ff1129",
   "metadata": {},
   "source": [
    "# Optimizing Model - Creating Average Delays"
   ]
  },
  {
   "cell_type": "code",
   "execution_count": 66,
   "id": "342408e1",
   "metadata": {},
   "outputs": [],
   "source": [
    "## Model Iteration 1\n",
    "## Feature Eng: Average elapsed time by flight number (route), Average delay by carrier, \n",
    "##              Average NAS delay by flight number (route), Average Security delay by origin\n",
    "## Purpose: To measure uplift of seperating delay averages into carrier,flight number (route), and origin delay\n",
    "## Results : \n",
    "##      LightGBM Model RMSE is:  41.534851296809315 (-0.71% change)\n",
    "##      LightGBM Model R2 Score is:  0.06627628680668773 (58.27% change)\n",
    "##      LightGBM Model Cross-validation MAE is: 23.248054783196682 (-1.85% change)\n",
    "##      XGBoostModel RMSE is:  42.594513295253144 (0.24% change)\n",
    "##      XGBoost Model R2 Score is:  0.018025095840476513 (57.66% change)\n",
    "##      XGBoost Model Cross-validation MAE is: 22.606841 (-0.03% change)"
   ]
  },
  {
   "cell_type": "code",
   "execution_count": 140,
   "id": "9ffa1d4b",
   "metadata": {},
   "outputs": [],
   "source": [
    "import pandas as pd\n",
    "import numpy as np\n",
    "import psycopg2\n",
    "import matplotlib.pyplot as plt\n",
    "import seaborn as sns\n",
    "%matplotlib inline\n",
    "import datetime\n",
    "from scipy import stats\n",
    "from sklearn.model_selection import train_test_split"
   ]
  },
  {
   "cell_type": "code",
   "execution_count": 141,
   "id": "9b698746",
   "metadata": {},
   "outputs": [],
   "source": [
    "data_flight_info = pd.read_csv('/Users/craiglynch/Desktop/Lighthouse_Labs/Mid-term_Project/mid-term-project-I-master/Regression_no_outliers_cleaned_data_03.csv', sep = ',')"
   ]
  },
  {
   "cell_type": "code",
   "execution_count": 142,
   "id": "4ef9edb1",
   "metadata": {},
   "outputs": [
    {
     "data": {
      "text/plain": [
       "fl_date                0\n",
       "mkt_unique_carrier     0\n",
       "op_unique_carrier      0\n",
       "op_carrier_fl_num      0\n",
       "origin                 0\n",
       "crs_dep_time           0\n",
       "dep_time               0\n",
       "dep_delay              0\n",
       "dest                   0\n",
       "arr_time               0\n",
       "arr_delay              0\n",
       "crs_arr_time           0\n",
       "crs_elapsed_time       0\n",
       "actual_elapsed_time    0\n",
       "distance               0\n",
       "carrier_delay          0\n",
       "weather_delay          0\n",
       "nas_delay              0\n",
       "security_delay         0\n",
       "late_aircraft_delay    0\n",
       "year                   0\n",
       "month                  0\n",
       "day                    0\n",
       "weekday                0\n",
       "dtype: int64"
      ]
     },
     "execution_count": 142,
     "metadata": {},
     "output_type": "execute_result"
    }
   ],
   "source": [
    "df_flight_info = data_flight_info.copy()\n",
    "df_flight_info.isnull().sum()"
   ]
  },
  {
   "cell_type": "code",
   "execution_count": 143,
   "id": "5ccba7f8",
   "metadata": {},
   "outputs": [
    {
     "data": {
      "text/plain": [
       "ATL    48923\n",
       "ORD    48428\n",
       "DFW    35688\n",
       "DEN    33907\n",
       "LAX    30969\n",
       "CLT    30851\n",
       "SEA    23313\n",
       "PHX    22252\n",
       "SFO    22183\n",
       "IAH    22017\n",
       "DTW    21795\n",
       "LAS    20661\n",
       "LGA    20597\n",
       "MSP    19965\n",
       "EWR    19453\n",
       "BOS    18365\n",
       "MCO    17474\n",
       "DCA    17438\n",
       "Name: origin, dtype: int64"
      ]
     },
     "execution_count": 143,
     "metadata": {},
     "output_type": "execute_result"
    }
   ],
   "source": [
    "#Only want top 19 busiest airports\n",
    "airports = ['ORD','ATL','DFW','DEN','LAX','CLT','SEA','SFO','EWR','LGA','PHX','IAH','LAS','BOS','MCO','DTW','PHIL','DCA','MSP']\n",
    "df_flight_info = df_flight_info[df_flight_info['origin'].isin(airports)]\n",
    "df_flight_info.origin.value_counts()"
   ]
  },
  {
   "cell_type": "code",
   "execution_count": 144,
   "id": "2fbbf48b",
   "metadata": {},
   "outputs": [],
   "source": [
    "# Getting Average Carrier Delay - Grouped by Carrier\n",
    "carrier_grouped = df_flight_info.groupby(by='op_unique_carrier').mean()\n",
    "carrier_grouped.reset_index(inplace=True)\n",
    "carrier_grouped['total_carrier_delay'] = carrier_grouped['carrier_delay'] + carrier_grouped['late_aircraft_delay']\n",
    "carrier_grouped = carrier_grouped[['op_unique_carrier', 'total_carrier_delay']]"
   ]
  },
  {
   "cell_type": "code",
   "execution_count": 145,
   "id": "6a0b3ebf",
   "metadata": {},
   "outputs": [],
   "source": [
    "# Getting Average Security Delay\n",
    "security_grouped = df_flight_info.groupby(by='origin').mean()\n",
    "security_grouped.reset_index(inplace=True)\n",
    "security_grouped['total_security_delay'] = security_grouped['security_delay']\n",
    "security_grouped = security_grouped.drop(columns = ['op_carrier_fl_num','crs_dep_time','crs_elapsed_time','dep_delay','arr_delay','dep_time','arr_time','crs_arr_time','actual_elapsed_time','distance','carrier_delay','nas_delay','security_delay','late_aircraft_delay','weather_delay','year','month','day','weekday'])\n"
   ]
  },
  {
   "cell_type": "code",
   "execution_count": 146,
   "id": "31ae9cca",
   "metadata": {},
   "outputs": [],
   "source": [
    "# Finding average route times\n",
    "df_flight_info['flight_number'] = df_flight_info['op_unique_carrier'] + df_flight_info['op_carrier_fl_num'].astype(str)\n",
    "route_time_grouped = df_flight_info.groupby(by='flight_number').mean()\n",
    "route_time_grouped.reset_index(inplace=True)\n",
    "route_time_grouped['average_route_time'] = route_time_grouped['actual_elapsed_time']\n",
    "route_time_grouped = route_time_grouped[['flight_number','average_route_time']]"
   ]
  },
  {
   "cell_type": "code",
   "execution_count": 147,
   "id": "a3f091cb",
   "metadata": {},
   "outputs": [],
   "source": [
    "# Getting Average NAS Delay\n",
    "nas_grouped = df_flight_info.groupby(by='flight_number').mean()\n",
    "nas_grouped.reset_index(inplace=True)\n",
    "nas_grouped['total_nas_delay'] = nas_grouped['nas_delay']\n",
    "nas_grouped = nas_grouped[['flight_number','total_nas_delay']]"
   ]
  },
  {
   "cell_type": "code",
   "execution_count": 148,
   "id": "175c5782",
   "metadata": {},
   "outputs": [],
   "source": [
    "# Getting Average Departure Delays by Route\n",
    "dep_delay_grouped = df_flight_info.groupby(by='flight_number').mean()\n",
    "dep_delay_grouped.reset_index(inplace=True)\n",
    "dep_delay_grouped['total_dep_delay'] = dep_delay_grouped['dep_delay']\n",
    "dep_delay_grouped = dep_delay_grouped[['flight_number','total_dep_delay']]"
   ]
  },
  {
   "cell_type": "code",
   "execution_count": 149,
   "id": "5bc832e5",
   "metadata": {},
   "outputs": [],
   "source": [
    "# Getting Average Arrival Delays by Route\n",
    "arr_delay_grouped = df_flight_info.groupby(by='flight_number').mean()\n",
    "arr_delay_grouped.reset_index(inplace=True)\n",
    "arr_delay_grouped['total_arr_delay'] = arr_delay_grouped['arr_delay']\n",
    "arr_delay_grouped = arr_delay_grouped[['flight_number','total_arr_delay']]"
   ]
  },
  {
   "cell_type": "code",
   "execution_count": 150,
   "id": "dfa9b0e4",
   "metadata": {},
   "outputs": [],
   "source": [
    "#Merge averages dataframes with original \n",
    "df_flight_info = df_flight_info.merge(security_grouped, on = 'origin', how = 'outer')\n",
    "df_flight_info = df_flight_info.merge(nas_grouped, on = 'flight_number', how = 'outer')\n",
    "df_flight_info = df_flight_info.merge(route_time_grouped, on = 'flight_number', how = 'outer')\n",
    "df_flight_info = df_flight_info.merge(dep_delay_grouped, on = 'flight_number', how = 'outer')\n",
    "df_flight_info = df_flight_info.merge(arr_delay_grouped, on = 'flight_number', how = 'outer')\n",
    "df_flight_info = df_flight_info.merge(carrier_grouped, on = 'op_unique_carrier', how = 'outer')"
   ]
  },
  {
   "cell_type": "markdown",
   "id": "f0b264c3",
   "metadata": {},
   "source": [
    "# Model Training"
   ]
  },
  {
   "cell_type": "code",
   "execution_count": 151,
   "id": "c47ecb8e",
   "metadata": {},
   "outputs": [],
   "source": [
    "from sklearn.ensemble import RandomForestRegressor\n",
    "from sklearn.metrics import roc_auc_score\n",
    "from sklearn.metrics import confusion_matrix\n",
    "from sklearn.metrics import mean_squared_error\n",
    "from sklearn.linear_model import LinearRegression\n",
    "from sklearn.preprocessing import StandardScaler\n",
    "from sklearn.naive_bayes import GaussianNB\n",
    "from sklearn.metrics import accuracy_score, recall_score, precision_score, r2_score, f1_score\n",
    "import xgboost as xgb\n",
    "from sklearn.linear_model import LogisticRegression\n",
    "from sklearn.dummy import DummyRegressor\n",
    "from sklearn.cluster import KMeans\n",
    "from sklearn.model_selection import GridSearchCV\n",
    "from sklearn.preprocessing import OneHotEncoder, LabelEncoder\n",
    "from sklearn.linear_model import Ridge, LinearRegression, Lasso\n",
    "from sklearn.preprocessing import PolynomialFeatures\n",
    "from sklearn.utils import shuffle\n",
    "from sklearn.model_selection import KFold\n",
    "from sklearn.model_selection import cross_val_score"
   ]
  },
  {
   "cell_type": "markdown",
   "id": "fcd8a6c9",
   "metadata": {},
   "source": [
    "## Feature Engineered Dataset"
   ]
  },
  {
   "cell_type": "markdown",
   "id": "f3bab044",
   "metadata": {},
   "source": [
    "####  with Flight Number (onehot), average_route_time, total_security_delay, total_nas_delay"
   ]
  },
  {
   "cell_type": "code",
   "execution_count": 152,
   "id": "3d0f40bc",
   "metadata": {},
   "outputs": [],
   "source": [
    "df_flight_info[\"flight_number\"] = df_flight_info[\"flight_number\"].astype('category').cat.codes"
   ]
  },
  {
   "cell_type": "code",
   "execution_count": 153,
   "id": "7b270392",
   "metadata": {},
   "outputs": [],
   "source": [
    "#### Shuffling dataset so model doesn't train on pattern"
   ]
  },
  {
   "cell_type": "code",
   "execution_count": 154,
   "id": "b14df273",
   "metadata": {},
   "outputs": [],
   "source": [
    "df_flight_info = shuffle(df_flight_info)\n",
    "X = df_flight_info[['crs_dep_time','flight_number','crs_elapsed_time','crs_arr_time','average_route_time','distance','year','month','day','weekday','total_carrier_delay', 'total_security_delay','total_nas_delay']]\n",
    "y = df_flight_info['arr_delay']"
   ]
  },
  {
   "cell_type": "code",
   "execution_count": 155,
   "id": "d1521ac8",
   "metadata": {},
   "outputs": [
    {
     "data": {
      "text/plain": [
       "(474279, 13)"
      ]
     },
     "execution_count": 155,
     "metadata": {},
     "output_type": "execute_result"
    }
   ],
   "source": [
    "X.shape"
   ]
  },
  {
   "cell_type": "code",
   "execution_count": 156,
   "id": "55bb3e28",
   "metadata": {},
   "outputs": [],
   "source": [
    "# Split dataset into training set and test set\n",
    "X_train, X_test, y_train, y_test = train_test_split(X, y, test_size=0.3) # 70% training and 30% test"
   ]
  },
  {
   "cell_type": "markdown",
   "id": "1f8b9d5d",
   "metadata": {},
   "source": [
    "##### LightGBM"
   ]
  },
  {
   "cell_type": "code",
   "execution_count": 157,
   "id": "1290f71a",
   "metadata": {},
   "outputs": [
    {
     "name": "stdout",
     "output_type": "stream",
     "text": [
      "[LightGBM] [Warning] Auto-choosing row-wise multi-threading, the overhead of testing was 0.003899 seconds.\n",
      "You can set `force_row_wise=true` to remove the overhead.\n",
      "And if memory is not enough, you can set `force_col_wise=true`.\n",
      "[LightGBM] [Info] Total Bins 1876\n",
      "[LightGBM] [Info] Number of data points in the train set: 331995, number of used features: 13\n",
      "[LightGBM] [Info] Start training from score 5.729177\n",
      "Model RMSE is:  41.74468021034405\n",
      "Model R2 Score is:  0.06086969460698455\n"
     ]
    }
   ],
   "source": [
    "import lightgbm as lgb\n",
    "d_train = lgb.Dataset(X_train, label=y_train)\n",
    "params = {}\n",
    "params['learning_rate'] = 0.08\n",
    "params['boosting_type'] = 'gbdt'\n",
    "#params['boosting_type'] = 'dart'\n",
    "params['objective'] = 'regression'\n",
    "params['metric'] = 'mse'\n",
    "params['sub_feature'] = 0.5\n",
    "params['num_leaves'] = 100\n",
    "params['min_data'] = 5\n",
    "params['max_depth'] = 100\n",
    "y_train=y_train.ravel()\n",
    "reg= lgb.train(params, d_train, 100)\n",
    "results=reg.predict(X_test)\n",
    "print('Model RMSE is: ',np.sqrt(mean_squared_error(y_test, results)))\n",
    "print('Model R2 Score is: ',r2_score(y_test,results))"
   ]
  },
  {
   "cell_type": "code",
   "execution_count": 158,
   "id": "92836b8e",
   "metadata": {},
   "outputs": [
    {
     "name": "stdout",
     "output_type": "stream",
     "text": [
      "[LightGBM] [Warning] Auto-choosing col-wise multi-threading, the overhead of testing was 0.042185 seconds.\n",
      "You can set `force_col_wise=true` to remove the overhead.\n",
      "[LightGBM] [Info] Total Bins 1876\n",
      "[LightGBM] [Info] Number of data points in the train set: 221330, number of used features: 13\n",
      "[LightGBM] [Warning] Auto-choosing row-wise multi-threading, the overhead of testing was 0.002815 seconds.\n",
      "You can set `force_row_wise=true` to remove the overhead.\n",
      "And if memory is not enough, you can set `force_col_wise=true`.\n",
      "[LightGBM] [Info] Total Bins 1876\n",
      "[LightGBM] [Info] Number of data points in the train set: 221330, number of used features: 13\n",
      "[LightGBM] [Warning] Auto-choosing row-wise multi-threading, the overhead of testing was 0.002926 seconds.\n",
      "You can set `force_row_wise=true` to remove the overhead.\n",
      "And if memory is not enough, you can set `force_col_wise=true`.\n",
      "[LightGBM] [Info] Total Bins 1876\n",
      "[LightGBM] [Info] Number of data points in the train set: 221330, number of used features: 13\n",
      "[LightGBM] [Info] Start training from score 5.717445\n",
      "[LightGBM] [Info] Start training from score 5.775561\n",
      "[LightGBM] [Info] Start training from score 5.694524\n",
      "Current parameters:\n",
      " {'learning_rate': 0.08, 'boosting_type': 'gbdt', 'objective': 'regression', 'metric': 'mse', 'sub_feature': 0.5, 'num_leaves': 100, 'min_data': 5, 'max_depth': 100}\n",
      "\n",
      "Best num_boost_round: 81\n",
      "LightGBM Model Cross-validation MAE is: 23.341822119452058\n"
     ]
    }
   ],
   "source": [
    "# Cross-validate\n",
    "cv_results = lgb.cv(\n",
    "        params,\n",
    "        d_train,\n",
    "        num_boost_round=100,\n",
    "        nfold=3,\n",
    "        metrics='mae',\n",
    "        early_stopping_rounds=10,\n",
    "\n",
    "        stratified=False\n",
    "        )\n",
    "# Display results\n",
    "print('Current parameters:\\n', params)\n",
    "print('\\nBest num_boost_round:', len(cv_results['l1-mean']))\n",
    "print('LightGBM Model Cross-validation MAE is:', cv_results['l1-mean'][-1])"
   ]
  },
  {
   "cell_type": "markdown",
   "id": "7ad6e4ec",
   "metadata": {},
   "source": [
    "##### XGBoost"
   ]
  },
  {
   "cell_type": "code",
   "execution_count": 159,
   "id": "c6515e9e",
   "metadata": {},
   "outputs": [
    {
     "name": "stdout",
     "output_type": "stream",
     "text": [
      "Model RMSE is:  42.679955890038045\n",
      "Model R2 Score is:  0.018316475739959648\n"
     ]
    }
   ],
   "source": [
    "data_dmatrix = xgb.DMatrix(data=X,label=y)\n",
    "xg_reg = xgb.XGBRegressor(objective ='reg:squarederror', colsample_bytree = 0.3, learning_rate = 0.1,\n",
    "                max_depth = 5, alpha = 10, n_estimators = 10)\n",
    "xg_reg.fit(X_test,y_test)\n",
    "\n",
    "y_pred_xgb = xg_reg.predict(X_test)\n",
    "\n",
    "print('Model RMSE is: ',np.sqrt(mean_squared_error(y_test, y_pred_xgb)))\n",
    "print('Model R2 Score is: ',r2_score(y_test,y_pred_xgb))"
   ]
  },
  {
   "cell_type": "code",
   "execution_count": 160,
   "id": "d40e0d38",
   "metadata": {},
   "outputs": [
    {
     "data": {
      "image/png": "[encoded data removed]",
      "text/plain": [
       "<Figure size 432x288 with 1 Axes>"
      ]
     },
     "metadata": {
      "needs_background": "light"
     },
     "output_type": "display_data"
    }
   ],
   "source": [
    "#Examine the importance of each feature column in the original data set with the model\n",
    "xgb.plot_importance(xg_reg)\n",
    "plt.rcParams['figure.figsize'] = [50, 50]\n",
    "plt.show()"
   ]
  },
  {
   "cell_type": "code",
   "execution_count": 161,
   "id": "f30dbf3a",
   "metadata": {},
   "outputs": [
    {
     "name": "stdout",
     "output_type": "stream",
     "text": [
      "XGBoost Model Cross-validation MAE is:  0    22.623687\n",
      "Name: test-mae-mean, dtype: float64\n"
     ]
    }
   ],
   "source": [
    "params = {'objective':'reg:squarederror', 'colsample_bytree' : 0.3, 'learning_rate' : 0.1,\n",
    "                'max_depth' : 5, 'alpha' : 10}\n",
    "cv_results = xgb.cv(dtrain=data_dmatrix, params=params, nfold=3,\n",
    "                    num_boost_round=50,early_stopping_rounds=10,metrics=\"mae\", as_pandas=True, seed=123)\n",
    "\n",
    "print('XGBoost Model Cross-validation MAE is: ',(cv_results[\"test-mae-mean\"]).tail(1))"
   ]
  },
  {
   "cell_type": "markdown",
   "id": "f0c62d71",
   "metadata": {},
   "source": [
    "##### Linear Regression"
   ]
  },
  {
   "cell_type": "code",
   "execution_count": 162,
   "id": "d2e3423f",
   "metadata": {},
   "outputs": [
    {
     "name": "stdout",
     "output_type": "stream",
     "text": [
      "Model RMSE is:  42.78163372603004\n",
      "Model R2 Score is:  0.03326120491831741\n"
     ]
    }
   ],
   "source": [
    "from sklearn.preprocessing import StandardScaler\n",
    "scaler = StandardScaler()\n",
    "X=scaler.fit_transform(X)\n",
    "\n",
    "# Split dataset into training set and test set\n",
    "X_train, X_test, y_train, y_test = train_test_split(X, y, test_size=0.3) # 70% training and 30% test\n",
    "\n",
    "# creating linear regression\n",
    "lr = LinearRegression()\n",
    "lr.fit(X_train,y_train)\n",
    "y_lr = lr.predict(X_test)\n",
    "\n",
    "print('Model RMSE is: ',np.sqrt(mean_squared_error(y_test, y_lr)))\n",
    "print('Model R2 Score is: ',r2_score(y_test,y_lr))"
   ]
  },
  {
   "cell_type": "code",
   "execution_count": 163,
   "id": "27b4bc8d",
   "metadata": {},
   "outputs": [
    {
     "name": "stdout",
     "output_type": "stream",
     "text": [
      "Linear Model Cross-validation MAE is:  23.894906997588613\n"
     ]
    }
   ],
   "source": [
    "from numpy import mean\n",
    "from numpy import absolute\n",
    "\n",
    "#define cross-validation method to use\n",
    "cv = KFold(n_splits=10, random_state=1, shuffle=True)\n",
    "\n",
    "#build multiple linear regression model\n",
    "model = lr\n",
    "\n",
    "#use k-fold CV to evaluate model\n",
    "scores = cross_val_score(model, X_test, y_test, scoring='neg_mean_absolute_error',\n",
    "                         cv=cv, n_jobs=-1)\n",
    "\n",
    "#view mean absolute error\n",
    "print('Linear Model Cross-validation MAE is: ',mean(absolute(scores)))"
   ]
  },
  {
   "cell_type": "markdown",
   "id": "a767836f",
   "metadata": {},
   "source": [
    "##### Ridge/Lasso Regression"
   ]
  },
  {
   "cell_type": "code",
   "execution_count": 164,
   "id": "09704e30",
   "metadata": {
    "scrolled": true
   },
   "outputs": [
    {
     "name": "stdout",
     "output_type": "stream",
     "text": [
      "Ridge Model RMSE is:  42.78167632101393\n",
      "Ridge Model R2 Score is:  0.0332592798752408\n",
      "Lasso Model RMSE is:  42.80647212357449\n",
      "Lasso Model R2 Score is:  0.03213832993659094\n"
     ]
    }
   ],
   "source": [
    "ridgereg = Ridge(alpha=0.001,normalize=True)\n",
    "ridge = ridgereg.fit(X_train,y_train)\n",
    "y_pred_ridge = ridge.predict(X_test)\n",
    "print('Ridge Model RMSE is: ',np.sqrt(mean_squared_error(y_test, y_pred_ridge)))\n",
    "print('Ridge Model R2 Score is: ',r2_score(y_test,y_pred_ridge))\n",
    "\n",
    "lassoreg = Lasso(alpha=0.001,normalize=True)\n",
    "lasso = lassoreg.fit(X_train,y_train)\n",
    "y_pred_lasso = lasso.predict(X_test)\n",
    "print('Lasso Model RMSE is: ',np.sqrt(mean_squared_error(y_test, y_pred_lasso)))\n",
    "print('Lasso Model R2 Score is: ',r2_score(y_test,y_pred_lasso))"
   ]
  },
  {
   "cell_type": "code",
   "execution_count": 165,
   "id": "8a429e6e",
   "metadata": {},
   "outputs": [
    {
     "name": "stdout",
     "output_type": "stream",
     "text": [
      "Ridge Model Cross-validation MAE is:  23.89446413866511\n",
      "Lasso Model Cross-validation MAE is:  23.871559659435132\n"
     ]
    }
   ],
   "source": [
    "#define cross-validation method to use\n",
    "cv = KFold(n_splits=10, random_state=1, shuffle=True)\n",
    "\n",
    "#build multiple ridge regression model\n",
    "model = ridgereg\n",
    "\n",
    "#use k-fold CV to evaluate model\n",
    "scores = cross_val_score(model, X_test, y_test, scoring='neg_mean_absolute_error',\n",
    "                         cv=cv, n_jobs=-1)\n",
    "\n",
    "#view mean absolute error\n",
    "print('Ridge Model Cross-validation MAE is: ',mean(absolute(scores)))\n",
    "\n",
    "#build multiple lassp regression model\n",
    "model = lassoreg\n",
    "\n",
    "#use k-fold CV to evaluate model\n",
    "scores = cross_val_score(model, X_test, y_test, scoring='neg_mean_absolute_error',\n",
    "                         cv=cv, n_jobs=-1)\n",
    "\n",
    "#view mean absolute error\n",
    "print('Lasso Model Cross-validation MAE is: ',mean(absolute(scores)))"
   ]
  },
  {
   "cell_type": "code",
   "execution_count": null,
   "id": "a80cb485",
   "metadata": {},
   "outputs": [],
   "source": []
  }
 ],
 "metadata": {
  "kernelspec": {
   "display_name": "LighthouseLabs",
   "language": "python",
   "name": "lighthouselabs"
  },
  "language_info": {
   "codemirror_mode": {
    "name": "ipython",
    "version": 3
   },
   "file_extension": ".py",
   "mimetype": "text/x-python",
   "name": "python",
   "nbconvert_exporter": "python",
   "pygments_lexer": "ipython3",
   "version": "3.8.2"
  }
 },
 "nbformat": 4,
 "nbformat_minor": 5
}
