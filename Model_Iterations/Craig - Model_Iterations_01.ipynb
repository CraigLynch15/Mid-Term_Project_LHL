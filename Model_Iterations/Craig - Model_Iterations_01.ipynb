{
 "cells": [
  {
   "cell_type": "markdown",
   "id": "340d7aff",
   "metadata": {},
   "source": [
    "# Optimizing Model - Creating Average Flight Delays"
   ]
  },
  {
   "cell_type": "code",
   "execution_count": 1,
   "id": "f433a726",
   "metadata": {},
   "outputs": [],
   "source": [
    "import pandas as pd\n",
    "import numpy as np\n",
    "import psycopg2\n",
    "import matplotlib.pyplot as plt\n",
    "import seaborn as sns\n",
    "%matplotlib inline\n",
    "import datetime\n",
    "from scipy import stats\n",
    "from sklearn.model_selection import train_test_split"
   ]
  },
  {
   "cell_type": "code",
   "execution_count": 2,
   "id": "11e028b3",
   "metadata": {},
   "outputs": [],
   "source": [
    "data_flight_info = pd.read_csv('/Users/craiglynch/Desktop/Lighthouse_Labs/Mid-term_Project/mid-term-project-I-master/data_for_model_iterations_03.csv', sep = ',')"
   ]
  },
  {
   "cell_type": "code",
   "execution_count": 3,
   "id": "b51936e4",
   "metadata": {},
   "outputs": [],
   "source": [
    "df_flight_info = data_flight_info.copy()"
   ]
  },
  {
   "cell_type": "code",
   "execution_count": 4,
   "id": "958912c9",
   "metadata": {},
   "outputs": [
    {
     "data": {
      "text/html": [
       "<div>\n",
       "<style scoped>\n",
       "    .dataframe tbody tr th:only-of-type {\n",
       "        vertical-align: middle;\n",
       "    }\n",
       "\n",
       "    .dataframe tbody tr th {\n",
       "        vertical-align: top;\n",
       "    }\n",
       "\n",
       "    .dataframe thead th {\n",
       "        text-align: right;\n",
       "    }\n",
       "</style>\n",
       "<table border=\"1\" class=\"dataframe\">\n",
       "  <thead>\n",
       "    <tr style=\"text-align: right;\">\n",
       "      <th></th>\n",
       "      <th>fl_date</th>\n",
       "      <th>mkt_unique_carrier</th>\n",
       "      <th>op_unique_carrier</th>\n",
       "      <th>op_carrier_fl_num</th>\n",
       "      <th>origin</th>\n",
       "      <th>dep_time</th>\n",
       "      <th>crs_dep_time</th>\n",
       "      <th>dep_delay</th>\n",
       "      <th>dest</th>\n",
       "      <th>arr_time</th>\n",
       "      <th>...</th>\n",
       "      <th>carrier_delay</th>\n",
       "      <th>weather_delay</th>\n",
       "      <th>nas_delay</th>\n",
       "      <th>security_delay</th>\n",
       "      <th>late_aircraft_delay</th>\n",
       "      <th>year</th>\n",
       "      <th>month</th>\n",
       "      <th>day</th>\n",
       "      <th>weekday</th>\n",
       "      <th>total_carrier_delay</th>\n",
       "    </tr>\n",
       "  </thead>\n",
       "  <tbody>\n",
       "    <tr>\n",
       "      <th>978881</th>\n",
       "      <td>2019-08-08</td>\n",
       "      <td>HA</td>\n",
       "      <td>HA</td>\n",
       "      <td>18</td>\n",
       "      <td>HNL</td>\n",
       "      <td>1456.0</td>\n",
       "      <td>1500</td>\n",
       "      <td>-4.0</td>\n",
       "      <td>LAS</td>\n",
       "      <td>2331.0</td>\n",
       "      <td>...</td>\n",
       "      <td>0.0</td>\n",
       "      <td>0.0</td>\n",
       "      <td>0.0</td>\n",
       "      <td>0.0</td>\n",
       "      <td>0.0</td>\n",
       "      <td>2019</td>\n",
       "      <td>8</td>\n",
       "      <td>8</td>\n",
       "      <td>0.0</td>\n",
       "      <td>8.817211</td>\n",
       "    </tr>\n",
       "    <tr>\n",
       "      <th>978882</th>\n",
       "      <td>2018-03-12</td>\n",
       "      <td>HA</td>\n",
       "      <td>HA</td>\n",
       "      <td>22</td>\n",
       "      <td>HNL</td>\n",
       "      <td>1326.0</td>\n",
       "      <td>1325</td>\n",
       "      <td>1.0</td>\n",
       "      <td>SEA</td>\n",
       "      <td>2157.0</td>\n",
       "      <td>...</td>\n",
       "      <td>0.0</td>\n",
       "      <td>0.0</td>\n",
       "      <td>0.0</td>\n",
       "      <td>0.0</td>\n",
       "      <td>0.0</td>\n",
       "      <td>2018</td>\n",
       "      <td>3</td>\n",
       "      <td>12</td>\n",
       "      <td>0.0</td>\n",
       "      <td>8.817211</td>\n",
       "    </tr>\n",
       "    <tr>\n",
       "      <th>978883</th>\n",
       "      <td>2019-07-14</td>\n",
       "      <td>HA</td>\n",
       "      <td>HA</td>\n",
       "      <td>12</td>\n",
       "      <td>HNL</td>\n",
       "      <td>1327.0</td>\n",
       "      <td>1315</td>\n",
       "      <td>12.0</td>\n",
       "      <td>SFO</td>\n",
       "      <td>2141.0</td>\n",
       "      <td>...</td>\n",
       "      <td>0.0</td>\n",
       "      <td>0.0</td>\n",
       "      <td>0.0</td>\n",
       "      <td>0.0</td>\n",
       "      <td>0.0</td>\n",
       "      <td>2019</td>\n",
       "      <td>7</td>\n",
       "      <td>14</td>\n",
       "      <td>1.0</td>\n",
       "      <td>8.817211</td>\n",
       "    </tr>\n",
       "    <tr>\n",
       "      <th>978884</th>\n",
       "      <td>2018-10-26</td>\n",
       "      <td>HA</td>\n",
       "      <td>HA</td>\n",
       "      <td>18</td>\n",
       "      <td>HNL</td>\n",
       "      <td>1503.0</td>\n",
       "      <td>1510</td>\n",
       "      <td>-7.0</td>\n",
       "      <td>LAS</td>\n",
       "      <td>2329.0</td>\n",
       "      <td>...</td>\n",
       "      <td>0.0</td>\n",
       "      <td>0.0</td>\n",
       "      <td>0.0</td>\n",
       "      <td>0.0</td>\n",
       "      <td>0.0</td>\n",
       "      <td>2018</td>\n",
       "      <td>10</td>\n",
       "      <td>26</td>\n",
       "      <td>0.0</td>\n",
       "      <td>8.817211</td>\n",
       "    </tr>\n",
       "    <tr>\n",
       "      <th>978885</th>\n",
       "      <td>2019-08-06</td>\n",
       "      <td>HA</td>\n",
       "      <td>HA</td>\n",
       "      <td>34</td>\n",
       "      <td>OGG</td>\n",
       "      <td>1401.0</td>\n",
       "      <td>1345</td>\n",
       "      <td>16.0</td>\n",
       "      <td>LAX</td>\n",
       "      <td>2214.0</td>\n",
       "      <td>...</td>\n",
       "      <td>0.0</td>\n",
       "      <td>0.0</td>\n",
       "      <td>0.0</td>\n",
       "      <td>0.0</td>\n",
       "      <td>0.0</td>\n",
       "      <td>2019</td>\n",
       "      <td>8</td>\n",
       "      <td>6</td>\n",
       "      <td>0.0</td>\n",
       "      <td>8.817211</td>\n",
       "    </tr>\n",
       "  </tbody>\n",
       "</table>\n",
       "<p>5 rows × 25 columns</p>\n",
       "</div>"
      ],
      "text/plain": [
       "           fl_date mkt_unique_carrier op_unique_carrier  op_carrier_fl_num  \\\n",
       "978881  2019-08-08                 HA                HA                 18   \n",
       "978882  2018-03-12                 HA                HA                 22   \n",
       "978883  2019-07-14                 HA                HA                 12   \n",
       "978884  2018-10-26                 HA                HA                 18   \n",
       "978885  2019-08-06                 HA                HA                 34   \n",
       "\n",
       "       origin  dep_time  crs_dep_time  dep_delay dest  arr_time  ...  \\\n",
       "978881    HNL    1456.0          1500       -4.0  LAS    2331.0  ...   \n",
       "978882    HNL    1326.0          1325        1.0  SEA    2157.0  ...   \n",
       "978883    HNL    1327.0          1315       12.0  SFO    2141.0  ...   \n",
       "978884    HNL    1503.0          1510       -7.0  LAS    2329.0  ...   \n",
       "978885    OGG    1401.0          1345       16.0  LAX    2214.0  ...   \n",
       "\n",
       "        carrier_delay  weather_delay  nas_delay  security_delay  \\\n",
       "978881            0.0            0.0        0.0             0.0   \n",
       "978882            0.0            0.0        0.0             0.0   \n",
       "978883            0.0            0.0        0.0             0.0   \n",
       "978884            0.0            0.0        0.0             0.0   \n",
       "978885            0.0            0.0        0.0             0.0   \n",
       "\n",
       "        late_aircraft_delay  year  month  day  weekday  total_carrier_delay  \n",
       "978881                  0.0  2019      8    8      0.0             8.817211  \n",
       "978882                  0.0  2018      3   12      0.0             8.817211  \n",
       "978883                  0.0  2019      7   14      1.0             8.817211  \n",
       "978884                  0.0  2018     10   26      0.0             8.817211  \n",
       "978885                  0.0  2019      8    6      0.0             8.817211  \n",
       "\n",
       "[5 rows x 25 columns]"
      ]
     },
     "execution_count": 4,
     "metadata": {},
     "output_type": "execute_result"
    }
   ],
   "source": [
    "df_flight_info.tail()"
   ]
  },
  {
   "cell_type": "code",
   "execution_count": 5,
   "id": "0b60780f",
   "metadata": {},
   "outputs": [],
   "source": [
    "## Grouping Delays\n",
    "\n",
    "# Finding average route times\n",
    "df_flight_info['flight_number'] = df_flight_info['op_unique_carrier'] + df_flight_info['op_carrier_fl_num'].astype(str)\n",
    "route_time_grouped = df_flight_info.groupby(by='flight_number').mean()\n",
    "route_time_grouped.reset_index(inplace=True)\n",
    "route_time_grouped['average_route_time'] = route_time_grouped['actual_elapsed_time']\n",
    "route_time_grouped = route_time_grouped[['flight_number','average_route_time']]"
   ]
  },
  {
   "cell_type": "code",
   "execution_count": 6,
   "id": "d871d212",
   "metadata": {},
   "outputs": [],
   "source": [
    "# Getting Average NAS Delay - Grouped by Flight Number\n",
    "nas_grouped = df_flight_info.groupby(by='flight_number').mean()\n",
    "nas_grouped.reset_index(inplace=True)\n",
    "nas_grouped['total_nas_delay'] = nas_grouped['nas_delay']\n",
    "nas_grouped = nas_grouped[['flight_number', 'total_nas_delay']]\n",
    "\n",
    "\n",
    "# Getting Average Security Delay\n",
    "security_grouped = df_flight_info.groupby(by='origin').mean()\n",
    "security_grouped.reset_index(inplace=True)\n",
    "security_grouped['total_security_delay'] = security_grouped['security_delay']\n",
    "security_grouped = security_grouped[['origin','total_security_delay']]\n",
    "\n",
    "# Getting Average Departure Delays by Route\n",
    "dep_delay_grouped = df_flight_info.groupby(by='flight_number').mean()\n",
    "dep_delay_grouped.reset_index(inplace=True)\n",
    "dep_delay_grouped['total_dep_delay'] = dep_delay_grouped['dep_delay']\n",
    "dep_delay_grouped = dep_delay_grouped[['flight_number','total_dep_delay']]\n",
    "\n",
    "# Getting Average Arrival Delays by Route\n",
    "arr_delay_grouped = df_flight_info.groupby(by='flight_number').mean()\n",
    "arr_delay_grouped.reset_index(inplace=True)\n",
    "arr_delay_grouped['total_arr_delay'] = arr_delay_grouped['arr_delay']\n",
    "arr_delay_grouped = arr_delay_grouped[['flight_number','total_arr_delay']]\n",
    "\n",
    "#Merge averages dataframes with original \n",
    "df_flight_info = df_flight_info.merge(security_grouped, on = 'origin', how = 'outer')\n",
    "df_flight_info = df_flight_info.merge(nas_grouped, on = 'flight_number', how = 'outer')\n",
    "df_flight_info = df_flight_info.merge(route_time_grouped, on = 'flight_number', how = 'outer')\n",
    "df_flight_info = df_flight_info.merge(dep_delay_grouped, on = 'flight_number', how = 'outer')\n",
    "df_flight_info = df_flight_info.merge(arr_delay_grouped, on = 'flight_number', how = 'outer')"
   ]
  },
  {
   "cell_type": "markdown",
   "id": "0bf91388",
   "metadata": {},
   "source": [
    "## Model Training"
   ]
  },
  {
   "cell_type": "code",
   "execution_count": 7,
   "id": "704e029b",
   "metadata": {},
   "outputs": [],
   "source": [
    "from sklearn.ensemble import RandomForestRegressor\n",
    "from sklearn.metrics import roc_auc_score\n",
    "from sklearn.metrics import confusion_matrix\n",
    "from sklearn.metrics import mean_squared_error\n",
    "from sklearn.linear_model import LinearRegression\n",
    "from sklearn.preprocessing import StandardScaler\n",
    "from sklearn.naive_bayes import GaussianNB\n",
    "from sklearn.metrics import accuracy_score, recall_score, precision_score, r2_score, f1_score\n",
    "import xgboost as xgb\n",
    "from sklearn.linear_model import LogisticRegression\n",
    "from sklearn.dummy import DummyRegressor\n",
    "from sklearn.cluster import KMeans\n",
    "from sklearn.model_selection import GridSearchCV\n",
    "from sklearn.preprocessing import OneHotEncoder, LabelEncoder\n",
    "from sklearn.linear_model import Ridge, LinearRegression, Lasso\n",
    "from sklearn.preprocessing import PolynomialFeatures\n",
    "from sklearn.utils import shuffle"
   ]
  },
  {
   "cell_type": "code",
   "execution_count": 8,
   "id": "3fda2d76",
   "metadata": {},
   "outputs": [],
   "source": [
    "df_flight_info[\"flight_number\"] = df_flight_info[\"flight_number\"].astype('category').cat.codes"
   ]
  },
  {
   "cell_type": "code",
   "execution_count": 9,
   "id": "61dabe6b",
   "metadata": {},
   "outputs": [
    {
     "data": {
      "text/html": [
       "<div>\n",
       "<style scoped>\n",
       "    .dataframe tbody tr th:only-of-type {\n",
       "        vertical-align: middle;\n",
       "    }\n",
       "\n",
       "    .dataframe tbody tr th {\n",
       "        vertical-align: top;\n",
       "    }\n",
       "\n",
       "    .dataframe thead th {\n",
       "        text-align: right;\n",
       "    }\n",
       "</style>\n",
       "<table border=\"1\" class=\"dataframe\">\n",
       "  <thead>\n",
       "    <tr style=\"text-align: right;\">\n",
       "      <th></th>\n",
       "      <th>fl_date</th>\n",
       "      <th>mkt_unique_carrier</th>\n",
       "      <th>op_unique_carrier</th>\n",
       "      <th>op_carrier_fl_num</th>\n",
       "      <th>origin</th>\n",
       "      <th>dep_time</th>\n",
       "      <th>crs_dep_time</th>\n",
       "      <th>dep_delay</th>\n",
       "      <th>dest</th>\n",
       "      <th>arr_time</th>\n",
       "      <th>...</th>\n",
       "      <th>month</th>\n",
       "      <th>day</th>\n",
       "      <th>weekday</th>\n",
       "      <th>total_carrier_delay</th>\n",
       "      <th>flight_number</th>\n",
       "      <th>total_security_delay</th>\n",
       "      <th>total_nas_delay</th>\n",
       "      <th>average_route_time</th>\n",
       "      <th>total_dep_delay</th>\n",
       "      <th>total_arr_delay</th>\n",
       "    </tr>\n",
       "  </thead>\n",
       "  <tbody>\n",
       "    <tr>\n",
       "      <th>0</th>\n",
       "      <td>2018-10-19</td>\n",
       "      <td>NK</td>\n",
       "      <td>NK</td>\n",
       "      <td>169</td>\n",
       "      <td>IAH</td>\n",
       "      <td>1433.0</td>\n",
       "      <td>1435</td>\n",
       "      <td>-2.0</td>\n",
       "      <td>LAS</td>\n",
       "      <td>1552.0</td>\n",
       "      <td>...</td>\n",
       "      <td>10</td>\n",
       "      <td>19</td>\n",
       "      <td>0.0</td>\n",
       "      <td>5.841662</td>\n",
       "      <td>14561</td>\n",
       "      <td>0.00354</td>\n",
       "      <td>0.723404</td>\n",
       "      <td>204.553191</td>\n",
       "      <td>6.319149</td>\n",
       "      <td>-0.170213</td>\n",
       "    </tr>\n",
       "  </tbody>\n",
       "</table>\n",
       "<p>1 rows × 31 columns</p>\n",
       "</div>"
      ],
      "text/plain": [
       "      fl_date mkt_unique_carrier op_unique_carrier  op_carrier_fl_num origin  \\\n",
       "0  2018-10-19                 NK                NK                169    IAH   \n",
       "\n",
       "   dep_time  crs_dep_time  dep_delay dest  arr_time  ...  month  day  weekday  \\\n",
       "0    1433.0          1435       -2.0  LAS    1552.0  ...     10   19      0.0   \n",
       "\n",
       "   total_carrier_delay  flight_number  total_security_delay  total_nas_delay  \\\n",
       "0             5.841662          14561               0.00354         0.723404   \n",
       "\n",
       "   average_route_time  total_dep_delay  total_arr_delay  \n",
       "0          204.553191         6.319149        -0.170213  \n",
       "\n",
       "[1 rows x 31 columns]"
      ]
     },
     "execution_count": 9,
     "metadata": {},
     "output_type": "execute_result"
    }
   ],
   "source": [
    "df_flight_info.head(1)"
   ]
  },
  {
   "cell_type": "code",
   "execution_count": 10,
   "id": "eb8a63f2",
   "metadata": {},
   "outputs": [],
   "source": [
    "df_flight_info = shuffle(df_flight_info)\n",
    "X = df_flight_info[['crs_dep_time','flight_number','crs_elapsed_time','average_route_time','crs_arr_time','distance','total_carrier_delay', 'total_security_delay','total_nas_delay','total_dep_delay','total_arr_delay']]\n",
    "y = df_flight_info['arr_delay']"
   ]
  },
  {
   "cell_type": "code",
   "execution_count": 11,
   "id": "c0b31094",
   "metadata": {},
   "outputs": [],
   "source": [
    "# Split dataset into training set and test set\n",
    "X_train, X_test, y_train, y_test = train_test_split(X, y, test_size=0.3) # 70% training and 30% test"
   ]
  },
  {
   "cell_type": "markdown",
   "id": "134e488f",
   "metadata": {},
   "source": [
    "##### LightGBM"
   ]
  },
  {
   "cell_type": "code",
   "execution_count": 12,
   "id": "537eb4ce",
   "metadata": {},
   "outputs": [
    {
     "name": "stdout",
     "output_type": "stream",
     "text": [
      "[LightGBM] [Warning] Auto-choosing row-wise multi-threading, the overhead of testing was 0.006689 seconds.\n",
      "You can set `force_row_wise=true` to remove the overhead.\n",
      "And if memory is not enough, you can set `force_col_wise=true`.\n",
      "[LightGBM] [Info] Total Bins 2428\n",
      "[LightGBM] [Info] Number of data points in the train set: 685220, number of used features: 11\n",
      "[LightGBM] [Info] Start training from score 5.271411\n",
      "Model RMSE is:  42.70613750591222\n",
      "Model R2 Score is:  0.050942948614566275\n"
     ]
    }
   ],
   "source": [
    "import lightgbm as lgb\n",
    "d_train = lgb.Dataset(X_train, label=y_train)\n",
    "params = {}\n",
    "params['learning_rate'] = 0.08\n",
    "params['boosting_type'] = 'gbdt'\n",
    "#params['boosting_type'] = 'dart'\n",
    "params['objective'] = 'regression'\n",
    "params['metric'] = 'mse'\n",
    "params['sub_feature'] = 0.5\n",
    "params['num_leaves'] = 100\n",
    "params['min_data'] = 5\n",
    "params['max_depth'] = 100\n",
    "y_train=y_train.ravel()\n",
    "reg= lgb.train(params, d_train, 100)\n",
    "results=reg.predict(X_test)\n",
    "print('Model RMSE is: ',np.sqrt(mean_squared_error(y_test, results)))\n",
    "print('Model R2 Score is: ',r2_score(y_test,results))"
   ]
  },
  {
   "cell_type": "code",
   "execution_count": 13,
   "id": "7dafaa68",
   "metadata": {},
   "outputs": [
    {
     "name": "stdout",
     "output_type": "stream",
     "text": [
      "[LightGBM] [Warning] Unknown parameter: 0.01\n",
      "[LightGBM] [Warning] Unknown parameter: slient\n",
      "[LightGBM] [Warning] Unknown parameter: booster\n",
      "[LightGBM] [Warning] Unknown parameter: 0.8\n",
      "[LightGBM] [Warning] Unknown parameter: 0.01\n",
      "[LightGBM] [Warning] Unknown parameter: slient\n",
      "[LightGBM] [Warning] Unknown parameter: booster\n",
      "[LightGBM] [Warning] Unknown parameter: 0.8\n",
      "[LightGBM] [Warning] Auto-choosing col-wise multi-threading, the overhead of testing was 0.057707 seconds.\n",
      "You can set `force_col_wise=true` to remove the overhead.\n",
      "[LightGBM] [Info] Total Bins 2429\n",
      "[LightGBM] [Info] Number of data points in the train set: 685220, number of used features: 11\n",
      "[LightGBM] [Warning] Unknown parameter: 0.01\n",
      "[LightGBM] [Warning] Unknown parameter: slient\n",
      "[LightGBM] [Warning] Unknown parameter: booster\n",
      "[LightGBM] [Warning] Unknown parameter: 0.8\n",
      "[LightGBM] [Info] Start training from score 5.271411\n",
      "Training until validation scores don't improve for 100 rounds\n",
      "[100]\ttraining's l2: 1781.52\tvalid_1's l2: 1817.78\n",
      "Early stopping, best iteration is:\n",
      "[48]\ttraining's l2: 1793.66\tvalid_1's l2: 1815.84\n",
      "Model RMSE is:  42.61263182056947\n",
      "Model R2 Score is:  0.055094346236513436\n"
     ]
    },
    {
     "data": {
      "image/png": "[encoded data removed]",
      "text/plain": [
       "<Figure size 432x288 with 1 Axes>"
      ]
     },
     "metadata": {
      "needs_background": "light"
     },
     "output_type": "display_data"
    }
   ],
   "source": [
    "from lightgbm import plot_importance\n",
    "import matplotlib.pyplot  as plt\n",
    "\n",
    "\n",
    "\n",
    "params = {\n",
    "    'booster': 'rf',\n",
    "    'objective': 'regression',\n",
    "    'num_leaves': 31,\n",
    "    'subsample': 0.8,\n",
    "    'bagging_freq': 1,\n",
    "    'feature_fraction ': 0.8,\n",
    "    'slient': 1,\n",
    "    'learning_rate ': 0.01,\n",
    "    'seed': 0\n",
    "}\n",
    "\n",
    "\n",
    "# Construct training set\n",
    "dtrain = lgb.Dataset(X_train,y_train)\n",
    "dtest = lgb.Dataset(X_test,y_test)\n",
    "num_rounds = 500\n",
    "# xgboost model training\n",
    "model = lgb.train(params,dtrain, num_rounds, valid_sets=[dtrain, dtest], \n",
    "                  verbose_eval=100, early_stopping_rounds=100)\n",
    "\n",
    "# Make predictions on the test set\n",
    "y_pred = model.predict(X_test)\n",
    "print('Model RMSE is: ',np.sqrt(mean_squared_error(y_test, y_pred)))\n",
    "print('Model R2 Score is: ',r2_score(y_test,y_pred))\n",
    "\n",
    "# Show important features\n",
    "plot_importance(model)\n",
    "plt.show()"
   ]
  },
  {
   "cell_type": "markdown",
   "id": "283b9aff",
   "metadata": {},
   "source": [
    "##### XGBoost"
   ]
  },
  {
   "cell_type": "code",
   "execution_count": 14,
   "id": "259afee4",
   "metadata": {},
   "outputs": [
    {
     "name": "stdout",
     "output_type": "stream",
     "text": [
      "Model RMSE is:  42.97196449009156\n",
      "Model R2 Score is:  0.0390912490582378\n"
     ]
    }
   ],
   "source": [
    "data_dmatrix = xgb.DMatrix(data=X,label=y)\n",
    "xg_reg = xgb.XGBRegressor(objective ='reg:squarederror', colsample_bytree = 0.3, learning_rate = 0.1,\n",
    "                max_depth = 5, alpha = 10, n_estimators = 10)\n",
    "xg_reg.fit(X_test,y_test)\n",
    "\n",
    "y_pred_xgb = xg_reg.predict(X_test)\n",
    "\n",
    "print('Model RMSE is: ',np.sqrt(mean_squared_error(y_test, y_pred_xgb)))\n",
    "print('Model R2 Score is: ',r2_score(y_test,y_pred_xgb))"
   ]
  },
  {
   "cell_type": "code",
   "execution_count": 15,
   "id": "6fdeff77",
   "metadata": {},
   "outputs": [
    {
     "data": {
      "image/png": "[encoded data removed]",
      "text/plain": [
       "<Figure size 432x288 with 1 Axes>"
      ]
     },
     "metadata": {
      "needs_background": "light"
     },
     "output_type": "display_data"
    }
   ],
   "source": [
    "#Examine the importance of each feature column in the original data set with the model\n",
    "xgb.plot_importance(xg_reg)\n",
    "plt.rcParams['figure.figsize'] = [50, 50]\n",
    "plt.show()"
   ]
  },
  {
   "cell_type": "markdown",
   "id": "59ed5cea",
   "metadata": {},
   "source": [
    "##### Ridge Regression"
   ]
  },
  {
   "cell_type": "code",
   "execution_count": 16,
   "id": "310c1971",
   "metadata": {},
   "outputs": [],
   "source": [
    "# ss = StandardScaler()\n",
    "# X_scaled = ss.fit_transform(X)\n",
    "# # Split dataset into training set and test set\n",
    "# X_train_scaled, X_test_scaled, y_train_scaled, y_test_scaled = train_test_split(X_scaled, y, test_size=0.3) # 70% training and 30% test\n",
    "# ridgereg = Ridge(alpha=0.001,normalize=True)\n",
    "# poly = PolynomialFeatures(degree = 3)\n",
    "# X_ = poly.fit_transform(X_test_scaled)\n",
    "# results = ridgereg.fit(X_train_scaled,y_train_scaled)\n",
    "# y_pred_scaled = results.predict(X_test_scaled)\n",
    "# print('Model RMSE is: ',np.sqrt(mean_squared_error(y_test_scaled, y_pred_scaled)))\n",
    "# print('Model R2 Score is: ',r2_score(y_test_scaled,y_pred_scaled))"
   ]
  },
  {
   "cell_type": "markdown",
   "id": "9e8695b4",
   "metadata": {},
   "source": [
    "##### Random Forest"
   ]
  },
  {
   "cell_type": "code",
   "execution_count": 17,
   "id": "1acf12ab",
   "metadata": {},
   "outputs": [],
   "source": [
    "# #Create a Gaussian Regressor\n",
    "# clf=RandomForestRegressor(n_estimators=100)\n",
    "# #Train the model using the training sets \n",
    "# clf.fit(X_train,y_train)\n",
    "# y_pred=clf.predict(X_test)\n",
    "# print('Model RMSE is: ',np.sqrt(mean_squared_error(y_test, y_pred)))\n",
    "# print('Model R2 Score is: ',r2_score(y_test,y_pred))"
   ]
  },
  {
   "cell_type": "code",
   "execution_count": null,
   "id": "410897f2",
   "metadata": {},
   "outputs": [],
   "source": []
  }
 ],
 "metadata": {
  "kernelspec": {
   "display_name": "LighthouseLabs",
   "language": "python",
   "name": "lighthouselabs"
  },
  "language_info": {
   "codemirror_mode": {
    "name": "ipython",
    "version": 3
   },
   "file_extension": ".py",
   "mimetype": "text/x-python",
   "name": "python",
   "nbconvert_exporter": "python",
   "pygments_lexer": "ipython3",
   "version": "3.8.2"
  }
 },
 "nbformat": 4,
 "nbformat_minor": 5
}
