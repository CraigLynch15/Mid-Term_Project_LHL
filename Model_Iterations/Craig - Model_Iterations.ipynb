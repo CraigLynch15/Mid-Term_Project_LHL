{
 "cells": [
  {
   "cell_type": "code",
   "execution_count": 1,
   "id": "9ffa1d4b",
   "metadata": {},
   "outputs": [],
   "source": [
    "import pandas as pd\n",
    "import numpy as np\n",
    "import psycopg2\n",
    "import matplotlib.pyplot as plt\n",
    "import seaborn as sns\n",
    "%matplotlib inline\n",
    "import datetime\n",
    "from scipy import stats\n",
    "from sklearn.model_selection import train_test_split"
   ]
  },
  {
   "cell_type": "code",
   "execution_count": 2,
   "id": "9b698746",
   "metadata": {},
   "outputs": [],
   "source": [
    "data_flight_info = pd.read_csv('/Users/craiglynch/Desktop/Lighthouse_Labs/Mid-term_Project/mid-term-project-I-master/data_for_model_iterations_03.csv', sep = ',')"
   ]
  },
  {
   "cell_type": "code",
   "execution_count": 3,
   "id": "4ef9edb1",
   "metadata": {},
   "outputs": [
    {
     "data": {
      "text/plain": [
       "fl_date                0\n",
       "mkt_unique_carrier     0\n",
       "op_unique_carrier      0\n",
       "op_carrier_fl_num      0\n",
       "origin                 0\n",
       "dep_time               0\n",
       "crs_dep_time           0\n",
       "dep_delay              0\n",
       "dest                   0\n",
       "arr_time               0\n",
       "arr_delay              0\n",
       "crs_arr_time           0\n",
       "actual_elapsed_time    0\n",
       "crs_elapsed_time       0\n",
       "distance               0\n",
       "carrier_delay          0\n",
       "weather_delay          0\n",
       "nas_delay              0\n",
       "security_delay         0\n",
       "late_aircraft_delay    0\n",
       "year                   0\n",
       "month                  0\n",
       "day                    0\n",
       "weekday                0\n",
       "total_carrier_delay    0\n",
       "dtype: int64"
      ]
     },
     "execution_count": 3,
     "metadata": {},
     "output_type": "execute_result"
    }
   ],
   "source": [
    "df_flight_info = data_flight_info.copy()\n",
    "df_flight_info.isnull().sum()"
   ]
  },
  {
   "cell_type": "code",
   "execution_count": 11,
   "id": "a3f091cb",
   "metadata": {},
   "outputs": [],
   "source": [
    "# Getting Average NAS Delay\n",
    "nas_grouped = df_flight_info.groupby(by='weekday').mean()\n",
    "nas_grouped.reset_index(inplace=True)\n",
    "nas_grouped['total_nas_delay'] = nas_grouped['nas_delay']\n",
    "nas_grouped = nas_grouped.drop(columns = ['crs_dep_time','crs_elapsed_time', 'total_carrier_delay','dep_delay','arr_delay','dep_time','arr_time','crs_arr_time','actual_elapsed_time','distance','carrier_delay','nas_delay','security_delay','late_aircraft_delay','weather_delay','year','month','day','op_carrier_fl_num'])"
   ]
  },
  {
   "cell_type": "code",
   "execution_count": 12,
   "id": "6a0b3ebf",
   "metadata": {},
   "outputs": [],
   "source": [
    "# Getting Average Security Delay\n",
    "security_grouped = df_flight_info.groupby(by='origin').mean()\n",
    "security_grouped.reset_index(inplace=True)\n",
    "security_grouped['total_security_delay'] = security_grouped['security_delay']\n",
    "security_grouped = security_grouped.drop(columns = ['op_carrier_fl_num','crs_dep_time','crs_elapsed_time', 'total_carrier_delay','dep_delay','arr_delay','dep_time','arr_time','crs_arr_time','actual_elapsed_time','distance','carrier_delay','nas_delay','security_delay','late_aircraft_delay','weather_delay','year','month','day','weekday'])\n"
   ]
  },
  {
   "cell_type": "code",
   "execution_count": 13,
   "id": "31ae9cca",
   "metadata": {},
   "outputs": [],
   "source": [
    "# Finding average route times\n",
    "df_flight_info['flight_number'] = df_flight_info['op_unique_carrier'] + df_flight_info['op_carrier_fl_num'].astype(str)\n",
    "route_time_grouped = df_flight_info.groupby(by='flight_number').mean()\n",
    "route_time_grouped.reset_index(inplace=True)\n",
    "route_time_grouped['average_route_time'] = route_time_grouped['actual_elapsed_time']\n",
    "route_time_grouped = route_time_grouped[['flight_number','average_route_time']]"
   ]
  },
  {
   "cell_type": "code",
   "execution_count": 20,
   "id": "175c5782",
   "metadata": {},
   "outputs": [],
   "source": [
    "# Getting Average Departure Delays by Route\n",
    "dep_delay_grouped = df_flight_info.groupby(by='flight_number').mean()\n",
    "dep_delay_grouped.reset_index(inplace=True)\n",
    "dep_delay_grouped['total_dep_delay'] = dep_delay_grouped['dep_delay']\n",
    "dep_delay_grouped = dep_delay_grouped[['flight_number','total_dep_delay']]"
   ]
  },
  {
   "cell_type": "code",
   "execution_count": 22,
   "id": "5bc832e5",
   "metadata": {},
   "outputs": [],
   "source": [
    "# Getting Average Arrival Delays by Route\n",
    "arr_delay_grouped = df_flight_info.groupby(by='flight_number').mean()\n",
    "arr_delay_grouped.reset_index(inplace=True)\n",
    "arr_delay_grouped['total_arr_delay'] = arr_delay_grouped['arr_delay']\n",
    "arr_delay_grouped = arr_delay_grouped[['flight_number','total_arr_delay']]"
   ]
  },
  {
   "cell_type": "code",
   "execution_count": 23,
   "id": "dfa9b0e4",
   "metadata": {},
   "outputs": [],
   "source": [
    "#Merge averages dataframes with original \n",
    "df_flight_info = df_flight_info.merge(security_grouped, on = 'origin', how = 'outer')\n",
    "df_flight_info = df_flight_info.merge(nas_grouped, on = 'weekday', how = 'outer')\n",
    "df_flight_info = df_flight_info.merge(route_time_grouped, on = 'flight_number', how = 'outer')\n",
    "df_flight_info = df_flight_info.merge(dep_delay_grouped, on = 'flight_number', how = 'outer')\n",
    "df_flight_info = df_flight_info.merge(arr_delay_grouped, on = 'flight_number', how = 'outer')"
   ]
  },
  {
   "cell_type": "markdown",
   "id": "f0b264c3",
   "metadata": {},
   "source": [
    "# Model Training"
   ]
  },
  {
   "cell_type": "code",
   "execution_count": 32,
   "id": "c47ecb8e",
   "metadata": {},
   "outputs": [],
   "source": [
    "from sklearn.ensemble import RandomForestRegressor\n",
    "from sklearn.metrics import roc_auc_score\n",
    "from sklearn.metrics import confusion_matrix\n",
    "from sklearn.metrics import mean_squared_error\n",
    "from sklearn.linear_model import LinearRegression\n",
    "from sklearn.preprocessing import StandardScaler\n",
    "from sklearn.naive_bayes import GaussianNB\n",
    "from sklearn.metrics import accuracy_score, recall_score, precision_score, r2_score, f1_score\n",
    "import xgboost as xgb\n",
    "from sklearn.linear_model import LogisticRegression\n",
    "from sklearn.dummy import DummyRegressor\n",
    "from sklearn.cluster import KMeans\n",
    "from sklearn.model_selection import GridSearchCV\n",
    "from sklearn.preprocessing import OneHotEncoder, LabelEncoder\n",
    "from sklearn.linear_model import Ridge, LinearRegression, Lasso\n",
    "from sklearn.preprocessing import PolynomialFeatures\n",
    "from sklearn.utils import shuffle"
   ]
  },
  {
   "cell_type": "markdown",
   "id": "fcd8a6c9",
   "metadata": {},
   "source": [
    "## Feature Engineered Dataset"
   ]
  },
  {
   "cell_type": "markdown",
   "id": "f3bab044",
   "metadata": {},
   "source": [
    "####  with Flight Number (onehot), average_route_time, total_security_delay, total_nas_delay"
   ]
  },
  {
   "cell_type": "code",
   "execution_count": 33,
   "id": "3d0f40bc",
   "metadata": {},
   "outputs": [],
   "source": [
    "df_flight_info[\"flight_number\"] = df_flight_info[\"flight_number\"].astype('category').cat.codes"
   ]
  },
  {
   "cell_type": "code",
   "execution_count": 34,
   "id": "ef8ed6bf",
   "metadata": {},
   "outputs": [],
   "source": [
    "#### Shuffling dataset so model doesn't train on pattern"
   ]
  },
  {
   "cell_type": "code",
   "execution_count": 35,
   "id": "b14df273",
   "metadata": {},
   "outputs": [],
   "source": [
    "df_flight_info = shuffle(df_flight_info)\n",
    "X = df_flight_info[['crs_dep_time','flight_number','crs_elapsed_time','crs_arr_time','average_route_time','distance','year','month','day','weekday','total_carrier_delay', 'total_security_delay','total_nas_delay']]\n",
    "y = df_flight_info['arr_delay']"
   ]
  },
  {
   "cell_type": "code",
   "execution_count": 36,
   "id": "d1521ac8",
   "metadata": {},
   "outputs": [
    {
     "data": {
      "text/plain": [
       "(978886, 13)"
      ]
     },
     "execution_count": 36,
     "metadata": {},
     "output_type": "execute_result"
    }
   ],
   "source": [
    "X.shape"
   ]
  },
  {
   "cell_type": "code",
   "execution_count": 37,
   "id": "55bb3e28",
   "metadata": {},
   "outputs": [],
   "source": [
    "# Split dataset into training set and test set\n",
    "X_train, X_test, y_train, y_test = train_test_split(X, y, test_size=0.3) # 70% training and 30% test"
   ]
  },
  {
   "cell_type": "markdown",
   "id": "1f8b9d5d",
   "metadata": {},
   "source": [
    "##### LightGBM"
   ]
  },
  {
   "cell_type": "code",
   "execution_count": null,
   "id": "1290f71a",
   "metadata": {},
   "outputs": [
    {
     "name": "stdout",
     "output_type": "stream",
     "text": [
      "[LightGBM] [Warning] Auto-choosing row-wise multi-threading, the overhead of testing was 0.063017 seconds.\n",
      "You can set `force_row_wise=true` to remove the overhead.\n",
      "And if memory is not enough, you can set `force_col_wise=true`.\n",
      "[LightGBM] [Info] Total Bins 1716\n",
      "[LightGBM] [Info] Number of data points in the train set: 685220, number of used features: 13\n",
      "[LightGBM] [Info] Start training from score 5.264376\n"
     ]
    }
   ],
   "source": [
    "import lightgbm as lgb\n",
    "d_train = lgb.Dataset(X_train, label=y_train)\n",
    "params = {}\n",
    "params['learning_rate'] = 0.08\n",
    "params['boosting_type'] = 'gbdt'\n",
    "#params['boosting_type'] = 'dart'\n",
    "params['objective'] = 'regression'\n",
    "params['metric'] = 'mse'\n",
    "params['sub_feature'] = 0.5\n",
    "params['num_leaves'] = 100\n",
    "params['min_data'] = 5\n",
    "params['max_depth'] = 100\n",
    "y_train=y_train.ravel()\n",
    "reg= lgb.train(params, d_train, 100)\n",
    "results=reg.predict(X_test)\n",
    "print('Model RMSE is: ',np.sqrt(mean_squared_error(y_test, results)))\n",
    "print('Model R2 Score is: ',r2_score(y_test,results))"
   ]
  },
  {
   "cell_type": "code",
   "execution_count": null,
   "id": "481008b2",
   "metadata": {},
   "outputs": [],
   "source": [
    "from lightgbm import plot_importance\n",
    "import matplotlib.pyplot  as plt\n",
    "\n",
    "\n",
    "\n",
    "params = {\n",
    "    'booster': 'rf',\n",
    "    'objective': 'regression',\n",
    "    'num_leaves': 31,\n",
    "    'subsample': 0.8,\n",
    "    'bagging_freq': 1,\n",
    "    'feature_fraction ': 0.8,\n",
    "    'slient': 1,\n",
    "    'learning_rate ': 0.01,\n",
    "    'seed': 0\n",
    "}\n",
    "\n",
    "\n",
    "# Construct training set\n",
    "dtrain = lgb.Dataset(X_train,y_train)\n",
    "dtest = lgb.Dataset(X_test,y_test)\n",
    "num_rounds = 500\n",
    "# xgboost model training\n",
    "model = lgb.train(params,dtrain, num_rounds, valid_sets=[dtrain, dtest], \n",
    "                  verbose_eval=100, early_stopping_rounds=100)\n",
    "\n",
    "# Make predictions on the test set\n",
    "y_pred = model.predict(X_test)\n",
    "print('Model RMSE is: ',np.sqrt(mean_squared_error(y_test, y_pred)))\n",
    "print('Model R2 Score is: ',r2_score(y_test,y_pred))\n",
    "\n",
    "# Show important features\n",
    "plot_importance(model)\n",
    "plt.show()"
   ]
  },
  {
   "cell_type": "markdown",
   "id": "7ad6e4ec",
   "metadata": {},
   "source": [
    "##### XGBoost"
   ]
  },
  {
   "cell_type": "code",
   "execution_count": null,
   "id": "c6515e9e",
   "metadata": {},
   "outputs": [],
   "source": [
    "data_dmatrix = xgb.DMatrix(data=X,label=y)\n",
    "xg_reg = xgb.XGBRegressor(objective ='reg:squarederror', colsample_bytree = 0.3, learning_rate = 0.1,\n",
    "                max_depth = 5, alpha = 10, n_estimators = 10)\n",
    "xg_reg.fit(X_test,y_test)\n",
    "\n",
    "y_pred_xgb = xg_reg.predict(X_test)\n",
    "\n",
    "print('Model RMSE is: ',np.sqrt(mean_squared_error(y_test, y_pred_xgb)))\n",
    "print('Model R2 Score is: ',r2_score(y_test,y_pred_xgb))"
   ]
  },
  {
   "cell_type": "code",
   "execution_count": null,
   "id": "d40e0d38",
   "metadata": {},
   "outputs": [],
   "source": [
    "#Examine the importance of each feature column in the original data set with the model\n",
    "xgb.plot_importance(xg_reg)\n",
    "plt.rcParams['figure.figsize'] = [50, 50]\n",
    "plt.show()"
   ]
  },
  {
   "cell_type": "markdown",
   "id": "79f1d56c",
   "metadata": {},
   "source": [
    "##### Ridge Regression"
   ]
  },
  {
   "cell_type": "code",
   "execution_count": null,
   "id": "c116fd75",
   "metadata": {},
   "outputs": [],
   "source": [
    "# ss = StandardScaler()\n",
    "# X_scaled = ss.fit_transform(X)\n",
    "# # Split dataset into training set and test set\n",
    "# X_train_scaled, X_test_scaled, y_train_scaled, y_test_scaled = train_test_split(X_scaled, y, test_size=0.3) # 70% training and 30% test"
   ]
  },
  {
   "cell_type": "code",
   "execution_count": null,
   "id": "6daef295",
   "metadata": {},
   "outputs": [],
   "source": [
    "# ridgereg = Ridge(alpha=0.001,normalize=True)\n",
    "# poly = PolynomialFeatures(degree = 3)\n",
    "# X_ = poly.fit_transform(X_test_scaled)\n",
    "# results = ridgereg.fit(X_train_scaled,y_train_scaled)\n",
    "# y_pred_scaled = results.predict(X_test_scaled)"
   ]
  },
  {
   "cell_type": "code",
   "execution_count": null,
   "id": "242b737c",
   "metadata": {},
   "outputs": [],
   "source": [
    "# print('Model RMSE is: ',np.sqrt(mean_squared_error(y_test_scaled, y_pred_scaled)))\n",
    "# print('Model R2 Score is: ',r2_score(y_test_scaled,y_pred_scaled))"
   ]
  },
  {
   "cell_type": "markdown",
   "id": "f594e4f1",
   "metadata": {},
   "source": [
    "##### Random Forest"
   ]
  },
  {
   "cell_type": "code",
   "execution_count": null,
   "id": "516d646a",
   "metadata": {},
   "outputs": [],
   "source": [
    "# #Create a Gaussian Regressor\n",
    "# clf=RandomForestRegressor(n_estimators=100)\n",
    "# #Train the model using the training sets \n",
    "# clf.fit(X_train,y_train)\n",
    "# y_pred=clf.predict(X_test)\n",
    "# print('Model RMSE is: ',np.sqrt(mean_squared_error(y_test, y_pred)))\n",
    "# print('Model R2 Score is: ',r2_score(y_test,y_pred))"
   ]
  },
  {
   "cell_type": "code",
   "execution_count": null,
   "id": "59d693c2",
   "metadata": {},
   "outputs": [],
   "source": []
  },
  {
   "cell_type": "code",
   "execution_count": null,
   "id": "ec75cf79",
   "metadata": {},
   "outputs": [],
   "source": []
  },
  {
   "cell_type": "code",
   "execution_count": null,
   "id": "d67c3055",
   "metadata": {},
   "outputs": [],
   "source": []
  }
 ],
 "metadata": {
  "kernelspec": {
   "display_name": "LighthouseLabs",
   "language": "python",
   "name": "lighthouselabs"
  },
  "language_info": {
   "codemirror_mode": {
    "name": "ipython",
    "version": 3
   },
   "file_extension": ".py",
   "mimetype": "text/x-python",
   "name": "python",
   "nbconvert_exporter": "python",
   "pygments_lexer": "ipython3",
   "version": "3.8.2"
  }
 },
 "nbformat": 4,
 "nbformat_minor": 5
}
