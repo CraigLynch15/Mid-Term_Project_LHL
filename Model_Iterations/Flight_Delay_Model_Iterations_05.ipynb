{
 "cells": [
  {
   "cell_type": "markdown",
   "id": "3a2c9b6d",
   "metadata": {},
   "source": [
    "# Optimizing Model - Optuna Parameter Optimization for LightGBM"
   ]
  },
  {
   "cell_type": "code",
   "execution_count": 126,
   "id": "3adfcaa8",
   "metadata": {},
   "outputs": [],
   "source": [
    "## Model Iteration 5\n",
    "## Feature Eng: Parameter optimization using Optuna model for LightGBM,  \n",
    "##              Parameter optimization using gridsearchcv model for XGBoost,  \n",
    "## Purpose: To measure the effects of parameter optimization\n",
    "## Results : \n",
    "##      LightGBM Model RMSE is:  36.81037880022666 (-4.19% change)\n",
    "##      LightGBM Model R2 Score is:  0.25150748630315467 (34.70% change)\n",
    "##      LightGBM Model Cross-validation MAE is: 21.608509540616378 (-2.54% change)\n",
    "##      XGBoostModel RMSE is:  41.648609711673814\n",
    "##      XGBoost Model R2 Score is:  0.05225789444813955\n",
    "##      XGBoost Model Cross-validation MAE is: 22.453367"
   ]
  },
  {
   "cell_type": "code",
   "execution_count": 127,
   "id": "8abd41f6",
   "metadata": {},
   "outputs": [],
   "source": [
    "import pandas as pd\n",
    "import numpy as np\n",
    "import psycopg2\n",
    "import matplotlib.pyplot as plt\n",
    "import seaborn as sns\n",
    "%matplotlib inline\n",
    "import datetime\n",
    "from scipy import stats\n",
    "from sklearn.model_selection import train_test_split"
   ]
  },
  {
   "cell_type": "code",
   "execution_count": 128,
   "id": "0515bfae",
   "metadata": {},
   "outputs": [],
   "source": [
    "data_flight_info = pd.read_csv('/Users/craiglynch/Desktop/Lighthouse_Labs/Mid-term_Project/mid-term-project-I-master/Regression_no_outliers_cleaned_data_03.csv', sep = ',')"
   ]
  },
  {
   "cell_type": "code",
   "execution_count": 129,
   "id": "8467b091",
   "metadata": {},
   "outputs": [
    {
     "data": {
      "text/plain": [
       "(979648, 24)"
      ]
     },
     "execution_count": 129,
     "metadata": {},
     "output_type": "execute_result"
    }
   ],
   "source": [
    "data_flight_info.shape"
   ]
  },
  {
   "cell_type": "code",
   "execution_count": 130,
   "id": "f3da1a71",
   "metadata": {},
   "outputs": [],
   "source": [
    "data_weather = pd.read_csv('/Users/craiglynch/Desktop/Lighthouse_Labs/Mid-term_Project/mid-term-project-I-master/weather.csv', sep = ',')"
   ]
  },
  {
   "cell_type": "code",
   "execution_count": 131,
   "id": "39d870cf",
   "metadata": {},
   "outputs": [
    {
     "data": {
      "text/plain": [
       "(14099, 39)"
      ]
     },
     "execution_count": 131,
     "metadata": {},
     "output_type": "execute_result"
    }
   ],
   "source": [
    "data_weather.shape"
   ]
  },
  {
   "cell_type": "code",
   "execution_count": 132,
   "id": "8c279094",
   "metadata": {},
   "outputs": [],
   "source": [
    "df_flight_info = data_flight_info.copy()\n",
    "df_weather = data_weather.copy()"
   ]
  },
  {
   "cell_type": "code",
   "execution_count": 133,
   "id": "688b423e",
   "metadata": {},
   "outputs": [
    {
     "data": {
      "text/plain": [
       "ATL    48923\n",
       "ORD    48428\n",
       "DFW    35688\n",
       "DEN    33907\n",
       "LAX    30969\n",
       "CLT    30851\n",
       "SEA    23313\n",
       "PHX    22252\n",
       "SFO    22183\n",
       "IAH    22017\n",
       "DTW    21795\n",
       "LAS    20661\n",
       "LGA    20597\n",
       "MSP    19965\n",
       "EWR    19453\n",
       "BOS    18365\n",
       "MCO    17474\n",
       "DCA    17438\n",
       "Name: origin, dtype: int64"
      ]
     },
     "execution_count": 133,
     "metadata": {},
     "output_type": "execute_result"
    }
   ],
   "source": [
    "#Only want top 19 busiest airports\n",
    "airports = ['ORD','ATL','DFW','DEN','LAX','CLT','SEA','SFO','EWR','LGA','PHX','IAH','LAS','BOS','MCO','DTW','PHIL','DCA','MSP']\n",
    "df_flight_info = df_flight_info[df_flight_info['origin'].isin(airports)]\n",
    "df_flight_info.origin.value_counts()"
   ]
  },
  {
   "cell_type": "code",
   "execution_count": 134,
   "id": "ffd9ec3a",
   "metadata": {},
   "outputs": [
    {
     "data": {
      "text/plain": [
       "sunny     5503\n",
       "cloudy    4324\n",
       "rain      2860\n",
       "snow      1412\n",
       "Name: weather_type, dtype: int64"
      ]
     },
     "execution_count": 134,
     "metadata": {},
     "output_type": "execute_result"
    }
   ],
   "source": [
    "df_weather['value'] = df_weather['value'].str.lower()\n",
    "# create a list of our conditions\n",
    "conditions = [\n",
    "    (df_weather['value'].str.contains('sunny')),\n",
    "    (df_weather['value'].str.contains('cloud')),\n",
    "    (df_weather['value'].str.contains('mist')),\n",
    "    (df_weather['value'].str.contains('fog')),\n",
    "    (df_weather['value'].str.contains('overcast')),\n",
    "    (df_weather['value'].str.contains('rain')),\n",
    "    (df_weather['value'].str.contains('drizzle')),\n",
    "    (df_weather['value'].str.contains('thunder')),\n",
    "    (df_weather['value'].str.contains('snow')),\n",
    "    (df_weather['value'].str.contains('sleet')),\n",
    "    (df_weather['value'].str.contains('blizzard')),\n",
    "    ]\n",
    "\n",
    "# create a list of the values we want to assign for each condition\n",
    "values = ['sunny', 'cloudy', 'cloudy','cloudy','cloudy','rain','rain','rain','snow','snow','snow']\n",
    "\n",
    "# create a new column and use np.select to assign values to it using our lists as arguments\n",
    "df_weather['weather_type'] = np.select(conditions, values)\n",
    "df_weather['weather_type'].value_counts()"
   ]
  },
  {
   "cell_type": "code",
   "execution_count": 135,
   "id": "c0bce729",
   "metadata": {},
   "outputs": [
    {
     "data": {
      "text/plain": [
       "14099"
      ]
     },
     "execution_count": 135,
     "metadata": {},
     "output_type": "execute_result"
    }
   ],
   "source": [
    "df_weather['value'].value_counts().sum()"
   ]
  },
  {
   "cell_type": "code",
   "execution_count": 136,
   "id": "9f53ed6d",
   "metadata": {},
   "outputs": [],
   "source": [
    "# Creating year, month, date columns\n",
    "df_weather['year'] = pd.DatetimeIndex(df_weather['date']).year\n",
    "df_weather['month'] = pd.DatetimeIndex(df_weather['date']).month\n",
    "df_weather['day'] = pd.DatetimeIndex(df_weather['date']).day\n",
    "df_weather['weekday'] = ((pd.DatetimeIndex(df_weather['date']).dayofweek))"
   ]
  },
  {
   "cell_type": "markdown",
   "id": "fbc32db9",
   "metadata": {},
   "source": [
    "#### Merging weather data with flight data"
   ]
  },
  {
   "cell_type": "code",
   "execution_count": 137,
   "id": "305b8d54",
   "metadata": {},
   "outputs": [],
   "source": [
    "df_weather.rename(columns={'date': 'fl_date', 'airport_code': 'origin'}, inplace=True)"
   ]
  },
  {
   "cell_type": "code",
   "execution_count": 138,
   "id": "a3be7273",
   "metadata": {},
   "outputs": [],
   "source": [
    "df_flight_info = pd.merge(df_flight_info, df_weather[['fl_date','origin','weather_type']],  how='left', left_on=['fl_date','origin'], right_on = ['fl_date','origin'])\n"
   ]
  },
  {
   "cell_type": "code",
   "execution_count": 139,
   "id": "dd1261b5",
   "metadata": {},
   "outputs": [
    {
     "data": {
      "text/plain": [
       "(518202, 25)"
      ]
     },
     "execution_count": 139,
     "metadata": {},
     "output_type": "execute_result"
    }
   ],
   "source": [
    "df_flight_info.shape"
   ]
  },
  {
   "cell_type": "code",
   "execution_count": 140,
   "id": "e48a3734",
   "metadata": {},
   "outputs": [],
   "source": [
    "# Dropping the small number of null weather types\n",
    "df_flight_info = df_flight_info.dropna()"
   ]
  },
  {
   "cell_type": "code",
   "execution_count": 141,
   "id": "46e5b727",
   "metadata": {},
   "outputs": [],
   "source": [
    "# Finding average route times\n",
    "df_flight_info['flight_number'] = df_flight_info['op_unique_carrier'] + df_flight_info['op_carrier_fl_num'].astype(str)\n",
    "route_time_grouped = df_flight_info.groupby(by='flight_number').mean()\n",
    "route_time_grouped.reset_index(inplace=True)\n",
    "route_time_grouped['average_route_time'] = route_time_grouped['actual_elapsed_time']\n",
    "route_time_grouped = route_time_grouped[['flight_number','average_route_time']]"
   ]
  },
  {
   "cell_type": "code",
   "execution_count": 142,
   "id": "5adce5c7",
   "metadata": {},
   "outputs": [],
   "source": [
    "# Getting Average Carrier Delay - Grouped by Carrier\n",
    "carrier_grouped = df_flight_info.groupby(by='op_unique_carrier').mean()\n",
    "carrier_grouped.reset_index(inplace=True)\n",
    "carrier_grouped['total_carrier_delay'] = carrier_grouped['carrier_delay'] + carrier_grouped['late_aircraft_delay']\n",
    "carrier_grouped = carrier_grouped[['op_unique_carrier', 'total_carrier_delay']]"
   ]
  },
  {
   "cell_type": "code",
   "execution_count": 143,
   "id": "f11055f4",
   "metadata": {},
   "outputs": [],
   "source": [
    "# Getting Average Weather Delay\n",
    "weather_grouped1 = df_flight_info.groupby(by=['origin','month']).mean()\n",
    "weather_grouped1.reset_index(inplace=True)\n",
    "weather_grouped1['total_weather_delay'] = weather_grouped1['weather_delay']\n",
    "weather_grouped1 = weather_grouped1[['origin','total_weather_delay']]"
   ]
  },
  {
   "cell_type": "code",
   "execution_count": 144,
   "id": "68d72a44",
   "metadata": {},
   "outputs": [],
   "source": [
    "# Getting Average NAS Delay - Grouped by Flight Number\n",
    "nas_grouped = df_flight_info.groupby(by='flight_number').mean()\n",
    "nas_grouped.reset_index(inplace=True)\n",
    "nas_grouped['total_nas_delay'] = nas_grouped['nas_delay']\n",
    "nas_grouped = nas_grouped[['flight_number', 'total_nas_delay']]\n",
    "\n",
    "# Getting Average Security Delay\n",
    "security_grouped = df_flight_info.groupby(by='origin').mean()\n",
    "security_grouped.reset_index(inplace=True)\n",
    "security_grouped['total_security_delay'] = security_grouped['security_delay']\n",
    "security_grouped = security_grouped[['origin','total_security_delay']]\n",
    "\n",
    "# Getting Average Departure Delays by Route\n",
    "dep_delay_grouped = df_flight_info.groupby(by='flight_number').mean()\n",
    "dep_delay_grouped.reset_index(inplace=True)\n",
    "dep_delay_grouped['total_dep_delay'] = dep_delay_grouped['dep_delay']\n",
    "dep_delay_grouped = dep_delay_grouped[['flight_number','total_dep_delay']]\n",
    "\n",
    "# Getting Average Arrival Delays by Route\n",
    "arr_delay_grouped = df_flight_info.groupby(by='flight_number').mean()\n",
    "arr_delay_grouped.reset_index(inplace=True)\n",
    "arr_delay_grouped['total_arr_delay'] = arr_delay_grouped['arr_delay']\n",
    "arr_delay_grouped = arr_delay_grouped[['flight_number','total_arr_delay']]\n",
    "\n",
    "#Merge averages dataframes with original \n",
    "df_flight_info = df_flight_info.merge(security_grouped, on = 'origin', how = 'outer')\n",
    "df_flight_info = df_flight_info.merge(nas_grouped, on = 'flight_number', how = 'outer')\n",
    "df_flight_info = df_flight_info.merge(route_time_grouped, on = 'flight_number', how = 'outer')\n",
    "df_flight_info = df_flight_info.merge(dep_delay_grouped, on = 'flight_number', how = 'outer')\n",
    "df_flight_info = df_flight_info.merge(arr_delay_grouped, on = 'flight_number', how = 'outer')\n",
    "df_flight_info = df_flight_info.merge(weather_grouped1, on = 'origin', how = 'outer')\n",
    "df_flight_info = df_flight_info.merge(carrier_grouped, on = 'op_unique_carrier', how = 'outer')"
   ]
  },
  {
   "cell_type": "markdown",
   "id": "54957203",
   "metadata": {},
   "source": [
    "## Model Training"
   ]
  },
  {
   "cell_type": "code",
   "execution_count": 145,
   "id": "77e2d972",
   "metadata": {},
   "outputs": [],
   "source": [
    "#df_flight_info.isnull().sum()"
   ]
  },
  {
   "cell_type": "code",
   "execution_count": 146,
   "id": "7e48ab42",
   "metadata": {},
   "outputs": [],
   "source": [
    "from sklearn.ensemble import RandomForestRegressor\n",
    "from sklearn.metrics import roc_auc_score\n",
    "from sklearn.metrics import confusion_matrix\n",
    "from sklearn.metrics import mean_squared_error\n",
    "from sklearn.linear_model import LinearRegression\n",
    "from sklearn.preprocessing import StandardScaler\n",
    "from sklearn.naive_bayes import GaussianNB\n",
    "from sklearn.metrics import accuracy_score, recall_score, precision_score, r2_score, f1_score\n",
    "import xgboost as xgb\n",
    "from sklearn.linear_model import LogisticRegression\n",
    "from sklearn.dummy import DummyRegressor\n",
    "from sklearn.cluster import KMeans\n",
    "from sklearn.model_selection import GridSearchCV\n",
    "from sklearn.preprocessing import OneHotEncoder, LabelEncoder\n",
    "from sklearn.linear_model import Ridge, LinearRegression, Lasso\n",
    "from sklearn.preprocessing import PolynomialFeatures\n",
    "from sklearn.utils import shuffle\n",
    "from sklearn.model_selection import KFold\n",
    "from sklearn.model_selection import cross_val_score"
   ]
  },
  {
   "cell_type": "code",
   "execution_count": 147,
   "id": "afe270a6",
   "metadata": {},
   "outputs": [],
   "source": [
    "# encoding df_flight_info \n",
    "df_flight_info[\"weather_type\"] = df_flight_info[\"weather_type\"].astype('category').cat.codes\n",
    "df_flight_info[\"flight_number\"] = df_flight_info[\"flight_number\"].astype('category').cat.codes"
   ]
  },
  {
   "cell_type": "code",
   "execution_count": 148,
   "id": "60ffd910",
   "metadata": {},
   "outputs": [
    {
     "data": {
      "text/plain": [
       "fl_date                  object\n",
       "mkt_unique_carrier       object\n",
       "op_unique_carrier        object\n",
       "op_carrier_fl_num         int64\n",
       "origin                   object\n",
       "crs_dep_time              int64\n",
       "dep_time                float64\n",
       "dep_delay               float64\n",
       "dest                     object\n",
       "arr_time                float64\n",
       "arr_delay               float64\n",
       "crs_arr_time              int64\n",
       "crs_elapsed_time        float64\n",
       "actual_elapsed_time     float64\n",
       "distance                float64\n",
       "carrier_delay           float64\n",
       "weather_delay           float64\n",
       "nas_delay               float64\n",
       "security_delay          float64\n",
       "late_aircraft_delay     float64\n",
       "year                      int64\n",
       "month                     int64\n",
       "day                       int64\n",
       "weekday                 float64\n",
       "weather_type               int8\n",
       "flight_number             int16\n",
       "total_security_delay    float64\n",
       "total_nas_delay         float64\n",
       "average_route_time      float64\n",
       "total_dep_delay         float64\n",
       "total_arr_delay         float64\n",
       "total_weather_delay     float64\n",
       "total_carrier_delay     float64\n",
       "dtype: object"
      ]
     },
     "execution_count": 148,
     "metadata": {},
     "output_type": "execute_result"
    }
   ],
   "source": [
    "df_flight_info.dtypes"
   ]
  },
  {
   "cell_type": "markdown",
   "id": "de25d4bd",
   "metadata": {},
   "source": [
    "### Adding Total Weather Delay"
   ]
  },
  {
   "cell_type": "code",
   "execution_count": 149,
   "id": "b8e73c29",
   "metadata": {},
   "outputs": [],
   "source": [
    "df_flight_info = shuffle(df_flight_info)\n",
    "X = df_flight_info[['crs_dep_time','flight_number','crs_elapsed_time','average_route_time','crs_arr_time','distance','year','month','day','weekday','total_carrier_delay', 'total_security_delay','total_nas_delay','total_dep_delay','total_arr_delay','weather_type','total_weather_delay']]\n",
    "y = df_flight_info['arr_delay']"
   ]
  },
  {
   "cell_type": "code",
   "execution_count": 150,
   "id": "f7083582",
   "metadata": {},
   "outputs": [],
   "source": [
    "# Split dataset into training set and test set\n",
    "X_train, X_test, y_train, y_test = train_test_split(X, y, test_size=0.3) # 70% training and 30% test"
   ]
  },
  {
   "cell_type": "markdown",
   "id": "957633ec",
   "metadata": {},
   "source": [
    "##### LightGBM"
   ]
  },
  {
   "cell_type": "code",
   "execution_count": 103,
   "id": "dfcf2aaa",
   "metadata": {},
   "outputs": [
    {
     "name": "stderr",
     "output_type": "stream",
     "text": [
      "feature_fraction, val_score: inf:   0%|          | 0/7 [00:00<?, ?it/s]"
     ]
    },
    {
     "name": "stdout",
     "output_type": "stream",
     "text": [
      "[LightGBM] [Warning] Auto-choosing row-wise multi-threading, the overhead of testing was 0.275636 seconds.\n",
      "You can set `force_row_wise=true` to remove the overhead.\n",
      "And if memory is not enough, you can set `force_col_wise=true`.\n",
      "[LightGBM] [Info] Total Bins 2605\n",
      "[LightGBM] [Info] Number of data points in the train set: 4940266, number of used features: 17\n",
      "[LightGBM] [Info] Start training from score 5.277316\n",
      "Training until validation scores don't improve for 5 rounds\n",
      "[2]\tvalid_0's rmse: 41.9409\n",
      "[4]\tvalid_0's rmse: 41.5245\n",
      "[6]\tvalid_0's rmse: 41.2351\n",
      "[8]\tvalid_0's rmse: 41.0297\n",
      "[10]\tvalid_0's rmse: 40.8781\n",
      "[12]\tvalid_0's rmse: 40.7623\n",
      "[14]\tvalid_0's rmse: 40.6732\n",
      "[16]\tvalid_0's rmse: 40.5993\n",
      "[18]\tvalid_0's rmse: 40.5374\n",
      "[20]\tvalid_0's rmse: 40.4858\n",
      "[22]\tvalid_0's rmse: 40.4414\n",
      "[24]\tvalid_0's rmse: 40.3958\n",
      "[26]\tvalid_0's rmse: 40.3514\n",
      "[28]\tvalid_0's rmse: 40.3202\n",
      "[30]\tvalid_0's rmse: 40.2887\n",
      "[32]\tvalid_0's rmse: 40.2553\n",
      "[34]\tvalid_0's rmse: 40.2196\n",
      "[36]\tvalid_0's rmse: 40.1851\n",
      "[38]\tvalid_0's rmse: 40.1428\n",
      "[40]\tvalid_0's rmse: 40.1145\n",
      "[42]\tvalid_0's rmse: 40.0774\n",
      "[44]\tvalid_0's rmse: 40.0491\n",
      "[46]\tvalid_0's rmse: 40.0246\n",
      "[48]\tvalid_0's rmse: 39.9947\n"
     ]
    },
    {
     "name": "stderr",
     "output_type": "stream",
     "text": [
      "feature_fraction, val_score: 39.969336:  14%|#4        | 1/7 [00:28<02:48, 28.14s/it]"
     ]
    },
    {
     "name": "stdout",
     "output_type": "stream",
     "text": [
      "[50]\tvalid_0's rmse: 39.9693\n",
      "Did not meet early stopping. Best iteration is:\n",
      "[50]\tvalid_0's rmse: 39.9693\n",
      "[LightGBM] [Warning] Auto-choosing row-wise multi-threading, the overhead of testing was 0.058590 seconds.\n",
      "You can set `force_row_wise=true` to remove the overhead.\n",
      "And if memory is not enough, you can set `force_col_wise=true`.\n",
      "[LightGBM] [Info] Total Bins 2605\n",
      "[LightGBM] [Info] Number of data points in the train set: 4940266, number of used features: 17\n",
      "[LightGBM] [Info] Start training from score 5.277316\n",
      "Training until validation scores don't improve for 5 rounds\n",
      "[2]\tvalid_0's rmse: 41.9751\n",
      "[4]\tvalid_0's rmse: 41.5962\n",
      "[6]\tvalid_0's rmse: 41.3761\n",
      "[8]\tvalid_0's rmse: 41.1531\n",
      "[10]\tvalid_0's rmse: 41.0436\n",
      "[12]\tvalid_0's rmse: 40.9556\n",
      "[14]\tvalid_0's rmse: 40.8404\n",
      "[16]\tvalid_0's rmse: 40.7544\n",
      "[18]\tvalid_0's rmse: 40.6926\n",
      "[20]\tvalid_0's rmse: 40.6213\n",
      "[22]\tvalid_0's rmse: 40.5738\n",
      "[24]\tvalid_0's rmse: 40.5276\n",
      "[26]\tvalid_0's rmse: 40.4958\n",
      "[28]\tvalid_0's rmse: 40.4692\n",
      "[30]\tvalid_0's rmse: 40.4261\n",
      "[32]\tvalid_0's rmse: 40.4012\n",
      "[34]\tvalid_0's rmse: 40.3513\n",
      "[36]\tvalid_0's rmse: 40.3159\n",
      "[38]\tvalid_0's rmse: 40.2912\n",
      "[40]\tvalid_0's rmse: 40.2719\n",
      "[42]\tvalid_0's rmse: 40.2505\n",
      "[44]\tvalid_0's rmse: 40.2284\n",
      "[46]\tvalid_0's rmse: 40.2143\n",
      "[48]\tvalid_0's rmse: 40.1983\n"
     ]
    },
    {
     "name": "stderr",
     "output_type": "stream",
     "text": [
      "feature_fraction, val_score: 39.969336:  29%|##8       | 2/7 [00:51<02:07, 25.44s/it]"
     ]
    },
    {
     "name": "stdout",
     "output_type": "stream",
     "text": [
      "[50]\tvalid_0's rmse: 40.1741\n",
      "Did not meet early stopping. Best iteration is:\n",
      "[50]\tvalid_0's rmse: 40.1741\n",
      "[LightGBM] [Warning] Auto-choosing row-wise multi-threading, the overhead of testing was 0.134337 seconds.\n",
      "You can set `force_row_wise=true` to remove the overhead.\n",
      "And if memory is not enough, you can set `force_col_wise=true`.\n",
      "[LightGBM] [Info] Total Bins 2605\n",
      "[LightGBM] [Info] Number of data points in the train set: 4940266, number of used features: 17\n",
      "[LightGBM] [Info] Start training from score 5.277316\n",
      "Training until validation scores don't improve for 5 rounds\n",
      "[2]\tvalid_0's rmse: 41.9394\n",
      "[4]\tvalid_0's rmse: 41.5181\n",
      "[6]\tvalid_0's rmse: 41.2301\n",
      "[8]\tvalid_0's rmse: 41.0279\n",
      "[10]\tvalid_0's rmse: 40.8769\n",
      "[12]\tvalid_0's rmse: 40.7673\n",
      "[14]\tvalid_0's rmse: 40.6816\n",
      "[16]\tvalid_0's rmse: 40.6145\n",
      "[18]\tvalid_0's rmse: 40.5402\n",
      "[20]\tvalid_0's rmse: 40.4926\n",
      "[22]\tvalid_0's rmse: 40.4441\n",
      "[24]\tvalid_0's rmse: 40.3994\n",
      "[26]\tvalid_0's rmse: 40.3546\n",
      "[28]\tvalid_0's rmse: 40.3168\n",
      "[30]\tvalid_0's rmse: 40.2738\n",
      "[32]\tvalid_0's rmse: 40.232\n",
      "[34]\tvalid_0's rmse: 40.1929\n",
      "[36]\tvalid_0's rmse: 40.1462\n",
      "[38]\tvalid_0's rmse: 40.115\n",
      "[40]\tvalid_0's rmse: 40.089\n",
      "[42]\tvalid_0's rmse: 40.0572\n",
      "[44]\tvalid_0's rmse: 40.0261\n",
      "[46]\tvalid_0's rmse: 39.9982\n",
      "[48]\tvalid_0's rmse: 39.9736\n"
     ]
    },
    {
     "name": "stderr",
     "output_type": "stream",
     "text": [
      "feature_fraction, val_score: 39.945097:  43%|####2     | 3/7 [01:16<01:41, 25.36s/it]"
     ]
    },
    {
     "name": "stdout",
     "output_type": "stream",
     "text": [
      "[50]\tvalid_0's rmse: 39.9451\n",
      "Did not meet early stopping. Best iteration is:\n",
      "[50]\tvalid_0's rmse: 39.9451\n",
      "[LightGBM] [Warning] Auto-choosing row-wise multi-threading, the overhead of testing was 0.154871 seconds.\n",
      "You can set `force_row_wise=true` to remove the overhead.\n",
      "And if memory is not enough, you can set `force_col_wise=true`.\n",
      "[LightGBM] [Info] Total Bins 2605\n",
      "[LightGBM] [Info] Number of data points in the train set: 4940266, number of used features: 17\n",
      "[LightGBM] [Info] Start training from score 5.277316\n",
      "Training until validation scores don't improve for 5 rounds\n",
      "[2]\tvalid_0's rmse: 41.9409\n",
      "[4]\tvalid_0's rmse: 41.5404\n",
      "[6]\tvalid_0's rmse: 41.3107\n",
      "[8]\tvalid_0's rmse: 41.0812\n",
      "[10]\tvalid_0's rmse: 40.9192\n",
      "[12]\tvalid_0's rmse: 40.8131\n",
      "[14]\tvalid_0's rmse: 40.721\n",
      "[16]\tvalid_0's rmse: 40.6391\n",
      "[18]\tvalid_0's rmse: 40.5733\n",
      "[20]\tvalid_0's rmse: 40.51\n",
      "[22]\tvalid_0's rmse: 40.4701\n",
      "[24]\tvalid_0's rmse: 40.4182\n",
      "[26]\tvalid_0's rmse: 40.3841\n",
      "[28]\tvalid_0's rmse: 40.355\n",
      "[30]\tvalid_0's rmse: 40.3265\n",
      "[32]\tvalid_0's rmse: 40.2919\n",
      "[34]\tvalid_0's rmse: 40.2592\n",
      "[36]\tvalid_0's rmse: 40.21\n",
      "[38]\tvalid_0's rmse: 40.1755\n",
      "[40]\tvalid_0's rmse: 40.1427\n",
      "[42]\tvalid_0's rmse: 40.1164\n",
      "[44]\tvalid_0's rmse: 40.077\n",
      "[46]\tvalid_0's rmse: 40.062\n",
      "[48]\tvalid_0's rmse: 40.0343\n"
     ]
    },
    {
     "name": "stderr",
     "output_type": "stream",
     "text": [
      "feature_fraction, val_score: 39.945097:  57%|#####7    | 4/7 [01:44<01:18, 26.10s/it]"
     ]
    },
    {
     "name": "stdout",
     "output_type": "stream",
     "text": [
      "[50]\tvalid_0's rmse: 39.9975\n",
      "Did not meet early stopping. Best iteration is:\n",
      "[50]\tvalid_0's rmse: 39.9975\n",
      "[LightGBM] [Warning] Auto-choosing row-wise multi-threading, the overhead of testing was 0.122713 seconds.\n",
      "You can set `force_row_wise=true` to remove the overhead.\n",
      "And if memory is not enough, you can set `force_col_wise=true`.\n",
      "[LightGBM] [Info] Total Bins 2605\n",
      "[LightGBM] [Info] Number of data points in the train set: 4940266, number of used features: 17\n",
      "[LightGBM] [Info] Start training from score 5.277316\n",
      "Training until validation scores don't improve for 5 rounds\n",
      "[2]\tvalid_0's rmse: 41.9438\n",
      "[4]\tvalid_0's rmse: 41.5488\n",
      "[6]\tvalid_0's rmse: 41.317\n",
      "[8]\tvalid_0's rmse: 41.0874\n",
      "[10]\tvalid_0's rmse: 40.9231\n",
      "[12]\tvalid_0's rmse: 40.8104\n",
      "[14]\tvalid_0's rmse: 40.7059\n",
      "[16]\tvalid_0's rmse: 40.6313\n",
      "[18]\tvalid_0's rmse: 40.5595\n",
      "[20]\tvalid_0's rmse: 40.5044\n",
      "[22]\tvalid_0's rmse: 40.4556\n",
      "[24]\tvalid_0's rmse: 40.4116\n",
      "[26]\tvalid_0's rmse: 40.3754\n",
      "[28]\tvalid_0's rmse: 40.3381\n",
      "[30]\tvalid_0's rmse: 40.3023\n",
      "[32]\tvalid_0's rmse: 40.2737\n",
      "[34]\tvalid_0's rmse: 40.2446\n",
      "[36]\tvalid_0's rmse: 40.2039\n",
      "[38]\tvalid_0's rmse: 40.1678\n",
      "[40]\tvalid_0's rmse: 40.1409\n",
      "[42]\tvalid_0's rmse: 40.1206\n",
      "[44]\tvalid_0's rmse: 40.0925\n",
      "[46]\tvalid_0's rmse: 40.078\n",
      "[48]\tvalid_0's rmse: 40.0412\n"
     ]
    },
    {
     "name": "stderr",
     "output_type": "stream",
     "text": [
      "feature_fraction, val_score: 39.945097:  71%|#######1  | 5/7 [02:16<00:56, 28.23s/it]"
     ]
    },
    {
     "name": "stdout",
     "output_type": "stream",
     "text": [
      "[50]\tvalid_0's rmse: 40.0218\n",
      "Did not meet early stopping. Best iteration is:\n",
      "[50]\tvalid_0's rmse: 40.0218\n",
      "[LightGBM] [Warning] Auto-choosing row-wise multi-threading, the overhead of testing was 0.105061 seconds.\n",
      "You can set `force_row_wise=true` to remove the overhead.\n",
      "And if memory is not enough, you can set `force_col_wise=true`.\n",
      "[LightGBM] [Info] Total Bins 2605\n",
      "[LightGBM] [Info] Number of data points in the train set: 4940266, number of used features: 17\n",
      "[LightGBM] [Info] Start training from score 5.277316\n",
      "Training until validation scores don't improve for 5 rounds\n",
      "[2]\tvalid_0's rmse: 41.9611\n",
      "[4]\tvalid_0's rmse: 41.5675\n",
      "[6]\tvalid_0's rmse: 41.3458\n",
      "[8]\tvalid_0's rmse: 41.112\n",
      "[10]\tvalid_0's rmse: 40.9524\n",
      "[12]\tvalid_0's rmse: 40.8573\n",
      "[14]\tvalid_0's rmse: 40.7565\n",
      "[16]\tvalid_0's rmse: 40.6688\n",
      "[18]\tvalid_0's rmse: 40.5963\n",
      "[20]\tvalid_0's rmse: 40.5395\n",
      "[22]\tvalid_0's rmse: 40.4944\n",
      "[24]\tvalid_0's rmse: 40.4481\n",
      "[26]\tvalid_0's rmse: 40.4162\n",
      "[28]\tvalid_0's rmse: 40.3893\n",
      "[30]\tvalid_0's rmse: 40.3482\n",
      "[32]\tvalid_0's rmse: 40.3175\n",
      "[34]\tvalid_0's rmse: 40.2728\n",
      "[36]\tvalid_0's rmse: 40.2375\n",
      "[38]\tvalid_0's rmse: 40.2004\n",
      "[40]\tvalid_0's rmse: 40.166\n",
      "[42]\tvalid_0's rmse: 40.1423\n",
      "[44]\tvalid_0's rmse: 40.1182\n",
      "[46]\tvalid_0's rmse: 40.101\n",
      "[48]\tvalid_0's rmse: 40.0741\n"
     ]
    },
    {
     "name": "stderr",
     "output_type": "stream",
     "text": [
      "feature_fraction, val_score: 39.945097:  86%|########5 | 6/7 [02:54<00:31, 31.75s/it]"
     ]
    },
    {
     "name": "stdout",
     "output_type": "stream",
     "text": [
      "[50]\tvalid_0's rmse: 40.0489\n",
      "Did not meet early stopping. Best iteration is:\n",
      "[50]\tvalid_0's rmse: 40.0489\n",
      "[LightGBM] [Warning] Auto-choosing row-wise multi-threading, the overhead of testing was 0.079676 seconds.\n",
      "You can set `force_row_wise=true` to remove the overhead.\n",
      "And if memory is not enough, you can set `force_col_wise=true`.\n",
      "[LightGBM] [Info] Total Bins 2605\n",
      "[LightGBM] [Info] Number of data points in the train set: 4940266, number of used features: 17\n",
      "[LightGBM] [Info] Start training from score 5.277316\n",
      "Training until validation scores don't improve for 5 rounds\n",
      "[2]\tvalid_0's rmse: 41.962\n",
      "[4]\tvalid_0's rmse: 41.5693\n",
      "[6]\tvalid_0's rmse: 41.3454\n",
      "[8]\tvalid_0's rmse: 41.1252\n",
      "[10]\tvalid_0's rmse: 41.0044\n",
      "[12]\tvalid_0's rmse: 40.9174\n",
      "[14]\tvalid_0's rmse: 40.8061\n",
      "[16]\tvalid_0's rmse: 40.7166\n",
      "[18]\tvalid_0's rmse: 40.6431\n",
      "[20]\tvalid_0's rmse: 40.5787\n",
      "[22]\tvalid_0's rmse: 40.533\n",
      "[24]\tvalid_0's rmse: 40.489\n",
      "[26]\tvalid_0's rmse: 40.4486\n",
      "[28]\tvalid_0's rmse: 40.4199\n",
      "[30]\tvalid_0's rmse: 40.3805\n",
      "[32]\tvalid_0's rmse: 40.3502\n",
      "[34]\tvalid_0's rmse: 40.3031\n",
      "[36]\tvalid_0's rmse: 40.2619\n",
      "[38]\tvalid_0's rmse: 40.2314\n",
      "[40]\tvalid_0's rmse: 40.2009\n",
      "[42]\tvalid_0's rmse: 40.1703\n",
      "[44]\tvalid_0's rmse: 40.1477\n",
      "[46]\tvalid_0's rmse: 40.133\n",
      "[48]\tvalid_0's rmse: 40.1144\n"
     ]
    },
    {
     "name": "stderr",
     "output_type": "stream",
     "text": [
      "feature_fraction, val_score: 39.945097: 100%|##########| 7/7 [03:23<00:00, 29.09s/it]\n",
      "num_leaves, val_score: 39.945097:   0%|          | 0/20 [00:00<?, ?it/s]"
     ]
    },
    {
     "name": "stdout",
     "output_type": "stream",
     "text": [
      "[50]\tvalid_0's rmse: 40.0875\n",
      "Did not meet early stopping. Best iteration is:\n",
      "[50]\tvalid_0's rmse: 40.0875\n",
      "[LightGBM] [Warning] Auto-choosing row-wise multi-threading, the overhead of testing was 0.138271 seconds.\n",
      "You can set `force_row_wise=true` to remove the overhead.\n",
      "And if memory is not enough, you can set `force_col_wise=true`.\n",
      "[LightGBM] [Info] Total Bins 2605\n",
      "[LightGBM] [Info] Number of data points in the train set: 4940266, number of used features: 17\n",
      "[LightGBM] [Info] Start training from score 5.277316\n",
      "Training until validation scores don't improve for 5 rounds\n",
      "[2]\tvalid_0's rmse: 41.7244\n",
      "[4]\tvalid_0's rmse: 41.1353\n",
      "[6]\tvalid_0's rmse: 40.711\n",
      "[8]\tvalid_0's rmse: 40.3893\n",
      "[10]\tvalid_0's rmse: 40.1371\n",
      "[12]\tvalid_0's rmse: 39.9328\n",
      "[14]\tvalid_0's rmse: 39.7624\n",
      "[16]\tvalid_0's rmse: 39.6164\n",
      "[18]\tvalid_0's rmse: 39.4837\n",
      "[20]\tvalid_0's rmse: 39.352\n",
      "[22]\tvalid_0's rmse: 39.2093\n",
      "[24]\tvalid_0's rmse: 39.0907\n",
      "[26]\tvalid_0's rmse: 38.9654\n",
      "[28]\tvalid_0's rmse: 38.8488\n",
      "[30]\tvalid_0's rmse: 38.7239\n",
      "[32]\tvalid_0's rmse: 38.6076\n",
      "[34]\tvalid_0's rmse: 38.4744\n",
      "[36]\tvalid_0's rmse: 38.3524\n",
      "[38]\tvalid_0's rmse: 38.2414\n",
      "[40]\tvalid_0's rmse: 38.1361\n",
      "[42]\tvalid_0's rmse: 38.0641\n",
      "[44]\tvalid_0's rmse: 37.9722\n",
      "[46]\tvalid_0's rmse: 37.8875\n",
      "[48]\tvalid_0's rmse: 37.8042\n"
     ]
    },
    {
     "name": "stderr",
     "output_type": "stream",
     "text": [
      "num_leaves, val_score: 37.722654:   5%|5         | 1/20 [00:35<11:09, 35.22s/it]"
     ]
    },
    {
     "name": "stdout",
     "output_type": "stream",
     "text": [
      "[50]\tvalid_0's rmse: 37.7227\n",
      "Did not meet early stopping. Best iteration is:\n",
      "[50]\tvalid_0's rmse: 37.7227\n",
      "[LightGBM] [Warning] Auto-choosing row-wise multi-threading, the overhead of testing was 0.140886 seconds.\n",
      "You can set `force_row_wise=true` to remove the overhead.\n",
      "And if memory is not enough, you can set `force_col_wise=true`.\n",
      "[LightGBM] [Info] Total Bins 2605\n",
      "[LightGBM] [Info] Number of data points in the train set: 4940266, number of used features: 17\n",
      "[LightGBM] [Info] Start training from score 5.277316\n",
      "Training until validation scores don't improve for 5 rounds\n",
      "[2]\tvalid_0's rmse: 41.7186\n",
      "[4]\tvalid_0's rmse: 41.1108\n",
      "[6]\tvalid_0's rmse: 40.6677\n",
      "[8]\tvalid_0's rmse: 40.3331\n",
      "[10]\tvalid_0's rmse: 40.0544\n",
      "[12]\tvalid_0's rmse: 39.847\n",
      "[14]\tvalid_0's rmse: 39.6611\n",
      "[16]\tvalid_0's rmse: 39.5123\n",
      "[18]\tvalid_0's rmse: 39.37\n",
      "[20]\tvalid_0's rmse: 39.2334\n",
      "[22]\tvalid_0's rmse: 39.0984\n",
      "[24]\tvalid_0's rmse: 38.9616\n",
      "[26]\tvalid_0's rmse: 38.826\n",
      "[28]\tvalid_0's rmse: 38.6807\n",
      "[30]\tvalid_0's rmse: 38.5691\n",
      "[32]\tvalid_0's rmse: 38.4152\n",
      "[34]\tvalid_0's rmse: 38.2881\n",
      "[36]\tvalid_0's rmse: 38.1959\n",
      "[38]\tvalid_0's rmse: 38.0649\n",
      "[40]\tvalid_0's rmse: 37.9532\n",
      "[42]\tvalid_0's rmse: 37.8517\n",
      "[44]\tvalid_0's rmse: 37.7587\n",
      "[46]\tvalid_0's rmse: 37.6798\n",
      "[48]\tvalid_0's rmse: 37.5784\n"
     ]
    },
    {
     "name": "stderr",
     "output_type": "stream",
     "text": [
      "num_leaves, val_score: 37.496445:  10%|#         | 2/20 [01:07<10:06, 33.68s/it]"
     ]
    },
    {
     "name": "stdout",
     "output_type": "stream",
     "text": [
      "[50]\tvalid_0's rmse: 37.4964\n",
      "Did not meet early stopping. Best iteration is:\n",
      "[50]\tvalid_0's rmse: 37.4964\n",
      "[LightGBM] [Warning] Auto-choosing row-wise multi-threading, the overhead of testing was 0.138262 seconds.\n",
      "You can set `force_row_wise=true` to remove the overhead.\n",
      "And if memory is not enough, you can set `force_col_wise=true`.\n",
      "[LightGBM] [Info] Total Bins 2605\n",
      "[LightGBM] [Info] Number of data points in the train set: 4940266, number of used features: 17\n",
      "[LightGBM] [Info] Start training from score 5.277316\n",
      "Training until validation scores don't improve for 5 rounds\n",
      "[2]\tvalid_0's rmse: 41.8534\n",
      "[4]\tvalid_0's rmse: 41.3786\n",
      "[6]\tvalid_0's rmse: 41.0356\n",
      "[8]\tvalid_0's rmse: 40.7838\n",
      "[10]\tvalid_0's rmse: 40.5946\n",
      "[12]\tvalid_0's rmse: 40.4519\n",
      "[14]\tvalid_0's rmse: 40.3369\n",
      "[16]\tvalid_0's rmse: 40.2311\n",
      "[18]\tvalid_0's rmse: 40.1379\n",
      "[20]\tvalid_0's rmse: 40.0655\n",
      "[22]\tvalid_0's rmse: 39.9901\n",
      "[24]\tvalid_0's rmse: 39.9251\n",
      "[26]\tvalid_0's rmse: 39.8643\n",
      "[28]\tvalid_0's rmse: 39.7957\n",
      "[30]\tvalid_0's rmse: 39.7152\n",
      "[32]\tvalid_0's rmse: 39.6522\n",
      "[34]\tvalid_0's rmse: 39.5939\n",
      "[36]\tvalid_0's rmse: 39.5221\n",
      "[38]\tvalid_0's rmse: 39.4569\n",
      "[40]\tvalid_0's rmse: 39.3967\n",
      "[42]\tvalid_0's rmse: 39.3505\n",
      "[44]\tvalid_0's rmse: 39.2921\n",
      "[46]\tvalid_0's rmse: 39.247\n",
      "[48]\tvalid_0's rmse: 39.19\n"
     ]
    },
    {
     "name": "stderr",
     "output_type": "stream",
     "text": [
      "num_leaves, val_score: 37.496445:  15%|#5        | 3/20 [01:37<09:03, 31.97s/it]"
     ]
    },
    {
     "name": "stdout",
     "output_type": "stream",
     "text": [
      "[50]\tvalid_0's rmse: 39.1369\n",
      "Did not meet early stopping. Best iteration is:\n",
      "[50]\tvalid_0's rmse: 39.1369\n",
      "[LightGBM] [Warning] Auto-choosing row-wise multi-threading, the overhead of testing was 0.159830 seconds.\n",
      "You can set `force_row_wise=true` to remove the overhead.\n",
      "And if memory is not enough, you can set `force_col_wise=true`.\n",
      "[LightGBM] [Info] Total Bins 2605\n",
      "[LightGBM] [Info] Number of data points in the train set: 4940266, number of used features: 17\n",
      "[LightGBM] [Info] Start training from score 5.277316\n",
      "Training until validation scores don't improve for 5 rounds\n",
      "[2]\tvalid_0's rmse: 41.7336\n",
      "[4]\tvalid_0's rmse: 41.1415\n",
      "[6]\tvalid_0's rmse: 40.718\n",
      "[8]\tvalid_0's rmse: 40.3941\n",
      "[10]\tvalid_0's rmse: 40.1367\n",
      "[12]\tvalid_0's rmse: 39.9305\n",
      "[14]\tvalid_0's rmse: 39.7539\n",
      "[16]\tvalid_0's rmse: 39.5969\n",
      "[18]\tvalid_0's rmse: 39.4591\n",
      "[20]\tvalid_0's rmse: 39.3449\n",
      "[22]\tvalid_0's rmse: 39.2219\n",
      "[24]\tvalid_0's rmse: 39.1007\n",
      "[26]\tvalid_0's rmse: 38.9829\n",
      "[28]\tvalid_0's rmse: 38.865\n",
      "[30]\tvalid_0's rmse: 38.7358\n",
      "[32]\tvalid_0's rmse: 38.6194\n",
      "[34]\tvalid_0's rmse: 38.4916\n",
      "[36]\tvalid_0's rmse: 38.3925\n",
      "[38]\tvalid_0's rmse: 38.2918\n",
      "[40]\tvalid_0's rmse: 38.1802\n",
      "[42]\tvalid_0's rmse: 38.0538\n",
      "[44]\tvalid_0's rmse: 37.9647\n",
      "[46]\tvalid_0's rmse: 37.871\n",
      "[48]\tvalid_0's rmse: 37.7914\n"
     ]
    },
    {
     "name": "stderr",
     "output_type": "stream",
     "text": [
      "num_leaves, val_score: 37.496445:  20%|##        | 4/20 [02:12<08:46, 32.89s/it]"
     ]
    },
    {
     "name": "stdout",
     "output_type": "stream",
     "text": [
      "[50]\tvalid_0's rmse: 37.695\n",
      "Did not meet early stopping. Best iteration is:\n",
      "[50]\tvalid_0's rmse: 37.695\n",
      "[LightGBM] [Warning] Auto-choosing row-wise multi-threading, the overhead of testing was 0.142628 seconds.\n",
      "You can set `force_row_wise=true` to remove the overhead.\n",
      "And if memory is not enough, you can set `force_col_wise=true`.\n",
      "[LightGBM] [Info] Total Bins 2605\n",
      "[LightGBM] [Info] Number of data points in the train set: 4940266, number of used features: 17\n",
      "[LightGBM] [Info] Start training from score 5.277316\n",
      "Training until validation scores don't improve for 5 rounds\n",
      "[2]\tvalid_0's rmse: 41.8834\n",
      "[4]\tvalid_0's rmse: 41.4197\n",
      "[6]\tvalid_0's rmse: 41.0944\n",
      "[8]\tvalid_0's rmse: 40.861\n",
      "[10]\tvalid_0's rmse: 40.6814\n",
      "[12]\tvalid_0's rmse: 40.5504\n",
      "[14]\tvalid_0's rmse: 40.4347\n",
      "[16]\tvalid_0's rmse: 40.3512\n",
      "[18]\tvalid_0's rmse: 40.2714\n",
      "[20]\tvalid_0's rmse: 40.2101\n",
      "[22]\tvalid_0's rmse: 40.1433\n",
      "[24]\tvalid_0's rmse: 40.086\n",
      "[26]\tvalid_0's rmse: 40.032\n",
      "[28]\tvalid_0's rmse: 39.9809\n",
      "[30]\tvalid_0's rmse: 39.9313\n",
      "[32]\tvalid_0's rmse: 39.872\n",
      "[34]\tvalid_0's rmse: 39.8114\n",
      "[36]\tvalid_0's rmse: 39.753\n",
      "[38]\tvalid_0's rmse: 39.7093\n",
      "[40]\tvalid_0's rmse: 39.6621\n",
      "[42]\tvalid_0's rmse: 39.6174\n",
      "[44]\tvalid_0's rmse: 39.5711\n",
      "[46]\tvalid_0's rmse: 39.53\n",
      "[48]\tvalid_0's rmse: 39.4884\n"
     ]
    },
    {
     "name": "stderr",
     "output_type": "stream",
     "text": [
      "num_leaves, val_score: 37.496445:  25%|##5       | 5/20 [02:43<08:04, 32.30s/it]"
     ]
    },
    {
     "name": "stdout",
     "output_type": "stream",
     "text": [
      "[50]\tvalid_0's rmse: 39.4433\n",
      "Did not meet early stopping. Best iteration is:\n",
      "[50]\tvalid_0's rmse: 39.4433\n",
      "[LightGBM] [Warning] Auto-choosing row-wise multi-threading, the overhead of testing was 0.164893 seconds.\n",
      "You can set `force_row_wise=true` to remove the overhead.\n",
      "And if memory is not enough, you can set `force_col_wise=true`.\n",
      "[LightGBM] [Info] Total Bins 2605\n",
      "[LightGBM] [Info] Number of data points in the train set: 4940266, number of used features: 17\n",
      "[LightGBM] [Info] Start training from score 5.277316\n",
      "Training until validation scores don't improve for 5 rounds\n",
      "[2]\tvalid_0's rmse: 41.7925\n",
      "[4]\tvalid_0's rmse: 41.266\n",
      "[6]\tvalid_0's rmse: 40.8828\n",
      "[8]\tvalid_0's rmse: 40.5915\n",
      "[10]\tvalid_0's rmse: 40.3818\n",
      "[12]\tvalid_0's rmse: 40.2028\n",
      "[14]\tvalid_0's rmse: 40.0663\n",
      "[16]\tvalid_0's rmse: 39.9348\n",
      "[18]\tvalid_0's rmse: 39.8189\n",
      "[20]\tvalid_0's rmse: 39.7094\n",
      "[22]\tvalid_0's rmse: 39.6168\n",
      "[24]\tvalid_0's rmse: 39.5239\n",
      "[26]\tvalid_0's rmse: 39.4262\n",
      "[28]\tvalid_0's rmse: 39.3306\n",
      "[30]\tvalid_0's rmse: 39.2399\n",
      "[32]\tvalid_0's rmse: 39.1503\n",
      "[34]\tvalid_0's rmse: 39.0647\n",
      "[36]\tvalid_0's rmse: 38.9674\n",
      "[38]\tvalid_0's rmse: 38.896\n",
      "[40]\tvalid_0's rmse: 38.8004\n",
      "[42]\tvalid_0's rmse: 38.7358\n",
      "[44]\tvalid_0's rmse: 38.66\n",
      "[46]\tvalid_0's rmse: 38.5993\n",
      "[48]\tvalid_0's rmse: 38.5273\n"
     ]
    },
    {
     "name": "stderr",
     "output_type": "stream",
     "text": [
      "num_leaves, val_score: 37.496445:  30%|###       | 6/20 [03:16<07:35, 32.57s/it]"
     ]
    },
    {
     "name": "stdout",
     "output_type": "stream",
     "text": [
      "[50]\tvalid_0's rmse: 38.4568\n",
      "Did not meet early stopping. Best iteration is:\n",
      "[50]\tvalid_0's rmse: 38.4568\n",
      "[LightGBM] [Warning] Auto-choosing row-wise multi-threading, the overhead of testing was 0.141957 seconds.\n",
      "You can set `force_row_wise=true` to remove the overhead.\n",
      "And if memory is not enough, you can set `force_col_wise=true`.\n",
      "[LightGBM] [Info] Total Bins 2605\n",
      "[LightGBM] [Info] Number of data points in the train set: 4940266, number of used features: 17\n",
      "[LightGBM] [Info] Start training from score 5.277316\n",
      "Training until validation scores don't improve for 5 rounds\n",
      "[2]\tvalid_0's rmse: 41.8193\n",
      "[4]\tvalid_0's rmse: 41.3121\n",
      "[6]\tvalid_0's rmse: 40.949\n",
      "[8]\tvalid_0's rmse: 40.6709\n",
      "[10]\tvalid_0's rmse: 40.4723\n",
      "[12]\tvalid_0's rmse: 40.3084\n",
      "[14]\tvalid_0's rmse: 40.1692\n",
      "[16]\tvalid_0's rmse: 40.0501\n",
      "[18]\tvalid_0's rmse: 39.9557\n",
      "[20]\tvalid_0's rmse: 39.8687\n",
      "[22]\tvalid_0's rmse: 39.7845\n",
      "[24]\tvalid_0's rmse: 39.7014\n",
      "[26]\tvalid_0's rmse: 39.6277\n",
      "[28]\tvalid_0's rmse: 39.5555\n",
      "[30]\tvalid_0's rmse: 39.4703\n",
      "[32]\tvalid_0's rmse: 39.3859\n",
      "[34]\tvalid_0's rmse: 39.306\n",
      "[36]\tvalid_0's rmse: 39.2316\n",
      "[38]\tvalid_0's rmse: 39.1632\n",
      "[40]\tvalid_0's rmse: 39.0867\n",
      "[42]\tvalid_0's rmse: 39.0183\n",
      "[44]\tvalid_0's rmse: 38.9587\n",
      "[46]\tvalid_0's rmse: 38.9139\n",
      "[48]\tvalid_0's rmse: 38.8404\n"
     ]
    },
    {
     "name": "stderr",
     "output_type": "stream",
     "text": [
      "num_leaves, val_score: 37.496445:  35%|###5      | 7/20 [03:48<07:00, 32.33s/it]"
     ]
    },
    {
     "name": "stdout",
     "output_type": "stream",
     "text": [
      "[50]\tvalid_0's rmse: 38.7893\n",
      "Did not meet early stopping. Best iteration is:\n",
      "[50]\tvalid_0's rmse: 38.7893\n",
      "[LightGBM] [Warning] Auto-choosing row-wise multi-threading, the overhead of testing was 0.184582 seconds.\n",
      "You can set `force_row_wise=true` to remove the overhead.\n",
      "And if memory is not enough, you can set `force_col_wise=true`.\n",
      "[LightGBM] [Info] Total Bins 2605\n",
      "[LightGBM] [Info] Number of data points in the train set: 4940266, number of used features: 17\n",
      "[LightGBM] [Info] Start training from score 5.277316\n",
      "Training until validation scores don't improve for 5 rounds\n",
      "[2]\tvalid_0's rmse: 41.6836\n",
      "[4]\tvalid_0's rmse: 41.0741\n",
      "[6]\tvalid_0's rmse: 40.6133\n",
      "[8]\tvalid_0's rmse: 40.2508\n",
      "[10]\tvalid_0's rmse: 39.9751\n",
      "[12]\tvalid_0's rmse: 39.7482\n",
      "[14]\tvalid_0's rmse: 39.5574\n",
      "[16]\tvalid_0's rmse: 39.3893\n",
      "[18]\tvalid_0's rmse: 39.2378\n",
      "[20]\tvalid_0's rmse: 39.0822\n",
      "[22]\tvalid_0's rmse: 38.9289\n",
      "[24]\tvalid_0's rmse: 38.781\n",
      "[26]\tvalid_0's rmse: 38.6539\n",
      "[28]\tvalid_0's rmse: 38.5151\n",
      "[30]\tvalid_0's rmse: 38.4143\n",
      "[32]\tvalid_0's rmse: 38.2983\n",
      "[34]\tvalid_0's rmse: 38.1653\n",
      "[36]\tvalid_0's rmse: 38.0375\n",
      "[38]\tvalid_0's rmse: 37.9123\n",
      "[40]\tvalid_0's rmse: 37.785\n",
      "[42]\tvalid_0's rmse: 37.6433\n",
      "[44]\tvalid_0's rmse: 37.5285\n",
      "[46]\tvalid_0's rmse: 37.4314\n",
      "[48]\tvalid_0's rmse: 37.3301\n"
     ]
    },
    {
     "name": "stderr",
     "output_type": "stream",
     "text": [
      "num_leaves, val_score: 37.250183:  40%|####      | 8/20 [04:21<06:30, 32.56s/it]"
     ]
    },
    {
     "name": "stdout",
     "output_type": "stream",
     "text": [
      "[50]\tvalid_0's rmse: 37.2502\n",
      "Did not meet early stopping. Best iteration is:\n",
      "[50]\tvalid_0's rmse: 37.2502\n",
      "[LightGBM] [Warning] Auto-choosing row-wise multi-threading, the overhead of testing was 0.139379 seconds.\n",
      "You can set `force_row_wise=true` to remove the overhead.\n",
      "And if memory is not enough, you can set `force_col_wise=true`.\n",
      "[LightGBM] [Info] Total Bins 2605\n",
      "[LightGBM] [Info] Number of data points in the train set: 4940266, number of used features: 17\n",
      "[LightGBM] [Info] Start training from score 5.277316\n",
      "Training until validation scores don't improve for 5 rounds\n",
      "[2]\tvalid_0's rmse: 41.7397\n",
      "[4]\tvalid_0's rmse: 41.1554\n",
      "[6]\tvalid_0's rmse: 40.7404\n",
      "[8]\tvalid_0's rmse: 40.4248\n",
      "[10]\tvalid_0's rmse: 40.1701\n",
      "[12]\tvalid_0's rmse: 39.9739\n",
      "[14]\tvalid_0's rmse: 39.8137\n",
      "[16]\tvalid_0's rmse: 39.6772\n",
      "[18]\tvalid_0's rmse: 39.5438\n",
      "[20]\tvalid_0's rmse: 39.417\n",
      "[22]\tvalid_0's rmse: 39.2908\n",
      "[24]\tvalid_0's rmse: 39.1818\n",
      "[26]\tvalid_0's rmse: 39.0632\n",
      "[28]\tvalid_0's rmse: 38.9384\n",
      "[30]\tvalid_0's rmse: 38.8447\n",
      "[32]\tvalid_0's rmse: 38.7282\n",
      "[34]\tvalid_0's rmse: 38.6338\n",
      "[36]\tvalid_0's rmse: 38.5201\n",
      "[38]\tvalid_0's rmse: 38.4293\n",
      "[40]\tvalid_0's rmse: 38.3154\n",
      "[42]\tvalid_0's rmse: 38.2035\n",
      "[44]\tvalid_0's rmse: 38.1374\n",
      "[46]\tvalid_0's rmse: 38.0495\n",
      "[48]\tvalid_0's rmse: 37.9753\n"
     ]
    },
    {
     "name": "stderr",
     "output_type": "stream",
     "text": [
      "num_leaves, val_score: 37.250183:  45%|####5     | 9/20 [04:54<05:59, 32.65s/it]"
     ]
    },
    {
     "name": "stdout",
     "output_type": "stream",
     "text": [
      "[50]\tvalid_0's rmse: 37.9066\n",
      "Did not meet early stopping. Best iteration is:\n",
      "[50]\tvalid_0's rmse: 37.9066\n",
      "[LightGBM] [Warning] Auto-choosing row-wise multi-threading, the overhead of testing was 0.159525 seconds.\n",
      "You can set `force_row_wise=true` to remove the overhead.\n",
      "And if memory is not enough, you can set `force_col_wise=true`.\n",
      "[LightGBM] [Info] Total Bins 2605\n",
      "[LightGBM] [Info] Number of data points in the train set: 4940266, number of used features: 17\n",
      "[LightGBM] [Info] Start training from score 5.277316\n",
      "Training until validation scores don't improve for 5 rounds\n",
      "[2]\tvalid_0's rmse: 41.7348\n",
      "[4]\tvalid_0's rmse: 41.1515\n",
      "[6]\tvalid_0's rmse: 40.7337\n",
      "[8]\tvalid_0's rmse: 40.4186\n",
      "[10]\tvalid_0's rmse: 40.1633\n",
      "[12]\tvalid_0's rmse: 39.9542\n",
      "[14]\tvalid_0's rmse: 39.7929\n",
      "[16]\tvalid_0's rmse: 39.6369\n",
      "[18]\tvalid_0's rmse: 39.4937\n",
      "[20]\tvalid_0's rmse: 39.3618\n",
      "[22]\tvalid_0's rmse: 39.2396\n",
      "[24]\tvalid_0's rmse: 39.1176\n",
      "[26]\tvalid_0's rmse: 39.0065\n",
      "[28]\tvalid_0's rmse: 38.8916\n",
      "[30]\tvalid_0's rmse: 38.7937\n",
      "[32]\tvalid_0's rmse: 38.6832\n",
      "[34]\tvalid_0's rmse: 38.5661\n",
      "[36]\tvalid_0's rmse: 38.4688\n",
      "[38]\tvalid_0's rmse: 38.3748\n",
      "[40]\tvalid_0's rmse: 38.2805\n",
      "[42]\tvalid_0's rmse: 38.178\n",
      "[44]\tvalid_0's rmse: 38.1078\n",
      "[46]\tvalid_0's rmse: 38.0029\n",
      "[48]\tvalid_0's rmse: 37.925\n"
     ]
    },
    {
     "name": "stderr",
     "output_type": "stream",
     "text": [
      "num_leaves, val_score: 37.250183:  50%|#####     | 10/20 [05:28<05:32, 33.21s/it]"
     ]
    },
    {
     "name": "stdout",
     "output_type": "stream",
     "text": [
      "[50]\tvalid_0's rmse: 37.8484\n",
      "Did not meet early stopping. Best iteration is:\n",
      "[50]\tvalid_0's rmse: 37.8484\n",
      "[LightGBM] [Warning] Auto-choosing row-wise multi-threading, the overhead of testing was 0.196828 seconds.\n",
      "You can set `force_row_wise=true` to remove the overhead.\n",
      "And if memory is not enough, you can set `force_col_wise=true`.\n",
      "[LightGBM] [Info] Total Bins 2605\n",
      "[LightGBM] [Info] Number of data points in the train set: 4940266, number of used features: 17\n",
      "[LightGBM] [Info] Start training from score 5.277316\n",
      "Training until validation scores don't improve for 5 rounds\n",
      "[2]\tvalid_0's rmse: 41.6762\n",
      "[4]\tvalid_0's rmse: 41.0624\n",
      "[6]\tvalid_0's rmse: 40.6\n",
      "[8]\tvalid_0's rmse: 40.2494\n",
      "[10]\tvalid_0's rmse: 39.9628\n",
      "[12]\tvalid_0's rmse: 39.7285\n",
      "[14]\tvalid_0's rmse: 39.5342\n",
      "[16]\tvalid_0's rmse: 39.3605\n",
      "[18]\tvalid_0's rmse: 39.1855\n",
      "[20]\tvalid_0's rmse: 39.0215\n",
      "[22]\tvalid_0's rmse: 38.8731\n",
      "[24]\tvalid_0's rmse: 38.7245\n",
      "[26]\tvalid_0's rmse: 38.5901\n",
      "[28]\tvalid_0's rmse: 38.4513\n",
      "[30]\tvalid_0's rmse: 38.3135\n",
      "[32]\tvalid_0's rmse: 38.1884\n",
      "[34]\tvalid_0's rmse: 38.056\n",
      "[36]\tvalid_0's rmse: 37.9331\n",
      "[38]\tvalid_0's rmse: 37.8028\n",
      "[40]\tvalid_0's rmse: 37.6839\n",
      "[42]\tvalid_0's rmse: 37.5704\n",
      "[44]\tvalid_0's rmse: 37.4274\n",
      "[46]\tvalid_0's rmse: 37.3308\n",
      "[48]\tvalid_0's rmse: 37.2232\n"
     ]
    },
    {
     "name": "stderr",
     "output_type": "stream",
     "text": [
      "num_leaves, val_score: 37.141423:  55%|#####5    | 11/20 [06:06<05:12, 34.76s/it]"
     ]
    },
    {
     "name": "stdout",
     "output_type": "stream",
     "text": [
      "[50]\tvalid_0's rmse: 37.1414\n",
      "Did not meet early stopping. Best iteration is:\n",
      "[50]\tvalid_0's rmse: 37.1414\n",
      "[LightGBM] [Warning] Auto-choosing row-wise multi-threading, the overhead of testing was 0.172287 seconds.\n",
      "You can set `force_row_wise=true` to remove the overhead.\n",
      "And if memory is not enough, you can set `force_col_wise=true`.\n",
      "[LightGBM] [Info] Total Bins 2605\n",
      "[LightGBM] [Info] Number of data points in the train set: 4940266, number of used features: 17\n",
      "[LightGBM] [Info] Start training from score 5.277316\n",
      "Training until validation scores don't improve for 5 rounds\n",
      "[2]\tvalid_0's rmse: 41.6757\n",
      "[4]\tvalid_0's rmse: 41.0612\n",
      "[6]\tvalid_0's rmse: 40.598\n",
      "[8]\tvalid_0's rmse: 40.2308\n",
      "[10]\tvalid_0's rmse: 39.9473\n",
      "[12]\tvalid_0's rmse: 39.7141\n",
      "[14]\tvalid_0's rmse: 39.5184\n",
      "[16]\tvalid_0's rmse: 39.3293\n",
      "[18]\tvalid_0's rmse: 39.1621\n",
      "[20]\tvalid_0's rmse: 39.0106\n",
      "[22]\tvalid_0's rmse: 38.8673\n",
      "[24]\tvalid_0's rmse: 38.7198\n",
      "[26]\tvalid_0's rmse: 38.5934\n",
      "[28]\tvalid_0's rmse: 38.4665\n",
      "[30]\tvalid_0's rmse: 38.3017\n",
      "[32]\tvalid_0's rmse: 38.1911\n",
      "[34]\tvalid_0's rmse: 38.0584\n",
      "[36]\tvalid_0's rmse: 37.918\n",
      "[38]\tvalid_0's rmse: 37.7865\n",
      "[40]\tvalid_0's rmse: 37.6752\n",
      "[42]\tvalid_0's rmse: 37.5542\n",
      "[44]\tvalid_0's rmse: 37.4404\n",
      "[46]\tvalid_0's rmse: 37.3497\n",
      "[48]\tvalid_0's rmse: 37.2532\n"
     ]
    },
    {
     "name": "stderr",
     "output_type": "stream",
     "text": [
      "num_leaves, val_score: 37.141423:  60%|######    | 12/20 [06:44<04:44, 35.62s/it]"
     ]
    },
    {
     "name": "stdout",
     "output_type": "stream",
     "text": [
      "[50]\tvalid_0's rmse: 37.1449\n",
      "Did not meet early stopping. Best iteration is:\n",
      "[50]\tvalid_0's rmse: 37.1449\n",
      "[LightGBM] [Warning] Auto-choosing row-wise multi-threading, the overhead of testing was 0.144138 seconds.\n",
      "You can set `force_row_wise=true` to remove the overhead.\n",
      "And if memory is not enough, you can set `force_col_wise=true`.\n",
      "[LightGBM] [Info] Total Bins 2605\n",
      "[LightGBM] [Info] Number of data points in the train set: 4940266, number of used features: 17\n",
      "[LightGBM] [Info] Start training from score 5.277316\n",
      "Training until validation scores don't improve for 5 rounds\n",
      "[2]\tvalid_0's rmse: 41.6757\n",
      "[4]\tvalid_0's rmse: 41.0612\n",
      "[6]\tvalid_0's rmse: 40.598\n",
      "[8]\tvalid_0's rmse: 40.2308\n",
      "[10]\tvalid_0's rmse: 39.9473\n",
      "[12]\tvalid_0's rmse: 39.7141\n",
      "[14]\tvalid_0's rmse: 39.5184\n",
      "[16]\tvalid_0's rmse: 39.3293\n",
      "[18]\tvalid_0's rmse: 39.1621\n",
      "[20]\tvalid_0's rmse: 39.0106\n",
      "[22]\tvalid_0's rmse: 38.8673\n",
      "[24]\tvalid_0's rmse: 38.7198\n",
      "[26]\tvalid_0's rmse: 38.5934\n",
      "[28]\tvalid_0's rmse: 38.4665\n",
      "[30]\tvalid_0's rmse: 38.3017\n",
      "[32]\tvalid_0's rmse: 38.1911\n",
      "[34]\tvalid_0's rmse: 38.0584\n",
      "[36]\tvalid_0's rmse: 37.918\n",
      "[38]\tvalid_0's rmse: 37.7865\n",
      "[40]\tvalid_0's rmse: 37.6752\n",
      "[42]\tvalid_0's rmse: 37.5542\n",
      "[44]\tvalid_0's rmse: 37.4404\n",
      "[46]\tvalid_0's rmse: 37.3497\n",
      "[48]\tvalid_0's rmse: 37.2532\n"
     ]
    },
    {
     "name": "stderr",
     "output_type": "stream",
     "text": [
      "num_leaves, val_score: 37.141423:  65%|######5   | 13/20 [07:20<04:10, 35.78s/it]"
     ]
    },
    {
     "name": "stdout",
     "output_type": "stream",
     "text": [
      "[50]\tvalid_0's rmse: 37.1449\n",
      "Did not meet early stopping. Best iteration is:\n",
      "[50]\tvalid_0's rmse: 37.1449\n"
     ]
    },
    {
     "name": "stderr",
     "output_type": "stream",
     "text": [
      "\r",
      "num_leaves, val_score: 37.141423:  65%|######5   | 13/20 [07:20<04:10, 35.78s/it]"
     ]
    },
    {
     "name": "stdout",
     "output_type": "stream",
     "text": [
      "[LightGBM] [Warning] Auto-choosing row-wise multi-threading, the overhead of testing was 0.148224 seconds.\n",
      "You can set `force_row_wise=true` to remove the overhead.\n",
      "And if memory is not enough, you can set `force_col_wise=true`.\n",
      "[LightGBM] [Info] Total Bins 2605\n",
      "[LightGBM] [Info] Number of data points in the train set: 4940266, number of used features: 17\n",
      "[LightGBM] [Info] Start training from score 5.277316\n",
      "Training until validation scores don't improve for 5 rounds\n",
      "[2]\tvalid_0's rmse: 42.0072\n",
      "[4]\tvalid_0's rmse: 41.6348\n",
      "[6]\tvalid_0's rmse: 41.3759\n",
      "[8]\tvalid_0's rmse: 41.189\n",
      "[10]\tvalid_0's rmse: 41.0584\n",
      "[12]\tvalid_0's rmse: 40.9644\n",
      "[14]\tvalid_0's rmse: 40.8954\n",
      "[16]\tvalid_0's rmse: 40.8442\n",
      "[18]\tvalid_0's rmse: 40.8014\n",
      "[20]\tvalid_0's rmse: 40.7666\n",
      "[22]\tvalid_0's rmse: 40.7331\n",
      "[24]\tvalid_0's rmse: 40.7002\n",
      "[26]\tvalid_0's rmse: 40.6734\n",
      "[28]\tvalid_0's rmse: 40.6405\n",
      "[30]\tvalid_0's rmse: 40.6222\n",
      "[32]\tvalid_0's rmse: 40.5993\n",
      "[34]\tvalid_0's rmse: 40.5779\n",
      "[36]\tvalid_0's rmse: 40.565\n",
      "[38]\tvalid_0's rmse: 40.5458\n",
      "[40]\tvalid_0's rmse: 40.5334\n",
      "[42]\tvalid_0's rmse: 40.5177\n",
      "[44]\tvalid_0's rmse: 40.5032\n",
      "[46]\tvalid_0's rmse: 40.4898\n",
      "[48]\tvalid_0's rmse: 40.473\n"
     ]
    },
    {
     "name": "stderr",
     "output_type": "stream",
     "text": [
      "num_leaves, val_score: 37.141423:  70%|#######   | 14/20 [07:45<03:14, 32.38s/it]"
     ]
    },
    {
     "name": "stdout",
     "output_type": "stream",
     "text": [
      "[50]\tvalid_0's rmse: 40.4615\n",
      "Did not meet early stopping. Best iteration is:\n",
      "[50]\tvalid_0's rmse: 40.4615\n",
      "[LightGBM] [Warning] Auto-choosing row-wise multi-threading, the overhead of testing was 0.136481 seconds.\n",
      "You can set `force_row_wise=true` to remove the overhead.\n",
      "And if memory is not enough, you can set `force_col_wise=true`.\n",
      "[LightGBM] [Info] Total Bins 2605\n",
      "[LightGBM] [Info] Number of data points in the train set: 4940266, number of used features: 17\n",
      "[LightGBM] [Info] Start training from score 5.277316\n",
      "Training until validation scores don't improve for 5 rounds\n",
      "[2]\tvalid_0's rmse: 41.6882\n",
      "[4]\tvalid_0's rmse: 41.0817\n",
      "[6]\tvalid_0's rmse: 40.6187\n",
      "[8]\tvalid_0's rmse: 40.2661\n",
      "[10]\tvalid_0's rmse: 39.9877\n",
      "[12]\tvalid_0's rmse: 39.7536\n",
      "[14]\tvalid_0's rmse: 39.5647\n",
      "[16]\tvalid_0's rmse: 39.3893\n",
      "[18]\tvalid_0's rmse: 39.226\n",
      "[20]\tvalid_0's rmse: 39.0719\n",
      "[22]\tvalid_0's rmse: 38.9137\n",
      "[24]\tvalid_0's rmse: 38.7565\n",
      "[26]\tvalid_0's rmse: 38.6301\n",
      "[28]\tvalid_0's rmse: 38.5087\n",
      "[30]\tvalid_0's rmse: 38.3789\n",
      "[32]\tvalid_0's rmse: 38.2423\n",
      "[34]\tvalid_0's rmse: 38.1112\n",
      "[36]\tvalid_0's rmse: 37.9862\n",
      "[38]\tvalid_0's rmse: 37.837\n",
      "[40]\tvalid_0's rmse: 37.7418\n",
      "[42]\tvalid_0's rmse: 37.6422\n",
      "[44]\tvalid_0's rmse: 37.5069\n",
      "[46]\tvalid_0's rmse: 37.4338\n",
      "[48]\tvalid_0's rmse: 37.3168\n"
     ]
    },
    {
     "name": "stderr",
     "output_type": "stream",
     "text": [
      "num_leaves, val_score: 37.141423:  75%|#######5  | 15/20 [08:23<02:50, 34.09s/it]"
     ]
    },
    {
     "name": "stdout",
     "output_type": "stream",
     "text": [
      "[50]\tvalid_0's rmse: 37.2409\n",
      "Did not meet early stopping. Best iteration is:\n",
      "[50]\tvalid_0's rmse: 37.2409\n",
      "[LightGBM] [Warning] Auto-choosing row-wise multi-threading, the overhead of testing was 0.270897 seconds.\n",
      "You can set `force_row_wise=true` to remove the overhead.\n",
      "And if memory is not enough, you can set `force_col_wise=true`.\n",
      "[LightGBM] [Info] Total Bins 2605\n",
      "[LightGBM] [Info] Number of data points in the train set: 4940266, number of used features: 17\n",
      "[LightGBM] [Info] Start training from score 5.277316\n",
      "Training until validation scores don't improve for 5 rounds\n",
      "[2]\tvalid_0's rmse: 41.7082\n",
      "[4]\tvalid_0's rmse: 41.0905\n",
      "[6]\tvalid_0's rmse: 40.6452\n",
      "[8]\tvalid_0's rmse: 40.3031\n",
      "[10]\tvalid_0's rmse: 40.0256\n",
      "[12]\tvalid_0's rmse: 39.8084\n",
      "[14]\tvalid_0's rmse: 39.6299\n",
      "[16]\tvalid_0's rmse: 39.4611\n",
      "[18]\tvalid_0's rmse: 39.2947\n",
      "[20]\tvalid_0's rmse: 39.1528\n",
      "[22]\tvalid_0's rmse: 39.0005\n",
      "[24]\tvalid_0's rmse: 38.8605\n",
      "[26]\tvalid_0's rmse: 38.736\n",
      "[28]\tvalid_0's rmse: 38.6261\n",
      "[30]\tvalid_0's rmse: 38.5085\n",
      "[32]\tvalid_0's rmse: 38.3881\n",
      "[34]\tvalid_0's rmse: 38.2663\n",
      "[36]\tvalid_0's rmse: 38.1243\n",
      "[38]\tvalid_0's rmse: 38.0454\n",
      "[40]\tvalid_0's rmse: 37.92\n",
      "[42]\tvalid_0's rmse: 37.8173\n",
      "[44]\tvalid_0's rmse: 37.7198\n",
      "[46]\tvalid_0's rmse: 37.6008\n",
      "[48]\tvalid_0's rmse: 37.5141\n"
     ]
    },
    {
     "name": "stderr",
     "output_type": "stream",
     "text": [
      "num_leaves, val_score: 37.141423:  80%|########  | 16/20 [08:59<02:18, 34.68s/it]"
     ]
    },
    {
     "name": "stdout",
     "output_type": "stream",
     "text": [
      "[50]\tvalid_0's rmse: 37.4297\n",
      "Did not meet early stopping. Best iteration is:\n",
      "[50]\tvalid_0's rmse: 37.4297\n",
      "[LightGBM] [Warning] Auto-choosing row-wise multi-threading, the overhead of testing was 0.157450 seconds.\n",
      "You can set `force_row_wise=true` to remove the overhead.\n",
      "And if memory is not enough, you can set `force_col_wise=true`.\n",
      "[LightGBM] [Info] Total Bins 2605\n",
      "[LightGBM] [Info] Number of data points in the train set: 4940266, number of used features: 17\n",
      "[LightGBM] [Info] Start training from score 5.277316\n",
      "Training until validation scores don't improve for 5 rounds\n",
      "[2]\tvalid_0's rmse: 41.7576\n",
      "[4]\tvalid_0's rmse: 41.1942\n",
      "[6]\tvalid_0's rmse: 40.7946\n",
      "[8]\tvalid_0's rmse: 40.4974\n",
      "[10]\tvalid_0's rmse: 40.2757\n",
      "[12]\tvalid_0's rmse: 40.0775\n",
      "[14]\tvalid_0's rmse: 39.9174\n",
      "[16]\tvalid_0's rmse: 39.7822\n",
      "[18]\tvalid_0's rmse: 39.655\n",
      "[20]\tvalid_0's rmse: 39.5275\n",
      "[22]\tvalid_0's rmse: 39.4235\n",
      "[24]\tvalid_0's rmse: 39.3184\n",
      "[26]\tvalid_0's rmse: 39.2231\n",
      "[28]\tvalid_0's rmse: 39.1259\n",
      "[30]\tvalid_0's rmse: 39.0292\n",
      "[32]\tvalid_0's rmse: 38.9381\n",
      "[34]\tvalid_0's rmse: 38.8373\n",
      "[36]\tvalid_0's rmse: 38.7299\n",
      "[38]\tvalid_0's rmse: 38.6506\n",
      "[40]\tvalid_0's rmse: 38.5539\n",
      "[42]\tvalid_0's rmse: 38.4621\n",
      "[44]\tvalid_0's rmse: 38.3934\n",
      "[46]\tvalid_0's rmse: 38.3278\n",
      "[48]\tvalid_0's rmse: 38.2386\n"
     ]
    },
    {
     "name": "stderr",
     "output_type": "stream",
     "text": [
      "num_leaves, val_score: 37.141423:  85%|########5 | 17/20 [09:30<01:41, 33.73s/it]"
     ]
    },
    {
     "name": "stdout",
     "output_type": "stream",
     "text": [
      "[50]\tvalid_0's rmse: 38.1714\n",
      "Did not meet early stopping. Best iteration is:\n",
      "[50]\tvalid_0's rmse: 38.1714\n",
      "[LightGBM] [Warning] Auto-choosing row-wise multi-threading, the overhead of testing was 0.173133 seconds.\n",
      "You can set `force_row_wise=true` to remove the overhead.\n",
      "And if memory is not enough, you can set `force_col_wise=true`.\n",
      "[LightGBM] [Info] Total Bins 2605\n",
      "[LightGBM] [Info] Number of data points in the train set: 4940266, number of used features: 17\n",
      "[LightGBM] [Info] Start training from score 5.277316\n",
      "Training until validation scores don't improve for 5 rounds\n",
      "[2]\tvalid_0's rmse: 41.6785\n",
      "[4]\tvalid_0's rmse: 41.0682\n",
      "[6]\tvalid_0's rmse: 40.6108\n",
      "[8]\tvalid_0's rmse: 40.2466\n",
      "[10]\tvalid_0's rmse: 39.9638\n",
      "[12]\tvalid_0's rmse: 39.738\n",
      "[14]\tvalid_0's rmse: 39.5415\n",
      "[16]\tvalid_0's rmse: 39.3598\n",
      "[18]\tvalid_0's rmse: 39.1857\n",
      "[20]\tvalid_0's rmse: 39.0511\n",
      "[22]\tvalid_0's rmse: 38.9012\n",
      "[24]\tvalid_0's rmse: 38.7159\n",
      "[26]\tvalid_0's rmse: 38.5684\n",
      "[28]\tvalid_0's rmse: 38.4515\n",
      "[30]\tvalid_0's rmse: 38.3313\n",
      "[32]\tvalid_0's rmse: 38.1837\n",
      "[34]\tvalid_0's rmse: 38.0575\n",
      "[36]\tvalid_0's rmse: 37.9209\n",
      "[38]\tvalid_0's rmse: 37.802\n",
      "[40]\tvalid_0's rmse: 37.6903\n",
      "[42]\tvalid_0's rmse: 37.5769\n",
      "[44]\tvalid_0's rmse: 37.4648\n",
      "[46]\tvalid_0's rmse: 37.3906\n",
      "[48]\tvalid_0's rmse: 37.2878\n"
     ]
    },
    {
     "name": "stderr",
     "output_type": "stream",
     "text": [
      "num_leaves, val_score: 37.141423:  90%|######### | 18/20 [10:10<01:11, 35.60s/it]"
     ]
    },
    {
     "name": "stdout",
     "output_type": "stream",
     "text": [
      "[50]\tvalid_0's rmse: 37.1808\n",
      "Did not meet early stopping. Best iteration is:\n",
      "[50]\tvalid_0's rmse: 37.1808\n",
      "[LightGBM] [Warning] Auto-choosing row-wise multi-threading, the overhead of testing was 0.153939 seconds.\n",
      "You can set `force_row_wise=true` to remove the overhead.\n",
      "And if memory is not enough, you can set `force_col_wise=true`.\n",
      "[LightGBM] [Info] Total Bins 2605\n",
      "[LightGBM] [Info] Number of data points in the train set: 4940266, number of used features: 17\n",
      "[LightGBM] [Info] Start training from score 5.277316\n",
      "Training until validation scores don't improve for 5 rounds\n",
      "[2]\tvalid_0's rmse: 41.7046\n",
      "[4]\tvalid_0's rmse: 41.0856\n",
      "[6]\tvalid_0's rmse: 40.6386\n",
      "[8]\tvalid_0's rmse: 40.3055\n",
      "[10]\tvalid_0's rmse: 40.0358\n",
      "[12]\tvalid_0's rmse: 39.8081\n",
      "[14]\tvalid_0's rmse: 39.6305\n",
      "[16]\tvalid_0's rmse: 39.4732\n",
      "[18]\tvalid_0's rmse: 39.3106\n",
      "[20]\tvalid_0's rmse: 39.1621\n",
      "[22]\tvalid_0's rmse: 39.0277\n",
      "[24]\tvalid_0's rmse: 38.8972\n",
      "[26]\tvalid_0's rmse: 38.7625\n",
      "[28]\tvalid_0's rmse: 38.6419\n",
      "[30]\tvalid_0's rmse: 38.5174\n",
      "[32]\tvalid_0's rmse: 38.3742\n",
      "[34]\tvalid_0's rmse: 38.2463\n",
      "[36]\tvalid_0's rmse: 38.0781\n",
      "[38]\tvalid_0's rmse: 37.9815\n",
      "[40]\tvalid_0's rmse: 37.8716\n",
      "[42]\tvalid_0's rmse: 37.7855\n",
      "[44]\tvalid_0's rmse: 37.6773\n",
      "[46]\tvalid_0's rmse: 37.6038\n",
      "[48]\tvalid_0's rmse: 37.4985\n"
     ]
    },
    {
     "name": "stderr",
     "output_type": "stream",
     "text": [
      "num_leaves, val_score: 37.141423:  95%|#########5| 19/20 [10:45<00:35, 35.38s/it]"
     ]
    },
    {
     "name": "stdout",
     "output_type": "stream",
     "text": [
      "[50]\tvalid_0's rmse: 37.3935\n",
      "Did not meet early stopping. Best iteration is:\n",
      "[50]\tvalid_0's rmse: 37.3935\n",
      "[LightGBM] [Warning] Auto-choosing row-wise multi-threading, the overhead of testing was 0.170384 seconds.\n",
      "You can set `force_row_wise=true` to remove the overhead.\n",
      "And if memory is not enough, you can set `force_col_wise=true`.\n",
      "[LightGBM] [Info] Total Bins 2605\n",
      "[LightGBM] [Info] Number of data points in the train set: 4940266, number of used features: 17\n",
      "[LightGBM] [Info] Start training from score 5.277316\n",
      "Training until validation scores don't improve for 5 rounds\n",
      "[2]\tvalid_0's rmse: 42.1438\n",
      "[4]\tvalid_0's rmse: 41.8456\n",
      "[6]\tvalid_0's rmse: 41.6272\n",
      "[8]\tvalid_0's rmse: 41.4687\n",
      "[10]\tvalid_0's rmse: 41.346\n",
      "[12]\tvalid_0's rmse: 41.2562\n",
      "[14]\tvalid_0's rmse: 41.186\n",
      "[16]\tvalid_0's rmse: 41.1306\n",
      "[18]\tvalid_0's rmse: 41.085\n",
      "[20]\tvalid_0's rmse: 41.0461\n",
      "[22]\tvalid_0's rmse: 41.0143\n",
      "[24]\tvalid_0's rmse: 40.9885\n",
      "[26]\tvalid_0's rmse: 40.9653\n",
      "[28]\tvalid_0's rmse: 40.9458\n",
      "[30]\tvalid_0's rmse: 40.9246\n",
      "[32]\tvalid_0's rmse: 40.9091\n",
      "[34]\tvalid_0's rmse: 40.8919\n",
      "[36]\tvalid_0's rmse: 40.8806\n",
      "[38]\tvalid_0's rmse: 40.8665\n",
      "[40]\tvalid_0's rmse: 40.8562\n",
      "[42]\tvalid_0's rmse: 40.8478\n",
      "[44]\tvalid_0's rmse: 40.8407\n",
      "[46]\tvalid_0's rmse: 40.8328\n",
      "[48]\tvalid_0's rmse: 40.8256\n"
     ]
    },
    {
     "name": "stderr",
     "output_type": "stream",
     "text": [
      "num_leaves, val_score: 37.141423: 100%|##########| 20/20 [11:03<00:00, 33.17s/it]\n",
      "bagging, val_score: 37.141423:   0%|          | 0/10 [00:00<?, ?it/s]"
     ]
    },
    {
     "name": "stdout",
     "output_type": "stream",
     "text": [
      "[50]\tvalid_0's rmse: 40.8178\n",
      "Did not meet early stopping. Best iteration is:\n",
      "[50]\tvalid_0's rmse: 40.8178\n",
      "[LightGBM] [Warning] Auto-choosing row-wise multi-threading, the overhead of testing was 0.139603 seconds.\n",
      "You can set `force_row_wise=true` to remove the overhead.\n",
      "And if memory is not enough, you can set `force_col_wise=true`.\n",
      "[LightGBM] [Info] Total Bins 2605\n",
      "[LightGBM] [Info] Number of data points in the train set: 4940266, number of used features: 17\n",
      "[LightGBM] [Info] Start training from score 5.277316\n",
      "Training until validation scores don't improve for 5 rounds\n",
      "[2]\tvalid_0's rmse: 41.6949\n",
      "[4]\tvalid_0's rmse: 41.0773\n",
      "[6]\tvalid_0's rmse: 40.6106\n",
      "[8]\tvalid_0's rmse: 40.2686\n",
      "[10]\tvalid_0's rmse: 39.9837\n",
      "[12]\tvalid_0's rmse: 39.7533\n",
      "[14]\tvalid_0's rmse: 39.5565\n",
      "[16]\tvalid_0's rmse: 39.3857\n",
      "[18]\tvalid_0's rmse: 39.223\n",
      "[20]\tvalid_0's rmse: 39.0826\n",
      "[22]\tvalid_0's rmse: 38.922\n",
      "[24]\tvalid_0's rmse: 38.7639\n",
      "[26]\tvalid_0's rmse: 38.6154\n",
      "[28]\tvalid_0's rmse: 38.4886\n",
      "[30]\tvalid_0's rmse: 38.3291\n",
      "[32]\tvalid_0's rmse: 38.2087\n",
      "[34]\tvalid_0's rmse: 38.0592\n",
      "[36]\tvalid_0's rmse: 37.9332\n",
      "[38]\tvalid_0's rmse: 37.8245\n",
      "[40]\tvalid_0's rmse: 37.6711\n",
      "[42]\tvalid_0's rmse: 37.5829\n",
      "[44]\tvalid_0's rmse: 37.462\n",
      "[46]\tvalid_0's rmse: 37.3705\n",
      "[48]\tvalid_0's rmse: 37.2906\n"
     ]
    },
    {
     "name": "stderr",
     "output_type": "stream",
     "text": [
      "bagging, val_score: 37.141423:  10%|#         | 1/10 [00:38<05:45, 38.41s/it]"
     ]
    },
    {
     "name": "stdout",
     "output_type": "stream",
     "text": [
      "[50]\tvalid_0's rmse: 37.199\n",
      "Did not meet early stopping. Best iteration is:\n",
      "[50]\tvalid_0's rmse: 37.199\n",
      "[LightGBM] [Warning] Auto-choosing row-wise multi-threading, the overhead of testing was 0.138413 seconds.\n",
      "You can set `force_row_wise=true` to remove the overhead.\n",
      "And if memory is not enough, you can set `force_col_wise=true`.\n",
      "[LightGBM] [Info] Total Bins 2605\n",
      "[LightGBM] [Info] Number of data points in the train set: 4940266, number of used features: 17\n",
      "[LightGBM] [Info] Start training from score 5.277316\n",
      "Training until validation scores don't improve for 5 rounds\n",
      "[2]\tvalid_0's rmse: 41.6734\n",
      "[4]\tvalid_0's rmse: 41.0558\n",
      "[6]\tvalid_0's rmse: 40.5792\n",
      "[8]\tvalid_0's rmse: 40.2231\n",
      "[10]\tvalid_0's rmse: 39.9419\n",
      "[12]\tvalid_0's rmse: 39.6997\n",
      "[14]\tvalid_0's rmse: 39.506\n",
      "[16]\tvalid_0's rmse: 39.3468\n",
      "[18]\tvalid_0's rmse: 39.1773\n",
      "[20]\tvalid_0's rmse: 39.026\n",
      "[22]\tvalid_0's rmse: 38.8893\n",
      "[24]\tvalid_0's rmse: 38.7421\n",
      "[26]\tvalid_0's rmse: 38.6057\n",
      "[28]\tvalid_0's rmse: 38.4502\n",
      "[30]\tvalid_0's rmse: 38.3188\n",
      "[32]\tvalid_0's rmse: 38.1747\n",
      "[34]\tvalid_0's rmse: 38.0589\n",
      "[36]\tvalid_0's rmse: 37.9108\n",
      "[38]\tvalid_0's rmse: 37.8082\n",
      "[40]\tvalid_0's rmse: 37.6681\n",
      "[42]\tvalid_0's rmse: 37.5454\n",
      "[44]\tvalid_0's rmse: 37.4384\n",
      "[46]\tvalid_0's rmse: 37.3191\n",
      "[48]\tvalid_0's rmse: 37.2291\n",
      "[50]\tvalid_0's rmse: 37.1402\n",
      "Did not meet early stopping. Best iteration is:\n",
      "[50]\tvalid_0's rmse: 37.1402\n"
     ]
    },
    {
     "name": "stderr",
     "output_type": "stream",
     "text": [
      "bagging, val_score: 37.140212:  20%|##        | 2/10 [01:27<05:56, 44.60s/it]"
     ]
    },
    {
     "name": "stdout",
     "output_type": "stream",
     "text": [
      "[LightGBM] [Warning] Auto-choosing row-wise multi-threading, the overhead of testing was 0.199342 seconds.\n",
      "You can set `force_row_wise=true` to remove the overhead.\n",
      "And if memory is not enough, you can set `force_col_wise=true`.\n",
      "[LightGBM] [Info] Total Bins 2605\n",
      "[LightGBM] [Info] Number of data points in the train set: 4940266, number of used features: 17\n",
      "[LightGBM] [Info] Start training from score 5.277316\n",
      "Training until validation scores don't improve for 5 rounds\n",
      "[2]\tvalid_0's rmse: 41.7323\n",
      "[4]\tvalid_0's rmse: 41.1289\n",
      "[6]\tvalid_0's rmse: 40.6823\n",
      "[8]\tvalid_0's rmse: 40.3301\n",
      "[10]\tvalid_0's rmse: 40.046\n",
      "[12]\tvalid_0's rmse: 39.8164\n",
      "[14]\tvalid_0's rmse: 39.6349\n",
      "[16]\tvalid_0's rmse: 39.4557\n",
      "[18]\tvalid_0's rmse: 39.3046\n",
      "[20]\tvalid_0's rmse: 39.1527\n",
      "[22]\tvalid_0's rmse: 39.0152\n",
      "[24]\tvalid_0's rmse: 38.8772\n",
      "[26]\tvalid_0's rmse: 38.7471\n",
      "[28]\tvalid_0's rmse: 38.6274\n",
      "[30]\tvalid_0's rmse: 38.4844\n",
      "[32]\tvalid_0's rmse: 38.3588\n",
      "[34]\tvalid_0's rmse: 38.2373\n",
      "[36]\tvalid_0's rmse: 38.116\n",
      "[38]\tvalid_0's rmse: 38.0235\n",
      "[40]\tvalid_0's rmse: 37.8993\n",
      "[42]\tvalid_0's rmse: 37.7514\n",
      "[44]\tvalid_0's rmse: 37.6549\n",
      "[46]\tvalid_0's rmse: 37.5648\n",
      "[48]\tvalid_0's rmse: 37.4603\n"
     ]
    },
    {
     "name": "stderr",
     "output_type": "stream",
     "text": [
      "bagging, val_score: 37.140212:  30%|###       | 3/10 [02:08<05:01, 43.03s/it]"
     ]
    },
    {
     "name": "stdout",
     "output_type": "stream",
     "text": [
      "[50]\tvalid_0's rmse: 37.3839\n",
      "Did not meet early stopping. Best iteration is:\n",
      "[50]\tvalid_0's rmse: 37.3839\n",
      "[LightGBM] [Warning] Auto-choosing row-wise multi-threading, the overhead of testing was 0.150105 seconds.\n",
      "You can set `force_row_wise=true` to remove the overhead.\n",
      "And if memory is not enough, you can set `force_col_wise=true`.\n",
      "[LightGBM] [Info] Total Bins 2605\n",
      "[LightGBM] [Info] Number of data points in the train set: 4940266, number of used features: 17\n",
      "[LightGBM] [Info] Start training from score 5.277316\n",
      "Training until validation scores don't improve for 5 rounds\n",
      "[2]\tvalid_0's rmse: 41.684\n",
      "[4]\tvalid_0's rmse: 41.0687\n",
      "[6]\tvalid_0's rmse: 40.5955\n",
      "[8]\tvalid_0's rmse: 40.2318\n",
      "[10]\tvalid_0's rmse: 39.9494\n",
      "[12]\tvalid_0's rmse: 39.7093\n",
      "[14]\tvalid_0's rmse: 39.5021\n",
      "[16]\tvalid_0's rmse: 39.3208\n",
      "[18]\tvalid_0's rmse: 39.1525\n",
      "[20]\tvalid_0's rmse: 39.004\n",
      "[22]\tvalid_0's rmse: 38.8447\n",
      "[24]\tvalid_0's rmse: 38.697\n",
      "[26]\tvalid_0's rmse: 38.5438\n",
      "[28]\tvalid_0's rmse: 38.4167\n",
      "[30]\tvalid_0's rmse: 38.2751\n",
      "[32]\tvalid_0's rmse: 38.1697\n",
      "[34]\tvalid_0's rmse: 38.0509\n",
      "[36]\tvalid_0's rmse: 37.9466\n",
      "[38]\tvalid_0's rmse: 37.7975\n",
      "[40]\tvalid_0's rmse: 37.6777\n",
      "[42]\tvalid_0's rmse: 37.5507\n",
      "[44]\tvalid_0's rmse: 37.4248\n",
      "[46]\tvalid_0's rmse: 37.3489\n",
      "[48]\tvalid_0's rmse: 37.2574\n"
     ]
    },
    {
     "name": "stderr",
     "output_type": "stream",
     "text": [
      "bagging, val_score: 37.140212:  40%|####      | 4/10 [03:00<04:39, 46.63s/it]"
     ]
    },
    {
     "name": "stdout",
     "output_type": "stream",
     "text": [
      "[50]\tvalid_0's rmse: 37.1618\n",
      "Did not meet early stopping. Best iteration is:\n",
      "[50]\tvalid_0's rmse: 37.1618\n"
     ]
    },
    {
     "name": "stderr",
     "output_type": "stream",
     "text": [
      "\r",
      "bagging, val_score: 37.140212:  40%|####      | 4/10 [03:00<04:39, 46.63s/it]"
     ]
    },
    {
     "name": "stdout",
     "output_type": "stream",
     "text": [
      "[LightGBM] [Warning] Auto-choosing row-wise multi-threading, the overhead of testing was 0.144498 seconds.\n",
      "You can set `force_row_wise=true` to remove the overhead.\n",
      "And if memory is not enough, you can set `force_col_wise=true`.\n",
      "[LightGBM] [Info] Total Bins 2605\n",
      "[LightGBM] [Info] Number of data points in the train set: 4940266, number of used features: 17\n",
      "[LightGBM] [Info] Start training from score 5.277316\n",
      "Training until validation scores don't improve for 5 rounds\n",
      "[2]\tvalid_0's rmse: 41.7183\n",
      "[4]\tvalid_0's rmse: 41.1357\n",
      "[6]\tvalid_0's rmse: 40.6806\n",
      "[8]\tvalid_0's rmse: 40.3374\n",
      "[10]\tvalid_0's rmse: 40.0666\n",
      "[12]\tvalid_0's rmse: 39.8439\n",
      "[14]\tvalid_0's rmse: 39.6438\n",
      "[16]\tvalid_0's rmse: 39.4739\n",
      "[18]\tvalid_0's rmse: 39.3114\n",
      "[20]\tvalid_0's rmse: 39.1526\n",
      "[22]\tvalid_0's rmse: 39.0177\n",
      "[24]\tvalid_0's rmse: 38.8746\n",
      "[26]\tvalid_0's rmse: 38.7344\n",
      "[28]\tvalid_0's rmse: 38.6086\n",
      "[30]\tvalid_0's rmse: 38.4987\n",
      "[32]\tvalid_0's rmse: 38.3809\n",
      "[34]\tvalid_0's rmse: 38.2749\n",
      "[36]\tvalid_0's rmse: 38.1601\n",
      "[38]\tvalid_0's rmse: 38.0069\n",
      "[40]\tvalid_0's rmse: 37.9285\n",
      "[42]\tvalid_0's rmse: 37.8364\n",
      "[44]\tvalid_0's rmse: 37.7242\n",
      "[46]\tvalid_0's rmse: 37.6437\n",
      "[48]\tvalid_0's rmse: 37.554\n"
     ]
    },
    {
     "name": "stderr",
     "output_type": "stream",
     "text": [
      "bagging, val_score: 37.140212:  50%|#####     | 5/10 [03:36<03:33, 42.73s/it]"
     ]
    },
    {
     "name": "stdout",
     "output_type": "stream",
     "text": [
      "[50]\tvalid_0's rmse: 37.4505\n",
      "Did not meet early stopping. Best iteration is:\n",
      "[50]\tvalid_0's rmse: 37.4505\n",
      "[LightGBM] [Warning] Auto-choosing row-wise multi-threading, the overhead of testing was 0.182272 seconds.\n",
      "You can set `force_row_wise=true` to remove the overhead.\n",
      "And if memory is not enough, you can set `force_col_wise=true`.\n",
      "[LightGBM] [Info] Total Bins 2605\n",
      "[LightGBM] [Info] Number of data points in the train set: 4940266, number of used features: 17\n",
      "[LightGBM] [Info] Start training from score 5.277316\n",
      "Training until validation scores don't improve for 5 rounds\n",
      "[2]\tvalid_0's rmse: 41.7264\n",
      "[4]\tvalid_0's rmse: 41.1169\n",
      "[6]\tvalid_0's rmse: 40.659\n",
      "[8]\tvalid_0's rmse: 40.3017\n",
      "[10]\tvalid_0's rmse: 40.016\n",
      "[12]\tvalid_0's rmse: 39.7823\n",
      "[14]\tvalid_0's rmse: 39.5987\n",
      "[16]\tvalid_0's rmse: 39.4361\n",
      "[18]\tvalid_0's rmse: 39.2853\n",
      "[20]\tvalid_0's rmse: 39.1235\n",
      "[22]\tvalid_0's rmse: 38.9839\n",
      "[24]\tvalid_0's rmse: 38.8591\n",
      "[26]\tvalid_0's rmse: 38.7023\n",
      "[28]\tvalid_0's rmse: 38.5726\n",
      "[30]\tvalid_0's rmse: 38.4471\n",
      "[32]\tvalid_0's rmse: 38.2991\n",
      "[34]\tvalid_0's rmse: 38.1592\n",
      "[36]\tvalid_0's rmse: 38.0408\n",
      "[38]\tvalid_0's rmse: 37.9166\n",
      "[40]\tvalid_0's rmse: 37.8354\n",
      "[42]\tvalid_0's rmse: 37.7502\n",
      "[44]\tvalid_0's rmse: 37.6334\n",
      "[46]\tvalid_0's rmse: 37.5113\n",
      "[48]\tvalid_0's rmse: 37.4114\n"
     ]
    },
    {
     "name": "stderr",
     "output_type": "stream",
     "text": [
      "bagging, val_score: 37.140212:  60%|######    | 6/10 [04:15<02:46, 41.53s/it]"
     ]
    },
    {
     "name": "stdout",
     "output_type": "stream",
     "text": [
      "[50]\tvalid_0's rmse: 37.3196\n",
      "Did not meet early stopping. Best iteration is:\n",
      "[50]\tvalid_0's rmse: 37.3196\n"
     ]
    },
    {
     "name": "stderr",
     "output_type": "stream",
     "text": [
      "\r",
      "bagging, val_score: 37.140212:  60%|######    | 6/10 [04:15<02:46, 41.53s/it]"
     ]
    },
    {
     "name": "stdout",
     "output_type": "stream",
     "text": [
      "[LightGBM] [Warning] Auto-choosing row-wise multi-threading, the overhead of testing was 0.153711 seconds.\n",
      "You can set `force_row_wise=true` to remove the overhead.\n",
      "And if memory is not enough, you can set `force_col_wise=true`.\n",
      "[LightGBM] [Info] Total Bins 2605\n",
      "[LightGBM] [Info] Number of data points in the train set: 4940266, number of used features: 17\n",
      "[LightGBM] [Info] Start training from score 5.277316\n",
      "Training until validation scores don't improve for 5 rounds\n",
      "[2]\tvalid_0's rmse: 41.7249\n",
      "[4]\tvalid_0's rmse: 41.1252\n",
      "[6]\tvalid_0's rmse: 40.6888\n",
      "[8]\tvalid_0's rmse: 40.3346\n",
      "[10]\tvalid_0's rmse: 40.059\n",
      "[12]\tvalid_0's rmse: 39.8402\n",
      "[14]\tvalid_0's rmse: 39.6415\n",
      "[16]\tvalid_0's rmse: 39.451\n",
      "[18]\tvalid_0's rmse: 39.2971\n",
      "[20]\tvalid_0's rmse: 39.1674\n",
      "[22]\tvalid_0's rmse: 39.036\n",
      "[24]\tvalid_0's rmse: 38.8954\n",
      "[26]\tvalid_0's rmse: 38.7581\n",
      "[28]\tvalid_0's rmse: 38.6284\n",
      "[30]\tvalid_0's rmse: 38.5071\n",
      "[32]\tvalid_0's rmse: 38.3988\n",
      "[34]\tvalid_0's rmse: 38.2822\n",
      "[36]\tvalid_0's rmse: 38.1856\n",
      "[38]\tvalid_0's rmse: 38.0964\n",
      "[40]\tvalid_0's rmse: 37.9679\n",
      "[42]\tvalid_0's rmse: 37.8622\n",
      "[44]\tvalid_0's rmse: 37.7287\n",
      "[46]\tvalid_0's rmse: 37.6426\n",
      "[48]\tvalid_0's rmse: 37.5471\n"
     ]
    },
    {
     "name": "stderr",
     "output_type": "stream",
     "text": [
      "bagging, val_score: 37.140212:  70%|#######   | 7/10 [04:55<02:02, 40.95s/it]"
     ]
    },
    {
     "name": "stdout",
     "output_type": "stream",
     "text": [
      "[50]\tvalid_0's rmse: 37.4618\n",
      "Did not meet early stopping. Best iteration is:\n",
      "[50]\tvalid_0's rmse: 37.4618\n",
      "[LightGBM] [Warning] Auto-choosing row-wise multi-threading, the overhead of testing was 0.147078 seconds.\n",
      "You can set `force_row_wise=true` to remove the overhead.\n",
      "And if memory is not enough, you can set `force_col_wise=true`.\n",
      "[LightGBM] [Info] Total Bins 2605\n",
      "[LightGBM] [Info] Number of data points in the train set: 4940266, number of used features: 17\n",
      "[LightGBM] [Info] Start training from score 5.277316\n",
      "Training until validation scores don't improve for 5 rounds\n",
      "[2]\tvalid_0's rmse: 41.7193\n",
      "[4]\tvalid_0's rmse: 41.1193\n",
      "[6]\tvalid_0's rmse: 40.667\n",
      "[8]\tvalid_0's rmse: 40.3099\n",
      "[10]\tvalid_0's rmse: 40.0282\n",
      "[12]\tvalid_0's rmse: 39.796\n",
      "[14]\tvalid_0's rmse: 39.5961\n",
      "[16]\tvalid_0's rmse: 39.4174\n",
      "[18]\tvalid_0's rmse: 39.2686\n",
      "[20]\tvalid_0's rmse: 39.1178\n",
      "[22]\tvalid_0's rmse: 38.9845\n",
      "[24]\tvalid_0's rmse: 38.8515\n",
      "[26]\tvalid_0's rmse: 38.7195\n",
      "[28]\tvalid_0's rmse: 38.6015\n",
      "[30]\tvalid_0's rmse: 38.4525\n",
      "[32]\tvalid_0's rmse: 38.3124\n",
      "[34]\tvalid_0's rmse: 38.183\n",
      "[36]\tvalid_0's rmse: 38.0893\n",
      "[38]\tvalid_0's rmse: 37.9946\n",
      "[40]\tvalid_0's rmse: 37.8448\n",
      "[42]\tvalid_0's rmse: 37.7348\n",
      "[44]\tvalid_0's rmse: 37.6102\n",
      "[46]\tvalid_0's rmse: 37.5258\n",
      "[48]\tvalid_0's rmse: 37.4383\n"
     ]
    },
    {
     "name": "stderr",
     "output_type": "stream",
     "text": [
      "bagging, val_score: 37.140212:  80%|########  | 8/10 [05:35<01:21, 40.71s/it]"
     ]
    },
    {
     "name": "stdout",
     "output_type": "stream",
     "text": [
      "[50]\tvalid_0's rmse: 37.3331\n",
      "Did not meet early stopping. Best iteration is:\n",
      "[50]\tvalid_0's rmse: 37.3331\n"
     ]
    },
    {
     "name": "stderr",
     "output_type": "stream",
     "text": [
      "\r",
      "bagging, val_score: 37.140212:  80%|########  | 8/10 [05:35<01:21, 40.71s/it]"
     ]
    },
    {
     "name": "stdout",
     "output_type": "stream",
     "text": [
      "[LightGBM] [Warning] Auto-choosing row-wise multi-threading, the overhead of testing was 0.146161 seconds.\n",
      "You can set `force_row_wise=true` to remove the overhead.\n",
      "And if memory is not enough, you can set `force_col_wise=true`.\n",
      "[LightGBM] [Info] Total Bins 2605\n",
      "[LightGBM] [Info] Number of data points in the train set: 4940266, number of used features: 17\n",
      "[LightGBM] [Info] Start training from score 5.277316\n",
      "Training until validation scores don't improve for 5 rounds\n",
      "[2]\tvalid_0's rmse: 41.7006\n",
      "[4]\tvalid_0's rmse: 41.0807\n",
      "[6]\tvalid_0's rmse: 40.626\n",
      "[8]\tvalid_0's rmse: 40.2725\n",
      "[10]\tvalid_0's rmse: 40.0083\n",
      "[12]\tvalid_0's rmse: 39.7767\n",
      "[14]\tvalid_0's rmse: 39.587\n",
      "[16]\tvalid_0's rmse: 39.4035\n",
      "[18]\tvalid_0's rmse: 39.2265\n",
      "[20]\tvalid_0's rmse: 39.0854\n",
      "[22]\tvalid_0's rmse: 38.9446\n",
      "[24]\tvalid_0's rmse: 38.7972\n",
      "[26]\tvalid_0's rmse: 38.6487\n",
      "[28]\tvalid_0's rmse: 38.5197\n",
      "[30]\tvalid_0's rmse: 38.3777\n",
      "[32]\tvalid_0's rmse: 38.2356\n",
      "[34]\tvalid_0's rmse: 38.1291\n",
      "[36]\tvalid_0's rmse: 37.9995\n",
      "[38]\tvalid_0's rmse: 37.8845\n",
      "[40]\tvalid_0's rmse: 37.7697\n",
      "[42]\tvalid_0's rmse: 37.628\n",
      "[44]\tvalid_0's rmse: 37.5306\n",
      "[46]\tvalid_0's rmse: 37.4224\n",
      "[48]\tvalid_0's rmse: 37.311\n"
     ]
    },
    {
     "name": "stderr",
     "output_type": "stream",
     "text": [
      "bagging, val_score: 37.140212:  90%|######### | 9/10 [06:17<00:41, 41.01s/it]"
     ]
    },
    {
     "name": "stdout",
     "output_type": "stream",
     "text": [
      "[50]\tvalid_0's rmse: 37.214\n",
      "Did not meet early stopping. Best iteration is:\n",
      "[50]\tvalid_0's rmse: 37.214\n",
      "[LightGBM] [Warning] Auto-choosing row-wise multi-threading, the overhead of testing was 0.188322 seconds.\n",
      "You can set `force_row_wise=true` to remove the overhead.\n",
      "And if memory is not enough, you can set `force_col_wise=true`.\n",
      "[LightGBM] [Info] Total Bins 2605\n",
      "[LightGBM] [Info] Number of data points in the train set: 4940266, number of used features: 17\n",
      "[LightGBM] [Info] Start training from score 5.277316\n",
      "Training until validation scores don't improve for 5 rounds\n",
      "[2]\tvalid_0's rmse: 41.6878\n",
      "[4]\tvalid_0's rmse: 41.074\n",
      "[6]\tvalid_0's rmse: 40.6094\n",
      "[8]\tvalid_0's rmse: 40.2506\n",
      "[10]\tvalid_0's rmse: 39.9724\n",
      "[12]\tvalid_0's rmse: 39.7386\n",
      "[14]\tvalid_0's rmse: 39.5292\n",
      "[16]\tvalid_0's rmse: 39.353\n",
      "[18]\tvalid_0's rmse: 39.1837\n",
      "[20]\tvalid_0's rmse: 39.0375\n",
      "[22]\tvalid_0's rmse: 38.8767\n",
      "[24]\tvalid_0's rmse: 38.7307\n",
      "[26]\tvalid_0's rmse: 38.5841\n",
      "[28]\tvalid_0's rmse: 38.4488\n",
      "[30]\tvalid_0's rmse: 38.3073\n",
      "[32]\tvalid_0's rmse: 38.1619\n",
      "[34]\tvalid_0's rmse: 38.0222\n",
      "[36]\tvalid_0's rmse: 37.9023\n",
      "[38]\tvalid_0's rmse: 37.7838\n",
      "[40]\tvalid_0's rmse: 37.6843\n",
      "[42]\tvalid_0's rmse: 37.56\n",
      "[44]\tvalid_0's rmse: 37.4741\n",
      "[46]\tvalid_0's rmse: 37.3545\n",
      "[48]\tvalid_0's rmse: 37.2744\n"
     ]
    },
    {
     "name": "stderr",
     "output_type": "stream",
     "text": [
      "bagging, val_score: 37.140212: 100%|##########| 10/10 [07:10<00:00, 43.07s/it]\n",
      "feature_fraction_stage2, val_score: 37.140212:   0%|          | 0/3 [00:00<?, ?it/s]"
     ]
    },
    {
     "name": "stdout",
     "output_type": "stream",
     "text": [
      "[50]\tvalid_0's rmse: 37.1544\n",
      "Did not meet early stopping. Best iteration is:\n",
      "[50]\tvalid_0's rmse: 37.1544\n",
      "[LightGBM] [Warning] Auto-choosing row-wise multi-threading, the overhead of testing was 0.155434 seconds.\n",
      "You can set `force_row_wise=true` to remove the overhead.\n",
      "And if memory is not enough, you can set `force_col_wise=true`.\n",
      "[LightGBM] [Info] Total Bins 2605\n",
      "[LightGBM] [Info] Number of data points in the train set: 4940266, number of used features: 17\n",
      "[LightGBM] [Info] Start training from score 5.277316\n",
      "Training until validation scores don't improve for 5 rounds\n",
      "[2]\tvalid_0's rmse: 41.6734\n",
      "[4]\tvalid_0's rmse: 41.0558\n",
      "[6]\tvalid_0's rmse: 40.5792\n",
      "[8]\tvalid_0's rmse: 40.2231\n",
      "[10]\tvalid_0's rmse: 39.9419\n",
      "[12]\tvalid_0's rmse: 39.6997\n",
      "[14]\tvalid_0's rmse: 39.506\n",
      "[16]\tvalid_0's rmse: 39.3468\n",
      "[18]\tvalid_0's rmse: 39.1773\n",
      "[20]\tvalid_0's rmse: 39.026\n",
      "[22]\tvalid_0's rmse: 38.8893\n",
      "[24]\tvalid_0's rmse: 38.7421\n",
      "[26]\tvalid_0's rmse: 38.6057\n",
      "[28]\tvalid_0's rmse: 38.4502\n",
      "[30]\tvalid_0's rmse: 38.3188\n",
      "[32]\tvalid_0's rmse: 38.1747\n",
      "[34]\tvalid_0's rmse: 38.0589\n",
      "[36]\tvalid_0's rmse: 37.9108\n",
      "[38]\tvalid_0's rmse: 37.8082\n",
      "[40]\tvalid_0's rmse: 37.6681\n",
      "[42]\tvalid_0's rmse: 37.5454\n",
      "[44]\tvalid_0's rmse: 37.4384\n",
      "[46]\tvalid_0's rmse: 37.3191\n",
      "[48]\tvalid_0's rmse: 37.2291\n"
     ]
    },
    {
     "name": "stderr",
     "output_type": "stream",
     "text": [
      "feature_fraction_stage2, val_score: 37.140212:  33%|###3      | 1/3 [00:48<01:36, 48.00s/it]"
     ]
    },
    {
     "name": "stdout",
     "output_type": "stream",
     "text": [
      "[50]\tvalid_0's rmse: 37.1402\n",
      "Did not meet early stopping. Best iteration is:\n",
      "[50]\tvalid_0's rmse: 37.1402\n"
     ]
    },
    {
     "name": "stderr",
     "output_type": "stream",
     "text": [
      "\r",
      "feature_fraction_stage2, val_score: 37.140212:  33%|###3      | 1/3 [00:48<01:36, 48.00s/it]"
     ]
    },
    {
     "name": "stdout",
     "output_type": "stream",
     "text": [
      "[LightGBM] [Warning] Auto-choosing row-wise multi-threading, the overhead of testing was 0.132387 seconds.\n",
      "You can set `force_row_wise=true` to remove the overhead.\n",
      "And if memory is not enough, you can set `force_col_wise=true`.\n",
      "[LightGBM] [Info] Total Bins 2605\n",
      "[LightGBM] [Info] Number of data points in the train set: 4940266, number of used features: 17\n",
      "[LightGBM] [Info] Start training from score 5.277316\n",
      "Training until validation scores don't improve for 5 rounds\n",
      "[2]\tvalid_0's rmse: 41.6763\n",
      "[4]\tvalid_0's rmse: 41.0606\n",
      "[6]\tvalid_0's rmse: 40.5796\n",
      "[8]\tvalid_0's rmse: 40.2264\n",
      "[10]\tvalid_0's rmse: 39.9417\n",
      "[12]\tvalid_0's rmse: 39.7281\n",
      "[14]\tvalid_0's rmse: 39.5273\n",
      "[16]\tvalid_0's rmse: 39.3554\n",
      "[18]\tvalid_0's rmse: 39.1948\n",
      "[20]\tvalid_0's rmse: 39.0421\n",
      "[22]\tvalid_0's rmse: 38.8913\n",
      "[24]\tvalid_0's rmse: 38.7243\n",
      "[26]\tvalid_0's rmse: 38.5839\n",
      "[28]\tvalid_0's rmse: 38.4638\n",
      "[30]\tvalid_0's rmse: 38.3408\n",
      "[32]\tvalid_0's rmse: 38.1933\n",
      "[34]\tvalid_0's rmse: 38.0606\n",
      "[36]\tvalid_0's rmse: 37.934\n",
      "[38]\tvalid_0's rmse: 37.794\n",
      "[40]\tvalid_0's rmse: 37.6889\n",
      "[42]\tvalid_0's rmse: 37.5798\n",
      "[44]\tvalid_0's rmse: 37.4707\n",
      "[46]\tvalid_0's rmse: 37.3799\n",
      "[48]\tvalid_0's rmse: 37.264\n"
     ]
    },
    {
     "name": "stderr",
     "output_type": "stream",
     "text": [
      "feature_fraction_stage2, val_score: 37.140212:  67%|######6   | 2/3 [01:42<00:51, 51.73s/it]"
     ]
    },
    {
     "name": "stdout",
     "output_type": "stream",
     "text": [
      "[50]\tvalid_0's rmse: 37.1802\n",
      "Did not meet early stopping. Best iteration is:\n",
      "[50]\tvalid_0's rmse: 37.1802\n"
     ]
    },
    {
     "name": "stderr",
     "output_type": "stream",
     "text": [
      "\r",
      "feature_fraction_stage2, val_score: 37.140212:  67%|######6   | 2/3 [01:42<00:51, 51.73s/it]"
     ]
    },
    {
     "name": "stdout",
     "output_type": "stream",
     "text": [
      "[LightGBM] [Warning] Auto-choosing row-wise multi-threading, the overhead of testing was 0.142196 seconds.\n",
      "You can set `force_row_wise=true` to remove the overhead.\n",
      "And if memory is not enough, you can set `force_col_wise=true`.\n",
      "[LightGBM] [Info] Total Bins 2605\n",
      "[LightGBM] [Info] Number of data points in the train set: 4940266, number of used features: 17\n",
      "[LightGBM] [Info] Start training from score 5.277316\n",
      "Training until validation scores don't improve for 5 rounds\n",
      "[2]\tvalid_0's rmse: 41.6763\n",
      "[4]\tvalid_0's rmse: 41.0606\n",
      "[6]\tvalid_0's rmse: 40.5796\n",
      "[8]\tvalid_0's rmse: 40.2264\n",
      "[10]\tvalid_0's rmse: 39.9417\n",
      "[12]\tvalid_0's rmse: 39.7281\n",
      "[14]\tvalid_0's rmse: 39.5273\n",
      "[16]\tvalid_0's rmse: 39.3554\n",
      "[18]\tvalid_0's rmse: 39.1948\n",
      "[20]\tvalid_0's rmse: 39.0421\n",
      "[22]\tvalid_0's rmse: 38.8913\n",
      "[24]\tvalid_0's rmse: 38.7243\n",
      "[26]\tvalid_0's rmse: 38.5839\n",
      "[28]\tvalid_0's rmse: 38.4638\n",
      "[30]\tvalid_0's rmse: 38.3408\n",
      "[32]\tvalid_0's rmse: 38.1933\n",
      "[34]\tvalid_0's rmse: 38.0606\n",
      "[36]\tvalid_0's rmse: 37.934\n",
      "[38]\tvalid_0's rmse: 37.794\n",
      "[40]\tvalid_0's rmse: 37.6889\n",
      "[42]\tvalid_0's rmse: 37.5798\n",
      "[44]\tvalid_0's rmse: 37.4707\n",
      "[46]\tvalid_0's rmse: 37.3799\n",
      "[48]\tvalid_0's rmse: 37.264\n"
     ]
    },
    {
     "name": "stderr",
     "output_type": "stream",
     "text": [
      "feature_fraction_stage2, val_score: 37.140212: 100%|##########| 3/3 [02:35<00:00, 52.55s/it]"
     ]
    },
    {
     "name": "stdout",
     "output_type": "stream",
     "text": [
      "[50]\tvalid_0's rmse: 37.1802\n",
      "Did not meet early stopping. Best iteration is:\n",
      "[50]\tvalid_0's rmse: 37.1802\n"
     ]
    },
    {
     "name": "stderr",
     "output_type": "stream",
     "text": [
      "feature_fraction_stage2, val_score: 37.140212: 100%|##########| 3/3 [02:35<00:00, 51.97s/it]\n",
      "regularization_factors, val_score: 37.140212:   0%|          | 0/20 [00:00<?, ?it/s]"
     ]
    },
    {
     "name": "stdout",
     "output_type": "stream",
     "text": [
      "[LightGBM] [Warning] Auto-choosing row-wise multi-threading, the overhead of testing was 0.190080 seconds.\n",
      "You can set `force_row_wise=true` to remove the overhead.\n",
      "And if memory is not enough, you can set `force_col_wise=true`.\n",
      "[LightGBM] [Info] Total Bins 2605\n",
      "[LightGBM] [Info] Number of data points in the train set: 4940266, number of used features: 17\n",
      "[LightGBM] [Info] Start training from score 5.277316\n",
      "Training until validation scores don't improve for 5 rounds\n",
      "[2]\tvalid_0's rmse: 41.6769\n",
      "[4]\tvalid_0's rmse: 41.0623\n",
      "[6]\tvalid_0's rmse: 40.5844\n",
      "[8]\tvalid_0's rmse: 40.2421\n",
      "[10]\tvalid_0's rmse: 39.9595\n",
      "[12]\tvalid_0's rmse: 39.7183\n",
      "[14]\tvalid_0's rmse: 39.5278\n",
      "[16]\tvalid_0's rmse: 39.3507\n",
      "[18]\tvalid_0's rmse: 39.182\n",
      "[20]\tvalid_0's rmse: 39.0416\n",
      "[22]\tvalid_0's rmse: 38.8979\n",
      "[24]\tvalid_0's rmse: 38.7491\n",
      "[26]\tvalid_0's rmse: 38.6083\n",
      "[28]\tvalid_0's rmse: 38.4804\n",
      "[30]\tvalid_0's rmse: 38.3478\n",
      "[32]\tvalid_0's rmse: 38.2112\n",
      "[34]\tvalid_0's rmse: 38.0659\n",
      "[36]\tvalid_0's rmse: 37.9413\n",
      "[38]\tvalid_0's rmse: 37.8277\n",
      "[40]\tvalid_0's rmse: 37.6888\n",
      "[42]\tvalid_0's rmse: 37.557\n",
      "[44]\tvalid_0's rmse: 37.4519\n",
      "[46]\tvalid_0's rmse: 37.3681\n",
      "[48]\tvalid_0's rmse: 37.263\n"
     ]
    },
    {
     "name": "stderr",
     "output_type": "stream",
     "text": [
      "regularization_factors, val_score: 37.140212:   5%|5         | 1/20 [00:57<18:18, 57.79s/it]"
     ]
    },
    {
     "name": "stdout",
     "output_type": "stream",
     "text": [
      "[50]\tvalid_0's rmse: 37.1861\n",
      "Did not meet early stopping. Best iteration is:\n",
      "[50]\tvalid_0's rmse: 37.1861\n",
      "[LightGBM] [Warning] Auto-choosing row-wise multi-threading, the overhead of testing was 0.151271 seconds.\n",
      "You can set `force_row_wise=true` to remove the overhead.\n",
      "And if memory is not enough, you can set `force_col_wise=true`.\n",
      "[LightGBM] [Info] Total Bins 2605\n",
      "[LightGBM] [Info] Number of data points in the train set: 4940266, number of used features: 17\n",
      "[LightGBM] [Info] Start training from score 5.277316\n",
      "Training until validation scores don't improve for 5 rounds\n",
      "[2]\tvalid_0's rmse: 41.6769\n",
      "[4]\tvalid_0's rmse: 41.0631\n",
      "[6]\tvalid_0's rmse: 40.5852\n",
      "[8]\tvalid_0's rmse: 40.2406\n",
      "[10]\tvalid_0's rmse: 39.9554\n",
      "[12]\tvalid_0's rmse: 39.7056\n",
      "[14]\tvalid_0's rmse: 39.513\n",
      "[16]\tvalid_0's rmse: 39.3398\n",
      "[18]\tvalid_0's rmse: 39.1675\n",
      "[20]\tvalid_0's rmse: 39.0018\n",
      "[22]\tvalid_0's rmse: 38.8505\n",
      "[24]\tvalid_0's rmse: 38.7075\n",
      "[26]\tvalid_0's rmse: 38.5967\n",
      "[28]\tvalid_0's rmse: 38.4683\n",
      "[30]\tvalid_0's rmse: 38.3408\n",
      "[32]\tvalid_0's rmse: 38.2196\n",
      "[34]\tvalid_0's rmse: 38.0943\n",
      "[36]\tvalid_0's rmse: 37.958\n",
      "[38]\tvalid_0's rmse: 37.8288\n",
      "[40]\tvalid_0's rmse: 37.7265\n",
      "[42]\tvalid_0's rmse: 37.6287\n",
      "[44]\tvalid_0's rmse: 37.5032\n",
      "[46]\tvalid_0's rmse: 37.3922\n",
      "[48]\tvalid_0's rmse: 37.2848\n"
     ]
    },
    {
     "name": "stderr",
     "output_type": "stream",
     "text": [
      "regularization_factors, val_score: 37.140212:  10%|#         | 2/20 [01:54<17:09, 57.21s/it]"
     ]
    },
    {
     "name": "stdout",
     "output_type": "stream",
     "text": [
      "[50]\tvalid_0's rmse: 37.1885\n",
      "Did not meet early stopping. Best iteration is:\n",
      "[50]\tvalid_0's rmse: 37.1885\n",
      "[LightGBM] [Warning] Auto-choosing row-wise multi-threading, the overhead of testing was 0.143831 seconds.\n",
      "You can set `force_row_wise=true` to remove the overhead.\n",
      "And if memory is not enough, you can set `force_col_wise=true`.\n",
      "[LightGBM] [Info] Total Bins 2605\n",
      "[LightGBM] [Info] Number of data points in the train set: 4940266, number of used features: 17\n",
      "[LightGBM] [Info] Start training from score 5.277316\n",
      "Training until validation scores don't improve for 5 rounds\n",
      "[2]\tvalid_0's rmse: 41.6734\n",
      "[4]\tvalid_0's rmse: 41.0558\n",
      "[6]\tvalid_0's rmse: 40.5792\n",
      "[8]\tvalid_0's rmse: 40.2231\n",
      "[10]\tvalid_0's rmse: 39.9419\n",
      "[12]\tvalid_0's rmse: 39.6997\n",
      "[14]\tvalid_0's rmse: 39.506\n",
      "[16]\tvalid_0's rmse: 39.3468\n",
      "[18]\tvalid_0's rmse: 39.1773\n",
      "[20]\tvalid_0's rmse: 39.026\n",
      "[22]\tvalid_0's rmse: 38.8893\n",
      "[24]\tvalid_0's rmse: 38.7421\n",
      "[26]\tvalid_0's rmse: 38.6057\n",
      "[28]\tvalid_0's rmse: 38.4502\n",
      "[30]\tvalid_0's rmse: 38.3188\n",
      "[32]\tvalid_0's rmse: 38.1747\n",
      "[34]\tvalid_0's rmse: 38.0589\n",
      "[36]\tvalid_0's rmse: 37.9108\n",
      "[38]\tvalid_0's rmse: 37.8082\n",
      "[40]\tvalid_0's rmse: 37.6681\n",
      "[42]\tvalid_0's rmse: 37.5454\n",
      "[44]\tvalid_0's rmse: 37.4384\n",
      "[46]\tvalid_0's rmse: 37.3191\n",
      "[48]\tvalid_0's rmse: 37.2291\n",
      "[50]\tvalid_0's rmse: 37.1402\n",
      "Did not meet early stopping. Best iteration is:\n",
      "[50]\tvalid_0's rmse: 37.1402\n"
     ]
    },
    {
     "name": "stderr",
     "output_type": "stream",
     "text": [
      "regularization_factors, val_score: 37.140212:  15%|#5        | 3/20 [02:40<14:47, 52.20s/it]"
     ]
    },
    {
     "name": "stdout",
     "output_type": "stream",
     "text": [
      "[LightGBM] [Warning] Auto-choosing row-wise multi-threading, the overhead of testing was 0.220530 seconds.\n",
      "You can set `force_row_wise=true` to remove the overhead.\n",
      "And if memory is not enough, you can set `force_col_wise=true`.\n",
      "[LightGBM] [Info] Total Bins 2605\n",
      "[LightGBM] [Info] Number of data points in the train set: 4940266, number of used features: 17\n",
      "[LightGBM] [Info] Start training from score 5.277316\n",
      "Training until validation scores don't improve for 5 rounds\n",
      "[2]\tvalid_0's rmse: 41.6753\n",
      "[4]\tvalid_0's rmse: 41.0626\n",
      "[6]\tvalid_0's rmse: 40.5845\n",
      "[8]\tvalid_0's rmse: 40.2365\n",
      "[10]\tvalid_0's rmse: 39.9473\n",
      "[12]\tvalid_0's rmse: 39.7121\n",
      "[14]\tvalid_0's rmse: 39.5219\n",
      "[16]\tvalid_0's rmse: 39.3486\n",
      "[18]\tvalid_0's rmse: 39.1923\n",
      "[20]\tvalid_0's rmse: 39.0463\n",
      "[22]\tvalid_0's rmse: 38.9044\n",
      "[24]\tvalid_0's rmse: 38.7539\n",
      "[26]\tvalid_0's rmse: 38.608\n",
      "[28]\tvalid_0's rmse: 38.5026\n",
      "[30]\tvalid_0's rmse: 38.3441\n",
      "[32]\tvalid_0's rmse: 38.209\n",
      "[34]\tvalid_0's rmse: 38.0798\n",
      "[36]\tvalid_0's rmse: 37.9592\n",
      "[38]\tvalid_0's rmse: 37.8504\n",
      "[40]\tvalid_0's rmse: 37.6924\n",
      "[42]\tvalid_0's rmse: 37.541\n",
      "[44]\tvalid_0's rmse: 37.4336\n",
      "[46]\tvalid_0's rmse: 37.3413\n",
      "[48]\tvalid_0's rmse: 37.2397\n"
     ]
    },
    {
     "name": "stderr",
     "output_type": "stream",
     "text": [
      "regularization_factors, val_score: 37.140212:  20%|##        | 4/20 [03:29<13:31, 50.72s/it]"
     ]
    },
    {
     "name": "stdout",
     "output_type": "stream",
     "text": [
      "[50]\tvalid_0's rmse: 37.1443\n",
      "Did not meet early stopping. Best iteration is:\n",
      "[50]\tvalid_0's rmse: 37.1443\n"
     ]
    },
    {
     "name": "stderr",
     "output_type": "stream",
     "text": [
      "\r",
      "regularization_factors, val_score: 37.140212:  20%|##        | 4/20 [03:29<13:31, 50.72s/it]"
     ]
    },
    {
     "name": "stdout",
     "output_type": "stream",
     "text": [
      "[LightGBM] [Warning] Auto-choosing row-wise multi-threading, the overhead of testing was 0.147300 seconds.\n",
      "You can set `force_row_wise=true` to remove the overhead.\n",
      "And if memory is not enough, you can set `force_col_wise=true`.\n",
      "[LightGBM] [Info] Total Bins 2605\n",
      "[LightGBM] [Info] Number of data points in the train set: 4940266, number of used features: 17\n",
      "[LightGBM] [Info] Start training from score 5.277316\n",
      "Training until validation scores don't improve for 5 rounds\n",
      "[2]\tvalid_0's rmse: 41.6753\n",
      "[4]\tvalid_0's rmse: 41.062\n",
      "[6]\tvalid_0's rmse: 40.5803\n",
      "[8]\tvalid_0's rmse: 40.2308\n",
      "[10]\tvalid_0's rmse: 39.9522\n",
      "[12]\tvalid_0's rmse: 39.7155\n",
      "[14]\tvalid_0's rmse: 39.5315\n",
      "[16]\tvalid_0's rmse: 39.364\n",
      "[18]\tvalid_0's rmse: 39.2036\n",
      "[20]\tvalid_0's rmse: 39.0452\n",
      "[22]\tvalid_0's rmse: 38.8871\n",
      "[24]\tvalid_0's rmse: 38.751\n",
      "[26]\tvalid_0's rmse: 38.6092\n",
      "[28]\tvalid_0's rmse: 38.4819\n",
      "[30]\tvalid_0's rmse: 38.3274\n",
      "[32]\tvalid_0's rmse: 38.1836\n",
      "[34]\tvalid_0's rmse: 38.0679\n",
      "[36]\tvalid_0's rmse: 37.9252\n",
      "[38]\tvalid_0's rmse: 37.821\n",
      "[40]\tvalid_0's rmse: 37.6672\n",
      "[42]\tvalid_0's rmse: 37.5392\n",
      "[44]\tvalid_0's rmse: 37.4514\n",
      "[46]\tvalid_0's rmse: 37.342\n",
      "[48]\tvalid_0's rmse: 37.2456\n"
     ]
    },
    {
     "name": "stderr",
     "output_type": "stream",
     "text": [
      "regularization_factors, val_score: 37.140212:  25%|##5       | 5/20 [04:19<12:38, 50.58s/it]"
     ]
    },
    {
     "name": "stdout",
     "output_type": "stream",
     "text": [
      "[50]\tvalid_0's rmse: 37.1513\n",
      "Did not meet early stopping. Best iteration is:\n",
      "[50]\tvalid_0's rmse: 37.1513\n",
      "[LightGBM] [Warning] Auto-choosing row-wise multi-threading, the overhead of testing was 0.149264 seconds.\n",
      "You can set `force_row_wise=true` to remove the overhead.\n",
      "And if memory is not enough, you can set `force_col_wise=true`.\n",
      "[LightGBM] [Info] Total Bins 2605\n",
      "[LightGBM] [Info] Number of data points in the train set: 4940266, number of used features: 17\n",
      "[LightGBM] [Info] Start training from score 5.277316\n",
      "Training until validation scores don't improve for 5 rounds\n",
      "[2]\tvalid_0's rmse: 41.6727\n",
      "[4]\tvalid_0's rmse: 41.0552\n",
      "[6]\tvalid_0's rmse: 40.5787\n",
      "[8]\tvalid_0's rmse: 40.2217\n",
      "[10]\tvalid_0's rmse: 39.9403\n",
      "[12]\tvalid_0's rmse: 39.7105\n",
      "[14]\tvalid_0's rmse: 39.5034\n",
      "[16]\tvalid_0's rmse: 39.3298\n",
      "[18]\tvalid_0's rmse: 39.1615\n",
      "[20]\tvalid_0's rmse: 39.0105\n",
      "[22]\tvalid_0's rmse: 38.8497\n",
      "[24]\tvalid_0's rmse: 38.7053\n",
      "[26]\tvalid_0's rmse: 38.5816\n",
      "[28]\tvalid_0's rmse: 38.4644\n",
      "[30]\tvalid_0's rmse: 38.3306\n",
      "[32]\tvalid_0's rmse: 38.1801\n",
      "[34]\tvalid_0's rmse: 38.0333\n",
      "[36]\tvalid_0's rmse: 37.9128\n",
      "[38]\tvalid_0's rmse: 37.7793\n",
      "[40]\tvalid_0's rmse: 37.6595\n",
      "[42]\tvalid_0's rmse: 37.547\n",
      "[44]\tvalid_0's rmse: 37.4123\n",
      "[46]\tvalid_0's rmse: 37.2909\n",
      "[48]\tvalid_0's rmse: 37.2077\n"
     ]
    },
    {
     "name": "stderr",
     "output_type": "stream",
     "text": [
      "regularization_factors, val_score: 37.111480:  30%|###       | 6/20 [05:04<11:18, 48.50s/it]"
     ]
    },
    {
     "name": "stdout",
     "output_type": "stream",
     "text": [
      "[50]\tvalid_0's rmse: 37.1115\n",
      "Did not meet early stopping. Best iteration is:\n",
      "[50]\tvalid_0's rmse: 37.1115\n",
      "[LightGBM] [Warning] Auto-choosing row-wise multi-threading, the overhead of testing was 0.137535 seconds.\n",
      "You can set `force_row_wise=true` to remove the overhead.\n",
      "And if memory is not enough, you can set `force_col_wise=true`.\n",
      "[LightGBM] [Info] Total Bins 2605\n",
      "[LightGBM] [Info] Number of data points in the train set: 4940266, number of used features: 17\n",
      "[LightGBM] [Info] Start training from score 5.277316\n",
      "Training until validation scores don't improve for 5 rounds\n",
      "[2]\tvalid_0's rmse: 41.6735\n",
      "[4]\tvalid_0's rmse: 41.058\n",
      "[6]\tvalid_0's rmse: 40.5773\n",
      "[8]\tvalid_0's rmse: 40.2309\n",
      "[10]\tvalid_0's rmse: 39.9567\n",
      "[12]\tvalid_0's rmse: 39.7259\n",
      "[14]\tvalid_0's rmse: 39.5238\n",
      "[16]\tvalid_0's rmse: 39.3464\n",
      "[18]\tvalid_0's rmse: 39.1942\n",
      "[20]\tvalid_0's rmse: 39.0326\n",
      "[22]\tvalid_0's rmse: 38.8722\n",
      "[24]\tvalid_0's rmse: 38.7239\n",
      "[26]\tvalid_0's rmse: 38.5679\n",
      "[28]\tvalid_0's rmse: 38.4567\n",
      "[30]\tvalid_0's rmse: 38.3031\n",
      "[32]\tvalid_0's rmse: 38.1907\n",
      "[34]\tvalid_0's rmse: 38.0867\n",
      "[36]\tvalid_0's rmse: 37.9404\n",
      "[38]\tvalid_0's rmse: 37.8377\n",
      "[40]\tvalid_0's rmse: 37.7409\n",
      "[42]\tvalid_0's rmse: 37.6197\n",
      "[44]\tvalid_0's rmse: 37.4938\n",
      "[46]\tvalid_0's rmse: 37.3788\n",
      "[48]\tvalid_0's rmse: 37.2961\n"
     ]
    },
    {
     "name": "stderr",
     "output_type": "stream",
     "text": [
      "regularization_factors, val_score: 37.111480:  35%|###5      | 7/20 [05:48<10:12, 47.10s/it]"
     ]
    },
    {
     "name": "stdout",
     "output_type": "stream",
     "text": [
      "[50]\tvalid_0's rmse: 37.2142\n",
      "Did not meet early stopping. Best iteration is:\n",
      "[50]\tvalid_0's rmse: 37.2142\n"
     ]
    },
    {
     "name": "stderr",
     "output_type": "stream",
     "text": [
      "\r",
      "regularization_factors, val_score: 37.111480:  35%|###5      | 7/20 [05:48<10:12, 47.10s/it]"
     ]
    },
    {
     "name": "stdout",
     "output_type": "stream",
     "text": [
      "[LightGBM] [Warning] Auto-choosing row-wise multi-threading, the overhead of testing was 0.142688 seconds.\n",
      "You can set `force_row_wise=true` to remove the overhead.\n",
      "And if memory is not enough, you can set `force_col_wise=true`.\n",
      "[LightGBM] [Info] Total Bins 2605\n",
      "[LightGBM] [Info] Number of data points in the train set: 4940266, number of used features: 17\n",
      "[LightGBM] [Info] Start training from score 5.277316\n",
      "Training until validation scores don't improve for 5 rounds\n",
      "[2]\tvalid_0's rmse: 41.6754\n",
      "[4]\tvalid_0's rmse: 41.0627\n",
      "[6]\tvalid_0's rmse: 40.5847\n",
      "[8]\tvalid_0's rmse: 40.2367\n",
      "[10]\tvalid_0's rmse: 39.9475\n",
      "[12]\tvalid_0's rmse: 39.7123\n",
      "[14]\tvalid_0's rmse: 39.5221\n",
      "[16]\tvalid_0's rmse: 39.3478\n",
      "[18]\tvalid_0's rmse: 39.1918\n",
      "[20]\tvalid_0's rmse: 39.0465\n",
      "[22]\tvalid_0's rmse: 38.9041\n",
      "[24]\tvalid_0's rmse: 38.7521\n",
      "[26]\tvalid_0's rmse: 38.6057\n",
      "[28]\tvalid_0's rmse: 38.4808\n",
      "[30]\tvalid_0's rmse: 38.357\n",
      "[32]\tvalid_0's rmse: 38.2356\n",
      "[34]\tvalid_0's rmse: 38.1215\n",
      "[36]\tvalid_0's rmse: 38.0078\n",
      "[38]\tvalid_0's rmse: 37.8779\n",
      "[40]\tvalid_0's rmse: 37.7408\n",
      "[42]\tvalid_0's rmse: 37.6319\n",
      "[44]\tvalid_0's rmse: 37.5314\n",
      "[46]\tvalid_0's rmse: 37.4305\n",
      "[48]\tvalid_0's rmse: 37.3444\n"
     ]
    },
    {
     "name": "stderr",
     "output_type": "stream",
     "text": [
      "regularization_factors, val_score: 37.111480:  40%|####      | 8/20 [06:32<09:13, 46.13s/it]"
     ]
    },
    {
     "name": "stdout",
     "output_type": "stream",
     "text": [
      "[50]\tvalid_0's rmse: 37.2408\n",
      "Did not meet early stopping. Best iteration is:\n",
      "[50]\tvalid_0's rmse: 37.2408\n"
     ]
    },
    {
     "name": "stderr",
     "output_type": "stream",
     "text": [
      "\r",
      "regularization_factors, val_score: 37.111480:  40%|####      | 8/20 [06:32<09:13, 46.13s/it]"
     ]
    },
    {
     "name": "stdout",
     "output_type": "stream",
     "text": [
      "[LightGBM] [Warning] Auto-choosing row-wise multi-threading, the overhead of testing was 0.146760 seconds.\n",
      "You can set `force_row_wise=true` to remove the overhead.\n",
      "And if memory is not enough, you can set `force_col_wise=true`.\n",
      "[LightGBM] [Info] Total Bins 2605\n",
      "[LightGBM] [Info] Number of data points in the train set: 4940266, number of used features: 17\n",
      "[LightGBM] [Info] Start training from score 5.277316\n",
      "Training until validation scores don't improve for 5 rounds\n",
      "[2]\tvalid_0's rmse: 41.6727\n",
      "[4]\tvalid_0's rmse: 41.0552\n",
      "[6]\tvalid_0's rmse: 40.5787\n",
      "[8]\tvalid_0's rmse: 40.2217\n",
      "[10]\tvalid_0's rmse: 39.9403\n",
      "[12]\tvalid_0's rmse: 39.7105\n",
      "[14]\tvalid_0's rmse: 39.5034\n",
      "[16]\tvalid_0's rmse: 39.3298\n",
      "[18]\tvalid_0's rmse: 39.1615\n",
      "[20]\tvalid_0's rmse: 39.0105\n",
      "[22]\tvalid_0's rmse: 38.8497\n",
      "[24]\tvalid_0's rmse: 38.7053\n",
      "[26]\tvalid_0's rmse: 38.5816\n",
      "[28]\tvalid_0's rmse: 38.4644\n",
      "[30]\tvalid_0's rmse: 38.3306\n",
      "[32]\tvalid_0's rmse: 38.1801\n",
      "[34]\tvalid_0's rmse: 38.0333\n",
      "[36]\tvalid_0's rmse: 37.9128\n",
      "[38]\tvalid_0's rmse: 37.7793\n",
      "[40]\tvalid_0's rmse: 37.6595\n",
      "[42]\tvalid_0's rmse: 37.547\n",
      "[44]\tvalid_0's rmse: 37.4123\n",
      "[46]\tvalid_0's rmse: 37.2909\n",
      "[48]\tvalid_0's rmse: 37.2077\n"
     ]
    },
    {
     "name": "stderr",
     "output_type": "stream",
     "text": [
      "regularization_factors, val_score: 37.111460:  45%|####5     | 9/20 [07:16<08:21, 45.58s/it]"
     ]
    },
    {
     "name": "stdout",
     "output_type": "stream",
     "text": [
      "[50]\tvalid_0's rmse: 37.1115\n",
      "Did not meet early stopping. Best iteration is:\n",
      "[50]\tvalid_0's rmse: 37.1115\n"
     ]
    },
    {
     "name": "stderr",
     "output_type": "stream",
     "text": [
      "\r",
      "regularization_factors, val_score: 37.111460:  45%|####5     | 9/20 [07:16<08:21, 45.58s/it]"
     ]
    },
    {
     "name": "stdout",
     "output_type": "stream",
     "text": [
      "[LightGBM] [Warning] Auto-choosing row-wise multi-threading, the overhead of testing was 0.140742 seconds.\n",
      "You can set `force_row_wise=true` to remove the overhead.\n",
      "And if memory is not enough, you can set `force_col_wise=true`.\n",
      "[LightGBM] [Info] Total Bins 2605\n",
      "[LightGBM] [Info] Number of data points in the train set: 4940266, number of used features: 17\n",
      "[LightGBM] [Info] Start training from score 5.277316\n",
      "Training until validation scores don't improve for 5 rounds\n",
      "[2]\tvalid_0's rmse: 41.6762\n",
      "[4]\tvalid_0's rmse: 41.0637\n",
      "[6]\tvalid_0's rmse: 40.5928\n",
      "[8]\tvalid_0's rmse: 40.2496\n",
      "[10]\tvalid_0's rmse: 39.9744\n",
      "[12]\tvalid_0's rmse: 39.7316\n",
      "[14]\tvalid_0's rmse: 39.5434\n",
      "[16]\tvalid_0's rmse: 39.3649\n",
      "[18]\tvalid_0's rmse: 39.1961\n",
      "[20]\tvalid_0's rmse: 39.0523\n",
      "[22]\tvalid_0's rmse: 38.8977\n",
      "[24]\tvalid_0's rmse: 38.7376\n",
      "[26]\tvalid_0's rmse: 38.6152\n",
      "[28]\tvalid_0's rmse: 38.4777\n",
      "[30]\tvalid_0's rmse: 38.3614\n",
      "[32]\tvalid_0's rmse: 38.2371\n",
      "[34]\tvalid_0's rmse: 38.0587\n",
      "[36]\tvalid_0's rmse: 37.9205\n",
      "[38]\tvalid_0's rmse: 37.8172\n",
      "[40]\tvalid_0's rmse: 37.699\n",
      "[42]\tvalid_0's rmse: 37.5849\n",
      "[44]\tvalid_0's rmse: 37.4933\n",
      "[46]\tvalid_0's rmse: 37.3772\n",
      "[48]\tvalid_0's rmse: 37.2665\n"
     ]
    },
    {
     "name": "stderr",
     "output_type": "stream",
     "text": [
      "regularization_factors, val_score: 37.111460:  50%|#####     | 10/20 [08:01<07:32, 45.28s/it]"
     ]
    },
    {
     "name": "stdout",
     "output_type": "stream",
     "text": [
      "[50]\tvalid_0's rmse: 37.1679\n",
      "Did not meet early stopping. Best iteration is:\n",
      "[50]\tvalid_0's rmse: 37.1679\n"
     ]
    },
    {
     "name": "stderr",
     "output_type": "stream",
     "text": [
      "\r",
      "regularization_factors, val_score: 37.111460:  50%|#####     | 10/20 [08:01<07:32, 45.28s/it]"
     ]
    },
    {
     "name": "stdout",
     "output_type": "stream",
     "text": [
      "[LightGBM] [Warning] Auto-choosing row-wise multi-threading, the overhead of testing was 0.139650 seconds.\n",
      "You can set `force_row_wise=true` to remove the overhead.\n",
      "And if memory is not enough, you can set `force_col_wise=true`.\n",
      "[LightGBM] [Info] Total Bins 2605\n",
      "[LightGBM] [Info] Number of data points in the train set: 4940266, number of used features: 17\n",
      "[LightGBM] [Info] Start training from score 5.277316\n",
      "Training until validation scores don't improve for 5 rounds\n",
      "[2]\tvalid_0's rmse: 41.6734\n",
      "[4]\tvalid_0's rmse: 41.0558\n",
      "[6]\tvalid_0's rmse: 40.5792\n",
      "[8]\tvalid_0's rmse: 40.2231\n",
      "[10]\tvalid_0's rmse: 39.9419\n",
      "[12]\tvalid_0's rmse: 39.6997\n",
      "[14]\tvalid_0's rmse: 39.506\n",
      "[16]\tvalid_0's rmse: 39.3468\n",
      "[18]\tvalid_0's rmse: 39.1773\n",
      "[20]\tvalid_0's rmse: 39.026\n",
      "[22]\tvalid_0's rmse: 38.8893\n",
      "[24]\tvalid_0's rmse: 38.7421\n",
      "[26]\tvalid_0's rmse: 38.6057\n",
      "[28]\tvalid_0's rmse: 38.4502\n",
      "[30]\tvalid_0's rmse: 38.3188\n",
      "[32]\tvalid_0's rmse: 38.1747\n",
      "[34]\tvalid_0's rmse: 38.0589\n",
      "[36]\tvalid_0's rmse: 37.9109\n",
      "[38]\tvalid_0's rmse: 37.8082\n",
      "[40]\tvalid_0's rmse: 37.6681\n",
      "[42]\tvalid_0's rmse: 37.5454\n",
      "[44]\tvalid_0's rmse: 37.4384\n",
      "[46]\tvalid_0's rmse: 37.3191\n",
      "[48]\tvalid_0's rmse: 37.2291\n"
     ]
    },
    {
     "name": "stderr",
     "output_type": "stream",
     "text": [
      "regularization_factors, val_score: 37.111460:  55%|#####5    | 11/20 [08:46<06:46, 45.13s/it]"
     ]
    },
    {
     "name": "stdout",
     "output_type": "stream",
     "text": [
      "[50]\tvalid_0's rmse: 37.1402\n",
      "Did not meet early stopping. Best iteration is:\n",
      "[50]\tvalid_0's rmse: 37.1402\n"
     ]
    },
    {
     "name": "stderr",
     "output_type": "stream",
     "text": [
      "\r",
      "regularization_factors, val_score: 37.111460:  55%|#####5    | 11/20 [08:46<06:46, 45.13s/it]"
     ]
    },
    {
     "name": "stdout",
     "output_type": "stream",
     "text": [
      "[LightGBM] [Warning] Auto-choosing row-wise multi-threading, the overhead of testing was 0.139617 seconds.\n",
      "You can set `force_row_wise=true` to remove the overhead.\n",
      "And if memory is not enough, you can set `force_col_wise=true`.\n",
      "[LightGBM] [Info] Total Bins 2605\n",
      "[LightGBM] [Info] Number of data points in the train set: 4940266, number of used features: 17\n",
      "[LightGBM] [Info] Start training from score 5.277316\n",
      "Training until validation scores don't improve for 5 rounds\n",
      "[2]\tvalid_0's rmse: 41.6727\n",
      "[4]\tvalid_0's rmse: 41.0552\n",
      "[6]\tvalid_0's rmse: 40.5787\n",
      "[8]\tvalid_0's rmse: 40.2217\n",
      "[10]\tvalid_0's rmse: 39.9403\n",
      "[12]\tvalid_0's rmse: 39.7105\n",
      "[14]\tvalid_0's rmse: 39.5034\n",
      "[16]\tvalid_0's rmse: 39.3298\n",
      "[18]\tvalid_0's rmse: 39.1615\n",
      "[20]\tvalid_0's rmse: 39.0105\n",
      "[22]\tvalid_0's rmse: 38.8497\n",
      "[24]\tvalid_0's rmse: 38.7053\n",
      "[26]\tvalid_0's rmse: 38.5816\n",
      "[28]\tvalid_0's rmse: 38.4644\n",
      "[30]\tvalid_0's rmse: 38.3306\n",
      "[32]\tvalid_0's rmse: 38.1801\n",
      "[34]\tvalid_0's rmse: 38.0333\n",
      "[36]\tvalid_0's rmse: 37.9128\n",
      "[38]\tvalid_0's rmse: 37.7793\n",
      "[40]\tvalid_0's rmse: 37.6595\n",
      "[42]\tvalid_0's rmse: 37.547\n",
      "[44]\tvalid_0's rmse: 37.4123\n",
      "[46]\tvalid_0's rmse: 37.2909\n",
      "[48]\tvalid_0's rmse: 37.2077\n"
     ]
    },
    {
     "name": "stderr",
     "output_type": "stream",
     "text": [
      "regularization_factors, val_score: 37.111460:  60%|######    | 12/20 [09:29<05:57, 44.68s/it]"
     ]
    },
    {
     "name": "stdout",
     "output_type": "stream",
     "text": [
      "[50]\tvalid_0's rmse: 37.1115\n",
      "Did not meet early stopping. Best iteration is:\n",
      "[50]\tvalid_0's rmse: 37.1115\n",
      "[LightGBM] [Warning] Auto-choosing row-wise multi-threading, the overhead of testing was 0.143162 seconds.\n",
      "You can set `force_row_wise=true` to remove the overhead.\n",
      "And if memory is not enough, you can set `force_col_wise=true`.\n",
      "[LightGBM] [Info] Total Bins 2605\n",
      "[LightGBM] [Info] Number of data points in the train set: 4940266, number of used features: 17\n",
      "[LightGBM] [Info] Start training from score 5.277316\n",
      "Training until validation scores don't improve for 5 rounds\n",
      "[2]\tvalid_0's rmse: 41.6727\n",
      "[4]\tvalid_0's rmse: 41.0552\n",
      "[6]\tvalid_0's rmse: 40.5787\n",
      "[8]\tvalid_0's rmse: 40.2217\n",
      "[10]\tvalid_0's rmse: 39.9403\n",
      "[12]\tvalid_0's rmse: 39.7105\n",
      "[14]\tvalid_0's rmse: 39.5034\n",
      "[16]\tvalid_0's rmse: 39.3298\n",
      "[18]\tvalid_0's rmse: 39.1615\n",
      "[20]\tvalid_0's rmse: 39.0105\n",
      "[22]\tvalid_0's rmse: 38.8497\n",
      "[24]\tvalid_0's rmse: 38.7053\n",
      "[26]\tvalid_0's rmse: 38.5816\n",
      "[28]\tvalid_0's rmse: 38.4644\n",
      "[30]\tvalid_0's rmse: 38.3306\n",
      "[32]\tvalid_0's rmse: 38.1801\n",
      "[34]\tvalid_0's rmse: 38.0333\n",
      "[36]\tvalid_0's rmse: 37.9128\n",
      "[38]\tvalid_0's rmse: 37.7793\n",
      "[40]\tvalid_0's rmse: 37.6595\n",
      "[42]\tvalid_0's rmse: 37.547\n",
      "[44]\tvalid_0's rmse: 37.4123\n",
      "[46]\tvalid_0's rmse: 37.2909\n",
      "[48]\tvalid_0's rmse: 37.2077\n"
     ]
    },
    {
     "name": "stderr",
     "output_type": "stream",
     "text": [
      "regularization_factors, val_score: 37.111460:  65%|######5   | 13/20 [10:13<05:09, 44.27s/it]"
     ]
    },
    {
     "name": "stdout",
     "output_type": "stream",
     "text": [
      "[50]\tvalid_0's rmse: 37.1115\n",
      "Did not meet early stopping. Best iteration is:\n",
      "[50]\tvalid_0's rmse: 37.1115\n",
      "[LightGBM] [Warning] Auto-choosing row-wise multi-threading, the overhead of testing was 0.141205 seconds.\n",
      "You can set `force_row_wise=true` to remove the overhead.\n",
      "And if memory is not enough, you can set `force_col_wise=true`.\n",
      "[LightGBM] [Info] Total Bins 2605\n",
      "[LightGBM] [Info] Number of data points in the train set: 4940266, number of used features: 17\n",
      "[LightGBM] [Info] Start training from score 5.277316\n",
      "Training until validation scores don't improve for 5 rounds\n",
      "[2]\tvalid_0's rmse: 41.6734\n",
      "[4]\tvalid_0's rmse: 41.0558\n",
      "[6]\tvalid_0's rmse: 40.5792\n",
      "[8]\tvalid_0's rmse: 40.2231\n",
      "[10]\tvalid_0's rmse: 39.9419\n",
      "[12]\tvalid_0's rmse: 39.6997\n",
      "[14]\tvalid_0's rmse: 39.506\n",
      "[16]\tvalid_0's rmse: 39.3468\n",
      "[18]\tvalid_0's rmse: 39.1773\n",
      "[20]\tvalid_0's rmse: 39.026\n",
      "[22]\tvalid_0's rmse: 38.8893\n",
      "[24]\tvalid_0's rmse: 38.7421\n",
      "[26]\tvalid_0's rmse: 38.6057\n",
      "[28]\tvalid_0's rmse: 38.4502\n",
      "[30]\tvalid_0's rmse: 38.3188\n",
      "[32]\tvalid_0's rmse: 38.1747\n",
      "[34]\tvalid_0's rmse: 38.0589\n",
      "[36]\tvalid_0's rmse: 37.9108\n",
      "[38]\tvalid_0's rmse: 37.8082\n",
      "[40]\tvalid_0's rmse: 37.6681\n",
      "[42]\tvalid_0's rmse: 37.5454\n",
      "[44]\tvalid_0's rmse: 37.4384\n",
      "[46]\tvalid_0's rmse: 37.3191\n",
      "[48]\tvalid_0's rmse: 37.2291\n"
     ]
    },
    {
     "name": "stderr",
     "output_type": "stream",
     "text": [
      "regularization_factors, val_score: 37.111460:  70%|#######   | 14/20 [10:57<04:26, 44.40s/it]"
     ]
    },
    {
     "name": "stdout",
     "output_type": "stream",
     "text": [
      "[50]\tvalid_0's rmse: 37.1402\n",
      "Did not meet early stopping. Best iteration is:\n",
      "[50]\tvalid_0's rmse: 37.1402\n"
     ]
    },
    {
     "name": "stderr",
     "output_type": "stream",
     "text": [
      "\r",
      "regularization_factors, val_score: 37.111460:  70%|#######   | 14/20 [10:57<04:26, 44.40s/it]"
     ]
    },
    {
     "name": "stdout",
     "output_type": "stream",
     "text": [
      "[LightGBM] [Warning] Auto-choosing row-wise multi-threading, the overhead of testing was 0.148744 seconds.\n",
      "You can set `force_row_wise=true` to remove the overhead.\n",
      "And if memory is not enough, you can set `force_col_wise=true`.\n",
      "[LightGBM] [Info] Total Bins 2605\n",
      "[LightGBM] [Info] Number of data points in the train set: 4940266, number of used features: 17\n",
      "[LightGBM] [Info] Start training from score 5.277316\n",
      "Training until validation scores don't improve for 5 rounds\n",
      "[2]\tvalid_0's rmse: 41.6727\n",
      "[4]\tvalid_0's rmse: 41.0552\n",
      "[6]\tvalid_0's rmse: 40.5787\n",
      "[8]\tvalid_0's rmse: 40.2217\n",
      "[10]\tvalid_0's rmse: 39.9403\n",
      "[12]\tvalid_0's rmse: 39.7105\n",
      "[14]\tvalid_0's rmse: 39.5034\n",
      "[16]\tvalid_0's rmse: 39.3298\n",
      "[18]\tvalid_0's rmse: 39.1615\n",
      "[20]\tvalid_0's rmse: 39.0105\n",
      "[22]\tvalid_0's rmse: 38.8497\n",
      "[24]\tvalid_0's rmse: 38.7053\n",
      "[26]\tvalid_0's rmse: 38.5816\n",
      "[28]\tvalid_0's rmse: 38.4644\n",
      "[30]\tvalid_0's rmse: 38.3306\n",
      "[32]\tvalid_0's rmse: 38.1801\n",
      "[34]\tvalid_0's rmse: 38.0333\n",
      "[36]\tvalid_0's rmse: 37.9128\n",
      "[38]\tvalid_0's rmse: 37.7793\n",
      "[40]\tvalid_0's rmse: 37.6595\n",
      "[42]\tvalid_0's rmse: 37.547\n",
      "[44]\tvalid_0's rmse: 37.4123\n",
      "[46]\tvalid_0's rmse: 37.2909\n",
      "[48]\tvalid_0's rmse: 37.2077\n"
     ]
    },
    {
     "name": "stderr",
     "output_type": "stream",
     "text": [
      "regularization_factors, val_score: 37.111460:  75%|#######5  | 15/20 [11:42<03:41, 44.36s/it]"
     ]
    },
    {
     "name": "stdout",
     "output_type": "stream",
     "text": [
      "[50]\tvalid_0's rmse: 37.1115\n",
      "Did not meet early stopping. Best iteration is:\n",
      "[50]\tvalid_0's rmse: 37.1115\n",
      "[LightGBM] [Warning] Auto-choosing row-wise multi-threading, the overhead of testing was 0.160795 seconds.\n",
      "You can set `force_row_wise=true` to remove the overhead.\n",
      "And if memory is not enough, you can set `force_col_wise=true`.\n",
      "[LightGBM] [Info] Total Bins 2605\n",
      "[LightGBM] [Info] Number of data points in the train set: 4940266, number of used features: 17\n",
      "[LightGBM] [Info] Start training from score 5.277316\n",
      "Training until validation scores don't improve for 5 rounds\n",
      "[2]\tvalid_0's rmse: 41.6727\n",
      "[4]\tvalid_0's rmse: 41.0552\n",
      "[6]\tvalid_0's rmse: 40.5787\n",
      "[8]\tvalid_0's rmse: 40.2217\n",
      "[10]\tvalid_0's rmse: 39.9403\n",
      "[12]\tvalid_0's rmse: 39.7105\n",
      "[14]\tvalid_0's rmse: 39.5034\n",
      "[16]\tvalid_0's rmse: 39.3298\n",
      "[18]\tvalid_0's rmse: 39.1615\n",
      "[20]\tvalid_0's rmse: 39.0105\n",
      "[22]\tvalid_0's rmse: 38.8497\n",
      "[24]\tvalid_0's rmse: 38.7053\n",
      "[26]\tvalid_0's rmse: 38.5816\n",
      "[28]\tvalid_0's rmse: 38.4644\n",
      "[30]\tvalid_0's rmse: 38.3306\n",
      "[32]\tvalid_0's rmse: 38.1801\n",
      "[34]\tvalid_0's rmse: 38.0333\n",
      "[36]\tvalid_0's rmse: 37.9128\n",
      "[38]\tvalid_0's rmse: 37.7793\n",
      "[40]\tvalid_0's rmse: 37.6595\n",
      "[42]\tvalid_0's rmse: 37.547\n",
      "[44]\tvalid_0's rmse: 37.4124\n",
      "[46]\tvalid_0's rmse: 37.2909\n",
      "[48]\tvalid_0's rmse: 37.2077\n"
     ]
    },
    {
     "name": "stderr",
     "output_type": "stream",
     "text": [
      "regularization_factors, val_score: 37.111460:  80%|########  | 16/20 [12:26<02:57, 44.38s/it]"
     ]
    },
    {
     "name": "stdout",
     "output_type": "stream",
     "text": [
      "[50]\tvalid_0's rmse: 37.1115\n",
      "Did not meet early stopping. Best iteration is:\n",
      "[50]\tvalid_0's rmse: 37.1115\n"
     ]
    },
    {
     "name": "stderr",
     "output_type": "stream",
     "text": [
      "\r",
      "regularization_factors, val_score: 37.111460:  80%|########  | 16/20 [12:26<02:57, 44.38s/it]"
     ]
    },
    {
     "name": "stdout",
     "output_type": "stream",
     "text": [
      "[LightGBM] [Warning] Auto-choosing row-wise multi-threading, the overhead of testing was 0.150797 seconds.\n",
      "You can set `force_row_wise=true` to remove the overhead.\n",
      "And if memory is not enough, you can set `force_col_wise=true`.\n",
      "[LightGBM] [Info] Total Bins 2605\n",
      "[LightGBM] [Info] Number of data points in the train set: 4940266, number of used features: 17\n",
      "[LightGBM] [Info] Start training from score 5.277316\n",
      "Training until validation scores don't improve for 5 rounds\n",
      "[2]\tvalid_0's rmse: 41.6762\n",
      "[4]\tvalid_0's rmse: 41.0637\n",
      "[6]\tvalid_0's rmse: 40.5924\n",
      "[8]\tvalid_0's rmse: 40.2462\n",
      "[10]\tvalid_0's rmse: 39.9689\n",
      "[12]\tvalid_0's rmse: 39.7294\n",
      "[14]\tvalid_0's rmse: 39.5251\n",
      "[16]\tvalid_0's rmse: 39.343\n",
      "[18]\tvalid_0's rmse: 39.1976\n",
      "[20]\tvalid_0's rmse: 39.0394\n",
      "[22]\tvalid_0's rmse: 38.8923\n",
      "[24]\tvalid_0's rmse: 38.7483\n",
      "[26]\tvalid_0's rmse: 38.5897\n",
      "[28]\tvalid_0's rmse: 38.4473\n",
      "[30]\tvalid_0's rmse: 38.3055\n",
      "[32]\tvalid_0's rmse: 38.1446\n",
      "[34]\tvalid_0's rmse: 37.9685\n",
      "[36]\tvalid_0's rmse: 37.8598\n",
      "[38]\tvalid_0's rmse: 37.7322\n",
      "[40]\tvalid_0's rmse: 37.6258\n",
      "[42]\tvalid_0's rmse: 37.4957\n",
      "[44]\tvalid_0's rmse: 37.3921\n",
      "[46]\tvalid_0's rmse: 37.3066\n",
      "[48]\tvalid_0's rmse: 37.2034\n"
     ]
    },
    {
     "name": "stderr",
     "output_type": "stream",
     "text": [
      "regularization_factors, val_score: 37.077318:  85%|########5 | 17/20 [13:11<02:13, 44.55s/it]"
     ]
    },
    {
     "name": "stdout",
     "output_type": "stream",
     "text": [
      "[50]\tvalid_0's rmse: 37.0773\n",
      "Did not meet early stopping. Best iteration is:\n",
      "[50]\tvalid_0's rmse: 37.0773\n"
     ]
    },
    {
     "name": "stderr",
     "output_type": "stream",
     "text": [
      "\r",
      "regularization_factors, val_score: 37.077318:  85%|########5 | 17/20 [13:11<02:13, 44.55s/it]"
     ]
    },
    {
     "name": "stdout",
     "output_type": "stream",
     "text": [
      "[LightGBM] [Warning] Auto-choosing row-wise multi-threading, the overhead of testing was 0.145588 seconds.\n",
      "You can set `force_row_wise=true` to remove the overhead.\n",
      "And if memory is not enough, you can set `force_col_wise=true`.\n",
      "[LightGBM] [Info] Total Bins 2605\n",
      "[LightGBM] [Info] Number of data points in the train set: 4940266, number of used features: 17\n",
      "[LightGBM] [Info] Start training from score 5.277316\n",
      "Training until validation scores don't improve for 5 rounds\n",
      "[2]\tvalid_0's rmse: 41.7032\n",
      "[4]\tvalid_0's rmse: 41.1042\n",
      "[6]\tvalid_0's rmse: 40.6441\n",
      "[8]\tvalid_0's rmse: 40.3018\n",
      "[10]\tvalid_0's rmse: 40.0176\n",
      "[12]\tvalid_0's rmse: 39.7879\n",
      "[14]\tvalid_0's rmse: 39.5942\n",
      "[16]\tvalid_0's rmse: 39.4238\n",
      "[18]\tvalid_0's rmse: 39.2706\n",
      "[20]\tvalid_0's rmse: 39.13\n",
      "[22]\tvalid_0's rmse: 38.9804\n",
      "[24]\tvalid_0's rmse: 38.8367\n",
      "[26]\tvalid_0's rmse: 38.6931\n",
      "[28]\tvalid_0's rmse: 38.5677\n",
      "[30]\tvalid_0's rmse: 38.4381\n",
      "[32]\tvalid_0's rmse: 38.3035\n",
      "[34]\tvalid_0's rmse: 38.1736\n",
      "[36]\tvalid_0's rmse: 38.0387\n",
      "[38]\tvalid_0's rmse: 37.9048\n",
      "[40]\tvalid_0's rmse: 37.8095\n",
      "[42]\tvalid_0's rmse: 37.6849\n",
      "[44]\tvalid_0's rmse: 37.5844\n",
      "[46]\tvalid_0's rmse: 37.4873\n",
      "[48]\tvalid_0's rmse: 37.3829\n"
     ]
    },
    {
     "name": "stderr",
     "output_type": "stream",
     "text": [
      "regularization_factors, val_score: 37.077318:  90%|######### | 18/20 [13:57<01:29, 44.88s/it]"
     ]
    },
    {
     "name": "stdout",
     "output_type": "stream",
     "text": [
      "[50]\tvalid_0's rmse: 37.2831\n",
      "Did not meet early stopping. Best iteration is:\n",
      "[50]\tvalid_0's rmse: 37.2831\n",
      "[LightGBM] [Warning] Auto-choosing row-wise multi-threading, the overhead of testing was 0.142772 seconds.\n",
      "You can set `force_row_wise=true` to remove the overhead.\n",
      "And if memory is not enough, you can set `force_col_wise=true`.\n",
      "[LightGBM] [Info] Total Bins 2605\n",
      "[LightGBM] [Info] Number of data points in the train set: 4940266, number of used features: 17\n",
      "[LightGBM] [Info] Start training from score 5.277316\n",
      "Training until validation scores don't improve for 5 rounds\n",
      "[2]\tvalid_0's rmse: 41.6764\n",
      "[4]\tvalid_0's rmse: 41.0634\n",
      "[6]\tvalid_0's rmse: 40.592\n",
      "[8]\tvalid_0's rmse: 40.2445\n",
      "[10]\tvalid_0's rmse: 39.9671\n",
      "[12]\tvalid_0's rmse: 39.725\n",
      "[14]\tvalid_0's rmse: 39.5196\n",
      "[16]\tvalid_0's rmse: 39.3589\n",
      "[18]\tvalid_0's rmse: 39.1839\n",
      "[20]\tvalid_0's rmse: 39.0168\n",
      "[22]\tvalid_0's rmse: 38.881\n",
      "[24]\tvalid_0's rmse: 38.7394\n",
      "[26]\tvalid_0's rmse: 38.5929\n",
      "[28]\tvalid_0's rmse: 38.4559\n",
      "[30]\tvalid_0's rmse: 38.3208\n",
      "[32]\tvalid_0's rmse: 38.184\n",
      "[34]\tvalid_0's rmse: 38.0092\n",
      "[36]\tvalid_0's rmse: 37.8988\n",
      "[38]\tvalid_0's rmse: 37.7842\n",
      "[40]\tvalid_0's rmse: 37.6701\n",
      "[42]\tvalid_0's rmse: 37.5868\n",
      "[44]\tvalid_0's rmse: 37.4621\n",
      "[46]\tvalid_0's rmse: 37.3641\n",
      "[48]\tvalid_0's rmse: 37.256\n"
     ]
    },
    {
     "name": "stderr",
     "output_type": "stream",
     "text": [
      "regularization_factors, val_score: 37.077318:  95%|#########5| 19/20 [15:34<01:00, 60.55s/it]"
     ]
    },
    {
     "name": "stdout",
     "output_type": "stream",
     "text": [
      "[50]\tvalid_0's rmse: 37.157\n",
      "Did not meet early stopping. Best iteration is:\n",
      "[50]\tvalid_0's rmse: 37.157\n",
      "[LightGBM] [Warning] Auto-choosing row-wise multi-threading, the overhead of testing was 0.139575 seconds.\n",
      "You can set `force_row_wise=true` to remove the overhead.\n",
      "And if memory is not enough, you can set `force_col_wise=true`.\n",
      "[LightGBM] [Info] Total Bins 2605\n",
      "[LightGBM] [Info] Number of data points in the train set: 4940266, number of used features: 17\n",
      "[LightGBM] [Info] Start training from score 5.277316\n",
      "Training until validation scores don't improve for 5 rounds\n",
      "[2]\tvalid_0's rmse: 41.6769\n",
      "[4]\tvalid_0's rmse: 41.0631\n",
      "[6]\tvalid_0's rmse: 40.5852\n",
      "[8]\tvalid_0's rmse: 40.2406\n",
      "[10]\tvalid_0's rmse: 39.959\n",
      "[12]\tvalid_0's rmse: 39.7096\n",
      "[14]\tvalid_0's rmse: 39.5174\n",
      "[16]\tvalid_0's rmse: 39.3457\n",
      "[18]\tvalid_0's rmse: 39.1737\n",
      "[20]\tvalid_0's rmse: 39.0078\n",
      "[22]\tvalid_0's rmse: 38.8592\n",
      "[24]\tvalid_0's rmse: 38.7203\n",
      "[26]\tvalid_0's rmse: 38.5455\n",
      "[28]\tvalid_0's rmse: 38.4265\n",
      "[30]\tvalid_0's rmse: 38.2919\n",
      "[32]\tvalid_0's rmse: 38.1541\n",
      "[34]\tvalid_0's rmse: 38.0256\n",
      "[36]\tvalid_0's rmse: 37.8743\n",
      "[38]\tvalid_0's rmse: 37.7748\n",
      "[40]\tvalid_0's rmse: 37.6434\n",
      "[42]\tvalid_0's rmse: 37.5696\n",
      "[44]\tvalid_0's rmse: 37.4563\n",
      "[46]\tvalid_0's rmse: 37.3354\n",
      "[48]\tvalid_0's rmse: 37.2501\n"
     ]
    },
    {
     "name": "stderr",
     "output_type": "stream",
     "text": [
      "regularization_factors, val_score: 37.077318: 100%|##########| 20/20 [16:15<00:00, 48.77s/it]\n",
      "  0%|          | 0/5 [00:00<?, ?it/s]"
     ]
    },
    {
     "name": "stdout",
     "output_type": "stream",
     "text": [
      "[50]\tvalid_0's rmse: 37.1378\n",
      "Did not meet early stopping. Best iteration is:\n",
      "[50]\tvalid_0's rmse: 37.1378\n"
     ]
    },
    {
     "name": "stderr",
     "output_type": "stream",
     "text": [
      "\r",
      "min_data_in_leaf, val_score: 37.077318:   0%|          | 0/5 [00:00<?, ?it/s]"
     ]
    },
    {
     "name": "stdout",
     "output_type": "stream",
     "text": [
      "[LightGBM] [Warning] Auto-choosing row-wise multi-threading, the overhead of testing was 0.185647 seconds.\n",
      "You can set `force_row_wise=true` to remove the overhead.\n",
      "And if memory is not enough, you can set `force_col_wise=true`.\n",
      "[LightGBM] [Info] Total Bins 2605\n",
      "[LightGBM] [Info] Number of data points in the train set: 4940266, number of used features: 17\n",
      "[LightGBM] [Info] Start training from score 5.277316\n",
      "Training until validation scores don't improve for 5 rounds\n",
      "[2]\tvalid_0's rmse: 41.7202\n",
      "[4]\tvalid_0's rmse: 41.1272\n",
      "[6]\tvalid_0's rmse: 40.691\n",
      "[8]\tvalid_0's rmse: 40.3567\n",
      "[10]\tvalid_0's rmse: 40.096\n",
      "[12]\tvalid_0's rmse: 39.8648\n",
      "[14]\tvalid_0's rmse: 39.6754\n",
      "[16]\tvalid_0's rmse: 39.5094\n",
      "[18]\tvalid_0's rmse: 39.3613\n",
      "[20]\tvalid_0's rmse: 39.2119\n",
      "[22]\tvalid_0's rmse: 39.0692\n",
      "[24]\tvalid_0's rmse: 38.9246\n",
      "[26]\tvalid_0's rmse: 38.7792\n",
      "[28]\tvalid_0's rmse: 38.654\n",
      "[30]\tvalid_0's rmse: 38.5505\n",
      "[32]\tvalid_0's rmse: 38.423\n",
      "[34]\tvalid_0's rmse: 38.2931\n",
      "[36]\tvalid_0's rmse: 38.1658\n",
      "[38]\tvalid_0's rmse: 38.0363\n",
      "[40]\tvalid_0's rmse: 37.9263\n",
      "[42]\tvalid_0's rmse: 37.8275\n",
      "[44]\tvalid_0's rmse: 37.7131\n",
      "[46]\tvalid_0's rmse: 37.5853\n",
      "[48]\tvalid_0's rmse: 37.492\n"
     ]
    },
    {
     "name": "stderr",
     "output_type": "stream",
     "text": [
      "min_data_in_leaf, val_score: 37.077318:  20%|##        | 1/5 [17:56<1:11:43, 1075.97s/it]"
     ]
    },
    {
     "name": "stdout",
     "output_type": "stream",
     "text": [
      "[50]\tvalid_0's rmse: 37.3986\n",
      "Did not meet early stopping. Best iteration is:\n",
      "[50]\tvalid_0's rmse: 37.3986\n",
      "[LightGBM] [Warning] Auto-choosing row-wise multi-threading, the overhead of testing was 0.169619 seconds.\n",
      "You can set `force_row_wise=true` to remove the overhead.\n",
      "And if memory is not enough, you can set `force_col_wise=true`.\n",
      "[LightGBM] [Info] Total Bins 2605\n",
      "[LightGBM] [Info] Number of data points in the train set: 4940266, number of used features: 17\n",
      "[LightGBM] [Info] Start training from score 5.277316\n",
      "Training until validation scores don't improve for 5 rounds\n",
      "[2]\tvalid_0's rmse: 41.6851\n",
      "[4]\tvalid_0's rmse: 41.0708\n",
      "[6]\tvalid_0's rmse: 40.5991\n",
      "[8]\tvalid_0's rmse: 40.25\n",
      "[10]\tvalid_0's rmse: 39.9817\n",
      "[12]\tvalid_0's rmse: 39.7513\n",
      "[14]\tvalid_0's rmse: 39.5526\n",
      "[16]\tvalid_0's rmse: 39.3638\n",
      "[18]\tvalid_0's rmse: 39.2103\n",
      "[20]\tvalid_0's rmse: 39.0653\n",
      "[22]\tvalid_0's rmse: 38.9148\n",
      "[24]\tvalid_0's rmse: 38.7709\n",
      "[26]\tvalid_0's rmse: 38.6198\n",
      "[28]\tvalid_0's rmse: 38.4993\n",
      "[30]\tvalid_0's rmse: 38.3615\n",
      "[32]\tvalid_0's rmse: 38.2127\n",
      "[34]\tvalid_0's rmse: 38.1038\n",
      "[36]\tvalid_0's rmse: 37.9568\n",
      "[38]\tvalid_0's rmse: 37.83\n",
      "[40]\tvalid_0's rmse: 37.719\n",
      "[42]\tvalid_0's rmse: 37.593\n",
      "[44]\tvalid_0's rmse: 37.4805\n",
      "[46]\tvalid_0's rmse: 37.3756\n",
      "[48]\tvalid_0's rmse: 37.283\n"
     ]
    },
    {
     "name": "stderr",
     "output_type": "stream",
     "text": [
      "min_data_in_leaf, val_score: 37.077318:  40%|####      | 2/5 [18:45<23:35, 471.91s/it]   "
     ]
    },
    {
     "name": "stdout",
     "output_type": "stream",
     "text": [
      "[50]\tvalid_0's rmse: 37.1829\n",
      "Did not meet early stopping. Best iteration is:\n",
      "[50]\tvalid_0's rmse: 37.1829\n",
      "[LightGBM] [Warning] Auto-choosing col-wise multi-threading, the overhead of testing was 0.938253 seconds.\n",
      "You can set `force_col_wise=true` to remove the overhead.\n",
      "[LightGBM] [Info] Total Bins 2605\n",
      "[LightGBM] [Info] Number of data points in the train set: 4940266, number of used features: 17\n",
      "[LightGBM] [Info] Start training from score 5.277316\n",
      "Training until validation scores don't improve for 5 rounds\n",
      "[2]\tvalid_0's rmse: 41.6559\n",
      "[4]\tvalid_0's rmse: 41.0246\n",
      "[6]\tvalid_0's rmse: 40.5386\n",
      "[8]\tvalid_0's rmse: 40.1781\n",
      "[10]\tvalid_0's rmse: 39.8877\n",
      "[12]\tvalid_0's rmse: 39.6456\n",
      "[14]\tvalid_0's rmse: 39.4353\n",
      "[16]\tvalid_0's rmse: 39.2482\n",
      "[18]\tvalid_0's rmse: 39.0697\n",
      "[20]\tvalid_0's rmse: 38.9273\n",
      "[22]\tvalid_0's rmse: 38.7385\n",
      "[24]\tvalid_0's rmse: 38.597\n",
      "[26]\tvalid_0's rmse: 38.4576\n",
      "[28]\tvalid_0's rmse: 38.308\n",
      "[30]\tvalid_0's rmse: 38.1627\n",
      "[32]\tvalid_0's rmse: 38.0278\n",
      "[34]\tvalid_0's rmse: 37.8706\n",
      "[36]\tvalid_0's rmse: 37.7311\n",
      "[38]\tvalid_0's rmse: 37.606\n",
      "[40]\tvalid_0's rmse: 37.5126\n",
      "[42]\tvalid_0's rmse: 37.3903\n",
      "[44]\tvalid_0's rmse: 37.2856\n",
      "[46]\tvalid_0's rmse: 37.1916\n",
      "[48]\tvalid_0's rmse: 37.0826\n"
     ]
    },
    {
     "name": "stderr",
     "output_type": "stream",
     "text": [
      "min_data_in_leaf, val_score: 36.993978:  60%|######    | 3/5 [19:43<09:26, 283.23s/it]"
     ]
    },
    {
     "name": "stdout",
     "output_type": "stream",
     "text": [
      "[50]\tvalid_0's rmse: 36.994\n",
      "Did not meet early stopping. Best iteration is:\n",
      "[50]\tvalid_0's rmse: 36.994\n",
      "[LightGBM] [Warning] Auto-choosing row-wise multi-threading, the overhead of testing was 0.131962 seconds.\n",
      "You can set `force_row_wise=true` to remove the overhead.\n",
      "And if memory is not enough, you can set `force_col_wise=true`.\n",
      "[LightGBM] [Info] Total Bins 2605\n",
      "[LightGBM] [Info] Number of data points in the train set: 4940266, number of used features: 17\n",
      "[LightGBM] [Info] Start training from score 5.277316\n",
      "Training until validation scores don't improve for 5 rounds\n",
      "[2]\tvalid_0's rmse: 41.7586\n",
      "[4]\tvalid_0's rmse: 41.1933\n",
      "[6]\tvalid_0's rmse: 40.7724\n",
      "[8]\tvalid_0's rmse: 40.4546\n",
      "[10]\tvalid_0's rmse: 40.197\n",
      "[12]\tvalid_0's rmse: 39.9917\n",
      "[14]\tvalid_0's rmse: 39.8124\n",
      "[16]\tvalid_0's rmse: 39.6427\n",
      "[18]\tvalid_0's rmse: 39.5043\n",
      "[20]\tvalid_0's rmse: 39.3731\n",
      "[22]\tvalid_0's rmse: 39.2374\n",
      "[24]\tvalid_0's rmse: 39.1253\n",
      "[26]\tvalid_0's rmse: 39.0142\n",
      "[28]\tvalid_0's rmse: 38.8967\n",
      "[30]\tvalid_0's rmse: 38.7944\n",
      "[32]\tvalid_0's rmse: 38.6684\n",
      "[34]\tvalid_0's rmse: 38.5432\n",
      "[36]\tvalid_0's rmse: 38.3978\n",
      "[38]\tvalid_0's rmse: 38.3095\n",
      "[40]\tvalid_0's rmse: 38.1984\n",
      "[42]\tvalid_0's rmse: 38.0876\n",
      "[44]\tvalid_0's rmse: 38.0189\n",
      "[46]\tvalid_0's rmse: 37.9115\n",
      "[48]\tvalid_0's rmse: 37.8243\n"
     ]
    },
    {
     "name": "stderr",
     "output_type": "stream",
     "text": [
      "min_data_in_leaf, val_score: 36.993978:  80%|########  | 4/5 [20:31<03:10, 190.15s/it]"
     ]
    },
    {
     "name": "stdout",
     "output_type": "stream",
     "text": [
      "[50]\tvalid_0's rmse: 37.7539\n",
      "Did not meet early stopping. Best iteration is:\n",
      "[50]\tvalid_0's rmse: 37.7539\n"
     ]
    },
    {
     "name": "stderr",
     "output_type": "stream",
     "text": [
      "\r",
      "min_data_in_leaf, val_score: 36.993978:  80%|########  | 4/5 [20:31<03:10, 190.15s/it]"
     ]
    },
    {
     "name": "stdout",
     "output_type": "stream",
     "text": [
      "[LightGBM] [Warning] Auto-choosing row-wise multi-threading, the overhead of testing was 0.136885 seconds.\n",
      "You can set `force_row_wise=true` to remove the overhead.\n",
      "And if memory is not enough, you can set `force_col_wise=true`.\n",
      "[LightGBM] [Info] Total Bins 2605\n",
      "[LightGBM] [Info] Number of data points in the train set: 4940266, number of used features: 17\n",
      "[LightGBM] [Info] Start training from score 5.277316\n",
      "Training until validation scores don't improve for 5 rounds\n",
      "[2]\tvalid_0's rmse: 41.629\n",
      "[4]\tvalid_0's rmse: 40.9801\n",
      "[6]\tvalid_0's rmse: 40.4789\n",
      "[8]\tvalid_0's rmse: 40.1106\n",
      "[10]\tvalid_0's rmse: 39.8158\n",
      "[12]\tvalid_0's rmse: 39.5539\n",
      "[14]\tvalid_0's rmse: 39.3584\n",
      "[16]\tvalid_0's rmse: 39.1686\n",
      "[18]\tvalid_0's rmse: 38.9946\n",
      "[20]\tvalid_0's rmse: 38.8149\n",
      "[22]\tvalid_0's rmse: 38.6731\n",
      "[24]\tvalid_0's rmse: 38.5071\n",
      "[26]\tvalid_0's rmse: 38.3539\n",
      "[28]\tvalid_0's rmse: 38.225\n",
      "[30]\tvalid_0's rmse: 38.0919\n",
      "[32]\tvalid_0's rmse: 37.9499\n",
      "[34]\tvalid_0's rmse: 37.7886\n",
      "[36]\tvalid_0's rmse: 37.6561\n",
      "[38]\tvalid_0's rmse: 37.5463\n",
      "[40]\tvalid_0's rmse: 37.4056\n",
      "[42]\tvalid_0's rmse: 37.2837\n",
      "[44]\tvalid_0's rmse: 37.1806\n",
      "[46]\tvalid_0's rmse: 37.0492\n",
      "[48]\tvalid_0's rmse: 36.9364\n"
     ]
    },
    {
     "name": "stderr",
     "output_type": "stream",
     "text": [
      "min_data_in_leaf, val_score: 36.810379: 100%|##########| 5/5 [21:20<00:00, 139.35s/it]"
     ]
    },
    {
     "name": "stdout",
     "output_type": "stream",
     "text": [
      "[50]\tvalid_0's rmse: 36.8104\n",
      "Did not meet early stopping. Best iteration is:\n",
      "[50]\tvalid_0's rmse: 36.8104\n"
     ]
    },
    {
     "name": "stderr",
     "output_type": "stream",
     "text": [
      "min_data_in_leaf, val_score: 36.810379: 100%|##########| 5/5 [21:20<00:00, 256.11s/it]\n"
     ]
    },
    {
     "name": "stdout",
     "output_type": "stream",
     "text": [
      "[LightGBM] [Warning] Auto-choosing row-wise multi-threading, the overhead of testing was 0.142144 seconds.\n",
      "You can set `force_row_wise=true` to remove the overhead.\n",
      "And if memory is not enough, you can set `force_col_wise=true`.\n",
      "[LightGBM] [Info] Total Bins 2605\n",
      "[LightGBM] [Info] Number of data points in the train set: 4940266, number of used features: 17\n",
      "[LightGBM] [Info] Start training from score 5.277316\n",
      "Training until validation scores don't improve for 5 rounds\n",
      "[2]\tvalid_0's rmse: 41.9394\n",
      "[4]\tvalid_0's rmse: 41.5181\n",
      "[6]\tvalid_0's rmse: 41.2301\n",
      "[8]\tvalid_0's rmse: 41.0279\n",
      "[10]\tvalid_0's rmse: 40.8769\n",
      "[12]\tvalid_0's rmse: 40.7673\n",
      "[14]\tvalid_0's rmse: 40.6816\n",
      "[16]\tvalid_0's rmse: 40.6145\n",
      "[18]\tvalid_0's rmse: 40.5402\n",
      "[20]\tvalid_0's rmse: 40.4926\n",
      "[22]\tvalid_0's rmse: 40.4441\n",
      "[24]\tvalid_0's rmse: 40.3994\n",
      "[26]\tvalid_0's rmse: 40.3546\n",
      "[28]\tvalid_0's rmse: 40.3168\n",
      "[30]\tvalid_0's rmse: 40.2738\n",
      "[32]\tvalid_0's rmse: 40.232\n",
      "[34]\tvalid_0's rmse: 40.1929\n",
      "[36]\tvalid_0's rmse: 40.1462\n",
      "[38]\tvalid_0's rmse: 40.115\n",
      "[40]\tvalid_0's rmse: 40.089\n",
      "[42]\tvalid_0's rmse: 40.0572\n",
      "[44]\tvalid_0's rmse: 40.0261\n",
      "[46]\tvalid_0's rmse: 39.9982\n",
      "[48]\tvalid_0's rmse: 39.9736\n",
      "[50]\tvalid_0's rmse: 39.9451\n",
      "Did not meet early stopping. Best iteration is:\n",
      "[50]\tvalid_0's rmse: 39.9451\n",
      "Model RMSE is:  36.81037880022666\n",
      "Model R2 Score is:  0.25150748630315467\n",
      "Model RMSE is:  39.945097050218116\n",
      "Model R2 Score is:  0.1185983705868171\n"
     ]
    }
   ],
   "source": [
    "\n",
    "import seaborn as sns\n",
    "import lightgbm as lgb\n",
    "import optuna\n",
    "from optuna._imports import try_import\n",
    "from optuna.integration import _lightgbm_tuner as lightgbm_tuner\n",
    "\n",
    "\n",
    "# Convert dataset to type of LightGBM\n",
    "lgb_train = lgb.Dataset(X_train, y_train)\n",
    "lgb_valid = lgb.Dataset(X_test, y_test, reference=lgb_train)\n",
    "\n",
    "# Basic parameters for learning\n",
    "lgb_params = {\n",
    "    'objective': 'regression',\n",
    "    'metric': 'rmse',\n",
    "}\n",
    "\n",
    "# Make Hyperparameters be Stepwise Optimization with Optuna\n",
    "tuned_booster = lightgbm_tuner.train(lgb_params, lgb_train,\n",
    "                                     valid_sets=lgb_valid,\n",
    "                                     num_boost_round=50,\n",
    "                                     early_stopping_rounds=5,\n",
    "                                     verbose_eval=2,\n",
    "                                     )\n",
    "\n",
    "# Also prepare a model with default parameters for comparison\n",
    "default_booster = lgb.train(lgb_params, lgb_train,\n",
    "                            valid_sets=lgb_valid,\n",
    "                            num_boost_round=50,\n",
    "                            early_stopping_rounds=5,\n",
    "                            verbose_eval=2,\n",
    "                            )\n",
    "\n",
    "# Score for Optuna\n",
    "y_pred_tuned = tuned_booster.predict(X_test)\n",
    "tuned_metric = mean_squared_error(y_test, y_pred_tuned)\n",
    "print('Model RMSE is: ',np.sqrt(mean_squared_error(y_test, y_pred_tuned)))\n",
    "print('Model R2 Score is: ',r2_score(y_test,y_pred_tuned))\n",
    "\n",
    "# Score for default\n",
    "y_pred_default = default_booster.predict(X_test)\n",
    "default_metric = mean_squared_error(y_test, y_pred_default)\n",
    "print('Model RMSE is: ',np.sqrt(mean_squared_error(y_test, y_pred_default)))\n",
    "print('Model R2 Score is: ',r2_score(y_test,y_pred_default))"
   ]
  },
  {
   "cell_type": "code",
   "execution_count": 104,
   "id": "086b9b66",
   "metadata": {},
   "outputs": [
    {
     "name": "stdout",
     "output_type": "stream",
     "text": [
      "Model RMSE is:  36.81037880022666\n",
      "Model R2 Score is:  0.25150748630315467\n"
     ]
    }
   ],
   "source": [
    "print('Optimized Model RMSE is: ',np.sqrt(mean_squared_error(y_test, y_pred_tuned)))\n",
    "print('Optimized Model R2 Score is: ',r2_score(y_test,y_pred_tuned))"
   ]
  },
  {
   "cell_type": "code",
   "execution_count": 105,
   "id": "3823be90",
   "metadata": {},
   "outputs": [
    {
     "name": "stdout",
     "output_type": "stream",
     "text": [
      "Model RMSE is:  39.945097050218116\n",
      "Model R2 Score is:  0.1185983705868171\n"
     ]
    }
   ],
   "source": [
    "print('Model RMSE is: ',np.sqrt(mean_squared_error(y_test, y_pred_default)))\n",
    "print('Model R2 Score is: ',r2_score(y_test,y_pred_default))"
   ]
  },
  {
   "cell_type": "code",
   "execution_count": null,
   "id": "ef3bfb33",
   "metadata": {},
   "outputs": [],
   "source": [
    " "
   ]
  },
  {
   "cell_type": "code",
   "execution_count": 106,
   "id": "b6ed3ad0",
   "metadata": {},
   "outputs": [
    {
     "name": "stdout",
     "output_type": "stream",
     "text": [
      "[LightGBM] [Warning] Auto-choosing row-wise multi-threading, the overhead of testing was 0.073913 seconds.\n",
      "You can set `force_row_wise=true` to remove the overhead.\n",
      "And if memory is not enough, you can set `force_col_wise=true`.\n",
      "[LightGBM] [Info] Total Bins 2605\n",
      "[LightGBM] [Info] Number of data points in the train set: 4940266, number of used features: 17\n",
      "[LightGBM] [Info] Start training from score 5.277316\n",
      "Model RMSE is:  36.7489610220986\n",
      "Model R2 Score is:  0.2540031083396377\n"
     ]
    }
   ],
   "source": [
    "import lightgbm as lgb\n",
    "d_train = lgb.Dataset(X_train, label=y_train)\n",
    "params = {}\n",
    "params['learning_rate'] = 0.8277896457253541\n",
    "params['boosting_type'] = 'gbdt'\n",
    "#params['boosting_type'] = 'dart'\n",
    "params['objective'] = 'regression'\n",
    "params['metric'] = 'rmse'\n",
    "params['sub_feature'] = 0.5\n",
    "params['num_leaves'] = 62\n",
    "params['min_data'] = 55\n",
    "params['max_depth'] = 27\n",
    "y_train=y_train.ravel()\n",
    "reg= lgb.train(params, d_train, 100)\n",
    "results=reg.predict(X_test)\n",
    "print('Model RMSE is: ',np.sqrt(mean_squared_error(y_test, results)))\n",
    "print('Model R2 Score is: ',r2_score(y_test,results))"
   ]
  },
  {
   "cell_type": "code",
   "execution_count": 107,
   "id": "ae023548",
   "metadata": {},
   "outputs": [
    {
     "name": "stdout",
     "output_type": "stream",
     "text": [
      "[LightGBM] [Warning] Auto-choosing row-wise multi-threading, the overhead of testing was 0.089582 seconds.\n",
      "You can set `force_row_wise=true` to remove the overhead.\n",
      "And if memory is not enough, you can set `force_col_wise=true`.\n",
      "[LightGBM] [Info] Total Bins 2605\n",
      "[LightGBM] [Info] Number of data points in the train set: 3293510, number of used features: 17\n",
      "[LightGBM] [Warning] Auto-choosing row-wise multi-threading, the overhead of testing was 0.051937 seconds.\n",
      "You can set `force_row_wise=true` to remove the overhead.\n",
      "And if memory is not enough, you can set `force_col_wise=true`.\n",
      "[LightGBM] [Info] Total Bins 2605\n",
      "[LightGBM] [Info] Number of data points in the train set: 3293510, number of used features: 17\n",
      "[LightGBM] [Warning] Auto-choosing row-wise multi-threading, the overhead of testing was 0.053463 seconds.\n",
      "You can set `force_row_wise=true` to remove the overhead.\n",
      "And if memory is not enough, you can set `force_col_wise=true`.\n",
      "[LightGBM] [Info] Total Bins 2605\n",
      "[LightGBM] [Info] Number of data points in the train set: 3293510, number of used features: 17\n",
      "[LightGBM] [Info] Start training from score 5.265009\n",
      "[LightGBM] [Info] Start training from score 5.272756\n",
      "[LightGBM] [Info] Start training from score 5.294176\n",
      "Current parameters:\n",
      " {'learning_rate': 0.8277896457253541, 'boosting_type': 'gbdt', 'objective': 'regression', 'metric': 'rmse', 'sub_feature': 0.5, 'num_leaves': 62, 'min_data': 55, 'max_depth': 27}\n",
      "\n",
      "Best num_boost_round: 100\n",
      "LightGBM Model Cross-validation MAE is: 21.608509540616378\n"
     ]
    }
   ],
   "source": [
    "# Cross-validate\n",
    "cv_results = lgb.cv(\n",
    "        params,\n",
    "        d_train,\n",
    "        num_boost_round=100,\n",
    "        nfold=3,\n",
    "        metrics='mae',\n",
    "        early_stopping_rounds=10,\n",
    "\n",
    "        stratified=False\n",
    "        )\n",
    "# Display results\n",
    "print('Current parameters:\\n', params)\n",
    "print('\\nBest num_boost_round:', len(cv_results['l1-mean']))\n",
    "print('LightGBM Model Cross-validation MAE is:', cv_results['l1-mean'][-1])"
   ]
  },
  {
   "cell_type": "markdown",
   "id": "f5076967",
   "metadata": {},
   "source": [
    "##### XGBoost"
   ]
  },
  {
   "cell_type": "code",
   "execution_count": 114,
   "id": "9d9c3944",
   "metadata": {},
   "outputs": [
    {
     "name": "stdout",
     "output_type": "stream",
     "text": [
      "Fitting 5 folds for each of 72 candidates, totalling 360 fits\n"
     ]
    },
    {
     "ename": "KeyboardInterrupt",
     "evalue": "",
     "output_type": "error",
     "traceback": [
      "\u001b[0;31m---------------------------------------------------------------------------\u001b[0m",
      "\u001b[0;31mKeyboardInterrupt\u001b[0m                         Traceback (most recent call last)",
      "\u001b[0;32m<ipython-input-114-d15b5e47772a>\u001b[0m in \u001b[0;36m<module>\u001b[0;34m\u001b[0m\n\u001b[1;32m     31\u001b[0m }\n\u001b[1;32m     32\u001b[0m \u001b[0;34m\u001b[0m\u001b[0m\n\u001b[0;32m---> 33\u001b[0;31m model, pred = algorithm_pipeline(X_train, X_test, y_train, y_test, model, \n\u001b[0m\u001b[1;32m     34\u001b[0m                                  param_grid, cv=5)\n\u001b[1;32m     35\u001b[0m \u001b[0;34m\u001b[0m\u001b[0m\n",
      "\u001b[0;32m<ipython-input-114-d15b5e47772a>\u001b[0m in \u001b[0;36malgorithm_pipeline\u001b[0;34m(X_train_data, X_test_data, y_train_data, y_test_data, model, param_grid, cv, scoring_fit, do_probabilities)\u001b[0m\n\u001b[1;32m     11\u001b[0m         \u001b[0mverbose\u001b[0m\u001b[0;34m=\u001b[0m\u001b[0;36m1\u001b[0m\u001b[0;34m\u001b[0m\u001b[0;34m\u001b[0m\u001b[0m\n\u001b[1;32m     12\u001b[0m     )\n\u001b[0;32m---> 13\u001b[0;31m     \u001b[0mfitted_model\u001b[0m \u001b[0;34m=\u001b[0m \u001b[0mgs\u001b[0m\u001b[0;34m.\u001b[0m\u001b[0mfit\u001b[0m\u001b[0;34m(\u001b[0m\u001b[0mX_train_data\u001b[0m\u001b[0;34m,\u001b[0m \u001b[0my_train_data\u001b[0m\u001b[0;34m)\u001b[0m\u001b[0;34m\u001b[0m\u001b[0;34m\u001b[0m\u001b[0m\n\u001b[0m\u001b[1;32m     14\u001b[0m \u001b[0;34m\u001b[0m\u001b[0m\n\u001b[1;32m     15\u001b[0m     \u001b[0;32mif\u001b[0m \u001b[0mdo_probabilities\u001b[0m\u001b[0;34m:\u001b[0m\u001b[0;34m\u001b[0m\u001b[0;34m\u001b[0m\u001b[0m\n",
      "\u001b[0;32m/opt/anaconda3/lib/python3.8/site-packages/sklearn/utils/validation.py\u001b[0m in \u001b[0;36minner_f\u001b[0;34m(*args, **kwargs)\u001b[0m\n\u001b[1;32m     61\u001b[0m             \u001b[0mextra_args\u001b[0m \u001b[0;34m=\u001b[0m \u001b[0mlen\u001b[0m\u001b[0;34m(\u001b[0m\u001b[0margs\u001b[0m\u001b[0;34m)\u001b[0m \u001b[0;34m-\u001b[0m \u001b[0mlen\u001b[0m\u001b[0;34m(\u001b[0m\u001b[0mall_args\u001b[0m\u001b[0;34m)\u001b[0m\u001b[0;34m\u001b[0m\u001b[0;34m\u001b[0m\u001b[0m\n\u001b[1;32m     62\u001b[0m             \u001b[0;32mif\u001b[0m \u001b[0mextra_args\u001b[0m \u001b[0;34m<=\u001b[0m \u001b[0;36m0\u001b[0m\u001b[0;34m:\u001b[0m\u001b[0;34m\u001b[0m\u001b[0;34m\u001b[0m\u001b[0m\n\u001b[0;32m---> 63\u001b[0;31m                 \u001b[0;32mreturn\u001b[0m \u001b[0mf\u001b[0m\u001b[0;34m(\u001b[0m\u001b[0;34m*\u001b[0m\u001b[0margs\u001b[0m\u001b[0;34m,\u001b[0m \u001b[0;34m**\u001b[0m\u001b[0mkwargs\u001b[0m\u001b[0;34m)\u001b[0m\u001b[0;34m\u001b[0m\u001b[0;34m\u001b[0m\u001b[0m\n\u001b[0m\u001b[1;32m     64\u001b[0m \u001b[0;34m\u001b[0m\u001b[0m\n\u001b[1;32m     65\u001b[0m             \u001b[0;31m# extra_args > 0\u001b[0m\u001b[0;34m\u001b[0m\u001b[0;34m\u001b[0m\u001b[0;34m\u001b[0m\u001b[0m\n",
      "\u001b[0;32m/opt/anaconda3/lib/python3.8/site-packages/sklearn/model_selection/_search.py\u001b[0m in \u001b[0;36mfit\u001b[0;34m(self, X, y, groups, **fit_params)\u001b[0m\n\u001b[1;32m    839\u001b[0m                 \u001b[0;32mreturn\u001b[0m \u001b[0mresults\u001b[0m\u001b[0;34m\u001b[0m\u001b[0;34m\u001b[0m\u001b[0m\n\u001b[1;32m    840\u001b[0m \u001b[0;34m\u001b[0m\u001b[0m\n\u001b[0;32m--> 841\u001b[0;31m             \u001b[0mself\u001b[0m\u001b[0;34m.\u001b[0m\u001b[0m_run_search\u001b[0m\u001b[0;34m(\u001b[0m\u001b[0mevaluate_candidates\u001b[0m\u001b[0;34m)\u001b[0m\u001b[0;34m\u001b[0m\u001b[0;34m\u001b[0m\u001b[0m\n\u001b[0m\u001b[1;32m    842\u001b[0m \u001b[0;34m\u001b[0m\u001b[0m\n\u001b[1;32m    843\u001b[0m             \u001b[0;31m# multimetric is determined here because in the case of a callable\u001b[0m\u001b[0;34m\u001b[0m\u001b[0;34m\u001b[0m\u001b[0;34m\u001b[0m\u001b[0m\n",
      "\u001b[0;32m/opt/anaconda3/lib/python3.8/site-packages/sklearn/model_selection/_search.py\u001b[0m in \u001b[0;36m_run_search\u001b[0;34m(self, evaluate_candidates)\u001b[0m\n\u001b[1;32m   1294\u001b[0m     \u001b[0;32mdef\u001b[0m \u001b[0m_run_search\u001b[0m\u001b[0;34m(\u001b[0m\u001b[0mself\u001b[0m\u001b[0;34m,\u001b[0m \u001b[0mevaluate_candidates\u001b[0m\u001b[0;34m)\u001b[0m\u001b[0;34m:\u001b[0m\u001b[0;34m\u001b[0m\u001b[0;34m\u001b[0m\u001b[0m\n\u001b[1;32m   1295\u001b[0m         \u001b[0;34m\"\"\"Search all candidates in param_grid\"\"\"\u001b[0m\u001b[0;34m\u001b[0m\u001b[0;34m\u001b[0m\u001b[0m\n\u001b[0;32m-> 1296\u001b[0;31m         \u001b[0mevaluate_candidates\u001b[0m\u001b[0;34m(\u001b[0m\u001b[0mParameterGrid\u001b[0m\u001b[0;34m(\u001b[0m\u001b[0mself\u001b[0m\u001b[0;34m.\u001b[0m\u001b[0mparam_grid\u001b[0m\u001b[0;34m)\u001b[0m\u001b[0;34m)\u001b[0m\u001b[0;34m\u001b[0m\u001b[0;34m\u001b[0m\u001b[0m\n\u001b[0m\u001b[1;32m   1297\u001b[0m \u001b[0;34m\u001b[0m\u001b[0m\n\u001b[1;32m   1298\u001b[0m \u001b[0;34m\u001b[0m\u001b[0m\n",
      "\u001b[0;32m/opt/anaconda3/lib/python3.8/site-packages/sklearn/model_selection/_search.py\u001b[0m in \u001b[0;36mevaluate_candidates\u001b[0;34m(candidate_params, cv, more_results)\u001b[0m\n\u001b[1;32m    793\u001b[0m                               n_splits, n_candidates, n_candidates * n_splits))\n\u001b[1;32m    794\u001b[0m \u001b[0;34m\u001b[0m\u001b[0m\n\u001b[0;32m--> 795\u001b[0;31m                 out = parallel(delayed(_fit_and_score)(clone(base_estimator),\n\u001b[0m\u001b[1;32m    796\u001b[0m                                                        \u001b[0mX\u001b[0m\u001b[0;34m,\u001b[0m \u001b[0my\u001b[0m\u001b[0;34m,\u001b[0m\u001b[0;34m\u001b[0m\u001b[0;34m\u001b[0m\u001b[0m\n\u001b[1;32m    797\u001b[0m                                                        \u001b[0mtrain\u001b[0m\u001b[0;34m=\u001b[0m\u001b[0mtrain\u001b[0m\u001b[0;34m,\u001b[0m \u001b[0mtest\u001b[0m\u001b[0;34m=\u001b[0m\u001b[0mtest\u001b[0m\u001b[0;34m,\u001b[0m\u001b[0;34m\u001b[0m\u001b[0;34m\u001b[0m\u001b[0m\n",
      "\u001b[0;32m/opt/anaconda3/lib/python3.8/site-packages/joblib/parallel.py\u001b[0m in \u001b[0;36m__call__\u001b[0;34m(self, iterable)\u001b[0m\n\u001b[1;32m   1052\u001b[0m \u001b[0;34m\u001b[0m\u001b[0m\n\u001b[1;32m   1053\u001b[0m             \u001b[0;32mwith\u001b[0m \u001b[0mself\u001b[0m\u001b[0;34m.\u001b[0m\u001b[0m_backend\u001b[0m\u001b[0;34m.\u001b[0m\u001b[0mretrieval_context\u001b[0m\u001b[0;34m(\u001b[0m\u001b[0;34m)\u001b[0m\u001b[0;34m:\u001b[0m\u001b[0;34m\u001b[0m\u001b[0;34m\u001b[0m\u001b[0m\n\u001b[0;32m-> 1054\u001b[0;31m                 \u001b[0mself\u001b[0m\u001b[0;34m.\u001b[0m\u001b[0mretrieve\u001b[0m\u001b[0;34m(\u001b[0m\u001b[0;34m)\u001b[0m\u001b[0;34m\u001b[0m\u001b[0;34m\u001b[0m\u001b[0m\n\u001b[0m\u001b[1;32m   1055\u001b[0m             \u001b[0;31m# Make sure that we get a last message telling us we are done\u001b[0m\u001b[0;34m\u001b[0m\u001b[0;34m\u001b[0m\u001b[0;34m\u001b[0m\u001b[0m\n\u001b[1;32m   1056\u001b[0m             \u001b[0melapsed_time\u001b[0m \u001b[0;34m=\u001b[0m \u001b[0mtime\u001b[0m\u001b[0;34m.\u001b[0m\u001b[0mtime\u001b[0m\u001b[0;34m(\u001b[0m\u001b[0;34m)\u001b[0m \u001b[0;34m-\u001b[0m \u001b[0mself\u001b[0m\u001b[0;34m.\u001b[0m\u001b[0m_start_time\u001b[0m\u001b[0;34m\u001b[0m\u001b[0;34m\u001b[0m\u001b[0m\n",
      "\u001b[0;32m/opt/anaconda3/lib/python3.8/site-packages/joblib/parallel.py\u001b[0m in \u001b[0;36mretrieve\u001b[0;34m(self)\u001b[0m\n\u001b[1;32m    931\u001b[0m             \u001b[0;32mtry\u001b[0m\u001b[0;34m:\u001b[0m\u001b[0;34m\u001b[0m\u001b[0;34m\u001b[0m\u001b[0m\n\u001b[1;32m    932\u001b[0m                 \u001b[0;32mif\u001b[0m \u001b[0mgetattr\u001b[0m\u001b[0;34m(\u001b[0m\u001b[0mself\u001b[0m\u001b[0;34m.\u001b[0m\u001b[0m_backend\u001b[0m\u001b[0;34m,\u001b[0m \u001b[0;34m'supports_timeout'\u001b[0m\u001b[0;34m,\u001b[0m \u001b[0;32mFalse\u001b[0m\u001b[0;34m)\u001b[0m\u001b[0;34m:\u001b[0m\u001b[0;34m\u001b[0m\u001b[0;34m\u001b[0m\u001b[0m\n\u001b[0;32m--> 933\u001b[0;31m                     \u001b[0mself\u001b[0m\u001b[0;34m.\u001b[0m\u001b[0m_output\u001b[0m\u001b[0;34m.\u001b[0m\u001b[0mextend\u001b[0m\u001b[0;34m(\u001b[0m\u001b[0mjob\u001b[0m\u001b[0;34m.\u001b[0m\u001b[0mget\u001b[0m\u001b[0;34m(\u001b[0m\u001b[0mtimeout\u001b[0m\u001b[0;34m=\u001b[0m\u001b[0mself\u001b[0m\u001b[0;34m.\u001b[0m\u001b[0mtimeout\u001b[0m\u001b[0;34m)\u001b[0m\u001b[0;34m)\u001b[0m\u001b[0;34m\u001b[0m\u001b[0;34m\u001b[0m\u001b[0m\n\u001b[0m\u001b[1;32m    934\u001b[0m                 \u001b[0;32melse\u001b[0m\u001b[0;34m:\u001b[0m\u001b[0;34m\u001b[0m\u001b[0;34m\u001b[0m\u001b[0m\n\u001b[1;32m    935\u001b[0m                     \u001b[0mself\u001b[0m\u001b[0;34m.\u001b[0m\u001b[0m_output\u001b[0m\u001b[0;34m.\u001b[0m\u001b[0mextend\u001b[0m\u001b[0;34m(\u001b[0m\u001b[0mjob\u001b[0m\u001b[0;34m.\u001b[0m\u001b[0mget\u001b[0m\u001b[0;34m(\u001b[0m\u001b[0;34m)\u001b[0m\u001b[0;34m)\u001b[0m\u001b[0;34m\u001b[0m\u001b[0;34m\u001b[0m\u001b[0m\n",
      "\u001b[0;32m/opt/anaconda3/lib/python3.8/site-packages/joblib/_parallel_backends.py\u001b[0m in \u001b[0;36mwrap_future_result\u001b[0;34m(future, timeout)\u001b[0m\n\u001b[1;32m    540\u001b[0m         AsyncResults.get from multiprocessing.\"\"\"\n\u001b[1;32m    541\u001b[0m         \u001b[0;32mtry\u001b[0m\u001b[0;34m:\u001b[0m\u001b[0;34m\u001b[0m\u001b[0;34m\u001b[0m\u001b[0m\n\u001b[0;32m--> 542\u001b[0;31m             \u001b[0;32mreturn\u001b[0m \u001b[0mfuture\u001b[0m\u001b[0;34m.\u001b[0m\u001b[0mresult\u001b[0m\u001b[0;34m(\u001b[0m\u001b[0mtimeout\u001b[0m\u001b[0;34m=\u001b[0m\u001b[0mtimeout\u001b[0m\u001b[0;34m)\u001b[0m\u001b[0;34m\u001b[0m\u001b[0;34m\u001b[0m\u001b[0m\n\u001b[0m\u001b[1;32m    543\u001b[0m         \u001b[0;32mexcept\u001b[0m \u001b[0mCfTimeoutError\u001b[0m \u001b[0;32mas\u001b[0m \u001b[0me\u001b[0m\u001b[0;34m:\u001b[0m\u001b[0;34m\u001b[0m\u001b[0;34m\u001b[0m\u001b[0m\n\u001b[1;32m    544\u001b[0m             \u001b[0;32mraise\u001b[0m \u001b[0mTimeoutError\u001b[0m \u001b[0;32mfrom\u001b[0m \u001b[0me\u001b[0m\u001b[0;34m\u001b[0m\u001b[0;34m\u001b[0m\u001b[0m\n",
      "\u001b[0;32m/opt/anaconda3/lib/python3.8/concurrent/futures/_base.py\u001b[0m in \u001b[0;36mresult\u001b[0;34m(self, timeout)\u001b[0m\n\u001b[1;32m    432\u001b[0m                 \u001b[0;32mreturn\u001b[0m \u001b[0mself\u001b[0m\u001b[0;34m.\u001b[0m\u001b[0m__get_result\u001b[0m\u001b[0;34m(\u001b[0m\u001b[0;34m)\u001b[0m\u001b[0;34m\u001b[0m\u001b[0;34m\u001b[0m\u001b[0m\n\u001b[1;32m    433\u001b[0m \u001b[0;34m\u001b[0m\u001b[0m\n\u001b[0;32m--> 434\u001b[0;31m             \u001b[0mself\u001b[0m\u001b[0;34m.\u001b[0m\u001b[0m_condition\u001b[0m\u001b[0;34m.\u001b[0m\u001b[0mwait\u001b[0m\u001b[0;34m(\u001b[0m\u001b[0mtimeout\u001b[0m\u001b[0;34m)\u001b[0m\u001b[0;34m\u001b[0m\u001b[0;34m\u001b[0m\u001b[0m\n\u001b[0m\u001b[1;32m    435\u001b[0m \u001b[0;34m\u001b[0m\u001b[0m\n\u001b[1;32m    436\u001b[0m             \u001b[0;32mif\u001b[0m \u001b[0mself\u001b[0m\u001b[0;34m.\u001b[0m\u001b[0m_state\u001b[0m \u001b[0;32min\u001b[0m \u001b[0;34m[\u001b[0m\u001b[0mCANCELLED\u001b[0m\u001b[0;34m,\u001b[0m \u001b[0mCANCELLED_AND_NOTIFIED\u001b[0m\u001b[0;34m]\u001b[0m\u001b[0;34m:\u001b[0m\u001b[0;34m\u001b[0m\u001b[0;34m\u001b[0m\u001b[0m\n",
      "\u001b[0;32m/opt/anaconda3/lib/python3.8/threading.py\u001b[0m in \u001b[0;36mwait\u001b[0;34m(self, timeout)\u001b[0m\n\u001b[1;32m    300\u001b[0m         \u001b[0;32mtry\u001b[0m\u001b[0;34m:\u001b[0m    \u001b[0;31m# restore state no matter what (e.g., KeyboardInterrupt)\u001b[0m\u001b[0;34m\u001b[0m\u001b[0;34m\u001b[0m\u001b[0m\n\u001b[1;32m    301\u001b[0m             \u001b[0;32mif\u001b[0m \u001b[0mtimeout\u001b[0m \u001b[0;32mis\u001b[0m \u001b[0;32mNone\u001b[0m\u001b[0;34m:\u001b[0m\u001b[0;34m\u001b[0m\u001b[0;34m\u001b[0m\u001b[0m\n\u001b[0;32m--> 302\u001b[0;31m                 \u001b[0mwaiter\u001b[0m\u001b[0;34m.\u001b[0m\u001b[0macquire\u001b[0m\u001b[0;34m(\u001b[0m\u001b[0;34m)\u001b[0m\u001b[0;34m\u001b[0m\u001b[0;34m\u001b[0m\u001b[0m\n\u001b[0m\u001b[1;32m    303\u001b[0m                 \u001b[0mgotit\u001b[0m \u001b[0;34m=\u001b[0m \u001b[0;32mTrue\u001b[0m\u001b[0;34m\u001b[0m\u001b[0;34m\u001b[0m\u001b[0m\n\u001b[1;32m    304\u001b[0m             \u001b[0;32melse\u001b[0m\u001b[0;34m:\u001b[0m\u001b[0;34m\u001b[0m\u001b[0;34m\u001b[0m\u001b[0m\n",
      "\u001b[0;31mKeyboardInterrupt\u001b[0m: "
     ]
    }
   ],
   "source": [
    "# Paramter Optimization with Gridsearchcv\n",
    "def algorithm_pipeline(X_train_data, X_test_data, y_train_data, y_test_data, \n",
    "                       model, param_grid, cv=3, scoring_fit='neg_mean_squared_error',\n",
    "                       do_probabilities = False):\n",
    "    gs = GridSearchCV(\n",
    "        estimator=model,\n",
    "        param_grid=param_grid, \n",
    "        cv=cv, \n",
    "        n_jobs=-1, \n",
    "        scoring=scoring_fit,\n",
    "        verbose=1\n",
    "    )\n",
    "    fitted_model = gs.fit(X_train_data, y_train_data)\n",
    "    \n",
    "    if do_probabilities:\n",
    "        pred = fitted_model.predict_proba(X_test_data)\n",
    "    else:\n",
    "        pred = fitted_model.predict(X_test_data)\n",
    "    \n",
    "    return fitted_model, pred\n",
    "\n",
    "\n",
    "model = xgb.XGBRegressor()\n",
    "param_grid = {\n",
    "    'n_estimators': [10, 50],\n",
    "    'colsample_bytree': [0.3, 0.8],\n",
    "    'max_depth': [5,10,20],\n",
    "    'reg_alpha': [0.1, 1, 10],\n",
    "#    'reg_lambda': [1.1, 1.2, 1.3],\n",
    "    'learning_rate' : [0.1,0.3]\n",
    "}\n",
    "\n",
    "model, pred = algorithm_pipeline(X_train, X_test, y_train, y_test, model, \n",
    "                                 param_grid, cv=5)\n",
    "\n",
    "# Root Mean Squared Error\n",
    "print(np.sqrt(-model.best_score_))\n",
    "print(model.best_params_)"
   ]
  },
  {
   "cell_type": "code",
   "execution_count": 115,
   "id": "6a180ca0",
   "metadata": {},
   "outputs": [
    {
     "name": "stdout",
     "output_type": "stream",
     "text": [
      "Model RMSE is:  41.404632854318145\n",
      "Model R2 Score is:  0.05301137211503881\n"
     ]
    }
   ],
   "source": [
    "data_dmatrix = xgb.DMatrix(data=X,label=y)\n",
    "xg_reg = xgb.XGBRegressor(objective ='reg:squarederror', colsample_bytree = 0.3, learning_rate = 0.1,\n",
    "                max_depth = 5, alpha = 10, n_estimators = 10)\n",
    "xg_reg.fit(X_test,y_test)\n",
    "\n",
    "y_pred_xgb = xg_reg.predict(X_test)\n",
    "\n",
    "print('Model RMSE is: ',np.sqrt(mean_squared_error(y_test, y_pred_xgb)))\n",
    "print('Model R2 Score is: ',r2_score(y_test,y_pred_xgb))"
   ]
  },
  {
   "cell_type": "code",
   "execution_count": 117,
   "id": "d3898edd",
   "metadata": {},
   "outputs": [
    {
     "data": {
      "image/png": "[encoded data removed]",
      "text/plain": [
       "<Figure size 3600x3600 with 1 Axes>"
      ]
     },
     "metadata": {
      "needs_background": "light"
     },
     "output_type": "display_data"
    }
   ],
   "source": [
    "#Examine the importance of each feature column in the original data set with the model\n",
    "xgb.plot_importance(xg_reg)\n",
    "plt.rcParams['figure.figsize'] = [10, 10]\n",
    "plt.show()"
   ]
  },
  {
   "cell_type": "code",
   "execution_count": null,
   "id": "3f374acd",
   "metadata": {},
   "outputs": [],
   "source": [
    "params = {'objective':'reg:squarederror', 'colsample_bytree' : 0.3, 'learning_rate' : 0.1,\n",
    "                'max_depth' : 5, 'alpha' : 10}\n",
    "cv_results = xgb.cv(dtrain=data_dmatrix, params=params, nfold=3,\n",
    "                    num_boost_round=50,early_stopping_rounds=10,metrics=\"mae\", as_pandas=True, seed=123)\n",
    "\n",
    "print('XGBoost Model Cross-validation MAE is: ',(cv_results[\"test-mae-mean\"]).tail(1))"
   ]
  },
  {
   "cell_type": "code",
   "execution_count": null,
   "id": "2fa68963",
   "metadata": {},
   "outputs": [],
   "source": [
    "from sklearn.model_selection import StratifiedKFold\n",
    "from sklearn.model_selection import cross_val_score\n",
    "# CV model\n",
    "model = xg_reg\n",
    "kfold = StratifiedKFold(n_splits=10)\n",
    "results = cross_val_score(model, X_test, y_test, cv=kfold)\n",
    "print(\"Accuracy: %.2f%% (%.2f%%)\" % (results.mean()*100, results.std()*100))"
   ]
  },
  {
   "cell_type": "markdown",
   "id": "c1930f2d",
   "metadata": {},
   "source": [
    "##### Linear Regression"
   ]
  },
  {
   "cell_type": "code",
   "execution_count": 151,
   "id": "0dad6a68",
   "metadata": {},
   "outputs": [
    {
     "name": "stdout",
     "output_type": "stream",
     "text": [
      "Model RMSE is:  41.04430751169987\n",
      "Model R2 Score is:  0.09010982648453558\n"
     ]
    }
   ],
   "source": [
    "from sklearn.preprocessing import StandardScaler\n",
    "scaler = StandardScaler()\n",
    "X=scaler.fit_transform(X)\n",
    "\n",
    "# Split dataset into training set and test set\n",
    "X_train, X_test, y_train, y_test = train_test_split(X, y, test_size=0.3) # 70% training and 30% test\n",
    "\n",
    "# creating linear regression\n",
    "lr = LinearRegression()\n",
    "lr.fit(X_train,y_train)\n",
    "y_lr = lr.predict(X_test)\n",
    "\n",
    "print('Model RMSE is: ',np.sqrt(mean_squared_error(y_test, y_lr)))\n",
    "print('Model R2 Score is: ',r2_score(y_test,y_lr))"
   ]
  },
  {
   "cell_type": "code",
   "execution_count": 152,
   "id": "c783a4e5",
   "metadata": {},
   "outputs": [
    {
     "name": "stdout",
     "output_type": "stream",
     "text": [
      "Linear Model Cross-validation MAE is:  22.952193890281674\n"
     ]
    }
   ],
   "source": [
    "from numpy import mean\n",
    "from numpy import absolute\n",
    "\n",
    "#define cross-validation method to use\n",
    "cv = KFold(n_splits=10, random_state=1, shuffle=True)\n",
    "\n",
    "#build multiple linear regression model\n",
    "model = lr\n",
    "\n",
    "#use k-fold CV to evaluate model\n",
    "scores = cross_val_score(model, X_test, y_test, scoring='neg_mean_absolute_error',\n",
    "                         cv=cv, n_jobs=-1)\n",
    "\n",
    "#view mean absolute error\n",
    "print('Linear Model Cross-validation MAE is: ',mean(absolute(scores)))"
   ]
  },
  {
   "cell_type": "markdown",
   "id": "a8c6c43d",
   "metadata": {},
   "source": [
    "##### Ridge/Lasso Regression"
   ]
  },
  {
   "cell_type": "code",
   "execution_count": 153,
   "id": "a9b0e9f0",
   "metadata": {},
   "outputs": [
    {
     "name": "stdout",
     "output_type": "stream",
     "text": [
      "Model RMSE is:  41.04431207827157\n",
      "Model R2 Score is:  0.0901096240165592\n",
      "Model RMSE is:  41.15480814567792\n",
      "Model R2 Score is:  0.08520396791066198\n"
     ]
    }
   ],
   "source": [
    "ridgereg = Ridge(alpha=0.001,normalize=True)\n",
    "ridge = ridgereg.fit(X_train,y_train)\n",
    "y_pred_ridge = ridge.predict(X_test)\n",
    "print('Model RMSE is: ',np.sqrt(mean_squared_error(y_test, y_pred_ridge)))\n",
    "print('Model R2 Score is: ',r2_score(y_test,y_pred_ridge))\n",
    "\n",
    "lassoreg = Lasso(alpha=0.001,normalize=True)\n",
    "lasso = lassoreg.fit(X_train,y_train)\n",
    "y_pred_lasso = lasso.predict(X_test)\n",
    "print('Model RMSE is: ',np.sqrt(mean_squared_error(y_test, y_pred_lasso)))\n",
    "print('Model R2 Score is: ',r2_score(y_test,y_pred_lasso))"
   ]
  },
  {
   "cell_type": "code",
   "execution_count": 154,
   "id": "bff70e0f",
   "metadata": {},
   "outputs": [
    {
     "name": "stdout",
     "output_type": "stream",
     "text": [
      "Model RMSE is:  41.04431207827157\n",
      "Model R2 Score is:  0.0901096240165592\n",
      "Model RMSE is:  41.15480814567792\n",
      "Model R2 Score is:  0.08520396791066198\n"
     ]
    }
   ],
   "source": [
    "ridgereg = Ridge(alpha=0.001,normalize=True)\n",
    "ridge = ridgereg.fit(X_train,y_train)\n",
    "y_pred_ridge = ridge.predict(X_test)\n",
    "print('Model RMSE is: ',np.sqrt(mean_squared_error(y_test, y_pred_ridge)))\n",
    "print('Model R2 Score is: ',r2_score(y_test,y_pred_ridge))\n",
    "\n",
    "lassoreg = Lasso(alpha=0.001,normalize=True)\n",
    "lasso = lassoreg.fit(X_train,y_train)\n",
    "y_pred_lasso = lasso.predict(X_test)\n",
    "print('Model RMSE is: ',np.sqrt(mean_squared_error(y_test, y_pred_lasso)))\n",
    "print('Model R2 Score is: ',r2_score(y_test,y_pred_lasso))"
   ]
  },
  {
   "cell_type": "code",
   "execution_count": null,
   "id": "2ce03f41",
   "metadata": {},
   "outputs": [],
   "source": []
  }
 ],
 "metadata": {
  "kernelspec": {
   "display_name": "LighthouseLabs",
   "language": "python",
   "name": "lighthouselabs"
  }
 },
 "nbformat": 4,
 "nbformat_minor": 5
}
