{
 "cells": [
  {
   "cell_type": "markdown",
   "id": "340d7aff",
   "metadata": {},
   "source": [
    "# Optimizing Model - Creating Average Departure and Arrival Delays"
   ]
  },
  {
   "cell_type": "code",
   "execution_count": null,
   "id": "77884bd2",
   "metadata": {},
   "outputs": [],
   "source": [
    "## Model Iteration 2\n",
    "## Feature Eng: Average departure and arrival delays by flight number (route)  \n",
    "## Purpose: To measure uplift of adding the average departure and arrival delays by route\n",
    "## Results : \n",
    "##      LightGBM Model RMSE is:  42.00756954088724 (1.14% change)\n",
    "##      LightGBM Model R2 Score is:  0.06256947947856017 (-5.59% change)\n",
    "##      LightGBM Model Cross-validation MAE is: 23.33587061291061 (0.38% change)\n",
    "##      XGBoostModel RMSE is:  42.17275006580812 (-0.99% change)\n",
    "##      XGBoost Model R2 Score is:  0.055182729642471395 (206.14% change)\n",
    "##      XGBoost Model Cross-validation MAE is: 22.429796 (-0.78% change)"
   ]
  },
  {
   "cell_type": "code",
   "execution_count": 94,
   "id": "f433a726",
   "metadata": {},
   "outputs": [],
   "source": [
    "import pandas as pd\n",
    "import numpy as np\n",
    "import psycopg2\n",
    "import matplotlib.pyplot as plt\n",
    "import seaborn as sns\n",
    "%matplotlib inline\n",
    "import datetime\n",
    "from scipy import stats\n",
    "from sklearn.model_selection import train_test_split"
   ]
  },
  {
   "cell_type": "code",
   "execution_count": 95,
   "id": "11e028b3",
   "metadata": {},
   "outputs": [],
   "source": [
    "data_flight_info = pd.read_csv('/Users/craiglynch/Desktop/Lighthouse_Labs/Mid-term_Project/mid-term-project-I-master/Regression_no_outliers_cleaned_data_03.csv', sep = ',')"
   ]
  },
  {
   "cell_type": "code",
   "execution_count": 96,
   "id": "b51936e4",
   "metadata": {},
   "outputs": [],
   "source": [
    "df_flight_info = data_flight_info.copy()"
   ]
  },
  {
   "cell_type": "code",
   "execution_count": 97,
   "id": "958912c9",
   "metadata": {},
   "outputs": [
    {
     "data": {
      "text/html": [
       "<div>\n",
       "<style scoped>\n",
       "    .dataframe tbody tr th:only-of-type {\n",
       "        vertical-align: middle;\n",
       "    }\n",
       "\n",
       "    .dataframe tbody tr th {\n",
       "        vertical-align: top;\n",
       "    }\n",
       "\n",
       "    .dataframe thead th {\n",
       "        text-align: right;\n",
       "    }\n",
       "</style>\n",
       "<table border=\"1\" class=\"dataframe\">\n",
       "  <thead>\n",
       "    <tr style=\"text-align: right;\">\n",
       "      <th></th>\n",
       "      <th>fl_date</th>\n",
       "      <th>mkt_unique_carrier</th>\n",
       "      <th>op_unique_carrier</th>\n",
       "      <th>op_carrier_fl_num</th>\n",
       "      <th>origin</th>\n",
       "      <th>crs_dep_time</th>\n",
       "      <th>dep_time</th>\n",
       "      <th>dep_delay</th>\n",
       "      <th>dest</th>\n",
       "      <th>arr_time</th>\n",
       "      <th>...</th>\n",
       "      <th>distance</th>\n",
       "      <th>carrier_delay</th>\n",
       "      <th>weather_delay</th>\n",
       "      <th>nas_delay</th>\n",
       "      <th>security_delay</th>\n",
       "      <th>late_aircraft_delay</th>\n",
       "      <th>year</th>\n",
       "      <th>month</th>\n",
       "      <th>day</th>\n",
       "      <th>weekday</th>\n",
       "    </tr>\n",
       "  </thead>\n",
       "  <tbody>\n",
       "    <tr>\n",
       "      <th>979643</th>\n",
       "      <td>2018-12-13</td>\n",
       "      <td>AA</td>\n",
       "      <td>YV</td>\n",
       "      <td>5753</td>\n",
       "      <td>DFW</td>\n",
       "      <td>1332</td>\n",
       "      <td>1331.0</td>\n",
       "      <td>-1.0</td>\n",
       "      <td>HSV</td>\n",
       "      <td>1517.0</td>\n",
       "      <td>...</td>\n",
       "      <td>603.0</td>\n",
       "      <td>0.0</td>\n",
       "      <td>0.0</td>\n",
       "      <td>0.0</td>\n",
       "      <td>0.0</td>\n",
       "      <td>0.0</td>\n",
       "      <td>2018</td>\n",
       "      <td>12</td>\n",
       "      <td>13</td>\n",
       "      <td>0.0</td>\n",
       "    </tr>\n",
       "    <tr>\n",
       "      <th>979644</th>\n",
       "      <td>2018-01-08</td>\n",
       "      <td>UA</td>\n",
       "      <td>UA</td>\n",
       "      <td>1968</td>\n",
       "      <td>PHL</td>\n",
       "      <td>1451</td>\n",
       "      <td>1447.0</td>\n",
       "      <td>-4.0</td>\n",
       "      <td>DEN</td>\n",
       "      <td>1713.0</td>\n",
       "      <td>...</td>\n",
       "      <td>1558.0</td>\n",
       "      <td>0.0</td>\n",
       "      <td>0.0</td>\n",
       "      <td>0.0</td>\n",
       "      <td>0.0</td>\n",
       "      <td>0.0</td>\n",
       "      <td>2018</td>\n",
       "      <td>1</td>\n",
       "      <td>8</td>\n",
       "      <td>0.0</td>\n",
       "    </tr>\n",
       "    <tr>\n",
       "      <th>979645</th>\n",
       "      <td>2018-04-01</td>\n",
       "      <td>UA</td>\n",
       "      <td>UA</td>\n",
       "      <td>1782</td>\n",
       "      <td>BOI</td>\n",
       "      <td>647</td>\n",
       "      <td>644.0</td>\n",
       "      <td>-3.0</td>\n",
       "      <td>DEN</td>\n",
       "      <td>831.0</td>\n",
       "      <td>...</td>\n",
       "      <td>649.0</td>\n",
       "      <td>0.0</td>\n",
       "      <td>0.0</td>\n",
       "      <td>0.0</td>\n",
       "      <td>0.0</td>\n",
       "      <td>0.0</td>\n",
       "      <td>2018</td>\n",
       "      <td>4</td>\n",
       "      <td>1</td>\n",
       "      <td>1.0</td>\n",
       "    </tr>\n",
       "    <tr>\n",
       "      <th>979646</th>\n",
       "      <td>2018-10-07</td>\n",
       "      <td>DL</td>\n",
       "      <td>9E</td>\n",
       "      <td>5070</td>\n",
       "      <td>JFK</td>\n",
       "      <td>1655</td>\n",
       "      <td>1700.0</td>\n",
       "      <td>5.0</td>\n",
       "      <td>SYR</td>\n",
       "      <td>1827.0</td>\n",
       "      <td>...</td>\n",
       "      <td>209.0</td>\n",
       "      <td>0.0</td>\n",
       "      <td>0.0</td>\n",
       "      <td>0.0</td>\n",
       "      <td>0.0</td>\n",
       "      <td>0.0</td>\n",
       "      <td>2018</td>\n",
       "      <td>10</td>\n",
       "      <td>7</td>\n",
       "      <td>1.0</td>\n",
       "    </tr>\n",
       "    <tr>\n",
       "      <th>979647</th>\n",
       "      <td>2019-03-28</td>\n",
       "      <td>NK</td>\n",
       "      <td>NK</td>\n",
       "      <td>419</td>\n",
       "      <td>CLE</td>\n",
       "      <td>1204</td>\n",
       "      <td>1157.0</td>\n",
       "      <td>-7.0</td>\n",
       "      <td>FLL</td>\n",
       "      <td>1425.0</td>\n",
       "      <td>...</td>\n",
       "      <td>1062.0</td>\n",
       "      <td>0.0</td>\n",
       "      <td>0.0</td>\n",
       "      <td>0.0</td>\n",
       "      <td>0.0</td>\n",
       "      <td>0.0</td>\n",
       "      <td>2019</td>\n",
       "      <td>3</td>\n",
       "      <td>28</td>\n",
       "      <td>0.0</td>\n",
       "    </tr>\n",
       "  </tbody>\n",
       "</table>\n",
       "<p>5 rows × 24 columns</p>\n",
       "</div>"
      ],
      "text/plain": [
       "           fl_date mkt_unique_carrier op_unique_carrier  op_carrier_fl_num  \\\n",
       "979643  2018-12-13                 AA                YV               5753   \n",
       "979644  2018-01-08                 UA                UA               1968   \n",
       "979645  2018-04-01                 UA                UA               1782   \n",
       "979646  2018-10-07                 DL                9E               5070   \n",
       "979647  2019-03-28                 NK                NK                419   \n",
       "\n",
       "       origin  crs_dep_time  dep_time  dep_delay dest  arr_time  ...  \\\n",
       "979643    DFW          1332    1331.0       -1.0  HSV    1517.0  ...   \n",
       "979644    PHL          1451    1447.0       -4.0  DEN    1713.0  ...   \n",
       "979645    BOI           647     644.0       -3.0  DEN     831.0  ...   \n",
       "979646    JFK          1655    1700.0        5.0  SYR    1827.0  ...   \n",
       "979647    CLE          1204    1157.0       -7.0  FLL    1425.0  ...   \n",
       "\n",
       "        distance  carrier_delay  weather_delay  nas_delay  security_delay  \\\n",
       "979643     603.0            0.0            0.0        0.0             0.0   \n",
       "979644    1558.0            0.0            0.0        0.0             0.0   \n",
       "979645     649.0            0.0            0.0        0.0             0.0   \n",
       "979646     209.0            0.0            0.0        0.0             0.0   \n",
       "979647    1062.0            0.0            0.0        0.0             0.0   \n",
       "\n",
       "        late_aircraft_delay  year  month  day  weekday  \n",
       "979643                  0.0  2018     12   13      0.0  \n",
       "979644                  0.0  2018      1    8      0.0  \n",
       "979645                  0.0  2018      4    1      1.0  \n",
       "979646                  0.0  2018     10    7      1.0  \n",
       "979647                  0.0  2019      3   28      0.0  \n",
       "\n",
       "[5 rows x 24 columns]"
      ]
     },
     "execution_count": 97,
     "metadata": {},
     "output_type": "execute_result"
    }
   ],
   "source": [
    "df_flight_info.tail()"
   ]
  },
  {
   "cell_type": "code",
   "execution_count": 98,
   "id": "a0bf0237",
   "metadata": {},
   "outputs": [
    {
     "data": {
      "text/plain": [
       "ATL    48923\n",
       "ORD    48428\n",
       "DFW    35688\n",
       "DEN    33907\n",
       "LAX    30969\n",
       "CLT    30851\n",
       "SEA    23313\n",
       "PHX    22252\n",
       "SFO    22183\n",
       "IAH    22017\n",
       "DTW    21795\n",
       "LAS    20661\n",
       "LGA    20597\n",
       "MSP    19965\n",
       "EWR    19453\n",
       "BOS    18365\n",
       "MCO    17474\n",
       "DCA    17438\n",
       "Name: origin, dtype: int64"
      ]
     },
     "execution_count": 98,
     "metadata": {},
     "output_type": "execute_result"
    }
   ],
   "source": [
    "#Only want top 19 busiest airports\n",
    "airports = ['ORD','ATL','DFW','DEN','LAX','CLT','SEA','SFO','EWR','LGA','PHX','IAH','LAS','BOS','MCO','DTW','PHIL','DCA','MSP']\n",
    "df_flight_info = df_flight_info[df_flight_info['origin'].isin(airports)]\n",
    "df_flight_info.origin.value_counts()"
   ]
  },
  {
   "cell_type": "code",
   "execution_count": 99,
   "id": "0b60780f",
   "metadata": {},
   "outputs": [],
   "source": [
    "## Grouping Delays\n",
    "\n",
    "# Finding average route times\n",
    "df_flight_info['flight_number'] = df_flight_info['op_unique_carrier'] + df_flight_info['op_carrier_fl_num'].astype(str)\n",
    "route_time_grouped = df_flight_info.groupby(by='flight_number').mean()\n",
    "route_time_grouped.reset_index(inplace=True)\n",
    "route_time_grouped['average_route_time'] = route_time_grouped['actual_elapsed_time']\n",
    "route_time_grouped = route_time_grouped[['flight_number','average_route_time']]"
   ]
  },
  {
   "cell_type": "code",
   "execution_count": 100,
   "id": "8c94a5c0",
   "metadata": {},
   "outputs": [],
   "source": [
    "# Getting Average Carrier Delay - Grouped by Carrier\n",
    "carrier_grouped = df_flight_info.groupby(by='op_unique_carrier').mean()\n",
    "carrier_grouped.reset_index(inplace=True)\n",
    "carrier_grouped['total_carrier_delay'] = carrier_grouped['carrier_delay'] + carrier_grouped['late_aircraft_delay']\n",
    "carrier_grouped = carrier_grouped[['op_unique_carrier', 'total_carrier_delay']]"
   ]
  },
  {
   "cell_type": "code",
   "execution_count": 101,
   "id": "d871d212",
   "metadata": {},
   "outputs": [],
   "source": [
    "# Getting Average NAS Delay - Grouped by Flight Number\n",
    "nas_grouped = df_flight_info.groupby(by='flight_number').mean()\n",
    "nas_grouped.reset_index(inplace=True)\n",
    "nas_grouped['total_nas_delay'] = nas_grouped['nas_delay']\n",
    "nas_grouped = nas_grouped[['flight_number', 'total_nas_delay']]\n",
    "\n",
    "\n",
    "# Getting Average Security Delay\n",
    "security_grouped = df_flight_info.groupby(by='origin').mean()\n",
    "security_grouped.reset_index(inplace=True)\n",
    "security_grouped['total_security_delay'] = security_grouped['security_delay']\n",
    "security_grouped = security_grouped[['origin','total_security_delay']]\n",
    "\n",
    "# Getting Average Departure Delays by Route\n",
    "dep_delay_grouped = df_flight_info.groupby(by='flight_number').mean()\n",
    "dep_delay_grouped.reset_index(inplace=True)\n",
    "dep_delay_grouped['total_dep_delay'] = dep_delay_grouped['dep_delay']\n",
    "dep_delay_grouped = dep_delay_grouped[['flight_number','total_dep_delay']]\n",
    "\n",
    "# Getting Average Arrival Delays by Route\n",
    "arr_delay_grouped = df_flight_info.groupby(by='flight_number').mean()\n",
    "arr_delay_grouped.reset_index(inplace=True)\n",
    "arr_delay_grouped['total_arr_delay'] = arr_delay_grouped['arr_delay']\n",
    "arr_delay_grouped = arr_delay_grouped[['flight_number','total_arr_delay']]\n",
    "\n",
    "#Merge averages dataframes with original \n",
    "df_flight_info = df_flight_info.merge(security_grouped, on = 'origin', how = 'outer')\n",
    "df_flight_info = df_flight_info.merge(nas_grouped, on = 'flight_number', how = 'outer')\n",
    "df_flight_info = df_flight_info.merge(route_time_grouped, on = 'flight_number', how = 'outer')\n",
    "df_flight_info = df_flight_info.merge(dep_delay_grouped, on = 'flight_number', how = 'outer')\n",
    "df_flight_info = df_flight_info.merge(arr_delay_grouped, on = 'flight_number', how = 'outer')\n",
    "df_flight_info = df_flight_info.merge(carrier_grouped, on = 'op_unique_carrier', how = 'outer')"
   ]
  },
  {
   "cell_type": "markdown",
   "id": "0bf91388",
   "metadata": {},
   "source": [
    "## Model Training"
   ]
  },
  {
   "cell_type": "code",
   "execution_count": 102,
   "id": "704e029b",
   "metadata": {},
   "outputs": [],
   "source": [
    "from sklearn.ensemble import RandomForestRegressor\n",
    "from sklearn.metrics import roc_auc_score\n",
    "from sklearn.metrics import confusion_matrix\n",
    "from sklearn.metrics import mean_squared_error\n",
    "from sklearn.linear_model import LinearRegression\n",
    "from sklearn.preprocessing import StandardScaler\n",
    "from sklearn.naive_bayes import GaussianNB\n",
    "from sklearn.metrics import accuracy_score, recall_score, precision_score, r2_score, f1_score\n",
    "import xgboost as xgb\n",
    "from sklearn.linear_model import LogisticRegression\n",
    "from sklearn.dummy import DummyRegressor\n",
    "from sklearn.cluster import KMeans\n",
    "from sklearn.model_selection import GridSearchCV\n",
    "from sklearn.preprocessing import OneHotEncoder, LabelEncoder\n",
    "from sklearn.linear_model import Ridge, LinearRegression, Lasso\n",
    "from sklearn.preprocessing import PolynomialFeatures\n",
    "from sklearn.utils import shuffle\n",
    "from sklearn.model_selection import KFold\n",
    "from sklearn.model_selection import cross_val_score"
   ]
  },
  {
   "cell_type": "code",
   "execution_count": 103,
   "id": "3fda2d76",
   "metadata": {},
   "outputs": [],
   "source": [
    "df_flight_info[\"flight_number\"] = df_flight_info[\"flight_number\"].astype('category').cat.codes"
   ]
  },
  {
   "cell_type": "code",
   "execution_count": 104,
   "id": "61dabe6b",
   "metadata": {},
   "outputs": [
    {
     "data": {
      "text/html": [
       "<div>\n",
       "<style scoped>\n",
       "    .dataframe tbody tr th:only-of-type {\n",
       "        vertical-align: middle;\n",
       "    }\n",
       "\n",
       "    .dataframe tbody tr th {\n",
       "        vertical-align: top;\n",
       "    }\n",
       "\n",
       "    .dataframe thead th {\n",
       "        text-align: right;\n",
       "    }\n",
       "</style>\n",
       "<table border=\"1\" class=\"dataframe\">\n",
       "  <thead>\n",
       "    <tr style=\"text-align: right;\">\n",
       "      <th></th>\n",
       "      <th>fl_date</th>\n",
       "      <th>mkt_unique_carrier</th>\n",
       "      <th>op_unique_carrier</th>\n",
       "      <th>op_carrier_fl_num</th>\n",
       "      <th>origin</th>\n",
       "      <th>crs_dep_time</th>\n",
       "      <th>dep_time</th>\n",
       "      <th>dep_delay</th>\n",
       "      <th>dest</th>\n",
       "      <th>arr_time</th>\n",
       "      <th>...</th>\n",
       "      <th>month</th>\n",
       "      <th>day</th>\n",
       "      <th>weekday</th>\n",
       "      <th>flight_number</th>\n",
       "      <th>total_security_delay</th>\n",
       "      <th>total_nas_delay</th>\n",
       "      <th>average_route_time</th>\n",
       "      <th>total_dep_delay</th>\n",
       "      <th>total_arr_delay</th>\n",
       "      <th>total_carrier_delay</th>\n",
       "    </tr>\n",
       "  </thead>\n",
       "  <tbody>\n",
       "    <tr>\n",
       "      <th>0</th>\n",
       "      <td>2018-07-19</td>\n",
       "      <td>AA</td>\n",
       "      <td>AA</td>\n",
       "      <td>1046</td>\n",
       "      <td>LAX</td>\n",
       "      <td>1120</td>\n",
       "      <td>1129.0</td>\n",
       "      <td>9.0</td>\n",
       "      <td>MSY</td>\n",
       "      <td>1721.0</td>\n",
       "      <td>...</td>\n",
       "      <td>7</td>\n",
       "      <td>19</td>\n",
       "      <td>0.0</td>\n",
       "      <td>1208</td>\n",
       "      <td>0.008073</td>\n",
       "      <td>5.925926</td>\n",
       "      <td>133.925926</td>\n",
       "      <td>11.259259</td>\n",
       "      <td>7.111111</td>\n",
       "      <td>9.526884</td>\n",
       "    </tr>\n",
       "  </tbody>\n",
       "</table>\n",
       "<p>1 rows × 31 columns</p>\n",
       "</div>"
      ],
      "text/plain": [
       "      fl_date mkt_unique_carrier op_unique_carrier  op_carrier_fl_num origin  \\\n",
       "0  2018-07-19                 AA                AA               1046    LAX   \n",
       "\n",
       "   crs_dep_time  dep_time  dep_delay dest  arr_time  ...  month  day  weekday  \\\n",
       "0          1120    1129.0        9.0  MSY    1721.0  ...      7   19      0.0   \n",
       "\n",
       "   flight_number  total_security_delay  total_nas_delay  average_route_time  \\\n",
       "0           1208              0.008073         5.925926          133.925926   \n",
       "\n",
       "   total_dep_delay  total_arr_delay  total_carrier_delay  \n",
       "0        11.259259         7.111111             9.526884  \n",
       "\n",
       "[1 rows x 31 columns]"
      ]
     },
     "execution_count": 104,
     "metadata": {},
     "output_type": "execute_result"
    }
   ],
   "source": [
    "df_flight_info.head(1)"
   ]
  },
  {
   "cell_type": "code",
   "execution_count": 105,
   "id": "eb8a63f2",
   "metadata": {},
   "outputs": [],
   "source": [
    "df_flight_info = shuffle(df_flight_info)\n",
    "X = df_flight_info[['crs_dep_time','flight_number','crs_elapsed_time','average_route_time','crs_arr_time','distance','total_carrier_delay', 'total_security_delay','total_nas_delay','total_dep_delay','total_arr_delay']]\n",
    "y = df_flight_info['arr_delay']"
   ]
  },
  {
   "cell_type": "code",
   "execution_count": 106,
   "id": "c0b31094",
   "metadata": {},
   "outputs": [],
   "source": [
    "# Split dataset into training set and test set\n",
    "X_train, X_test, y_train, y_test = train_test_split(X, y, test_size=0.3) # 70% training and 30% test"
   ]
  },
  {
   "cell_type": "markdown",
   "id": "134e488f",
   "metadata": {},
   "source": [
    "##### LightGBM"
   ]
  },
  {
   "cell_type": "code",
   "execution_count": 107,
   "id": "537eb4ce",
   "metadata": {},
   "outputs": [
    {
     "name": "stdout",
     "output_type": "stream",
     "text": [
      "[LightGBM] [Warning] Auto-choosing row-wise multi-threading, the overhead of testing was 0.003313 seconds.\n",
      "You can set `force_row_wise=true` to remove the overhead.\n",
      "And if memory is not enough, you can set `force_col_wise=true`.\n",
      "[LightGBM] [Info] Total Bins 2336\n",
      "[LightGBM] [Info] Number of data points in the train set: 331995, number of used features: 11\n",
      "[LightGBM] [Info] Start training from score 5.729177\n",
      "Model RMSE is:  41.72262428937797\n",
      "Model R2 Score is:  0.061861816798388425\n"
     ]
    }
   ],
   "source": [
    "import lightgbm as lgb\n",
    "d_train = lgb.Dataset(X_train, label=y_train)\n",
    "params = {}\n",
    "params['learning_rate'] = 0.08\n",
    "params['boosting_type'] = 'gbdt'\n",
    "#params['boosting_type'] = 'dart'\n",
    "params['objective'] = 'regression'\n",
    "params['metric'] = 'mse'\n",
    "params['sub_feature'] = 0.5\n",
    "params['num_leaves'] = 100\n",
    "params['min_data'] = 5\n",
    "params['max_depth'] = 100\n",
    "y_train=y_train.ravel()\n",
    "reg= lgb.train(params, d_train, 100)\n",
    "results=reg.predict(X_test)\n",
    "print('Model RMSE is: ',np.sqrt(mean_squared_error(y_test, results)))\n",
    "print('Model R2 Score is: ',r2_score(y_test,results))"
   ]
  },
  {
   "cell_type": "code",
   "execution_count": 108,
   "id": "7b5e1ca5",
   "metadata": {},
   "outputs": [
    {
     "data": {
      "image/png": "[encoded data removed]",
      "text/plain": [
       "<Figure size 432x288 with 1 Axes>"
      ]
     },
     "metadata": {
      "needs_background": "light"
     },
     "output_type": "display_data"
    }
   ],
   "source": [
    "#Examine the importance of each feature column in the original data set with the model\n",
    "lgb.plot_importance(reg)\n",
    "plt.rcParams['figure.figsize'] = [10, 10]\n",
    "plt.show()"
   ]
  },
  {
   "cell_type": "code",
   "execution_count": 109,
   "id": "5b254ae9",
   "metadata": {},
   "outputs": [
    {
     "name": "stdout",
     "output_type": "stream",
     "text": [
      "[LightGBM] [Warning] Auto-choosing row-wise multi-threading, the overhead of testing was 0.002168 seconds.\n",
      "You can set `force_row_wise=true` to remove the overhead.\n",
      "And if memory is not enough, you can set `force_col_wise=true`.\n",
      "[LightGBM] [Info] Total Bins 2336\n",
      "[LightGBM] [Info] Number of data points in the train set: 221330, number of used features: 11\n",
      "[LightGBM] [Warning] Auto-choosing row-wise multi-threading, the overhead of testing was 0.002175 seconds.\n",
      "You can set `force_row_wise=true` to remove the overhead.\n",
      "And if memory is not enough, you can set `force_col_wise=true`.\n",
      "[LightGBM] [Info] Total Bins 2336\n",
      "[LightGBM] [Info] Number of data points in the train set: 221330, number of used features: 11\n",
      "[LightGBM] [Warning] Auto-choosing row-wise multi-threading, the overhead of testing was 0.002159 seconds.\n",
      "You can set `force_row_wise=true` to remove the overhead.\n",
      "And if memory is not enough, you can set `force_col_wise=true`.\n",
      "[LightGBM] [Info] Total Bins 2336\n",
      "[LightGBM] [Info] Number of data points in the train set: 221330, number of used features: 11\n",
      "[LightGBM] [Info] Start training from score 5.717445\n",
      "[LightGBM] [Info] Start training from score 5.775561\n",
      "[LightGBM] [Info] Start training from score 5.694524\n",
      "Current parameters:\n",
      " {'learning_rate': 0.08, 'boosting_type': 'gbdt', 'objective': 'regression', 'metric': 'mse', 'sub_feature': 0.5, 'num_leaves': 100, 'min_data': 5, 'max_depth': 100}\n",
      "\n",
      "Best num_boost_round: 22\n",
      "LightGBM Model Cross-validation MAE is: 23.35712996919142\n"
     ]
    }
   ],
   "source": [
    "# Cross-validate\n",
    "cv_results = lgb.cv(\n",
    "        params,\n",
    "        d_train,\n",
    "        num_boost_round=100,\n",
    "        nfold=3,\n",
    "        metrics='mae',\n",
    "        early_stopping_rounds=10,\n",
    "\n",
    "        stratified=False\n",
    "        )\n",
    "# Display results\n",
    "print('Current parameters:\\n', params)\n",
    "print('\\nBest num_boost_round:', len(cv_results['l1-mean']))\n",
    "print('LightGBM Model Cross-validation MAE is:', cv_results['l1-mean'][-1])"
   ]
  },
  {
   "cell_type": "markdown",
   "id": "283b9aff",
   "metadata": {},
   "source": [
    "##### XGBoost"
   ]
  },
  {
   "cell_type": "code",
   "execution_count": 110,
   "id": "259afee4",
   "metadata": {},
   "outputs": [
    {
     "name": "stdout",
     "output_type": "stream",
     "text": [
      "Model RMSE is:  41.79940941685084\n",
      "Model R2 Score is:  0.05840559385714117\n"
     ]
    }
   ],
   "source": [
    "data_dmatrix = xgb.DMatrix(data=X,label=y)\n",
    "xg_reg = xgb.XGBRegressor(objective ='reg:squarederror', colsample_bytree = 0.3, learning_rate = 0.1,\n",
    "                max_depth = 5, alpha = 10, n_estimators = 10)\n",
    "xg_reg.fit(X_test,y_test)\n",
    "\n",
    "y_pred_xgb = xg_reg.predict(X_test)\n",
    "\n",
    "print('Model RMSE is: ',np.sqrt(mean_squared_error(y_test, y_pred_xgb)))\n",
    "print('Model R2 Score is: ',r2_score(y_test,y_pred_xgb))"
   ]
  },
  {
   "cell_type": "code",
   "execution_count": 111,
   "id": "6fdeff77",
   "metadata": {},
   "outputs": [
    {
     "data": {
      "image/png": "[encoded data removed]",
      "text/plain": [
       "<Figure size 720x720 with 1 Axes>"
      ]
     },
     "metadata": {
      "needs_background": "light"
     },
     "output_type": "display_data"
    }
   ],
   "source": [
    "#Examine the importance of each feature column in the original data set with the model\n",
    "xgb.plot_importance(xg_reg)\n",
    "plt.rcParams['figure.figsize'] = [50, 50]\n",
    "plt.show()"
   ]
  },
  {
   "cell_type": "code",
   "execution_count": 112,
   "id": "fc6b04f1",
   "metadata": {},
   "outputs": [
    {
     "name": "stdout",
     "output_type": "stream",
     "text": [
      "XGBoost Model Cross-validation MAE is:  0    22.42419\n",
      "Name: test-mae-mean, dtype: float64\n"
     ]
    }
   ],
   "source": [
    "params = {'objective':'reg:squarederror', 'colsample_bytree' : 0.3, 'learning_rate' : 0.1,\n",
    "                'max_depth' : 5, 'alpha' : 10}\n",
    "cv_results = xgb.cv(dtrain=data_dmatrix, params=params, nfold=3,\n",
    "                    num_boost_round=50,early_stopping_rounds=10,metrics=\"mae\", as_pandas=True, seed=123)\n",
    "\n",
    "print('XGBoost Model Cross-validation MAE is: ',(cv_results[\"test-mae-mean\"]).tail(1))"
   ]
  },
  {
   "cell_type": "markdown",
   "id": "3374e9f8",
   "metadata": {},
   "source": [
    "##### Linear Regression"
   ]
  },
  {
   "cell_type": "code",
   "execution_count": 113,
   "id": "7fafde17",
   "metadata": {
    "scrolled": true
   },
   "outputs": [
    {
     "name": "stdout",
     "output_type": "stream",
     "text": [
      "Model RMSE is:  41.62813323606388\n",
      "Model R2 Score is:  0.08468982851882045\n"
     ]
    }
   ],
   "source": [
    "from sklearn.preprocessing import StandardScaler\n",
    "scaler = StandardScaler()\n",
    "X=scaler.fit_transform(X)\n",
    "\n",
    "# Split dataset into training set and test set\n",
    "X_train, X_test, y_train, y_test = train_test_split(X, y, test_size=0.3) # 70% training and 30% test\n",
    "\n",
    "# creating linear regression\n",
    "lr = LinearRegression()\n",
    "lr.fit(X_train,y_train)\n",
    "y_lr = lr.predict(X_test)\n",
    "\n",
    "print('Model RMSE is: ',np.sqrt(mean_squared_error(y_test, y_lr)))\n",
    "print('Model R2 Score is: ',r2_score(y_test,y_lr))"
   ]
  },
  {
   "cell_type": "code",
   "execution_count": 114,
   "id": "3e8f2e72",
   "metadata": {},
   "outputs": [
    {
     "name": "stdout",
     "output_type": "stream",
     "text": [
      "Linear Model Cross-validation MAE is:  23.437121834172626\n"
     ]
    }
   ],
   "source": [
    "from numpy import mean\n",
    "from numpy import absolute\n",
    "\n",
    "#define cross-validation method to use\n",
    "cv = KFold(n_splits=10, random_state=1, shuffle=True)\n",
    "\n",
    "#build multiple linear regression model\n",
    "model = lr\n",
    "\n",
    "#use k-fold CV to evaluate model\n",
    "scores = cross_val_score(model, X_test, y_test, scoring='neg_mean_absolute_error',\n",
    "                         cv=cv, n_jobs=-1)\n",
    "\n",
    "#view mean absolute error\n",
    "print('Linear Model Cross-validation MAE is: ',mean(absolute(scores)))"
   ]
  },
  {
   "cell_type": "markdown",
   "id": "e2644962",
   "metadata": {},
   "source": [
    "##### Ridge/Lasso Regression"
   ]
  },
  {
   "cell_type": "code",
   "execution_count": 115,
   "id": "e0d5c465",
   "metadata": {
    "scrolled": true
   },
   "outputs": [
    {
     "name": "stdout",
     "output_type": "stream",
     "text": [
      "Ridge Model RMSE is:  41.628295038277436\n",
      "Ridge Model R2 Score is:  0.08468271316253895\n",
      "Lasso Model RMSE is:  41.64445806517105\n",
      "Lasso Model R2 Score is:  0.08397179430303114\n"
     ]
    }
   ],
   "source": [
    "ridgereg = Ridge(alpha=0.001,normalize=True)\n",
    "ridge = ridgereg.fit(X_train,y_train)\n",
    "y_pred_ridge = ridge.predict(X_test)\n",
    "print('Ridge Model RMSE is: ',np.sqrt(mean_squared_error(y_test, y_pred_ridge)))\n",
    "print('Ridge Model R2 Score is: ',r2_score(y_test,y_pred_ridge))\n",
    "\n",
    "lassoreg = Lasso(alpha=0.001,normalize=True)\n",
    "lasso = lassoreg.fit(X_train,y_train)\n",
    "y_pred_lasso = lasso.predict(X_test)\n",
    "print('Lasso Model RMSE is: ',np.sqrt(mean_squared_error(y_test, y_pred_lasso)))\n",
    "print('Lasso Model R2 Score is: ',r2_score(y_test,y_pred_lasso))"
   ]
  },
  {
   "cell_type": "code",
   "execution_count": 116,
   "id": "3e766865",
   "metadata": {},
   "outputs": [
    {
     "name": "stdout",
     "output_type": "stream",
     "text": [
      "Ridge Model Cross-validation MAE is:  23.43659919818885\n",
      "Lasso Model Cross-validation MAE is:  23.41344664661803\n"
     ]
    }
   ],
   "source": [
    "#define cross-validation method to use\n",
    "cv = KFold(n_splits=10, random_state=1, shuffle=True)\n",
    "\n",
    "#build multiple ridge regression model\n",
    "model = ridgereg\n",
    "\n",
    "#use k-fold CV to evaluate model\n",
    "scores = cross_val_score(model, X_test, y_test, scoring='neg_mean_absolute_error',\n",
    "                         cv=cv, n_jobs=-1)\n",
    "\n",
    "#view mean absolute error\n",
    "print('Ridge Model Cross-validation MAE is: ',mean(absolute(scores)))\n",
    "\n",
    "#build multiple lassp regression model\n",
    "model = lassoreg\n",
    "\n",
    "#use k-fold CV to evaluate model\n",
    "scores = cross_val_score(model, X_test, y_test, scoring='neg_mean_absolute_error',\n",
    "                         cv=cv, n_jobs=-1)\n",
    "\n",
    "#view mean absolute error\n",
    "print('Lasso Model Cross-validation MAE is: ',mean(absolute(scores)))"
   ]
  },
  {
   "cell_type": "code",
   "execution_count": null,
   "id": "4d5f3494",
   "metadata": {},
   "outputs": [],
   "source": []
  }
 ],
 "metadata": {
  "kernelspec": {
   "display_name": "LighthouseLabs",
   "language": "python",
   "name": "lighthouselabs"
  },
  "language_info": {
   "codemirror_mode": {
    "name": "ipython",
    "version": 3
   },
   "file_extension": ".py",
   "mimetype": "text/x-python",
   "name": "python",
   "nbconvert_exporter": "python",
   "pygments_lexer": "ipython3",
   "version": "3.8.2"
  }
 },
 "nbformat": 4,
 "nbformat_minor": 5
}
