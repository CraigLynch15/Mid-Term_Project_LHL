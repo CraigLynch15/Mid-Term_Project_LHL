{
  "nbformat": 4,
  "nbformat_minor": 0,
  "metadata": {
    "interpreter": {
      "hash": "8081f90547afca37de35b9b55ce64e18fb565f570f96ad62d440ae0df9df4a0a"
    },
    "kernelspec": {
      "display_name": "Python 3.8.10 64-bit ('myenv': conda)",
      "name": "python3"
    },
    "language_info": {
      "codemirror_mode": {
        "name": "ipython",
        "version": 3
      },
      "file_extension": ".py",
      "mimetype": "text/x-python",
      "name": "python",
      "nbconvert_exporter": "python",
      "pygments_lexer": "ipython3",
      "version": "3.8.10"
    },
    "orig_nbformat": 4,
    "colab": {
      "name": "Baseline_Model_SID.ipynb",
      "provenance": [],
      "collapsed_sections": []
    }
  },
  "cells": [
    {
      "cell_type": "code",
      "metadata": {
        "id": "XhYRGsQ9UBn1"
      },
      "source": [
        "import pandas as pd"
      ],
      "execution_count": null,
      "outputs": []
    },
    {
      "cell_type": "markdown",
      "metadata": {
        "id": "ndUi2OrfUBn3"
      },
      "source": [
        "## PREPROCESSING BEFORE BASELINE"
      ]
    },
    {
      "cell_type": "code",
      "metadata": {
        "id": "vftbVyLAUBn4"
      },
      "source": [
        "#Read raw csv used to form baseline model \n",
        "flights_data = pd.read_csv('/content/Regression_no_outliers_cleaned_data.csv')"
      ],
      "execution_count": null,
      "outputs": []
    },
    {
      "cell_type": "code",
      "metadata": {
        "colab": {
          "base_uri": "https://localhost:8080/"
        },
        "id": "zrrM08_TUBn5",
        "outputId": "929597a9-5926-4b3f-9084-8978fe1da4b1"
      },
      "source": [
        "flights_data.shape"
      ],
      "execution_count": null,
      "outputs": [
        {
          "output_type": "execute_result",
          "data": {
            "text/plain": [
              "(173391, 24)"
            ]
          },
          "metadata": {
            "tags": []
          },
          "execution_count": 3
        }
      ]
    },
    {
      "cell_type": "code",
      "metadata": {
        "colab": {
          "base_uri": "https://localhost:8080/",
          "height": 824
        },
        "id": "GJdwK2hoUBn6",
        "outputId": "a702e9a2-74dd-44c0-f99d-b46268310f15"
      },
      "source": [
        "flights_grouped = flights_data.groupby(by='op_unique_carrier').mean()\n",
        "flights_grouped.reset_index(inplace=True)\n",
        "flights_grouped['total_delay'] = flights_grouped['carrier_delay'] + flights_grouped['nas_delay'] + flights_grouped['late_aircraft_delay']\n",
        "flights_grouped = flights_grouped.drop(columns = ['dep_delay','op_carrier_fl_num','crs_dep_time','crs_elapsed_time','arr_delay','dep_time','arr_time','crs_arr_time','actual_elapsed_time','distance','carrier_delay','nas_delay','security_delay','late_aircraft_delay','weather_delay','year','month','day','weekday'])\n",
        "\n",
        "flights_grouped"
      ],
      "execution_count": null,
      "outputs": [
        {
          "output_type": "execute_result",
          "data": {
            "text/html": [
              "<div>\n",
              "<style scoped>\n",
              "    .dataframe tbody tr th:only-of-type {\n",
              "        vertical-align: middle;\n",
              "    }\n",
              "\n",
              "    .dataframe tbody tr th {\n",
              "        vertical-align: top;\n",
              "    }\n",
              "\n",
              "    .dataframe thead th {\n",
              "        text-align: right;\n",
              "    }\n",
              "</style>\n",
              "<table border=\"1\" class=\"dataframe\">\n",
              "  <thead>\n",
              "    <tr style=\"text-align: right;\">\n",
              "      <th></th>\n",
              "      <th>op_unique_carrier</th>\n",
              "      <th>total_delay</th>\n",
              "    </tr>\n",
              "  </thead>\n",
              "  <tbody>\n",
              "    <tr>\n",
              "      <th>0</th>\n",
              "      <td>9E</td>\n",
              "      <td>11.991362</td>\n",
              "    </tr>\n",
              "    <tr>\n",
              "      <th>1</th>\n",
              "      <td>AA</td>\n",
              "      <td>12.814187</td>\n",
              "    </tr>\n",
              "    <tr>\n",
              "      <th>2</th>\n",
              "      <td>AS</td>\n",
              "      <td>9.857995</td>\n",
              "    </tr>\n",
              "    <tr>\n",
              "      <th>3</th>\n",
              "      <td>AX</td>\n",
              "      <td>19.822542</td>\n",
              "    </tr>\n",
              "    <tr>\n",
              "      <th>4</th>\n",
              "      <td>B6</td>\n",
              "      <td>19.228117</td>\n",
              "    </tr>\n",
              "    <tr>\n",
              "      <th>5</th>\n",
              "      <td>C5</td>\n",
              "      <td>27.212379</td>\n",
              "    </tr>\n",
              "    <tr>\n",
              "      <th>6</th>\n",
              "      <td>CP</td>\n",
              "      <td>12.383745</td>\n",
              "    </tr>\n",
              "    <tr>\n",
              "      <th>7</th>\n",
              "      <td>DL</td>\n",
              "      <td>8.994286</td>\n",
              "    </tr>\n",
              "    <tr>\n",
              "      <th>8</th>\n",
              "      <td>EV</td>\n",
              "      <td>14.181963</td>\n",
              "    </tr>\n",
              "    <tr>\n",
              "      <th>9</th>\n",
              "      <td>F9</td>\n",
              "      <td>18.056772</td>\n",
              "    </tr>\n",
              "    <tr>\n",
              "      <th>10</th>\n",
              "      <td>G4</td>\n",
              "      <td>13.622449</td>\n",
              "    </tr>\n",
              "    <tr>\n",
              "      <th>11</th>\n",
              "      <td>G7</td>\n",
              "      <td>15.736954</td>\n",
              "    </tr>\n",
              "    <tr>\n",
              "      <th>12</th>\n",
              "      <td>HA</td>\n",
              "      <td>12.037975</td>\n",
              "    </tr>\n",
              "    <tr>\n",
              "      <th>13</th>\n",
              "      <td>MQ</td>\n",
              "      <td>10.071912</td>\n",
              "    </tr>\n",
              "    <tr>\n",
              "      <th>14</th>\n",
              "      <td>NK</td>\n",
              "      <td>13.034129</td>\n",
              "    </tr>\n",
              "    <tr>\n",
              "      <th>15</th>\n",
              "      <td>OH</td>\n",
              "      <td>12.528127</td>\n",
              "    </tr>\n",
              "    <tr>\n",
              "      <th>16</th>\n",
              "      <td>OO</td>\n",
              "      <td>12.716220</td>\n",
              "    </tr>\n",
              "    <tr>\n",
              "      <th>17</th>\n",
              "      <td>PT</td>\n",
              "      <td>12.773864</td>\n",
              "    </tr>\n",
              "    <tr>\n",
              "      <th>18</th>\n",
              "      <td>QX</td>\n",
              "      <td>6.672326</td>\n",
              "    </tr>\n",
              "    <tr>\n",
              "      <th>19</th>\n",
              "      <td>UA</td>\n",
              "      <td>13.980114</td>\n",
              "    </tr>\n",
              "    <tr>\n",
              "      <th>20</th>\n",
              "      <td>VX</td>\n",
              "      <td>9.487179</td>\n",
              "    </tr>\n",
              "    <tr>\n",
              "      <th>21</th>\n",
              "      <td>WN</td>\n",
              "      <td>10.090120</td>\n",
              "    </tr>\n",
              "    <tr>\n",
              "      <th>22</th>\n",
              "      <td>YV</td>\n",
              "      <td>15.024670</td>\n",
              "    </tr>\n",
              "    <tr>\n",
              "      <th>23</th>\n",
              "      <td>YX</td>\n",
              "      <td>12.731078</td>\n",
              "    </tr>\n",
              "    <tr>\n",
              "      <th>24</th>\n",
              "      <td>ZW</td>\n",
              "      <td>13.625987</td>\n",
              "    </tr>\n",
              "  </tbody>\n",
              "</table>\n",
              "</div>"
            ],
            "text/plain": [
              "   op_unique_carrier  total_delay\n",
              "0                 9E    11.991362\n",
              "1                 AA    12.814187\n",
              "2                 AS     9.857995\n",
              "3                 AX    19.822542\n",
              "4                 B6    19.228117\n",
              "5                 C5    27.212379\n",
              "6                 CP    12.383745\n",
              "7                 DL     8.994286\n",
              "8                 EV    14.181963\n",
              "9                 F9    18.056772\n",
              "10                G4    13.622449\n",
              "11                G7    15.736954\n",
              "12                HA    12.037975\n",
              "13                MQ    10.071912\n",
              "14                NK    13.034129\n",
              "15                OH    12.528127\n",
              "16                OO    12.716220\n",
              "17                PT    12.773864\n",
              "18                QX     6.672326\n",
              "19                UA    13.980114\n",
              "20                VX     9.487179\n",
              "21                WN    10.090120\n",
              "22                YV    15.024670\n",
              "23                YX    12.731078\n",
              "24                ZW    13.625987"
            ]
          },
          "metadata": {
            "tags": []
          },
          "execution_count": 5
        }
      ]
    },
    {
      "cell_type": "code",
      "metadata": {
        "id": "_Alx4DwmUBn6"
      },
      "source": [
        "#Merge averages dataframe with original \n",
        "flights_data = flights_data.merge(flights_grouped, on = 'op_unique_carrier', how = 'outer')\n"
      ],
      "execution_count": null,
      "outputs": []
    },
    {
      "cell_type": "code",
      "metadata": {
        "colab": {
          "base_uri": "https://localhost:8080/",
          "height": 419
        },
        "id": "f51R8Z7vUBn7",
        "outputId": "06b66051-8280-4479-a28c-b5bee403a83f"
      },
      "source": [
        "flights_data = flights_data.drop(columns = ['fl_date','mkt_unique_carrier','dest','dep_delay','dep_time','arr_time','nas_delay','security_delay','weather_delay','late_aircraft_delay','carrier_delay'])\n",
        "flights_data"
      ],
      "execution_count": null,
      "outputs": [
        {
          "output_type": "execute_result",
          "data": {
            "text/html": [
              "<div>\n",
              "<style scoped>\n",
              "    .dataframe tbody tr th:only-of-type {\n",
              "        vertical-align: middle;\n",
              "    }\n",
              "\n",
              "    .dataframe tbody tr th {\n",
              "        vertical-align: top;\n",
              "    }\n",
              "\n",
              "    .dataframe thead th {\n",
              "        text-align: right;\n",
              "    }\n",
              "</style>\n",
              "<table border=\"1\" class=\"dataframe\">\n",
              "  <thead>\n",
              "    <tr style=\"text-align: right;\">\n",
              "      <th></th>\n",
              "      <th>op_unique_carrier</th>\n",
              "      <th>op_carrier_fl_num</th>\n",
              "      <th>origin</th>\n",
              "      <th>crs_dep_time</th>\n",
              "      <th>arr_delay</th>\n",
              "      <th>crs_arr_time</th>\n",
              "      <th>crs_elapsed_time</th>\n",
              "      <th>actual_elapsed_time</th>\n",
              "      <th>distance</th>\n",
              "      <th>year</th>\n",
              "      <th>month</th>\n",
              "      <th>day</th>\n",
              "      <th>weekday</th>\n",
              "      <th>total_delay</th>\n",
              "    </tr>\n",
              "  </thead>\n",
              "  <tbody>\n",
              "    <tr>\n",
              "      <th>0</th>\n",
              "      <td>B6</td>\n",
              "      <td>112</td>\n",
              "      <td>ORD</td>\n",
              "      <td>2033</td>\n",
              "      <td>-10.0</td>\n",
              "      <td>2350.0</td>\n",
              "      <td>137.0</td>\n",
              "      <td>144.0</td>\n",
              "      <td>867.0</td>\n",
              "      <td>2018.0</td>\n",
              "      <td>3.0</td>\n",
              "      <td>6.0</td>\n",
              "      <td>0.0</td>\n",
              "      <td>19.228117</td>\n",
              "    </tr>\n",
              "    <tr>\n",
              "      <th>1</th>\n",
              "      <td>B6</td>\n",
              "      <td>1837</td>\n",
              "      <td>BOS</td>\n",
              "      <td>2041</td>\n",
              "      <td>-7.0</td>\n",
              "      <td>2247.0</td>\n",
              "      <td>126.0</td>\n",
              "      <td>134.0</td>\n",
              "      <td>632.0</td>\n",
              "      <td>2019.0</td>\n",
              "      <td>3.0</td>\n",
              "      <td>24.0</td>\n",
              "      <td>1.0</td>\n",
              "      <td>19.228117</td>\n",
              "    </tr>\n",
              "    <tr>\n",
              "      <th>2</th>\n",
              "      <td>B6</td>\n",
              "      <td>790</td>\n",
              "      <td>DCA</td>\n",
              "      <td>1535</td>\n",
              "      <td>7.0</td>\n",
              "      <td>1711.0</td>\n",
              "      <td>96.0</td>\n",
              "      <td>78.0</td>\n",
              "      <td>399.0</td>\n",
              "      <td>2018.0</td>\n",
              "      <td>9.0</td>\n",
              "      <td>1.0</td>\n",
              "      <td>1.0</td>\n",
              "      <td>19.228117</td>\n",
              "    </tr>\n",
              "    <tr>\n",
              "      <th>3</th>\n",
              "      <td>B6</td>\n",
              "      <td>476</td>\n",
              "      <td>MCO</td>\n",
              "      <td>2045</td>\n",
              "      <td>7.0</td>\n",
              "      <td>2326.0</td>\n",
              "      <td>161.0</td>\n",
              "      <td>164.0</td>\n",
              "      <td>1072.0</td>\n",
              "      <td>2018.0</td>\n",
              "      <td>9.0</td>\n",
              "      <td>24.0</td>\n",
              "      <td>0.0</td>\n",
              "      <td>19.228117</td>\n",
              "    </tr>\n",
              "    <tr>\n",
              "      <th>4</th>\n",
              "      <td>B6</td>\n",
              "      <td>1979</td>\n",
              "      <td>DCA</td>\n",
              "      <td>1655</td>\n",
              "      <td>-9.0</td>\n",
              "      <td>1939.0</td>\n",
              "      <td>164.0</td>\n",
              "      <td>154.0</td>\n",
              "      <td>899.0</td>\n",
              "      <td>2019.0</td>\n",
              "      <td>3.0</td>\n",
              "      <td>31.0</td>\n",
              "      <td>1.0</td>\n",
              "      <td>19.228117</td>\n",
              "    </tr>\n",
              "    <tr>\n",
              "      <th>...</th>\n",
              "      <td>...</td>\n",
              "      <td>...</td>\n",
              "      <td>...</td>\n",
              "      <td>...</td>\n",
              "      <td>...</td>\n",
              "      <td>...</td>\n",
              "      <td>...</td>\n",
              "      <td>...</td>\n",
              "      <td>...</td>\n",
              "      <td>...</td>\n",
              "      <td>...</td>\n",
              "      <td>...</td>\n",
              "      <td>...</td>\n",
              "      <td>...</td>\n",
              "    </tr>\n",
              "    <tr>\n",
              "      <th>173386</th>\n",
              "      <td>VX</td>\n",
              "      <td>1938</td>\n",
              "      <td>SFO</td>\n",
              "      <td>1859</td>\n",
              "      <td>26.0</td>\n",
              "      <td>2039.0</td>\n",
              "      <td>100.0</td>\n",
              "      <td>100.0</td>\n",
              "      <td>337.0</td>\n",
              "      <td>2018.0</td>\n",
              "      <td>1.0</td>\n",
              "      <td>22.0</td>\n",
              "      <td>0.0</td>\n",
              "      <td>9.487179</td>\n",
              "    </tr>\n",
              "    <tr>\n",
              "      <th>173387</th>\n",
              "      <td>VX</td>\n",
              "      <td>1168</td>\n",
              "      <td>LAX</td>\n",
              "      <td>2210</td>\n",
              "      <td>-6.0</td>\n",
              "      <td>629.0</td>\n",
              "      <td>319.0</td>\n",
              "      <td>277.0</td>\n",
              "      <td>2454.0</td>\n",
              "      <td>2018.0</td>\n",
              "      <td>2.0</td>\n",
              "      <td>16.0</td>\n",
              "      <td>0.0</td>\n",
              "      <td>9.487179</td>\n",
              "    </tr>\n",
              "    <tr>\n",
              "      <th>173388</th>\n",
              "      <td>VX</td>\n",
              "      <td>1367</td>\n",
              "      <td>BOS</td>\n",
              "      <td>1635</td>\n",
              "      <td>-34.0</td>\n",
              "      <td>2020.0</td>\n",
              "      <td>405.0</td>\n",
              "      <td>371.0</td>\n",
              "      <td>2611.0</td>\n",
              "      <td>2018.0</td>\n",
              "      <td>3.0</td>\n",
              "      <td>5.0</td>\n",
              "      <td>0.0</td>\n",
              "      <td>9.487179</td>\n",
              "    </tr>\n",
              "    <tr>\n",
              "      <th>173389</th>\n",
              "      <td>VX</td>\n",
              "      <td>1388</td>\n",
              "      <td>SEA</td>\n",
              "      <td>1345</td>\n",
              "      <td>19.0</td>\n",
              "      <td>1600.0</td>\n",
              "      <td>135.0</td>\n",
              "      <td>125.0</td>\n",
              "      <td>679.0</td>\n",
              "      <td>2018.0</td>\n",
              "      <td>1.0</td>\n",
              "      <td>10.0</td>\n",
              "      <td>0.0</td>\n",
              "      <td>9.487179</td>\n",
              "    </tr>\n",
              "    <tr>\n",
              "      <th>173390</th>\n",
              "      <td>VX</td>\n",
              "      <td>1241</td>\n",
              "      <td>ORD</td>\n",
              "      <td>1745</td>\n",
              "      <td>-5.0</td>\n",
              "      <td>2029.0</td>\n",
              "      <td>284.0</td>\n",
              "      <td>273.0</td>\n",
              "      <td>1744.0</td>\n",
              "      <td>2018.0</td>\n",
              "      <td>1.0</td>\n",
              "      <td>3.0</td>\n",
              "      <td>0.0</td>\n",
              "      <td>9.487179</td>\n",
              "    </tr>\n",
              "  </tbody>\n",
              "</table>\n",
              "<p>173391 rows × 14 columns</p>\n",
              "</div>"
            ],
            "text/plain": [
              "       op_unique_carrier  op_carrier_fl_num origin  ...   day  weekday  total_delay\n",
              "0                     B6                112    ORD  ...   6.0      0.0    19.228117\n",
              "1                     B6               1837    BOS  ...  24.0      1.0    19.228117\n",
              "2                     B6                790    DCA  ...   1.0      1.0    19.228117\n",
              "3                     B6                476    MCO  ...  24.0      0.0    19.228117\n",
              "4                     B6               1979    DCA  ...  31.0      1.0    19.228117\n",
              "...                  ...                ...    ...  ...   ...      ...          ...\n",
              "173386                VX               1938    SFO  ...  22.0      0.0     9.487179\n",
              "173387                VX               1168    LAX  ...  16.0      0.0     9.487179\n",
              "173388                VX               1367    BOS  ...   5.0      0.0     9.487179\n",
              "173389                VX               1388    SEA  ...  10.0      0.0     9.487179\n",
              "173390                VX               1241    ORD  ...   3.0      0.0     9.487179\n",
              "\n",
              "[173391 rows x 14 columns]"
            ]
          },
          "metadata": {
            "tags": []
          },
          "execution_count": 7
        }
      ]
    },
    {
      "cell_type": "code",
      "metadata": {
        "id": "3Zo2C6yjUBn7"
      },
      "source": [
        "# from sklearn.preprocessing import LabelEncoder\n",
        "# le = LabelEncoder()\n",
        "# flights_data[\"origin\"]= le.fit_transform(flights_data[\"origin\"])\n",
        "\n",
        "#Did not end up using this"
      ],
      "execution_count": null,
      "outputs": []
    },
    {
      "cell_type": "code",
      "metadata": {
        "colab": {
          "base_uri": "https://localhost:8080/"
        },
        "id": "W8NoHqQnUBn8",
        "outputId": "3778e660-abd4-4b94-8402-92737ddd397b"
      },
      "source": [
        "flights_data.dtypes"
      ],
      "execution_count": null,
      "outputs": [
        {
          "output_type": "execute_result",
          "data": {
            "text/plain": [
              "op_unique_carrier       object\n",
              "op_carrier_fl_num        int64\n",
              "origin                  object\n",
              "crs_dep_time             int64\n",
              "arr_delay              float64\n",
              "crs_arr_time           float64\n",
              "crs_elapsed_time       float64\n",
              "actual_elapsed_time    float64\n",
              "distance               float64\n",
              "year                   float64\n",
              "month                  float64\n",
              "day                    float64\n",
              "weekday                float64\n",
              "total_delay            float64\n",
              "dtype: object"
            ]
          },
          "metadata": {
            "tags": []
          },
          "execution_count": 9
        }
      ]
    },
    {
      "cell_type": "code",
      "metadata": {
        "colab": {
          "base_uri": "https://localhost:8080/",
          "height": 483
        },
        "id": "J-74u99hV2Q0",
        "outputId": "86f3c438-8d97-48cb-a6b3-f9bde7a4c60b"
      },
      "source": [
        "# missing data\n",
        "total = flights_data.isnull().sum().sort_values(ascending=False)\n",
        "percent = (flights_data.isnull().sum()/flights_data.isnull().count()).sort_values(ascending=False)\n",
        "missing_data = pd.concat([total, percent], axis=1, keys=['Total', 'Percent'])\n",
        "missing_data.head(20)"
      ],
      "execution_count": null,
      "outputs": [
        {
          "output_type": "execute_result",
          "data": {
            "text/html": [
              "<div>\n",
              "<style scoped>\n",
              "    .dataframe tbody tr th:only-of-type {\n",
              "        vertical-align: middle;\n",
              "    }\n",
              "\n",
              "    .dataframe tbody tr th {\n",
              "        vertical-align: top;\n",
              "    }\n",
              "\n",
              "    .dataframe thead th {\n",
              "        text-align: right;\n",
              "    }\n",
              "</style>\n",
              "<table border=\"1\" class=\"dataframe\">\n",
              "  <thead>\n",
              "    <tr style=\"text-align: right;\">\n",
              "      <th></th>\n",
              "      <th>Total</th>\n",
              "      <th>Percent</th>\n",
              "    </tr>\n",
              "  </thead>\n",
              "  <tbody>\n",
              "    <tr>\n",
              "      <th>weekday</th>\n",
              "      <td>1</td>\n",
              "      <td>0.000006</td>\n",
              "    </tr>\n",
              "    <tr>\n",
              "      <th>day</th>\n",
              "      <td>1</td>\n",
              "      <td>0.000006</td>\n",
              "    </tr>\n",
              "    <tr>\n",
              "      <th>month</th>\n",
              "      <td>1</td>\n",
              "      <td>0.000006</td>\n",
              "    </tr>\n",
              "    <tr>\n",
              "      <th>year</th>\n",
              "      <td>1</td>\n",
              "      <td>0.000006</td>\n",
              "    </tr>\n",
              "    <tr>\n",
              "      <th>distance</th>\n",
              "      <td>1</td>\n",
              "      <td>0.000006</td>\n",
              "    </tr>\n",
              "    <tr>\n",
              "      <th>actual_elapsed_time</th>\n",
              "      <td>1</td>\n",
              "      <td>0.000006</td>\n",
              "    </tr>\n",
              "    <tr>\n",
              "      <th>crs_elapsed_time</th>\n",
              "      <td>1</td>\n",
              "      <td>0.000006</td>\n",
              "    </tr>\n",
              "    <tr>\n",
              "      <th>crs_arr_time</th>\n",
              "      <td>1</td>\n",
              "      <td>0.000006</td>\n",
              "    </tr>\n",
              "    <tr>\n",
              "      <th>arr_delay</th>\n",
              "      <td>1</td>\n",
              "      <td>0.000006</td>\n",
              "    </tr>\n",
              "    <tr>\n",
              "      <th>total_delay</th>\n",
              "      <td>0</td>\n",
              "      <td>0.000000</td>\n",
              "    </tr>\n",
              "    <tr>\n",
              "      <th>crs_dep_time</th>\n",
              "      <td>0</td>\n",
              "      <td>0.000000</td>\n",
              "    </tr>\n",
              "    <tr>\n",
              "      <th>origin</th>\n",
              "      <td>0</td>\n",
              "      <td>0.000000</td>\n",
              "    </tr>\n",
              "    <tr>\n",
              "      <th>op_carrier_fl_num</th>\n",
              "      <td>0</td>\n",
              "      <td>0.000000</td>\n",
              "    </tr>\n",
              "    <tr>\n",
              "      <th>op_unique_carrier</th>\n",
              "      <td>0</td>\n",
              "      <td>0.000000</td>\n",
              "    </tr>\n",
              "  </tbody>\n",
              "</table>\n",
              "</div>"
            ],
            "text/plain": [
              "                     Total   Percent\n",
              "weekday                  1  0.000006\n",
              "day                      1  0.000006\n",
              "month                    1  0.000006\n",
              "year                     1  0.000006\n",
              "distance                 1  0.000006\n",
              "actual_elapsed_time      1  0.000006\n",
              "crs_elapsed_time         1  0.000006\n",
              "crs_arr_time             1  0.000006\n",
              "arr_delay                1  0.000006\n",
              "total_delay              0  0.000000\n",
              "crs_dep_time             0  0.000000\n",
              "origin                   0  0.000000\n",
              "op_carrier_fl_num        0  0.000000\n",
              "op_unique_carrier        0  0.000000"
            ]
          },
          "metadata": {
            "tags": []
          },
          "execution_count": 14
        }
      ]
    },
    {
      "cell_type": "code",
      "metadata": {
        "id": "bPMH1vhqWTD2"
      },
      "source": [
        "flights_data = flights_data.dropna()"
      ],
      "execution_count": null,
      "outputs": []
    },
    {
      "cell_type": "code",
      "metadata": {
        "colab": {
          "base_uri": "https://localhost:8080/",
          "height": 483
        },
        "id": "70a54ZOLWWYf",
        "outputId": "84be70de-0bdc-4a0c-dea4-c3cf7b964bf4"
      },
      "source": [
        "# missing data\n",
        "total = flights_data.isnull().sum().sort_values(ascending=False)\n",
        "percent = (flights_data.isnull().sum()/flights_data.isnull().count()).sort_values(ascending=False)\n",
        "missing_data = pd.concat([total, percent], axis=1, keys=['Total', 'Percent'])\n",
        "missing_data.head(20)"
      ],
      "execution_count": null,
      "outputs": [
        {
          "output_type": "execute_result",
          "data": {
            "text/html": [
              "<div>\n",
              "<style scoped>\n",
              "    .dataframe tbody tr th:only-of-type {\n",
              "        vertical-align: middle;\n",
              "    }\n",
              "\n",
              "    .dataframe tbody tr th {\n",
              "        vertical-align: top;\n",
              "    }\n",
              "\n",
              "    .dataframe thead th {\n",
              "        text-align: right;\n",
              "    }\n",
              "</style>\n",
              "<table border=\"1\" class=\"dataframe\">\n",
              "  <thead>\n",
              "    <tr style=\"text-align: right;\">\n",
              "      <th></th>\n",
              "      <th>Total</th>\n",
              "      <th>Percent</th>\n",
              "    </tr>\n",
              "  </thead>\n",
              "  <tbody>\n",
              "    <tr>\n",
              "      <th>total_delay</th>\n",
              "      <td>0</td>\n",
              "      <td>0.0</td>\n",
              "    </tr>\n",
              "    <tr>\n",
              "      <th>weekday</th>\n",
              "      <td>0</td>\n",
              "      <td>0.0</td>\n",
              "    </tr>\n",
              "    <tr>\n",
              "      <th>day</th>\n",
              "      <td>0</td>\n",
              "      <td>0.0</td>\n",
              "    </tr>\n",
              "    <tr>\n",
              "      <th>month</th>\n",
              "      <td>0</td>\n",
              "      <td>0.0</td>\n",
              "    </tr>\n",
              "    <tr>\n",
              "      <th>year</th>\n",
              "      <td>0</td>\n",
              "      <td>0.0</td>\n",
              "    </tr>\n",
              "    <tr>\n",
              "      <th>distance</th>\n",
              "      <td>0</td>\n",
              "      <td>0.0</td>\n",
              "    </tr>\n",
              "    <tr>\n",
              "      <th>actual_elapsed_time</th>\n",
              "      <td>0</td>\n",
              "      <td>0.0</td>\n",
              "    </tr>\n",
              "    <tr>\n",
              "      <th>crs_elapsed_time</th>\n",
              "      <td>0</td>\n",
              "      <td>0.0</td>\n",
              "    </tr>\n",
              "    <tr>\n",
              "      <th>crs_arr_time</th>\n",
              "      <td>0</td>\n",
              "      <td>0.0</td>\n",
              "    </tr>\n",
              "    <tr>\n",
              "      <th>arr_delay</th>\n",
              "      <td>0</td>\n",
              "      <td>0.0</td>\n",
              "    </tr>\n",
              "    <tr>\n",
              "      <th>crs_dep_time</th>\n",
              "      <td>0</td>\n",
              "      <td>0.0</td>\n",
              "    </tr>\n",
              "    <tr>\n",
              "      <th>origin</th>\n",
              "      <td>0</td>\n",
              "      <td>0.0</td>\n",
              "    </tr>\n",
              "    <tr>\n",
              "      <th>op_carrier_fl_num</th>\n",
              "      <td>0</td>\n",
              "      <td>0.0</td>\n",
              "    </tr>\n",
              "    <tr>\n",
              "      <th>op_unique_carrier</th>\n",
              "      <td>0</td>\n",
              "      <td>0.0</td>\n",
              "    </tr>\n",
              "  </tbody>\n",
              "</table>\n",
              "</div>"
            ],
            "text/plain": [
              "                     Total  Percent\n",
              "total_delay              0      0.0\n",
              "weekday                  0      0.0\n",
              "day                      0      0.0\n",
              "month                    0      0.0\n",
              "year                     0      0.0\n",
              "distance                 0      0.0\n",
              "actual_elapsed_time      0      0.0\n",
              "crs_elapsed_time         0      0.0\n",
              "crs_arr_time             0      0.0\n",
              "arr_delay                0      0.0\n",
              "crs_dep_time             0      0.0\n",
              "origin                   0      0.0\n",
              "op_carrier_fl_num        0      0.0\n",
              "op_unique_carrier        0      0.0"
            ]
          },
          "metadata": {
            "tags": []
          },
          "execution_count": 18
        }
      ]
    },
    {
      "cell_type": "markdown",
      "metadata": {
        "id": "4dzUGRGpUBn9"
      },
      "source": [
        "## Baseline Model #1 Random Forest"
      ]
    },
    {
      "cell_type": "code",
      "metadata": {
        "id": "rqiHIqeBUBn9"
      },
      "source": [
        "X = flights_data[['crs_arr_time','crs_elapsed_time','distance','year','month','day','total_delay']]\n",
        "y = flights_data['arr_delay']"
      ],
      "execution_count": null,
      "outputs": []
    },
    {
      "cell_type": "code",
      "metadata": {
        "id": "6Q_fOW8RUBn9"
      },
      "source": [
        "from sklearn.model_selection import train_test_split\n",
        "# Split dataset into training set and test set\n",
        "X_train, X_test, y_train, y_test = train_test_split(X, y, test_size=0.3) # 70% training and 30% test"
      ],
      "execution_count": null,
      "outputs": []
    },
    {
      "cell_type": "code",
      "metadata": {
        "id": "YMfpHuJKUBn-"
      },
      "source": [
        "#Import Random Forest Model\n",
        "from sklearn.ensemble import RandomForestRegressor\n",
        "from sklearn.metrics import mean_squared_error\n",
        "import numpy as np"
      ],
      "execution_count": null,
      "outputs": []
    },
    {
      "cell_type": "code",
      "metadata": {
        "id": "xUF6kle3UBn-"
      },
      "source": [
        "#Fitting against itself\n",
        "reg = RandomForestRegressor(n_estimators=100)\n",
        "\n",
        "reg.fit(X_train,y_train)\n",
        "\n",
        "y_pred=reg.predict(X_test)\n",
        "\n"
      ],
      "execution_count": null,
      "outputs": []
    },
    {
      "cell_type": "code",
      "metadata": {
        "colab": {
          "base_uri": "https://localhost:8080/"
        },
        "id": "5D602HPmUBn-",
        "outputId": "28380f1e-0671-4779-ba9c-73d19caa25b8"
      },
      "source": [
        " rmse = np.sqrt(mean_squared_error(y_test, y_pred))\n",
        " rmse"
      ],
      "execution_count": null,
      "outputs": [
        {
          "output_type": "execute_result",
          "data": {
            "text/plain": [
              "43.724118872502515"
            ]
          },
          "metadata": {
            "tags": []
          },
          "execution_count": 24
        }
      ]
    },
    {
      "cell_type": "code",
      "metadata": {
        "colab": {
          "base_uri": "https://localhost:8080/"
        },
        "id": "Kbe_bE5sUBn_",
        "outputId": "207dc729-5fe7-4c55-f66e-5171c47b0535"
      },
      "source": [
        "reg.score(X_test,y_test)"
      ],
      "execution_count": null,
      "outputs": [
        {
          "output_type": "execute_result",
          "data": {
            "text/plain": [
              "-0.030470154574230968"
            ]
          },
          "metadata": {
            "tags": []
          },
          "execution_count": 25
        }
      ]
    },
    {
      "cell_type": "markdown",
      "metadata": {
        "id": "xZ7va3_YUBn_"
      },
      "source": [
        "## Dummy Regressor "
      ]
    },
    {
      "cell_type": "code",
      "metadata": {
        "id": "BbATk5amUBn_",
        "outputId": "3d9a4e8a-1d0d-42c8-b41b-3a55f877d13e"
      },
      "source": [
        "from sklearn.dummy import DummyRegressor\n",
        "\n",
        "dumreg = DummyRegressor(strategy='mean')\n",
        "dumreg2 = DummyRegressor(strategy='median')\n",
        "dumreg.fit(X_train,y_train)\n",
        "dumreg2.fit(X_train,y_train)\n"
      ],
      "execution_count": null,
      "outputs": [
        {
          "output_type": "execute_result",
          "data": {
            "text/plain": [
              "DummyRegressor(strategy='median')"
            ]
          },
          "metadata": {
            "tags": []
          },
          "execution_count": 49
        }
      ]
    },
    {
      "cell_type": "code",
      "metadata": {
        "id": "HUqi8c25UBn_"
      },
      "source": [
        "y_pred = dumreg.predict(X_test)\n",
        "y_pred2 = dumreg.predict(X_test)"
      ],
      "execution_count": null,
      "outputs": []
    },
    {
      "cell_type": "code",
      "metadata": {
        "id": "ajAzErc_UBoA",
        "outputId": "9bb7b30c-8d18-4e95-a9cc-fe4070c9bd82"
      },
      "source": [
        "dumreg.score(y_test,y_pred)\n",
        "#dumreg2.score(y_test,y_pred2)"
      ],
      "execution_count": null,
      "outputs": [
        {
          "output_type": "execute_result",
          "data": {
            "text/plain": [
              "1.0"
            ]
          },
          "metadata": {
            "tags": []
          },
          "execution_count": 52
        }
      ]
    },
    {
      "cell_type": "markdown",
      "metadata": {
        "id": "Ya19f5vjUBoA"
      },
      "source": [
        "## Linear Regression"
      ]
    },
    {
      "cell_type": "code",
      "metadata": {
        "id": "Lr_H7-QFUBoA"
      },
      "source": [
        "from sklearn.linear_model import LinearRegression"
      ],
      "execution_count": null,
      "outputs": []
    },
    {
      "cell_type": "code",
      "metadata": {
        "id": "SqWfdjTDUBoA"
      },
      "source": [
        "from sklearn.metrics import mean_absolute_error"
      ],
      "execution_count": null,
      "outputs": []
    },
    {
      "cell_type": "code",
      "metadata": {
        "id": "gnc8cbuSUBoA"
      },
      "source": [
        "from sklearn.metrics import r2_score"
      ],
      "execution_count": null,
      "outputs": []
    },
    {
      "cell_type": "code",
      "metadata": {
        "id": "uIrlawQwUBoA"
      },
      "source": [
        "from sklearn.preprocessing import StandardScaler\n",
        "scaler = StandardScaler()\n",
        "X=scaler.fit_transform(X)\n"
      ],
      "execution_count": null,
      "outputs": []
    },
    {
      "cell_type": "code",
      "metadata": {
        "id": "lar1gJV9UBoB"
      },
      "source": [
        "from sklearn.model_selection import train_test_split\n",
        "# Split dataset into training set and test set\n",
        "X_train, X_test, y_train, y_test = train_test_split(X, y, test_size=0.3) # 70% training and 30% test"
      ],
      "execution_count": null,
      "outputs": []
    },
    {
      "cell_type": "code",
      "metadata": {
        "id": "q6yeNcVXUBoB"
      },
      "source": [
        "# creating linear regression\n",
        "lr = LinearRegression()\n",
        "lr.fit(X_train,y_train)\n",
        "y_lr = lr.predict(X_test)"
      ],
      "execution_count": null,
      "outputs": []
    },
    {
      "cell_type": "code",
      "metadata": {
        "colab": {
          "base_uri": "https://localhost:8080/"
        },
        "id": "i9TuqfO_UBoB",
        "outputId": "cab95144-5c1a-4bc3-fbe3-0b557fa4b9e9"
      },
      "source": [
        "MAElr = mean_absolute_error(y_test,y_lr)\n",
        "MAElr"
      ],
      "execution_count": null,
      "outputs": [
        {
          "output_type": "execute_result",
          "data": {
            "text/plain": [
              "24.182006526422033"
            ]
          },
          "metadata": {
            "tags": []
          },
          "execution_count": 32
        }
      ]
    },
    {
      "cell_type": "code",
      "metadata": {
        "colab": {
          "base_uri": "https://localhost:8080/"
        },
        "id": "jN_vYflGUBoB",
        "outputId": "1853c1eb-0af2-448e-92fc-73e4587a49b3"
      },
      "source": [
        "R2lr = r2_score(y_test,y_lr)\n",
        "R2lr"
      ],
      "execution_count": null,
      "outputs": [
        {
          "output_type": "execute_result",
          "data": {
            "text/plain": [
              "0.014529147304010892"
            ]
          },
          "metadata": {
            "tags": []
          },
          "execution_count": 33
        }
      ]
    },
    {
      "cell_type": "markdown",
      "metadata": {
        "id": "k6mYPtBKUBoB"
      },
      "source": [
        ""
      ]
    }
  ]
}