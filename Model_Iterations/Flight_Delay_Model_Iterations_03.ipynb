{
 "cells": [
  {
   "cell_type": "markdown",
   "id": "3a2c9b6d",
   "metadata": {},
   "source": [
    "# Optimizing Model - Adding Weather Type"
   ]
  },
  {
   "cell_type": "code",
   "execution_count": null,
   "id": "9a5a5305",
   "metadata": {},
   "outputs": [],
   "source": [
    "## Model Iteration 3\n",
    "## Feature Eng: Merging weather data to flight dataset and adding weather type to our training/testing data \n",
    "## Purpose: To measure the effects of adding weather type (sunny,cloudy,rainy,snowy)\n",
    "## Results : \n",
    "##      LightGBM Model RMSE is:  40.745070175433916 (-3.01% change)\n",
    "##      LightGBM Model R2 Score is:  0.10383367709094804 (65.95% change)\n",
    "##      LightGBM Model Cross-validation MAE is: 22.83054335957512 (-2.17% change)\n",
    "##      XGBoostModel RMSE is:  42.2330512378316 (0.14% change)\n",
    "##      XGBoost Model R2 Score is:  0.04742613664514661 (-14.06% change)\n",
    "##      XGBoost Model Cross-validation MAE is: 22.453367 (0.11% change)"
   ]
  },
  {
   "cell_type": "code",
   "execution_count": 83,
   "id": "8abd41f6",
   "metadata": {},
   "outputs": [],
   "source": [
    "import pandas as pd\n",
    "import numpy as np\n",
    "import psycopg2\n",
    "import matplotlib.pyplot as plt\n",
    "import seaborn as sns\n",
    "%matplotlib inline\n",
    "import datetime\n",
    "from scipy import stats\n",
    "from sklearn.model_selection import train_test_split"
   ]
  },
  {
   "cell_type": "code",
   "execution_count": 84,
   "id": "0515bfae",
   "metadata": {},
   "outputs": [],
   "source": [
    "data_flight_info = pd.read_csv('/Users/craiglynch/Desktop/Lighthouse_Labs/Mid-term_Project/mid-term-project-I-master/Regression_no_outliers_cleaned_data_03.csv', sep = ',')"
   ]
  },
  {
   "cell_type": "code",
   "execution_count": 85,
   "id": "3a2a693d",
   "metadata": {},
   "outputs": [],
   "source": [
    "data_weather = pd.read_csv('/Users/craiglynch/Desktop/Lighthouse_Labs/Mid-term_Project/mid-term-project-I-master/weather.csv', sep = ',')"
   ]
  },
  {
   "cell_type": "code",
   "execution_count": 86,
   "id": "8c279094",
   "metadata": {},
   "outputs": [],
   "source": [
    "df_flight_info = data_flight_info.copy()\n",
    "df_weather = data_weather.copy()"
   ]
  },
  {
   "cell_type": "code",
   "execution_count": 87,
   "id": "32a3537f",
   "metadata": {},
   "outputs": [
    {
     "data": {
      "text/plain": [
       "ATL    48923\n",
       "ORD    48428\n",
       "DFW    35688\n",
       "DEN    33907\n",
       "LAX    30969\n",
       "CLT    30851\n",
       "SEA    23313\n",
       "PHX    22252\n",
       "SFO    22183\n",
       "IAH    22017\n",
       "DTW    21795\n",
       "LAS    20661\n",
       "LGA    20597\n",
       "MSP    19965\n",
       "EWR    19453\n",
       "BOS    18365\n",
       "MCO    17474\n",
       "DCA    17438\n",
       "Name: origin, dtype: int64"
      ]
     },
     "execution_count": 87,
     "metadata": {},
     "output_type": "execute_result"
    }
   ],
   "source": [
    "#Only want top 19 busiest airports\n",
    "airports = ['ORD','ATL','DFW','DEN','LAX','CLT','SEA','SFO','EWR','LGA','PHX','IAH','LAS','BOS','MCO','DTW','PHIL','DCA','MSP']\n",
    "df_flight_info = df_flight_info[df_flight_info['origin'].isin(airports)]\n",
    "df_flight_info.origin.value_counts()"
   ]
  },
  {
   "cell_type": "code",
   "execution_count": 88,
   "id": "fcd929e1",
   "metadata": {},
   "outputs": [
    {
     "data": {
      "text/plain": [
       "sunny     5503\n",
       "cloudy    4324\n",
       "rain      2860\n",
       "snow      1412\n",
       "Name: weather_type, dtype: int64"
      ]
     },
     "execution_count": 88,
     "metadata": {},
     "output_type": "execute_result"
    }
   ],
   "source": [
    "df_weather['value'] = df_weather['value'].str.lower()\n",
    "# create a list of our conditions\n",
    "conditions = [\n",
    "    (df_weather['value'].str.contains('sunny')),\n",
    "    (df_weather['value'].str.contains('cloud')),\n",
    "    (df_weather['value'].str.contains('mist')),\n",
    "    (df_weather['value'].str.contains('fog')),\n",
    "    (df_weather['value'].str.contains('overcast')),\n",
    "    (df_weather['value'].str.contains('rain')),\n",
    "    (df_weather['value'].str.contains('drizzle')),\n",
    "    (df_weather['value'].str.contains('thunder')),\n",
    "    (df_weather['value'].str.contains('snow')),\n",
    "    (df_weather['value'].str.contains('sleet')),\n",
    "    (df_weather['value'].str.contains('blizzard')),\n",
    "    ]\n",
    "\n",
    "# create a list of the values we want to assign for each condition\n",
    "values = ['sunny', 'cloudy', 'cloudy','cloudy','cloudy','rain','rain','rain','snow','snow','snow']\n",
    "\n",
    "# create a new column and use np.select to assign values to it using our lists as arguments\n",
    "df_weather['weather_type'] = np.select(conditions, values)\n",
    "df_weather['weather_type'].value_counts()"
   ]
  },
  {
   "cell_type": "code",
   "execution_count": 89,
   "id": "c0bce729",
   "metadata": {},
   "outputs": [
    {
     "data": {
      "text/plain": [
       "14099"
      ]
     },
     "execution_count": 89,
     "metadata": {},
     "output_type": "execute_result"
    }
   ],
   "source": [
    "df_weather['value'].value_counts().sum()"
   ]
  },
  {
   "cell_type": "code",
   "execution_count": 90,
   "id": "0024b9c1",
   "metadata": {},
   "outputs": [],
   "source": [
    "# Creating year, month, date columns\n",
    "df_weather['year'] = pd.DatetimeIndex(df_weather['date']).year\n",
    "df_weather['month'] = pd.DatetimeIndex(df_weather['date']).month\n",
    "df_weather['day'] = pd.DatetimeIndex(df_weather['date']).day\n",
    "df_weather['weekday'] = ((pd.DatetimeIndex(df_weather['date']).dayofweek))"
   ]
  },
  {
   "cell_type": "markdown",
   "id": "8ea1a6ab",
   "metadata": {},
   "source": [
    "#### Merging weather data with flight data"
   ]
  },
  {
   "cell_type": "code",
   "execution_count": 91,
   "id": "57479e15",
   "metadata": {},
   "outputs": [
    {
     "data": {
      "text/html": [
       "<div>\n",
       "<style scoped>\n",
       "    .dataframe tbody tr th:only-of-type {\n",
       "        vertical-align: middle;\n",
       "    }\n",
       "\n",
       "    .dataframe tbody tr th {\n",
       "        vertical-align: top;\n",
       "    }\n",
       "\n",
       "    .dataframe thead th {\n",
       "        text-align: right;\n",
       "    }\n",
       "</style>\n",
       "<table border=\"1\" class=\"dataframe\">\n",
       "  <thead>\n",
       "    <tr style=\"text-align: right;\">\n",
       "      <th></th>\n",
       "      <th>fl_date</th>\n",
       "      <th>maxtempF</th>\n",
       "      <th>mintempC</th>\n",
       "      <th>mintempF</th>\n",
       "      <th>avgtempC</th>\n",
       "      <th>avgtempF</th>\n",
       "      <th>totalSnow_cm</th>\n",
       "      <th>sunHour</th>\n",
       "      <th>uvIndex_x</th>\n",
       "      <th>origin</th>\n",
       "      <th>...</th>\n",
       "      <th>WindGustKmph</th>\n",
       "      <th>FeelsLikeC</th>\n",
       "      <th>FeelsLikeF</th>\n",
       "      <th>uvIndex_y</th>\n",
       "      <th>value</th>\n",
       "      <th>weather_type</th>\n",
       "      <th>year</th>\n",
       "      <th>month</th>\n",
       "      <th>day</th>\n",
       "      <th>weekday</th>\n",
       "    </tr>\n",
       "  </thead>\n",
       "  <tbody>\n",
       "    <tr>\n",
       "      <th>0</th>\n",
       "      <td>2018-01-01</td>\n",
       "      <td>28</td>\n",
       "      <td>-8</td>\n",
       "      <td>18</td>\n",
       "      <td>-5</td>\n",
       "      <td>23</td>\n",
       "      <td>0.0</td>\n",
       "      <td>8.7</td>\n",
       "      <td>2</td>\n",
       "      <td>ORD</td>\n",
       "      <td>...</td>\n",
       "      <td>16</td>\n",
       "      <td>-9</td>\n",
       "      <td>15</td>\n",
       "      <td>2</td>\n",
       "      <td>sunny</td>\n",
       "      <td>sunny</td>\n",
       "      <td>2018</td>\n",
       "      <td>1</td>\n",
       "      <td>1</td>\n",
       "      <td>0</td>\n",
       "    </tr>\n",
       "    <tr>\n",
       "      <th>1</th>\n",
       "      <td>2018-01-02</td>\n",
       "      <td>22</td>\n",
       "      <td>-11</td>\n",
       "      <td>13</td>\n",
       "      <td>-8</td>\n",
       "      <td>18</td>\n",
       "      <td>0.0</td>\n",
       "      <td>8.7</td>\n",
       "      <td>2</td>\n",
       "      <td>ORD</td>\n",
       "      <td>...</td>\n",
       "      <td>6</td>\n",
       "      <td>-10</td>\n",
       "      <td>15</td>\n",
       "      <td>2</td>\n",
       "      <td>sunny</td>\n",
       "      <td>sunny</td>\n",
       "      <td>2018</td>\n",
       "      <td>1</td>\n",
       "      <td>2</td>\n",
       "      <td>1</td>\n",
       "    </tr>\n",
       "    <tr>\n",
       "      <th>2</th>\n",
       "      <td>2018-01-03</td>\n",
       "      <td>17</td>\n",
       "      <td>-12</td>\n",
       "      <td>11</td>\n",
       "      <td>-10</td>\n",
       "      <td>15</td>\n",
       "      <td>0.0</td>\n",
       "      <td>8.7</td>\n",
       "      <td>2</td>\n",
       "      <td>ORD</td>\n",
       "      <td>...</td>\n",
       "      <td>6</td>\n",
       "      <td>-11</td>\n",
       "      <td>12</td>\n",
       "      <td>2</td>\n",
       "      <td>partly cloudy</td>\n",
       "      <td>cloudy</td>\n",
       "      <td>2018</td>\n",
       "      <td>1</td>\n",
       "      <td>3</td>\n",
       "      <td>2</td>\n",
       "    </tr>\n",
       "    <tr>\n",
       "      <th>3</th>\n",
       "      <td>2018-01-04</td>\n",
       "      <td>20</td>\n",
       "      <td>-11</td>\n",
       "      <td>12</td>\n",
       "      <td>-9</td>\n",
       "      <td>16</td>\n",
       "      <td>0.0</td>\n",
       "      <td>8.7</td>\n",
       "      <td>2</td>\n",
       "      <td>ORD</td>\n",
       "      <td>...</td>\n",
       "      <td>17</td>\n",
       "      <td>-14</td>\n",
       "      <td>7</td>\n",
       "      <td>2</td>\n",
       "      <td>sunny</td>\n",
       "      <td>sunny</td>\n",
       "      <td>2018</td>\n",
       "      <td>1</td>\n",
       "      <td>4</td>\n",
       "      <td>3</td>\n",
       "    </tr>\n",
       "    <tr>\n",
       "      <th>4</th>\n",
       "      <td>2018-01-05</td>\n",
       "      <td>17</td>\n",
       "      <td>-12</td>\n",
       "      <td>10</td>\n",
       "      <td>-10</td>\n",
       "      <td>14</td>\n",
       "      <td>0.0</td>\n",
       "      <td>8.7</td>\n",
       "      <td>2</td>\n",
       "      <td>ORD</td>\n",
       "      <td>...</td>\n",
       "      <td>14</td>\n",
       "      <td>-14</td>\n",
       "      <td>6</td>\n",
       "      <td>2</td>\n",
       "      <td>sunny</td>\n",
       "      <td>sunny</td>\n",
       "      <td>2018</td>\n",
       "      <td>1</td>\n",
       "      <td>5</td>\n",
       "      <td>4</td>\n",
       "    </tr>\n",
       "    <tr>\n",
       "      <th>...</th>\n",
       "      <td>...</td>\n",
       "      <td>...</td>\n",
       "      <td>...</td>\n",
       "      <td>...</td>\n",
       "      <td>...</td>\n",
       "      <td>...</td>\n",
       "      <td>...</td>\n",
       "      <td>...</td>\n",
       "      <td>...</td>\n",
       "      <td>...</td>\n",
       "      <td>...</td>\n",
       "      <td>...</td>\n",
       "      <td>...</td>\n",
       "      <td>...</td>\n",
       "      <td>...</td>\n",
       "      <td>...</td>\n",
       "      <td>...</td>\n",
       "      <td>...</td>\n",
       "      <td>...</td>\n",
       "      <td>...</td>\n",
       "      <td>...</td>\n",
       "    </tr>\n",
       "    <tr>\n",
       "      <th>14094</th>\n",
       "      <td>2019-11-14</td>\n",
       "      <td>28</td>\n",
       "      <td>-9</td>\n",
       "      <td>15</td>\n",
       "      <td>-6</td>\n",
       "      <td>22</td>\n",
       "      <td>0.0</td>\n",
       "      <td>8.7</td>\n",
       "      <td>2</td>\n",
       "      <td>MSP</td>\n",
       "      <td>...</td>\n",
       "      <td>20</td>\n",
       "      <td>-19</td>\n",
       "      <td>-2</td>\n",
       "      <td>2</td>\n",
       "      <td>sunny</td>\n",
       "      <td>sunny</td>\n",
       "      <td>2019</td>\n",
       "      <td>11</td>\n",
       "      <td>14</td>\n",
       "      <td>3</td>\n",
       "    </tr>\n",
       "    <tr>\n",
       "      <th>14095</th>\n",
       "      <td>2019-11-15</td>\n",
       "      <td>25</td>\n",
       "      <td>-9</td>\n",
       "      <td>16</td>\n",
       "      <td>-6</td>\n",
       "      <td>22</td>\n",
       "      <td>0.0</td>\n",
       "      <td>8.7</td>\n",
       "      <td>2</td>\n",
       "      <td>MSP</td>\n",
       "      <td>...</td>\n",
       "      <td>13</td>\n",
       "      <td>-17</td>\n",
       "      <td>2</td>\n",
       "      <td>2</td>\n",
       "      <td>sunny</td>\n",
       "      <td>sunny</td>\n",
       "      <td>2019</td>\n",
       "      <td>11</td>\n",
       "      <td>15</td>\n",
       "      <td>4</td>\n",
       "    </tr>\n",
       "    <tr>\n",
       "      <th>14096</th>\n",
       "      <td>2019-11-16</td>\n",
       "      <td>6</td>\n",
       "      <td>-22</td>\n",
       "      <td>-8</td>\n",
       "      <td>-17</td>\n",
       "      <td>2</td>\n",
       "      <td>0.3</td>\n",
       "      <td>7.0</td>\n",
       "      <td>1</td>\n",
       "      <td>MSP</td>\n",
       "      <td>...</td>\n",
       "      <td>10</td>\n",
       "      <td>-14</td>\n",
       "      <td>7</td>\n",
       "      <td>2</td>\n",
       "      <td>sunny</td>\n",
       "      <td>sunny</td>\n",
       "      <td>2019</td>\n",
       "      <td>11</td>\n",
       "      <td>16</td>\n",
       "      <td>5</td>\n",
       "    </tr>\n",
       "    <tr>\n",
       "      <th>14097</th>\n",
       "      <td>2019-11-17</td>\n",
       "      <td>13</td>\n",
       "      <td>-20</td>\n",
       "      <td>-3</td>\n",
       "      <td>-14</td>\n",
       "      <td>7</td>\n",
       "      <td>0.0</td>\n",
       "      <td>3.6</td>\n",
       "      <td>1</td>\n",
       "      <td>MSP</td>\n",
       "      <td>...</td>\n",
       "      <td>19</td>\n",
       "      <td>-13</td>\n",
       "      <td>9</td>\n",
       "      <td>2</td>\n",
       "      <td>partly cloudy</td>\n",
       "      <td>cloudy</td>\n",
       "      <td>2019</td>\n",
       "      <td>11</td>\n",
       "      <td>17</td>\n",
       "      <td>6</td>\n",
       "    </tr>\n",
       "    <tr>\n",
       "      <th>14098</th>\n",
       "      <td>2019-11-18</td>\n",
       "      <td>23</td>\n",
       "      <td>-17</td>\n",
       "      <td>2</td>\n",
       "      <td>-7</td>\n",
       "      <td>19</td>\n",
       "      <td>0.0</td>\n",
       "      <td>8.7</td>\n",
       "      <td>2</td>\n",
       "      <td>MSP</td>\n",
       "      <td>...</td>\n",
       "      <td>15</td>\n",
       "      <td>-12</td>\n",
       "      <td>11</td>\n",
       "      <td>2</td>\n",
       "      <td>partly cloudy</td>\n",
       "      <td>cloudy</td>\n",
       "      <td>2019</td>\n",
       "      <td>11</td>\n",
       "      <td>18</td>\n",
       "      <td>0</td>\n",
       "    </tr>\n",
       "  </tbody>\n",
       "</table>\n",
       "<p>14099 rows × 44 columns</p>\n",
       "</div>"
      ],
      "text/plain": [
       "          fl_date  maxtempF  mintempC  mintempF  avgtempC  avgtempF  \\\n",
       "0      2018-01-01        28        -8        18        -5        23   \n",
       "1      2018-01-02        22       -11        13        -8        18   \n",
       "2      2018-01-03        17       -12        11       -10        15   \n",
       "3      2018-01-04        20       -11        12        -9        16   \n",
       "4      2018-01-05        17       -12        10       -10        14   \n",
       "...           ...       ...       ...       ...       ...       ...   \n",
       "14094  2019-11-14        28        -9        15        -6        22   \n",
       "14095  2019-11-15        25        -9        16        -6        22   \n",
       "14096  2019-11-16         6       -22        -8       -17         2   \n",
       "14097  2019-11-17        13       -20        -3       -14         7   \n",
       "14098  2019-11-18        23       -17         2        -7        19   \n",
       "\n",
       "       totalSnow_cm  sunHour  uvIndex_x origin  ...  WindGustKmph  FeelsLikeC  \\\n",
       "0               0.0      8.7          2    ORD  ...            16          -9   \n",
       "1               0.0      8.7          2    ORD  ...             6         -10   \n",
       "2               0.0      8.7          2    ORD  ...             6         -11   \n",
       "3               0.0      8.7          2    ORD  ...            17         -14   \n",
       "4               0.0      8.7          2    ORD  ...            14         -14   \n",
       "...             ...      ...        ...    ...  ...           ...         ...   \n",
       "14094           0.0      8.7          2    MSP  ...            20         -19   \n",
       "14095           0.0      8.7          2    MSP  ...            13         -17   \n",
       "14096           0.3      7.0          1    MSP  ...            10         -14   \n",
       "14097           0.0      3.6          1    MSP  ...            19         -13   \n",
       "14098           0.0      8.7          2    MSP  ...            15         -12   \n",
       "\n",
       "       FeelsLikeF  uvIndex_y          value  weather_type  year month  day  \\\n",
       "0              15          2          sunny         sunny  2018     1    1   \n",
       "1              15          2          sunny         sunny  2018     1    2   \n",
       "2              12          2  partly cloudy        cloudy  2018     1    3   \n",
       "3               7          2          sunny         sunny  2018     1    4   \n",
       "4               6          2          sunny         sunny  2018     1    5   \n",
       "...           ...        ...            ...           ...   ...   ...  ...   \n",
       "14094          -2          2          sunny         sunny  2019    11   14   \n",
       "14095           2          2          sunny         sunny  2019    11   15   \n",
       "14096           7          2          sunny         sunny  2019    11   16   \n",
       "14097           9          2  partly cloudy        cloudy  2019    11   17   \n",
       "14098          11          2  partly cloudy        cloudy  2019    11   18   \n",
       "\n",
       "       weekday  \n",
       "0            0  \n",
       "1            1  \n",
       "2            2  \n",
       "3            3  \n",
       "4            4  \n",
       "...        ...  \n",
       "14094        3  \n",
       "14095        4  \n",
       "14096        5  \n",
       "14097        6  \n",
       "14098        0  \n",
       "\n",
       "[14099 rows x 44 columns]"
      ]
     },
     "execution_count": 91,
     "metadata": {},
     "output_type": "execute_result"
    }
   ],
   "source": [
    "df_weather.rename(columns={'date': 'fl_date', 'airport_code': 'origin'}, inplace=True)\n",
    "df_weather"
   ]
  },
  {
   "cell_type": "code",
   "execution_count": 92,
   "id": "868ba620",
   "metadata": {},
   "outputs": [],
   "source": [
    "df_flight_info = pd.merge(df_flight_info, df_weather[['fl_date','origin','weather_type']],  how='left', left_on=['fl_date','origin'], right_on = ['fl_date','origin'])\n"
   ]
  },
  {
   "cell_type": "code",
   "execution_count": 93,
   "id": "5deb6243",
   "metadata": {},
   "outputs": [
    {
     "data": {
      "text/html": [
       "<div>\n",
       "<style scoped>\n",
       "    .dataframe tbody tr th:only-of-type {\n",
       "        vertical-align: middle;\n",
       "    }\n",
       "\n",
       "    .dataframe tbody tr th {\n",
       "        vertical-align: top;\n",
       "    }\n",
       "\n",
       "    .dataframe thead th {\n",
       "        text-align: right;\n",
       "    }\n",
       "</style>\n",
       "<table border=\"1\" class=\"dataframe\">\n",
       "  <thead>\n",
       "    <tr style=\"text-align: right;\">\n",
       "      <th></th>\n",
       "      <th>fl_date</th>\n",
       "      <th>mkt_unique_carrier</th>\n",
       "      <th>op_unique_carrier</th>\n",
       "      <th>op_carrier_fl_num</th>\n",
       "      <th>origin</th>\n",
       "      <th>crs_dep_time</th>\n",
       "      <th>dep_time</th>\n",
       "      <th>dep_delay</th>\n",
       "      <th>dest</th>\n",
       "      <th>arr_time</th>\n",
       "      <th>...</th>\n",
       "      <th>carrier_delay</th>\n",
       "      <th>weather_delay</th>\n",
       "      <th>nas_delay</th>\n",
       "      <th>security_delay</th>\n",
       "      <th>late_aircraft_delay</th>\n",
       "      <th>year</th>\n",
       "      <th>month</th>\n",
       "      <th>day</th>\n",
       "      <th>weekday</th>\n",
       "      <th>weather_type</th>\n",
       "    </tr>\n",
       "  </thead>\n",
       "  <tbody>\n",
       "    <tr>\n",
       "      <th>0</th>\n",
       "      <td>2018-07-19</td>\n",
       "      <td>AA</td>\n",
       "      <td>AA</td>\n",
       "      <td>1046</td>\n",
       "      <td>LAX</td>\n",
       "      <td>1120</td>\n",
       "      <td>1129.0</td>\n",
       "      <td>9.0</td>\n",
       "      <td>MSY</td>\n",
       "      <td>1721.0</td>\n",
       "      <td>...</td>\n",
       "      <td>0.0</td>\n",
       "      <td>0.0</td>\n",
       "      <td>0.0</td>\n",
       "      <td>0.0</td>\n",
       "      <td>0.0</td>\n",
       "      <td>2018</td>\n",
       "      <td>7</td>\n",
       "      <td>19</td>\n",
       "      <td>0.0</td>\n",
       "      <td>NaN</td>\n",
       "    </tr>\n",
       "    <tr>\n",
       "      <th>1</th>\n",
       "      <td>2019-06-26</td>\n",
       "      <td>DL</td>\n",
       "      <td>DL</td>\n",
       "      <td>2697</td>\n",
       "      <td>ATL</td>\n",
       "      <td>1737</td>\n",
       "      <td>1901.0</td>\n",
       "      <td>84.0</td>\n",
       "      <td>SFO</td>\n",
       "      <td>2113.0</td>\n",
       "      <td>...</td>\n",
       "      <td>79.0</td>\n",
       "      <td>0.0</td>\n",
       "      <td>0.0</td>\n",
       "      <td>0.0</td>\n",
       "      <td>5.0</td>\n",
       "      <td>2019</td>\n",
       "      <td>6</td>\n",
       "      <td>26</td>\n",
       "      <td>0.0</td>\n",
       "      <td>cloudy</td>\n",
       "    </tr>\n",
       "    <tr>\n",
       "      <th>2</th>\n",
       "      <td>2019-06-14</td>\n",
       "      <td>AA</td>\n",
       "      <td>AA</td>\n",
       "      <td>2109</td>\n",
       "      <td>CLT</td>\n",
       "      <td>2235</td>\n",
       "      <td>2231.0</td>\n",
       "      <td>-4.0</td>\n",
       "      <td>CLE</td>\n",
       "      <td>2354.0</td>\n",
       "      <td>...</td>\n",
       "      <td>0.0</td>\n",
       "      <td>0.0</td>\n",
       "      <td>0.0</td>\n",
       "      <td>0.0</td>\n",
       "      <td>0.0</td>\n",
       "      <td>2019</td>\n",
       "      <td>6</td>\n",
       "      <td>14</td>\n",
       "      <td>0.0</td>\n",
       "      <td>rain</td>\n",
       "    </tr>\n",
       "    <tr>\n",
       "      <th>3</th>\n",
       "      <td>2019-12-04</td>\n",
       "      <td>DL</td>\n",
       "      <td>DL</td>\n",
       "      <td>329</td>\n",
       "      <td>ATL</td>\n",
       "      <td>822</td>\n",
       "      <td>822.0</td>\n",
       "      <td>0.0</td>\n",
       "      <td>DAY</td>\n",
       "      <td>1014.0</td>\n",
       "      <td>...</td>\n",
       "      <td>0.0</td>\n",
       "      <td>0.0</td>\n",
       "      <td>20.0</td>\n",
       "      <td>0.0</td>\n",
       "      <td>0.0</td>\n",
       "      <td>2019</td>\n",
       "      <td>12</td>\n",
       "      <td>4</td>\n",
       "      <td>0.0</td>\n",
       "      <td>sunny</td>\n",
       "    </tr>\n",
       "    <tr>\n",
       "      <th>4</th>\n",
       "      <td>2018-03-28</td>\n",
       "      <td>AA</td>\n",
       "      <td>AA</td>\n",
       "      <td>1435</td>\n",
       "      <td>EWR</td>\n",
       "      <td>1615</td>\n",
       "      <td>1721.0</td>\n",
       "      <td>66.0</td>\n",
       "      <td>PHX</td>\n",
       "      <td>2012.0</td>\n",
       "      <td>...</td>\n",
       "      <td>6.0</td>\n",
       "      <td>0.0</td>\n",
       "      <td>9.0</td>\n",
       "      <td>0.0</td>\n",
       "      <td>60.0</td>\n",
       "      <td>2018</td>\n",
       "      <td>3</td>\n",
       "      <td>28</td>\n",
       "      <td>0.0</td>\n",
       "      <td>cloudy</td>\n",
       "    </tr>\n",
       "  </tbody>\n",
       "</table>\n",
       "<p>5 rows × 25 columns</p>\n",
       "</div>"
      ],
      "text/plain": [
       "      fl_date mkt_unique_carrier op_unique_carrier  op_carrier_fl_num origin  \\\n",
       "0  2018-07-19                 AA                AA               1046    LAX   \n",
       "1  2019-06-26                 DL                DL               2697    ATL   \n",
       "2  2019-06-14                 AA                AA               2109    CLT   \n",
       "3  2019-12-04                 DL                DL                329    ATL   \n",
       "4  2018-03-28                 AA                AA               1435    EWR   \n",
       "\n",
       "   crs_dep_time  dep_time  dep_delay dest  arr_time  ...  carrier_delay  \\\n",
       "0          1120    1129.0        9.0  MSY    1721.0  ...            0.0   \n",
       "1          1737    1901.0       84.0  SFO    2113.0  ...           79.0   \n",
       "2          2235    2231.0       -4.0  CLE    2354.0  ...            0.0   \n",
       "3           822     822.0        0.0  DAY    1014.0  ...            0.0   \n",
       "4          1615    1721.0       66.0  PHX    2012.0  ...            6.0   \n",
       "\n",
       "   weather_delay  nas_delay  security_delay  late_aircraft_delay  year  month  \\\n",
       "0            0.0        0.0             0.0                  0.0  2018      7   \n",
       "1            0.0        0.0             0.0                  5.0  2019      6   \n",
       "2            0.0        0.0             0.0                  0.0  2019      6   \n",
       "3            0.0       20.0             0.0                  0.0  2019     12   \n",
       "4            0.0        9.0             0.0                 60.0  2018      3   \n",
       "\n",
       "   day  weekday  weather_type  \n",
       "0   19      0.0           NaN  \n",
       "1   26      0.0        cloudy  \n",
       "2   14      0.0          rain  \n",
       "3    4      0.0         sunny  \n",
       "4   28      0.0        cloudy  \n",
       "\n",
       "[5 rows x 25 columns]"
      ]
     },
     "execution_count": 93,
     "metadata": {},
     "output_type": "execute_result"
    }
   ],
   "source": [
    "df_flight_info.head()"
   ]
  },
  {
   "cell_type": "code",
   "execution_count": 94,
   "id": "46e5b727",
   "metadata": {},
   "outputs": [],
   "source": [
    "# Finding average route times\n",
    "df_flight_info['flight_number'] = df_flight_info['op_unique_carrier'] + df_flight_info['op_carrier_fl_num'].astype(str)\n",
    "route_time_grouped = df_flight_info.groupby(by='flight_number').mean()\n",
    "route_time_grouped.reset_index(inplace=True)\n",
    "route_time_grouped['average_route_time'] = route_time_grouped['actual_elapsed_time']\n",
    "route_time_grouped = route_time_grouped[['flight_number','average_route_time']]"
   ]
  },
  {
   "cell_type": "code",
   "execution_count": 95,
   "id": "2eb05aa2",
   "metadata": {},
   "outputs": [],
   "source": [
    "# Getting Average Carrier Delay - Grouped by Carrier\n",
    "carrier_grouped = df_flight_info.groupby(by='op_unique_carrier').mean()\n",
    "carrier_grouped.reset_index(inplace=True)\n",
    "carrier_grouped['total_carrier_delay'] = carrier_grouped['carrier_delay'] + carrier_grouped['late_aircraft_delay']\n",
    "carrier_grouped = carrier_grouped[['op_unique_carrier', 'total_carrier_delay']]\n"
   ]
  },
  {
   "cell_type": "code",
   "execution_count": 96,
   "id": "68d72a44",
   "metadata": {},
   "outputs": [],
   "source": [
    "# Getting Average NAS Delay - Grouped by Flight Number\n",
    "nas_grouped = df_flight_info.groupby(by='flight_number').mean()\n",
    "nas_grouped.reset_index(inplace=True)\n",
    "nas_grouped['total_nas_delay'] = nas_grouped['nas_delay']\n",
    "nas_grouped = nas_grouped[['flight_number', 'total_nas_delay']]\n",
    "\n",
    "# Getting Average Security Delay\n",
    "security_grouped = df_flight_info.groupby(by='origin').mean()\n",
    "security_grouped.reset_index(inplace=True)\n",
    "security_grouped['total_security_delay'] = security_grouped['security_delay']\n",
    "security_grouped = security_grouped[['origin','total_security_delay']]\n",
    "\n",
    "# Getting Average Departure Delays by Route\n",
    "dep_delay_grouped = df_flight_info.groupby(by='flight_number').mean()\n",
    "dep_delay_grouped.reset_index(inplace=True)\n",
    "dep_delay_grouped['total_dep_delay'] = dep_delay_grouped['dep_delay']\n",
    "dep_delay_grouped = dep_delay_grouped[['flight_number','total_dep_delay']]\n",
    "\n",
    "# Getting Average Arrival Delays by Route\n",
    "arr_delay_grouped = df_flight_info.groupby(by='flight_number').mean()\n",
    "arr_delay_grouped.reset_index(inplace=True)\n",
    "arr_delay_grouped['total_arr_delay'] = arr_delay_grouped['arr_delay']\n",
    "arr_delay_grouped = arr_delay_grouped[['flight_number','total_arr_delay']]\n",
    "\n",
    "#Merge averages dataframes with original \n",
    "df_flight_info = df_flight_info.merge(security_grouped, on = 'origin', how = 'outer')\n",
    "df_flight_info = df_flight_info.merge(nas_grouped, on = 'flight_number', how = 'outer')\n",
    "df_flight_info = df_flight_info.merge(route_time_grouped, on = 'flight_number', how = 'outer')\n",
    "df_flight_info = df_flight_info.merge(dep_delay_grouped, on = 'flight_number', how = 'outer')\n",
    "df_flight_info = df_flight_info.merge(arr_delay_grouped, on = 'flight_number', how = 'outer')\n",
    "df_flight_info = df_flight_info.merge(carrier_grouped, on = 'op_unique_carrier', how = 'outer')"
   ]
  },
  {
   "cell_type": "markdown",
   "id": "54957203",
   "metadata": {},
   "source": [
    "## Model Training"
   ]
  },
  {
   "cell_type": "code",
   "execution_count": 97,
   "id": "7e48ab42",
   "metadata": {},
   "outputs": [],
   "source": [
    "from sklearn.ensemble import RandomForestRegressor\n",
    "from sklearn.metrics import roc_auc_score\n",
    "from sklearn.metrics import confusion_matrix\n",
    "from sklearn.metrics import mean_squared_error\n",
    "from sklearn.linear_model import LinearRegression\n",
    "from sklearn.preprocessing import StandardScaler\n",
    "from sklearn.naive_bayes import GaussianNB\n",
    "from sklearn.metrics import accuracy_score, recall_score, precision_score, r2_score, f1_score\n",
    "import xgboost as xgb\n",
    "from sklearn.linear_model import LogisticRegression\n",
    "from sklearn.dummy import DummyRegressor\n",
    "from sklearn.cluster import KMeans\n",
    "from sklearn.model_selection import GridSearchCV\n",
    "from sklearn.preprocessing import OneHotEncoder, LabelEncoder\n",
    "from sklearn.linear_model import Ridge, LinearRegression, Lasso\n",
    "from sklearn.preprocessing import PolynomialFeatures\n",
    "from sklearn.utils import shuffle\n",
    "from sklearn.model_selection import KFold\n",
    "from sklearn.model_selection import cross_val_score"
   ]
  },
  {
   "cell_type": "code",
   "execution_count": 98,
   "id": "afe270a6",
   "metadata": {},
   "outputs": [],
   "source": [
    "# encoding df_flight_info \n",
    "df_flight_info[\"weather_type\"] = df_flight_info[\"weather_type\"].astype('category').cat.codes\n",
    "df_flight_info[\"flight_number\"] = df_flight_info[\"flight_number\"].astype('category').cat.codes"
   ]
  },
  {
   "cell_type": "code",
   "execution_count": 99,
   "id": "642e74ca",
   "metadata": {},
   "outputs": [
    {
     "data": {
      "text/plain": [
       "dtype('int16')"
      ]
     },
     "execution_count": 99,
     "metadata": {},
     "output_type": "execute_result"
    }
   ],
   "source": [
    "df_flight_info['flight_number'].dtype"
   ]
  },
  {
   "cell_type": "markdown",
   "id": "c8587b68",
   "metadata": {},
   "source": [
    "### Adding Weather Type"
   ]
  },
  {
   "cell_type": "code",
   "execution_count": 100,
   "id": "b8e73c29",
   "metadata": {},
   "outputs": [],
   "source": [
    "df_flight_info = shuffle(df_flight_info)\n",
    "X = df_flight_info[['crs_dep_time','flight_number','crs_elapsed_time','average_route_time','crs_arr_time','distance','year','month','day','weekday','total_carrier_delay', 'total_security_delay','total_nas_delay','total_dep_delay','total_arr_delay','weather_type']]\n",
    "y = df_flight_info['arr_delay']"
   ]
  },
  {
   "cell_type": "code",
   "execution_count": 101,
   "id": "f7083582",
   "metadata": {},
   "outputs": [],
   "source": [
    "# Split dataset into training set and test set\n",
    "X_train, X_test, y_train, y_test = train_test_split(X, y, test_size=0.3) # 70% training and 30% test"
   ]
  },
  {
   "cell_type": "markdown",
   "id": "e225d2c7",
   "metadata": {},
   "source": [
    "##### LightGBM"
   ]
  },
  {
   "cell_type": "code",
   "execution_count": 102,
   "id": "b6ed3ad0",
   "metadata": {},
   "outputs": [
    {
     "name": "stdout",
     "output_type": "stream",
     "text": [
      "[LightGBM] [Warning] Auto-choosing row-wise multi-threading, the overhead of testing was 0.004614 seconds.\n",
      "You can set `force_row_wise=true` to remove the overhead.\n",
      "And if memory is not enough, you can set `force_col_wise=true`.\n",
      "[LightGBM] [Info] Total Bins 2392\n",
      "[LightGBM] [Info] Number of data points in the train set: 362741, number of used features: 16\n",
      "[LightGBM] [Info] Start training from score 5.496156\n",
      "Model RMSE is:  41.07169710555779\n",
      "Model R2 Score is:  0.11537075022297183\n"
     ]
    }
   ],
   "source": [
    "import lightgbm as lgb\n",
    "d_train = lgb.Dataset(X_train, label=y_train)\n",
    "params = {}\n",
    "params['learning_rate'] = 0.08\n",
    "params['boosting_type'] = 'gbdt'\n",
    "#params['boosting_type'] = 'dart'\n",
    "params['objective'] = 'regression'\n",
    "params['metric'] = 'mse'\n",
    "params['sub_feature'] = 0.5\n",
    "params['num_leaves'] = 100\n",
    "params['min_data'] = 5\n",
    "params['max_depth'] = 100\n",
    "y_train=y_train.ravel()\n",
    "reg= lgb.train(params, d_train, 100)\n",
    "results=reg.predict(X_test)\n",
    "print('Model RMSE is: ',np.sqrt(mean_squared_error(y_test, results)))\n",
    "print('Model R2 Score is: ',r2_score(y_test,results))"
   ]
  },
  {
   "cell_type": "code",
   "execution_count": 103,
   "id": "7579be26",
   "metadata": {},
   "outputs": [
    {
     "name": "stdout",
     "output_type": "stream",
     "text": [
      "[LightGBM] [Warning] Auto-choosing row-wise multi-threading, the overhead of testing was 0.003756 seconds.\n",
      "You can set `force_row_wise=true` to remove the overhead.\n",
      "And if memory is not enough, you can set `force_col_wise=true`.\n",
      "[LightGBM] [Info] Total Bins 2392\n",
      "[LightGBM] [Info] Number of data points in the train set: 241826, number of used features: 16\n",
      "[LightGBM] [Warning] Auto-choosing row-wise multi-threading, the overhead of testing was 0.003556 seconds.\n",
      "You can set `force_row_wise=true` to remove the overhead.\n",
      "And if memory is not enough, you can set `force_col_wise=true`.\n",
      "[LightGBM] [Info] Total Bins 2392\n",
      "[LightGBM] [Info] Number of data points in the train set: 241826, number of used features: 16\n",
      "[LightGBM] [Warning] Auto-choosing row-wise multi-threading, the overhead of testing was 0.003239 seconds.\n",
      "You can set `force_row_wise=true` to remove the overhead.\n",
      "And if memory is not enough, you can set `force_col_wise=true`.\n",
      "[LightGBM] [Info] Total Bins 2392\n",
      "[LightGBM] [Info] Number of data points in the train set: 241826, number of used features: 16\n",
      "[LightGBM] [Info] Start training from score 5.608003\n",
      "[LightGBM] [Info] Start training from score 5.483749\n",
      "[LightGBM] [Info] Start training from score 5.397071\n",
      "Current parameters:\n",
      " {'learning_rate': 0.08, 'boosting_type': 'gbdt', 'objective': 'regression', 'metric': 'mse', 'sub_feature': 0.5, 'num_leaves': 100, 'min_data': 5, 'max_depth': 100}\n",
      "\n",
      "Best num_boost_round: 100\n",
      "LightGBM Model Cross-validation MAE is: 22.831308110647324\n"
     ]
    }
   ],
   "source": [
    "# Cross-validate\n",
    "cv_results = lgb.cv(\n",
    "        params,\n",
    "        d_train,\n",
    "        num_boost_round=100,\n",
    "        nfold=3,\n",
    "        metrics='mae',\n",
    "        early_stopping_rounds=10,\n",
    "\n",
    "        stratified=False\n",
    "        )\n",
    "# Display results\n",
    "print('Current parameters:\\n', params)\n",
    "print('\\nBest num_boost_round:', len(cv_results['l1-mean']))\n",
    "print('LightGBM Model Cross-validation MAE is:', cv_results['l1-mean'][-1])"
   ]
  },
  {
   "cell_type": "markdown",
   "id": "487eea27",
   "metadata": {},
   "source": [
    "##### XGBoost"
   ]
  },
  {
   "cell_type": "code",
   "execution_count": 104,
   "id": "6a180ca0",
   "metadata": {},
   "outputs": [
    {
     "name": "stdout",
     "output_type": "stream",
     "text": [
      "Model RMSE is:  42.4372345915316\n",
      "Model R2 Score is:  0.055569184816397166\n"
     ]
    }
   ],
   "source": [
    "data_dmatrix = xgb.DMatrix(data=X,label=y)\n",
    "xg_reg = xgb.XGBRegressor(objective ='reg:squarederror', colsample_bytree = 0.3, learning_rate = 0.1,\n",
    "                max_depth = 5, alpha = 10, n_estimators = 10)\n",
    "xg_reg.fit(X_test,y_test)\n",
    "\n",
    "y_pred_xgb = xg_reg.predict(X_test)\n",
    "\n",
    "print('Model RMSE is: ',np.sqrt(mean_squared_error(y_test, y_pred_xgb)))\n",
    "print('Model R2 Score is: ',r2_score(y_test,y_pred_xgb))"
   ]
  },
  {
   "cell_type": "code",
   "execution_count": 105,
   "id": "2154fb9b",
   "metadata": {},
   "outputs": [
    {
     "data": {
      "image/png": "[encoded data removed]",
      "text/plain": [
       "<Figure size 432x288 with 1 Axes>"
      ]
     },
     "metadata": {
      "needs_background": "light"
     },
     "output_type": "display_data"
    }
   ],
   "source": [
    "#Examine the importance of each feature column in the original data set with the model\n",
    "xgb.plot_importance(xg_reg)\n",
    "plt.rcParams['figure.figsize'] = [50, 50]\n",
    "plt.show()"
   ]
  },
  {
   "cell_type": "code",
   "execution_count": 106,
   "id": "e06c98bc",
   "metadata": {},
   "outputs": [
    {
     "name": "stdout",
     "output_type": "stream",
     "text": [
      "XGBoost Model Cross-validation MAE is:  0    22.478477\n",
      "Name: test-mae-mean, dtype: float64\n"
     ]
    }
   ],
   "source": [
    "params = {'objective':'reg:squarederror', 'colsample_bytree' : 0.3, 'learning_rate' : 0.1,\n",
    "                'max_depth' : 5, 'alpha' : 10}\n",
    "cv_results = xgb.cv(dtrain=data_dmatrix, params=params, nfold=3,\n",
    "                    num_boost_round=50,early_stopping_rounds=10,metrics=\"mae\", as_pandas=True, seed=123)\n",
    "\n",
    "print('XGBoost Model Cross-validation MAE is: ',(cv_results[\"test-mae-mean\"]).tail(1))"
   ]
  },
  {
   "cell_type": "markdown",
   "id": "56784d7d",
   "metadata": {},
   "source": [
    "##### Linear Regression"
   ]
  },
  {
   "cell_type": "code",
   "execution_count": 107,
   "id": "87d662cc",
   "metadata": {},
   "outputs": [
    {
     "name": "stdout",
     "output_type": "stream",
     "text": [
      "Model RMSE is:  41.54749260899993\n",
      "Model R2 Score is:  0.08886506686509799\n"
     ]
    }
   ],
   "source": [
    "from sklearn.preprocessing import StandardScaler\n",
    "scaler = StandardScaler()\n",
    "X=scaler.fit_transform(X)\n",
    "\n",
    "# Split dataset into training set and test set\n",
    "X_train, X_test, y_train, y_test = train_test_split(X, y, test_size=0.3) # 70% training and 30% test\n",
    "\n",
    "# creating linear regression\n",
    "lr = LinearRegression()\n",
    "lr.fit(X_train,y_train)\n",
    "y_lr = lr.predict(X_test)\n",
    "\n",
    "print('Model RMSE is: ',np.sqrt(mean_squared_error(y_test, y_lr)))\n",
    "print('Model R2 Score is: ',r2_score(y_test,y_lr))"
   ]
  },
  {
   "cell_type": "code",
   "execution_count": 108,
   "id": "6c6058b1",
   "metadata": {},
   "outputs": [
    {
     "name": "stdout",
     "output_type": "stream",
     "text": [
      "Linear Model Cross-validation MAE is:  23.324872655083944\n"
     ]
    }
   ],
   "source": [
    "from numpy import mean\n",
    "from numpy import absolute\n",
    "\n",
    "#define cross-validation method to use\n",
    "cv = KFold(n_splits=10, random_state=1, shuffle=True)\n",
    "\n",
    "#build multiple linear regression model\n",
    "model = lr\n",
    "\n",
    "#use k-fold CV to evaluate model\n",
    "scores = cross_val_score(model, X_test, y_test, scoring='neg_mean_absolute_error',\n",
    "                         cv=cv, n_jobs=-1)\n",
    "\n",
    "#view mean absolute error\n",
    "print('Linear Model Cross-validation MAE is: ',mean(absolute(scores)))"
   ]
  },
  {
   "cell_type": "markdown",
   "id": "d267339e",
   "metadata": {},
   "source": [
    "##### Ridge/Lasso Regression"
   ]
  },
  {
   "cell_type": "code",
   "execution_count": 109,
   "id": "11a65ecc",
   "metadata": {},
   "outputs": [
    {
     "name": "stdout",
     "output_type": "stream",
     "text": [
      "Model RMSE is:  41.54736163105794\n",
      "Model R2 Score is:  0.08887081153861842\n",
      "Model RMSE is:  41.57210453918043\n",
      "Model R2 Score is:  0.0877852697482927\n"
     ]
    }
   ],
   "source": [
    "ridgereg = Ridge(alpha=0.001,normalize=True)\n",
    "ridge = ridgereg.fit(X_train,y_train)\n",
    "y_pred_ridge = ridge.predict(X_test)\n",
    "print('Model RMSE is: ',np.sqrt(mean_squared_error(y_test, y_pred_ridge)))\n",
    "print('Model R2 Score is: ',r2_score(y_test,y_pred_ridge))\n",
    "\n",
    "lassoreg = Lasso(alpha=0.001,normalize=True)\n",
    "lasso = lassoreg.fit(X_train,y_train)\n",
    "y_pred_lasso = lasso.predict(X_test)\n",
    "print('Model RMSE is: ',np.sqrt(mean_squared_error(y_test, y_pred_lasso)))\n",
    "print('Model R2 Score is: ',r2_score(y_test,y_pred_lasso))"
   ]
  },
  {
   "cell_type": "code",
   "execution_count": 110,
   "id": "a5fdc586",
   "metadata": {},
   "outputs": [
    {
     "name": "stdout",
     "output_type": "stream",
     "text": [
      "Ridge Model Cross-validation MAE is:  23.324655645808992\n",
      "Lasso Model Cross-validation MAE is:  23.29291851218689\n"
     ]
    }
   ],
   "source": [
    "#define cross-validation method to use\n",
    "cv = KFold(n_splits=10, random_state=1, shuffle=True)\n",
    "\n",
    "#build multiple ridge regression model\n",
    "model = ridgereg\n",
    "\n",
    "#use k-fold CV to evaluate model\n",
    "scores = cross_val_score(model, X_test, y_test, scoring='neg_mean_absolute_error',\n",
    "                         cv=cv, n_jobs=-1)\n",
    "\n",
    "#view mean absolute error\n",
    "print('Ridge Model Cross-validation MAE is: ',mean(absolute(scores)))\n",
    "\n",
    "#build multiple lassp regression model\n",
    "model = lassoreg\n",
    "\n",
    "#use k-fold CV to evaluate model\n",
    "scores = cross_val_score(model, X_test, y_test, scoring='neg_mean_absolute_error',\n",
    "                         cv=cv, n_jobs=-1)\n",
    "\n",
    "#view mean absolute error\n",
    "print('Lasso Model Cross-validation MAE is: ',mean(absolute(scores)))"
   ]
  },
  {
   "cell_type": "code",
   "execution_count": null,
   "id": "29c95d47",
   "metadata": {},
   "outputs": [],
   "source": []
  }
 ],
 "metadata": {
  "kernelspec": {
   "display_name": "LighthouseLabs",
   "language": "python",
   "name": "lighthouselabs"
  },
  "language_info": {
   "codemirror_mode": {
    "name": "ipython",
    "version": 3
   },
   "file_extension": ".py",
   "mimetype": "text/x-python",
   "name": "python",
   "nbconvert_exporter": "python",
   "pygments_lexer": "ipython3",
   "version": "3.8.2"
  }
 },
 "nbformat": 4,
 "nbformat_minor": 5
}
