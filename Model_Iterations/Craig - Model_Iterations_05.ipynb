{
 "cells": [
  {
   "cell_type": "markdown",
   "id": "3a2c9b6d",
   "metadata": {},
   "source": [
    "# Optimizing Model - Parameter Optimization for LightGBM"
   ]
  },
  {
   "cell_type": "code",
   "execution_count": 1,
   "id": "8abd41f6",
   "metadata": {},
   "outputs": [],
   "source": [
    "import pandas as pd\n",
    "import numpy as np\n",
    "import psycopg2\n",
    "import matplotlib.pyplot as plt\n",
    "import seaborn as sns\n",
    "%matplotlib inline\n",
    "import datetime\n",
    "from scipy import stats\n",
    "from sklearn.model_selection import train_test_split"
   ]
  },
  {
   "cell_type": "code",
   "execution_count": 2,
   "id": "0515bfae",
   "metadata": {},
   "outputs": [],
   "source": [
    "data_flight_info = pd.read_csv('/Users/craiglynch/Desktop/Lighthouse_Labs/Mid-term_Project/mid-term-project-I-master/Regression_no_outliers_cleaned_data_01.csv', sep = ',')"
   ]
  },
  {
   "cell_type": "code",
   "execution_count": 3,
   "id": "8467b091",
   "metadata": {},
   "outputs": [
    {
     "data": {
      "text/plain": [
       "(578888, 24)"
      ]
     },
     "execution_count": 3,
     "metadata": {},
     "output_type": "execute_result"
    }
   ],
   "source": [
    "data_flight_info.shape"
   ]
  },
  {
   "cell_type": "code",
   "execution_count": 4,
   "id": "f3da1a71",
   "metadata": {},
   "outputs": [],
   "source": [
    "data_weather = pd.read_csv('/Users/craiglynch/Desktop/Lighthouse_Labs/Mid-term_Project/mid-term-project-I-master/weather.csv', sep = ',')"
   ]
  },
  {
   "cell_type": "code",
   "execution_count": 5,
   "id": "39d870cf",
   "metadata": {},
   "outputs": [
    {
     "data": {
      "text/plain": [
       "(14099, 39)"
      ]
     },
     "execution_count": 5,
     "metadata": {},
     "output_type": "execute_result"
    }
   ],
   "source": [
    "data_weather.shape"
   ]
  },
  {
   "cell_type": "code",
   "execution_count": 6,
   "id": "8c279094",
   "metadata": {},
   "outputs": [],
   "source": [
    "df_flight_info = data_flight_info.copy()\n",
    "df_weather = data_weather.copy()"
   ]
  },
  {
   "cell_type": "code",
   "execution_count": 7,
   "id": "688b423e",
   "metadata": {},
   "outputs": [
    {
     "data": {
      "text/plain": [
       "ATL    59064\n",
       "ORD    58664\n",
       "DFW    43987\n",
       "DEN    41728\n",
       "CLT    37849\n",
       "LAX    37708\n",
       "SEA    29061\n",
       "PHX    27108\n",
       "SFO    27099\n",
       "IAH    26839\n",
       "DTW    26369\n",
       "LGA    25168\n",
       "LAS    25150\n",
       "MSP    24522\n",
       "EWR    23629\n",
       "BOS    22588\n",
       "DCA    21241\n",
       "MCO    21114\n",
       "Name: origin, dtype: int64"
      ]
     },
     "execution_count": 7,
     "metadata": {},
     "output_type": "execute_result"
    }
   ],
   "source": [
    "#Only want top 19 busiest airports\n",
    "airports = ['ORD','ATL','DFW','DEN','LAX','CLT','SEA','SFO','EWR','LGA','PHX','IAH','LAS','BOS','MCO','DTW','PHIL','DCA','MSP']\n",
    "df_flight_info = df_flight_info[df_flight_info['origin'].isin(airports)]\n",
    "df_flight_info.origin.value_counts()"
   ]
  },
  {
   "cell_type": "code",
   "execution_count": 8,
   "id": "ffd9ec3a",
   "metadata": {},
   "outputs": [
    {
     "data": {
      "text/plain": [
       "sunny     5503\n",
       "cloudy    4324\n",
       "rain      2860\n",
       "snow      1412\n",
       "Name: weather_type, dtype: int64"
      ]
     },
     "execution_count": 8,
     "metadata": {},
     "output_type": "execute_result"
    }
   ],
   "source": [
    "df_weather['value'] = df_weather['value'].str.lower()\n",
    "# create a list of our conditions\n",
    "conditions = [\n",
    "    (df_weather['value'].str.contains('sunny')),\n",
    "    (df_weather['value'].str.contains('cloud')),\n",
    "    (df_weather['value'].str.contains('mist')),\n",
    "    (df_weather['value'].str.contains('fog')),\n",
    "    (df_weather['value'].str.contains('overcast')),\n",
    "    (df_weather['value'].str.contains('rain')),\n",
    "    (df_weather['value'].str.contains('drizzle')),\n",
    "    (df_weather['value'].str.contains('thunder')),\n",
    "    (df_weather['value'].str.contains('snow')),\n",
    "    (df_weather['value'].str.contains('sleet')),\n",
    "    (df_weather['value'].str.contains('blizzard')),\n",
    "    ]\n",
    "\n",
    "# create a list of the values we want to assign for each condition\n",
    "values = ['sunny', 'cloudy', 'cloudy','cloudy','cloudy','rain','rain','rain','snow','snow','snow']\n",
    "\n",
    "# create a new column and use np.select to assign values to it using our lists as arguments\n",
    "df_weather['weather_type'] = np.select(conditions, values)\n",
    "df_weather['weather_type'].value_counts()"
   ]
  },
  {
   "cell_type": "code",
   "execution_count": 9,
   "id": "c0bce729",
   "metadata": {},
   "outputs": [
    {
     "data": {
      "text/plain": [
       "14099"
      ]
     },
     "execution_count": 9,
     "metadata": {},
     "output_type": "execute_result"
    }
   ],
   "source": [
    "df_weather['value'].value_counts().sum()"
   ]
  },
  {
   "cell_type": "code",
   "execution_count": 10,
   "id": "9f53ed6d",
   "metadata": {},
   "outputs": [],
   "source": [
    "# Creating year, month, date columns\n",
    "df_weather['year'] = pd.DatetimeIndex(df_weather['date']).year\n",
    "df_weather['month'] = pd.DatetimeIndex(df_weather['date']).month\n",
    "df_weather['day'] = pd.DatetimeIndex(df_weather['date']).day\n",
    "df_weather['weekday'] = ((pd.DatetimeIndex(df_weather['date']).dayofweek))"
   ]
  },
  {
   "cell_type": "markdown",
   "id": "fbc32db9",
   "metadata": {},
   "source": [
    "#### Merging weather data with flight data"
   ]
  },
  {
   "cell_type": "code",
   "execution_count": 11,
   "id": "305b8d54",
   "metadata": {},
   "outputs": [],
   "source": [
    "df_weather.rename(columns={'date': 'fl_date', 'airport_code': 'origin'}, inplace=True)"
   ]
  },
  {
   "cell_type": "code",
   "execution_count": 12,
   "id": "a3be7273",
   "metadata": {},
   "outputs": [],
   "source": [
    "df_flight_info = pd.merge(df_flight_info, df_weather[['fl_date','origin','weather_type']],  how='left', left_on=['fl_date','origin'], right_on = ['fl_date','origin'])\n"
   ]
  },
  {
   "cell_type": "code",
   "execution_count": 13,
   "id": "dd1261b5",
   "metadata": {},
   "outputs": [
    {
     "data": {
      "text/plain": [
       "(632865, 25)"
      ]
     },
     "execution_count": 13,
     "metadata": {},
     "output_type": "execute_result"
    }
   ],
   "source": [
    "df_flight_info.shape"
   ]
  },
  {
   "cell_type": "code",
   "execution_count": 14,
   "id": "e48a3734",
   "metadata": {},
   "outputs": [],
   "source": [
    "# Dropping the small number of null weather types\n",
    "df_flight_info = df_flight_info.dropna()"
   ]
  },
  {
   "cell_type": "code",
   "execution_count": 15,
   "id": "46e5b727",
   "metadata": {},
   "outputs": [],
   "source": [
    "# Finding average route times\n",
    "df_flight_info['flight_number'] = df_flight_info['op_unique_carrier'] + df_flight_info['op_carrier_fl_num'].astype(str)\n",
    "route_time_grouped = df_flight_info.groupby(by='flight_number').mean()\n",
    "route_time_grouped.reset_index(inplace=True)\n",
    "route_time_grouped['average_route_time'] = route_time_grouped['actual_elapsed_time']\n",
    "route_time_grouped = route_time_grouped[['flight_number','average_route_time']]"
   ]
  },
  {
   "cell_type": "code",
   "execution_count": 16,
   "id": "5adce5c7",
   "metadata": {},
   "outputs": [],
   "source": [
    "# Getting Average Carrier Delay - Grouped by Carrier\n",
    "carrier_grouped = df_flight_info.groupby(by='op_unique_carrier').mean()\n",
    "carrier_grouped.reset_index(inplace=True)\n",
    "carrier_grouped['total_carrier_delay'] = carrier_grouped['carrier_delay'] + carrier_grouped['late_aircraft_delay']\n",
    "carrier_grouped = carrier_grouped[['op_unique_carrier', 'total_carrier_delay']]"
   ]
  },
  {
   "cell_type": "code",
   "execution_count": 17,
   "id": "f11055f4",
   "metadata": {},
   "outputs": [],
   "source": [
    "# Getting Average Weather Delay\n",
    "weather_grouped1 = df_flight_info.groupby(by=['origin','month']).mean()\n",
    "weather_grouped1.reset_index(inplace=True)\n",
    "weather_grouped1['total_weather_delay'] = weather_grouped1['weather_delay']\n",
    "weather_grouped1 = weather_grouped1[['origin','total_weather_delay']]"
   ]
  },
  {
   "cell_type": "code",
   "execution_count": 18,
   "id": "68d72a44",
   "metadata": {},
   "outputs": [],
   "source": [
    "# Getting Average NAS Delay - Grouped by Flight Number\n",
    "nas_grouped = df_flight_info.groupby(by='flight_number').mean()\n",
    "nas_grouped.reset_index(inplace=True)\n",
    "nas_grouped['total_nas_delay'] = nas_grouped['nas_delay']\n",
    "nas_grouped = nas_grouped[['flight_number', 'total_nas_delay']]\n",
    "\n",
    "# Getting Average Security Delay\n",
    "security_grouped = df_flight_info.groupby(by='origin').mean()\n",
    "security_grouped.reset_index(inplace=True)\n",
    "security_grouped['total_security_delay'] = security_grouped['security_delay']\n",
    "security_grouped = security_grouped[['origin','total_security_delay']]\n",
    "\n",
    "# Getting Average Departure Delays by Route\n",
    "dep_delay_grouped = df_flight_info.groupby(by='flight_number').mean()\n",
    "dep_delay_grouped.reset_index(inplace=True)\n",
    "dep_delay_grouped['total_dep_delay'] = dep_delay_grouped['dep_delay']\n",
    "dep_delay_grouped = dep_delay_grouped[['flight_number','total_dep_delay']]\n",
    "\n",
    "# Getting Average Arrival Delays by Route\n",
    "arr_delay_grouped = df_flight_info.groupby(by='flight_number').mean()\n",
    "arr_delay_grouped.reset_index(inplace=True)\n",
    "arr_delay_grouped['total_arr_delay'] = arr_delay_grouped['arr_delay']\n",
    "arr_delay_grouped = arr_delay_grouped[['flight_number','total_arr_delay']]\n",
    "\n",
    "#Merge averages dataframes with original \n",
    "df_flight_info = df_flight_info.merge(security_grouped, on = 'origin', how = 'outer')\n",
    "df_flight_info = df_flight_info.merge(nas_grouped, on = 'flight_number', how = 'outer')\n",
    "df_flight_info = df_flight_info.merge(route_time_grouped, on = 'flight_number', how = 'outer')\n",
    "df_flight_info = df_flight_info.merge(dep_delay_grouped, on = 'flight_number', how = 'outer')\n",
    "df_flight_info = df_flight_info.merge(arr_delay_grouped, on = 'flight_number', how = 'outer')\n",
    "df_flight_info = df_flight_info.merge(weather_grouped1, on = 'origin', how = 'outer')\n",
    "df_flight_info = df_flight_info.merge(carrier_grouped, on = 'op_unique_carrier', how = 'outer')"
   ]
  },
  {
   "cell_type": "markdown",
   "id": "54957203",
   "metadata": {},
   "source": [
    "## Model Training"
   ]
  },
  {
   "cell_type": "code",
   "execution_count": 19,
   "id": "77e2d972",
   "metadata": {},
   "outputs": [],
   "source": [
    "#df_flight_info.isnull().sum()"
   ]
  },
  {
   "cell_type": "code",
   "execution_count": 20,
   "id": "7e48ab42",
   "metadata": {},
   "outputs": [],
   "source": [
    "from sklearn.ensemble import RandomForestRegressor\n",
    "from sklearn.metrics import roc_auc_score\n",
    "from sklearn.metrics import confusion_matrix\n",
    "from sklearn.metrics import mean_squared_error\n",
    "from sklearn.linear_model import LinearRegression\n",
    "from sklearn.preprocessing import StandardScaler\n",
    "from sklearn.naive_bayes import GaussianNB\n",
    "from sklearn.metrics import accuracy_score, recall_score, precision_score, r2_score, f1_score\n",
    "import xgboost as xgb\n",
    "from sklearn.linear_model import LogisticRegression\n",
    "from sklearn.dummy import DummyRegressor\n",
    "from sklearn.cluster import KMeans\n",
    "from sklearn.model_selection import GridSearchCV\n",
    "from sklearn.preprocessing import OneHotEncoder, LabelEncoder\n",
    "from sklearn.linear_model import Ridge, LinearRegression, Lasso\n",
    "from sklearn.preprocessing import PolynomialFeatures\n",
    "from sklearn.utils import shuffle"
   ]
  },
  {
   "cell_type": "code",
   "execution_count": 21,
   "id": "afe270a6",
   "metadata": {},
   "outputs": [],
   "source": [
    "# encoding df_flight_info \n",
    "df_flight_info[\"weather_type\"] = df_flight_info[\"weather_type\"].astype('category').cat.codes\n",
    "df_flight_info[\"flight_number\"] = df_flight_info[\"flight_number\"].astype('category').cat.codes"
   ]
  },
  {
   "cell_type": "code",
   "execution_count": 22,
   "id": "60ffd910",
   "metadata": {},
   "outputs": [
    {
     "data": {
      "text/plain": [
       "fl_date                  object\n",
       "mkt_unique_carrier       object\n",
       "op_unique_carrier        object\n",
       "op_carrier_fl_num         int64\n",
       "origin                   object\n",
       "crs_dep_time              int64\n",
       "dep_time                float64\n",
       "dep_delay               float64\n",
       "dest                     object\n",
       "arr_time                float64\n",
       "arr_delay               float64\n",
       "crs_arr_time              int64\n",
       "crs_elapsed_time        float64\n",
       "actual_elapsed_time     float64\n",
       "distance                float64\n",
       "carrier_delay           float64\n",
       "weather_delay           float64\n",
       "nas_delay               float64\n",
       "security_delay          float64\n",
       "late_aircraft_delay     float64\n",
       "year                      int64\n",
       "month                     int64\n",
       "day                       int64\n",
       "weekday                 float64\n",
       "weather_type               int8\n",
       "flight_number             int16\n",
       "total_security_delay    float64\n",
       "total_nas_delay         float64\n",
       "average_route_time      float64\n",
       "total_dep_delay         float64\n",
       "total_arr_delay         float64\n",
       "total_weather_delay     float64\n",
       "total_carrier_delay     float64\n",
       "dtype: object"
      ]
     },
     "execution_count": 22,
     "metadata": {},
     "output_type": "execute_result"
    }
   ],
   "source": [
    "df_flight_info.dtypes"
   ]
  },
  {
   "cell_type": "markdown",
   "id": "de25d4bd",
   "metadata": {},
   "source": [
    "### Adding Total Weather Delay"
   ]
  },
  {
   "cell_type": "code",
   "execution_count": 23,
   "id": "b8e73c29",
   "metadata": {},
   "outputs": [],
   "source": [
    "df_flight_info = shuffle(df_flight_info)\n",
    "X = df_flight_info[['crs_dep_time','flight_number','crs_elapsed_time','average_route_time','crs_arr_time','distance','year','month','day','weekday','total_carrier_delay', 'total_security_delay','total_nas_delay','total_dep_delay','total_arr_delay','weather_type','total_weather_delay']]\n",
    "y = df_flight_info['arr_delay']"
   ]
  },
  {
   "cell_type": "code",
   "execution_count": 24,
   "id": "f7083582",
   "metadata": {},
   "outputs": [],
   "source": [
    "# Split dataset into training set and test set\n",
    "X_train, X_test, y_train, y_test = train_test_split(X, y, test_size=0.3) # 70% training and 30% test"
   ]
  },
  {
   "cell_type": "markdown",
   "id": "957633ec",
   "metadata": {},
   "source": [
    "##### LightGBM"
   ]
  },
  {
   "cell_type": "code",
   "execution_count": 76,
   "id": "b6ed3ad0",
   "metadata": {},
   "outputs": [
    {
     "name": "stdout",
     "output_type": "stream",
     "text": [
      "[LightGBM] [Warning] Auto-choosing row-wise multi-threading, the overhead of testing was 0.079842 seconds.\n",
      "You can set `force_row_wise=true` to remove the overhead.\n",
      "And if memory is not enough, you can set `force_col_wise=true`.\n",
      "[LightGBM] [Info] Total Bins 2605\n",
      "[LightGBM] [Info] Number of data points in the train set: 4940266, number of used features: 17\n",
      "[LightGBM] [Info] Start training from score 5.262296\n",
      "Model RMSE is:  37.13007085396963\n",
      "Model R2 Score is:  0.2468144358480726\n"
     ]
    }
   ],
   "source": [
    "import lightgbm as lgb\n",
    "d_train = lgb.Dataset(X_train, label=y_train)\n",
    "params = {}\n",
    "params['learning_rate'] = 0.8277896457253541\n",
    "params['boosting_type'] = 'gbdt'\n",
    "#params['boosting_type'] = 'dart'\n",
    "params['objective'] = 'regression'\n",
    "params['metric'] = 'rmse'\n",
    "params['sub_feature'] = 0.5\n",
    "params['num_leaves'] = 62\n",
    "params['min_data'] = 55\n",
    "params['max_depth'] = 27\n",
    "y_train=y_train.ravel()\n",
    "reg= lgb.train(params, d_train, 100)\n",
    "results=reg.predict(X_test)\n",
    "print('Model RMSE is: ',np.sqrt(mean_squared_error(y_test, results)))\n",
    "print('Model R2 Score is: ',r2_score(y_test,results))"
   ]
  },
  {
   "cell_type": "markdown",
   "id": "f5076967",
   "metadata": {},
   "source": [
    "##### XGBoost"
   ]
  },
  {
   "cell_type": "code",
   "execution_count": 25,
   "id": "6a180ca0",
   "metadata": {},
   "outputs": [
    {
     "name": "stdout",
     "output_type": "stream",
     "text": [
      "Model RMSE is:  41.637426035474334\n",
      "Model R2 Score is:  0.053094363570214465\n"
     ]
    }
   ],
   "source": [
    "data_dmatrix = xgb.DMatrix(data=X,label=y)\n",
    "xg_reg = xgb.XGBRegressor(objective ='reg:squarederror', colsample_bytree = 0.3, learning_rate = 0.1,\n",
    "                max_depth = 5, alpha = 10, n_estimators = 10)\n",
    "xg_reg.fit(X_test,y_test)\n",
    "\n",
    "y_pred_xgb = xg_reg.predict(X_test)\n",
    "\n",
    "print('Model RMSE is: ',np.sqrt(mean_squared_error(y_test, y_pred_xgb)))\n",
    "print('Model R2 Score is: ',r2_score(y_test,y_pred_xgb))"
   ]
  },
  {
   "cell_type": "code",
   "execution_count": 27,
   "id": "d3898edd",
   "metadata": {},
   "outputs": [
    {
     "data": {
      "image/png": "[encoded data removed]",
      "text/plain": [
       "<Figure size 3600x3600 with 1 Axes>"
      ]
     },
     "metadata": {
      "needs_background": "light"
     },
     "output_type": "display_data"
    }
   ],
   "source": [
    "#Examine the importance of each feature column in the original data set with the model\n",
    "xgb.plot_importance(xg_reg)\n",
    "plt.rcParams['figure.figsize'] = [50, 50]\n",
    "plt.show()"
   ]
  },
  {
   "cell_type": "markdown",
   "id": "0d8db365",
   "metadata": {},
   "source": [
    "##### Linear Regression"
   ]
  },
  {
   "cell_type": "code",
   "execution_count": 31,
   "id": "e82a1398",
   "metadata": {},
   "outputs": [
    {
     "name": "stdout",
     "output_type": "stream",
     "text": [
      "Model RMSE is:  40.87799890891109\n",
      "Model R2 Score is:  0.07935852635745144\n"
     ]
    }
   ],
   "source": [
    "from sklearn.preprocessing import StandardScaler\n",
    "scaler = StandardScaler()\n",
    "X=scaler.fit_transform(X)\n",
    "\n",
    "# Split dataset into training set and test set\n",
    "X_train, X_test, y_train, y_test = train_test_split(X, y, test_size=0.3) # 70% training and 30% test\n",
    "\n",
    "# creating linear regression\n",
    "lr = LinearRegression()\n",
    "lr.fit(X_train,y_train)\n",
    "y_lr = lr.predict(X_test)\n",
    "\n",
    "print('Model RMSE is: ',np.sqrt(mean_squared_error(y_test, y_lr)))\n",
    "print('Model R2 Score is: ',r2_score(y_test,y_lr))"
   ]
  },
  {
   "cell_type": "markdown",
   "id": "f3d6d7ef",
   "metadata": {},
   "source": [
    "##### Ridge/Lasso Regression"
   ]
  },
  {
   "cell_type": "code",
   "execution_count": 32,
   "id": "02c5714d",
   "metadata": {},
   "outputs": [
    {
     "name": "stdout",
     "output_type": "stream",
     "text": [
      "Model RMSE is:  40.87799937381859\n",
      "Model R2 Score is:  0.07935850541644951\n",
      "Model RMSE is:  41.006790452236814\n",
      "Model R2 Score is:  0.07354818211543523\n"
     ]
    }
   ],
   "source": [
    "ridgereg = Ridge(alpha=0.001,normalize=True)\n",
    "ridge = ridgereg.fit(X_train,y_train)\n",
    "y_pred_ridge = ridge.predict(X_test)\n",
    "print('Model RMSE is: ',np.sqrt(mean_squared_error(y_test, y_pred_ridge)))\n",
    "print('Model R2 Score is: ',r2_score(y_test,y_pred_ridge))\n",
    "\n",
    "lassoreg = Lasso(alpha=0.001,normalize=True)\n",
    "lasso = lassoreg.fit(X_train,y_train)\n",
    "y_pred_lasso = lasso.predict(X_test)\n",
    "print('Model RMSE is: ',np.sqrt(mean_squared_error(y_test, y_pred_lasso)))\n",
    "print('Model R2 Score is: ',r2_score(y_test,y_pred_lasso))"
   ]
  },
  {
   "cell_type": "code",
   "execution_count": null,
   "id": "bc739068",
   "metadata": {},
   "outputs": [],
   "source": []
  },
  {
   "cell_type": "code",
   "execution_count": null,
   "id": "27436b06",
   "metadata": {},
   "outputs": [],
   "source": []
  },
  {
   "cell_type": "markdown",
   "id": "54072a9d",
   "metadata": {},
   "source": [
    "##### Random Forest"
   ]
  },
  {
   "cell_type": "code",
   "execution_count": null,
   "id": "9ddcb971",
   "metadata": {},
   "outputs": [],
   "source": [
    "#Create a Gaussian Regressor\n",
    "clf=RandomForestRegressor(n_estimators=100)"
   ]
  },
  {
   "cell_type": "code",
   "execution_count": null,
   "id": "5c85b9ac",
   "metadata": {},
   "outputs": [],
   "source": [
    "#Train the model using the training sets \n",
    "clf.fit(X_train,y_train)"
   ]
  },
  {
   "cell_type": "code",
   "execution_count": null,
   "id": "0d0c1929",
   "metadata": {},
   "outputs": [],
   "source": [
    "y_pred=clf.predict(X_test)"
   ]
  },
  {
   "cell_type": "code",
   "execution_count": null,
   "id": "a8f6663f",
   "metadata": {},
   "outputs": [],
   "source": [
    "print('Model RMSE is: ',np.sqrt(mean_squared_error(y_test, y_pred)))\n",
    "print('Model R2 Score is: ',r2_score(y_test,y_pred))"
   ]
  }
 ],
 "metadata": {
  "kernelspec": {
   "display_name": "LighthouseLabs",
   "language": "python",
   "name": "lighthouselabs"
  },
  "language_info": {
   "codemirror_mode": {
    "name": "ipython",
    "version": 3
   },
   "file_extension": ".py",
   "mimetype": "text/x-python",
   "name": "python",
   "nbconvert_exporter": "python",
   "pygments_lexer": "ipython3",
   "version": "3.8.2"
  }
 },
 "nbformat": 4,
 "nbformat_minor": 5
}
