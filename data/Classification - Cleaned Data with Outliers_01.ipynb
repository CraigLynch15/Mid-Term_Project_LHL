{
 "cells": [
  {
   "cell_type": "code",
   "execution_count": 66,
   "id": "9ffa1d4b",
   "metadata": {},
   "outputs": [],
   "source": [
    "import pandas as pd\n",
    "import numpy as np\n",
    "import psycopg2\n",
    "import matplotlib.pyplot as plt\n",
    "import seaborn as sns\n",
    "%matplotlib inline\n",
    "import datetime\n",
    "from scipy import stats\n",
    "from sklearn.model_selection import train_test_split"
   ]
  },
  {
   "cell_type": "code",
   "execution_count": 34,
   "id": "fe945ee8",
   "metadata": {},
   "outputs": [],
   "source": [
    "# con = psycopg2.connect(\n",
    "#     host = 'mid-term-project.ca2jkepgjpne.us-east-2.rds.amazonaws.com',\n",
    "#     database = 'mid_term_project',\n",
    "#     user = 'lhl_student',\n",
    "#     password = 'lhl_student',\n",
    "#     port = 5432\n",
    "# )\n",
    "# sql_flight_info = \"SELECT fl_date, mkt_unique_carrier, op_unique_carrier, op_carrier_fl_num, origin,crs_dep_time, dep_time, dep_delay, dest, arr_time, arr_delay, crs_arr_time, crs_elapsed_time, actual_elapsed_time, distance, carrier_delay, weather_delay, nas_delay, security_delay, late_aircraft_delay FROM flights WHERE (origin = 'ORD' or origin = 'ATL' or origin = 'DFW' or origin = 'DEN' or origin = 'LAX' or origin = 'CLT' or origin = 'SEA' or origin = 'SFO' or origin = 'EWR' or origin = 'PHX' or origin = 'LGA' or origin = 'IAH' or origin = 'LAS' or origin = 'BOS' or origin = 'PHL' or origin = 'MCO' or origin = 'DTW' or origin = 'MSP' or origin = 'DCA') or (dest = 'ORD' or dest = 'ATL' or dest = 'DFW' or dest = 'DEN' or dest = 'LAX' or dest = 'CLT' or dest = 'SEA' or dest = 'SFO' or dest = 'EWR' or dest = 'PHX' or dest = 'LGA' or dest = 'IAH' or dest = 'LAS' or dest = 'BOS' or dest = 'PHL' or dest = 'MCO' or dest = 'DTW' or dest = 'MSP' or dest = 'DCA') ORDER BY RANDOM() LIMIT 1000000;\"\n",
    "# data_flight_info = pd.read_sql_query(sql_flight_info,con)\n",
    "# con.close()"
   ]
  },
  {
   "cell_type": "code",
   "execution_count": 65,
   "id": "5e34180c",
   "metadata": {},
   "outputs": [],
   "source": [
    "# data_flight_info.to_csv('training_data.csv', encoding='utf-8', index=False)"
   ]
  },
  {
   "cell_type": "code",
   "execution_count": 67,
   "id": "6a064cdb",
   "metadata": {},
   "outputs": [],
   "source": [
    "data_flight_info = pd.read_csv('/Users/craiglynch/Desktop/Lighthouse_Labs/Mid-term_Project/mid-term-project-I-master/SQL_data.csv', sep = ',')"
   ]
  },
  {
   "cell_type": "code",
   "execution_count": 68,
   "id": "9011e716",
   "metadata": {},
   "outputs": [],
   "source": [
    "# Creating a function which will remove extra leading \n",
    "# and tailing whitespace from the data.\n",
    "# pass dataframe as a parameter here\n",
    "\n",
    "def whitespace_remover(dataframe):\n",
    "    \n",
    "    # iterating over the columns\n",
    "    for i in dataframe.columns:\n",
    "          \n",
    "        # checking datatype of each columns\n",
    "        if dataframe[i].dtype == 'object':\n",
    "              \n",
    "            # applying strip function on column\n",
    "            dataframe[i] = dataframe[i].map(str.strip)\n",
    "        else:\n",
    "              \n",
    "            # if condn. is False then it will do nothing.\n",
    "            pass"
   ]
  },
  {
   "cell_type": "code",
   "execution_count": 69,
   "id": "a7c8041b",
   "metadata": {},
   "outputs": [
    {
     "data": {
      "text/plain": [
       "(1000000, 20)"
      ]
     },
     "execution_count": 69,
     "metadata": {},
     "output_type": "execute_result"
    }
   ],
   "source": [
    "df_flight_info = data_flight_info.copy()\n",
    "whitespace_remover(df_flight_info)\n",
    "df_flight_info.shape"
   ]
  },
  {
   "cell_type": "code",
   "execution_count": 70,
   "id": "ff991528",
   "metadata": {},
   "outputs": [
    {
     "data": {
      "text/plain": [
       "fl_date                     0\n",
       "mkt_unique_carrier          0\n",
       "op_unique_carrier           0\n",
       "op_carrier_fl_num           0\n",
       "origin                      0\n",
       "crs_dep_time                0\n",
       "dep_time                16950\n",
       "dep_delay               17240\n",
       "dest                        0\n",
       "arr_time                17987\n",
       "arr_delay               20370\n",
       "crs_arr_time                0\n",
       "crs_elapsed_time            0\n",
       "actual_elapsed_time     20209\n",
       "distance                    0\n",
       "carrier_delay          805310\n",
       "weather_delay          805310\n",
       "nas_delay              805310\n",
       "security_delay         805310\n",
       "late_aircraft_delay    805310\n",
       "year                        0\n",
       "month                       0\n",
       "day                         0\n",
       "weekday                     0\n",
       "dtype: int64"
      ]
     },
     "execution_count": 70,
     "metadata": {},
     "output_type": "execute_result"
    }
   ],
   "source": [
    "# Creating year, month, date columns\n",
    "# Create new columns\n",
    "df_flight_info['year'] = pd.DatetimeIndex(df_flight_info['fl_date']).year\n",
    "df_flight_info['month'] = pd.DatetimeIndex(df_flight_info['fl_date']).month\n",
    "df_flight_info['day'] = pd.DatetimeIndex(df_flight_info['fl_date']).day\n",
    "df_flight_info['weekday'] = ((pd.DatetimeIndex(df_flight_info['fl_date']).dayofweek) // 5 == 1).astype(float)\n",
    "df_flight_info.isnull().sum()"
   ]
  },
  {
   "cell_type": "code",
   "execution_count": 71,
   "id": "5275f261",
   "metadata": {},
   "outputs": [],
   "source": [
    "# Filling all NaN delay info with 0\n",
    "df_flight_info[['carrier_delay', 'weather_delay', 'nas_delay', 'security_delay', 'late_aircraft_delay']] = df_flight_info[['carrier_delay', 'weather_delay', 'nas_delay', 'security_delay', 'late_aircraft_delay']].fillna(0)"
   ]
  },
  {
   "cell_type": "code",
   "execution_count": 72,
   "id": "98c8689d",
   "metadata": {},
   "outputs": [],
   "source": [
    "# Because dep_time, dep_delay, arr_time, arr_delay, and actual_elapsed_time have relatively small amounts of NaN they were dropped\n",
    "df_flight_info = df_flight_info.dropna()"
   ]
  },
  {
   "cell_type": "code",
   "execution_count": 73,
   "id": "7d744d13",
   "metadata": {},
   "outputs": [
    {
     "data": {
      "text/plain": [
       "fl_date                0\n",
       "mkt_unique_carrier     0\n",
       "op_unique_carrier      0\n",
       "op_carrier_fl_num      0\n",
       "origin                 0\n",
       "crs_dep_time           0\n",
       "dep_time               0\n",
       "dep_delay              0\n",
       "dest                   0\n",
       "arr_time               0\n",
       "arr_delay              0\n",
       "crs_arr_time           0\n",
       "crs_elapsed_time       0\n",
       "actual_elapsed_time    0\n",
       "distance               0\n",
       "carrier_delay          0\n",
       "weather_delay          0\n",
       "nas_delay              0\n",
       "security_delay         0\n",
       "late_aircraft_delay    0\n",
       "year                   0\n",
       "month                  0\n",
       "day                    0\n",
       "weekday                0\n",
       "dtype: int64"
      ]
     },
     "execution_count": 73,
     "metadata": {},
     "output_type": "execute_result"
    }
   ],
   "source": [
    "df_flight_info.isnull().sum()"
   ]
  },
  {
   "cell_type": "code",
   "execution_count": 74,
   "id": "4ef9edb1",
   "metadata": {},
   "outputs": [
    {
     "data": {
      "text/plain": [
       "(979360, 24)"
      ]
     },
     "execution_count": 74,
     "metadata": {},
     "output_type": "execute_result"
    }
   ],
   "source": [
    "# 20,494 rows removed\n",
    "df_flight_info.shape"
   ]
  },
  {
   "cell_type": "code",
   "execution_count": 75,
   "id": "738385c6",
   "metadata": {},
   "outputs": [],
   "source": [
    "# df_flight_info1 = df_flight_info[df_flight_info['carrier_delay'] <= 720]\n",
    "# df_flight_info2 = df_flight_info1[df_flight_info1['weather_delay'] <= 720]\n",
    "# df_flight_info3 = df_flight_info2[df_flight_info2['nas_delay'] <= 720]\n",
    "# df_flight_info4 = df_flight_info3[df_flight_info3['security_delay'] <= 720]\n",
    "# df_flight_info = df_flight_info4[df_flight_info4['late_aircraft_delay'] <= 720]\n",
    "# #630 rows removed"
   ]
  },
  {
   "cell_type": "code",
   "execution_count": 76,
   "id": "c8b48e06",
   "metadata": {},
   "outputs": [
    {
     "data": {
      "text/plain": [
       "(979360, 24)"
      ]
     },
     "execution_count": 76,
     "metadata": {},
     "output_type": "execute_result"
    }
   ],
   "source": [
    "df_flight_info.shape"
   ]
  },
  {
   "cell_type": "code",
   "execution_count": 77,
   "id": "2d62478a",
   "metadata": {
    "scrolled": true
   },
   "outputs": [
    {
     "data": {
      "text/plain": [
       "ATL    59088\n",
       "ORD    58718\n",
       "DFW    43997\n",
       "DEN    41751\n",
       "CLT    37855\n",
       "LAX    37724\n",
       "SEA    29069\n",
       "PHX    27111\n",
       "SFO    27111\n",
       "IAH    26870\n",
       "DTW    26379\n",
       "LGA    25182\n",
       "LAS    25160\n",
       "MSP    24546\n",
       "EWR    23641\n",
       "BOS    22596\n",
       "DCA    21254\n",
       "MCO    21118\n",
       "Name: origin, dtype: int64"
      ]
     },
     "execution_count": 77,
     "metadata": {},
     "output_type": "execute_result"
    }
   ],
   "source": [
    "#Only want top 19 busiest airports\n",
    "airports = ['ORD','ATL','DFW','DEN','LAX','CLT','SEA','SFO','EWR','LGA','PHX','IAH','LAS','BOS','MCO','DTW','PHIL','DCA','MSP']\n",
    "df_flight_info = df_flight_info[df_flight_info['origin'].isin(airports)]\n",
    "df_flight_info.origin.value_counts()"
   ]
  },
  {
   "cell_type": "code",
   "execution_count": 79,
   "id": "8ed39dc1",
   "metadata": {},
   "outputs": [
    {
     "data": {
      "text/plain": [
       "fl_date                0\n",
       "mkt_unique_carrier     0\n",
       "op_unique_carrier      0\n",
       "op_carrier_fl_num      0\n",
       "origin                 0\n",
       "crs_dep_time           0\n",
       "dep_time               0\n",
       "dep_delay              0\n",
       "dest                   0\n",
       "arr_time               0\n",
       "arr_delay              0\n",
       "crs_arr_time           0\n",
       "crs_elapsed_time       0\n",
       "actual_elapsed_time    0\n",
       "distance               0\n",
       "carrier_delay          0\n",
       "weather_delay          0\n",
       "nas_delay              0\n",
       "security_delay         0\n",
       "late_aircraft_delay    0\n",
       "year                   0\n",
       "month                  0\n",
       "day                    0\n",
       "weekday                0\n",
       "dtype: int64"
      ]
     },
     "execution_count": 79,
     "metadata": {},
     "output_type": "execute_result"
    }
   ],
   "source": [
    "df_flight_info.isnull().sum()"
   ]
  },
  {
   "cell_type": "code",
   "execution_count": 78,
   "id": "c0b77b38",
   "metadata": {},
   "outputs": [],
   "source": [
    "df_flight_info.to_csv('Classification_cleaned_data_with_outliers_01.csv', encoding='utf-8', index=False)"
   ]
  },
  {
   "cell_type": "code",
   "execution_count": 32,
   "id": "54a6a1f0",
   "metadata": {},
   "outputs": [],
   "source": [
    "y = data_flight_info['arr_delay']\n",
    "X = data_flight_info.drop(['arr_delay'],axis=1)"
   ]
  },
  {
   "cell_type": "code",
   "execution_count": null,
   "id": "c7800479",
   "metadata": {},
   "outputs": [],
   "source": []
  }
 ],
 "metadata": {
  "kernelspec": {
   "display_name": "LighthouseLabs",
   "language": "python",
   "name": "lighthouselabs"
  },
  "language_info": {
   "codemirror_mode": {
    "name": "ipython",
    "version": 3
   },
   "file_extension": ".py",
   "mimetype": "text/x-python",
   "name": "python",
   "nbconvert_exporter": "python",
   "pygments_lexer": "ipython3",
   "version": "3.8.2"
  }
 },
 "nbformat": 4,
 "nbformat_minor": 5
}
