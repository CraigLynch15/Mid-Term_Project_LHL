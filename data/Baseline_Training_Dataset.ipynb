{
 "cells": [
  {
   "cell_type": "code",
   "execution_count": 96,
   "id": "9ffa1d4b",
   "metadata": {},
   "outputs": [],
   "source": [
    "import pandas as pd\n",
    "import numpy as np\n",
    "import psycopg2\n",
    "import matplotlib.pyplot as plt\n",
    "import seaborn as sns\n",
    "%matplotlib inline\n",
    "import datetime\n",
    "from scipy import stats\n",
    "from sklearn.model_selection import train_test_split"
   ]
  },
  {
   "cell_type": "code",
   "execution_count": 2,
   "id": "fe945ee8",
   "metadata": {},
   "outputs": [],
   "source": [
    "# con = psycopg2.connect(\n",
    "#     host = 'mid-term-project.ca2jkepgjpne.us-east-2.rds.amazonaws.com',\n",
    "#     database = 'mid_term_project',\n",
    "#     user = 'lhl_student',\n",
    "#     password = 'lhl_student',\n",
    "#     port = 5432\n",
    "# )\n",
    "# sql_flight_info = \"SELECT fl_date, mkt_unique_carrier, op_unique_carrier, origin, dep_time, dep_delay, dest, arr_time, arr_delay, crs_arr_time, actual_elapsed_time, distance, carrier_delay, weather_delay, nas_delay, security_delay, late_aircraft_delay FROM flights WHERE (origin = 'ORD' or origin = 'ATL' or origin = 'DFW' or origin = 'DEN' or origin = 'LAX' or origin = 'CLT' or origin = 'SEA' or origin = 'SFO' or origin = 'EWR' or origin = 'PHX' or origin = 'LGA' or origin = 'IAH' or origin = 'LAS' or origin = 'BOS' or origin = 'PHL' or origin = 'MCO' or origin = 'DTW' or origin = 'MSP' or origin = 'DCA') or (dest = 'ORD' or dest = 'ATL' or dest = 'DFW' or dest = 'DEN' or dest = 'LAX' or dest = 'CLT' or dest = 'SEA' or dest = 'SFO' or dest = 'EWR' or dest = 'PHX' or dest = 'LGA' or dest = 'IAH' or dest = 'LAS' or dest = 'BOS' or dest = 'PHL' or dest = 'MCO' or dest = 'DTW' or dest = 'MSP' or dest = 'DCA') ORDER BY RANDOM() LIMIT 1000000;\"\n",
    "# data_flight_info = pd.read_sql_query(sql_flight_info,con)\n",
    "# con.close()"
   ]
  },
  {
   "cell_type": "code",
   "execution_count": 3,
   "id": "5e34180c",
   "metadata": {},
   "outputs": [],
   "source": [
    "# data_flight_info.to_csv('training_data.csv', encoding='utf-8', index=False)"
   ]
  },
  {
   "cell_type": "code",
   "execution_count": 114,
   "id": "6a064cdb",
   "metadata": {},
   "outputs": [],
   "source": [
    "data_flight_info = pd.read_csv('/Users/craiglynch/Documents/GitHub/Predicting-Flight-Delays/data/training_data.csv', sep = ',')"
   ]
  },
  {
   "cell_type": "code",
   "execution_count": 115,
   "id": "9011e716",
   "metadata": {},
   "outputs": [],
   "source": [
    "# Creating a function which will remove extra leading \n",
    "# and tailing whitespace from the data.\n",
    "# pass dataframe as a parameter here\n",
    "\n",
    "def whitespace_remover(dataframe):\n",
    "    \n",
    "    # iterating over the columns\n",
    "    for i in dataframe.columns:\n",
    "          \n",
    "        # checking datatype of each columns\n",
    "        if dataframe[i].dtype == 'object':\n",
    "              \n",
    "            # applying strip function on column\n",
    "            dataframe[i] = dataframe[i].map(str.strip)\n",
    "        else:\n",
    "              \n",
    "            # if condn. is False then it will do nothing.\n",
    "            pass"
   ]
  },
  {
   "cell_type": "code",
   "execution_count": 116,
   "id": "a7c8041b",
   "metadata": {},
   "outputs": [
    {
     "data": {
      "text/plain": [
       "(1000000, 17)"
      ]
     },
     "execution_count": 116,
     "metadata": {},
     "output_type": "execute_result"
    }
   ],
   "source": [
    "df_flight_info = data_flight_info.copy()\n",
    "whitespace_remover(df_flight_info)\n",
    "df_flight_info.shape"
   ]
  },
  {
   "cell_type": "code",
   "execution_count": 117,
   "id": "ff991528",
   "metadata": {},
   "outputs": [
    {
     "data": {
      "text/plain": [
       "fl_date                     0\n",
       "mkt_unique_carrier          0\n",
       "op_unique_carrier           0\n",
       "origin                      0\n",
       "dep_time                16721\n",
       "dep_delay               17024\n",
       "dest                        0\n",
       "arr_time                17739\n",
       "arr_delay               20212\n",
       "crs_arr_time                0\n",
       "actual_elapsed_time     20025\n",
       "distance                    0\n",
       "carrier_delay          805481\n",
       "weather_delay          805481\n",
       "nas_delay              805481\n",
       "security_delay         805481\n",
       "late_aircraft_delay    805481\n",
       "year                        0\n",
       "month                       0\n",
       "day                         0\n",
       "weekday                     0\n",
       "dtype: int64"
      ]
     },
     "execution_count": 117,
     "metadata": {},
     "output_type": "execute_result"
    }
   ],
   "source": [
    "# Creating year, month, date columns\n",
    "# Create new columns\n",
    "df_flight_info['year'] = pd.DatetimeIndex(df_flight_info['fl_date']).year\n",
    "df_flight_info['month'] = pd.DatetimeIndex(df_flight_info['fl_date']).month\n",
    "df_flight_info['day'] = pd.DatetimeIndex(df_flight_info['fl_date']).day\n",
    "df_flight_info['weekday'] = ((pd.DatetimeIndex(df_flight_info['fl_date']).dayofweek) // 5 == 1).astype(float)\n",
    "df_flight_info.isnull().sum()"
   ]
  },
  {
   "cell_type": "code",
   "execution_count": 118,
   "id": "5275f261",
   "metadata": {},
   "outputs": [],
   "source": [
    "# Filling all NaN delay info with 0\n",
    "df_flight_info[['carrier_delay', 'weather_delay', 'nas_delay', 'security_delay', 'late_aircraft_delay']] = df_flight_info[['carrier_delay', 'weather_delay', 'nas_delay', 'security_delay', 'late_aircraft_delay']].fillna(0)"
   ]
  },
  {
   "cell_type": "code",
   "execution_count": 119,
   "id": "98c8689d",
   "metadata": {},
   "outputs": [],
   "source": [
    "# Because dep_time, dep_delay, arr_time, arr_delay, and actual_elapsed_time have relatively small amounts of NaN they were dropped\n",
    "df_flight_info = df_flight_info.dropna()"
   ]
  },
  {
   "cell_type": "code",
   "execution_count": 120,
   "id": "7d744d13",
   "metadata": {},
   "outputs": [
    {
     "data": {
      "text/plain": [
       "fl_date                0\n",
       "mkt_unique_carrier     0\n",
       "op_unique_carrier      0\n",
       "origin                 0\n",
       "dep_time               0\n",
       "dep_delay              0\n",
       "dest                   0\n",
       "arr_time               0\n",
       "arr_delay              0\n",
       "crs_arr_time           0\n",
       "actual_elapsed_time    0\n",
       "distance               0\n",
       "carrier_delay          0\n",
       "weather_delay          0\n",
       "nas_delay              0\n",
       "security_delay         0\n",
       "late_aircraft_delay    0\n",
       "year                   0\n",
       "month                  0\n",
       "day                    0\n",
       "weekday                0\n",
       "dtype: int64"
      ]
     },
     "execution_count": 120,
     "metadata": {},
     "output_type": "execute_result"
    }
   ],
   "source": [
    "df_flight_info.isnull().sum()"
   ]
  },
  {
   "cell_type": "code",
   "execution_count": 121,
   "id": "4ef9edb1",
   "metadata": {},
   "outputs": [
    {
     "data": {
      "text/plain": [
       "(979506, 21)"
      ]
     },
     "execution_count": 121,
     "metadata": {},
     "output_type": "execute_result"
    }
   ],
   "source": [
    "# 20,494 rows removed\n",
    "df_flight_info.shape"
   ]
  },
  {
   "cell_type": "code",
   "execution_count": 122,
   "id": "738385c6",
   "metadata": {},
   "outputs": [],
   "source": [
    "df_flight_info1 = df_flight_info[df_flight_info['carrier_delay'] <= 720]\n",
    "df_flight_info2 = df_flight_info1[df_flight_info1['weather_delay'] <= 720]\n",
    "df_flight_info3 = df_flight_info2[df_flight_info2['nas_delay'] <= 720]\n",
    "df_flight_info4 = df_flight_info3[df_flight_info3['security_delay'] <= 720]\n",
    "df_flight_info = df_flight_info4[df_flight_info4['late_aircraft_delay'] <= 720]\n",
    "#630 rows removed"
   ]
  },
  {
   "cell_type": "code",
   "execution_count": 123,
   "id": "c8b48e06",
   "metadata": {},
   "outputs": [
    {
     "data": {
      "text/plain": [
       "(978876, 21)"
      ]
     },
     "execution_count": 123,
     "metadata": {},
     "output_type": "execute_result"
    }
   ],
   "source": [
    "df_flight_info.shape"
   ]
  },
  {
   "cell_type": "code",
   "execution_count": 127,
   "id": "dd6b72c1",
   "metadata": {},
   "outputs": [
    {
     "name": "stderr",
     "output_type": "stream",
     "text": [
      "<ipython-input-127-56dbe100a4dd>:2: SettingWithCopyWarning: \n",
      "A value is trying to be set on a copy of a slice from a DataFrame.\n",
      "Try using .loc[row_indexer,col_indexer] = value instead\n",
      "\n",
      "See the caveats in the documentation: https://pandas.pydata.org/pandas-docs/stable/user_guide/indexing.html#returning-a-view-versus-a-copy\n",
      "  df_flight_info['dep_time'] = df_flight_info['dep_time'].astype(int)\n",
      "<ipython-input-127-56dbe100a4dd>:3: SettingWithCopyWarning: \n",
      "A value is trying to be set on a copy of a slice from a DataFrame.\n",
      "Try using .loc[row_indexer,col_indexer] = value instead\n",
      "\n",
      "See the caveats in the documentation: https://pandas.pydata.org/pandas-docs/stable/user_guide/indexing.html#returning-a-view-versus-a-copy\n",
      "  df_flight_info['dep_time'] = df_flight_info['dep_time'].apply(lambda x: '{0:0>4}'.format(x)).astype(str)\n",
      "<ipython-input-127-56dbe100a4dd>:4: SettingWithCopyWarning: \n",
      "A value is trying to be set on a copy of a slice from a DataFrame.\n",
      "Try using .loc[row_indexer,col_indexer] = value instead\n",
      "\n",
      "See the caveats in the documentation: https://pandas.pydata.org/pandas-docs/stable/user_guide/indexing.html#returning-a-view-versus-a-copy\n",
      "  df_flight_info['dep_time'] = df_flight_info['dep_time'].str.replace(r\"\\\\*(\\d{2}(?!$))\", r\"\\1:\")\n",
      "<ipython-input-127-56dbe100a4dd>:5: SettingWithCopyWarning: \n",
      "A value is trying to be set on a copy of a slice from a DataFrame.\n",
      "Try using .loc[row_indexer,col_indexer] = value instead\n",
      "\n",
      "See the caveats in the documentation: https://pandas.pydata.org/pandas-docs/stable/user_guide/indexing.html#returning-a-view-versus-a-copy\n",
      "  df_flight_info['dep_time'] = df_flight_info['dep_time'].replace('24:00', '00:00')\n",
      "<ipython-input-127-56dbe100a4dd>:6: SettingWithCopyWarning: \n",
      "A value is trying to be set on a copy of a slice from a DataFrame.\n",
      "Try using .loc[row_indexer,col_indexer] = value instead\n",
      "\n",
      "See the caveats in the documentation: https://pandas.pydata.org/pandas-docs/stable/user_guide/indexing.html#returning-a-view-versus-a-copy\n",
      "  df_flight_info['dep_time'] = pd.to_datetime(df_flight_info['dep_time'],format= '%H:%M' ).dt.time\n"
     ]
    }
   ],
   "source": [
    "# Putting arr_time and dep_time into datetime format\n",
    "df_flight_info['dep_time'] = df_flight_info['dep_time'].astype(int)\n",
    "df_flight_info['dep_time'] = df_flight_info['dep_time'].apply(lambda x: '{0:0>4}'.format(x)).astype(str)\n",
    "df_flight_info['dep_time'] = df_flight_info['dep_time'].str.replace(r\"\\\\*(\\d{2}(?!$))\", r\"\\1:\")\n",
    "df_flight_info['dep_time'] = df_flight_info['dep_time'].replace('24:00', '00:00')\n",
    "df_flight_info['dep_time'] = pd.to_datetime(df_flight_info['dep_time'],format= '%H:%M' ).dt.time"
   ]
  },
  {
   "cell_type": "code",
   "execution_count": 128,
   "id": "c37a4832",
   "metadata": {},
   "outputs": [
    {
     "name": "stderr",
     "output_type": "stream",
     "text": [
      "<ipython-input-128-35c43b1bd7bd>:1: SettingWithCopyWarning: \n",
      "A value is trying to be set on a copy of a slice from a DataFrame.\n",
      "Try using .loc[row_indexer,col_indexer] = value instead\n",
      "\n",
      "See the caveats in the documentation: https://pandas.pydata.org/pandas-docs/stable/user_guide/indexing.html#returning-a-view-versus-a-copy\n",
      "  df_flight_info['arr_time'] = df_flight_info['arr_time'].astype(int)\n",
      "<ipython-input-128-35c43b1bd7bd>:2: SettingWithCopyWarning: \n",
      "A value is trying to be set on a copy of a slice from a DataFrame.\n",
      "Try using .loc[row_indexer,col_indexer] = value instead\n",
      "\n",
      "See the caveats in the documentation: https://pandas.pydata.org/pandas-docs/stable/user_guide/indexing.html#returning-a-view-versus-a-copy\n",
      "  df_flight_info['arr_time'] = df_flight_info['arr_time'].apply(lambda x: '{0:0>4}'.format(x)).astype(str)\n",
      "<ipython-input-128-35c43b1bd7bd>:3: SettingWithCopyWarning: \n",
      "A value is trying to be set on a copy of a slice from a DataFrame.\n",
      "Try using .loc[row_indexer,col_indexer] = value instead\n",
      "\n",
      "See the caveats in the documentation: https://pandas.pydata.org/pandas-docs/stable/user_guide/indexing.html#returning-a-view-versus-a-copy\n",
      "  df_flight_info['arr_time'] = df_flight_info['arr_time'].str.replace(r\"\\\\*(\\d{2}(?!$))\", r\"\\1:\")\n",
      "<ipython-input-128-35c43b1bd7bd>:4: SettingWithCopyWarning: \n",
      "A value is trying to be set on a copy of a slice from a DataFrame.\n",
      "Try using .loc[row_indexer,col_indexer] = value instead\n",
      "\n",
      "See the caveats in the documentation: https://pandas.pydata.org/pandas-docs/stable/user_guide/indexing.html#returning-a-view-versus-a-copy\n",
      "  df_flight_info['arr_time'] = df_flight_info['arr_time'].replace('24:00', '00:00')\n",
      "<ipython-input-128-35c43b1bd7bd>:5: SettingWithCopyWarning: \n",
      "A value is trying to be set on a copy of a slice from a DataFrame.\n",
      "Try using .loc[row_indexer,col_indexer] = value instead\n",
      "\n",
      "See the caveats in the documentation: https://pandas.pydata.org/pandas-docs/stable/user_guide/indexing.html#returning-a-view-versus-a-copy\n",
      "  df_flight_info['arr_time'] = pd.to_datetime(df_flight_info['arr_time'],format= '%H:%M' ).dt.time\n"
     ]
    }
   ],
   "source": [
    "df_flight_info['arr_time'] = df_flight_info['arr_time'].astype(int)\n",
    "df_flight_info['arr_time'] = df_flight_info['arr_time'].apply(lambda x: '{0:0>4}'.format(x)).astype(str)\n",
    "df_flight_info['arr_time'] = df_flight_info['arr_time'].str.replace(r\"\\\\*(\\d{2}(?!$))\", r\"\\1:\")\n",
    "df_flight_info['arr_time'] = df_flight_info['arr_time'].replace('24:00', '00:00')\n",
    "df_flight_info['arr_time'] = pd.to_datetime(df_flight_info['arr_time'],format= '%H:%M' ).dt.time"
   ]
  },
  {
   "cell_type": "code",
   "execution_count": 129,
   "id": "9672cba0",
   "metadata": {},
   "outputs": [
    {
     "name": "stderr",
     "output_type": "stream",
     "text": [
      "<ipython-input-129-02c718e33a92>:1: SettingWithCopyWarning: \n",
      "A value is trying to be set on a copy of a slice from a DataFrame.\n",
      "Try using .loc[row_indexer,col_indexer] = value instead\n",
      "\n",
      "See the caveats in the documentation: https://pandas.pydata.org/pandas-docs/stable/user_guide/indexing.html#returning-a-view-versus-a-copy\n",
      "  df_flight_info['crs_arr_time'] = df_flight_info['crs_arr_time'].astype(int)\n",
      "<ipython-input-129-02c718e33a92>:2: SettingWithCopyWarning: \n",
      "A value is trying to be set on a copy of a slice from a DataFrame.\n",
      "Try using .loc[row_indexer,col_indexer] = value instead\n",
      "\n",
      "See the caveats in the documentation: https://pandas.pydata.org/pandas-docs/stable/user_guide/indexing.html#returning-a-view-versus-a-copy\n",
      "  df_flight_info['crs_arr_time'] = df_flight_info['crs_arr_time'].apply(lambda x: '{0:0>4}'.format(x)).astype(str)\n",
      "<ipython-input-129-02c718e33a92>:3: SettingWithCopyWarning: \n",
      "A value is trying to be set on a copy of a slice from a DataFrame.\n",
      "Try using .loc[row_indexer,col_indexer] = value instead\n",
      "\n",
      "See the caveats in the documentation: https://pandas.pydata.org/pandas-docs/stable/user_guide/indexing.html#returning-a-view-versus-a-copy\n",
      "  df_flight_info['crs_arr_time'] = df_flight_info['crs_arr_time'].str.replace(r\"\\\\*(\\d{2}(?!$))\", r\"\\1:\")\n",
      "<ipython-input-129-02c718e33a92>:4: SettingWithCopyWarning: \n",
      "A value is trying to be set on a copy of a slice from a DataFrame.\n",
      "Try using .loc[row_indexer,col_indexer] = value instead\n",
      "\n",
      "See the caveats in the documentation: https://pandas.pydata.org/pandas-docs/stable/user_guide/indexing.html#returning-a-view-versus-a-copy\n",
      "  df_flight_info['crs_arr_time'] = df_flight_info['crs_arr_time'].replace('24:00', '00:00')\n",
      "<ipython-input-129-02c718e33a92>:5: SettingWithCopyWarning: \n",
      "A value is trying to be set on a copy of a slice from a DataFrame.\n",
      "Try using .loc[row_indexer,col_indexer] = value instead\n",
      "\n",
      "See the caveats in the documentation: https://pandas.pydata.org/pandas-docs/stable/user_guide/indexing.html#returning-a-view-versus-a-copy\n",
      "  df_flight_info['crs_arr_time'] = pd.to_datetime(df_flight_info['crs_arr_time'],format= '%H:%M' ).dt.time\n"
     ]
    }
   ],
   "source": [
    "df_flight_info['crs_arr_time'] = df_flight_info['crs_arr_time'].astype(int)\n",
    "df_flight_info['crs_arr_time'] = df_flight_info['crs_arr_time'].apply(lambda x: '{0:0>4}'.format(x)).astype(str)\n",
    "df_flight_info['crs_arr_time'] = df_flight_info['crs_arr_time'].str.replace(r\"\\\\*(\\d{2}(?!$))\", r\"\\1:\")\n",
    "df_flight_info['crs_arr_time'] = df_flight_info['crs_arr_time'].replace('24:00', '00:00')\n",
    "df_flight_info['crs_arr_time'] = pd.to_datetime(df_flight_info['crs_arr_time'],format= '%H:%M' ).dt.time"
   ]
  },
  {
   "cell_type": "code",
   "execution_count": 130,
   "id": "2d62478a",
   "metadata": {
    "scrolled": true
   },
   "outputs": [
    {
     "data": {
      "text/html": [
       "<div>\n",
       "<style scoped>\n",
       "    .dataframe tbody tr th:only-of-type {\n",
       "        vertical-align: middle;\n",
       "    }\n",
       "\n",
       "    .dataframe tbody tr th {\n",
       "        vertical-align: top;\n",
       "    }\n",
       "\n",
       "    .dataframe thead th {\n",
       "        text-align: right;\n",
       "    }\n",
       "</style>\n",
       "<table border=\"1\" class=\"dataframe\">\n",
       "  <thead>\n",
       "    <tr style=\"text-align: right;\">\n",
       "      <th></th>\n",
       "      <th>fl_date</th>\n",
       "      <th>mkt_unique_carrier</th>\n",
       "      <th>op_unique_carrier</th>\n",
       "      <th>origin</th>\n",
       "      <th>dep_time</th>\n",
       "      <th>dep_delay</th>\n",
       "      <th>dest</th>\n",
       "      <th>arr_time</th>\n",
       "      <th>arr_delay</th>\n",
       "      <th>crs_arr_time</th>\n",
       "      <th>...</th>\n",
       "      <th>distance</th>\n",
       "      <th>carrier_delay</th>\n",
       "      <th>weather_delay</th>\n",
       "      <th>nas_delay</th>\n",
       "      <th>security_delay</th>\n",
       "      <th>late_aircraft_delay</th>\n",
       "      <th>year</th>\n",
       "      <th>month</th>\n",
       "      <th>day</th>\n",
       "      <th>weekday</th>\n",
       "    </tr>\n",
       "  </thead>\n",
       "  <tbody>\n",
       "    <tr>\n",
       "      <th>0</th>\n",
       "      <td>2018-08-26</td>\n",
       "      <td>AS</td>\n",
       "      <td>AS</td>\n",
       "      <td>PDX</td>\n",
       "      <td>17:17:00</td>\n",
       "      <td>-3.0</td>\n",
       "      <td>LAX</td>\n",
       "      <td>19:36:00</td>\n",
       "      <td>-5.0</td>\n",
       "      <td>19:41:00</td>\n",
       "      <td>...</td>\n",
       "      <td>834.0</td>\n",
       "      <td>0.0</td>\n",
       "      <td>0.0</td>\n",
       "      <td>0.0</td>\n",
       "      <td>0.0</td>\n",
       "      <td>0.0</td>\n",
       "      <td>2018</td>\n",
       "      <td>8</td>\n",
       "      <td>26</td>\n",
       "      <td>1.0</td>\n",
       "    </tr>\n",
       "    <tr>\n",
       "      <th>1</th>\n",
       "      <td>2018-05-24</td>\n",
       "      <td>UA</td>\n",
       "      <td>OO</td>\n",
       "      <td>DEN</td>\n",
       "      <td>17:50:00</td>\n",
       "      <td>0.0</td>\n",
       "      <td>PSP</td>\n",
       "      <td>19:13:00</td>\n",
       "      <td>3.0</td>\n",
       "      <td>19:10:00</td>\n",
       "      <td>...</td>\n",
       "      <td>776.0</td>\n",
       "      <td>0.0</td>\n",
       "      <td>0.0</td>\n",
       "      <td>0.0</td>\n",
       "      <td>0.0</td>\n",
       "      <td>0.0</td>\n",
       "      <td>2018</td>\n",
       "      <td>5</td>\n",
       "      <td>24</td>\n",
       "      <td>0.0</td>\n",
       "    </tr>\n",
       "    <tr>\n",
       "      <th>2</th>\n",
       "      <td>2019-01-10</td>\n",
       "      <td>AA</td>\n",
       "      <td>PT</td>\n",
       "      <td>CLT</td>\n",
       "      <td>11:05:00</td>\n",
       "      <td>-4.0</td>\n",
       "      <td>ROA</td>\n",
       "      <td>12:00:00</td>\n",
       "      <td>-16.0</td>\n",
       "      <td>12:16:00</td>\n",
       "      <td>...</td>\n",
       "      <td>155.0</td>\n",
       "      <td>0.0</td>\n",
       "      <td>0.0</td>\n",
       "      <td>0.0</td>\n",
       "      <td>0.0</td>\n",
       "      <td>0.0</td>\n",
       "      <td>2019</td>\n",
       "      <td>1</td>\n",
       "      <td>10</td>\n",
       "      <td>0.0</td>\n",
       "    </tr>\n",
       "    <tr>\n",
       "      <th>3</th>\n",
       "      <td>2018-07-09</td>\n",
       "      <td>WN</td>\n",
       "      <td>WN</td>\n",
       "      <td>ELP</td>\n",
       "      <td>05:54:00</td>\n",
       "      <td>-1.0</td>\n",
       "      <td>LAS</td>\n",
       "      <td>06:23:00</td>\n",
       "      <td>-12.0</td>\n",
       "      <td>06:35:00</td>\n",
       "      <td>...</td>\n",
       "      <td>583.0</td>\n",
       "      <td>0.0</td>\n",
       "      <td>0.0</td>\n",
       "      <td>0.0</td>\n",
       "      <td>0.0</td>\n",
       "      <td>0.0</td>\n",
       "      <td>2018</td>\n",
       "      <td>7</td>\n",
       "      <td>9</td>\n",
       "      <td>0.0</td>\n",
       "    </tr>\n",
       "    <tr>\n",
       "      <th>4</th>\n",
       "      <td>2019-07-09</td>\n",
       "      <td>DL</td>\n",
       "      <td>9E</td>\n",
       "      <td>LGA</td>\n",
       "      <td>16:29:00</td>\n",
       "      <td>0.0</td>\n",
       "      <td>BNA</td>\n",
       "      <td>17:59:00</td>\n",
       "      <td>-12.0</td>\n",
       "      <td>18:11:00</td>\n",
       "      <td>...</td>\n",
       "      <td>764.0</td>\n",
       "      <td>0.0</td>\n",
       "      <td>0.0</td>\n",
       "      <td>0.0</td>\n",
       "      <td>0.0</td>\n",
       "      <td>0.0</td>\n",
       "      <td>2019</td>\n",
       "      <td>7</td>\n",
       "      <td>9</td>\n",
       "      <td>0.0</td>\n",
       "    </tr>\n",
       "  </tbody>\n",
       "</table>\n",
       "<p>5 rows × 21 columns</p>\n",
       "</div>"
      ],
      "text/plain": [
       "      fl_date mkt_unique_carrier op_unique_carrier origin  dep_time  \\\n",
       "0  2018-08-26                 AS                AS    PDX  17:17:00   \n",
       "1  2018-05-24                 UA                OO    DEN  17:50:00   \n",
       "2  2019-01-10                 AA                PT    CLT  11:05:00   \n",
       "3  2018-07-09                 WN                WN    ELP  05:54:00   \n",
       "4  2019-07-09                 DL                9E    LGA  16:29:00   \n",
       "\n",
       "   dep_delay dest  arr_time  arr_delay crs_arr_time  ...  distance  \\\n",
       "0       -3.0  LAX  19:36:00       -5.0     19:41:00  ...     834.0   \n",
       "1        0.0  PSP  19:13:00        3.0     19:10:00  ...     776.0   \n",
       "2       -4.0  ROA  12:00:00      -16.0     12:16:00  ...     155.0   \n",
       "3       -1.0  LAS  06:23:00      -12.0     06:35:00  ...     583.0   \n",
       "4        0.0  BNA  17:59:00      -12.0     18:11:00  ...     764.0   \n",
       "\n",
       "   carrier_delay  weather_delay  nas_delay  security_delay  \\\n",
       "0            0.0            0.0        0.0             0.0   \n",
       "1            0.0            0.0        0.0             0.0   \n",
       "2            0.0            0.0        0.0             0.0   \n",
       "3            0.0            0.0        0.0             0.0   \n",
       "4            0.0            0.0        0.0             0.0   \n",
       "\n",
       "   late_aircraft_delay  year  month  day  weekday  \n",
       "0                  0.0  2018      8   26      1.0  \n",
       "1                  0.0  2018      5   24      0.0  \n",
       "2                  0.0  2019      1   10      0.0  \n",
       "3                  0.0  2018      7    9      0.0  \n",
       "4                  0.0  2019      7    9      0.0  \n",
       "\n",
       "[5 rows x 21 columns]"
      ]
     },
     "execution_count": 130,
     "metadata": {},
     "output_type": "execute_result"
    }
   ],
   "source": [
    "df_flight_info.head()"
   ]
  },
  {
   "cell_type": "code",
   "execution_count": 131,
   "id": "c0b77b38",
   "metadata": {},
   "outputs": [],
   "source": [
    "data_flight_info.to_csv('training_data_outliers_removed.csv', encoding='utf-8', index=False)"
   ]
  },
  {
   "cell_type": "code",
   "execution_count": null,
   "id": "54a6a1f0",
   "metadata": {},
   "outputs": [],
   "source": [
    "y = data_flight_info['arr_delay']\n",
    "X = data_flight_info.drop(['arr_delay'],axis=1)"
   ]
  }
 ],
 "metadata": {
  "kernelspec": {
   "display_name": "LighthouseLabs",
   "language": "python",
   "name": "lighthouselabs"
  },
  "language_info": {
   "codemirror_mode": {
    "name": "ipython",
    "version": 3
   },
   "file_extension": ".py",
   "mimetype": "text/x-python",
   "name": "python",
   "nbconvert_exporter": "python",
   "pygments_lexer": "ipython3",
   "version": "3.8.2"
  }
 },
 "nbformat": 4,
 "nbformat_minor": 5
}
