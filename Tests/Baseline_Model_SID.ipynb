{
 "cells": [
  {
   "cell_type": "code",
   "execution_count": 11,
   "metadata": {},
   "outputs": [],
   "source": [
    "import pandas as pd"
   ]
  },
  {
   "cell_type": "markdown",
   "metadata": {},
   "source": [
    "## PREPROCESSING BEFORE BASELINE"
   ]
  },
  {
   "cell_type": "code",
   "execution_count": 12,
   "metadata": {},
   "outputs": [],
   "source": [
    "#Read raw csv used to form baseline model \n",
    "flights_data = pd.read_csv('~/Bootcamp/MIDTERM PROJECT/training_data_outliers_removed_01.csv')"
   ]
  },
  {
   "cell_type": "code",
   "execution_count": 54,
   "metadata": {},
   "outputs": [
    {
     "data": {
      "text/plain": [
       "(978876, 11)"
      ]
     },
     "execution_count": 54,
     "metadata": {},
     "output_type": "execute_result"
    }
   ],
   "source": [
    "flights_data.shape"
   ]
  },
  {
   "cell_type": "code",
   "execution_count": 14,
   "metadata": {},
   "outputs": [
    {
     "data": {
      "text/html": [
       "<div>\n",
       "<style scoped>\n",
       "    .dataframe tbody tr th:only-of-type {\n",
       "        vertical-align: middle;\n",
       "    }\n",
       "\n",
       "    .dataframe tbody tr th {\n",
       "        vertical-align: top;\n",
       "    }\n",
       "\n",
       "    .dataframe thead th {\n",
       "        text-align: right;\n",
       "    }\n",
       "</style>\n",
       "<table border=\"1\" class=\"dataframe\">\n",
       "  <thead>\n",
       "    <tr style=\"text-align: right;\">\n",
       "      <th></th>\n",
       "      <th>op_unique_carrier</th>\n",
       "      <th>total_delay</th>\n",
       "    </tr>\n",
       "  </thead>\n",
       "  <tbody>\n",
       "    <tr>\n",
       "      <th>0</th>\n",
       "      <td>9E</td>\n",
       "      <td>12.943252</td>\n",
       "    </tr>\n",
       "    <tr>\n",
       "      <th>1</th>\n",
       "      <td>AA</td>\n",
       "      <td>12.235016</td>\n",
       "    </tr>\n",
       "    <tr>\n",
       "      <th>2</th>\n",
       "      <td>AS</td>\n",
       "      <td>9.120756</td>\n",
       "    </tr>\n",
       "    <tr>\n",
       "      <th>3</th>\n",
       "      <td>AX</td>\n",
       "      <td>21.245899</td>\n",
       "    </tr>\n",
       "    <tr>\n",
       "      <th>4</th>\n",
       "      <td>B6</td>\n",
       "      <td>20.051110</td>\n",
       "    </tr>\n",
       "    <tr>\n",
       "      <th>5</th>\n",
       "      <td>C5</td>\n",
       "      <td>29.546558</td>\n",
       "    </tr>\n",
       "    <tr>\n",
       "      <th>6</th>\n",
       "      <td>CP</td>\n",
       "      <td>12.682921</td>\n",
       "    </tr>\n",
       "    <tr>\n",
       "      <th>7</th>\n",
       "      <td>DL</td>\n",
       "      <td>8.333455</td>\n",
       "    </tr>\n",
       "    <tr>\n",
       "      <th>8</th>\n",
       "      <td>EV</td>\n",
       "      <td>16.351336</td>\n",
       "    </tr>\n",
       "    <tr>\n",
       "      <th>9</th>\n",
       "      <td>F9</td>\n",
       "      <td>19.147811</td>\n",
       "    </tr>\n",
       "    <tr>\n",
       "      <th>10</th>\n",
       "      <td>G4</td>\n",
       "      <td>12.463702</td>\n",
       "    </tr>\n",
       "    <tr>\n",
       "      <th>11</th>\n",
       "      <td>G7</td>\n",
       "      <td>15.409672</td>\n",
       "    </tr>\n",
       "    <tr>\n",
       "      <th>12</th>\n",
       "      <td>HA</td>\n",
       "      <td>10.550831</td>\n",
       "    </tr>\n",
       "    <tr>\n",
       "      <th>13</th>\n",
       "      <td>MQ</td>\n",
       "      <td>11.481340</td>\n",
       "    </tr>\n",
       "    <tr>\n",
       "      <th>14</th>\n",
       "      <td>NK</td>\n",
       "      <td>12.572858</td>\n",
       "    </tr>\n",
       "    <tr>\n",
       "      <th>15</th>\n",
       "      <td>OH</td>\n",
       "      <td>13.072414</td>\n",
       "    </tr>\n",
       "    <tr>\n",
       "      <th>16</th>\n",
       "      <td>OO</td>\n",
       "      <td>13.541479</td>\n",
       "    </tr>\n",
       "    <tr>\n",
       "      <th>17</th>\n",
       "      <td>PT</td>\n",
       "      <td>11.254706</td>\n",
       "    </tr>\n",
       "    <tr>\n",
       "      <th>18</th>\n",
       "      <td>QX</td>\n",
       "      <td>8.200509</td>\n",
       "    </tr>\n",
       "    <tr>\n",
       "      <th>19</th>\n",
       "      <td>UA</td>\n",
       "      <td>13.612739</td>\n",
       "    </tr>\n",
       "    <tr>\n",
       "      <th>20</th>\n",
       "      <td>VX</td>\n",
       "      <td>10.285714</td>\n",
       "    </tr>\n",
       "    <tr>\n",
       "      <th>21</th>\n",
       "      <td>WN</td>\n",
       "      <td>9.837868</td>\n",
       "    </tr>\n",
       "    <tr>\n",
       "      <th>22</th>\n",
       "      <td>YV</td>\n",
       "      <td>13.952081</td>\n",
       "    </tr>\n",
       "    <tr>\n",
       "      <th>23</th>\n",
       "      <td>YX</td>\n",
       "      <td>11.908703</td>\n",
       "    </tr>\n",
       "    <tr>\n",
       "      <th>24</th>\n",
       "      <td>ZW</td>\n",
       "      <td>15.650377</td>\n",
       "    </tr>\n",
       "  </tbody>\n",
       "</table>\n",
       "</div>"
      ],
      "text/plain": [
       "   op_unique_carrier  total_delay\n",
       "0                 9E    12.943252\n",
       "1                 AA    12.235016\n",
       "2                 AS     9.120756\n",
       "3                 AX    21.245899\n",
       "4                 B6    20.051110\n",
       "5                 C5    29.546558\n",
       "6                 CP    12.682921\n",
       "7                 DL     8.333455\n",
       "8                 EV    16.351336\n",
       "9                 F9    19.147811\n",
       "10                G4    12.463702\n",
       "11                G7    15.409672\n",
       "12                HA    10.550831\n",
       "13                MQ    11.481340\n",
       "14                NK    12.572858\n",
       "15                OH    13.072414\n",
       "16                OO    13.541479\n",
       "17                PT    11.254706\n",
       "18                QX     8.200509\n",
       "19                UA    13.612739\n",
       "20                VX    10.285714\n",
       "21                WN     9.837868\n",
       "22                YV    13.952081\n",
       "23                YX    11.908703\n",
       "24                ZW    15.650377"
      ]
     },
     "execution_count": 14,
     "metadata": {},
     "output_type": "execute_result"
    }
   ],
   "source": [
    "flights_grouped = flights_data.groupby(by='op_unique_carrier').mean()\n",
    "flights_grouped.reset_index(inplace=True)\n",
    "flights_grouped['total_delay'] = flights_grouped['carrier_delay'] + flights_grouped['nas_delay'] + flights_grouped['late_aircraft_delay']\n",
    "flights_grouped = flights_grouped.drop(columns = ['dep_delay','arr_delay','dep_time','arr_time','crs_arr_time','actual_elapsed_time','distance','carrier_delay','nas_delay','security_delay','late_aircraft_delay','weather_delay','year','month','day','weekday'])\n",
    "\n",
    "flights_grouped"
   ]
  },
  {
   "cell_type": "code",
   "execution_count": 15,
   "metadata": {},
   "outputs": [],
   "source": [
    "#Merge averages dataframe with original \n",
    "flights_data = flights_data.merge(flights_grouped, on = 'op_unique_carrier', how = 'outer')\n"
   ]
  },
  {
   "cell_type": "code",
   "execution_count": 16,
   "metadata": {},
   "outputs": [
    {
     "data": {
      "text/html": [
       "<div>\n",
       "<style scoped>\n",
       "    .dataframe tbody tr th:only-of-type {\n",
       "        vertical-align: middle;\n",
       "    }\n",
       "\n",
       "    .dataframe tbody tr th {\n",
       "        vertical-align: top;\n",
       "    }\n",
       "\n",
       "    .dataframe thead th {\n",
       "        text-align: right;\n",
       "    }\n",
       "</style>\n",
       "<table border=\"1\" class=\"dataframe\">\n",
       "  <thead>\n",
       "    <tr style=\"text-align: right;\">\n",
       "      <th></th>\n",
       "      <th>op_unique_carrier</th>\n",
       "      <th>origin</th>\n",
       "      <th>arr_delay</th>\n",
       "      <th>crs_arr_time</th>\n",
       "      <th>actual_elapsed_time</th>\n",
       "      <th>distance</th>\n",
       "      <th>year</th>\n",
       "      <th>month</th>\n",
       "      <th>day</th>\n",
       "      <th>weekday</th>\n",
       "      <th>total_delay</th>\n",
       "    </tr>\n",
       "  </thead>\n",
       "  <tbody>\n",
       "    <tr>\n",
       "      <th>0</th>\n",
       "      <td>AS</td>\n",
       "      <td>PDX</td>\n",
       "      <td>-5.0</td>\n",
       "      <td>1941</td>\n",
       "      <td>139.0</td>\n",
       "      <td>834.0</td>\n",
       "      <td>2018</td>\n",
       "      <td>8</td>\n",
       "      <td>26</td>\n",
       "      <td>1.0</td>\n",
       "      <td>9.120756</td>\n",
       "    </tr>\n",
       "    <tr>\n",
       "      <th>1</th>\n",
       "      <td>AS</td>\n",
       "      <td>ONT</td>\n",
       "      <td>-6.0</td>\n",
       "      <td>1230</td>\n",
       "      <td>166.0</td>\n",
       "      <td>956.0</td>\n",
       "      <td>2019</td>\n",
       "      <td>7</td>\n",
       "      <td>2</td>\n",
       "      <td>0.0</td>\n",
       "      <td>9.120756</td>\n",
       "    </tr>\n",
       "    <tr>\n",
       "      <th>2</th>\n",
       "      <td>AS</td>\n",
       "      <td>LAX</td>\n",
       "      <td>-22.0</td>\n",
       "      <td>1610</td>\n",
       "      <td>125.0</td>\n",
       "      <td>834.0</td>\n",
       "      <td>2019</td>\n",
       "      <td>8</td>\n",
       "      <td>7</td>\n",
       "      <td>0.0</td>\n",
       "      <td>9.120756</td>\n",
       "    </tr>\n",
       "    <tr>\n",
       "      <th>3</th>\n",
       "      <td>AS</td>\n",
       "      <td>SEA</td>\n",
       "      <td>3.0</td>\n",
       "      <td>16</td>\n",
       "      <td>59.0</td>\n",
       "      <td>224.0</td>\n",
       "      <td>2018</td>\n",
       "      <td>5</td>\n",
       "      <td>31</td>\n",
       "      <td>0.0</td>\n",
       "      <td>9.120756</td>\n",
       "    </tr>\n",
       "    <tr>\n",
       "      <th>4</th>\n",
       "      <td>AS</td>\n",
       "      <td>MCO</td>\n",
       "      <td>-3.0</td>\n",
       "      <td>1940</td>\n",
       "      <td>309.0</td>\n",
       "      <td>2149.0</td>\n",
       "      <td>2019</td>\n",
       "      <td>8</td>\n",
       "      <td>26</td>\n",
       "      <td>0.0</td>\n",
       "      <td>9.120756</td>\n",
       "    </tr>\n",
       "    <tr>\n",
       "      <th>...</th>\n",
       "      <td>...</td>\n",
       "      <td>...</td>\n",
       "      <td>...</td>\n",
       "      <td>...</td>\n",
       "      <td>...</td>\n",
       "      <td>...</td>\n",
       "      <td>...</td>\n",
       "      <td>...</td>\n",
       "      <td>...</td>\n",
       "      <td>...</td>\n",
       "      <td>...</td>\n",
       "    </tr>\n",
       "    <tr>\n",
       "      <th>978871</th>\n",
       "      <td>VX</td>\n",
       "      <td>LAX</td>\n",
       "      <td>-15.0</td>\n",
       "      <td>2259</td>\n",
       "      <td>171.0</td>\n",
       "      <td>1246.0</td>\n",
       "      <td>2018</td>\n",
       "      <td>3</td>\n",
       "      <td>15</td>\n",
       "      <td>0.0</td>\n",
       "      <td>10.285714</td>\n",
       "    </tr>\n",
       "    <tr>\n",
       "      <th>978872</th>\n",
       "      <td>VX</td>\n",
       "      <td>JFK</td>\n",
       "      <td>-1.0</td>\n",
       "      <td>1048</td>\n",
       "      <td>361.0</td>\n",
       "      <td>2248.0</td>\n",
       "      <td>2018</td>\n",
       "      <td>2</td>\n",
       "      <td>26</td>\n",
       "      <td>0.0</td>\n",
       "      <td>10.285714</td>\n",
       "    </tr>\n",
       "    <tr>\n",
       "      <th>978873</th>\n",
       "      <td>VX</td>\n",
       "      <td>SFO</td>\n",
       "      <td>14.0</td>\n",
       "      <td>1335</td>\n",
       "      <td>83.0</td>\n",
       "      <td>337.0</td>\n",
       "      <td>2018</td>\n",
       "      <td>3</td>\n",
       "      <td>9</td>\n",
       "      <td>0.0</td>\n",
       "      <td>10.285714</td>\n",
       "    </tr>\n",
       "    <tr>\n",
       "      <th>978874</th>\n",
       "      <td>VX</td>\n",
       "      <td>SFO</td>\n",
       "      <td>-28.0</td>\n",
       "      <td>1615</td>\n",
       "      <td>292.0</td>\n",
       "      <td>2446.0</td>\n",
       "      <td>2018</td>\n",
       "      <td>1</td>\n",
       "      <td>23</td>\n",
       "      <td>0.0</td>\n",
       "      <td>10.285714</td>\n",
       "    </tr>\n",
       "    <tr>\n",
       "      <th>978875</th>\n",
       "      <td>VX</td>\n",
       "      <td>LAX</td>\n",
       "      <td>58.0</td>\n",
       "      <td>1647</td>\n",
       "      <td>304.0</td>\n",
       "      <td>2454.0</td>\n",
       "      <td>2018</td>\n",
       "      <td>3</td>\n",
       "      <td>28</td>\n",
       "      <td>0.0</td>\n",
       "      <td>10.285714</td>\n",
       "    </tr>\n",
       "  </tbody>\n",
       "</table>\n",
       "<p>978876 rows × 11 columns</p>\n",
       "</div>"
      ],
      "text/plain": [
       "       op_unique_carrier origin  arr_delay  crs_arr_time  actual_elapsed_time  \\\n",
       "0                     AS    PDX       -5.0          1941                139.0   \n",
       "1                     AS    ONT       -6.0          1230                166.0   \n",
       "2                     AS    LAX      -22.0          1610                125.0   \n",
       "3                     AS    SEA        3.0            16                 59.0   \n",
       "4                     AS    MCO       -3.0          1940                309.0   \n",
       "...                  ...    ...        ...           ...                  ...   \n",
       "978871                VX    LAX      -15.0          2259                171.0   \n",
       "978872                VX    JFK       -1.0          1048                361.0   \n",
       "978873                VX    SFO       14.0          1335                 83.0   \n",
       "978874                VX    SFO      -28.0          1615                292.0   \n",
       "978875                VX    LAX       58.0          1647                304.0   \n",
       "\n",
       "        distance  year  month  day  weekday  total_delay  \n",
       "0          834.0  2018      8   26      1.0     9.120756  \n",
       "1          956.0  2019      7    2      0.0     9.120756  \n",
       "2          834.0  2019      8    7      0.0     9.120756  \n",
       "3          224.0  2018      5   31      0.0     9.120756  \n",
       "4         2149.0  2019      8   26      0.0     9.120756  \n",
       "...          ...   ...    ...  ...      ...          ...  \n",
       "978871    1246.0  2018      3   15      0.0    10.285714  \n",
       "978872    2248.0  2018      2   26      0.0    10.285714  \n",
       "978873     337.0  2018      3    9      0.0    10.285714  \n",
       "978874    2446.0  2018      1   23      0.0    10.285714  \n",
       "978875    2454.0  2018      3   28      0.0    10.285714  \n",
       "\n",
       "[978876 rows x 11 columns]"
      ]
     },
     "execution_count": 16,
     "metadata": {},
     "output_type": "execute_result"
    }
   ],
   "source": [
    "flights_data = flights_data.drop(columns = ['fl_date','mkt_unique_carrier','dest','dep_delay','dep_time','arr_time','nas_delay','security_delay','weather_delay','late_aircraft_delay','carrier_delay'])\n",
    "flights_data"
   ]
  },
  {
   "cell_type": "code",
   "execution_count": 17,
   "metadata": {},
   "outputs": [],
   "source": [
    "# from sklearn.preprocessing import LabelEncoder\n",
    "# le = LabelEncoder()\n",
    "# flights_data[\"origin\"]= le.fit_transform(flights_data[\"origin\"])\n",
    "\n",
    "#Did not end up using this"
   ]
  },
  {
   "cell_type": "code",
   "execution_count": 53,
   "metadata": {},
   "outputs": [
    {
     "data": {
      "text/html": [
       "<div>\n",
       "<style scoped>\n",
       "    .dataframe tbody tr th:only-of-type {\n",
       "        vertical-align: middle;\n",
       "    }\n",
       "\n",
       "    .dataframe tbody tr th {\n",
       "        vertical-align: top;\n",
       "    }\n",
       "\n",
       "    .dataframe thead th {\n",
       "        text-align: right;\n",
       "    }\n",
       "</style>\n",
       "<table border=\"1\" class=\"dataframe\">\n",
       "  <thead>\n",
       "    <tr style=\"text-align: right;\">\n",
       "      <th></th>\n",
       "      <th>op_unique_carrier</th>\n",
       "      <th>origin</th>\n",
       "      <th>arr_delay</th>\n",
       "      <th>crs_arr_time</th>\n",
       "      <th>actual_elapsed_time</th>\n",
       "      <th>distance</th>\n",
       "      <th>year</th>\n",
       "      <th>month</th>\n",
       "      <th>day</th>\n",
       "      <th>weekday</th>\n",
       "      <th>total_delay</th>\n",
       "    </tr>\n",
       "  </thead>\n",
       "  <tbody>\n",
       "    <tr>\n",
       "      <th>0</th>\n",
       "      <td>AS</td>\n",
       "      <td>PDX</td>\n",
       "      <td>-5.0</td>\n",
       "      <td>1941</td>\n",
       "      <td>139.0</td>\n",
       "      <td>834.0</td>\n",
       "      <td>2018</td>\n",
       "      <td>8</td>\n",
       "      <td>26</td>\n",
       "      <td>1.0</td>\n",
       "      <td>9.120756</td>\n",
       "    </tr>\n",
       "    <tr>\n",
       "      <th>1</th>\n",
       "      <td>AS</td>\n",
       "      <td>ONT</td>\n",
       "      <td>-6.0</td>\n",
       "      <td>1230</td>\n",
       "      <td>166.0</td>\n",
       "      <td>956.0</td>\n",
       "      <td>2019</td>\n",
       "      <td>7</td>\n",
       "      <td>2</td>\n",
       "      <td>0.0</td>\n",
       "      <td>9.120756</td>\n",
       "    </tr>\n",
       "    <tr>\n",
       "      <th>2</th>\n",
       "      <td>AS</td>\n",
       "      <td>LAX</td>\n",
       "      <td>-22.0</td>\n",
       "      <td>1610</td>\n",
       "      <td>125.0</td>\n",
       "      <td>834.0</td>\n",
       "      <td>2019</td>\n",
       "      <td>8</td>\n",
       "      <td>7</td>\n",
       "      <td>0.0</td>\n",
       "      <td>9.120756</td>\n",
       "    </tr>\n",
       "    <tr>\n",
       "      <th>3</th>\n",
       "      <td>AS</td>\n",
       "      <td>SEA</td>\n",
       "      <td>3.0</td>\n",
       "      <td>16</td>\n",
       "      <td>59.0</td>\n",
       "      <td>224.0</td>\n",
       "      <td>2018</td>\n",
       "      <td>5</td>\n",
       "      <td>31</td>\n",
       "      <td>0.0</td>\n",
       "      <td>9.120756</td>\n",
       "    </tr>\n",
       "    <tr>\n",
       "      <th>4</th>\n",
       "      <td>AS</td>\n",
       "      <td>MCO</td>\n",
       "      <td>-3.0</td>\n",
       "      <td>1940</td>\n",
       "      <td>309.0</td>\n",
       "      <td>2149.0</td>\n",
       "      <td>2019</td>\n",
       "      <td>8</td>\n",
       "      <td>26</td>\n",
       "      <td>0.0</td>\n",
       "      <td>9.120756</td>\n",
       "    </tr>\n",
       "    <tr>\n",
       "      <th>...</th>\n",
       "      <td>...</td>\n",
       "      <td>...</td>\n",
       "      <td>...</td>\n",
       "      <td>...</td>\n",
       "      <td>...</td>\n",
       "      <td>...</td>\n",
       "      <td>...</td>\n",
       "      <td>...</td>\n",
       "      <td>...</td>\n",
       "      <td>...</td>\n",
       "      <td>...</td>\n",
       "    </tr>\n",
       "    <tr>\n",
       "      <th>978871</th>\n",
       "      <td>VX</td>\n",
       "      <td>LAX</td>\n",
       "      <td>-15.0</td>\n",
       "      <td>2259</td>\n",
       "      <td>171.0</td>\n",
       "      <td>1246.0</td>\n",
       "      <td>2018</td>\n",
       "      <td>3</td>\n",
       "      <td>15</td>\n",
       "      <td>0.0</td>\n",
       "      <td>10.285714</td>\n",
       "    </tr>\n",
       "    <tr>\n",
       "      <th>978872</th>\n",
       "      <td>VX</td>\n",
       "      <td>JFK</td>\n",
       "      <td>-1.0</td>\n",
       "      <td>1048</td>\n",
       "      <td>361.0</td>\n",
       "      <td>2248.0</td>\n",
       "      <td>2018</td>\n",
       "      <td>2</td>\n",
       "      <td>26</td>\n",
       "      <td>0.0</td>\n",
       "      <td>10.285714</td>\n",
       "    </tr>\n",
       "    <tr>\n",
       "      <th>978873</th>\n",
       "      <td>VX</td>\n",
       "      <td>SFO</td>\n",
       "      <td>14.0</td>\n",
       "      <td>1335</td>\n",
       "      <td>83.0</td>\n",
       "      <td>337.0</td>\n",
       "      <td>2018</td>\n",
       "      <td>3</td>\n",
       "      <td>9</td>\n",
       "      <td>0.0</td>\n",
       "      <td>10.285714</td>\n",
       "    </tr>\n",
       "    <tr>\n",
       "      <th>978874</th>\n",
       "      <td>VX</td>\n",
       "      <td>SFO</td>\n",
       "      <td>-28.0</td>\n",
       "      <td>1615</td>\n",
       "      <td>292.0</td>\n",
       "      <td>2446.0</td>\n",
       "      <td>2018</td>\n",
       "      <td>1</td>\n",
       "      <td>23</td>\n",
       "      <td>0.0</td>\n",
       "      <td>10.285714</td>\n",
       "    </tr>\n",
       "    <tr>\n",
       "      <th>978875</th>\n",
       "      <td>VX</td>\n",
       "      <td>LAX</td>\n",
       "      <td>58.0</td>\n",
       "      <td>1647</td>\n",
       "      <td>304.0</td>\n",
       "      <td>2454.0</td>\n",
       "      <td>2018</td>\n",
       "      <td>3</td>\n",
       "      <td>28</td>\n",
       "      <td>0.0</td>\n",
       "      <td>10.285714</td>\n",
       "    </tr>\n",
       "  </tbody>\n",
       "</table>\n",
       "<p>978876 rows × 11 columns</p>\n",
       "</div>"
      ],
      "text/plain": [
       "       op_unique_carrier origin  arr_delay  crs_arr_time  actual_elapsed_time  \\\n",
       "0                     AS    PDX       -5.0          1941                139.0   \n",
       "1                     AS    ONT       -6.0          1230                166.0   \n",
       "2                     AS    LAX      -22.0          1610                125.0   \n",
       "3                     AS    SEA        3.0            16                 59.0   \n",
       "4                     AS    MCO       -3.0          1940                309.0   \n",
       "...                  ...    ...        ...           ...                  ...   \n",
       "978871                VX    LAX      -15.0          2259                171.0   \n",
       "978872                VX    JFK       -1.0          1048                361.0   \n",
       "978873                VX    SFO       14.0          1335                 83.0   \n",
       "978874                VX    SFO      -28.0          1615                292.0   \n",
       "978875                VX    LAX       58.0          1647                304.0   \n",
       "\n",
       "        distance  year  month  day  weekday  total_delay  \n",
       "0          834.0  2018      8   26      1.0     9.120756  \n",
       "1          956.0  2019      7    2      0.0     9.120756  \n",
       "2          834.0  2019      8    7      0.0     9.120756  \n",
       "3          224.0  2018      5   31      0.0     9.120756  \n",
       "4         2149.0  2019      8   26      0.0     9.120756  \n",
       "...          ...   ...    ...  ...      ...          ...  \n",
       "978871    1246.0  2018      3   15      0.0    10.285714  \n",
       "978872    2248.0  2018      2   26      0.0    10.285714  \n",
       "978873     337.0  2018      3    9      0.0    10.285714  \n",
       "978874    2446.0  2018      1   23      0.0    10.285714  \n",
       "978875    2454.0  2018      3   28      0.0    10.285714  \n",
       "\n",
       "[978876 rows x 11 columns]"
      ]
     },
     "execution_count": 53,
     "metadata": {},
     "output_type": "execute_result"
    }
   ],
   "source": [
    "flights_data"
   ]
  },
  {
   "cell_type": "markdown",
   "metadata": {},
   "source": [
    "## Baseline Model #1 Random Forest"
   ]
  },
  {
   "cell_type": "code",
   "execution_count": 19,
   "metadata": {},
   "outputs": [],
   "source": [
    "X = flights_data[['crs_arr_time','actual_elapsed_time','distance','year','month','day','weekday','total_delay']]\n",
    "y = flights_data['arr_delay']"
   ]
  },
  {
   "cell_type": "code",
   "execution_count": 32,
   "metadata": {},
   "outputs": [],
   "source": [
    "from sklearn.model_selection import train_test_split\n",
    "# Split dataset into training set and test set\n",
    "X_train, X_test, y_train, y_test = train_test_split(X, y, test_size=0.3) # 70% training and 30% test"
   ]
  },
  {
   "cell_type": "code",
   "execution_count": 33,
   "metadata": {},
   "outputs": [],
   "source": [
    "#Import Random Forest Model\n",
    "from sklearn.ensemble import RandomForestRegressor\n",
    "from sklearn.metrics import mean_squared_error\n",
    "import numpy as np"
   ]
  },
  {
   "cell_type": "code",
   "execution_count": 23,
   "metadata": {},
   "outputs": [],
   "source": [
    "#Fitting against itself\n",
    "reg = RandomForestRegressor(n_estimators=100)\n",
    "\n",
    "reg.fit(X_train,y_train)\n",
    "\n",
    "y_pred=reg.predict(X_test)\n",
    "\n"
   ]
  },
  {
   "cell_type": "code",
   "execution_count": 24,
   "metadata": {},
   "outputs": [
    {
     "data": {
      "text/plain": [
       "43.150523078894665"
      ]
     },
     "execution_count": 24,
     "metadata": {},
     "output_type": "execute_result"
    }
   ],
   "source": [
    " rmse = np.sqrt(mean_squared_error(y_test, y_pred))\n",
    " rmse"
   ]
  },
  {
   "cell_type": "code",
   "execution_count": 26,
   "metadata": {},
   "outputs": [
    {
     "data": {
      "text/plain": [
       "0.06780089349757812"
      ]
     },
     "execution_count": 26,
     "metadata": {},
     "output_type": "execute_result"
    }
   ],
   "source": [
    "reg.score(X_test,y_test)"
   ]
  },
  {
   "cell_type": "markdown",
   "metadata": {},
   "source": [
    "## Dummy Regressor "
   ]
  },
  {
   "cell_type": "code",
   "execution_count": 49,
   "metadata": {},
   "outputs": [
    {
     "data": {
      "text/plain": [
       "DummyRegressor(strategy='median')"
      ]
     },
     "execution_count": 49,
     "metadata": {},
     "output_type": "execute_result"
    }
   ],
   "source": [
    "from sklearn.dummy import DummyRegressor\n",
    "\n",
    "dumreg = DummyRegressor(strategy='mean')\n",
    "dumreg2 = DummyRegressor(strategy='median')\n",
    "dumreg.fit(X_train,y_train)\n",
    "dumreg2.fit(X_train,y_train)\n"
   ]
  },
  {
   "cell_type": "code",
   "execution_count": 50,
   "metadata": {},
   "outputs": [],
   "source": [
    "y_pred = dumreg.predict(X_test)\n",
    "y_pred2 = dumreg.predict(X_test)"
   ]
  },
  {
   "cell_type": "code",
   "execution_count": 52,
   "metadata": {},
   "outputs": [
    {
     "data": {
      "text/plain": [
       "1.0"
      ]
     },
     "execution_count": 52,
     "metadata": {},
     "output_type": "execute_result"
    }
   ],
   "source": [
    "dumreg.score(y_test,y_pred)\n",
    "#dumreg2.score(y_test,y_pred2)"
   ]
  },
  {
   "cell_type": "markdown",
   "metadata": {},
   "source": [
    "## Linear Regression"
   ]
  },
  {
   "cell_type": "code",
   "execution_count": 55,
   "metadata": {},
   "outputs": [],
   "source": [
    "from sklearn.linear_model import LinearRegression"
   ]
  },
  {
   "cell_type": "code",
   "execution_count": 58,
   "metadata": {},
   "outputs": [],
   "source": [
    "from sklearn.metrics import mean_absolute_error"
   ]
  },
  {
   "cell_type": "code",
   "execution_count": 60,
   "metadata": {},
   "outputs": [],
   "source": [
    "from sklearn.metrics import r2_score"
   ]
  },
  {
   "cell_type": "code",
   "execution_count": 56,
   "metadata": {},
   "outputs": [],
   "source": [
    "# creating linear regression\n",
    "lr = LinearRegression()\n",
    "lr.fit(X_train,y_train)\n",
    "y_lr = lr.predict(X_test)"
   ]
  },
  {
   "cell_type": "code",
   "execution_count": 61,
   "metadata": {},
   "outputs": [
    {
     "data": {
      "text/plain": [
       "22.684766749129167"
      ]
     },
     "execution_count": 61,
     "metadata": {},
     "output_type": "execute_result"
    }
   ],
   "source": [
    "MAElr = mean_absolute_error(y_test,y_lr)\n",
    "MAElr"
   ]
  },
  {
   "cell_type": "code",
   "execution_count": 63,
   "metadata": {},
   "outputs": [
    {
     "data": {
      "text/plain": [
       "0.07556653196262775"
      ]
     },
     "execution_count": 63,
     "metadata": {},
     "output_type": "execute_result"
    }
   ],
   "source": [
    "R2lr = r2_score(y_test,y_lr)\n",
    "R2lr"
   ]
  },
  {
   "cell_type": "markdown",
   "metadata": {},
   "source": []
  }
 ],
 "metadata": {
  "interpreter": {
   "hash": "8081f90547afca37de35b9b55ce64e18fb565f570f96ad62d440ae0df9df4a0a"
  },
  "kernelspec": {
   "display_name": "Python 3.8.10 64-bit ('myenv': conda)",
   "name": "python3"
  },
  "language_info": {
   "codemirror_mode": {
    "name": "ipython",
    "version": 3
   },
   "file_extension": ".py",
   "mimetype": "text/x-python",
   "name": "python",
   "nbconvert_exporter": "python",
   "pygments_lexer": "ipython3",
   "version": "3.8.10"
  },
  "orig_nbformat": 4
 },
 "nbformat": 4,
 "nbformat_minor": 2
}