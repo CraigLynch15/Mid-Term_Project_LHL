{
 "cells": [
  {
   "cell_type": "code",
   "execution_count": 123,
   "metadata": {},
   "outputs": [],
   "source": [
    "#import libraries\n",
    "import pandas as pd\n",
    "import psycopg2\n",
    "import seaborn as sns"
   ]
  },
  {
   "cell_type": "code",
   "execution_count": 58,
   "metadata": {},
   "outputs": [],
   "source": [
    "# Connect to flight database via postgress\n",
    "con = psycopg2.connect(\n",
    "    host =\"mid-term-project.ca2jkepgjpne.us-east-2.rds.amazonaws.com\",\n",
    "    port = 5432,\n",
    "    user = \"lhl_student\",\n",
    "    password = \"lhl_student\",\n",
    "    database =  'mid_term_project'\n",
    ")\n",
    "\n",
    "sql = 'SELECT fl_date,op_unique_carrier,carrier_delay,weather_delay,nas_delay,security_delay,late_aircraft_delay,dep_delay,arr_delay FROM flights ORDER BY RANDOM() LIMIT 1000000;'\n",
    "data = pd.read_sql_query(sql,con)\n",
    "con.close()"
   ]
  },
  {
   "cell_type": "markdown",
   "metadata": {},
   "source": [
    "Formulate Hypothesis:\n"
   ]
  },
  {
   "cell_type": "markdown",
   "metadata": {},
   "source": [
    "1. Delay is from Normal Distribution with mean centered at 0\n",
    "2. Arrival delay is a better metric as departure delays can be compensated for\n",
    "3.\n",
    "4.\n"
   ]
  },
  {
   "cell_type": "markdown",
   "metadata": {},
   "source": [
    "### Initial Exploration"
   ]
  },
  {
   "cell_type": "code",
   "execution_count": 70,
   "metadata": {},
   "outputs": [
    {
     "data": {
      "text/html": [
       "<div>\n",
       "<style scoped>\n",
       "    .dataframe tbody tr th:only-of-type {\n",
       "        vertical-align: middle;\n",
       "    }\n",
       "\n",
       "    .dataframe tbody tr th {\n",
       "        vertical-align: top;\n",
       "    }\n",
       "\n",
       "    .dataframe thead th {\n",
       "        text-align: right;\n",
       "    }\n",
       "</style>\n",
       "<table border=\"1\" class=\"dataframe\">\n",
       "  <thead>\n",
       "    <tr style=\"text-align: right;\">\n",
       "      <th></th>\n",
       "      <th>fl_date</th>\n",
       "      <th>op_unique_carrier</th>\n",
       "      <th>carrier_delay</th>\n",
       "      <th>weather_delay</th>\n",
       "      <th>nas_delay</th>\n",
       "      <th>security_delay</th>\n",
       "      <th>late_aircraft_delay</th>\n",
       "      <th>dep_delay</th>\n",
       "      <th>arr_delay</th>\n",
       "    </tr>\n",
       "  </thead>\n",
       "  <tbody>\n",
       "    <tr>\n",
       "      <th>0</th>\n",
       "      <td>2019-04-14</td>\n",
       "      <td>OO</td>\n",
       "      <td>0.0</td>\n",
       "      <td>0.0</td>\n",
       "      <td>0.0</td>\n",
       "      <td>0.0</td>\n",
       "      <td>0.0</td>\n",
       "      <td>-7.0</td>\n",
       "      <td>-19.0</td>\n",
       "    </tr>\n",
       "    <tr>\n",
       "      <th>1</th>\n",
       "      <td>2018-01-29</td>\n",
       "      <td>CP</td>\n",
       "      <td>0.0</td>\n",
       "      <td>0.0</td>\n",
       "      <td>0.0</td>\n",
       "      <td>0.0</td>\n",
       "      <td>0.0</td>\n",
       "      <td>-2.0</td>\n",
       "      <td>-33.0</td>\n",
       "    </tr>\n",
       "    <tr>\n",
       "      <th>2</th>\n",
       "      <td>2019-04-25</td>\n",
       "      <td>UA</td>\n",
       "      <td>0.0</td>\n",
       "      <td>0.0</td>\n",
       "      <td>0.0</td>\n",
       "      <td>0.0</td>\n",
       "      <td>0.0</td>\n",
       "      <td>21.0</td>\n",
       "      <td>6.0</td>\n",
       "    </tr>\n",
       "    <tr>\n",
       "      <th>3</th>\n",
       "      <td>2019-11-23</td>\n",
       "      <td>UA</td>\n",
       "      <td>0.0</td>\n",
       "      <td>0.0</td>\n",
       "      <td>0.0</td>\n",
       "      <td>0.0</td>\n",
       "      <td>0.0</td>\n",
       "      <td>-3.0</td>\n",
       "      <td>-24.0</td>\n",
       "    </tr>\n",
       "    <tr>\n",
       "      <th>4</th>\n",
       "      <td>2019-02-18</td>\n",
       "      <td>AA</td>\n",
       "      <td>2.0</td>\n",
       "      <td>0.0</td>\n",
       "      <td>24.0</td>\n",
       "      <td>0.0</td>\n",
       "      <td>0.0</td>\n",
       "      <td>2.0</td>\n",
       "      <td>26.0</td>\n",
       "    </tr>\n",
       "  </tbody>\n",
       "</table>\n",
       "</div>"
      ],
      "text/plain": [
       "      fl_date op_unique_carrier  carrier_delay  weather_delay  nas_delay  \\\n",
       "0  2019-04-14                OO            0.0            0.0        0.0   \n",
       "1  2018-01-29                CP            0.0            0.0        0.0   \n",
       "2  2019-04-25                UA            0.0            0.0        0.0   \n",
       "3  2019-11-23                UA            0.0            0.0        0.0   \n",
       "4  2019-02-18                AA            2.0            0.0       24.0   \n",
       "\n",
       "   security_delay  late_aircraft_delay  dep_delay  arr_delay  \n",
       "0             0.0                  0.0       -7.0      -19.0  \n",
       "1             0.0                  0.0       -2.0      -33.0  \n",
       "2             0.0                  0.0       21.0        6.0  \n",
       "3             0.0                  0.0       -3.0      -24.0  \n",
       "4             0.0                  0.0        2.0       26.0  "
      ]
     },
     "execution_count": 70,
     "metadata": {},
     "output_type": "execute_result"
    }
   ],
   "source": [
    "data.head()"
   ]
  },
  {
   "cell_type": "code",
   "execution_count": 60,
   "metadata": {},
   "outputs": [
    {
     "data": {
      "text/html": [
       "<div>\n",
       "<style scoped>\n",
       "    .dataframe tbody tr th:only-of-type {\n",
       "        vertical-align: middle;\n",
       "    }\n",
       "\n",
       "    .dataframe tbody tr th {\n",
       "        vertical-align: top;\n",
       "    }\n",
       "\n",
       "    .dataframe thead th {\n",
       "        text-align: right;\n",
       "    }\n",
       "</style>\n",
       "<table border=\"1\" class=\"dataframe\">\n",
       "  <thead>\n",
       "    <tr style=\"text-align: right;\">\n",
       "      <th></th>\n",
       "      <th>carrier_delay</th>\n",
       "      <th>weather_delay</th>\n",
       "      <th>nas_delay</th>\n",
       "      <th>security_delay</th>\n",
       "      <th>late_aircraft_delay</th>\n",
       "      <th>dep_delay</th>\n",
       "      <th>arr_delay</th>\n",
       "    </tr>\n",
       "  </thead>\n",
       "  <tbody>\n",
       "    <tr>\n",
       "      <th>count</th>\n",
       "      <td>188330.000000</td>\n",
       "      <td>188330.000000</td>\n",
       "      <td>188330.000000</td>\n",
       "      <td>188330.000000</td>\n",
       "      <td>188330.000000</td>\n",
       "      <td>983531.000000</td>\n",
       "      <td>980473.000000</td>\n",
       "    </tr>\n",
       "    <tr>\n",
       "      <th>mean</th>\n",
       "      <td>20.347273</td>\n",
       "      <td>3.718510</td>\n",
       "      <td>16.284904</td>\n",
       "      <td>0.087867</td>\n",
       "      <td>27.412929</td>\n",
       "      <td>10.528783</td>\n",
       "      <td>5.457656</td>\n",
       "    </tr>\n",
       "    <tr>\n",
       "      <th>std</th>\n",
       "      <td>63.623666</td>\n",
       "      <td>31.813545</td>\n",
       "      <td>38.190389</td>\n",
       "      <td>3.256353</td>\n",
       "      <td>52.826168</td>\n",
       "      <td>47.888798</td>\n",
       "      <td>50.037144</td>\n",
       "    </tr>\n",
       "    <tr>\n",
       "      <th>min</th>\n",
       "      <td>0.000000</td>\n",
       "      <td>0.000000</td>\n",
       "      <td>0.000000</td>\n",
       "      <td>0.000000</td>\n",
       "      <td>0.000000</td>\n",
       "      <td>-292.000000</td>\n",
       "      <td>-258.000000</td>\n",
       "    </tr>\n",
       "    <tr>\n",
       "      <th>25%</th>\n",
       "      <td>0.000000</td>\n",
       "      <td>0.000000</td>\n",
       "      <td>0.000000</td>\n",
       "      <td>0.000000</td>\n",
       "      <td>0.000000</td>\n",
       "      <td>-6.000000</td>\n",
       "      <td>-15.000000</td>\n",
       "    </tr>\n",
       "    <tr>\n",
       "      <th>50%</th>\n",
       "      <td>0.000000</td>\n",
       "      <td>0.000000</td>\n",
       "      <td>3.000000</td>\n",
       "      <td>0.000000</td>\n",
       "      <td>3.000000</td>\n",
       "      <td>-2.000000</td>\n",
       "      <td>-6.000000</td>\n",
       "    </tr>\n",
       "    <tr>\n",
       "      <th>75%</th>\n",
       "      <td>17.000000</td>\n",
       "      <td>0.000000</td>\n",
       "      <td>20.000000</td>\n",
       "      <td>0.000000</td>\n",
       "      <td>33.000000</td>\n",
       "      <td>7.000000</td>\n",
       "      <td>8.000000</td>\n",
       "    </tr>\n",
       "    <tr>\n",
       "      <th>max</th>\n",
       "      <td>2041.000000</td>\n",
       "      <td>1416.000000</td>\n",
       "      <td>1516.000000</td>\n",
       "      <td>987.000000</td>\n",
       "      <td>1716.000000</td>\n",
       "      <td>2058.000000</td>\n",
       "      <td>2041.000000</td>\n",
       "    </tr>\n",
       "  </tbody>\n",
       "</table>\n",
       "</div>"
      ],
      "text/plain": [
       "       carrier_delay  weather_delay      nas_delay  security_delay  \\\n",
       "count  188330.000000  188330.000000  188330.000000   188330.000000   \n",
       "mean       20.347273       3.718510      16.284904        0.087867   \n",
       "std        63.623666      31.813545      38.190389        3.256353   \n",
       "min         0.000000       0.000000       0.000000        0.000000   \n",
       "25%         0.000000       0.000000       0.000000        0.000000   \n",
       "50%         0.000000       0.000000       3.000000        0.000000   \n",
       "75%        17.000000       0.000000      20.000000        0.000000   \n",
       "max      2041.000000    1416.000000    1516.000000      987.000000   \n",
       "\n",
       "       late_aircraft_delay      dep_delay      arr_delay  \n",
       "count        188330.000000  983531.000000  980473.000000  \n",
       "mean             27.412929      10.528783       5.457656  \n",
       "std              52.826168      47.888798      50.037144  \n",
       "min               0.000000    -292.000000    -258.000000  \n",
       "25%               0.000000      -6.000000     -15.000000  \n",
       "50%               3.000000      -2.000000      -6.000000  \n",
       "75%              33.000000       7.000000       8.000000  \n",
       "max            1716.000000    2058.000000    2041.000000  "
      ]
     },
     "execution_count": 60,
     "metadata": {},
     "output_type": "execute_result"
    }
   ],
   "source": [
    "data.describe()"
   ]
  },
  {
   "cell_type": "markdown",
   "metadata": {},
   "source": [
    "### Check Null Values"
   ]
  },
  {
   "cell_type": "code",
   "execution_count": null,
   "metadata": {},
   "outputs": [],
   "source": [
    "# Check NaN values\n",
    "# missing data\n",
    "total = data.isnull().sum().sort_values(ascending=False)\n",
    "percent = (data.isnull().sum()/data.isnull().count()).sort_values(ascending=False)\n",
    "missing_data = pd.concat([total, percent], axis=1, keys=['Total', 'Percent'])\n",
    "#missing_data\n",
    "\n",
    "missing_data"
   ]
  },
  {
   "cell_type": "code",
   "execution_count": 69,
   "metadata": {},
   "outputs": [],
   "source": [
    "#Remove null values associated with arrival and departure delays\n",
    "to_drop = ['arr_delay','dep_delay']\n",
    "data = data.dropna(axis=0,how='any',subset = to_drop)\n",
    "\n",
    "#Fill remaining null values with 0 to indicate no delay in respective area\n",
    "data[\"late_aircraft_delay\"] = data[\"late_aircraft_delay\"].fillna(0)\n",
    "data[\"security_delay\"] = data[\"security_delay\"].fillna(0)\n",
    "data[\"nas_delay\"] = data[\"nas_delay\"].fillna(0)\n",
    "data[\"weather_delay\"] = data[\"weather_delay\"].fillna(0)\n",
    "data[\"carrier_delay\"] = data[\"carrier_delay\"].fillna(0)"
   ]
  },
  {
   "cell_type": "code",
   "execution_count": null,
   "metadata": {},
   "outputs": [],
   "source": [
    "# RE-Check NaN values\n",
    "\n",
    "# missing data\n",
    "total = data.isnull().sum().sort_values(ascending=False)\n",
    "percent = (data.isnull().sum()/data.isnull().count()).sort_values(ascending=False)\n",
    "missing_data = pd.concat([total, percent], axis=1, keys=['Total', 'Percent'])\n",
    "\n",
    "\n",
    "missing_data"
   ]
  },
  {
   "cell_type": "markdown",
   "metadata": {},
   "source": [
    "### Correlation"
   ]
  },
  {
   "cell_type": "code",
   "execution_count": 64,
   "metadata": {},
   "outputs": [
    {
     "data": {
      "text/html": [
       "<style  type=\"text/css\" >\n",
       "    #T_b43b9020_ec1c_11eb_804f_08002705c719row0_col0 {\n",
       "            background-color:  #b40426;\n",
       "            color:  #f1f1f1;\n",
       "        }    #T_b43b9020_ec1c_11eb_804f_08002705c719row0_col1 {\n",
       "            background-color:  #3b4cc0;\n",
       "            color:  #f1f1f1;\n",
       "        }    #T_b43b9020_ec1c_11eb_804f_08002705c719row0_col2 {\n",
       "            background-color:  #3f53c6;\n",
       "            color:  #f1f1f1;\n",
       "        }    #T_b43b9020_ec1c_11eb_804f_08002705c719row0_col3 {\n",
       "            background-color:  #3b4cc0;\n",
       "            color:  #f1f1f1;\n",
       "        }    #T_b43b9020_ec1c_11eb_804f_08002705c719row0_col4 {\n",
       "            background-color:  #4961d2;\n",
       "            color:  #f1f1f1;\n",
       "        }    #T_b43b9020_ec1c_11eb_804f_08002705c719row0_col5 {\n",
       "            background-color:  #f6bea4;\n",
       "            color:  #000000;\n",
       "        }    #T_b43b9020_ec1c_11eb_804f_08002705c719row0_col6 {\n",
       "            background-color:  #f4c5ad;\n",
       "            color:  #000000;\n",
       "        }    #T_b43b9020_ec1c_11eb_804f_08002705c719row1_col0 {\n",
       "            background-color:  #3b4cc0;\n",
       "            color:  #f1f1f1;\n",
       "        }    #T_b43b9020_ec1c_11eb_804f_08002705c719row1_col1 {\n",
       "            background-color:  #b40426;\n",
       "            color:  #f1f1f1;\n",
       "        }    #T_b43b9020_ec1c_11eb_804f_08002705c719row1_col2 {\n",
       "            background-color:  #4055c8;\n",
       "            color:  #f1f1f1;\n",
       "        }    #T_b43b9020_ec1c_11eb_804f_08002705c719row1_col3 {\n",
       "            background-color:  #3b4cc0;\n",
       "            color:  #f1f1f1;\n",
       "        }    #T_b43b9020_ec1c_11eb_804f_08002705c719row1_col4 {\n",
       "            background-color:  #4055c8;\n",
       "            color:  #f1f1f1;\n",
       "        }    #T_b43b9020_ec1c_11eb_804f_08002705c719row1_col5 {\n",
       "            background-color:  #9abbff;\n",
       "            color:  #000000;\n",
       "        }    #T_b43b9020_ec1c_11eb_804f_08002705c719row1_col6 {\n",
       "            background-color:  #98b9ff;\n",
       "            color:  #000000;\n",
       "        }    #T_b43b9020_ec1c_11eb_804f_08002705c719row2_col0 {\n",
       "            background-color:  #4055c8;\n",
       "            color:  #f1f1f1;\n",
       "        }    #T_b43b9020_ec1c_11eb_804f_08002705c719row2_col1 {\n",
       "            background-color:  #4257c9;\n",
       "            color:  #f1f1f1;\n",
       "        }    #T_b43b9020_ec1c_11eb_804f_08002705c719row2_col2 {\n",
       "            background-color:  #b40426;\n",
       "            color:  #f1f1f1;\n",
       "        }    #T_b43b9020_ec1c_11eb_804f_08002705c719row2_col3 {\n",
       "            background-color:  #3b4cc0;\n",
       "            color:  #f1f1f1;\n",
       "        }    #T_b43b9020_ec1c_11eb_804f_08002705c719row2_col4 {\n",
       "            background-color:  #485fd1;\n",
       "            color:  #f1f1f1;\n",
       "        }    #T_b43b9020_ec1c_11eb_804f_08002705c719row2_col5 {\n",
       "            background-color:  #a5c3fe;\n",
       "            color:  #000000;\n",
       "        }    #T_b43b9020_ec1c_11eb_804f_08002705c719row2_col6 {\n",
       "            background-color:  #c3d5f4;\n",
       "            color:  #000000;\n",
       "        }    #T_b43b9020_ec1c_11eb_804f_08002705c719row3_col0 {\n",
       "            background-color:  #3b4cc0;\n",
       "            color:  #f1f1f1;\n",
       "        }    #T_b43b9020_ec1c_11eb_804f_08002705c719row3_col1 {\n",
       "            background-color:  #3b4cc0;\n",
       "            color:  #f1f1f1;\n",
       "        }    #T_b43b9020_ec1c_11eb_804f_08002705c719row3_col2 {\n",
       "            background-color:  #3b4cc0;\n",
       "            color:  #f1f1f1;\n",
       "        }    #T_b43b9020_ec1c_11eb_804f_08002705c719row3_col3 {\n",
       "            background-color:  #b40426;\n",
       "            color:  #f1f1f1;\n",
       "        }    #T_b43b9020_ec1c_11eb_804f_08002705c719row3_col4 {\n",
       "            background-color:  #3b4cc0;\n",
       "            color:  #f1f1f1;\n",
       "        }    #T_b43b9020_ec1c_11eb_804f_08002705c719row3_col5 {\n",
       "            background-color:  #3b4cc0;\n",
       "            color:  #f1f1f1;\n",
       "        }    #T_b43b9020_ec1c_11eb_804f_08002705c719row3_col6 {\n",
       "            background-color:  #3b4cc0;\n",
       "            color:  #f1f1f1;\n",
       "        }    #T_b43b9020_ec1c_11eb_804f_08002705c719row4_col0 {\n",
       "            background-color:  #4c66d6;\n",
       "            color:  #000000;\n",
       "        }    #T_b43b9020_ec1c_11eb_804f_08002705c719row4_col1 {\n",
       "            background-color:  #445acc;\n",
       "            color:  #f1f1f1;\n",
       "        }    #T_b43b9020_ec1c_11eb_804f_08002705c719row4_col2 {\n",
       "            background-color:  #4961d2;\n",
       "            color:  #f1f1f1;\n",
       "        }    #T_b43b9020_ec1c_11eb_804f_08002705c719row4_col3 {\n",
       "            background-color:  #3c4ec2;\n",
       "            color:  #f1f1f1;\n",
       "        }    #T_b43b9020_ec1c_11eb_804f_08002705c719row4_col4 {\n",
       "            background-color:  #b40426;\n",
       "            color:  #f1f1f1;\n",
       "        }    #T_b43b9020_ec1c_11eb_804f_08002705c719row4_col5 {\n",
       "            background-color:  #f2c9b4;\n",
       "            color:  #000000;\n",
       "        }    #T_b43b9020_ec1c_11eb_804f_08002705c719row4_col6 {\n",
       "            background-color:  #f0cdbb;\n",
       "            color:  #000000;\n",
       "        }    #T_b43b9020_ec1c_11eb_804f_08002705c719row5_col0 {\n",
       "            background-color:  #f7ba9f;\n",
       "            color:  #000000;\n",
       "        }    #T_b43b9020_ec1c_11eb_804f_08002705c719row5_col1 {\n",
       "            background-color:  #a3c2fe;\n",
       "            color:  #000000;\n",
       "        }    #T_b43b9020_ec1c_11eb_804f_08002705c719row5_col2 {\n",
       "            background-color:  #adc9fd;\n",
       "            color:  #000000;\n",
       "        }    #T_b43b9020_ec1c_11eb_804f_08002705c719row5_col3 {\n",
       "            background-color:  #445acc;\n",
       "            color:  #f1f1f1;\n",
       "        }    #T_b43b9020_ec1c_11eb_804f_08002705c719row5_col4 {\n",
       "            background-color:  #f3c7b1;\n",
       "            color:  #000000;\n",
       "        }    #T_b43b9020_ec1c_11eb_804f_08002705c719row5_col5 {\n",
       "            background-color:  #b40426;\n",
       "            color:  #f1f1f1;\n",
       "        }    #T_b43b9020_ec1c_11eb_804f_08002705c719row5_col6 {\n",
       "            background-color:  #c12b30;\n",
       "            color:  #f1f1f1;\n",
       "        }    #T_b43b9020_ec1c_11eb_804f_08002705c719row6_col0 {\n",
       "            background-color:  #f5c1a9;\n",
       "            color:  #000000;\n",
       "        }    #T_b43b9020_ec1c_11eb_804f_08002705c719row6_col1 {\n",
       "            background-color:  #a2c1ff;\n",
       "            color:  #000000;\n",
       "        }    #T_b43b9020_ec1c_11eb_804f_08002705c719row6_col2 {\n",
       "            background-color:  #c9d7f0;\n",
       "            color:  #000000;\n",
       "        }    #T_b43b9020_ec1c_11eb_804f_08002705c719row6_col3 {\n",
       "            background-color:  #445acc;\n",
       "            color:  #f1f1f1;\n",
       "        }    #T_b43b9020_ec1c_11eb_804f_08002705c719row6_col4 {\n",
       "            background-color:  #f2cbb7;\n",
       "            color:  #000000;\n",
       "        }    #T_b43b9020_ec1c_11eb_804f_08002705c719row6_col5 {\n",
       "            background-color:  #c12b30;\n",
       "            color:  #f1f1f1;\n",
       "        }    #T_b43b9020_ec1c_11eb_804f_08002705c719row6_col6 {\n",
       "            background-color:  #b40426;\n",
       "            color:  #f1f1f1;\n",
       "        }</style><table id=\"T_b43b9020_ec1c_11eb_804f_08002705c719\" ><thead>    <tr>        <th class=\"blank level0\" ></th>        <th class=\"col_heading level0 col0\" >carrier_delay</th>        <th class=\"col_heading level0 col1\" >weather_delay</th>        <th class=\"col_heading level0 col2\" >nas_delay</th>        <th class=\"col_heading level0 col3\" >security_delay</th>        <th class=\"col_heading level0 col4\" >late_aircraft_delay</th>        <th class=\"col_heading level0 col5\" >dep_delay</th>        <th class=\"col_heading level0 col6\" >arr_delay</th>    </tr></thead><tbody>\n",
       "                <tr>\n",
       "                        <th id=\"T_b43b9020_ec1c_11eb_804f_08002705c719level0_row0\" class=\"row_heading level0 row0\" >carrier_delay</th>\n",
       "                        <td id=\"T_b43b9020_ec1c_11eb_804f_08002705c719row0_col0\" class=\"data row0 col0\" >1.000000</td>\n",
       "                        <td id=\"T_b43b9020_ec1c_11eb_804f_08002705c719row0_col1\" class=\"data row0 col1\" >-0.003142</td>\n",
       "                        <td id=\"T_b43b9020_ec1c_11eb_804f_08002705c719row0_col2\" class=\"data row0 col2\" >0.017504</td>\n",
       "                        <td id=\"T_b43b9020_ec1c_11eb_804f_08002705c719row0_col3\" class=\"data row0 col3\" >-0.000372</td>\n",
       "                        <td id=\"T_b43b9020_ec1c_11eb_804f_08002705c719row0_col4\" class=\"data row0 col4\" >0.056977</td>\n",
       "                        <td id=\"T_b43b9020_ec1c_11eb_804f_08002705c719row0_col5\" class=\"data row0 col5\" >0.658308</td>\n",
       "                        <td id=\"T_b43b9020_ec1c_11eb_804f_08002705c719row0_col6\" class=\"data row0 col6\" >0.634712</td>\n",
       "            </tr>\n",
       "            <tr>\n",
       "                        <th id=\"T_b43b9020_ec1c_11eb_804f_08002705c719level0_row1\" class=\"row_heading level0 row1\" >weather_delay</th>\n",
       "                        <td id=\"T_b43b9020_ec1c_11eb_804f_08002705c719row1_col0\" class=\"data row1 col0\" >-0.003142</td>\n",
       "                        <td id=\"T_b43b9020_ec1c_11eb_804f_08002705c719row1_col1\" class=\"data row1 col1\" >1.000000</td>\n",
       "                        <td id=\"T_b43b9020_ec1c_11eb_804f_08002705c719row1_col2\" class=\"data row1 col2\" >0.021546</td>\n",
       "                        <td id=\"T_b43b9020_ec1c_11eb_804f_08002705c719row1_col3\" class=\"data row1 col3\" >-0.000586</td>\n",
       "                        <td id=\"T_b43b9020_ec1c_11eb_804f_08002705c719row1_col4\" class=\"data row1 col4\" >0.028737</td>\n",
       "                        <td id=\"T_b43b9020_ec1c_11eb_804f_08002705c719row1_col5\" class=\"data row1 col5\" >0.311952</td>\n",
       "                        <td id=\"T_b43b9020_ec1c_11eb_804f_08002705c719row1_col6\" class=\"data row1 col6\" >0.308455</td>\n",
       "            </tr>\n",
       "            <tr>\n",
       "                        <th id=\"T_b43b9020_ec1c_11eb_804f_08002705c719level0_row2\" class=\"row_heading level0 row2\" >nas_delay</th>\n",
       "                        <td id=\"T_b43b9020_ec1c_11eb_804f_08002705c719row2_col0\" class=\"data row2 col0\" >0.017504</td>\n",
       "                        <td id=\"T_b43b9020_ec1c_11eb_804f_08002705c719row2_col1\" class=\"data row2 col1\" >0.021546</td>\n",
       "                        <td id=\"T_b43b9020_ec1c_11eb_804f_08002705c719row2_col2\" class=\"data row2 col2\" >1.000000</td>\n",
       "                        <td id=\"T_b43b9020_ec1c_11eb_804f_08002705c719row2_col3\" class=\"data row2 col3\" >0.000479</td>\n",
       "                        <td id=\"T_b43b9020_ec1c_11eb_804f_08002705c719row2_col4\" class=\"data row2 col4\" >0.049554</td>\n",
       "                        <td id=\"T_b43b9020_ec1c_11eb_804f_08002705c719row2_col5\" class=\"data row2 col5\" >0.343225</td>\n",
       "                        <td id=\"T_b43b9020_ec1c_11eb_804f_08002705c719row2_col6\" class=\"data row2 col6\" >0.426149</td>\n",
       "            </tr>\n",
       "            <tr>\n",
       "                        <th id=\"T_b43b9020_ec1c_11eb_804f_08002705c719level0_row3\" class=\"row_heading level0 row3\" >security_delay</th>\n",
       "                        <td id=\"T_b43b9020_ec1c_11eb_804f_08002705c719row3_col0\" class=\"data row3 col0\" >-0.000372</td>\n",
       "                        <td id=\"T_b43b9020_ec1c_11eb_804f_08002705c719row3_col1\" class=\"data row3 col1\" >-0.000586</td>\n",
       "                        <td id=\"T_b43b9020_ec1c_11eb_804f_08002705c719row3_col2\" class=\"data row3 col2\" >0.000479</td>\n",
       "                        <td id=\"T_b43b9020_ec1c_11eb_804f_08002705c719row3_col3\" class=\"data row3 col3\" >1.000000</td>\n",
       "                        <td id=\"T_b43b9020_ec1c_11eb_804f_08002705c719row3_col4\" class=\"data row3 col4\" >0.006532</td>\n",
       "                        <td id=\"T_b43b9020_ec1c_11eb_804f_08002705c719row3_col5\" class=\"data row3 col5\" >0.034274</td>\n",
       "                        <td id=\"T_b43b9020_ec1c_11eb_804f_08002705c719row3_col6\" class=\"data row3 col6\" >0.033448</td>\n",
       "            </tr>\n",
       "            <tr>\n",
       "                        <th id=\"T_b43b9020_ec1c_11eb_804f_08002705c719level0_row4\" class=\"row_heading level0 row4\" >late_aircraft_delay</th>\n",
       "                        <td id=\"T_b43b9020_ec1c_11eb_804f_08002705c719row4_col0\" class=\"data row4 col0\" >0.056977</td>\n",
       "                        <td id=\"T_b43b9020_ec1c_11eb_804f_08002705c719row4_col1\" class=\"data row4 col1\" >0.028737</td>\n",
       "                        <td id=\"T_b43b9020_ec1c_11eb_804f_08002705c719row4_col2\" class=\"data row4 col2\" >0.049554</td>\n",
       "                        <td id=\"T_b43b9020_ec1c_11eb_804f_08002705c719row4_col3\" class=\"data row4 col3\" >0.006532</td>\n",
       "                        <td id=\"T_b43b9020_ec1c_11eb_804f_08002705c719row4_col4\" class=\"data row4 col4\" >1.000000</td>\n",
       "                        <td id=\"T_b43b9020_ec1c_11eb_804f_08002705c719row4_col5\" class=\"data row4 col5\" >0.619066</td>\n",
       "                        <td id=\"T_b43b9020_ec1c_11eb_804f_08002705c719row4_col6\" class=\"data row4 col6\" >0.600794</td>\n",
       "            </tr>\n",
       "            <tr>\n",
       "                        <th id=\"T_b43b9020_ec1c_11eb_804f_08002705c719level0_row5\" class=\"row_heading level0 row5\" >dep_delay</th>\n",
       "                        <td id=\"T_b43b9020_ec1c_11eb_804f_08002705c719row5_col0\" class=\"data row5 col0\" >0.658308</td>\n",
       "                        <td id=\"T_b43b9020_ec1c_11eb_804f_08002705c719row5_col1\" class=\"data row5 col1\" >0.311952</td>\n",
       "                        <td id=\"T_b43b9020_ec1c_11eb_804f_08002705c719row5_col2\" class=\"data row5 col2\" >0.343225</td>\n",
       "                        <td id=\"T_b43b9020_ec1c_11eb_804f_08002705c719row5_col3\" class=\"data row5 col3\" >0.034274</td>\n",
       "                        <td id=\"T_b43b9020_ec1c_11eb_804f_08002705c719row5_col4\" class=\"data row5 col4\" >0.619066</td>\n",
       "                        <td id=\"T_b43b9020_ec1c_11eb_804f_08002705c719row5_col5\" class=\"data row5 col5\" >1.000000</td>\n",
       "                        <td id=\"T_b43b9020_ec1c_11eb_804f_08002705c719row5_col6\" class=\"data row5 col6\" >0.962281</td>\n",
       "            </tr>\n",
       "            <tr>\n",
       "                        <th id=\"T_b43b9020_ec1c_11eb_804f_08002705c719level0_row6\" class=\"row_heading level0 row6\" >arr_delay</th>\n",
       "                        <td id=\"T_b43b9020_ec1c_11eb_804f_08002705c719row6_col0\" class=\"data row6 col0\" >0.634712</td>\n",
       "                        <td id=\"T_b43b9020_ec1c_11eb_804f_08002705c719row6_col1\" class=\"data row6 col1\" >0.308455</td>\n",
       "                        <td id=\"T_b43b9020_ec1c_11eb_804f_08002705c719row6_col2\" class=\"data row6 col2\" >0.426149</td>\n",
       "                        <td id=\"T_b43b9020_ec1c_11eb_804f_08002705c719row6_col3\" class=\"data row6 col3\" >0.033448</td>\n",
       "                        <td id=\"T_b43b9020_ec1c_11eb_804f_08002705c719row6_col4\" class=\"data row6 col4\" >0.600794</td>\n",
       "                        <td id=\"T_b43b9020_ec1c_11eb_804f_08002705c719row6_col5\" class=\"data row6 col5\" >0.962281</td>\n",
       "                        <td id=\"T_b43b9020_ec1c_11eb_804f_08002705c719row6_col6\" class=\"data row6 col6\" >1.000000</td>\n",
       "            </tr>\n",
       "    </tbody></table>"
      ],
      "text/plain": [
       "<pandas.io.formats.style.Styler at 0x7fd4199a0460>"
      ]
     },
     "execution_count": 64,
     "metadata": {},
     "output_type": "execute_result"
    }
   ],
   "source": [
    "import matplotlib.pyplot as plt\n",
    "\n",
    "corr = data.corr()\n",
    "corr.style.background_gradient(cmap='coolwarm')\n",
    "# 'RdBu_r', 'BrBG_r', & PuOr_r are other good diverging colormaps"
   ]
  },
  {
   "cell_type": "markdown",
   "metadata": {},
   "source": [
    "### Outlier Removal"
   ]
  },
  {
   "cell_type": "markdown",
   "metadata": {},
   "source": [
    "### **Task 1**: Test the hypothesis that the delay is from Normal distribution. and that **mean** of the delay is 0. Be careful about the outliers."
   ]
  },
  {
   "cell_type": "code",
   "execution_count": 68,
   "metadata": {},
   "outputs": [
    {
     "data": {
      "image/png": "[encoded data removed]",
      "text/plain": [
       "<Figure size 288x288 with 1 Axes>"
      ]
     },
     "metadata": {
      "needs_background": "light"
     },
     "output_type": "display_data"
    }
   ],
   "source": [
    "#check for normal distribution\n",
    "data.arr_delay.hist(figsize=(4,4))\n",
    "plt.show()"
   ]
  },
  {
   "cell_type": "markdown",
   "metadata": {},
   "source": [
    "### **Task 4**: How taxi times changing during the day? Does higher traffic lead to bigger taxi times?"
   ]
  },
  {
   "cell_type": "code",
   "execution_count": 80,
   "metadata": {},
   "outputs": [
    {
     "ename": "KeyboardInterrupt",
     "evalue": "",
     "output_type": "error",
     "traceback": [
      "\u001b[0;31m---------------------------------------------------------------------------\u001b[0m",
      "\u001b[0;31mKeyboardInterrupt\u001b[0m                         Traceback (most recent call last)",
      "\u001b[0;32m<ipython-input-80-5a61586d1b0f>\u001b[0m in \u001b[0;36m<module>\u001b[0;34m\u001b[0m\n\u001b[1;32m      9\u001b[0m \u001b[0;34m\u001b[0m\u001b[0m\n\u001b[1;32m     10\u001b[0m \u001b[0msql\u001b[0m \u001b[0;34m=\u001b[0m \u001b[0;34m'SELECT taxi_in,taxi_out,crs_dep_time,crs_arr_time FROM flights ORDER BY RANDOM() LIMIT 100000;'\u001b[0m\u001b[0;34m\u001b[0m\u001b[0;34m\u001b[0m\u001b[0m\n\u001b[0;32m---> 11\u001b[0;31m \u001b[0mdata_taxi\u001b[0m \u001b[0;34m=\u001b[0m \u001b[0mpd\u001b[0m\u001b[0;34m.\u001b[0m\u001b[0mread_sql_query\u001b[0m\u001b[0;34m(\u001b[0m\u001b[0msql\u001b[0m\u001b[0;34m,\u001b[0m\u001b[0mcon\u001b[0m\u001b[0;34m)\u001b[0m\u001b[0;34m\u001b[0m\u001b[0;34m\u001b[0m\u001b[0m\n\u001b[0m\u001b[1;32m     12\u001b[0m \u001b[0mcon\u001b[0m\u001b[0;34m.\u001b[0m\u001b[0mclose\u001b[0m\u001b[0;34m(\u001b[0m\u001b[0;34m)\u001b[0m\u001b[0;34m\u001b[0m\u001b[0;34m\u001b[0m\u001b[0m\n",
      "\u001b[0;32m~/anaconda3/envs/myenv/lib/python3.8/site-packages/pandas/io/sql.py\u001b[0m in \u001b[0;36mread_sql_query\u001b[0;34m(sql, con, index_col, coerce_float, params, parse_dates, chunksize)\u001b[0m\n\u001b[1;32m    324\u001b[0m     \"\"\"\n\u001b[1;32m    325\u001b[0m     \u001b[0mpandas_sql\u001b[0m \u001b[0;34m=\u001b[0m \u001b[0mpandasSQL_builder\u001b[0m\u001b[0;34m(\u001b[0m\u001b[0mcon\u001b[0m\u001b[0;34m)\u001b[0m\u001b[0;34m\u001b[0m\u001b[0;34m\u001b[0m\u001b[0m\n\u001b[0;32m--> 326\u001b[0;31m     return pandas_sql.read_query(\n\u001b[0m\u001b[1;32m    327\u001b[0m         \u001b[0msql\u001b[0m\u001b[0;34m,\u001b[0m\u001b[0;34m\u001b[0m\u001b[0;34m\u001b[0m\u001b[0m\n\u001b[1;32m    328\u001b[0m         \u001b[0mindex_col\u001b[0m\u001b[0;34m=\u001b[0m\u001b[0mindex_col\u001b[0m\u001b[0;34m,\u001b[0m\u001b[0;34m\u001b[0m\u001b[0;34m\u001b[0m\u001b[0m\n",
      "\u001b[0;32m~/anaconda3/envs/myenv/lib/python3.8/site-packages/pandas/io/sql.py\u001b[0m in \u001b[0;36mread_query\u001b[0;34m(self, sql, index_col, coerce_float, params, parse_dates, chunksize)\u001b[0m\n\u001b[1;32m   1631\u001b[0m \u001b[0;34m\u001b[0m\u001b[0m\n\u001b[1;32m   1632\u001b[0m         \u001b[0margs\u001b[0m \u001b[0;34m=\u001b[0m \u001b[0m_convert_params\u001b[0m\u001b[0;34m(\u001b[0m\u001b[0msql\u001b[0m\u001b[0;34m,\u001b[0m \u001b[0mparams\u001b[0m\u001b[0;34m)\u001b[0m\u001b[0;34m\u001b[0m\u001b[0;34m\u001b[0m\u001b[0m\n\u001b[0;32m-> 1633\u001b[0;31m         \u001b[0mcursor\u001b[0m \u001b[0;34m=\u001b[0m \u001b[0mself\u001b[0m\u001b[0;34m.\u001b[0m\u001b[0mexecute\u001b[0m\u001b[0;34m(\u001b[0m\u001b[0;34m*\u001b[0m\u001b[0margs\u001b[0m\u001b[0;34m)\u001b[0m\u001b[0;34m\u001b[0m\u001b[0;34m\u001b[0m\u001b[0m\n\u001b[0m\u001b[1;32m   1634\u001b[0m         \u001b[0mcolumns\u001b[0m \u001b[0;34m=\u001b[0m \u001b[0;34m[\u001b[0m\u001b[0mcol_desc\u001b[0m\u001b[0;34m[\u001b[0m\u001b[0;36m0\u001b[0m\u001b[0;34m]\u001b[0m \u001b[0;32mfor\u001b[0m \u001b[0mcol_desc\u001b[0m \u001b[0;32min\u001b[0m \u001b[0mcursor\u001b[0m\u001b[0;34m.\u001b[0m\u001b[0mdescription\u001b[0m\u001b[0;34m]\u001b[0m\u001b[0;34m\u001b[0m\u001b[0;34m\u001b[0m\u001b[0m\n\u001b[1;32m   1635\u001b[0m \u001b[0;34m\u001b[0m\u001b[0m\n",
      "\u001b[0;32m~/anaconda3/envs/myenv/lib/python3.8/site-packages/pandas/io/sql.py\u001b[0m in \u001b[0;36mexecute\u001b[0;34m(self, *args, **kwargs)\u001b[0m\n\u001b[1;32m   1584\u001b[0m             \u001b[0mcur\u001b[0m \u001b[0;34m=\u001b[0m \u001b[0mself\u001b[0m\u001b[0;34m.\u001b[0m\u001b[0mcon\u001b[0m\u001b[0;34m.\u001b[0m\u001b[0mcursor\u001b[0m\u001b[0;34m(\u001b[0m\u001b[0;34m)\u001b[0m\u001b[0;34m\u001b[0m\u001b[0;34m\u001b[0m\u001b[0m\n\u001b[1;32m   1585\u001b[0m         \u001b[0;32mtry\u001b[0m\u001b[0;34m:\u001b[0m\u001b[0;34m\u001b[0m\u001b[0;34m\u001b[0m\u001b[0m\n\u001b[0;32m-> 1586\u001b[0;31m             \u001b[0mcur\u001b[0m\u001b[0;34m.\u001b[0m\u001b[0mexecute\u001b[0m\u001b[0;34m(\u001b[0m\u001b[0;34m*\u001b[0m\u001b[0margs\u001b[0m\u001b[0;34m,\u001b[0m \u001b[0;34m**\u001b[0m\u001b[0mkwargs\u001b[0m\u001b[0;34m)\u001b[0m\u001b[0;34m\u001b[0m\u001b[0;34m\u001b[0m\u001b[0m\n\u001b[0m\u001b[1;32m   1587\u001b[0m             \u001b[0;32mreturn\u001b[0m \u001b[0mcur\u001b[0m\u001b[0;34m\u001b[0m\u001b[0;34m\u001b[0m\u001b[0m\n\u001b[1;32m   1588\u001b[0m         \u001b[0;32mexcept\u001b[0m \u001b[0mException\u001b[0m \u001b[0;32mas\u001b[0m \u001b[0mexc\u001b[0m\u001b[0;34m:\u001b[0m\u001b[0;34m\u001b[0m\u001b[0;34m\u001b[0m\u001b[0m\n",
      "\u001b[0;32m~/anaconda3/envs/myenv/lib/python3.8/encodings/utf_8.py\u001b[0m in \u001b[0;36mdecode\u001b[0;34m(input, errors)\u001b[0m\n\u001b[1;32m     13\u001b[0m \u001b[0mencode\u001b[0m \u001b[0;34m=\u001b[0m \u001b[0mcodecs\u001b[0m\u001b[0;34m.\u001b[0m\u001b[0mutf_8_encode\u001b[0m\u001b[0;34m\u001b[0m\u001b[0;34m\u001b[0m\u001b[0m\n\u001b[1;32m     14\u001b[0m \u001b[0;34m\u001b[0m\u001b[0m\n\u001b[0;32m---> 15\u001b[0;31m \u001b[0;32mdef\u001b[0m \u001b[0mdecode\u001b[0m\u001b[0;34m(\u001b[0m\u001b[0minput\u001b[0m\u001b[0;34m,\u001b[0m \u001b[0merrors\u001b[0m\u001b[0;34m=\u001b[0m\u001b[0;34m'strict'\u001b[0m\u001b[0;34m)\u001b[0m\u001b[0;34m:\u001b[0m\u001b[0;34m\u001b[0m\u001b[0;34m\u001b[0m\u001b[0m\n\u001b[0m\u001b[1;32m     16\u001b[0m     \u001b[0;32mreturn\u001b[0m \u001b[0mcodecs\u001b[0m\u001b[0;34m.\u001b[0m\u001b[0mutf_8_decode\u001b[0m\u001b[0;34m(\u001b[0m\u001b[0minput\u001b[0m\u001b[0;34m,\u001b[0m \u001b[0merrors\u001b[0m\u001b[0;34m,\u001b[0m \u001b[0;32mTrue\u001b[0m\u001b[0;34m)\u001b[0m\u001b[0;34m\u001b[0m\u001b[0;34m\u001b[0m\u001b[0m\n\u001b[1;32m     17\u001b[0m \u001b[0;34m\u001b[0m\u001b[0m\n",
      "\u001b[0;31mKeyboardInterrupt\u001b[0m: "
     ]
    }
   ],
   "source": [
    "# Connect to flight database via postgress\n",
    "con = psycopg2.connect(\n",
    "    host =\"mid-term-project.ca2jkepgjpne.us-east-2.rds.amazonaws.com\",\n",
    "    port = 5432,\n",
    "    user = \"lhl_student\",\n",
    "    password = \"lhl_student\",\n",
    "    database =  'mid_term_project'\n",
    ")\n",
    "\n",
    "sql = 'SELECT taxi_in,taxi_out,crs_dep_time,crs_arr_time FROM flights ORDER BY RANDOM() LIMIT 100000;'\n",
    "data_taxi = pd.read_sql_query(sql,con)\n",
    "con.close()"
   ]
  },
  {
   "cell_type": "code",
   "execution_count": 106,
   "metadata": {},
   "outputs": [
    {
     "data": {
      "text/html": [
       "<div>\n",
       "<style scoped>\n",
       "    .dataframe tbody tr th:only-of-type {\n",
       "        vertical-align: middle;\n",
       "    }\n",
       "\n",
       "    .dataframe tbody tr th {\n",
       "        vertical-align: top;\n",
       "    }\n",
       "\n",
       "    .dataframe thead th {\n",
       "        text-align: right;\n",
       "    }\n",
       "</style>\n",
       "<table border=\"1\" class=\"dataframe\">\n",
       "  <thead>\n",
       "    <tr style=\"text-align: right;\">\n",
       "      <th></th>\n",
       "      <th>taxi_in</th>\n",
       "      <th>taxi_out</th>\n",
       "      <th>crs_dep_time</th>\n",
       "      <th>crs_arr_time</th>\n",
       "    </tr>\n",
       "  </thead>\n",
       "  <tbody>\n",
       "    <tr>\n",
       "      <th>0</th>\n",
       "      <td>3.0</td>\n",
       "      <td>9.0</td>\n",
       "      <td>1420</td>\n",
       "      <td>1542</td>\n",
       "    </tr>\n",
       "    <tr>\n",
       "      <th>1</th>\n",
       "      <td>4.0</td>\n",
       "      <td>11.0</td>\n",
       "      <td>820</td>\n",
       "      <td>1021</td>\n",
       "    </tr>\n",
       "    <tr>\n",
       "      <th>2</th>\n",
       "      <td>2.0</td>\n",
       "      <td>8.0</td>\n",
       "      <td>1420</td>\n",
       "      <td>1610</td>\n",
       "    </tr>\n",
       "    <tr>\n",
       "      <th>3</th>\n",
       "      <td>10.0</td>\n",
       "      <td>10.0</td>\n",
       "      <td>1255</td>\n",
       "      <td>1425</td>\n",
       "    </tr>\n",
       "    <tr>\n",
       "      <th>4</th>\n",
       "      <td>6.0</td>\n",
       "      <td>19.0</td>\n",
       "      <td>805</td>\n",
       "      <td>1028</td>\n",
       "    </tr>\n",
       "  </tbody>\n",
       "</table>\n",
       "</div>"
      ],
      "text/plain": [
       "   taxi_in  taxi_out  crs_dep_time  crs_arr_time\n",
       "0      3.0       9.0          1420          1542\n",
       "1      4.0      11.0           820          1021\n",
       "2      2.0       8.0          1420          1610\n",
       "3     10.0      10.0          1255          1425\n",
       "4      6.0      19.0           805          1028"
      ]
     },
     "execution_count": 106,
     "metadata": {},
     "output_type": "execute_result"
    }
   ],
   "source": [
    "data_taxi.head()"
   ]
  },
  {
   "cell_type": "code",
   "execution_count": 108,
   "metadata": {},
   "outputs": [
    {
     "name": "stderr",
     "output_type": "stream",
     "text": [
      "No handles with labels found to put in legend.\n"
     ]
    },
    {
     "data": {
      "image/png": "[encoded data removed]",
      "text/plain": [
       "<Figure size 864x576 with 1 Axes>"
      ]
     },
     "metadata": {
      "needs_background": "light"
     },
     "output_type": "display_data"
    }
   ],
   "source": [
    "# ARRIVAL TIME VS TAXI TIME\n",
    "# set figure size\n",
    "plt.rcParams[\"figure.figsize\"] = (12,8)\n",
    "# plot clusters\n",
    "plt.scatter(data_taxi['crs_arr_time'],\n",
    "            data_taxi['taxi_in'],\n",
    "            )\n",
    "\n",
    "\n",
    "plt.legend(bbox_to_anchor=(1.04,0.5), loc=\"center left\", borderaxespad=0)\n",
    "plt.xlabel('Time of Day')\n",
    "plt.ylabel('Taxi_in Time (minutes)')\n",
    "plt.title('Taxi_in Time vs Time of Day')\n",
    "plt.grid()\n",
    "plt.show()"
   ]
  },
  {
   "cell_type": "markdown",
   "metadata": {},
   "source": [
    "Above visualisation shows significantly lower taxi_in times earlier on in the day, implies addition of taxi_in times as a feature could improve model accuracy. Addition of taxi_out times could also be included but see task 5 logic: airlines are able to compensate by lowering delays during flight.\n",
    "\n",
    "Below visualisation shows similar findings from taxi_out times."
   ]
  },
  {
   "cell_type": "code",
   "execution_count": 109,
   "metadata": {},
   "outputs": [
    {
     "name": "stderr",
     "output_type": "stream",
     "text": [
      "No handles with labels found to put in legend.\n"
     ]
    },
    {
     "data": {
      "image/png": "[encoded data removed]",
      "text/plain": [
       "<Figure size 864x576 with 1 Axes>"
      ]
     },
     "metadata": {
      "needs_background": "light"
     },
     "output_type": "display_data"
    }
   ],
   "source": [
    "# ARRIVAL TIME VS TAXI TIME\n",
    "# set figure size\n",
    "plt.rcParams[\"figure.figsize\"] = (12,8)\n",
    "# plot clusters\n",
    "plt.scatter(data_taxi['crs_dep_time'],\n",
    "            data_taxi['taxi_in'],\n",
    "            )\n",
    "\n",
    "\n",
    "plt.legend(bbox_to_anchor=(1.04,0.5), loc=\"center left\", borderaxespad=0)\n",
    "plt.xlabel('Time of Day')\n",
    "plt.ylabel('Taxi_out Time (minutes)')\n",
    "plt.title('Taxi_out Time vs Time of Day')\n",
    "plt.grid()\n",
    "plt.show()"
   ]
  },
  {
   "cell_type": "markdown",
   "metadata": {},
   "source": [
    "### **Task 5**: What is the average percentage of delays that is already created before departure? (aka are arrival delays caused by departure delays?) Are airlines able to lower the delay during the flights?"
   ]
  },
  {
   "cell_type": "code",
   "execution_count": 155,
   "metadata": {},
   "outputs": [],
   "source": [
    "data_delays = data[['fl_date','op_unique_carrier','arr_delay','dep_delay']]\n",
    "data_delays = data_delays.groupby(by = 'op_unique_carrier').mean()\n",
    "data_delays.reset_index(inplace = True)\n",
    "data_delays.columns = ['op_carrier','avg_arr_delay','avg_dep_delay']\n",
    "\n",
    "#Export as csv \n",
    "data_delays.to_csv(path_or_buf = '~/Bootcamp/MIDTERM PROJECT/carrier_delays.csv')\n"
   ]
  },
  {
   "cell_type": "code",
   "execution_count": 150,
   "metadata": {},
   "outputs": [
    {
     "data": {
      "image/png": "[encoded data removed]",
      "text/plain": [
       "<Figure size 1500x900 with 1 Axes>"
      ]
     },
     "metadata": {},
     "output_type": "display_data"
    }
   ],
   "source": [
    "#PLOT AVERAGE ARRIVAL AND DEPARTURE DELAYS\n",
    "mpl.rcParams.update(mpl.rcParamsDefault)\n",
    "mpl.rcParams['hatch.linewidth'] = 1.8  \n",
    "\n",
    "fig = plt.figure(1, figsize=(15,9))\n",
    "ax = sns.barplot(x=\"avg_dep_delay\", y=\"op_carrier\", data=data_delays, color=\"lightskyblue\", ci=None)\n",
    "ax = sns.barplot(x=\"avg_arr_delay\", y=\"op_carrier\", data=data_delays, color=\"r\", hatch = '///', alpha = 0.0, ci=None)\n",
    "ax.yaxis.label.set_visible(False)\n",
    "plt.title('Departure vs Arrival Delay')\n",
    "plt.xlabel('Mean delay (min)', fontsize=14, labelpad=10);"
   ]
  },
  {
   "cell_type": "markdown",
   "metadata": {},
   "source": []
  },
  {
   "cell_type": "code",
   "execution_count": null,
   "metadata": {},
   "outputs": [],
   "source": []
  }
 ],
 "metadata": {
  "interpreter": {
   "hash": "8081f90547afca37de35b9b55ce64e18fb565f570f96ad62d440ae0df9df4a0a"
  },
  "kernelspec": {
   "display_name": "Python 3.8.10 64-bit ('myenv': conda)",
   "name": "python3"
  },
  "language_info": {
   "codemirror_mode": {
    "name": "ipython",
    "version": 3
   },
   "file_extension": ".py",
   "mimetype": "text/x-python",
   "name": "python",
   "nbconvert_exporter": "python",
   "pygments_lexer": "ipython3",
   "version": "3.8.10"
  },
  "orig_nbformat": 4
 },
 "nbformat": 4,
 "nbformat_minor": 2
}